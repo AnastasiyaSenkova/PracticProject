{
  "metadata": {
    "ExecuteTimeLog": [
      {
        "duration": 415,
        "start_time": "2023-01-23T05:15:08.757Z"
      },
      {
        "duration": 3932,
        "start_time": "2023-01-23T05:15:10.233Z"
      },
      {
        "duration": 43,
        "start_time": "2023-01-23T05:18:30.512Z"
      },
      {
        "duration": 53,
        "start_time": "2023-01-23T05:24:43.183Z"
      },
      {
        "duration": 32,
        "start_time": "2023-01-23T05:25:12.587Z"
      },
      {
        "duration": 102,
        "start_time": "2023-01-23T05:29:51.615Z"
      },
      {
        "duration": 9,
        "start_time": "2023-01-23T05:30:15.880Z"
      },
      {
        "duration": 32,
        "start_time": "2023-01-23T05:31:25.037Z"
      },
      {
        "duration": 9,
        "start_time": "2023-01-23T05:34:29.827Z"
      },
      {
        "duration": 723,
        "start_time": "2023-01-23T05:34:36.839Z"
      },
      {
        "duration": 52,
        "start_time": "2023-01-23T05:34:40.121Z"
      },
      {
        "duration": 1300,
        "start_time": "2023-01-23T05:38:21.546Z"
      },
      {
        "duration": 14,
        "start_time": "2023-01-23T05:41:36.619Z"
      },
      {
        "duration": 1293,
        "start_time": "2023-01-23T05:41:43.454Z"
      },
      {
        "duration": 146,
        "start_time": "2023-01-23T05:41:45.420Z"
      },
      {
        "duration": 491,
        "start_time": "2023-01-23T05:43:08.490Z"
      },
      {
        "duration": 997,
        "start_time": "2023-01-23T05:43:08.984Z"
      },
      {
        "duration": 34,
        "start_time": "2023-01-23T05:43:09.983Z"
      },
      {
        "duration": 98,
        "start_time": "2023-01-23T05:43:10.019Z"
      },
      {
        "duration": 0,
        "start_time": "2023-01-23T05:43:10.120Z"
      },
      {
        "duration": 182,
        "start_time": "2023-01-23T05:43:18.278Z"
      },
      {
        "duration": 995,
        "start_time": "2023-01-23T05:43:20.937Z"
      },
      {
        "duration": 1117,
        "start_time": "2023-01-23T05:45:40.273Z"
      },
      {
        "duration": 925,
        "start_time": "2023-01-23T05:45:49.243Z"
      },
      {
        "duration": 1742,
        "start_time": "2023-01-23T05:45:53.425Z"
      },
      {
        "duration": 1770,
        "start_time": "2023-01-23T05:46:27.178Z"
      },
      {
        "duration": 1965,
        "start_time": "2023-01-23T05:46:58.163Z"
      },
      {
        "duration": 20,
        "start_time": "2023-01-23T05:47:22.244Z"
      },
      {
        "duration": 41,
        "start_time": "2023-01-23T05:48:15.830Z"
      },
      {
        "duration": 21,
        "start_time": "2023-01-23T05:48:38.111Z"
      },
      {
        "duration": 19,
        "start_time": "2023-01-23T05:51:37.136Z"
      },
      {
        "duration": 19,
        "start_time": "2023-01-23T05:51:49.432Z"
      },
      {
        "duration": 18,
        "start_time": "2023-01-23T05:53:04.144Z"
      },
      {
        "duration": 27,
        "start_time": "2023-01-23T05:54:08.931Z"
      },
      {
        "duration": 14,
        "start_time": "2023-01-23T05:54:55.249Z"
      },
      {
        "duration": 19106,
        "start_time": "2023-01-23T05:55:06.040Z"
      },
      {
        "duration": 1398,
        "start_time": "2023-01-23T05:55:53.969Z"
      },
      {
        "duration": 4296,
        "start_time": "2023-01-23T05:55:55.372Z"
      },
      {
        "duration": 31,
        "start_time": "2023-01-23T05:55:59.671Z"
      },
      {
        "duration": 202,
        "start_time": "2023-01-23T05:55:59.704Z"
      },
      {
        "duration": 17186,
        "start_time": "2023-01-23T05:55:59.914Z"
      },
      {
        "duration": 1140,
        "start_time": "2023-01-23T05:56:17.103Z"
      },
      {
        "duration": 20993,
        "start_time": "2023-01-23T05:59:34.950Z"
      },
      {
        "duration": 0,
        "start_time": "2023-01-23T05:59:55.960Z"
      },
      {
        "duration": 21221,
        "start_time": "2023-01-23T06:00:15.984Z"
      },
      {
        "duration": 26,
        "start_time": "2023-01-23T06:01:02.646Z"
      },
      {
        "duration": 324,
        "start_time": "2023-01-23T06:01:11.441Z"
      },
      {
        "duration": 23051,
        "start_time": "2023-01-23T06:02:40.478Z"
      },
      {
        "duration": 240,
        "start_time": "2023-01-23T06:03:03.531Z"
      },
      {
        "duration": 9,
        "start_time": "2023-01-23T06:03:42.652Z"
      },
      {
        "duration": 11,
        "start_time": "2023-01-23T06:03:55.773Z"
      },
      {
        "duration": 66,
        "start_time": "2023-01-23T06:05:43.666Z"
      },
      {
        "duration": 159,
        "start_time": "2023-01-23T06:05:47.876Z"
      },
      {
        "duration": 19,
        "start_time": "2023-01-23T06:05:59.045Z"
      },
      {
        "duration": 34963,
        "start_time": "2023-01-23T06:06:12.377Z"
      },
      {
        "duration": 1276,
        "start_time": "2023-01-23T06:06:55.340Z"
      },
      {
        "duration": 1337,
        "start_time": "2023-01-23T06:06:56.625Z"
      },
      {
        "duration": 56,
        "start_time": "2023-01-23T06:06:57.965Z"
      },
      {
        "duration": 171,
        "start_time": "2023-01-23T06:06:58.023Z"
      },
      {
        "duration": 19493,
        "start_time": "2023-01-23T06:06:58.203Z"
      },
      {
        "duration": 20570,
        "start_time": "2023-01-23T06:07:17.698Z"
      },
      {
        "duration": 251,
        "start_time": "2023-01-23T06:07:38.273Z"
      },
      {
        "duration": 10,
        "start_time": "2023-01-23T06:07:58.420Z"
      },
      {
        "duration": 229,
        "start_time": "2023-01-23T06:09:31.992Z"
      },
      {
        "duration": 33423,
        "start_time": "2023-01-23T06:10:04.581Z"
      },
      {
        "duration": 985,
        "start_time": "2023-01-23T06:12:49.441Z"
      },
      {
        "duration": 142,
        "start_time": "2023-01-23T06:13:00.777Z"
      },
      {
        "duration": 92,
        "start_time": "2023-01-23T06:13:01.663Z"
      },
      {
        "duration": 67,
        "start_time": "2023-01-23T06:13:08.219Z"
      },
      {
        "duration": 397,
        "start_time": "2023-01-23T06:13:19.166Z"
      },
      {
        "duration": 165,
        "start_time": "2023-01-23T06:13:22.235Z"
      },
      {
        "duration": 11,
        "start_time": "2023-01-23T06:13:29.637Z"
      },
      {
        "duration": 78,
        "start_time": "2023-01-23T06:19:21.078Z"
      },
      {
        "duration": 29,
        "start_time": "2023-01-23T06:20:49.537Z"
      },
      {
        "duration": 20,
        "start_time": "2023-01-23T06:21:04.216Z"
      },
      {
        "duration": 50,
        "start_time": "2023-01-23T06:21:56.032Z"
      },
      {
        "duration": 32,
        "start_time": "2023-01-23T06:22:22.325Z"
      },
      {
        "duration": 1794,
        "start_time": "2023-01-23T06:22:22.833Z"
      },
      {
        "duration": 46,
        "start_time": "2023-01-23T06:22:27.720Z"
      },
      {
        "duration": 1198,
        "start_time": "2023-01-23T06:24:57.090Z"
      },
      {
        "duration": 1212,
        "start_time": "2023-01-23T06:24:58.291Z"
      },
      {
        "duration": 25,
        "start_time": "2023-01-23T06:24:59.505Z"
      },
      {
        "duration": 188,
        "start_time": "2023-01-23T06:24:59.533Z"
      },
      {
        "duration": 121,
        "start_time": "2023-01-23T06:24:59.732Z"
      },
      {
        "duration": 62,
        "start_time": "2023-01-23T06:24:59.856Z"
      },
      {
        "duration": 70,
        "start_time": "2023-01-23T06:24:59.926Z"
      },
      {
        "duration": 124,
        "start_time": "2023-01-23T06:24:59.998Z"
      },
      {
        "duration": 150,
        "start_time": "2023-01-23T06:25:00.128Z"
      },
      {
        "duration": 531,
        "start_time": "2023-01-23T06:25:00.281Z"
      },
      {
        "duration": 238,
        "start_time": "2023-01-23T06:25:00.822Z"
      },
      {
        "duration": 45,
        "start_time": "2023-01-23T06:25:01.062Z"
      },
      {
        "duration": 32,
        "start_time": "2023-01-23T06:33:42.483Z"
      },
      {
        "duration": 121,
        "start_time": "2023-01-23T06:34:02.868Z"
      },
      {
        "duration": 9,
        "start_time": "2023-01-24T05:36:35.339Z"
      },
      {
        "duration": 9,
        "start_time": "2023-01-24T05:36:46.061Z"
      },
      {
        "duration": 112,
        "start_time": "2023-01-24T05:41:57.379Z"
      },
      {
        "duration": 1262,
        "start_time": "2023-01-24T05:42:04.183Z"
      },
      {
        "duration": 3,
        "start_time": "2023-01-24T05:42:10.456Z"
      },
      {
        "duration": 2950,
        "start_time": "2023-01-24T05:42:10.461Z"
      },
      {
        "duration": 17,
        "start_time": "2023-01-24T05:42:13.413Z"
      },
      {
        "duration": 123,
        "start_time": "2023-01-24T05:42:13.431Z"
      },
      {
        "duration": 94,
        "start_time": "2023-01-24T05:42:13.556Z"
      },
      {
        "duration": 34,
        "start_time": "2023-01-24T05:42:13.652Z"
      },
      {
        "duration": 50,
        "start_time": "2023-01-24T05:42:13.688Z"
      },
      {
        "duration": 38,
        "start_time": "2023-01-24T05:42:13.740Z"
      },
      {
        "duration": 127,
        "start_time": "2023-01-24T05:42:13.781Z"
      },
      {
        "duration": 358,
        "start_time": "2023-01-24T05:42:13.910Z"
      },
      {
        "duration": 196,
        "start_time": "2023-01-24T05:42:14.271Z"
      },
      {
        "duration": 20,
        "start_time": "2023-01-24T05:42:14.469Z"
      },
      {
        "duration": 128,
        "start_time": "2023-01-24T05:42:14.490Z"
      },
      {
        "duration": 42808,
        "start_time": "2023-01-24T05:42:14.621Z"
      },
      {
        "duration": 42795,
        "start_time": "2023-01-24T05:47:48.435Z"
      },
      {
        "duration": 43067,
        "start_time": "2023-01-24T05:50:43.271Z"
      },
      {
        "duration": 63186,
        "start_time": "2023-01-24T05:52:12.348Z"
      },
      {
        "duration": 61585,
        "start_time": "2023-01-24T05:53:15.536Z"
      },
      {
        "duration": 30108,
        "start_time": "2023-01-24T05:54:17.123Z"
      },
      {
        "duration": 1218,
        "start_time": "2023-01-24T05:57:32.511Z"
      },
      {
        "duration": 4951,
        "start_time": "2023-01-24T05:57:56.387Z"
      },
      {
        "duration": 2038,
        "start_time": "2023-01-24T06:00:00.101Z"
      },
      {
        "duration": 2486,
        "start_time": "2023-01-24T06:00:15.243Z"
      },
      {
        "duration": 1353,
        "start_time": "2023-01-24T06:00:42.568Z"
      },
      {
        "duration": 144,
        "start_time": "2023-01-24T08:05:12.285Z"
      },
      {
        "duration": 112,
        "start_time": "2023-01-24T08:05:28.332Z"
      },
      {
        "duration": 42899,
        "start_time": "2023-01-24T08:05:41.624Z"
      },
      {
        "duration": 115,
        "start_time": "2023-01-24T08:08:26.460Z"
      },
      {
        "duration": 15,
        "start_time": "2023-01-24T08:08:30.821Z"
      },
      {
        "duration": 6327,
        "start_time": "2023-01-24T08:08:42.588Z"
      },
      {
        "duration": 1187384,
        "start_time": "2023-01-24T08:09:10.935Z"
      },
      {
        "duration": 3382741,
        "start_time": "2023-01-24T08:29:28.297Z"
      },
      {
        "duration": 155400,
        "start_time": "2023-01-24T09:25:51.122Z"
      },
      {
        "duration": 4368,
        "start_time": "2023-01-24T09:35:20.458Z"
      },
      {
        "duration": 601282,
        "start_time": "2023-01-24T09:40:33.847Z"
      },
      {
        "duration": 727785,
        "start_time": "2023-01-24T10:04:59.901Z"
      },
      {
        "duration": 96571,
        "start_time": "2023-01-24T10:17:07.691Z"
      },
      {
        "duration": 1126,
        "start_time": "2023-01-25T04:40:40.193Z"
      },
      {
        "duration": 3025,
        "start_time": "2023-01-25T04:40:42.534Z"
      },
      {
        "duration": 21,
        "start_time": "2023-01-25T04:40:45.561Z"
      },
      {
        "duration": 125,
        "start_time": "2023-01-25T04:40:45.839Z"
      },
      {
        "duration": 105,
        "start_time": "2023-01-25T04:40:48.122Z"
      },
      {
        "duration": 36,
        "start_time": "2023-01-25T04:40:48.727Z"
      },
      {
        "duration": 35,
        "start_time": "2023-01-25T04:40:49.182Z"
      },
      {
        "duration": 39,
        "start_time": "2023-01-25T04:40:50.372Z"
      },
      {
        "duration": 81,
        "start_time": "2023-01-25T04:40:55.549Z"
      },
      {
        "duration": 358,
        "start_time": "2023-01-25T04:40:56.415Z"
      },
      {
        "duration": 169,
        "start_time": "2023-01-25T04:40:56.775Z"
      },
      {
        "duration": 21,
        "start_time": "2023-01-25T04:41:00.175Z"
      },
      {
        "duration": 90,
        "start_time": "2023-01-25T04:41:01.008Z"
      },
      {
        "duration": 1197,
        "start_time": "2023-01-25T04:44:03.368Z"
      },
      {
        "duration": 1000,
        "start_time": "2023-01-25T04:44:04.568Z"
      },
      {
        "duration": 21,
        "start_time": "2023-01-25T04:44:05.570Z"
      },
      {
        "duration": 136,
        "start_time": "2023-01-25T04:44:05.594Z"
      },
      {
        "duration": 90,
        "start_time": "2023-01-25T04:44:05.737Z"
      },
      {
        "duration": 39,
        "start_time": "2023-01-25T04:44:05.838Z"
      },
      {
        "duration": 40,
        "start_time": "2023-01-25T04:44:05.879Z"
      },
      {
        "duration": 62,
        "start_time": "2023-01-25T04:44:05.921Z"
      },
      {
        "duration": 89,
        "start_time": "2023-01-25T04:44:05.985Z"
      },
      {
        "duration": 379,
        "start_time": "2023-01-25T04:44:06.077Z"
      },
      {
        "duration": 172,
        "start_time": "2023-01-25T04:44:06.458Z"
      },
      {
        "duration": 18,
        "start_time": "2023-01-25T04:44:06.637Z"
      },
      {
        "duration": 115,
        "start_time": "2023-01-25T04:44:06.657Z"
      },
      {
        "duration": 967580,
        "start_time": "2023-01-25T04:44:06.774Z"
      },
      {
        "duration": 61087,
        "start_time": "2023-01-25T05:00:14.356Z"
      },
      {
        "duration": 306,
        "start_time": "2023-01-25T05:01:15.445Z"
      },
      {
        "duration": 267523,
        "start_time": "2023-01-25T05:01:15.764Z"
      },
      {
        "duration": 0,
        "start_time": "2023-01-25T05:05:43.288Z"
      },
      {
        "duration": 0,
        "start_time": "2023-01-25T05:05:43.289Z"
      },
      {
        "duration": 0,
        "start_time": "2023-01-25T05:05:43.290Z"
      },
      {
        "duration": 0,
        "start_time": "2023-01-25T05:05:43.291Z"
      },
      {
        "duration": 0,
        "start_time": "2023-01-25T05:05:43.292Z"
      },
      {
        "duration": 63470,
        "start_time": "2023-01-25T05:05:47.099Z"
      },
      {
        "duration": 306,
        "start_time": "2023-01-25T05:06:50.572Z"
      },
      {
        "duration": 27442,
        "start_time": "2023-01-25T05:06:50.880Z"
      },
      {
        "duration": 0,
        "start_time": "2023-01-25T05:07:18.324Z"
      },
      {
        "duration": 0,
        "start_time": "2023-01-25T05:07:18.325Z"
      },
      {
        "duration": 3815,
        "start_time": "2023-01-25T05:07:34.404Z"
      },
      {
        "duration": 498345,
        "start_time": "2023-01-25T05:08:05.418Z"
      },
      {
        "duration": 201937,
        "start_time": "2023-01-25T05:48:32.614Z"
      },
      {
        "duration": 306,
        "start_time": "2023-01-25T05:51:54.553Z"
      },
      {
        "duration": 75491,
        "start_time": "2023-01-25T05:51:54.861Z"
      },
      {
        "duration": 1497,
        "start_time": "2023-01-25T05:53:10.354Z"
      },
      {
        "duration": 2,
        "start_time": "2023-01-25T05:53:11.853Z"
      },
      {
        "duration": 403,
        "start_time": "2023-01-25T05:53:11.857Z"
      },
      {
        "duration": 85,
        "start_time": "2023-01-25T05:53:12.262Z"
      },
      {
        "duration": 4287,
        "start_time": "2023-01-25T07:01:26.056Z"
      },
      {
        "duration": 203,
        "start_time": "2023-01-25T07:01:30.345Z"
      },
      {
        "duration": 15,
        "start_time": "2023-01-25T07:01:30.550Z"
      },
      {
        "duration": 71128,
        "start_time": "2023-01-25T07:01:30.568Z"
      },
      {
        "duration": 1545,
        "start_time": "2023-01-25T07:02:41.697Z"
      },
      {
        "duration": 5,
        "start_time": "2023-01-25T07:02:43.244Z"
      },
      {
        "duration": 7,
        "start_time": "2023-01-25T07:02:43.251Z"
      },
      {
        "duration": 481,
        "start_time": "2023-01-25T07:02:43.260Z"
      },
      {
        "duration": 94,
        "start_time": "2023-01-25T07:02:43.743Z"
      },
      {
        "duration": 11,
        "start_time": "2023-01-25T07:02:43.840Z"
      },
      {
        "duration": 9,
        "start_time": "2023-01-25T07:07:19.839Z"
      },
      {
        "duration": 87,
        "start_time": "2023-01-25T07:07:25.676Z"
      },
      {
        "duration": 3,
        "start_time": "2023-01-25T07:07:29.894Z"
      },
      {
        "duration": 1481,
        "start_time": "2023-01-26T04:37:44.340Z"
      },
      {
        "duration": 1405,
        "start_time": "2023-01-26T04:37:47.670Z"
      },
      {
        "duration": 24,
        "start_time": "2023-01-26T04:37:49.077Z"
      },
      {
        "duration": 20,
        "start_time": "2023-01-26T04:37:57.473Z"
      },
      {
        "duration": 190,
        "start_time": "2023-01-26T04:38:29.611Z"
      },
      {
        "duration": 100,
        "start_time": "2023-01-26T04:38:52.077Z"
      },
      {
        "duration": 78,
        "start_time": "2023-01-26T04:39:21.660Z"
      },
      {
        "duration": 378,
        "start_time": "2023-01-26T04:39:22.458Z"
      },
      {
        "duration": 172,
        "start_time": "2023-01-26T04:40:37.130Z"
      },
      {
        "duration": 17,
        "start_time": "2023-01-26T04:41:54.721Z"
      },
      {
        "duration": 19,
        "start_time": "2023-01-26T04:42:11.495Z"
      },
      {
        "duration": 314,
        "start_time": "2023-01-26T04:44:27.240Z"
      },
      {
        "duration": 84,
        "start_time": "2023-01-26T04:45:16.466Z"
      },
      {
        "duration": 1269,
        "start_time": "2023-01-26T10:15:46.078Z"
      },
      {
        "duration": 3436,
        "start_time": "2023-01-26T10:15:47.873Z"
      },
      {
        "duration": 148,
        "start_time": "2023-01-26T10:15:57.311Z"
      },
      {
        "duration": 39,
        "start_time": "2023-01-26T10:16:01.526Z"
      },
      {
        "duration": 45,
        "start_time": "2023-01-26T10:16:05.164Z"
      },
      {
        "duration": 178,
        "start_time": "2023-01-26T10:16:17.696Z"
      },
      {
        "duration": 30,
        "start_time": "2023-01-26T10:16:20.103Z"
      },
      {
        "duration": 30,
        "start_time": "2023-01-26T10:16:47.548Z"
      },
      {
        "duration": 33,
        "start_time": "2023-01-26T10:16:54.281Z"
      },
      {
        "duration": 18,
        "start_time": "2023-01-26T10:18:11.570Z"
      },
      {
        "duration": 4,
        "start_time": "2023-01-26T10:18:19.404Z"
      },
      {
        "duration": 852,
        "start_time": "2023-01-26T10:18:19.409Z"
      },
      {
        "duration": 17,
        "start_time": "2023-01-26T10:18:20.266Z"
      },
      {
        "duration": 121,
        "start_time": "2023-01-26T10:18:20.284Z"
      },
      {
        "duration": 91,
        "start_time": "2023-01-26T10:18:20.407Z"
      },
      {
        "duration": 139,
        "start_time": "2023-01-26T10:18:20.500Z"
      },
      {
        "duration": 298,
        "start_time": "2023-01-26T10:18:20.641Z"
      },
      {
        "duration": 62,
        "start_time": "2023-01-26T10:18:34.241Z"
      },
      {
        "duration": 7,
        "start_time": "2023-01-26T10:20:35.884Z"
      },
      {
        "duration": 31,
        "start_time": "2023-01-26T10:22:08.128Z"
      },
      {
        "duration": 16,
        "start_time": "2023-01-26T10:22:25.544Z"
      },
      {
        "duration": 518,
        "start_time": "2023-01-26T10:22:36.712Z"
      },
      {
        "duration": 470,
        "start_time": "2023-01-26T10:22:44.308Z"
      },
      {
        "duration": 25,
        "start_time": "2023-01-26T10:22:58.071Z"
      },
      {
        "duration": 19,
        "start_time": "2023-01-26T10:23:03.027Z"
      },
      {
        "duration": 32,
        "start_time": "2023-01-26T10:24:09.256Z"
      },
      {
        "duration": 8,
        "start_time": "2023-01-26T10:24:12.925Z"
      },
      {
        "duration": 3,
        "start_time": "2023-01-26T10:25:18.584Z"
      },
      {
        "duration": 862,
        "start_time": "2023-01-26T10:25:18.588Z"
      },
      {
        "duration": 67,
        "start_time": "2023-01-26T10:25:19.452Z"
      },
      {
        "duration": 111,
        "start_time": "2023-01-26T10:25:19.520Z"
      },
      {
        "duration": 93,
        "start_time": "2023-01-26T10:25:19.633Z"
      },
      {
        "duration": 169,
        "start_time": "2023-01-26T10:25:19.727Z"
      },
      {
        "duration": 83,
        "start_time": "2023-01-26T10:25:19.898Z"
      },
      {
        "duration": 5,
        "start_time": "2023-01-26T10:25:19.982Z"
      },
      {
        "duration": 23,
        "start_time": "2023-01-26T10:25:19.988Z"
      },
      {
        "duration": 16,
        "start_time": "2023-01-26T10:25:24.328Z"
      },
      {
        "duration": 36,
        "start_time": "2023-01-26T10:26:11.016Z"
      },
      {
        "duration": 6,
        "start_time": "2023-01-26T10:26:13.088Z"
      },
      {
        "duration": 12,
        "start_time": "2023-01-26T10:26:31.213Z"
      },
      {
        "duration": 149,
        "start_time": "2023-01-26T10:26:47.972Z"
      },
      {
        "duration": 8,
        "start_time": "2023-01-26T10:26:56.257Z"
      },
      {
        "duration": 6,
        "start_time": "2023-01-26T10:26:58.385Z"
      },
      {
        "duration": 7,
        "start_time": "2023-01-26T10:27:10.779Z"
      },
      {
        "duration": 6,
        "start_time": "2023-01-26T10:27:12.051Z"
      },
      {
        "duration": 6,
        "start_time": "2023-01-26T10:27:23.177Z"
      },
      {
        "duration": 5,
        "start_time": "2023-01-26T10:27:24.613Z"
      },
      {
        "duration": 4,
        "start_time": "2023-01-26T10:27:43.052Z"
      },
      {
        "duration": 934,
        "start_time": "2023-01-26T10:27:43.057Z"
      },
      {
        "duration": 13,
        "start_time": "2023-01-26T10:27:43.993Z"
      },
      {
        "duration": 115,
        "start_time": "2023-01-26T10:27:44.007Z"
      },
      {
        "duration": 91,
        "start_time": "2023-01-26T10:27:44.124Z"
      },
      {
        "duration": 170,
        "start_time": "2023-01-26T10:27:44.217Z"
      },
      {
        "duration": 86,
        "start_time": "2023-01-26T10:27:44.388Z"
      },
      {
        "duration": 5,
        "start_time": "2023-01-26T10:27:44.476Z"
      },
      {
        "duration": 20,
        "start_time": "2023-01-26T10:27:44.483Z"
      },
      {
        "duration": 9,
        "start_time": "2023-01-26T10:27:47.444Z"
      },
      {
        "duration": 7,
        "start_time": "2023-01-26T10:27:49.048Z"
      },
      {
        "duration": 8,
        "start_time": "2023-01-26T10:28:07.773Z"
      },
      {
        "duration": 7,
        "start_time": "2023-01-26T10:28:24.640Z"
      },
      {
        "duration": 7,
        "start_time": "2023-01-26T10:28:51.753Z"
      },
      {
        "duration": 5,
        "start_time": "2023-01-26T10:29:01.775Z"
      },
      {
        "duration": 7,
        "start_time": "2023-01-26T10:29:14.869Z"
      },
      {
        "duration": 7,
        "start_time": "2023-01-26T10:29:18.877Z"
      },
      {
        "duration": 10,
        "start_time": "2023-01-26T10:29:23.090Z"
      },
      {
        "duration": 10,
        "start_time": "2023-01-26T10:29:36.104Z"
      },
      {
        "duration": 11,
        "start_time": "2023-01-26T10:29:39.898Z"
      },
      {
        "duration": 12,
        "start_time": "2023-01-26T10:31:13.841Z"
      },
      {
        "duration": 101,
        "start_time": "2023-01-26T10:31:25.021Z"
      },
      {
        "duration": 10,
        "start_time": "2023-01-26T10:31:34.133Z"
      },
      {
        "duration": 9,
        "start_time": "2023-01-26T10:31:43.201Z"
      },
      {
        "duration": 7,
        "start_time": "2023-01-26T10:33:26.002Z"
      },
      {
        "duration": 13,
        "start_time": "2023-01-26T10:33:52.703Z"
      },
      {
        "duration": 87,
        "start_time": "2023-01-26T10:34:03.210Z"
      },
      {
        "duration": 69,
        "start_time": "2023-01-26T10:34:20.100Z"
      },
      {
        "duration": 95,
        "start_time": "2023-01-26T10:34:25.833Z"
      },
      {
        "duration": 68,
        "start_time": "2023-01-26T10:35:49.832Z"
      },
      {
        "duration": 29,
        "start_time": "2023-01-26T10:37:40.591Z"
      },
      {
        "duration": 10,
        "start_time": "2023-01-26T10:39:34.098Z"
      },
      {
        "duration": 10,
        "start_time": "2023-01-26T10:39:59.236Z"
      },
      {
        "duration": 330,
        "start_time": "2023-01-26T10:40:22.920Z"
      },
      {
        "duration": 157,
        "start_time": "2023-01-26T10:40:31.600Z"
      },
      {
        "duration": 217,
        "start_time": "2023-01-26T10:41:01.434Z"
      },
      {
        "duration": 259,
        "start_time": "2023-01-26T10:42:05.039Z"
      },
      {
        "duration": 174,
        "start_time": "2023-01-26T10:42:32.237Z"
      },
      {
        "duration": 252,
        "start_time": "2023-01-26T10:42:41.799Z"
      },
      {
        "duration": 227,
        "start_time": "2023-01-26T10:43:15.326Z"
      },
      {
        "duration": 243,
        "start_time": "2023-01-26T10:43:22.819Z"
      },
      {
        "duration": 229,
        "start_time": "2023-01-26T10:43:46.266Z"
      },
      {
        "duration": 17,
        "start_time": "2023-01-26T10:44:57.303Z"
      },
      {
        "duration": 12,
        "start_time": "2023-01-26T10:45:17.377Z"
      },
      {
        "duration": 18,
        "start_time": "2023-01-26T10:45:31.640Z"
      },
      {
        "duration": 131,
        "start_time": "2023-01-26T10:53:50.167Z"
      },
      {
        "duration": 59,
        "start_time": "2023-01-26T10:55:28.024Z"
      },
      {
        "duration": 13,
        "start_time": "2023-01-26T10:56:05.069Z"
      },
      {
        "duration": 50,
        "start_time": "2023-01-26T10:56:36.818Z"
      },
      {
        "duration": 47,
        "start_time": "2023-01-26T10:56:40.555Z"
      },
      {
        "duration": 58,
        "start_time": "2023-01-26T10:58:29.313Z"
      },
      {
        "duration": 88,
        "start_time": "2023-01-26T10:58:44.475Z"
      },
      {
        "duration": 18,
        "start_time": "2023-01-26T10:59:25.496Z"
      },
      {
        "duration": 47,
        "start_time": "2023-01-26T11:00:04.714Z"
      },
      {
        "duration": 60,
        "start_time": "2023-01-26T11:01:21.591Z"
      },
      {
        "duration": 11,
        "start_time": "2023-01-26T11:03:24.666Z"
      },
      {
        "duration": 11,
        "start_time": "2023-01-26T11:03:36.731Z"
      },
      {
        "duration": 145,
        "start_time": "2023-01-26T11:04:57.627Z"
      },
      {
        "duration": 139,
        "start_time": "2023-01-26T11:05:10.450Z"
      },
      {
        "duration": 401,
        "start_time": "2023-01-26T11:05:11.638Z"
      },
      {
        "duration": 54,
        "start_time": "2023-01-26T11:06:03.870Z"
      },
      {
        "duration": 82,
        "start_time": "2023-01-26T11:06:17.507Z"
      },
      {
        "duration": 65,
        "start_time": "2023-01-26T11:06:23.509Z"
      },
      {
        "duration": 146,
        "start_time": "2023-01-26T11:06:29.365Z"
      },
      {
        "duration": 403,
        "start_time": "2023-01-26T11:06:30.665Z"
      },
      {
        "duration": 1313,
        "start_time": "2023-01-26T11:12:18.215Z"
      },
      {
        "duration": 980,
        "start_time": "2023-01-26T11:12:19.530Z"
      },
      {
        "duration": 20,
        "start_time": "2023-01-26T11:12:20.512Z"
      },
      {
        "duration": 168,
        "start_time": "2023-01-26T11:12:20.534Z"
      },
      {
        "duration": 92,
        "start_time": "2023-01-26T11:12:20.704Z"
      },
      {
        "duration": 194,
        "start_time": "2023-01-26T11:12:20.797Z"
      },
      {
        "duration": 89,
        "start_time": "2023-01-26T11:12:20.993Z"
      },
      {
        "duration": 7,
        "start_time": "2023-01-26T11:12:21.083Z"
      },
      {
        "duration": 9,
        "start_time": "2023-01-26T11:12:21.092Z"
      },
      {
        "duration": 34,
        "start_time": "2023-01-26T11:12:21.103Z"
      },
      {
        "duration": 31,
        "start_time": "2023-01-26T11:12:21.139Z"
      },
      {
        "duration": 20,
        "start_time": "2023-01-26T11:12:21.172Z"
      },
      {
        "duration": 12,
        "start_time": "2023-01-26T11:12:21.194Z"
      },
      {
        "duration": 8,
        "start_time": "2023-01-26T11:12:21.210Z"
      },
      {
        "duration": 239,
        "start_time": "2023-01-26T11:12:21.220Z"
      },
      {
        "duration": 20,
        "start_time": "2023-01-26T11:12:21.466Z"
      },
      {
        "duration": 170,
        "start_time": "2023-01-26T11:12:21.488Z"
      },
      {
        "duration": 424,
        "start_time": "2023-01-26T11:12:21.660Z"
      },
      {
        "duration": 635,
        "start_time": "2023-01-26T11:12:22.085Z"
      },
      {
        "duration": 455,
        "start_time": "2023-01-26T11:12:22.722Z"
      },
      {
        "duration": 111,
        "start_time": "2023-01-26T11:12:23.179Z"
      },
      {
        "duration": 9,
        "start_time": "2023-01-26T11:12:23.291Z"
      },
      {
        "duration": 0,
        "start_time": "2023-01-26T11:12:23.301Z"
      },
      {
        "duration": 0,
        "start_time": "2023-01-26T11:12:23.303Z"
      },
      {
        "duration": 0,
        "start_time": "2023-01-26T11:12:23.304Z"
      },
      {
        "duration": 0,
        "start_time": "2023-01-26T11:12:23.307Z"
      },
      {
        "duration": 0,
        "start_time": "2023-01-26T11:12:23.308Z"
      },
      {
        "duration": 0,
        "start_time": "2023-01-26T11:12:23.309Z"
      },
      {
        "duration": 0,
        "start_time": "2023-01-26T11:12:23.310Z"
      },
      {
        "duration": 0,
        "start_time": "2023-01-26T11:12:23.312Z"
      },
      {
        "duration": 0,
        "start_time": "2023-01-26T11:12:23.313Z"
      },
      {
        "duration": 0,
        "start_time": "2023-01-26T11:12:23.314Z"
      },
      {
        "duration": 450,
        "start_time": "2023-01-26T11:13:17.906Z"
      },
      {
        "duration": 67,
        "start_time": "2023-01-26T11:14:09.892Z"
      },
      {
        "duration": 153,
        "start_time": "2023-01-26T11:14:12.918Z"
      },
      {
        "duration": 400,
        "start_time": "2023-01-26T11:14:14.261Z"
      },
      {
        "duration": 2590,
        "start_time": "2023-01-26T11:14:19.868Z"
      },
      {
        "duration": 1359,
        "start_time": "2023-01-26T11:14:26.550Z"
      },
      {
        "duration": 904,
        "start_time": "2023-01-26T11:14:27.911Z"
      },
      {
        "duration": 16,
        "start_time": "2023-01-26T11:14:28.817Z"
      },
      {
        "duration": 123,
        "start_time": "2023-01-26T11:14:28.835Z"
      },
      {
        "duration": 87,
        "start_time": "2023-01-26T11:14:28.960Z"
      },
      {
        "duration": 190,
        "start_time": "2023-01-26T11:14:29.049Z"
      },
      {
        "duration": 79,
        "start_time": "2023-01-26T11:14:29.241Z"
      },
      {
        "duration": 8,
        "start_time": "2023-01-26T11:14:29.321Z"
      },
      {
        "duration": 16,
        "start_time": "2023-01-26T11:14:29.330Z"
      },
      {
        "duration": 45,
        "start_time": "2023-01-26T11:14:29.347Z"
      },
      {
        "duration": 7,
        "start_time": "2023-01-26T11:14:29.393Z"
      },
      {
        "duration": 30,
        "start_time": "2023-01-26T11:14:29.401Z"
      },
      {
        "duration": 8,
        "start_time": "2023-01-26T11:14:29.433Z"
      },
      {
        "duration": 12,
        "start_time": "2023-01-26T11:14:29.443Z"
      },
      {
        "duration": 201,
        "start_time": "2023-01-26T11:14:29.457Z"
      },
      {
        "duration": 25,
        "start_time": "2023-01-26T11:14:29.660Z"
      },
      {
        "duration": 175,
        "start_time": "2023-01-26T11:14:29.687Z"
      },
      {
        "duration": 424,
        "start_time": "2023-01-26T11:14:29.864Z"
      },
      {
        "duration": 2456190,
        "start_time": "2023-01-26T11:14:30.290Z"
      },
      {
        "duration": 2700,
        "start_time": "2023-01-26T11:55:26.481Z"
      },
      {
        "duration": 204,
        "start_time": "2023-01-26T11:55:29.268Z"
      },
      {
        "duration": 4,
        "start_time": "2023-01-26T11:55:29.474Z"
      },
      {
        "duration": 320744,
        "start_time": "2023-01-26T11:55:29.480Z"
      },
      {
        "duration": 53574,
        "start_time": "2023-01-26T12:00:50.225Z"
      },
      {
        "duration": 1214,
        "start_time": "2023-01-26T12:01:43.801Z"
      },
      {
        "duration": 8,
        "start_time": "2023-01-26T12:01:45.017Z"
      },
      {
        "duration": 50,
        "start_time": "2023-01-26T12:01:45.026Z"
      },
      {
        "duration": 493,
        "start_time": "2023-01-26T12:01:45.078Z"
      },
      {
        "duration": 16,
        "start_time": "2023-01-26T12:01:45.573Z"
      },
      {
        "duration": 199,
        "start_time": "2023-01-26T12:01:45.591Z"
      },
      {
        "duration": 10,
        "start_time": "2023-01-26T12:01:45.792Z"
      },
      {
        "duration": 178,
        "start_time": "2023-01-26T12:01:45.804Z"
      },
      {
        "duration": 1690,
        "start_time": "2023-01-27T06:10:14.317Z"
      },
      {
        "duration": 1209,
        "start_time": "2023-01-27T06:10:16.009Z"
      },
      {
        "duration": 21,
        "start_time": "2023-01-27T06:10:17.220Z"
      },
      {
        "duration": 126,
        "start_time": "2023-01-27T06:10:17.244Z"
      },
      {
        "duration": 76,
        "start_time": "2023-01-27T06:10:17.372Z"
      },
      {
        "duration": 176,
        "start_time": "2023-01-27T06:10:17.450Z"
      },
      {
        "duration": 65,
        "start_time": "2023-01-27T06:10:17.628Z"
      },
      {
        "duration": 32,
        "start_time": "2023-01-27T06:10:17.702Z"
      },
      {
        "duration": 49,
        "start_time": "2023-01-27T06:10:17.736Z"
      },
      {
        "duration": 6,
        "start_time": "2023-01-27T06:10:26.694Z"
      },
      {
        "duration": 24,
        "start_time": "2023-01-27T06:11:04.071Z"
      },
      {
        "duration": 107,
        "start_time": "2023-01-27T06:11:30.071Z"
      },
      {
        "duration": 8,
        "start_time": "2023-01-27T06:11:36.478Z"
      },
      {
        "duration": 107,
        "start_time": "2023-01-27T08:48:44.179Z"
      },
      {
        "duration": 1493,
        "start_time": "2023-01-27T08:48:58.446Z"
      },
      {
        "duration": 3557,
        "start_time": "2023-01-27T08:48:59.941Z"
      },
      {
        "duration": 17,
        "start_time": "2023-01-27T08:49:03.501Z"
      },
      {
        "duration": 123,
        "start_time": "2023-01-27T08:49:03.520Z"
      },
      {
        "duration": 86,
        "start_time": "2023-01-27T08:49:03.644Z"
      },
      {
        "duration": 186,
        "start_time": "2023-01-27T08:49:03.732Z"
      },
      {
        "duration": 90,
        "start_time": "2023-01-27T08:49:03.920Z"
      },
      {
        "duration": 8,
        "start_time": "2023-01-27T08:49:04.012Z"
      },
      {
        "duration": 8,
        "start_time": "2023-01-27T08:49:04.022Z"
      },
      {
        "duration": 31,
        "start_time": "2023-01-27T08:49:04.033Z"
      },
      {
        "duration": 38,
        "start_time": "2023-01-27T08:49:04.066Z"
      },
      {
        "duration": 13,
        "start_time": "2023-01-27T08:49:04.107Z"
      },
      {
        "duration": 5,
        "start_time": "2023-01-27T08:49:04.122Z"
      },
      {
        "duration": 222,
        "start_time": "2023-01-27T08:49:04.129Z"
      },
      {
        "duration": 19,
        "start_time": "2023-01-27T08:49:04.352Z"
      },
      {
        "duration": 162,
        "start_time": "2023-01-27T08:49:04.373Z"
      },
      {
        "duration": 425,
        "start_time": "2023-01-27T08:49:04.537Z"
      },
      {
        "duration": 358246,
        "start_time": "2023-01-27T08:49:04.964Z"
      },
      {
        "duration": 13005,
        "start_time": "2023-01-27T08:55:03.212Z"
      },
      {
        "duration": 270,
        "start_time": "2023-01-27T08:55:16.220Z"
      },
      {
        "duration": 6,
        "start_time": "2023-01-27T08:55:16.504Z"
      },
      {
        "duration": 330605,
        "start_time": "2023-01-27T08:55:16.512Z"
      },
      {
        "duration": 55659,
        "start_time": "2023-01-27T09:00:47.119Z"
      },
      {
        "duration": 1198,
        "start_time": "2023-01-27T09:01:42.779Z"
      },
      {
        "duration": 19,
        "start_time": "2023-01-27T09:01:43.979Z"
      },
      {
        "duration": 2,
        "start_time": "2023-01-27T09:01:44.008Z"
      },
      {
        "duration": 593,
        "start_time": "2023-01-27T09:01:44.012Z"
      },
      {
        "duration": 104,
        "start_time": "2023-01-27T09:01:44.609Z"
      },
      {
        "duration": 6,
        "start_time": "2023-01-27T09:01:44.792Z"
      },
      {
        "duration": 21,
        "start_time": "2023-01-27T09:01:44.800Z"
      },
      {
        "duration": 209,
        "start_time": "2023-01-27T09:01:44.894Z"
      }
    ],
    "toc": {
      "base_numbering": 1,
      "nav_menu": {},
      "number_sections": true,
      "sideBar": true,
      "skip_h1_title": true,
      "title_cell": "Table of Contents",
      "title_sidebar": "Contents",
      "toc_cell": false,
      "toc_position": {
        "height": "calc(100% - 180px)",
        "left": "10px",
        "top": "150px",
        "width": "297.188px"
      },
      "toc_section_display": true,
      "toc_window_display": true
    },
    "kernelspec": {
      "name": "python",
      "display_name": "Python (Pyodide)",
      "language": "python"
    },
    "language_info": {
      "codemirror_mode": {
        "name": "python",
        "version": 3
      },
      "file_extension": ".py",
      "mimetype": "text/x-python",
      "name": "python",
      "nbconvert_exporter": "python",
      "pygments_lexer": "ipython3",
      "version": "3.8"
    }
  },
  "nbformat_minor": 4,
  "nbformat": 4,
  "cells": [
    {
      "cell_type": "markdown",
      "source": "# Определение стоимости автомобилей",
      "metadata": {}
    },
    {
      "cell_type": "markdown",
      "source": "Сервис по продаже автомобилей с пробегом «Не бит, не крашен» разрабатывает приложение для привлечения новых клиентов. В нём можно быстро узнать рыночную стоимость своего автомобиля. В распоряжении исторические данные: технические характеристики, комплектации и цены автомобилей. Нужно построить модель для определения стоимости. \n\nЗаказчику важны:\n\n- качество предсказания;\n- скорость предсказания;\n- время обучения.\n\nПри выполнении работы необходимо:\n- Проанализировать и подготовить данные;\n- Осуществить подбор оптимальных параметров для моделей;\n- Обучить и протестировать несколько моделей;\n- Сравнить модели по скорости и качеству.",
      "metadata": {}
    },
    {
      "cell_type": "code",
      "source": "import numpy as np\nimport pandas as pd\nimport lightgbm as lgb\nimport sklearn\nimport matplotlib.pyplot as plt\n\nfrom sklearn.preprocessing import OrdinalEncoder\nfrom sklearn.model_selection import train_test_split\nfrom sklearn.ensemble import RandomForestRegressor\nfrom sklearn.linear_model import LinearRegression\nfrom sklearn.metrics import mean_squared_error\nfrom math import sqrt",
      "metadata": {},
      "execution_count": 1,
      "outputs": []
    },
    {
      "cell_type": "markdown",
      "source": "## Подготовка данных",
      "metadata": {}
    },
    {
      "cell_type": "markdown",
      "source": "### Загрузка данных",
      "metadata": {}
    },
    {
      "cell_type": "code",
      "source": "data = pd.read_csv('/datasets/autos.csv')\ndata.info()",
      "metadata": {},
      "execution_count": 2,
      "outputs": [
        {
          "name": "stdout",
          "output_type": "stream",
          "text": "<class 'pandas.core.frame.DataFrame'>\n\nRangeIndex: 354369 entries, 0 to 354368\n\nData columns (total 16 columns):\n\n #   Column             Non-Null Count   Dtype \n\n---  ------             --------------   ----- \n\n 0   DateCrawled        354369 non-null  object\n\n 1   Price              354369 non-null  int64 \n\n 2   VehicleType        316879 non-null  object\n\n 3   RegistrationYear   354369 non-null  int64 \n\n 4   Gearbox            334536 non-null  object\n\n 5   Power              354369 non-null  int64 \n\n 6   Model              334664 non-null  object\n\n 7   Kilometer          354369 non-null  int64 \n\n 8   RegistrationMonth  354369 non-null  int64 \n\n 9   FuelType           321474 non-null  object\n\n 10  Brand              354369 non-null  object\n\n 11  Repaired           283215 non-null  object\n\n 12  DateCreated        354369 non-null  object\n\n 13  NumberOfPictures   354369 non-null  int64 \n\n 14  PostalCode         354369 non-null  int64 \n\n 15  LastSeen           354369 non-null  object\n\ndtypes: int64(7), object(9)\n\nmemory usage: 43.3+ MB\n"
        }
      ]
    },
    {
      "cell_type": "code",
      "source": "data.head()",
      "metadata": {},
      "execution_count": 3,
      "outputs": [
        {
          "execution_count": 3,
          "output_type": "execute_result",
          "data": {
            "text/html": [
              "<div>\n",
              "<style scoped>\n",
              "    .dataframe tbody tr th:only-of-type {\n",
              "        vertical-align: middle;\n",
              "    }\n",
              "\n",
              "    .dataframe tbody tr th {\n",
              "        vertical-align: top;\n",
              "    }\n",
              "\n",
              "    .dataframe thead th {\n",
              "        text-align: right;\n",
              "    }\n",
              "</style>\n",
              "<table border=\"1\" class=\"dataframe\">\n",
              "  <thead>\n",
              "    <tr style=\"text-align: right;\">\n",
              "      <th></th>\n",
              "      <th>DateCrawled</th>\n",
              "      <th>Price</th>\n",
              "      <th>VehicleType</th>\n",
              "      <th>RegistrationYear</th>\n",
              "      <th>Gearbox</th>\n",
              "      <th>Power</th>\n",
              "      <th>Model</th>\n",
              "      <th>Kilometer</th>\n",
              "      <th>RegistrationMonth</th>\n",
              "      <th>FuelType</th>\n",
              "      <th>Brand</th>\n",
              "      <th>Repaired</th>\n",
              "      <th>DateCreated</th>\n",
              "      <th>NumberOfPictures</th>\n",
              "      <th>PostalCode</th>\n",
              "      <th>LastSeen</th>\n",
              "    </tr>\n",
              "  </thead>\n",
              "  <tbody>\n",
              "    <tr>\n",
              "      <th>0</th>\n",
              "      <td>2016-03-24 11:52:17</td>\n",
              "      <td>480</td>\n",
              "      <td>NaN</td>\n",
              "      <td>1993</td>\n",
              "      <td>manual</td>\n",
              "      <td>0</td>\n",
              "      <td>golf</td>\n",
              "      <td>150000</td>\n",
              "      <td>0</td>\n",
              "      <td>petrol</td>\n",
              "      <td>volkswagen</td>\n",
              "      <td>NaN</td>\n",
              "      <td>2016-03-24 00:00:00</td>\n",
              "      <td>0</td>\n",
              "      <td>70435</td>\n",
              "      <td>2016-04-07 03:16:57</td>\n",
              "    </tr>\n",
              "    <tr>\n",
              "      <th>1</th>\n",
              "      <td>2016-03-24 10:58:45</td>\n",
              "      <td>18300</td>\n",
              "      <td>coupe</td>\n",
              "      <td>2011</td>\n",
              "      <td>manual</td>\n",
              "      <td>190</td>\n",
              "      <td>NaN</td>\n",
              "      <td>125000</td>\n",
              "      <td>5</td>\n",
              "      <td>gasoline</td>\n",
              "      <td>audi</td>\n",
              "      <td>yes</td>\n",
              "      <td>2016-03-24 00:00:00</td>\n",
              "      <td>0</td>\n",
              "      <td>66954</td>\n",
              "      <td>2016-04-07 01:46:50</td>\n",
              "    </tr>\n",
              "    <tr>\n",
              "      <th>2</th>\n",
              "      <td>2016-03-14 12:52:21</td>\n",
              "      <td>9800</td>\n",
              "      <td>suv</td>\n",
              "      <td>2004</td>\n",
              "      <td>auto</td>\n",
              "      <td>163</td>\n",
              "      <td>grand</td>\n",
              "      <td>125000</td>\n",
              "      <td>8</td>\n",
              "      <td>gasoline</td>\n",
              "      <td>jeep</td>\n",
              "      <td>NaN</td>\n",
              "      <td>2016-03-14 00:00:00</td>\n",
              "      <td>0</td>\n",
              "      <td>90480</td>\n",
              "      <td>2016-04-05 12:47:46</td>\n",
              "    </tr>\n",
              "    <tr>\n",
              "      <th>3</th>\n",
              "      <td>2016-03-17 16:54:04</td>\n",
              "      <td>1500</td>\n",
              "      <td>small</td>\n",
              "      <td>2001</td>\n",
              "      <td>manual</td>\n",
              "      <td>75</td>\n",
              "      <td>golf</td>\n",
              "      <td>150000</td>\n",
              "      <td>6</td>\n",
              "      <td>petrol</td>\n",
              "      <td>volkswagen</td>\n",
              "      <td>no</td>\n",
              "      <td>2016-03-17 00:00:00</td>\n",
              "      <td>0</td>\n",
              "      <td>91074</td>\n",
              "      <td>2016-03-17 17:40:17</td>\n",
              "    </tr>\n",
              "    <tr>\n",
              "      <th>4</th>\n",
              "      <td>2016-03-31 17:25:20</td>\n",
              "      <td>3600</td>\n",
              "      <td>small</td>\n",
              "      <td>2008</td>\n",
              "      <td>manual</td>\n",
              "      <td>69</td>\n",
              "      <td>fabia</td>\n",
              "      <td>90000</td>\n",
              "      <td>7</td>\n",
              "      <td>gasoline</td>\n",
              "      <td>skoda</td>\n",
              "      <td>no</td>\n",
              "      <td>2016-03-31 00:00:00</td>\n",
              "      <td>0</td>\n",
              "      <td>60437</td>\n",
              "      <td>2016-04-06 10:17:21</td>\n",
              "    </tr>\n",
              "  </tbody>\n",
              "</table>\n",
              "</div>"
            ],
            "text/plain": [
              "           DateCrawled  Price VehicleType  RegistrationYear Gearbox  Power  \\\n",
              "0  2016-03-24 11:52:17    480         NaN              1993  manual      0   \n",
              "1  2016-03-24 10:58:45  18300       coupe              2011  manual    190   \n",
              "2  2016-03-14 12:52:21   9800         suv              2004    auto    163   \n",
              "3  2016-03-17 16:54:04   1500       small              2001  manual     75   \n",
              "4  2016-03-31 17:25:20   3600       small              2008  manual     69   \n",
              "\n",
              "   Model  Kilometer  RegistrationMonth  FuelType       Brand Repaired  \\\n",
              "0   golf     150000                  0    petrol  volkswagen      NaN   \n",
              "1    NaN     125000                  5  gasoline        audi      yes   \n",
              "2  grand     125000                  8  gasoline        jeep      NaN   \n",
              "3   golf     150000                  6    petrol  volkswagen       no   \n",
              "4  fabia      90000                  7  gasoline       skoda       no   \n",
              "\n",
              "           DateCreated  NumberOfPictures  PostalCode             LastSeen  \n",
              "0  2016-03-24 00:00:00                 0       70435  2016-04-07 03:16:57  \n",
              "1  2016-03-24 00:00:00                 0       66954  2016-04-07 01:46:50  \n",
              "2  2016-03-14 00:00:00                 0       90480  2016-04-05 12:47:46  \n",
              "3  2016-03-17 00:00:00                 0       91074  2016-03-17 17:40:17  \n",
              "4  2016-03-31 00:00:00                 0       60437  2016-04-06 10:17:21  "
            ]
          },
          "metadata": {}
        }
      ]
    },
    {
      "cell_type": "markdown",
      "source": "В данных имеется 15 столбцов с 354369 записей.\n\nЯ считаю, что столбцы:DateCrawled, PostalCode, LastSeen, DateCreated, NumberOfPictures неинформативны для модели предсказания. Нужно их удалить.\n\nСтолбцы VehicleType, Gearbox, Model, FuelType, Brand, Repaired являются категориальными и нужно заменить их значения на числовые.",
      "metadata": {}
    },
    {
      "cell_type": "code",
      "source": "#удаление столбцов\ndata = data.drop(['DateCrawled', 'PostalCode', 'LastSeen', 'DateCreated', 'NumberOfPictures'], axis=1)\ndata.info()",
      "metadata": {},
      "execution_count": 4,
      "outputs": [
        {
          "name": "stdout",
          "output_type": "stream",
          "text": "<class 'pandas.core.frame.DataFrame'>\n\nRangeIndex: 354369 entries, 0 to 354368\n\nData columns (total 11 columns):\n\n #   Column             Non-Null Count   Dtype \n\n---  ------             --------------   ----- \n\n 0   Price              354369 non-null  int64 \n\n 1   VehicleType        316879 non-null  object\n\n 2   RegistrationYear   354369 non-null  int64 \n\n 3   Gearbox            334536 non-null  object\n\n 4   Power              354369 non-null  int64 \n\n 5   Model              334664 non-null  object\n\n 6   Kilometer          354369 non-null  int64 \n\n 7   RegistrationMonth  354369 non-null  int64 \n\n 8   FuelType           321474 non-null  object\n\n 9   Brand              354369 non-null  object\n\n 10  Repaired           283215 non-null  object\n\ndtypes: int64(5), object(6)\n\nmemory usage: 29.7+ MB\n"
        }
      ]
    },
    {
      "cell_type": "markdown",
      "source": "### Заполнение пропусков",
      "metadata": {}
    },
    {
      "cell_type": "code",
      "source": "data.isna().sum()",
      "metadata": {},
      "execution_count": 5,
      "outputs": [
        {
          "execution_count": 5,
          "output_type": "execute_result",
          "data": {
            "text/plain": [
              "Price                    0\n",
              "VehicleType          37490\n",
              "RegistrationYear         0\n",
              "Gearbox              19833\n",
              "Power                    0\n",
              "Model                19705\n",
              "Kilometer                0\n",
              "RegistrationMonth        0\n",
              "FuelType             32895\n",
              "Brand                    0\n",
              "Repaired             71154\n",
              "dtype: int64"
            ]
          },
          "metadata": {}
        }
      ]
    },
    {
      "cell_type": "code",
      "source": "#заполнение пропусков\ndata['VehicleType'] = data['VehicleType'].fillna('Unknown')\ndata['Repaired'] = data['Repaired'].fillna('no')\ndata['Gearbox'] = data['Gearbox'].fillna(data['Gearbox'].value_counts().index[0])\ndata['FuelType'] = data['FuelType'].fillna(data['FuelType'].value_counts().index[0])\ndata['Model'] = data['Model'].fillna('Unknown')\ndata['Brand'] = data['Brand'].fillna('Unknown')",
      "metadata": {},
      "execution_count": 6,
      "outputs": []
    },
    {
      "cell_type": "code",
      "source": "data.isna().sum()",
      "metadata": {},
      "execution_count": 7,
      "outputs": [
        {
          "execution_count": 7,
          "output_type": "execute_result",
          "data": {
            "text/plain": [
              "Price                0\n",
              "VehicleType          0\n",
              "RegistrationYear     0\n",
              "Gearbox              0\n",
              "Power                0\n",
              "Model                0\n",
              "Kilometer            0\n",
              "RegistrationMonth    0\n",
              "FuelType             0\n",
              "Brand                0\n",
              "Repaired             0\n",
              "dtype: int64"
            ]
          },
          "metadata": {}
        }
      ]
    },
    {
      "cell_type": "markdown",
      "source": "### Проверка аномальных значений",
      "metadata": {}
    },
    {
      "cell_type": "code",
      "source": "sorted(data['RegistrationYear'].unique())",
      "metadata": {},
      "execution_count": 8,
      "outputs": [
        {
          "execution_count": 8,
          "output_type": "execute_result",
          "data": {
            "text/plain": [
              "[1000,\n",
              " 1001,\n",
              " 1039,\n",
              " 1111,\n",
              " 1200,\n",
              " 1234,\n",
              " 1253,\n",
              " 1255,\n",
              " 1300,\n",
              " 1400,\n",
              " 1500,\n",
              " 1600,\n",
              " 1602,\n",
              " 1688,\n",
              " 1800,\n",
              " 1910,\n",
              " 1915,\n",
              " 1919,\n",
              " 1920,\n",
              " 1923,\n",
              " 1925,\n",
              " 1927,\n",
              " 1928,\n",
              " 1929,\n",
              " 1930,\n",
              " 1931,\n",
              " 1932,\n",
              " 1933,\n",
              " 1934,\n",
              " 1935,\n",
              " 1936,\n",
              " 1937,\n",
              " 1938,\n",
              " 1940,\n",
              " 1941,\n",
              " 1942,\n",
              " 1943,\n",
              " 1944,\n",
              " 1945,\n",
              " 1946,\n",
              " 1947,\n",
              " 1948,\n",
              " 1949,\n",
              " 1950,\n",
              " 1951,\n",
              " 1952,\n",
              " 1953,\n",
              " 1954,\n",
              " 1955,\n",
              " 1956,\n",
              " 1957,\n",
              " 1958,\n",
              " 1959,\n",
              " 1960,\n",
              " 1961,\n",
              " 1962,\n",
              " 1963,\n",
              " 1964,\n",
              " 1965,\n",
              " 1966,\n",
              " 1967,\n",
              " 1968,\n",
              " 1969,\n",
              " 1970,\n",
              " 1971,\n",
              " 1972,\n",
              " 1973,\n",
              " 1974,\n",
              " 1975,\n",
              " 1976,\n",
              " 1977,\n",
              " 1978,\n",
              " 1979,\n",
              " 1980,\n",
              " 1981,\n",
              " 1982,\n",
              " 1983,\n",
              " 1984,\n",
              " 1985,\n",
              " 1986,\n",
              " 1987,\n",
              " 1988,\n",
              " 1989,\n",
              " 1990,\n",
              " 1991,\n",
              " 1992,\n",
              " 1993,\n",
              " 1994,\n",
              " 1995,\n",
              " 1996,\n",
              " 1997,\n",
              " 1998,\n",
              " 1999,\n",
              " 2000,\n",
              " 2001,\n",
              " 2002,\n",
              " 2003,\n",
              " 2004,\n",
              " 2005,\n",
              " 2006,\n",
              " 2007,\n",
              " 2008,\n",
              " 2009,\n",
              " 2010,\n",
              " 2011,\n",
              " 2012,\n",
              " 2013,\n",
              " 2014,\n",
              " 2015,\n",
              " 2016,\n",
              " 2017,\n",
              " 2018,\n",
              " 2019,\n",
              " 2066,\n",
              " 2200,\n",
              " 2222,\n",
              " 2290,\n",
              " 2500,\n",
              " 2800,\n",
              " 2900,\n",
              " 3000,\n",
              " 3200,\n",
              " 3500,\n",
              " 3700,\n",
              " 3800,\n",
              " 4000,\n",
              " 4100,\n",
              " 4500,\n",
              " 4800,\n",
              " 5000,\n",
              " 5300,\n",
              " 5555,\n",
              " 5600,\n",
              " 5900,\n",
              " 5911,\n",
              " 6000,\n",
              " 6500,\n",
              " 7000,\n",
              " 7100,\n",
              " 7500,\n",
              " 7800,\n",
              " 8000,\n",
              " 8200,\n",
              " 8455,\n",
              " 8500,\n",
              " 8888,\n",
              " 9000,\n",
              " 9229,\n",
              " 9450,\n",
              " 9996,\n",
              " 9999]"
            ]
          },
          "metadata": {}
        }
      ]
    },
    {
      "cell_type": "code",
      "source": "data.loc[(data['RegistrationYear'] < 1910) | (data['RegistrationYear'] > 2019)].count()[0]",
      "metadata": {},
      "execution_count": 9,
      "outputs": [
        {
          "execution_count": 9,
          "output_type": "execute_result",
          "data": {
            "text/plain": [
              "171"
            ]
          },
          "metadata": {}
        }
      ]
    },
    {
      "cell_type": "code",
      "source": "data.loc[(data['RegistrationYear'] < 1910) | (data['RegistrationYear'] > 2019)] = data['RegistrationYear'].value_counts().index[0]\n",
      "metadata": {},
      "execution_count": 10,
      "outputs": []
    },
    {
      "cell_type": "code",
      "source": "data['RegistrationMonth'].value_counts()",
      "metadata": {},
      "execution_count": 11,
      "outputs": [
        {
          "execution_count": 11,
          "output_type": "execute_result",
          "data": {
            "text/plain": [
              "0       37220\n",
              "3       34368\n",
              "6       31501\n",
              "4       29266\n",
              "5       29149\n",
              "7       27210\n",
              "10      26098\n",
              "12      24287\n",
              "11      24184\n",
              "9       23811\n",
              "1       23214\n",
              "8       22626\n",
              "2       21264\n",
              "2000      171\n",
              "Name: RegistrationMonth, dtype: int64"
            ]
          },
          "metadata": {}
        }
      ]
    },
    {
      "cell_type": "code",
      "source": "data.loc[data['RegistrationMonth'] == 0, 'RegistrationMonth'] = data['RegistrationMonth'].value_counts().index[1]",
      "metadata": {},
      "execution_count": 12,
      "outputs": []
    },
    {
      "cell_type": "code",
      "source": "data['RegistrationMonth'].unique()",
      "metadata": {},
      "execution_count": 13,
      "outputs": [
        {
          "execution_count": 13,
          "output_type": "execute_result",
          "data": {
            "text/plain": [
              "array([   3,    5,    8,    6,    7,   10,   12,   11,    2,    1,    4,\n",
              "          9, 2000])"
            ]
          },
          "metadata": {}
        }
      ]
    },
    {
      "cell_type": "code",
      "source": "plt.figure(figsize=[15,5])\nplt.hist(data.loc[data['Power']<500, 'Power'], bins=50);",
      "metadata": {},
      "execution_count": 14,
      "outputs": [
        {
          "output_type": "display_data",
          "data": {
            "image/png": "[encoded data removed]",
            "text/plain": [
              "<Figure size 1080x360 with 1 Axes>"
            ]
          },
          "metadata": {
            "needs_background": "light"
          }
        }
      ]
    },
    {
      "cell_type": "code",
      "source": "data.loc[(data['Power']>500) | (data['Power']<10), 'Power'] = data['Power'].median()",
      "metadata": {},
      "execution_count": 15,
      "outputs": []
    },
    {
      "cell_type": "markdown",
      "source": "### Разделение выборки",
      "metadata": {}
    },
    {
      "cell_type": "code",
      "source": "#раззделение на признаки и цели\ndata['Model'] = data['Model'].astype('str')\ndata['Brand'] = data['Brand'].astype('str')\nfeatures = data.drop('Price', axis=1)\ntarget = data['Price']\n#разделение на обучающую и тестовую выборки\nfeatures_train, features_valid, target_train, target_valid = train_test_split(\n    features, target, test_size=0.4, random_state=12345)\nfeatures_valid, features_test, target_valid, target_test = train_test_split(\n    features_valid, target_valid, test_size=0.5, random_state=12345)",
      "metadata": {},
      "execution_count": 16,
      "outputs": []
    },
    {
      "cell_type": "markdown",
      "source": "### Кодирование признаков",
      "metadata": {}
    },
    {
      "cell_type": "code",
      "source": "encoder = OrdinalEncoder()\nfeatures_train.loc[:,[\"Model\",\"Brand\"]] = encoder.fit_transform(features_train[[\"Model\",\"Brand\"]])\nfeatures_valid.loc[:,[\"Model\",\"Brand\"]] = encoder.transform(features_valid[[\"Model\",\"Brand\"]])\nfeatures_test.loc[:,[\"Model\",\"Brand\"]] = encoder.transform(features_test[[\"Model\",\"Brand\"]])\nfeatures_train = pd.get_dummies(features_train, drop_first=True)\nfeatures_valid = pd.get_dummies(features_valid, drop_first=True)\nfeatures_test = pd.get_dummies(features_test, drop_first=True)\nfeatures_train.head()",
      "metadata": {},
      "execution_count": 17,
      "outputs": [
        {
          "name": "stderr",
          "output_type": "stream",
          "text": "/opt/conda/lib/python3.9/site-packages/pandas/core/indexing.py:1738: SettingWithCopyWarning: \n\nA value is trying to be set on a copy of a slice from a DataFrame.\n\nTry using .loc[row_indexer,col_indexer] = value instead\n\n\n\nSee the caveats in the documentation: https://pandas.pydata.org/pandas-docs/stable/user_guide/indexing.html#returning-a-view-versus-a-copy\n\n  self._setitem_single_column(loc, value[:, i].tolist(), pi)\n"
        },
        {
          "execution_count": 17,
          "output_type": "execute_result",
          "data": {
            "text/html": [
              "<div>\n",
              "<style scoped>\n",
              "    .dataframe tbody tr th:only-of-type {\n",
              "        vertical-align: middle;\n",
              "    }\n",
              "\n",
              "    .dataframe tbody tr th {\n",
              "        vertical-align: top;\n",
              "    }\n",
              "\n",
              "    .dataframe thead th {\n",
              "        text-align: right;\n",
              "    }\n",
              "</style>\n",
              "<table border=\"1\" class=\"dataframe\">\n",
              "  <thead>\n",
              "    <tr style=\"text-align: right;\">\n",
              "      <th></th>\n",
              "      <th>RegistrationYear</th>\n",
              "      <th>Power</th>\n",
              "      <th>Model</th>\n",
              "      <th>Kilometer</th>\n",
              "      <th>RegistrationMonth</th>\n",
              "      <th>Brand</th>\n",
              "      <th>VehicleType_Unknown</th>\n",
              "      <th>VehicleType_bus</th>\n",
              "      <th>VehicleType_convertible</th>\n",
              "      <th>VehicleType_coupe</th>\n",
              "      <th>...</th>\n",
              "      <th>Gearbox_manual</th>\n",
              "      <th>FuelType_cng</th>\n",
              "      <th>FuelType_electric</th>\n",
              "      <th>FuelType_gasoline</th>\n",
              "      <th>FuelType_hybrid</th>\n",
              "      <th>FuelType_lpg</th>\n",
              "      <th>FuelType_other</th>\n",
              "      <th>FuelType_petrol</th>\n",
              "      <th>Repaired_no</th>\n",
              "      <th>Repaired_yes</th>\n",
              "    </tr>\n",
              "  </thead>\n",
              "  <tbody>\n",
              "    <tr>\n",
              "      <th>51358</th>\n",
              "      <td>2006</td>\n",
              "      <td>163.0</td>\n",
              "      <td>12.0</td>\n",
              "      <td>150000</td>\n",
              "      <td>1</td>\n",
              "      <td>3.0</td>\n",
              "      <td>0</td>\n",
              "      <td>0</td>\n",
              "      <td>0</td>\n",
              "      <td>0</td>\n",
              "      <td>...</td>\n",
              "      <td>1</td>\n",
              "      <td>0</td>\n",
              "      <td>0</td>\n",
              "      <td>1</td>\n",
              "      <td>0</td>\n",
              "      <td>0</td>\n",
              "      <td>0</td>\n",
              "      <td>0</td>\n",
              "      <td>1</td>\n",
              "      <td>0</td>\n",
              "    </tr>\n",
              "    <tr>\n",
              "      <th>259924</th>\n",
              "      <td>2012</td>\n",
              "      <td>170.0</td>\n",
              "      <td>30.0</td>\n",
              "      <td>50000</td>\n",
              "      <td>11</td>\n",
              "      <td>2.0</td>\n",
              "      <td>0</td>\n",
              "      <td>0</td>\n",
              "      <td>0</td>\n",
              "      <td>0</td>\n",
              "      <td>...</td>\n",
              "      <td>1</td>\n",
              "      <td>0</td>\n",
              "      <td>0</td>\n",
              "      <td>1</td>\n",
              "      <td>0</td>\n",
              "      <td>0</td>\n",
              "      <td>0</td>\n",
              "      <td>0</td>\n",
              "      <td>0</td>\n",
              "      <td>1</td>\n",
              "    </tr>\n",
              "    <tr>\n",
              "      <th>144289</th>\n",
              "      <td>2018</td>\n",
              "      <td>109.0</td>\n",
              "      <td>52.0</td>\n",
              "      <td>150000</td>\n",
              "      <td>11</td>\n",
              "      <td>6.0</td>\n",
              "      <td>1</td>\n",
              "      <td>0</td>\n",
              "      <td>0</td>\n",
              "      <td>0</td>\n",
              "      <td>...</td>\n",
              "      <td>1</td>\n",
              "      <td>0</td>\n",
              "      <td>0</td>\n",
              "      <td>0</td>\n",
              "      <td>0</td>\n",
              "      <td>0</td>\n",
              "      <td>0</td>\n",
              "      <td>1</td>\n",
              "      <td>1</td>\n",
              "      <td>0</td>\n",
              "    </tr>\n",
              "    <tr>\n",
              "      <th>346272</th>\n",
              "      <td>2003</td>\n",
              "      <td>170.0</td>\n",
              "      <td>156.0</td>\n",
              "      <td>150000</td>\n",
              "      <td>12</td>\n",
              "      <td>11.0</td>\n",
              "      <td>0</td>\n",
              "      <td>0</td>\n",
              "      <td>0</td>\n",
              "      <td>0</td>\n",
              "      <td>...</td>\n",
              "      <td>1</td>\n",
              "      <td>0</td>\n",
              "      <td>0</td>\n",
              "      <td>0</td>\n",
              "      <td>0</td>\n",
              "      <td>1</td>\n",
              "      <td>0</td>\n",
              "      <td>0</td>\n",
              "      <td>1</td>\n",
              "      <td>0</td>\n",
              "    </tr>\n",
              "    <tr>\n",
              "      <th>247746</th>\n",
              "      <td>2000</td>\n",
              "      <td>75.0</td>\n",
              "      <td>175.0</td>\n",
              "      <td>150000</td>\n",
              "      <td>5</td>\n",
              "      <td>39.0</td>\n",
              "      <td>0</td>\n",
              "      <td>0</td>\n",
              "      <td>0</td>\n",
              "      <td>0</td>\n",
              "      <td>...</td>\n",
              "      <td>1</td>\n",
              "      <td>0</td>\n",
              "      <td>0</td>\n",
              "      <td>0</td>\n",
              "      <td>0</td>\n",
              "      <td>0</td>\n",
              "      <td>0</td>\n",
              "      <td>1</td>\n",
              "      <td>1</td>\n",
              "      <td>0</td>\n",
              "    </tr>\n",
              "  </tbody>\n",
              "</table>\n",
              "<p>5 rows × 26 columns</p>\n",
              "</div>"
            ],
            "text/plain": [
              "        RegistrationYear  Power  Model  Kilometer  RegistrationMonth  Brand  \\\n",
              "51358               2006  163.0   12.0     150000                  1    3.0   \n",
              "259924              2012  170.0   30.0      50000                 11    2.0   \n",
              "144289              2018  109.0   52.0     150000                 11    6.0   \n",
              "346272              2003  170.0  156.0     150000                 12   11.0   \n",
              "247746              2000   75.0  175.0     150000                  5   39.0   \n",
              "\n",
              "        VehicleType_Unknown  VehicleType_bus  VehicleType_convertible  \\\n",
              "51358                     0                0                        0   \n",
              "259924                    0                0                        0   \n",
              "144289                    1                0                        0   \n",
              "346272                    0                0                        0   \n",
              "247746                    0                0                        0   \n",
              "\n",
              "        VehicleType_coupe  ...  Gearbox_manual  FuelType_cng  \\\n",
              "51358                   0  ...               1             0   \n",
              "259924                  0  ...               1             0   \n",
              "144289                  0  ...               1             0   \n",
              "346272                  0  ...               1             0   \n",
              "247746                  0  ...               1             0   \n",
              "\n",
              "        FuelType_electric  FuelType_gasoline  FuelType_hybrid  FuelType_lpg  \\\n",
              "51358                   0                  1                0             0   \n",
              "259924                  0                  1                0             0   \n",
              "144289                  0                  0                0             0   \n",
              "346272                  0                  0                0             1   \n",
              "247746                  0                  0                0             0   \n",
              "\n",
              "        FuelType_other  FuelType_petrol  Repaired_no  Repaired_yes  \n",
              "51358                0                0            1             0  \n",
              "259924               0                0            0             1  \n",
              "144289               0                1            1             0  \n",
              "346272               0                0            1             0  \n",
              "247746               0                1            1             0  \n",
              "\n",
              "[5 rows x 26 columns]"
            ]
          },
          "metadata": {}
        }
      ]
    },
    {
      "cell_type": "markdown",
      "source": "**Вывод:** из изначальных данных были удалены неинформативные столбцы, заполнены пропуски, исправленны аномальные значения, осуществлено кодирование категориальных признаков. Данные разделены на признаки и целевой признак, а также на обучающую, валидационную и тестовую выборку.",
      "metadata": {}
    },
    {
      "cell_type": "markdown",
      "source": "## Обучение моделей",
      "metadata": {}
    },
    {
      "cell_type": "markdown",
      "source": "### LightGBM модель градиентного бустинга",
      "metadata": {}
    },
    {
      "cell_type": "code",
      "source": "%%time\nbest_booster = lgb.LGBMModel(objective=\"regression\", learning_rate=0.2, seed=12345, max_depth=-1)\nbest_rmse = 2500\n\nfor learat in [0.1, 0.25, 0.5, 0.9]:\n    for dept in [50, 100, 500]:\n        for estim in [10, 20, 40]:\n\n            booster = lgb.LGBMModel(objective=\"regression\", learning_rate=learat, seed=12345, max_depth=dept, n_estimators=estim)\n            booster.fit(features_train, target_train, eval_set=[(features_valid, target_valid),], eval_metric=\"rmse\")\n            test_preds = booster.predict(features_valid)\n            \n            if sqrt(mean_squared_error(target_valid, test_preds)) < best_rmse:\n                best_booster = booster\n                best_rmse = sqrt(mean_squared_error(target_valid, test_preds))\n            \ntest_preds = best_booster.predict(features_valid)\nprint(\"\\nTest  RMSE Score: %.2f\"%sqrt(mean_squared_error(target_valid, test_preds)))",
      "metadata": {
        "scrolled": true
      },
      "execution_count": 18,
      "outputs": [
        {
          "name": "stdout",
          "output_type": "stream",
          "text": "[1]\tvalid_0's rmse: 4194.9\tvalid_0's l2: 1.75972e+07\n\n[2]\tvalid_0's rmse: 3924.95\tvalid_0's l2: 1.54052e+07\n\n[3]\tvalid_0's rmse: 3689.32\tvalid_0's l2: 1.36111e+07\n\n[4]\tvalid_0's rmse: 3484.59\tvalid_0's l2: 1.21423e+07\n\n[5]\tvalid_0's rmse: 3306.54\tvalid_0's l2: 1.09332e+07\n\n[6]\tvalid_0's rmse: 3152.86\tvalid_0's l2: 9.94051e+06\n\n[7]\tvalid_0's rmse: 3018.83\tvalid_0's l2: 9.11336e+06\n\n[8]\tvalid_0's rmse: 2902.24\tvalid_0's l2: 8.423e+06\n\n[9]\tvalid_0's rmse: 2800.42\tvalid_0's l2: 7.84234e+06\n\n[10]\tvalid_0's rmse: 2706.8\tvalid_0's l2: 7.32676e+06\n\n[1]\tvalid_0's rmse: 4194.9\tvalid_0's l2: 1.75972e+07\n\n[2]\tvalid_0's rmse: 3924.95\tvalid_0's l2: 1.54052e+07\n\n[3]\tvalid_0's rmse: 3689.32\tvalid_0's l2: 1.36111e+07\n\n[4]\tvalid_0's rmse: 3484.59\tvalid_0's l2: 1.21423e+07\n\n[5]\tvalid_0's rmse: 3306.54\tvalid_0's l2: 1.09332e+07\n\n[6]\tvalid_0's rmse: 3152.86\tvalid_0's l2: 9.94051e+06\n\n[7]\tvalid_0's rmse: 3018.83\tvalid_0's l2: 9.11336e+06\n\n[8]\tvalid_0's rmse: 2902.24\tvalid_0's l2: 8.423e+06\n\n[9]\tvalid_0's rmse: 2800.42\tvalid_0's l2: 7.84234e+06\n\n[10]\tvalid_0's rmse: 2706.8\tvalid_0's l2: 7.32676e+06\n\n[11]\tvalid_0's rmse: 2627.4\tvalid_0's l2: 6.90322e+06\n\n[12]\tvalid_0's rmse: 2558.11\tvalid_0's l2: 6.54391e+06\n\n[13]\tvalid_0's rmse: 2497.82\tvalid_0's l2: 6.23912e+06\n\n[14]\tvalid_0's rmse: 2442.58\tvalid_0's l2: 5.96621e+06\n\n[15]\tvalid_0's rmse: 2395.6\tvalid_0's l2: 5.73889e+06\n\n[16]\tvalid_0's rmse: 2355.68\tvalid_0's l2: 5.54922e+06\n\n[17]\tvalid_0's rmse: 2316.47\tvalid_0's l2: 5.36604e+06\n\n[18]\tvalid_0's rmse: 2284.09\tvalid_0's l2: 5.21708e+06\n\n[19]\tvalid_0's rmse: 2253.41\tvalid_0's l2: 5.07785e+06\n\n[20]\tvalid_0's rmse: 2224.86\tvalid_0's l2: 4.94999e+06\n\n[1]\tvalid_0's rmse: 4194.9\tvalid_0's l2: 1.75972e+07\n\n[2]\tvalid_0's rmse: 3924.95\tvalid_0's l2: 1.54052e+07\n\n[3]\tvalid_0's rmse: 3689.32\tvalid_0's l2: 1.36111e+07\n\n[4]\tvalid_0's rmse: 3484.59\tvalid_0's l2: 1.21423e+07\n\n[5]\tvalid_0's rmse: 3306.54\tvalid_0's l2: 1.09332e+07\n\n[6]\tvalid_0's rmse: 3152.86\tvalid_0's l2: 9.94051e+06\n\n[7]\tvalid_0's rmse: 3018.83\tvalid_0's l2: 9.11336e+06\n\n[8]\tvalid_0's rmse: 2902.24\tvalid_0's l2: 8.423e+06\n\n[9]\tvalid_0's rmse: 2800.42\tvalid_0's l2: 7.84234e+06\n\n[10]\tvalid_0's rmse: 2706.8\tvalid_0's l2: 7.32676e+06\n\n[11]\tvalid_0's rmse: 2627.4\tvalid_0's l2: 6.90322e+06\n\n[12]\tvalid_0's rmse: 2558.11\tvalid_0's l2: 6.54391e+06\n\n[13]\tvalid_0's rmse: 2497.82\tvalid_0's l2: 6.23912e+06\n\n[14]\tvalid_0's rmse: 2442.58\tvalid_0's l2: 5.96621e+06\n\n[15]\tvalid_0's rmse: 2395.6\tvalid_0's l2: 5.73889e+06\n\n[16]\tvalid_0's rmse: 2355.68\tvalid_0's l2: 5.54922e+06\n\n[17]\tvalid_0's rmse: 2316.47\tvalid_0's l2: 5.36604e+06\n\n[18]\tvalid_0's rmse: 2284.09\tvalid_0's l2: 5.21708e+06\n\n[19]\tvalid_0's rmse: 2253.41\tvalid_0's l2: 5.07785e+06\n\n[20]\tvalid_0's rmse: 2224.86\tvalid_0's l2: 4.94999e+06\n\n[21]\tvalid_0's rmse: 2200.65\tvalid_0's l2: 4.84286e+06\n\n[22]\tvalid_0's rmse: 2176.84\tvalid_0's l2: 4.73864e+06\n\n[23]\tvalid_0's rmse: 2155.54\tvalid_0's l2: 4.64633e+06\n\n[24]\tvalid_0's rmse: 2137.91\tvalid_0's l2: 4.57067e+06\n\n[25]\tvalid_0's rmse: 2122.64\tvalid_0's l2: 4.50562e+06\n\n[26]\tvalid_0's rmse: 2109.03\tvalid_0's l2: 4.44799e+06\n\n[27]\tvalid_0's rmse: 2092.57\tvalid_0's l2: 4.37887e+06\n\n[28]\tvalid_0's rmse: 2077.07\tvalid_0's l2: 4.31421e+06\n\n[29]\tvalid_0's rmse: 2064.69\tvalid_0's l2: 4.26294e+06\n\n[30]\tvalid_0's rmse: 2055.03\tvalid_0's l2: 4.22316e+06\n\n[31]\tvalid_0's rmse: 2043.15\tvalid_0's l2: 4.17445e+06\n\n[32]\tvalid_0's rmse: 2035.14\tvalid_0's l2: 4.14178e+06\n\n[33]\tvalid_0's rmse: 2025.75\tvalid_0's l2: 4.10368e+06\n\n[34]\tvalid_0's rmse: 2018.87\tvalid_0's l2: 4.07585e+06\n\n[35]\tvalid_0's rmse: 2012.65\tvalid_0's l2: 4.05077e+06\n\n[36]\tvalid_0's rmse: 2006.05\tvalid_0's l2: 4.02423e+06\n\n[37]\tvalid_0's rmse: 1998.52\tvalid_0's l2: 3.99409e+06\n\n[38]\tvalid_0's rmse: 1993.72\tvalid_0's l2: 3.9749e+06\n\n[39]\tvalid_0's rmse: 1988.75\tvalid_0's l2: 3.95511e+06\n\n[40]\tvalid_0's rmse: 1983.97\tvalid_0's l2: 3.93613e+06\n\n[1]\tvalid_0's rmse: 4194.9\tvalid_0's l2: 1.75972e+07\n\n[2]\tvalid_0's rmse: 3924.95\tvalid_0's l2: 1.54052e+07\n\n[3]\tvalid_0's rmse: 3689.32\tvalid_0's l2: 1.36111e+07\n\n[4]\tvalid_0's rmse: 3484.59\tvalid_0's l2: 1.21423e+07\n\n[5]\tvalid_0's rmse: 3306.54\tvalid_0's l2: 1.09332e+07\n\n[6]\tvalid_0's rmse: 3152.86\tvalid_0's l2: 9.94051e+06\n\n[7]\tvalid_0's rmse: 3018.83\tvalid_0's l2: 9.11336e+06\n\n[8]\tvalid_0's rmse: 2902.24\tvalid_0's l2: 8.423e+06\n\n[9]\tvalid_0's rmse: 2800.42\tvalid_0's l2: 7.84234e+06\n\n[10]\tvalid_0's rmse: 2706.8\tvalid_0's l2: 7.32676e+06\n\n[1]\tvalid_0's rmse: 4194.9\tvalid_0's l2: 1.75972e+07\n\n[2]\tvalid_0's rmse: 3924.95\tvalid_0's l2: 1.54052e+07\n\n[3]\tvalid_0's rmse: 3689.32\tvalid_0's l2: 1.36111e+07\n\n[4]\tvalid_0's rmse: 3484.59\tvalid_0's l2: 1.21423e+07\n\n[5]\tvalid_0's rmse: 3306.54\tvalid_0's l2: 1.09332e+07\n\n[6]\tvalid_0's rmse: 3152.86\tvalid_0's l2: 9.94051e+06\n\n[7]\tvalid_0's rmse: 3018.83\tvalid_0's l2: 9.11336e+06\n\n[8]\tvalid_0's rmse: 2902.24\tvalid_0's l2: 8.423e+06\n\n[9]\tvalid_0's rmse: 2800.42\tvalid_0's l2: 7.84234e+06\n\n[10]\tvalid_0's rmse: 2706.8\tvalid_0's l2: 7.32676e+06\n\n[11]\tvalid_0's rmse: 2627.4\tvalid_0's l2: 6.90322e+06\n\n[12]\tvalid_0's rmse: 2558.11\tvalid_0's l2: 6.54391e+06\n\n[13]\tvalid_0's rmse: 2497.82\tvalid_0's l2: 6.23912e+06\n\n[14]\tvalid_0's rmse: 2442.58\tvalid_0's l2: 5.96621e+06\n\n[15]\tvalid_0's rmse: 2395.6\tvalid_0's l2: 5.73889e+06\n\n[16]\tvalid_0's rmse: 2355.68\tvalid_0's l2: 5.54922e+06\n\n[17]\tvalid_0's rmse: 2316.47\tvalid_0's l2: 5.36604e+06\n\n[18]\tvalid_0's rmse: 2284.09\tvalid_0's l2: 5.21708e+06\n\n[19]\tvalid_0's rmse: 2253.41\tvalid_0's l2: 5.07785e+06\n\n[20]\tvalid_0's rmse: 2224.86\tvalid_0's l2: 4.94999e+06\n\n[1]\tvalid_0's rmse: 4194.9\tvalid_0's l2: 1.75972e+07\n\n[2]\tvalid_0's rmse: 3924.95\tvalid_0's l2: 1.54052e+07\n\n[3]\tvalid_0's rmse: 3689.32\tvalid_0's l2: 1.36111e+07\n\n[4]\tvalid_0's rmse: 3484.59\tvalid_0's l2: 1.21423e+07\n\n[5]\tvalid_0's rmse: 3306.54\tvalid_0's l2: 1.09332e+07\n\n[6]\tvalid_0's rmse: 3152.86\tvalid_0's l2: 9.94051e+06\n\n[7]\tvalid_0's rmse: 3018.83\tvalid_0's l2: 9.11336e+06\n\n[8]\tvalid_0's rmse: 2902.24\tvalid_0's l2: 8.423e+06\n\n[9]\tvalid_0's rmse: 2800.42\tvalid_0's l2: 7.84234e+06\n\n[10]\tvalid_0's rmse: 2706.8\tvalid_0's l2: 7.32676e+06\n\n[11]\tvalid_0's rmse: 2627.4\tvalid_0's l2: 6.90322e+06\n\n[12]\tvalid_0's rmse: 2558.11\tvalid_0's l2: 6.54391e+06\n\n[13]\tvalid_0's rmse: 2497.82\tvalid_0's l2: 6.23912e+06\n\n[14]\tvalid_0's rmse: 2442.58\tvalid_0's l2: 5.96621e+06\n\n[15]\tvalid_0's rmse: 2395.6\tvalid_0's l2: 5.73889e+06\n\n[16]\tvalid_0's rmse: 2355.68\tvalid_0's l2: 5.54922e+06\n\n[17]\tvalid_0's rmse: 2316.47\tvalid_0's l2: 5.36604e+06\n\n[18]\tvalid_0's rmse: 2284.09\tvalid_0's l2: 5.21708e+06\n\n[19]\tvalid_0's rmse: 2253.41\tvalid_0's l2: 5.07785e+06\n\n[20]\tvalid_0's rmse: 2224.86\tvalid_0's l2: 4.94999e+06\n\n[21]\tvalid_0's rmse: 2200.65\tvalid_0's l2: 4.84286e+06\n\n[22]\tvalid_0's rmse: 2176.84\tvalid_0's l2: 4.73864e+06\n\n[23]\tvalid_0's rmse: 2155.54\tvalid_0's l2: 4.64633e+06\n\n[24]\tvalid_0's rmse: 2137.91\tvalid_0's l2: 4.57067e+06\n\n[25]\tvalid_0's rmse: 2122.64\tvalid_0's l2: 4.50562e+06\n\n[26]\tvalid_0's rmse: 2109.03\tvalid_0's l2: 4.44799e+06\n\n[27]\tvalid_0's rmse: 2092.57\tvalid_0's l2: 4.37887e+06\n\n[28]\tvalid_0's rmse: 2077.07\tvalid_0's l2: 4.31421e+06\n\n[29]\tvalid_0's rmse: 2064.69\tvalid_0's l2: 4.26294e+06\n\n[30]\tvalid_0's rmse: 2055.03\tvalid_0's l2: 4.22316e+06\n\n[31]\tvalid_0's rmse: 2043.15\tvalid_0's l2: 4.17445e+06\n\n[32]\tvalid_0's rmse: 2035.14\tvalid_0's l2: 4.14178e+06\n\n[33]\tvalid_0's rmse: 2025.75\tvalid_0's l2: 4.10368e+06\n\n[34]\tvalid_0's rmse: 2018.87\tvalid_0's l2: 4.07585e+06\n\n[35]\tvalid_0's rmse: 2012.65\tvalid_0's l2: 4.05077e+06\n\n[36]\tvalid_0's rmse: 2006.05\tvalid_0's l2: 4.02423e+06\n\n[37]\tvalid_0's rmse: 1998.52\tvalid_0's l2: 3.99409e+06\n\n[38]\tvalid_0's rmse: 1993.72\tvalid_0's l2: 3.9749e+06\n\n[39]\tvalid_0's rmse: 1988.75\tvalid_0's l2: 3.95511e+06\n\n[40]\tvalid_0's rmse: 1983.97\tvalid_0's l2: 3.93613e+06\n\n[1]\tvalid_0's rmse: 4194.9\tvalid_0's l2: 1.75972e+07\n\n[2]\tvalid_0's rmse: 3924.95\tvalid_0's l2: 1.54052e+07\n\n[3]\tvalid_0's rmse: 3689.32\tvalid_0's l2: 1.36111e+07\n\n[4]\tvalid_0's rmse: 3484.59\tvalid_0's l2: 1.21423e+07\n\n[5]\tvalid_0's rmse: 3306.54\tvalid_0's l2: 1.09332e+07\n\n[6]\tvalid_0's rmse: 3152.86\tvalid_0's l2: 9.94051e+06\n\n[7]\tvalid_0's rmse: 3018.83\tvalid_0's l2: 9.11336e+06\n\n[8]\tvalid_0's rmse: 2902.24\tvalid_0's l2: 8.423e+06\n\n[9]\tvalid_0's rmse: 2800.42\tvalid_0's l2: 7.84234e+06\n\n[10]\tvalid_0's rmse: 2706.8\tvalid_0's l2: 7.32676e+06\n\n[1]\tvalid_0's rmse: 4194.9\tvalid_0's l2: 1.75972e+07\n[2]\tvalid_0's rmse: 3924.95\tvalid_0's l2: 1.54052e+07\n\n[3]\tvalid_0's rmse: 3689.32\tvalid_0's l2: 1.36111e+07\n\n[4]\tvalid_0's rmse: 3484.59\tvalid_0's l2: 1.21423e+07\n\n[5]\tvalid_0's rmse: 3306.54\tvalid_0's l2: 1.09332e+07\n\n[6]\tvalid_0's rmse: 3152.86\tvalid_0's l2: 9.94051e+06\n\n[7]\tvalid_0's rmse: 3018.83\tvalid_0's l2: 9.11336e+06\n\n[8]\tvalid_0's rmse: 2902.24\tvalid_0's l2: 8.423e+06\n\n[9]\tvalid_0's rmse: 2800.42\tvalid_0's l2: 7.84234e+06\n\n[10]\tvalid_0's rmse: 2706.8\tvalid_0's l2: 7.32676e+06\n\n[11]\tvalid_0's rmse: 2627.4\tvalid_0's l2: 6.90322e+06\n\n[12]\tvalid_0's rmse: 2558.11\tvalid_0's l2: 6.54391e+06\n\n[13]\tvalid_0's rmse: 2497.82\tvalid_0's l2: 6.23912e+06\n\n[14]\tvalid_0's rmse: 2442.58\tvalid_0's l2: 5.96621e+06\n\n[15]\tvalid_0's rmse: 2395.6\tvalid_0's l2: 5.73889e+06\n\n[16]\tvalid_0's rmse: 2355.68\tvalid_0's l2: 5.54922e+06\n\n[17]\tvalid_0's rmse: 2316.47\tvalid_0's l2: 5.36604e+06\n\n[18]\tvalid_0's rmse: 2284.09\tvalid_0's l2: 5.21708e+06\n\n[19]\tvalid_0's rmse: 2253.41\tvalid_0's l2: 5.07785e+06\n\n[20]\tvalid_0's rmse: 2224.86\tvalid_0's l2: 4.94999e+06\n\n[1]\tvalid_0's rmse: 4194.9\tvalid_0's l2: 1.75972e+07\n\n[2]\tvalid_0's rmse: 3924.95\tvalid_0's l2: 1.54052e+07\n\n[3]\tvalid_0's rmse: 3689.32\tvalid_0's l2: 1.36111e+07\n\n[4]\tvalid_0's rmse: 3484.59\tvalid_0's l2: 1.21423e+07\n\n[5]\tvalid_0's rmse: 3306.54\tvalid_0's l2: 1.09332e+07\n\n[6]\tvalid_0's rmse: 3152.86\tvalid_0's l2: 9.94051e+06\n\n[7]\tvalid_0's rmse: 3018.83\tvalid_0's l2: 9.11336e+06\n\n[8]\tvalid_0's rmse: 2902.24\tvalid_0's l2: 8.423e+06\n\n[9]\tvalid_0's rmse: 2800.42\tvalid_0's l2: 7.84234e+06\n\n[10]\tvalid_0's rmse: 2706.8\tvalid_0's l2: 7.32676e+06\n\n[11]\tvalid_0's rmse: 2627.4\tvalid_0's l2: 6.90322e+06\n\n[12]\tvalid_0's rmse: 2558.11\tvalid_0's l2: 6.54391e+06\n\n[13]\tvalid_0's rmse: 2497.82\tvalid_0's l2: 6.23912e+06\n\n[14]\tvalid_0's rmse: 2442.58\tvalid_0's l2: 5.96621e+06\n\n[15]\tvalid_0's rmse: 2395.6\tvalid_0's l2: 5.73889e+06\n\n[16]\tvalid_0's rmse: 2355.68\tvalid_0's l2: 5.54922e+06\n\n[17]\tvalid_0's rmse: 2316.47\tvalid_0's l2: 5.36604e+06\n\n[18]\tvalid_0's rmse: 2284.09\tvalid_0's l2: 5.21708e+06\n\n[19]\tvalid_0's rmse: 2253.41\tvalid_0's l2: 5.07785e+06\n\n[20]\tvalid_0's rmse: 2224.86\tvalid_0's l2: 4.94999e+06\n\n[21]\tvalid_0's rmse: 2200.65\tvalid_0's l2: 4.84286e+06\n\n[22]\tvalid_0's rmse: 2176.84\tvalid_0's l2: 4.73864e+06\n\n[23]\tvalid_0's rmse: 2155.54\tvalid_0's l2: 4.64633e+06\n\n[24]\tvalid_0's rmse: 2137.91\tvalid_0's l2: 4.57067e+06\n\n[25]\tvalid_0's rmse: 2122.64\tvalid_0's l2: 4.50562e+06\n\n[26]\tvalid_0's rmse: 2109.03\tvalid_0's l2: 4.44799e+06\n\n[27]\tvalid_0's rmse: 2092.57\tvalid_0's l2: 4.37887e+06\n\n[28]\tvalid_0's rmse: 2077.07\tvalid_0's l2: 4.31421e+06\n\n[29]\tvalid_0's rmse: 2064.69\tvalid_0's l2: 4.26294e+06\n\n[30]\tvalid_0's rmse: 2055.03\tvalid_0's l2: 4.22316e+06\n\n[31]\tvalid_0's rmse: 2043.15\tvalid_0's l2: 4.17445e+06\n\n[32]\tvalid_0's rmse: 2035.14\tvalid_0's l2: 4.14178e+06\n\n[33]\tvalid_0's rmse: 2025.75\tvalid_0's l2: 4.10368e+06\n\n[34]\tvalid_0's rmse: 2018.87\tvalid_0's l2: 4.07585e+06\n\n[35]\tvalid_0's rmse: 2012.65\tvalid_0's l2: 4.05077e+06\n\n[36]\tvalid_0's rmse: 2006.05\tvalid_0's l2: 4.02423e+06\n\n[37]\tvalid_0's rmse: 1998.52\tvalid_0's l2: 3.99409e+06\n\n[38]\tvalid_0's rmse: 1993.72\tvalid_0's l2: 3.9749e+06\n\n[39]\tvalid_0's rmse: 1988.75\tvalid_0's l2: 3.95511e+06\n\n[40]\tvalid_0's rmse: 1983.97\tvalid_0's l2: 3.93613e+06\n\n[1]\tvalid_0's rmse: 3752.84\tvalid_0's l2: 1.40838e+07\n\n[2]\tvalid_0's rmse: 3240.76\tvalid_0's l2: 1.05025e+07\n\n[3]\tvalid_0's rmse: 2891.24\tvalid_0's l2: 8.35926e+06\n\n[4]\tvalid_0's rmse: 2651.5\tvalid_0's l2: 7.03043e+06\n\n[5]\tvalid_0's rmse: 2478.21\tvalid_0's l2: 6.14152e+06\n\n[6]\tvalid_0's rmse: 2356.6\tvalid_0's l2: 5.55356e+06\n\n[7]\tvalid_0's rmse: 2269.18\tvalid_0's l2: 5.14917e+06\n\n[8]\tvalid_0's rmse: 2206.22\tvalid_0's l2: 4.86739e+06\n\n[9]\tvalid_0's rmse: 2154.01\tvalid_0's l2: 4.63974e+06\n\n[10]\tvalid_0's rmse: 2111.83\tvalid_0's l2: 4.45981e+06\n\n[1]\tvalid_0's rmse: 3752.84\tvalid_0's l2: 1.40838e+07\n\n[2]\tvalid_0's rmse: 3240.76\tvalid_0's l2: 1.05025e+07\n\n[3]\tvalid_0's rmse: 2891.24\tvalid_0's l2: 8.35926e+06\n\n[4]\tvalid_0's rmse: 2651.5\tvalid_0's l2: 7.03043e+06\n\n[5]\tvalid_0's rmse: 2478.21\tvalid_0's l2: 6.14152e+06\n\n[6]\tvalid_0's rmse: 2356.6\tvalid_0's l2: 5.55356e+06\n\n[7]\tvalid_0's rmse: 2269.18\tvalid_0's l2: 5.14917e+06\n\n[8]\tvalid_0's rmse: 2206.22\tvalid_0's l2: 4.86739e+06\n\n[9]\tvalid_0's rmse: 2154.01\tvalid_0's l2: 4.63974e+06\n\n[10]\tvalid_0's rmse: 2111.83\tvalid_0's l2: 4.45981e+06\n\n[11]\tvalid_0's rmse: 2078.67\tvalid_0's l2: 4.32086e+06\n\n[12]\tvalid_0's rmse: 2047.68\tvalid_0's l2: 4.19299e+06\n\n[13]\tvalid_0's rmse: 2031.05\tvalid_0's l2: 4.12517e+06\n\n[14]\tvalid_0's rmse: 2014.89\tvalid_0's l2: 4.05977e+06\n\n[15]\tvalid_0's rmse: 2001.71\tvalid_0's l2: 4.00686e+06\n\n[16]\tvalid_0's rmse: 1992.08\tvalid_0's l2: 3.9684e+06\n\n[17]\tvalid_0's rmse: 1980.61\tvalid_0's l2: 3.9228e+06\n\n[18]\tvalid_0's rmse: 1971.96\tvalid_0's l2: 3.88861e+06\n\n[19]\tvalid_0's rmse: 1962.41\tvalid_0's l2: 3.85107e+06\n\n[20]\tvalid_0's rmse: 1954.98\tvalid_0's l2: 3.82194e+06\n\n[1]\tvalid_0's rmse: 3752.84\tvalid_0's l2: 1.40838e+07\n\n[2]\tvalid_0's rmse: 3240.76\tvalid_0's l2: 1.05025e+07\n\n[3]\tvalid_0's rmse: 2891.24\tvalid_0's l2: 8.35926e+06\n\n[4]\tvalid_0's rmse: 2651.5\tvalid_0's l2: 7.03043e+06\n\n[5]\tvalid_0's rmse: 2478.21\tvalid_0's l2: 6.14152e+06\n\n[6]\tvalid_0's rmse: 2356.6\tvalid_0's l2: 5.55356e+06\n\n[7]\tvalid_0's rmse: 2269.18\tvalid_0's l2: 5.14917e+06\n\n[8]\tvalid_0's rmse: 2206.22\tvalid_0's l2: 4.86739e+06\n\n[9]\tvalid_0's rmse: 2154.01\tvalid_0's l2: 4.63974e+06\n\n[10]\tvalid_0's rmse: 2111.83\tvalid_0's l2: 4.45981e+06\n\n[11]\tvalid_0's rmse: 2078.67\tvalid_0's l2: 4.32086e+06\n\n[12]\tvalid_0's rmse: 2047.68\tvalid_0's l2: 4.19299e+06\n\n[13]\tvalid_0's rmse: 2031.05\tvalid_0's l2: 4.12517e+06\n\n[14]\tvalid_0's rmse: 2014.89\tvalid_0's l2: 4.05977e+06\n\n[15]\tvalid_0's rmse: 2001.71\tvalid_0's l2: 4.00686e+06\n\n[16]\tvalid_0's rmse: 1992.08\tvalid_0's l2: 3.9684e+06\n\n[17]\tvalid_0's rmse: 1980.61\tvalid_0's l2: 3.9228e+06\n\n[18]\tvalid_0's rmse: 1971.96\tvalid_0's l2: 3.88861e+06\n\n[19]\tvalid_0's rmse: 1962.41\tvalid_0's l2: 3.85107e+06\n\n[20]\tvalid_0's rmse: 1954.98\tvalid_0's l2: 3.82194e+06\n\n[21]\tvalid_0's rmse: 1948.1\tvalid_0's l2: 3.79508e+06\n\n[22]\tvalid_0's rmse: 1940.42\tvalid_0's l2: 3.76524e+06\n\n[23]\tvalid_0's rmse: 1933.12\tvalid_0's l2: 3.73697e+06\n\n[24]\tvalid_0's rmse: 1928.67\tvalid_0's l2: 3.71976e+06\n\n[25]\tvalid_0's rmse: 1921.9\tvalid_0's l2: 3.69369e+06\n\n[26]\tvalid_0's rmse: 1918.66\tvalid_0's l2: 3.68126e+06\n\n[27]\tvalid_0's rmse: 1916.46\tvalid_0's l2: 3.67281e+06\n\n[28]\tvalid_0's rmse: 1910.53\tvalid_0's l2: 3.65014e+06\n\n[29]\tvalid_0's rmse: 1905.98\tvalid_0's l2: 3.63278e+06\n\n[30]\tvalid_0's rmse: 1902.63\tvalid_0's l2: 3.62001e+06\n\n[31]\tvalid_0's rmse: 1899.08\tvalid_0's l2: 3.60651e+06\n\n[32]\tvalid_0's rmse: 1896.84\tvalid_0's l2: 3.59801e+06\n\n[33]\tvalid_0's rmse: 1893.4\tvalid_0's l2: 3.58497e+06\n\n[34]\tvalid_0's rmse: 1890\tvalid_0's l2: 3.57209e+06\n\n[35]\tvalid_0's rmse: 1888.01\tvalid_0's l2: 3.56458e+06\n\n[36]\tvalid_0's rmse: 1885.12\tvalid_0's l2: 3.55368e+06\n\n[37]\tvalid_0's rmse: 1882.41\tvalid_0's l2: 3.54347e+06\n\n[38]\tvalid_0's rmse: 1878.38\tvalid_0's l2: 3.52833e+06\n\n[39]\tvalid_0's rmse: 1875.25\tvalid_0's l2: 3.51658e+06\n\n[40]\tvalid_0's rmse: 1873.82\tvalid_0's l2: 3.5112e+06\n\n[1]\tvalid_0's rmse: 3752.84\tvalid_0's l2: 1.40838e+07\n\n[2]\tvalid_0's rmse: 3240.76\tvalid_0's l2: 1.05025e+07\n\n[3]\tvalid_0's rmse: 2891.24\tvalid_0's l2: 8.35926e+06\n\n[4]\tvalid_0's rmse: 2651.5\tvalid_0's l2: 7.03043e+06\n\n[5]\tvalid_0's rmse: 2478.21\tvalid_0's l2: 6.14152e+06\n\n[6]\tvalid_0's rmse: 2356.6\tvalid_0's l2: 5.55356e+06\n\n[7]\tvalid_0's rmse: 2269.18\tvalid_0's l2: 5.14917e+06\n\n[8]\tvalid_0's rmse: 2206.22\tvalid_0's l2: 4.86739e+06\n\n[9]\tvalid_0's rmse: 2154.01\tvalid_0's l2: 4.63974e+06\n\n[10]\tvalid_0's rmse: 2111.83\tvalid_0's l2: 4.45981e+06\n\n[1]\tvalid_0's rmse: 3752.84\tvalid_0's l2: 1.40838e+07\n\n[2]\tvalid_0's rmse: 3240.76\tvalid_0's l2: 1.05025e+07\n\n[3]\tvalid_0's rmse: 2891.24\tvalid_0's l2: 8.35926e+06\n\n[4]\tvalid_0's rmse: 2651.5\tvalid_0's l2: 7.03043e+06\n\n[5]\tvalid_0's rmse: 2478.21\tvalid_0's l2: 6.14152e+06\n\n[6]\tvalid_0's rmse: 2356.6\tvalid_0's l2: 5.55356e+06\n\n[7]\tvalid_0's rmse: 2269.18\tvalid_0's l2: 5.14917e+06\n\n[8]\tvalid_0's rmse: 2206.22\tvalid_0's l2: 4.86739e+06\n\n[9]\tvalid_0's rmse: 2154.01\tvalid_0's l2: 4.63974e+06\n\n[10]\tvalid_0's rmse: 2111.83\tvalid_0's l2: 4.45981e+06\n\n[11]\tvalid_0's rmse: 2078.67\tvalid_0's l2: 4.32086e+06\n\n[12]\tvalid_0's rmse: 2047.68\tvalid_0's l2: 4.19299e+06\n[13]\tvalid_0's rmse: 2031.05\tvalid_0's l2: 4.12517e+06\n\n[14]\tvalid_0's rmse: 2014.89\tvalid_0's l2: 4.05977e+06\n\n[15]\tvalid_0's rmse: 2001.71\tvalid_0's l2: 4.00686e+06\n\n[16]\tvalid_0's rmse: 1992.08\tvalid_0's l2: 3.9684e+06\n\n[17]\tvalid_0's rmse: 1980.61\tvalid_0's l2: 3.9228e+06\n\n[18]\tvalid_0's rmse: 1971.96\tvalid_0's l2: 3.88861e+06\n\n[19]\tvalid_0's rmse: 1962.41\tvalid_0's l2: 3.85107e+06\n\n[20]\tvalid_0's rmse: 1954.98\tvalid_0's l2: 3.82194e+06\n\n[1]\tvalid_0's rmse: 3752.84\tvalid_0's l2: 1.40838e+07\n\n[2]\tvalid_0's rmse: 3240.76\tvalid_0's l2: 1.05025e+07\n\n[3]\tvalid_0's rmse: 2891.24\tvalid_0's l2: 8.35926e+06\n\n[4]\tvalid_0's rmse: 2651.5\tvalid_0's l2: 7.03043e+06\n\n[5]\tvalid_0's rmse: 2478.21\tvalid_0's l2: 6.14152e+06\n\n[6]\tvalid_0's rmse: 2356.6\tvalid_0's l2: 5.55356e+06\n\n[7]\tvalid_0's rmse: 2269.18\tvalid_0's l2: 5.14917e+06\n\n[8]\tvalid_0's rmse: 2206.22\tvalid_0's l2: 4.86739e+06\n\n[9]\tvalid_0's rmse: 2154.01\tvalid_0's l2: 4.63974e+06\n\n[10]\tvalid_0's rmse: 2111.83\tvalid_0's l2: 4.45981e+06\n\n[11]\tvalid_0's rmse: 2078.67\tvalid_0's l2: 4.32086e+06\n\n[12]\tvalid_0's rmse: 2047.68\tvalid_0's l2: 4.19299e+06\n\n[13]\tvalid_0's rmse: 2031.05\tvalid_0's l2: 4.12517e+06\n\n[14]\tvalid_0's rmse: 2014.89\tvalid_0's l2: 4.05977e+06\n\n[15]\tvalid_0's rmse: 2001.71\tvalid_0's l2: 4.00686e+06\n\n[16]\tvalid_0's rmse: 1992.08\tvalid_0's l2: 3.9684e+06\n\n[17]\tvalid_0's rmse: 1980.61\tvalid_0's l2: 3.9228e+06\n\n[18]\tvalid_0's rmse: 1971.96\tvalid_0's l2: 3.88861e+06\n\n[19]\tvalid_0's rmse: 1962.41\tvalid_0's l2: 3.85107e+06\n\n[20]\tvalid_0's rmse: 1954.98\tvalid_0's l2: 3.82194e+06\n\n[21]\tvalid_0's rmse: 1948.1\tvalid_0's l2: 3.79508e+06\n\n[22]\tvalid_0's rmse: 1940.42\tvalid_0's l2: 3.76524e+06\n\n[23]\tvalid_0's rmse: 1933.12\tvalid_0's l2: 3.73697e+06\n\n[24]\tvalid_0's rmse: 1928.67\tvalid_0's l2: 3.71976e+06\n\n[25]\tvalid_0's rmse: 1921.9\tvalid_0's l2: 3.69369e+06\n\n[26]\tvalid_0's rmse: 1918.66\tvalid_0's l2: 3.68126e+06\n\n[27]\tvalid_0's rmse: 1916.46\tvalid_0's l2: 3.67281e+06\n\n[28]\tvalid_0's rmse: 1910.53\tvalid_0's l2: 3.65014e+06\n\n[29]\tvalid_0's rmse: 1905.98\tvalid_0's l2: 3.63278e+06\n\n[30]\tvalid_0's rmse: 1902.63\tvalid_0's l2: 3.62001e+06\n\n[31]\tvalid_0's rmse: 1899.08\tvalid_0's l2: 3.60651e+06\n\n[32]\tvalid_0's rmse: 1896.84\tvalid_0's l2: 3.59801e+06\n\n[33]\tvalid_0's rmse: 1893.4\tvalid_0's l2: 3.58497e+06\n\n[34]\tvalid_0's rmse: 1890\tvalid_0's l2: 3.57209e+06\n\n[35]\tvalid_0's rmse: 1888.01\tvalid_0's l2: 3.56458e+06\n\n[36]\tvalid_0's rmse: 1885.12\tvalid_0's l2: 3.55368e+06\n\n[37]\tvalid_0's rmse: 1882.41\tvalid_0's l2: 3.54347e+06\n\n[38]\tvalid_0's rmse: 1878.38\tvalid_0's l2: 3.52833e+06\n\n[39]\tvalid_0's rmse: 1875.25\tvalid_0's l2: 3.51658e+06\n\n[40]\tvalid_0's rmse: 1873.82\tvalid_0's l2: 3.5112e+06\n\n[1]\tvalid_0's rmse: 3752.84\tvalid_0's l2: 1.40838e+07\n\n[2]\tvalid_0's rmse: 3240.76\tvalid_0's l2: 1.05025e+07\n\n[3]\tvalid_0's rmse: 2891.24\tvalid_0's l2: 8.35926e+06\n\n[4]\tvalid_0's rmse: 2651.5\tvalid_0's l2: 7.03043e+06\n\n[5]\tvalid_0's rmse: 2478.21\tvalid_0's l2: 6.14152e+06\n\n[6]\tvalid_0's rmse: 2356.6\tvalid_0's l2: 5.55356e+06\n\n[7]\tvalid_0's rmse: 2269.18\tvalid_0's l2: 5.14917e+06\n\n[8]\tvalid_0's rmse: 2206.22\tvalid_0's l2: 4.86739e+06\n\n[9]\tvalid_0's rmse: 2154.01\tvalid_0's l2: 4.63974e+06\n\n[10]\tvalid_0's rmse: 2111.83\tvalid_0's l2: 4.45981e+06\n\n[1]\tvalid_0's rmse: 3752.84\tvalid_0's l2: 1.40838e+07\n\n[2]\tvalid_0's rmse: 3240.76\tvalid_0's l2: 1.05025e+07\n\n[3]\tvalid_0's rmse: 2891.24\tvalid_0's l2: 8.35926e+06\n\n[4]\tvalid_0's rmse: 2651.5\tvalid_0's l2: 7.03043e+06\n\n[5]\tvalid_0's rmse: 2478.21\tvalid_0's l2: 6.14152e+06\n\n[6]\tvalid_0's rmse: 2356.6\tvalid_0's l2: 5.55356e+06\n\n[7]\tvalid_0's rmse: 2269.18\tvalid_0's l2: 5.14917e+06\n\n[8]\tvalid_0's rmse: 2206.22\tvalid_0's l2: 4.86739e+06\n\n[9]\tvalid_0's rmse: 2154.01\tvalid_0's l2: 4.63974e+06\n\n[10]\tvalid_0's rmse: 2111.83\tvalid_0's l2: 4.45981e+06\n\n[11]\tvalid_0's rmse: 2078.67\tvalid_0's l2: 4.32086e+06\n\n[12]\tvalid_0's rmse: 2047.68\tvalid_0's l2: 4.19299e+06\n\n[13]\tvalid_0's rmse: 2031.05\tvalid_0's l2: 4.12517e+06\n\n[14]\tvalid_0's rmse: 2014.89\tvalid_0's l2: 4.05977e+06\n\n[15]\tvalid_0's rmse: 2001.71\tvalid_0's l2: 4.00686e+06\n\n[16]\tvalid_0's rmse: 1992.08\tvalid_0's l2: 3.9684e+06\n\n[17]\tvalid_0's rmse: 1980.61\tvalid_0's l2: 3.9228e+06\n\n[18]\tvalid_0's rmse: 1971.96\tvalid_0's l2: 3.88861e+06\n\n[19]\tvalid_0's rmse: 1962.41\tvalid_0's l2: 3.85107e+06\n\n[20]\tvalid_0's rmse: 1954.98\tvalid_0's l2: 3.82194e+06\n\n[1]\tvalid_0's rmse: 3752.84\tvalid_0's l2: 1.40838e+07\n\n[2]\tvalid_0's rmse: 3240.76\tvalid_0's l2: 1.05025e+07\n\n[3]\tvalid_0's rmse: 2891.24\tvalid_0's l2: 8.35926e+06\n\n[4]\tvalid_0's rmse: 2651.5\tvalid_0's l2: 7.03043e+06\n\n[5]\tvalid_0's rmse: 2478.21\tvalid_0's l2: 6.14152e+06\n\n[6]\tvalid_0's rmse: 2356.6\tvalid_0's l2: 5.55356e+06\n\n[7]\tvalid_0's rmse: 2269.18\tvalid_0's l2: 5.14917e+06\n\n[8]\tvalid_0's rmse: 2206.22\tvalid_0's l2: 4.86739e+06\n\n[9]\tvalid_0's rmse: 2154.01\tvalid_0's l2: 4.63974e+06\n\n[10]\tvalid_0's rmse: 2111.83\tvalid_0's l2: 4.45981e+06\n\n[11]\tvalid_0's rmse: 2078.67\tvalid_0's l2: 4.32086e+06\n\n[12]\tvalid_0's rmse: 2047.68\tvalid_0's l2: 4.19299e+06\n\n[13]\tvalid_0's rmse: 2031.05\tvalid_0's l2: 4.12517e+06\n\n[14]\tvalid_0's rmse: 2014.89\tvalid_0's l2: 4.05977e+06\n\n[15]\tvalid_0's rmse: 2001.71\tvalid_0's l2: 4.00686e+06\n\n[16]\tvalid_0's rmse: 1992.08\tvalid_0's l2: 3.9684e+06\n\n[17]\tvalid_0's rmse: 1980.61\tvalid_0's l2: 3.9228e+06\n\n[18]\tvalid_0's rmse: 1971.96\tvalid_0's l2: 3.88861e+06\n\n[19]\tvalid_0's rmse: 1962.41\tvalid_0's l2: 3.85107e+06\n\n[20]\tvalid_0's rmse: 1954.98\tvalid_0's l2: 3.82194e+06\n\n[21]\tvalid_0's rmse: 1948.1\tvalid_0's l2: 3.79508e+06\n\n[22]\tvalid_0's rmse: 1940.42\tvalid_0's l2: 3.76524e+06\n\n[23]\tvalid_0's rmse: 1933.12\tvalid_0's l2: 3.73697e+06\n\n[24]\tvalid_0's rmse: 1928.67\tvalid_0's l2: 3.71976e+06\n\n[25]\tvalid_0's rmse: 1921.9\tvalid_0's l2: 3.69369e+06\n\n[26]\tvalid_0's rmse: 1918.66\tvalid_0's l2: 3.68126e+06\n\n[27]\tvalid_0's rmse: 1916.46\tvalid_0's l2: 3.67281e+06\n\n[28]\tvalid_0's rmse: 1910.53\tvalid_0's l2: 3.65014e+06\n\n[29]\tvalid_0's rmse: 1905.98\tvalid_0's l2: 3.63278e+06\n\n[30]\tvalid_0's rmse: 1902.63\tvalid_0's l2: 3.62001e+06\n\n[31]\tvalid_0's rmse: 1899.08\tvalid_0's l2: 3.60651e+06\n\n[32]\tvalid_0's rmse: 1896.84\tvalid_0's l2: 3.59801e+06\n\n[33]\tvalid_0's rmse: 1893.4\tvalid_0's l2: 3.58497e+06\n\n[34]\tvalid_0's rmse: 1890\tvalid_0's l2: 3.57209e+06\n\n[35]\tvalid_0's rmse: 1888.01\tvalid_0's l2: 3.56458e+06\n\n[36]\tvalid_0's rmse: 1885.12\tvalid_0's l2: 3.55368e+06\n\n[37]\tvalid_0's rmse: 1882.41\tvalid_0's l2: 3.54347e+06\n\n[38]\tvalid_0's rmse: 1878.38\tvalid_0's l2: 3.52833e+06\n\n[39]\tvalid_0's rmse: 1875.25\tvalid_0's l2: 3.51658e+06\n\n[40]\tvalid_0's rmse: 1873.82\tvalid_0's l2: 3.5112e+06\n\n[1]\tvalid_0's rmse: 3107.46\tvalid_0's l2: 9.65629e+06\n\n[2]\tvalid_0's rmse: 2570.48\tvalid_0's l2: 6.60737e+06\n\n[3]\tvalid_0's rmse: 2323.04\tvalid_0's l2: 5.39653e+06\n\n[4]\tvalid_0's rmse: 2208.73\tvalid_0's l2: 4.87848e+06\n\n[5]\tvalid_0's rmse: 2121.92\tvalid_0's l2: 4.50257e+06\n\n[6]\tvalid_0's rmse: 2083\tvalid_0's l2: 4.33887e+06\n\n[7]\tvalid_0's rmse: 2043.42\tvalid_0's l2: 4.17557e+06\n\n[8]\tvalid_0's rmse: 2027.36\tvalid_0's l2: 4.11019e+06\n\n[9]\tvalid_0's rmse: 2014.6\tvalid_0's l2: 4.05862e+06\n\n[10]\tvalid_0's rmse: 1996.01\tvalid_0's l2: 3.98404e+06\n\n[1]\tvalid_0's rmse: 3107.46\tvalid_0's l2: 9.65629e+06\n\n[2]\tvalid_0's rmse: 2570.48\tvalid_0's l2: 6.60737e+06\n\n[3]\tvalid_0's rmse: 2323.04\tvalid_0's l2: 5.39653e+06\n\n[4]\tvalid_0's rmse: 2208.73\tvalid_0's l2: 4.87848e+06\n\n[5]\tvalid_0's rmse: 2121.92\tvalid_0's l2: 4.50257e+06\n\n[6]\tvalid_0's rmse: 2083\tvalid_0's l2: 4.33887e+06\n\n[7]\tvalid_0's rmse: 2043.42\tvalid_0's l2: 4.17557e+06\n\n[8]\tvalid_0's rmse: 2027.36\tvalid_0's l2: 4.11019e+06\n\n[9]\tvalid_0's rmse: 2014.6\tvalid_0's l2: 4.05862e+06\n\n[10]\tvalid_0's rmse: 1996.01\tvalid_0's l2: 3.98404e+06\n\n[11]\tvalid_0's rmse: 1981.83\tvalid_0's l2: 3.92767e+06\n\n[12]\tvalid_0's rmse: 1972.07\tvalid_0's l2: 3.88905e+06\n\n[13]\tvalid_0's rmse: 1961.98\tvalid_0's l2: 3.84935e+06\n\n[14]\tvalid_0's rmse: 1951.61\tvalid_0's l2: 3.80878e+06\n\n[15]\tvalid_0's rmse: 1947.79\tvalid_0's l2: 3.7939e+06\n\n[16]\tvalid_0's rmse: 1937.89\tvalid_0's l2: 3.75541e+06\n\n[17]\tvalid_0's rmse: 1933.03\tvalid_0's l2: 3.73661e+06\n\n[18]\tvalid_0's rmse: 1928.6\tvalid_0's l2: 3.71949e+06\n\n[19]\tvalid_0's rmse: 1923.9\tvalid_0's l2: 3.70141e+06\n\n[20]\tvalid_0's rmse: 1918.53\tvalid_0's l2: 3.68076e+06\n\n[1]\tvalid_0's rmse: 3107.46\tvalid_0's l2: 9.65629e+06\n\n[2]\tvalid_0's rmse: 2570.48\tvalid_0's l2: 6.60737e+06\n\n[3]\tvalid_0's rmse: 2323.04\tvalid_0's l2: 5.39653e+06\n[4]\tvalid_0's rmse: 2208.73\tvalid_0's l2: 4.87848e+06\n\n[5]\tvalid_0's rmse: 2121.92\tvalid_0's l2: 4.50257e+06\n\n[6]\tvalid_0's rmse: 2083\tvalid_0's l2: 4.33887e+06\n\n[7]\tvalid_0's rmse: 2043.42\tvalid_0's l2: 4.17557e+06\n\n[8]\tvalid_0's rmse: 2027.36\tvalid_0's l2: 4.11019e+06\n\n[9]\tvalid_0's rmse: 2014.6\tvalid_0's l2: 4.05862e+06\n\n[10]\tvalid_0's rmse: 1996.01\tvalid_0's l2: 3.98404e+06\n\n[11]\tvalid_0's rmse: 1981.83\tvalid_0's l2: 3.92767e+06\n\n[12]\tvalid_0's rmse: 1972.07\tvalid_0's l2: 3.88905e+06\n\n[13]\tvalid_0's rmse: 1961.98\tvalid_0's l2: 3.84935e+06\n\n[14]\tvalid_0's rmse: 1951.61\tvalid_0's l2: 3.80878e+06\n\n[15]\tvalid_0's rmse: 1947.79\tvalid_0's l2: 3.7939e+06\n\n[16]\tvalid_0's rmse: 1937.89\tvalid_0's l2: 3.75541e+06\n\n[17]\tvalid_0's rmse: 1933.03\tvalid_0's l2: 3.73661e+06\n\n[18]\tvalid_0's rmse: 1928.6\tvalid_0's l2: 3.71949e+06\n\n[19]\tvalid_0's rmse: 1923.9\tvalid_0's l2: 3.70141e+06\n\n[20]\tvalid_0's rmse: 1918.53\tvalid_0's l2: 3.68076e+06\n\n[21]\tvalid_0's rmse: 1912.35\tvalid_0's l2: 3.65708e+06\n\n[22]\tvalid_0's rmse: 1909.89\tvalid_0's l2: 3.64768e+06\n\n[23]\tvalid_0's rmse: 1908.74\tvalid_0's l2: 3.64329e+06\n\n[24]\tvalid_0's rmse: 1906.35\tvalid_0's l2: 3.63417e+06\n\n[25]\tvalid_0's rmse: 1901.78\tvalid_0's l2: 3.61679e+06\n\n[26]\tvalid_0's rmse: 1898.05\tvalid_0's l2: 3.60259e+06\n\n[27]\tvalid_0's rmse: 1894.74\tvalid_0's l2: 3.59002e+06\n\n[28]\tvalid_0's rmse: 1891.01\tvalid_0's l2: 3.57592e+06\n\n[29]\tvalid_0's rmse: 1886.71\tvalid_0's l2: 3.55969e+06\n\n[30]\tvalid_0's rmse: 1883.94\tvalid_0's l2: 3.54922e+06\n\n[31]\tvalid_0's rmse: 1882.76\tvalid_0's l2: 3.54479e+06\n\n[32]\tvalid_0's rmse: 1879.99\tvalid_0's l2: 3.53437e+06\n\n[33]\tvalid_0's rmse: 1879.18\tvalid_0's l2: 3.53132e+06\n\n[34]\tvalid_0's rmse: 1875.65\tvalid_0's l2: 3.51806e+06\n\n[35]\tvalid_0's rmse: 1873.35\tvalid_0's l2: 3.50945e+06\n\n[36]\tvalid_0's rmse: 1871.61\tvalid_0's l2: 3.50294e+06\n\n[37]\tvalid_0's rmse: 1871.11\tvalid_0's l2: 3.50107e+06\n\n[38]\tvalid_0's rmse: 1870.46\tvalid_0's l2: 3.49862e+06\n\n[39]\tvalid_0's rmse: 1867.63\tvalid_0's l2: 3.48804e+06\n\n[40]\tvalid_0's rmse: 1864.87\tvalid_0's l2: 3.47773e+06\n\n[1]\tvalid_0's rmse: 3107.46\tvalid_0's l2: 9.65629e+06\n\n[2]\tvalid_0's rmse: 2570.48\tvalid_0's l2: 6.60737e+06\n\n[3]\tvalid_0's rmse: 2323.04\tvalid_0's l2: 5.39653e+06\n\n[4]\tvalid_0's rmse: 2208.73\tvalid_0's l2: 4.87848e+06\n\n[5]\tvalid_0's rmse: 2121.92\tvalid_0's l2: 4.50257e+06\n\n[6]\tvalid_0's rmse: 2083\tvalid_0's l2: 4.33887e+06\n\n[7]\tvalid_0's rmse: 2043.42\tvalid_0's l2: 4.17557e+06\n\n[8]\tvalid_0's rmse: 2027.36\tvalid_0's l2: 4.11019e+06\n\n[9]\tvalid_0's rmse: 2014.6\tvalid_0's l2: 4.05862e+06\n\n[10]\tvalid_0's rmse: 1996.01\tvalid_0's l2: 3.98404e+06\n\n[1]\tvalid_0's rmse: 3107.46\tvalid_0's l2: 9.65629e+06\n\n[2]\tvalid_0's rmse: 2570.48\tvalid_0's l2: 6.60737e+06\n\n[3]\tvalid_0's rmse: 2323.04\tvalid_0's l2: 5.39653e+06\n\n[4]\tvalid_0's rmse: 2208.73\tvalid_0's l2: 4.87848e+06\n\n[5]\tvalid_0's rmse: 2121.92\tvalid_0's l2: 4.50257e+06\n\n[6]\tvalid_0's rmse: 2083\tvalid_0's l2: 4.33887e+06\n\n[7]\tvalid_0's rmse: 2043.42\tvalid_0's l2: 4.17557e+06\n\n[8]\tvalid_0's rmse: 2027.36\tvalid_0's l2: 4.11019e+06\n\n[9]\tvalid_0's rmse: 2014.6\tvalid_0's l2: 4.05862e+06\n\n[10]\tvalid_0's rmse: 1996.01\tvalid_0's l2: 3.98404e+06\n\n[11]\tvalid_0's rmse: 1981.83\tvalid_0's l2: 3.92767e+06\n\n[12]\tvalid_0's rmse: 1972.07\tvalid_0's l2: 3.88905e+06\n\n[13]\tvalid_0's rmse: 1961.98\tvalid_0's l2: 3.84935e+06\n\n[14]\tvalid_0's rmse: 1951.61\tvalid_0's l2: 3.80878e+06\n\n[15]\tvalid_0's rmse: 1947.79\tvalid_0's l2: 3.7939e+06\n\n[16]\tvalid_0's rmse: 1937.89\tvalid_0's l2: 3.75541e+06\n\n[17]\tvalid_0's rmse: 1933.03\tvalid_0's l2: 3.73661e+06\n\n[18]\tvalid_0's rmse: 1928.6\tvalid_0's l2: 3.71949e+06\n\n[19]\tvalid_0's rmse: 1923.9\tvalid_0's l2: 3.70141e+06\n\n[20]\tvalid_0's rmse: 1918.53\tvalid_0's l2: 3.68076e+06\n\n[1]\tvalid_0's rmse: 3107.46\tvalid_0's l2: 9.65629e+06\n\n[2]\tvalid_0's rmse: 2570.48\tvalid_0's l2: 6.60737e+06\n\n[3]\tvalid_0's rmse: 2323.04\tvalid_0's l2: 5.39653e+06\n\n[4]\tvalid_0's rmse: 2208.73\tvalid_0's l2: 4.87848e+06\n\n[5]\tvalid_0's rmse: 2121.92\tvalid_0's l2: 4.50257e+06\n\n[6]\tvalid_0's rmse: 2083\tvalid_0's l2: 4.33887e+06\n\n[7]\tvalid_0's rmse: 2043.42\tvalid_0's l2: 4.17557e+06\n\n[8]\tvalid_0's rmse: 2027.36\tvalid_0's l2: 4.11019e+06\n\n[9]\tvalid_0's rmse: 2014.6\tvalid_0's l2: 4.05862e+06\n\n[10]\tvalid_0's rmse: 1996.01\tvalid_0's l2: 3.98404e+06\n\n[11]\tvalid_0's rmse: 1981.83\tvalid_0's l2: 3.92767e+06\n\n[12]\tvalid_0's rmse: 1972.07\tvalid_0's l2: 3.88905e+06\n\n[13]\tvalid_0's rmse: 1961.98\tvalid_0's l2: 3.84935e+06\n\n[14]\tvalid_0's rmse: 1951.61\tvalid_0's l2: 3.80878e+06\n\n[15]\tvalid_0's rmse: 1947.79\tvalid_0's l2: 3.7939e+06\n\n[16]\tvalid_0's rmse: 1937.89\tvalid_0's l2: 3.75541e+06\n\n[17]\tvalid_0's rmse: 1933.03\tvalid_0's l2: 3.73661e+06\n\n[18]\tvalid_0's rmse: 1928.6\tvalid_0's l2: 3.71949e+06\n\n[19]\tvalid_0's rmse: 1923.9\tvalid_0's l2: 3.70141e+06\n\n[20]\tvalid_0's rmse: 1918.53\tvalid_0's l2: 3.68076e+06\n\n[21]\tvalid_0's rmse: 1912.35\tvalid_0's l2: 3.65708e+06\n\n[22]\tvalid_0's rmse: 1909.89\tvalid_0's l2: 3.64768e+06\n\n[23]\tvalid_0's rmse: 1908.74\tvalid_0's l2: 3.64329e+06\n\n[24]\tvalid_0's rmse: 1906.35\tvalid_0's l2: 3.63417e+06\n\n[25]\tvalid_0's rmse: 1901.78\tvalid_0's l2: 3.61679e+06\n\n[26]\tvalid_0's rmse: 1898.05\tvalid_0's l2: 3.60259e+06\n\n[27]\tvalid_0's rmse: 1894.74\tvalid_0's l2: 3.59002e+06\n\n[28]\tvalid_0's rmse: 1891.01\tvalid_0's l2: 3.57592e+06\n\n[29]\tvalid_0's rmse: 1886.71\tvalid_0's l2: 3.55969e+06\n\n[30]\tvalid_0's rmse: 1883.94\tvalid_0's l2: 3.54922e+06\n\n[31]\tvalid_0's rmse: 1882.76\tvalid_0's l2: 3.54479e+06\n\n[32]\tvalid_0's rmse: 1879.99\tvalid_0's l2: 3.53437e+06\n\n[33]\tvalid_0's rmse: 1879.18\tvalid_0's l2: 3.53132e+06\n\n[34]\tvalid_0's rmse: 1875.65\tvalid_0's l2: 3.51806e+06\n\n[35]\tvalid_0's rmse: 1873.35\tvalid_0's l2: 3.50945e+06\n\n[36]\tvalid_0's rmse: 1871.61\tvalid_0's l2: 3.50294e+06\n\n[37]\tvalid_0's rmse: 1871.11\tvalid_0's l2: 3.50107e+06\n\n[38]\tvalid_0's rmse: 1870.46\tvalid_0's l2: 3.49862e+06\n\n[39]\tvalid_0's rmse: 1867.63\tvalid_0's l2: 3.48804e+06\n\n[40]\tvalid_0's rmse: 1864.87\tvalid_0's l2: 3.47773e+06\n\n[1]\tvalid_0's rmse: 3107.46\tvalid_0's l2: 9.65629e+06\n\n[2]\tvalid_0's rmse: 2570.48\tvalid_0's l2: 6.60737e+06\n\n[3]\tvalid_0's rmse: 2323.04\tvalid_0's l2: 5.39653e+06\n\n[4]\tvalid_0's rmse: 2208.73\tvalid_0's l2: 4.87848e+06\n\n[5]\tvalid_0's rmse: 2121.92\tvalid_0's l2: 4.50257e+06\n\n[6]\tvalid_0's rmse: 2083\tvalid_0's l2: 4.33887e+06\n\n[7]\tvalid_0's rmse: 2043.42\tvalid_0's l2: 4.17557e+06\n\n[8]\tvalid_0's rmse: 2027.36\tvalid_0's l2: 4.11019e+06\n\n[9]\tvalid_0's rmse: 2014.6\tvalid_0's l2: 4.05862e+06\n\n[10]\tvalid_0's rmse: 1996.01\tvalid_0's l2: 3.98404e+06\n\n[1]\tvalid_0's rmse: 3107.46\tvalid_0's l2: 9.65629e+06\n\n[2]\tvalid_0's rmse: 2570.48\tvalid_0's l2: 6.60737e+06\n\n[3]\tvalid_0's rmse: 2323.04\tvalid_0's l2: 5.39653e+06\n\n[4]\tvalid_0's rmse: 2208.73\tvalid_0's l2: 4.87848e+06\n\n[5]\tvalid_0's rmse: 2121.92\tvalid_0's l2: 4.50257e+06\n\n[6]\tvalid_0's rmse: 2083\tvalid_0's l2: 4.33887e+06\n\n[7]\tvalid_0's rmse: 2043.42\tvalid_0's l2: 4.17557e+06\n\n[8]\tvalid_0's rmse: 2027.36\tvalid_0's l2: 4.11019e+06\n\n[9]\tvalid_0's rmse: 2014.6\tvalid_0's l2: 4.05862e+06\n\n[10]\tvalid_0's rmse: 1996.01\tvalid_0's l2: 3.98404e+06\n\n[11]\tvalid_0's rmse: 1981.83\tvalid_0's l2: 3.92767e+06\n\n[12]\tvalid_0's rmse: 1972.07\tvalid_0's l2: 3.88905e+06\n\n[13]\tvalid_0's rmse: 1961.98\tvalid_0's l2: 3.84935e+06\n\n[14]\tvalid_0's rmse: 1951.61\tvalid_0's l2: 3.80878e+06\n\n[15]\tvalid_0's rmse: 1947.79\tvalid_0's l2: 3.7939e+06\n\n[16]\tvalid_0's rmse: 1937.89\tvalid_0's l2: 3.75541e+06\n\n[17]\tvalid_0's rmse: 1933.03\tvalid_0's l2: 3.73661e+06\n\n[18]\tvalid_0's rmse: 1928.6\tvalid_0's l2: 3.71949e+06\n\n[19]\tvalid_0's rmse: 1923.9\tvalid_0's l2: 3.70141e+06\n\n[20]\tvalid_0's rmse: 1918.53\tvalid_0's l2: 3.68076e+06\n\n[1]\tvalid_0's rmse: 3107.46\tvalid_0's l2: 9.65629e+06\n\n[2]\tvalid_0's rmse: 2570.48\tvalid_0's l2: 6.60737e+06\n\n[3]\tvalid_0's rmse: 2323.04\tvalid_0's l2: 5.39653e+06\n\n[4]\tvalid_0's rmse: 2208.73\tvalid_0's l2: 4.87848e+06\n\n[5]\tvalid_0's rmse: 2121.92\tvalid_0's l2: 4.50257e+06\n\n[6]\tvalid_0's rmse: 2083\tvalid_0's l2: 4.33887e+06\n\n[7]\tvalid_0's rmse: 2043.42\tvalid_0's l2: 4.17557e+06\n\n[8]\tvalid_0's rmse: 2027.36\tvalid_0's l2: 4.11019e+06\n\n[9]\tvalid_0's rmse: 2014.6\tvalid_0's l2: 4.05862e+06\n\n[10]\tvalid_0's rmse: 1996.01\tvalid_0's l2: 3.98404e+06\n\n[11]\tvalid_0's rmse: 1981.83\tvalid_0's l2: 3.92767e+06\n\n[12]\tvalid_0's rmse: 1972.07\tvalid_0's l2: 3.88905e+06\n\n[13]\tvalid_0's rmse: 1961.98\tvalid_0's l2: 3.84935e+06\n\n[14]\tvalid_0's rmse: 1951.61\tvalid_0's l2: 3.80878e+06\n[15]\tvalid_0's rmse: 1947.79\tvalid_0's l2: 3.7939e+06\n\n[16]\tvalid_0's rmse: 1937.89\tvalid_0's l2: 3.75541e+06\n\n[17]\tvalid_0's rmse: 1933.03\tvalid_0's l2: 3.73661e+06\n\n[18]\tvalid_0's rmse: 1928.6\tvalid_0's l2: 3.71949e+06\n\n[19]\tvalid_0's rmse: 1923.9\tvalid_0's l2: 3.70141e+06\n\n[20]\tvalid_0's rmse: 1918.53\tvalid_0's l2: 3.68076e+06\n\n[21]\tvalid_0's rmse: 1912.35\tvalid_0's l2: 3.65708e+06\n\n[22]\tvalid_0's rmse: 1909.89\tvalid_0's l2: 3.64768e+06\n\n[23]\tvalid_0's rmse: 1908.74\tvalid_0's l2: 3.64329e+06\n\n[24]\tvalid_0's rmse: 1906.35\tvalid_0's l2: 3.63417e+06\n\n[25]\tvalid_0's rmse: 1901.78\tvalid_0's l2: 3.61679e+06\n\n[26]\tvalid_0's rmse: 1898.05\tvalid_0's l2: 3.60259e+06\n\n[27]\tvalid_0's rmse: 1894.74\tvalid_0's l2: 3.59002e+06\n\n[28]\tvalid_0's rmse: 1891.01\tvalid_0's l2: 3.57592e+06\n\n[29]\tvalid_0's rmse: 1886.71\tvalid_0's l2: 3.55969e+06\n\n[30]\tvalid_0's rmse: 1883.94\tvalid_0's l2: 3.54922e+06\n\n[31]\tvalid_0's rmse: 1882.76\tvalid_0's l2: 3.54479e+06\n\n[32]\tvalid_0's rmse: 1879.99\tvalid_0's l2: 3.53437e+06\n\n[33]\tvalid_0's rmse: 1879.18\tvalid_0's l2: 3.53132e+06\n\n[34]\tvalid_0's rmse: 1875.65\tvalid_0's l2: 3.51806e+06\n\n[35]\tvalid_0's rmse: 1873.35\tvalid_0's l2: 3.50945e+06\n\n[36]\tvalid_0's rmse: 1871.61\tvalid_0's l2: 3.50294e+06\n\n[37]\tvalid_0's rmse: 1871.11\tvalid_0's l2: 3.50107e+06\n\n[38]\tvalid_0's rmse: 1870.46\tvalid_0's l2: 3.49862e+06\n\n[39]\tvalid_0's rmse: 1867.63\tvalid_0's l2: 3.48804e+06\n\n[40]\tvalid_0's rmse: 1864.87\tvalid_0's l2: 3.47773e+06\n\n[1]\tvalid_0's rmse: 2507.07\tvalid_0's l2: 6.28539e+06\n\n[2]\tvalid_0's rmse: 2258.22\tvalid_0's l2: 5.09954e+06\n\n[3]\tvalid_0's rmse: 2172.69\tvalid_0's l2: 4.72058e+06\n\n[4]\tvalid_0's rmse: 2135.08\tvalid_0's l2: 4.55855e+06\n\n[5]\tvalid_0's rmse: 2087.99\tvalid_0's l2: 4.35971e+06\n\n[6]\tvalid_0's rmse: 2068.06\tvalid_0's l2: 4.27689e+06\n\n[7]\tvalid_0's rmse: 2043.06\tvalid_0's l2: 4.17411e+06\n\n[8]\tvalid_0's rmse: 2027.52\tvalid_0's l2: 4.11083e+06\n\n[9]\tvalid_0's rmse: 2015.89\tvalid_0's l2: 4.0638e+06\n\n[10]\tvalid_0's rmse: 2009.73\tvalid_0's l2: 4.03902e+06\n\n[1]\tvalid_0's rmse: 2507.07\tvalid_0's l2: 6.28539e+06\n\n[2]\tvalid_0's rmse: 2258.22\tvalid_0's l2: 5.09954e+06\n\n[3]\tvalid_0's rmse: 2172.69\tvalid_0's l2: 4.72058e+06\n\n[4]\tvalid_0's rmse: 2135.08\tvalid_0's l2: 4.55855e+06\n\n[5]\tvalid_0's rmse: 2087.99\tvalid_0's l2: 4.35971e+06\n\n[6]\tvalid_0's rmse: 2068.06\tvalid_0's l2: 4.27689e+06\n\n[7]\tvalid_0's rmse: 2043.06\tvalid_0's l2: 4.17411e+06\n\n[8]\tvalid_0's rmse: 2027.52\tvalid_0's l2: 4.11083e+06\n\n[9]\tvalid_0's rmse: 2015.89\tvalid_0's l2: 4.0638e+06\n\n[10]\tvalid_0's rmse: 2009.73\tvalid_0's l2: 4.03902e+06\n\n[11]\tvalid_0's rmse: 1999.6\tvalid_0's l2: 3.9984e+06\n\n[12]\tvalid_0's rmse: 1981.64\tvalid_0's l2: 3.9269e+06\n\n[13]\tvalid_0's rmse: 1971.19\tvalid_0's l2: 3.88559e+06\n\n[14]\tvalid_0's rmse: 1969.49\tvalid_0's l2: 3.87887e+06\n\n[15]\tvalid_0's rmse: 1959.91\tvalid_0's l2: 3.84125e+06\n\n[16]\tvalid_0's rmse: 1955.58\tvalid_0's l2: 3.82431e+06\n\n[17]\tvalid_0's rmse: 1950.29\tvalid_0's l2: 3.80364e+06\n\n[18]\tvalid_0's rmse: 1946.46\tvalid_0's l2: 3.78871e+06\n\n[19]\tvalid_0's rmse: 1943.17\tvalid_0's l2: 3.77593e+06\n\n[20]\tvalid_0's rmse: 1939.94\tvalid_0's l2: 3.76338e+06\n\n[1]\tvalid_0's rmse: 2507.07\tvalid_0's l2: 6.28539e+06\n\n[2]\tvalid_0's rmse: 2258.22\tvalid_0's l2: 5.09954e+06\n\n[3]\tvalid_0's rmse: 2172.69\tvalid_0's l2: 4.72058e+06\n\n[4]\tvalid_0's rmse: 2135.08\tvalid_0's l2: 4.55855e+06\n\n[5]\tvalid_0's rmse: 2087.99\tvalid_0's l2: 4.35971e+06\n\n[6]\tvalid_0's rmse: 2068.06\tvalid_0's l2: 4.27689e+06\n\n[7]\tvalid_0's rmse: 2043.06\tvalid_0's l2: 4.17411e+06\n\n[8]\tvalid_0's rmse: 2027.52\tvalid_0's l2: 4.11083e+06\n\n[9]\tvalid_0's rmse: 2015.89\tvalid_0's l2: 4.0638e+06\n\n[10]\tvalid_0's rmse: 2009.73\tvalid_0's l2: 4.03902e+06\n\n[11]\tvalid_0's rmse: 1999.6\tvalid_0's l2: 3.9984e+06\n\n[12]\tvalid_0's rmse: 1981.64\tvalid_0's l2: 3.9269e+06\n\n[13]\tvalid_0's rmse: 1971.19\tvalid_0's l2: 3.88559e+06\n\n[14]\tvalid_0's rmse: 1969.49\tvalid_0's l2: 3.87887e+06\n\n[15]\tvalid_0's rmse: 1959.91\tvalid_0's l2: 3.84125e+06\n\n[16]\tvalid_0's rmse: 1955.58\tvalid_0's l2: 3.82431e+06\n\n[17]\tvalid_0's rmse: 1950.29\tvalid_0's l2: 3.80364e+06\n\n[18]\tvalid_0's rmse: 1946.46\tvalid_0's l2: 3.78871e+06\n\n[19]\tvalid_0's rmse: 1943.17\tvalid_0's l2: 3.77593e+06\n\n[20]\tvalid_0's rmse: 1939.94\tvalid_0's l2: 3.76338e+06\n\n[21]\tvalid_0's rmse: 1936.64\tvalid_0's l2: 3.75057e+06\n\n[22]\tvalid_0's rmse: 1929.67\tvalid_0's l2: 3.72361e+06\n\n[23]\tvalid_0's rmse: 1927.83\tvalid_0's l2: 3.71651e+06\n\n[24]\tvalid_0's rmse: 1927.45\tvalid_0's l2: 3.71505e+06\n\n[25]\tvalid_0's rmse: 1923.98\tvalid_0's l2: 3.7017e+06\n\n[26]\tvalid_0's rmse: 1918.51\tvalid_0's l2: 3.68068e+06\n\n[27]\tvalid_0's rmse: 1914.89\tvalid_0's l2: 3.66679e+06\n\n[28]\tvalid_0's rmse: 1915.53\tvalid_0's l2: 3.66925e+06\n\n[29]\tvalid_0's rmse: 1914.1\tvalid_0's l2: 3.66378e+06\n\n[30]\tvalid_0's rmse: 1910.77\tvalid_0's l2: 3.65103e+06\n\n[31]\tvalid_0's rmse: 1910.36\tvalid_0's l2: 3.64947e+06\n\n[32]\tvalid_0's rmse: 1908.47\tvalid_0's l2: 3.64227e+06\n\n[33]\tvalid_0's rmse: 1905.65\tvalid_0's l2: 3.63151e+06\n\n[34]\tvalid_0's rmse: 1901.73\tvalid_0's l2: 3.61658e+06\n\n[35]\tvalid_0's rmse: 1899.69\tvalid_0's l2: 3.60883e+06\n\n[36]\tvalid_0's rmse: 1898.25\tvalid_0's l2: 3.60334e+06\n\n[37]\tvalid_0's rmse: 1897.24\tvalid_0's l2: 3.5995e+06\n\n[38]\tvalid_0's rmse: 1896.67\tvalid_0's l2: 3.59736e+06\n\n[39]\tvalid_0's rmse: 1891.64\tvalid_0's l2: 3.57831e+06\n\n[40]\tvalid_0's rmse: 1890.18\tvalid_0's l2: 3.5728e+06\n\n[1]\tvalid_0's rmse: 2507.07\tvalid_0's l2: 6.28539e+06\n\n[2]\tvalid_0's rmse: 2258.22\tvalid_0's l2: 5.09954e+06\n\n[3]\tvalid_0's rmse: 2172.69\tvalid_0's l2: 4.72058e+06\n\n[4]\tvalid_0's rmse: 2135.08\tvalid_0's l2: 4.55855e+06\n\n[5]\tvalid_0's rmse: 2087.99\tvalid_0's l2: 4.35971e+06\n\n[6]\tvalid_0's rmse: 2068.06\tvalid_0's l2: 4.27689e+06\n\n[7]\tvalid_0's rmse: 2043.06\tvalid_0's l2: 4.17411e+06\n\n[8]\tvalid_0's rmse: 2027.52\tvalid_0's l2: 4.11083e+06\n\n[9]\tvalid_0's rmse: 2015.89\tvalid_0's l2: 4.0638e+06\n\n[10]\tvalid_0's rmse: 2009.73\tvalid_0's l2: 4.03902e+06\n\n[1]\tvalid_0's rmse: 2507.07\tvalid_0's l2: 6.28539e+06\n\n[2]\tvalid_0's rmse: 2258.22\tvalid_0's l2: 5.09954e+06\n\n[3]\tvalid_0's rmse: 2172.69\tvalid_0's l2: 4.72058e+06\n\n[4]\tvalid_0's rmse: 2135.08\tvalid_0's l2: 4.55855e+06\n\n[5]\tvalid_0's rmse: 2087.99\tvalid_0's l2: 4.35971e+06\n\n[6]\tvalid_0's rmse: 2068.06\tvalid_0's l2: 4.27689e+06\n\n[7]\tvalid_0's rmse: 2043.06\tvalid_0's l2: 4.17411e+06\n\n[8]\tvalid_0's rmse: 2027.52\tvalid_0's l2: 4.11083e+06\n\n[9]\tvalid_0's rmse: 2015.89\tvalid_0's l2: 4.0638e+06\n\n[10]\tvalid_0's rmse: 2009.73\tvalid_0's l2: 4.03902e+06\n\n[11]\tvalid_0's rmse: 1999.6\tvalid_0's l2: 3.9984e+06\n\n[12]\tvalid_0's rmse: 1981.64\tvalid_0's l2: 3.9269e+06\n\n[13]\tvalid_0's rmse: 1971.19\tvalid_0's l2: 3.88559e+06\n\n[14]\tvalid_0's rmse: 1969.49\tvalid_0's l2: 3.87887e+06\n\n[15]\tvalid_0's rmse: 1959.91\tvalid_0's l2: 3.84125e+06\n\n[16]\tvalid_0's rmse: 1955.58\tvalid_0's l2: 3.82431e+06\n\n[17]\tvalid_0's rmse: 1950.29\tvalid_0's l2: 3.80364e+06\n\n[18]\tvalid_0's rmse: 1946.46\tvalid_0's l2: 3.78871e+06\n\n[19]\tvalid_0's rmse: 1943.17\tvalid_0's l2: 3.77593e+06\n\n[20]\tvalid_0's rmse: 1939.94\tvalid_0's l2: 3.76338e+06\n\n[1]\tvalid_0's rmse: 2507.07\tvalid_0's l2: 6.28539e+06\n\n[2]\tvalid_0's rmse: 2258.22\tvalid_0's l2: 5.09954e+06\n\n[3]\tvalid_0's rmse: 2172.69\tvalid_0's l2: 4.72058e+06\n\n[4]\tvalid_0's rmse: 2135.08\tvalid_0's l2: 4.55855e+06\n\n[5]\tvalid_0's rmse: 2087.99\tvalid_0's l2: 4.35971e+06\n\n[6]\tvalid_0's rmse: 2068.06\tvalid_0's l2: 4.27689e+06\n\n[7]\tvalid_0's rmse: 2043.06\tvalid_0's l2: 4.17411e+06\n\n[8]\tvalid_0's rmse: 2027.52\tvalid_0's l2: 4.11083e+06\n\n[9]\tvalid_0's rmse: 2015.89\tvalid_0's l2: 4.0638e+06\n\n[10]\tvalid_0's rmse: 2009.73\tvalid_0's l2: 4.03902e+06\n\n[11]\tvalid_0's rmse: 1999.6\tvalid_0's l2: 3.9984e+06\n\n[12]\tvalid_0's rmse: 1981.64\tvalid_0's l2: 3.9269e+06\n\n[13]\tvalid_0's rmse: 1971.19\tvalid_0's l2: 3.88559e+06\n\n[14]\tvalid_0's rmse: 1969.49\tvalid_0's l2: 3.87887e+06\n\n[15]\tvalid_0's rmse: 1959.91\tvalid_0's l2: 3.84125e+06\n\n[16]\tvalid_0's rmse: 1955.58\tvalid_0's l2: 3.82431e+06\n\n[17]\tvalid_0's rmse: 1950.29\tvalid_0's l2: 3.80364e+06\n\n[18]\tvalid_0's rmse: 1946.46\tvalid_0's l2: 3.78871e+06\n\n[19]\tvalid_0's rmse: 1943.17\tvalid_0's l2: 3.77593e+06\n\n[20]\tvalid_0's rmse: 1939.94\tvalid_0's l2: 3.76338e+06\n\n[21]\tvalid_0's rmse: 1936.64\tvalid_0's l2: 3.75057e+06\n\n[22]\tvalid_0's rmse: 1929.67\tvalid_0's l2: 3.72361e+06\n\n[23]\tvalid_0's rmse: 1927.83\tvalid_0's l2: 3.71651e+06\n\n[24]\tvalid_0's rmse: 1927.45\tvalid_0's l2: 3.71505e+06\n\n[25]\tvalid_0's rmse: 1923.98\tvalid_0's l2: 3.7017e+06\n[26]\tvalid_0's rmse: 1918.51\tvalid_0's l2: 3.68068e+06\n\n[27]\tvalid_0's rmse: 1914.89\tvalid_0's l2: 3.66679e+06\n\n[28]\tvalid_0's rmse: 1915.53\tvalid_0's l2: 3.66925e+06\n\n[29]\tvalid_0's rmse: 1914.1\tvalid_0's l2: 3.66378e+06\n\n[30]\tvalid_0's rmse: 1910.77\tvalid_0's l2: 3.65103e+06\n\n[31]\tvalid_0's rmse: 1910.36\tvalid_0's l2: 3.64947e+06\n\n[32]\tvalid_0's rmse: 1908.47\tvalid_0's l2: 3.64227e+06\n\n[33]\tvalid_0's rmse: 1905.65\tvalid_0's l2: 3.63151e+06\n\n[34]\tvalid_0's rmse: 1901.73\tvalid_0's l2: 3.61658e+06\n\n[35]\tvalid_0's rmse: 1899.69\tvalid_0's l2: 3.60883e+06\n\n[36]\tvalid_0's rmse: 1898.25\tvalid_0's l2: 3.60334e+06\n\n[37]\tvalid_0's rmse: 1897.24\tvalid_0's l2: 3.5995e+06\n\n[38]\tvalid_0's rmse: 1896.67\tvalid_0's l2: 3.59736e+06\n\n[39]\tvalid_0's rmse: 1891.64\tvalid_0's l2: 3.57831e+06\n\n[40]\tvalid_0's rmse: 1890.18\tvalid_0's l2: 3.5728e+06\n\n[1]\tvalid_0's rmse: 2507.07\tvalid_0's l2: 6.28539e+06\n\n[2]\tvalid_0's rmse: 2258.22\tvalid_0's l2: 5.09954e+06\n\n[3]\tvalid_0's rmse: 2172.69\tvalid_0's l2: 4.72058e+06\n\n[4]\tvalid_0's rmse: 2135.08\tvalid_0's l2: 4.55855e+06\n\n[5]\tvalid_0's rmse: 2087.99\tvalid_0's l2: 4.35971e+06\n\n[6]\tvalid_0's rmse: 2068.06\tvalid_0's l2: 4.27689e+06\n\n[7]\tvalid_0's rmse: 2043.06\tvalid_0's l2: 4.17411e+06\n\n[8]\tvalid_0's rmse: 2027.52\tvalid_0's l2: 4.11083e+06\n\n[9]\tvalid_0's rmse: 2015.89\tvalid_0's l2: 4.0638e+06\n\n[10]\tvalid_0's rmse: 2009.73\tvalid_0's l2: 4.03902e+06\n\n[1]\tvalid_0's rmse: 2507.07\tvalid_0's l2: 6.28539e+06\n\n[2]\tvalid_0's rmse: 2258.22\tvalid_0's l2: 5.09954e+06\n\n[3]\tvalid_0's rmse: 2172.69\tvalid_0's l2: 4.72058e+06\n\n[4]\tvalid_0's rmse: 2135.08\tvalid_0's l2: 4.55855e+06\n\n[5]\tvalid_0's rmse: 2087.99\tvalid_0's l2: 4.35971e+06\n\n[6]\tvalid_0's rmse: 2068.06\tvalid_0's l2: 4.27689e+06\n\n[7]\tvalid_0's rmse: 2043.06\tvalid_0's l2: 4.17411e+06\n\n[8]\tvalid_0's rmse: 2027.52\tvalid_0's l2: 4.11083e+06\n\n[9]\tvalid_0's rmse: 2015.89\tvalid_0's l2: 4.0638e+06\n\n[10]\tvalid_0's rmse: 2009.73\tvalid_0's l2: 4.03902e+06\n\n[11]\tvalid_0's rmse: 1999.6\tvalid_0's l2: 3.9984e+06\n\n[12]\tvalid_0's rmse: 1981.64\tvalid_0's l2: 3.9269e+06\n\n[13]\tvalid_0's rmse: 1971.19\tvalid_0's l2: 3.88559e+06\n\n[14]\tvalid_0's rmse: 1969.49\tvalid_0's l2: 3.87887e+06\n\n[15]\tvalid_0's rmse: 1959.91\tvalid_0's l2: 3.84125e+06\n\n[16]\tvalid_0's rmse: 1955.58\tvalid_0's l2: 3.82431e+06\n\n[17]\tvalid_0's rmse: 1950.29\tvalid_0's l2: 3.80364e+06\n\n[18]\tvalid_0's rmse: 1946.46\tvalid_0's l2: 3.78871e+06\n\n[19]\tvalid_0's rmse: 1943.17\tvalid_0's l2: 3.77593e+06\n\n[20]\tvalid_0's rmse: 1939.94\tvalid_0's l2: 3.76338e+06\n\n[1]\tvalid_0's rmse: 2507.07\tvalid_0's l2: 6.28539e+06\n\n[2]\tvalid_0's rmse: 2258.22\tvalid_0's l2: 5.09954e+06\n\n[3]\tvalid_0's rmse: 2172.69\tvalid_0's l2: 4.72058e+06\n\n[4]\tvalid_0's rmse: 2135.08\tvalid_0's l2: 4.55855e+06\n\n[5]\tvalid_0's rmse: 2087.99\tvalid_0's l2: 4.35971e+06\n\n[6]\tvalid_0's rmse: 2068.06\tvalid_0's l2: 4.27689e+06\n\n[7]\tvalid_0's rmse: 2043.06\tvalid_0's l2: 4.17411e+06\n\n[8]\tvalid_0's rmse: 2027.52\tvalid_0's l2: 4.11083e+06\n\n[9]\tvalid_0's rmse: 2015.89\tvalid_0's l2: 4.0638e+06\n\n[10]\tvalid_0's rmse: 2009.73\tvalid_0's l2: 4.03902e+06\n\n[11]\tvalid_0's rmse: 1999.6\tvalid_0's l2: 3.9984e+06\n\n[12]\tvalid_0's rmse: 1981.64\tvalid_0's l2: 3.9269e+06\n\n[13]\tvalid_0's rmse: 1971.19\tvalid_0's l2: 3.88559e+06\n\n[14]\tvalid_0's rmse: 1969.49\tvalid_0's l2: 3.87887e+06\n\n[15]\tvalid_0's rmse: 1959.91\tvalid_0's l2: 3.84125e+06\n\n[16]\tvalid_0's rmse: 1955.58\tvalid_0's l2: 3.82431e+06\n\n[17]\tvalid_0's rmse: 1950.29\tvalid_0's l2: 3.80364e+06\n\n[18]\tvalid_0's rmse: 1946.46\tvalid_0's l2: 3.78871e+06\n\n[19]\tvalid_0's rmse: 1943.17\tvalid_0's l2: 3.77593e+06\n\n[20]\tvalid_0's rmse: 1939.94\tvalid_0's l2: 3.76338e+06\n\n[21]\tvalid_0's rmse: 1936.64\tvalid_0's l2: 3.75057e+06\n\n[22]\tvalid_0's rmse: 1929.67\tvalid_0's l2: 3.72361e+06\n\n[23]\tvalid_0's rmse: 1927.83\tvalid_0's l2: 3.71651e+06\n\n[24]\tvalid_0's rmse: 1927.45\tvalid_0's l2: 3.71505e+06\n\n[25]\tvalid_0's rmse: 1923.98\tvalid_0's l2: 3.7017e+06\n\n[26]\tvalid_0's rmse: 1918.51\tvalid_0's l2: 3.68068e+06\n\n[27]\tvalid_0's rmse: 1914.89\tvalid_0's l2: 3.66679e+06\n\n[28]\tvalid_0's rmse: 1915.53\tvalid_0's l2: 3.66925e+06\n\n[29]\tvalid_0's rmse: 1914.1\tvalid_0's l2: 3.66378e+06\n\n[30]\tvalid_0's rmse: 1910.77\tvalid_0's l2: 3.65103e+06\n\n[31]\tvalid_0's rmse: 1910.36\tvalid_0's l2: 3.64947e+06\n\n[32]\tvalid_0's rmse: 1908.47\tvalid_0's l2: 3.64227e+06\n\n[33]\tvalid_0's rmse: 1905.65\tvalid_0's l2: 3.63151e+06\n\n[34]\tvalid_0's rmse: 1901.73\tvalid_0's l2: 3.61658e+06\n\n[35]\tvalid_0's rmse: 1899.69\tvalid_0's l2: 3.60883e+06\n\n[36]\tvalid_0's rmse: 1898.25\tvalid_0's l2: 3.60334e+06\n\n[37]\tvalid_0's rmse: 1897.24\tvalid_0's l2: 3.5995e+06\n\n[38]\tvalid_0's rmse: 1896.67\tvalid_0's l2: 3.59736e+06\n\n[39]\tvalid_0's rmse: 1891.64\tvalid_0's l2: 3.57831e+06\n\n[40]\tvalid_0's rmse: 1890.18\tvalid_0's l2: 3.5728e+06\n\n\n\nTest  RMSE Score: 1864.87\n\nCPU times: user 5min 47s, sys: 6.08 s, total: 5min 53s\n\nWall time: 5min 58s\n"
        }
      ]
    },
    {
      "cell_type": "code",
      "source": "%%time\nbest_booster.fit(features_train, target_train, eval_set=[(features_valid, target_valid),], eval_metric=\"rmse\")",
      "metadata": {
        "scrolled": true
      },
      "execution_count": 19,
      "outputs": [
        {
          "name": "stdout",
          "output_type": "stream",
          "text": "[1]\tvalid_0's rmse: 3107.46\tvalid_0's l2: 9.65629e+06\n\n[2]\tvalid_0's rmse: 2570.48\tvalid_0's l2: 6.60737e+06\n\n[3]\tvalid_0's rmse: 2323.04\tvalid_0's l2: 5.39653e+06\n\n[4]\tvalid_0's rmse: 2208.73\tvalid_0's l2: 4.87848e+06\n\n[5]\tvalid_0's rmse: 2121.92\tvalid_0's l2: 4.50257e+06\n\n[6]\tvalid_0's rmse: 2083\tvalid_0's l2: 4.33887e+06\n\n[7]\tvalid_0's rmse: 2043.42\tvalid_0's l2: 4.17557e+06\n\n[8]\tvalid_0's rmse: 2027.36\tvalid_0's l2: 4.11019e+06\n\n[9]\tvalid_0's rmse: 2014.6\tvalid_0's l2: 4.05862e+06\n\n[10]\tvalid_0's rmse: 1996.01\tvalid_0's l2: 3.98404e+06\n\n[11]\tvalid_0's rmse: 1981.83\tvalid_0's l2: 3.92767e+06\n\n[12]\tvalid_0's rmse: 1972.07\tvalid_0's l2: 3.88905e+06\n\n[13]\tvalid_0's rmse: 1961.98\tvalid_0's l2: 3.84935e+06\n\n[14]\tvalid_0's rmse: 1951.61\tvalid_0's l2: 3.80878e+06\n\n[15]\tvalid_0's rmse: 1947.79\tvalid_0's l2: 3.7939e+06\n\n[16]\tvalid_0's rmse: 1937.89\tvalid_0's l2: 3.75541e+06\n\n[17]\tvalid_0's rmse: 1933.03\tvalid_0's l2: 3.73661e+06\n\n[18]\tvalid_0's rmse: 1928.6\tvalid_0's l2: 3.71949e+06\n\n[19]\tvalid_0's rmse: 1923.9\tvalid_0's l2: 3.70141e+06\n\n[20]\tvalid_0's rmse: 1918.53\tvalid_0's l2: 3.68076e+06\n\n[21]\tvalid_0's rmse: 1912.35\tvalid_0's l2: 3.65708e+06\n\n[22]\tvalid_0's rmse: 1909.89\tvalid_0's l2: 3.64768e+06\n\n[23]\tvalid_0's rmse: 1908.74\tvalid_0's l2: 3.64329e+06\n\n[24]\tvalid_0's rmse: 1906.35\tvalid_0's l2: 3.63417e+06\n\n[25]\tvalid_0's rmse: 1901.78\tvalid_0's l2: 3.61679e+06\n\n[26]\tvalid_0's rmse: 1898.05\tvalid_0's l2: 3.60259e+06\n\n[27]\tvalid_0's rmse: 1894.74\tvalid_0's l2: 3.59002e+06\n\n[28]\tvalid_0's rmse: 1891.01\tvalid_0's l2: 3.57592e+06\n\n[29]\tvalid_0's rmse: 1886.71\tvalid_0's l2: 3.55969e+06\n\n[30]\tvalid_0's rmse: 1883.94\tvalid_0's l2: 3.54922e+06\n\n[31]\tvalid_0's rmse: 1882.76\tvalid_0's l2: 3.54479e+06\n\n[32]\tvalid_0's rmse: 1879.99\tvalid_0's l2: 3.53437e+06\n\n[33]\tvalid_0's rmse: 1879.18\tvalid_0's l2: 3.53132e+06\n\n[34]\tvalid_0's rmse: 1875.65\tvalid_0's l2: 3.51806e+06\n\n[35]\tvalid_0's rmse: 1873.35\tvalid_0's l2: 3.50945e+06\n\n[36]\tvalid_0's rmse: 1871.61\tvalid_0's l2: 3.50294e+06\n\n[37]\tvalid_0's rmse: 1871.11\tvalid_0's l2: 3.50107e+06\n\n[38]\tvalid_0's rmse: 1870.46\tvalid_0's l2: 3.49862e+06\n\n[39]\tvalid_0's rmse: 1867.63\tvalid_0's l2: 3.48804e+06\n\n[40]\tvalid_0's rmse: 1864.87\tvalid_0's l2: 3.47773e+06\n\nCPU times: user 12.6 s, sys: 255 ms, total: 12.8 s\n\nWall time: 13 s\n"
        },
        {
          "execution_count": 19,
          "output_type": "execute_result",
          "data": {
            "text/plain": [
              "LGBMModel(learning_rate=0.5, max_depth=50, n_estimators=40,\n",
              "          objective='regression', seed=12345)"
            ]
          },
          "metadata": {}
        }
      ]
    },
    {
      "cell_type": "code",
      "source": "%%time\npred = best_booster.predict(features_valid)",
      "metadata": {},
      "execution_count": 20,
      "outputs": [
        {
          "name": "stdout",
          "output_type": "stream",
          "text": "CPU times: user 206 ms, sys: 0 ns, total: 206 ms\n\nWall time: 198 ms\n"
        }
      ]
    },
    {
      "cell_type": "code",
      "source": "sqrt(mean_squared_error(target_valid, pred))",
      "metadata": {},
      "execution_count": 21,
      "outputs": [
        {
          "execution_count": 21,
          "output_type": "execute_result",
          "data": {
            "text/plain": [
              "1864.8667049697788"
            ]
          },
          "metadata": {}
        }
      ]
    },
    {
      "cell_type": "markdown",
      "source": "**Вывод** наибольшее влияние на время обучения данной модели оказывает глубина дерева, при ограничение глубины дерева построение градиентноого бустинга ускоряется. Осуществлен перебор нескольких параметров и найден лучший набор. Значение метрики rmse: 1863.26, время затраченное на обучение около 4 секунд.",
      "metadata": {}
    },
    {
      "cell_type": "markdown",
      "source": "### Случайный лес",
      "metadata": {}
    },
    {
      "cell_type": "code",
      "source": "min_rmse = 2500\nfor dept in range(5, 16, 5):\n    for nest in range(10, 100, 20):\n        model = RandomForestRegressor(n_estimators=nest, max_depth=dept, random_state=12345)\n        model.fit(features_train, target_train)\n        score = sqrt(mean_squared_error(target_valid, model.predict(features_valid)))\n        if score < min_rmse:\n            min_rmse = score\n            best_model1 = model\n            \nprint('RMSE =', min_rmse)",
      "metadata": {},
      "execution_count": 22,
      "outputs": [
        {
          "name": "stdout",
          "output_type": "stream",
          "text": "RMSE = 1816.0487426460995\n"
        }
      ]
    },
    {
      "cell_type": "code",
      "source": "%%time\nbest_model1.fit(features_train, target_train)",
      "metadata": {},
      "execution_count": 23,
      "outputs": [
        {
          "name": "stdout",
          "output_type": "stream",
          "text": "CPU times: user 55.3 s, sys: 316 ms, total: 55.6 s\n\nWall time: 55.7 s\n"
        },
        {
          "execution_count": 23,
          "output_type": "execute_result",
          "data": {
            "text/plain": [
              "RandomForestRegressor(max_depth=15, n_estimators=90, random_state=12345)"
            ]
          },
          "metadata": {}
        }
      ]
    },
    {
      "cell_type": "code",
      "source": "%%time\npred = best_model1.predict(features_valid)",
      "metadata": {},
      "execution_count": 24,
      "outputs": [
        {
          "name": "stdout",
          "output_type": "stream",
          "text": "CPU times: user 1.18 s, sys: 7.56 ms, total: 1.19 s\n\nWall time: 1.19 s\n"
        }
      ]
    },
    {
      "cell_type": "code",
      "source": "sqrt(mean_squared_error(target_valid, pred))",
      "metadata": {},
      "execution_count": 25,
      "outputs": [
        {
          "execution_count": 25,
          "output_type": "execute_result",
          "data": {
            "text/plain": [
              "1816.0487426460995"
            ]
          },
          "metadata": {}
        }
      ]
    },
    {
      "cell_type": "markdown",
      "source": "**Вывод:** для модели случайного леса лучшее значение метрики rmse: 1816.22, время затраченное на обучение 71 секунда, предсказание 1,5 секунд.",
      "metadata": {}
    },
    {
      "cell_type": "markdown",
      "source": "### Линейная регрессия",
      "metadata": {}
    },
    {
      "cell_type": "code",
      "source": "model = LinearRegression()",
      "metadata": {},
      "execution_count": 26,
      "outputs": []
    },
    {
      "cell_type": "code",
      "source": "%%time\nmodel.fit(features_train, target_train)",
      "metadata": {},
      "execution_count": 27,
      "outputs": [
        {
          "name": "stdout",
          "output_type": "stream",
          "text": "CPU times: user 350 ms, sys: 246 ms, total: 596 ms\n\nWall time: 584 ms\n"
        },
        {
          "execution_count": 27,
          "output_type": "execute_result",
          "data": {
            "text/plain": [
              "LinearRegression()"
            ]
          },
          "metadata": {}
        }
      ]
    },
    {
      "cell_type": "code",
      "source": "%%time\npred = model.predict(features_valid)",
      "metadata": {},
      "execution_count": 28,
      "outputs": [
        {
          "name": "stdout",
          "output_type": "stream",
          "text": "CPU times: user 36.3 ms, sys: 59.4 ms, total: 95.8 ms\n\nWall time: 97.8 ms\n"
        }
      ]
    },
    {
      "cell_type": "code",
      "source": "sqrt(mean_squared_error(target_valid, pred))",
      "metadata": {},
      "execution_count": 29,
      "outputs": [
        {
          "execution_count": 29,
          "output_type": "execute_result",
          "data": {
            "text/plain": [
              "2982.2014687909136"
            ]
          },
          "metadata": {}
        }
      ]
    },
    {
      "cell_type": "markdown",
      "source": "**Вывод:** для модели линейно регрессии значение метрики rmse: 3538.62. Время на обучение и предсказание меньше секунды.",
      "metadata": {}
    },
    {
      "cell_type": "markdown",
      "source": "## Анализ моделей",
      "metadata": {}
    },
    {
      "cell_type": "code",
      "source": "print(target_train.shape, target_valid.shape)",
      "metadata": {},
      "execution_count": 30,
      "outputs": [
        {
          "name": "stdout",
          "output_type": "stream",
          "text": "(212621,) (70874,)\n"
        }
      ]
    },
    {
      "cell_type": "markdown",
      "source": "**Вывод:** при размере обучающей выборки 265776 строк и 24 признака и тестовой 88593 строк получены следующие результаты:\n- Модель градиентного бустинга:\n    - rmse: 1863.26;\n    - Время обучения: 4,3 секунды;\n    - Время предсказания: 0,2 секунды.\n- Случайный лес:\n    - rmse: 1816.22;\n    - Время обучения: 71 секунда;\n    - Время предсказания: 1,5 секунды.\n- Линейная регрессия:\n    - rmse: 3538.62;\n    - Время обучения: 0,45 секунды;\n    - Время предсказания: 0,007 секунды.\n    \nТаким образом, модель линейной регресии работает быстрее других, но ее точность недостаточна. Модель градиентного бустинга показала хороший результат метрики rmse и выполняется быстрее случайного леса, из трех рассмотренныз методов, использование градиентного бустинга является наиболее оптимальным.",
      "metadata": {}
    },
    {
      "cell_type": "markdown",
      "source": "финальное тестирование лучшей модели на тестовой выборке",
      "metadata": {}
    },
    {
      "cell_type": "code",
      "source": "%%time\nsqrt(mean_squared_error(target_test, best_booster.predict(features_test)))",
      "metadata": {},
      "execution_count": 31,
      "outputs": [
        {
          "name": "stdout",
          "output_type": "stream",
          "text": "CPU times: user 200 ms, sys: 7.81 ms, total: 208 ms\n\nWall time: 200 ms\n"
        },
        {
          "execution_count": 31,
          "output_type": "execute_result",
          "data": {
            "text/plain": [
              "1884.3456081752067"
            ]
          },
          "metadata": {}
        }
      ]
    },
    {
      "cell_type": "markdown",
      "source": "Предсказание модель выполнила быстро, значение метрики rmse изменилось незначительно, по сравнению с результатами полученными при обучении.",
      "metadata": {}
    },
    {
      "cell_type": "code",
      "source": "",
      "metadata": {},
      "execution_count": null,
      "outputs": []
    }
  ]
}