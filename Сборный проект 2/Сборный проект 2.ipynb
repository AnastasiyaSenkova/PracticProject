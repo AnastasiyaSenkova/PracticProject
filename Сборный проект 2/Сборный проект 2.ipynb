{
  "metadata": {
    "ExecuteTimeLog": [
      {
        "duration": 443,
        "start_time": "2022-12-12T10:03:36.017Z"
      },
      {
        "duration": 105,
        "start_time": "2022-12-12T10:04:11.626Z"
      },
      {
        "duration": 1828,
        "start_time": "2022-12-12T10:04:27.709Z"
      },
      {
        "duration": 282,
        "start_time": "2022-12-12T10:04:36.133Z"
      },
      {
        "duration": 21,
        "start_time": "2022-12-12T10:05:58.839Z"
      },
      {
        "duration": 10,
        "start_time": "2022-12-12T10:14:52.290Z"
      },
      {
        "duration": 77,
        "start_time": "2022-12-12T10:15:20.312Z"
      },
      {
        "duration": 8,
        "start_time": "2022-12-12T10:16:17.591Z"
      },
      {
        "duration": 7,
        "start_time": "2022-12-12T10:24:32.497Z"
      },
      {
        "duration": 9,
        "start_time": "2022-12-12T10:25:08.444Z"
      },
      {
        "duration": 7,
        "start_time": "2022-12-12T10:25:35.452Z"
      },
      {
        "duration": 74,
        "start_time": "2022-12-12T10:26:53.312Z"
      },
      {
        "duration": 5,
        "start_time": "2022-12-12T10:27:30.269Z"
      },
      {
        "duration": 9,
        "start_time": "2022-12-12T10:27:43.453Z"
      },
      {
        "duration": 5,
        "start_time": "2022-12-12T10:30:29.950Z"
      },
      {
        "duration": 5,
        "start_time": "2022-12-12T10:30:31.644Z"
      },
      {
        "duration": 5,
        "start_time": "2022-12-12T10:30:33.724Z"
      },
      {
        "duration": 6,
        "start_time": "2022-12-12T10:33:00.443Z"
      },
      {
        "duration": 7,
        "start_time": "2022-12-12T10:33:12.523Z"
      },
      {
        "duration": 5,
        "start_time": "2022-12-12T10:33:21.985Z"
      },
      {
        "duration": 5,
        "start_time": "2022-12-12T10:33:43.591Z"
      },
      {
        "duration": 8,
        "start_time": "2022-12-12T10:33:56.044Z"
      },
      {
        "duration": 6,
        "start_time": "2022-12-12T10:34:20.073Z"
      },
      {
        "duration": 8,
        "start_time": "2022-12-12T10:34:27.941Z"
      },
      {
        "duration": 7,
        "start_time": "2022-12-12T10:34:51.840Z"
      },
      {
        "duration": 711,
        "start_time": "2022-12-12T10:35:51.512Z"
      },
      {
        "duration": 5,
        "start_time": "2022-12-12T10:36:30.797Z"
      },
      {
        "duration": 186,
        "start_time": "2022-12-12T10:37:16.474Z"
      },
      {
        "duration": 113,
        "start_time": "2022-12-12T10:37:42.512Z"
      },
      {
        "duration": 106,
        "start_time": "2022-12-12T10:38:03.377Z"
      },
      {
        "duration": 3,
        "start_time": "2022-12-12T10:55:49.639Z"
      },
      {
        "duration": 599,
        "start_time": "2022-12-12T10:56:06.329Z"
      },
      {
        "duration": 150,
        "start_time": "2022-12-12T10:56:30.701Z"
      },
      {
        "duration": 252,
        "start_time": "2022-12-12T10:56:34.537Z"
      },
      {
        "duration": 273,
        "start_time": "2022-12-12T10:56:49.450Z"
      },
      {
        "duration": 128,
        "start_time": "2022-12-12T11:01:38.121Z"
      },
      {
        "duration": 424,
        "start_time": "2022-12-12T11:02:26.402Z"
      },
      {
        "duration": 77,
        "start_time": "2022-12-12T11:02:44.766Z"
      },
      {
        "duration": 388,
        "start_time": "2022-12-12T11:02:51.690Z"
      },
      {
        "duration": 391,
        "start_time": "2022-12-12T11:03:54.088Z"
      },
      {
        "duration": 402,
        "start_time": "2022-12-12T11:04:06.320Z"
      },
      {
        "duration": 404,
        "start_time": "2022-12-12T11:05:58.774Z"
      },
      {
        "duration": 456,
        "start_time": "2022-12-12T11:06:12.267Z"
      },
      {
        "duration": 480,
        "start_time": "2022-12-12T11:06:12.778Z"
      },
      {
        "duration": 47,
        "start_time": "2022-12-13T06:05:19.444Z"
      },
      {
        "duration": 1542,
        "start_time": "2022-12-13T06:05:30.885Z"
      },
      {
        "duration": 2644,
        "start_time": "2022-12-13T06:05:32.429Z"
      },
      {
        "duration": 19,
        "start_time": "2022-12-13T06:05:35.075Z"
      },
      {
        "duration": 6,
        "start_time": "2022-12-13T06:05:35.097Z"
      },
      {
        "duration": 6,
        "start_time": "2022-12-13T06:05:35.105Z"
      },
      {
        "duration": 17,
        "start_time": "2022-12-13T06:05:35.112Z"
      },
      {
        "duration": 997,
        "start_time": "2022-12-13T06:05:37.089Z"
      },
      {
        "duration": 968,
        "start_time": "2022-12-13T06:09:46.494Z"
      },
      {
        "duration": 1017,
        "start_time": "2022-12-13T06:09:54.053Z"
      },
      {
        "duration": 940,
        "start_time": "2022-12-13T06:11:47.721Z"
      },
      {
        "duration": 1006,
        "start_time": "2022-12-13T06:11:48.663Z"
      },
      {
        "duration": 5,
        "start_time": "2022-12-13T06:19:27.272Z"
      },
      {
        "duration": 858,
        "start_time": "2022-12-13T07:58:35.132Z"
      },
      {
        "duration": 831,
        "start_time": "2022-12-13T07:59:11.835Z"
      },
      {
        "duration": 896,
        "start_time": "2022-12-13T08:00:23.435Z"
      },
      {
        "duration": 775,
        "start_time": "2022-12-13T08:00:49.875Z"
      },
      {
        "duration": 802,
        "start_time": "2022-12-13T08:01:20.454Z"
      },
      {
        "duration": 765,
        "start_time": "2022-12-13T08:02:04.994Z"
      },
      {
        "duration": 354,
        "start_time": "2022-12-13T08:05:11.311Z"
      },
      {
        "duration": 1085,
        "start_time": "2022-12-13T08:07:52.467Z"
      },
      {
        "duration": 1255,
        "start_time": "2022-12-13T08:11:57.751Z"
      },
      {
        "duration": 957,
        "start_time": "2022-12-13T08:15:38.011Z"
      },
      {
        "duration": 1008,
        "start_time": "2022-12-13T08:16:01.370Z"
      },
      {
        "duration": 3,
        "start_time": "2022-12-13T08:28:23.166Z"
      },
      {
        "duration": 3,
        "start_time": "2022-12-13T08:28:23.502Z"
      },
      {
        "duration": 8,
        "start_time": "2022-12-13T08:28:54.332Z"
      },
      {
        "duration": 3,
        "start_time": "2022-12-13T08:31:10.057Z"
      },
      {
        "duration": 16,
        "start_time": "2022-12-13T08:31:10.452Z"
      },
      {
        "duration": 4,
        "start_time": "2022-12-13T08:31:31.188Z"
      },
      {
        "duration": 12,
        "start_time": "2022-12-13T08:31:32.740Z"
      },
      {
        "duration": 3,
        "start_time": "2022-12-13T08:33:39.919Z"
      },
      {
        "duration": 8,
        "start_time": "2022-12-13T08:33:40.450Z"
      },
      {
        "duration": 3,
        "start_time": "2022-12-13T08:33:57.980Z"
      },
      {
        "duration": 8,
        "start_time": "2022-12-13T08:33:58.323Z"
      },
      {
        "duration": 4,
        "start_time": "2022-12-13T08:34:10.524Z"
      },
      {
        "duration": 13,
        "start_time": "2022-12-13T08:34:10.710Z"
      },
      {
        "duration": 3,
        "start_time": "2022-12-13T08:34:17.345Z"
      },
      {
        "duration": 13,
        "start_time": "2022-12-13T08:34:17.607Z"
      },
      {
        "duration": 4,
        "start_time": "2022-12-13T08:34:22.305Z"
      },
      {
        "duration": 9,
        "start_time": "2022-12-13T08:34:22.590Z"
      },
      {
        "duration": 4,
        "start_time": "2022-12-13T08:34:44.186Z"
      },
      {
        "duration": 11,
        "start_time": "2022-12-13T08:34:44.524Z"
      },
      {
        "duration": 6,
        "start_time": "2022-12-13T08:35:00.211Z"
      },
      {
        "duration": 18,
        "start_time": "2022-12-13T08:35:00.518Z"
      },
      {
        "duration": 4,
        "start_time": "2022-12-13T08:38:54.231Z"
      },
      {
        "duration": 15,
        "start_time": "2022-12-13T08:38:54.530Z"
      },
      {
        "duration": 3,
        "start_time": "2022-12-13T08:40:04.013Z"
      },
      {
        "duration": 13,
        "start_time": "2022-12-13T08:40:04.242Z"
      },
      {
        "duration": 3,
        "start_time": "2022-12-13T08:40:10.974Z"
      },
      {
        "duration": 10,
        "start_time": "2022-12-13T08:40:11.560Z"
      },
      {
        "duration": 3,
        "start_time": "2022-12-13T08:40:36.663Z"
      },
      {
        "duration": 16,
        "start_time": "2022-12-13T08:40:36.875Z"
      },
      {
        "duration": 3,
        "start_time": "2022-12-13T08:40:52.498Z"
      },
      {
        "duration": 16,
        "start_time": "2022-12-13T08:40:52.742Z"
      },
      {
        "duration": 4,
        "start_time": "2022-12-13T08:41:12.188Z"
      },
      {
        "duration": 13,
        "start_time": "2022-12-13T08:41:12.396Z"
      },
      {
        "duration": 5,
        "start_time": "2022-12-13T08:44:22.023Z"
      },
      {
        "duration": 99,
        "start_time": "2022-12-13T08:44:23.008Z"
      },
      {
        "duration": 4,
        "start_time": "2022-12-13T08:44:57.102Z"
      },
      {
        "duration": 12,
        "start_time": "2022-12-13T08:44:57.395Z"
      },
      {
        "duration": 4,
        "start_time": "2022-12-13T08:45:52.485Z"
      },
      {
        "duration": 10,
        "start_time": "2022-12-13T08:45:52.743Z"
      },
      {
        "duration": 13,
        "start_time": "2022-12-13T08:57:05.500Z"
      },
      {
        "duration": 5,
        "start_time": "2022-12-13T08:57:08.917Z"
      },
      {
        "duration": 4,
        "start_time": "2022-12-13T08:59:48.014Z"
      },
      {
        "duration": 5,
        "start_time": "2022-12-13T09:01:56.163Z"
      },
      {
        "duration": 4,
        "start_time": "2022-12-13T09:02:07.649Z"
      },
      {
        "duration": 56,
        "start_time": "2022-12-13T09:02:27.959Z"
      },
      {
        "duration": 5,
        "start_time": "2022-12-13T09:02:38.064Z"
      },
      {
        "duration": 5,
        "start_time": "2022-12-13T09:02:55.735Z"
      },
      {
        "duration": 4,
        "start_time": "2022-12-13T09:03:10.447Z"
      },
      {
        "duration": 4,
        "start_time": "2022-12-13T09:04:44.438Z"
      },
      {
        "duration": 3,
        "start_time": "2022-12-13T09:04:54.801Z"
      },
      {
        "duration": 19,
        "start_time": "2022-12-13T09:05:25.079Z"
      },
      {
        "duration": 4,
        "start_time": "2022-12-13T09:06:16.803Z"
      },
      {
        "duration": 18,
        "start_time": "2022-12-13T09:06:17.331Z"
      },
      {
        "duration": 81,
        "start_time": "2022-12-14T05:15:51.376Z"
      },
      {
        "duration": 46,
        "start_time": "2022-12-14T05:16:13.720Z"
      },
      {
        "duration": 0,
        "start_time": "2022-12-14T05:16:13.767Z"
      },
      {
        "duration": 0,
        "start_time": "2022-12-14T05:16:13.769Z"
      },
      {
        "duration": 0,
        "start_time": "2022-12-14T05:16:13.770Z"
      },
      {
        "duration": 0,
        "start_time": "2022-12-14T05:16:13.771Z"
      },
      {
        "duration": 0,
        "start_time": "2022-12-14T05:16:13.773Z"
      },
      {
        "duration": 0,
        "start_time": "2022-12-14T05:16:13.774Z"
      },
      {
        "duration": 0,
        "start_time": "2022-12-14T05:16:13.775Z"
      },
      {
        "duration": 0,
        "start_time": "2022-12-14T05:16:13.777Z"
      },
      {
        "duration": 0,
        "start_time": "2022-12-14T05:16:13.779Z"
      },
      {
        "duration": 8,
        "start_time": "2022-12-14T05:16:22.119Z"
      },
      {
        "duration": 2011,
        "start_time": "2022-12-14T05:16:28.747Z"
      },
      {
        "duration": 2360,
        "start_time": "2022-12-14T05:16:30.761Z"
      },
      {
        "duration": 24,
        "start_time": "2022-12-14T05:16:33.123Z"
      },
      {
        "duration": 8,
        "start_time": "2022-12-14T05:16:33.150Z"
      },
      {
        "duration": 6,
        "start_time": "2022-12-14T05:16:33.161Z"
      },
      {
        "duration": 27,
        "start_time": "2022-12-14T05:16:33.169Z"
      },
      {
        "duration": 4,
        "start_time": "2022-12-14T05:16:33.198Z"
      },
      {
        "duration": 49,
        "start_time": "2022-12-14T05:16:33.204Z"
      },
      {
        "duration": 79,
        "start_time": "2022-12-14T05:16:33.255Z"
      },
      {
        "duration": 16,
        "start_time": "2022-12-14T05:16:38.192Z"
      },
      {
        "duration": 19,
        "start_time": "2022-12-14T05:16:57.425Z"
      },
      {
        "duration": 16,
        "start_time": "2022-12-14T05:17:11.573Z"
      },
      {
        "duration": 15,
        "start_time": "2022-12-14T05:17:33.788Z"
      },
      {
        "duration": 21,
        "start_time": "2022-12-14T05:18:23.021Z"
      },
      {
        "duration": 6,
        "start_time": "2022-12-14T05:20:25.604Z"
      },
      {
        "duration": 4,
        "start_time": "2022-12-14T05:20:29.174Z"
      },
      {
        "duration": 6,
        "start_time": "2022-12-14T05:20:38.234Z"
      },
      {
        "duration": 16,
        "start_time": "2022-12-14T05:20:51.476Z"
      },
      {
        "duration": 21,
        "start_time": "2022-12-14T05:21:36.349Z"
      },
      {
        "duration": 1398,
        "start_time": "2022-12-14T05:22:02.547Z"
      },
      {
        "duration": 725,
        "start_time": "2022-12-14T05:22:03.947Z"
      },
      {
        "duration": 17,
        "start_time": "2022-12-14T05:22:04.674Z"
      },
      {
        "duration": 8,
        "start_time": "2022-12-14T05:22:04.693Z"
      },
      {
        "duration": 21,
        "start_time": "2022-12-14T05:22:04.703Z"
      },
      {
        "duration": 31,
        "start_time": "2022-12-14T05:22:04.726Z"
      },
      {
        "duration": 3,
        "start_time": "2022-12-14T05:22:04.759Z"
      },
      {
        "duration": 31,
        "start_time": "2022-12-14T05:22:04.764Z"
      },
      {
        "duration": 23,
        "start_time": "2022-12-14T05:22:16.994Z"
      },
      {
        "duration": 13,
        "start_time": "2022-12-14T05:22:38.037Z"
      },
      {
        "duration": 144,
        "start_time": "2022-12-14T05:24:29.563Z"
      },
      {
        "duration": 16,
        "start_time": "2022-12-14T05:24:36.953Z"
      },
      {
        "duration": 13,
        "start_time": "2022-12-14T05:25:00.946Z"
      },
      {
        "duration": 15,
        "start_time": "2022-12-14T05:25:01.926Z"
      },
      {
        "duration": 16,
        "start_time": "2022-12-14T05:25:25.821Z"
      },
      {
        "duration": 68,
        "start_time": "2022-12-14T05:36:52.076Z"
      },
      {
        "duration": 773,
        "start_time": "2022-12-14T05:36:52.146Z"
      },
      {
        "duration": 16,
        "start_time": "2022-12-14T05:36:52.921Z"
      },
      {
        "duration": 8,
        "start_time": "2022-12-14T05:36:52.952Z"
      },
      {
        "duration": 22,
        "start_time": "2022-12-14T05:36:52.963Z"
      },
      {
        "duration": 20,
        "start_time": "2022-12-14T05:36:52.988Z"
      },
      {
        "duration": 11,
        "start_time": "2022-12-14T05:36:53.011Z"
      },
      {
        "duration": 26,
        "start_time": "2022-12-14T05:36:53.024Z"
      },
      {
        "duration": 33,
        "start_time": "2022-12-14T05:36:53.053Z"
      },
      {
        "duration": 18,
        "start_time": "2022-12-14T05:36:53.089Z"
      },
      {
        "duration": 1038,
        "start_time": "2022-12-14T05:36:53.109Z"
      },
      {
        "duration": 1005,
        "start_time": "2022-12-14T05:36:54.149Z"
      },
      {
        "duration": 1240,
        "start_time": "2022-12-14T05:36:55.156Z"
      },
      {
        "duration": 541,
        "start_time": "2022-12-14T05:36:56.398Z"
      },
      {
        "duration": 450,
        "start_time": "2022-12-14T05:36:56.940Z"
      },
      {
        "duration": 6,
        "start_time": "2022-12-14T05:36:57.392Z"
      },
      {
        "duration": 1191,
        "start_time": "2022-12-14T05:36:57.400Z"
      },
      {
        "duration": 3,
        "start_time": "2022-12-14T05:36:58.593Z"
      },
      {
        "duration": 13,
        "start_time": "2022-12-14T05:36:58.598Z"
      },
      {
        "duration": 19,
        "start_time": "2022-12-14T05:37:02.894Z"
      },
      {
        "duration": 9,
        "start_time": "2022-12-14T05:37:13.088Z"
      },
      {
        "duration": 11,
        "start_time": "2022-12-14T05:37:24.788Z"
      },
      {
        "duration": 19,
        "start_time": "2022-12-14T05:37:37.040Z"
      },
      {
        "duration": 4,
        "start_time": "2022-12-14T05:41:48.191Z"
      },
      {
        "duration": 11,
        "start_time": "2022-12-14T05:41:49.242Z"
      },
      {
        "duration": 4,
        "start_time": "2022-12-14T05:42:23.916Z"
      },
      {
        "duration": 29,
        "start_time": "2022-12-14T05:42:27.041Z"
      },
      {
        "duration": 31,
        "start_time": "2022-12-14T05:43:26.188Z"
      },
      {
        "duration": 39,
        "start_time": "2022-12-14T05:45:22.351Z"
      },
      {
        "duration": 42,
        "start_time": "2022-12-14T05:46:33.202Z"
      },
      {
        "duration": 40,
        "start_time": "2022-12-14T05:46:39.476Z"
      },
      {
        "duration": 34,
        "start_time": "2022-12-14T05:50:08.284Z"
      },
      {
        "duration": 31,
        "start_time": "2022-12-14T05:50:17.911Z"
      },
      {
        "duration": 25,
        "start_time": "2022-12-14T05:50:28.175Z"
      },
      {
        "duration": 35,
        "start_time": "2022-12-14T05:51:00.089Z"
      },
      {
        "duration": 31,
        "start_time": "2022-12-14T05:51:06.482Z"
      },
      {
        "duration": 23,
        "start_time": "2022-12-14T05:51:19.705Z"
      },
      {
        "duration": 60482,
        "start_time": "2022-12-14T05:51:23.783Z"
      },
      {
        "duration": 5,
        "start_time": "2022-12-14T05:53:19.092Z"
      },
      {
        "duration": 150190,
        "start_time": "2022-12-14T05:53:19.926Z"
      },
      {
        "duration": 4,
        "start_time": "2022-12-14T05:56:35.426Z"
      },
      {
        "duration": 58368,
        "start_time": "2022-12-14T05:56:39.142Z"
      },
      {
        "duration": 8,
        "start_time": "2022-12-14T05:58:01.937Z"
      },
      {
        "duration": 7,
        "start_time": "2022-12-14T05:58:18.145Z"
      },
      {
        "duration": 14,
        "start_time": "2022-12-14T05:58:32.426Z"
      },
      {
        "duration": 28,
        "start_time": "2022-12-14T05:58:41.686Z"
      },
      {
        "duration": 12,
        "start_time": "2022-12-14T05:58:44.527Z"
      },
      {
        "duration": 32,
        "start_time": "2022-12-14T05:59:06.026Z"
      },
      {
        "duration": 10,
        "start_time": "2022-12-14T05:59:33.020Z"
      },
      {
        "duration": 3,
        "start_time": "2022-12-14T06:06:05.317Z"
      },
      {
        "duration": 147306,
        "start_time": "2022-12-14T06:06:08.091Z"
      },
      {
        "duration": 5,
        "start_time": "2022-12-14T06:09:16.735Z"
      },
      {
        "duration": 38353,
        "start_time": "2022-12-14T06:11:06.417Z"
      },
      {
        "duration": 36609,
        "start_time": "2022-12-14T06:20:19.721Z"
      },
      {
        "duration": 3014,
        "start_time": "2022-12-14T06:21:13.357Z"
      },
      {
        "duration": 4,
        "start_time": "2022-12-14T06:21:18.235Z"
      },
      {
        "duration": 141140,
        "start_time": "2022-12-14T06:21:19.638Z"
      },
      {
        "duration": 37622,
        "start_time": "2022-12-14T06:25:33.730Z"
      },
      {
        "duration": 4,
        "start_time": "2022-12-14T06:26:25.582Z"
      },
      {
        "duration": 37142,
        "start_time": "2022-12-14T06:26:27.325Z"
      },
      {
        "duration": 1692,
        "start_time": "2022-12-14T06:29:38.563Z"
      },
      {
        "duration": 854,
        "start_time": "2022-12-14T06:29:40.258Z"
      },
      {
        "duration": 17,
        "start_time": "2022-12-14T06:29:41.114Z"
      },
      {
        "duration": 18,
        "start_time": "2022-12-14T06:29:41.133Z"
      },
      {
        "duration": 7,
        "start_time": "2022-12-14T06:29:41.153Z"
      },
      {
        "duration": 38,
        "start_time": "2022-12-14T06:29:41.162Z"
      },
      {
        "duration": 5,
        "start_time": "2022-12-14T06:29:41.202Z"
      },
      {
        "duration": 36,
        "start_time": "2022-12-14T06:29:41.209Z"
      },
      {
        "duration": 150,
        "start_time": "2022-12-14T06:29:41.247Z"
      },
      {
        "duration": 0,
        "start_time": "2022-12-14T06:29:41.399Z"
      },
      {
        "duration": 0,
        "start_time": "2022-12-14T06:29:41.401Z"
      },
      {
        "duration": 0,
        "start_time": "2022-12-14T06:29:41.402Z"
      },
      {
        "duration": 0,
        "start_time": "2022-12-14T06:29:41.403Z"
      },
      {
        "duration": 0,
        "start_time": "2022-12-14T06:29:41.404Z"
      },
      {
        "duration": 0,
        "start_time": "2022-12-14T06:29:41.405Z"
      },
      {
        "duration": 0,
        "start_time": "2022-12-14T06:29:41.406Z"
      },
      {
        "duration": 0,
        "start_time": "2022-12-14T06:29:41.407Z"
      },
      {
        "duration": 0,
        "start_time": "2022-12-14T06:29:41.409Z"
      },
      {
        "duration": 0,
        "start_time": "2022-12-14T06:29:41.410Z"
      },
      {
        "duration": 0,
        "start_time": "2022-12-14T06:29:41.412Z"
      },
      {
        "duration": 0,
        "start_time": "2022-12-14T06:29:41.413Z"
      },
      {
        "duration": 0,
        "start_time": "2022-12-14T06:29:41.414Z"
      },
      {
        "duration": 16,
        "start_time": "2022-12-14T06:29:58.679Z"
      },
      {
        "duration": 13,
        "start_time": "2022-12-14T06:29:58.698Z"
      },
      {
        "duration": 1081,
        "start_time": "2022-12-14T06:29:58.713Z"
      },
      {
        "duration": 1377,
        "start_time": "2022-12-14T06:29:59.796Z"
      },
      {
        "duration": 1717,
        "start_time": "2022-12-14T06:30:01.175Z"
      },
      {
        "duration": 903,
        "start_time": "2022-12-14T06:30:02.894Z"
      },
      {
        "duration": 454,
        "start_time": "2022-12-14T06:30:03.801Z"
      },
      {
        "duration": 6,
        "start_time": "2022-12-14T06:30:04.257Z"
      },
      {
        "duration": 1082,
        "start_time": "2022-12-14T06:30:04.265Z"
      },
      {
        "duration": 3,
        "start_time": "2022-12-14T06:30:05.351Z"
      },
      {
        "duration": 18,
        "start_time": "2022-12-14T06:30:05.356Z"
      },
      {
        "duration": 130148,
        "start_time": "2022-12-14T06:30:05.376Z"
      },
      {
        "duration": 32102,
        "start_time": "2022-12-14T06:32:15.525Z"
      },
      {
        "duration": 126943,
        "start_time": "2022-12-14T06:32:47.629Z"
      },
      {
        "duration": 2156,
        "start_time": "2022-12-14T06:40:50.296Z"
      },
      {
        "duration": 126567,
        "start_time": "2022-12-14T06:40:52.454Z"
      },
      {
        "duration": 1038,
        "start_time": "2022-12-14T06:42:59.022Z"
      },
      {
        "duration": 3348569,
        "start_time": "2022-12-14T06:57:16.445Z"
      },
      {
        "duration": 648743,
        "start_time": "2022-12-14T07:53:30.303Z"
      },
      {
        "duration": 1593,
        "start_time": "2022-12-15T05:31:11.064Z"
      },
      {
        "duration": 2899,
        "start_time": "2022-12-15T05:31:14.242Z"
      },
      {
        "duration": 15,
        "start_time": "2022-12-15T05:31:17.143Z"
      },
      {
        "duration": 6,
        "start_time": "2022-12-15T05:31:18.457Z"
      },
      {
        "duration": 5,
        "start_time": "2022-12-15T05:31:18.715Z"
      },
      {
        "duration": 13,
        "start_time": "2022-12-15T05:31:20.517Z"
      },
      {
        "duration": 47,
        "start_time": "2022-12-15T05:40:40.418Z"
      },
      {
        "duration": 23,
        "start_time": "2022-12-15T05:40:49.054Z"
      },
      {
        "duration": 40,
        "start_time": "2022-12-15T05:41:26.344Z"
      },
      {
        "duration": 20,
        "start_time": "2022-12-15T05:41:42.960Z"
      },
      {
        "duration": 13,
        "start_time": "2022-12-15T05:41:52.027Z"
      },
      {
        "duration": 21,
        "start_time": "2022-12-15T05:42:49.328Z"
      },
      {
        "duration": 14,
        "start_time": "2022-12-15T05:42:49.837Z"
      },
      {
        "duration": 27,
        "start_time": "2022-12-15T05:42:53.500Z"
      },
      {
        "duration": 14,
        "start_time": "2022-12-15T05:42:54.228Z"
      },
      {
        "duration": 37,
        "start_time": "2022-12-15T05:43:15.555Z"
      },
      {
        "duration": 16,
        "start_time": "2022-12-15T05:43:15.958Z"
      },
      {
        "duration": 26,
        "start_time": "2022-12-15T05:43:18.657Z"
      },
      {
        "duration": 16,
        "start_time": "2022-12-15T05:43:18.926Z"
      },
      {
        "duration": 648,
        "start_time": "2022-12-15T05:43:24.086Z"
      },
      {
        "duration": 24,
        "start_time": "2022-12-15T05:43:31.581Z"
      },
      {
        "duration": 11,
        "start_time": "2022-12-15T05:43:31.929Z"
      },
      {
        "duration": 109,
        "start_time": "2022-12-15T05:45:44.936Z"
      },
      {
        "duration": 24,
        "start_time": "2022-12-15T05:46:02.161Z"
      },
      {
        "duration": 14,
        "start_time": "2022-12-15T05:46:02.951Z"
      },
      {
        "duration": 25,
        "start_time": "2022-12-15T05:46:07.372Z"
      },
      {
        "duration": 758,
        "start_time": "2022-12-15T05:47:14.543Z"
      },
      {
        "duration": 14,
        "start_time": "2022-12-15T05:47:30.484Z"
      },
      {
        "duration": 843,
        "start_time": "2022-12-15T05:48:09.726Z"
      },
      {
        "duration": 20,
        "start_time": "2022-12-15T05:48:24.035Z"
      },
      {
        "duration": 29,
        "start_time": "2022-12-15T05:48:26.021Z"
      },
      {
        "duration": 855,
        "start_time": "2022-12-15T05:50:37.242Z"
      },
      {
        "duration": 0,
        "start_time": "2022-12-15T05:50:38.099Z"
      },
      {
        "duration": 3,
        "start_time": "2022-12-15T05:50:57.089Z"
      },
      {
        "duration": 665,
        "start_time": "2022-12-15T05:50:57.094Z"
      },
      {
        "duration": 15,
        "start_time": "2022-12-15T05:50:57.761Z"
      },
      {
        "duration": 7,
        "start_time": "2022-12-15T05:50:57.778Z"
      },
      {
        "duration": 6,
        "start_time": "2022-12-15T05:50:57.786Z"
      },
      {
        "duration": 14,
        "start_time": "2022-12-15T05:50:57.794Z"
      },
      {
        "duration": 12,
        "start_time": "2022-12-15T05:50:57.809Z"
      },
      {
        "duration": 27,
        "start_time": "2022-12-15T05:50:57.822Z"
      },
      {
        "duration": 11,
        "start_time": "2022-12-15T05:50:57.851Z"
      },
      {
        "duration": 40,
        "start_time": "2022-12-15T05:51:03.274Z"
      },
      {
        "duration": 17,
        "start_time": "2022-12-15T05:51:05.192Z"
      },
      {
        "duration": 1260,
        "start_time": "2022-12-15T05:56:18.450Z"
      },
      {
        "duration": 652,
        "start_time": "2022-12-15T05:56:19.712Z"
      },
      {
        "duration": 17,
        "start_time": "2022-12-15T05:56:20.366Z"
      },
      {
        "duration": 6,
        "start_time": "2022-12-15T05:56:20.385Z"
      },
      {
        "duration": 21,
        "start_time": "2022-12-15T05:56:20.393Z"
      },
      {
        "duration": 17,
        "start_time": "2022-12-15T05:56:20.421Z"
      },
      {
        "duration": 6,
        "start_time": "2022-12-15T05:56:20.440Z"
      },
      {
        "duration": 27,
        "start_time": "2022-12-15T05:56:20.448Z"
      },
      {
        "duration": 11,
        "start_time": "2022-12-15T05:56:20.476Z"
      },
      {
        "duration": 59,
        "start_time": "2022-12-15T05:56:20.488Z"
      },
      {
        "duration": 12,
        "start_time": "2022-12-15T05:56:20.549Z"
      },
      {
        "duration": 1041,
        "start_time": "2022-12-15T05:56:20.562Z"
      },
      {
        "duration": 980,
        "start_time": "2022-12-15T05:56:21.605Z"
      },
      {
        "duration": 1008,
        "start_time": "2022-12-15T05:56:22.588Z"
      },
      {
        "duration": 384,
        "start_time": "2022-12-15T05:56:23.597Z"
      },
      {
        "duration": 404,
        "start_time": "2022-12-15T05:56:23.983Z"
      },
      {
        "duration": 4,
        "start_time": "2022-12-15T05:56:24.388Z"
      },
      {
        "duration": 1012,
        "start_time": "2022-12-15T05:56:24.394Z"
      },
      {
        "duration": 2,
        "start_time": "2022-12-15T05:56:25.408Z"
      },
      {
        "duration": 13,
        "start_time": "2022-12-15T05:56:25.412Z"
      },
      {
        "duration": 1801,
        "start_time": "2022-12-15T05:56:25.426Z"
      },
      {
        "duration": 107119,
        "start_time": "2022-12-15T05:56:27.229Z"
      },
      {
        "duration": 872,
        "start_time": "2022-12-15T05:58:14.350Z"
      },
      {
        "duration": 20184,
        "start_time": "2022-12-15T05:58:15.225Z"
      },
      {
        "duration": 3,
        "start_time": "2022-12-15T05:59:06.521Z"
      },
      {
        "duration": 589204,
        "start_time": "2022-12-15T06:01:48.156Z"
      },
      {
        "duration": 4616,
        "start_time": "2022-12-15T06:11:37.362Z"
      },
      {
        "duration": 264689,
        "start_time": "2022-12-15T06:11:41.980Z"
      },
      {
        "duration": 1349,
        "start_time": "2022-12-15T06:16:06.672Z"
      },
      {
        "duration": 15,
        "start_time": "2022-12-15T06:16:08.023Z"
      },
      {
        "duration": 385,
        "start_time": "2022-12-15T06:16:08.040Z"
      },
      {
        "duration": 3,
        "start_time": "2022-12-15T06:18:21.965Z"
      },
      {
        "duration": 12,
        "start_time": "2022-12-15T06:19:29.025Z"
      },
      {
        "duration": 3,
        "start_time": "2022-12-15T06:19:50.117Z"
      },
      {
        "duration": 3,
        "start_time": "2022-12-15T06:19:58.181Z"
      },
      {
        "duration": 4,
        "start_time": "2022-12-15T06:19:58.526Z"
      },
      {
        "duration": 17,
        "start_time": "2022-12-15T06:20:04.055Z"
      },
      {
        "duration": 13,
        "start_time": "2022-12-15T06:20:47.573Z"
      },
      {
        "duration": 17,
        "start_time": "2022-12-15T06:20:51.807Z"
      },
      {
        "duration": 14,
        "start_time": "2022-12-15T06:22:12.262Z"
      },
      {
        "duration": 120,
        "start_time": "2022-12-15T06:22:16.206Z"
      },
      {
        "duration": 13,
        "start_time": "2022-12-15T06:22:43.010Z"
      },
      {
        "duration": 188,
        "start_time": "2022-12-15T06:22:47.535Z"
      },
      {
        "duration": 1338,
        "start_time": "2022-12-15T06:29:02.020Z"
      },
      {
        "duration": 656,
        "start_time": "2022-12-15T06:29:03.359Z"
      },
      {
        "duration": 18,
        "start_time": "2022-12-15T06:29:04.016Z"
      },
      {
        "duration": 18,
        "start_time": "2022-12-15T06:29:04.036Z"
      },
      {
        "duration": 38,
        "start_time": "2022-12-15T06:29:04.056Z"
      },
      {
        "duration": 27,
        "start_time": "2022-12-15T06:29:04.096Z"
      },
      {
        "duration": 28,
        "start_time": "2022-12-15T06:29:04.125Z"
      },
      {
        "duration": 44,
        "start_time": "2022-12-15T06:29:04.154Z"
      },
      {
        "duration": 16,
        "start_time": "2022-12-15T06:29:04.200Z"
      },
      {
        "duration": 61,
        "start_time": "2022-12-15T06:29:04.218Z"
      },
      {
        "duration": 13,
        "start_time": "2022-12-15T06:29:04.280Z"
      },
      {
        "duration": 1129,
        "start_time": "2022-12-15T06:29:04.294Z"
      },
      {
        "duration": 953,
        "start_time": "2022-12-15T06:29:05.425Z"
      },
      {
        "duration": 1017,
        "start_time": "2022-12-15T06:29:06.380Z"
      },
      {
        "duration": 482,
        "start_time": "2022-12-15T06:29:07.398Z"
      },
      {
        "duration": 422,
        "start_time": "2022-12-15T06:29:07.882Z"
      },
      {
        "duration": 4,
        "start_time": "2022-12-15T06:29:08.306Z"
      },
      {
        "duration": 1052,
        "start_time": "2022-12-15T06:29:08.320Z"
      },
      {
        "duration": 4,
        "start_time": "2022-12-15T06:29:09.373Z"
      },
      {
        "duration": 46,
        "start_time": "2022-12-15T06:29:09.379Z"
      },
      {
        "duration": 1853,
        "start_time": "2022-12-15T06:29:09.426Z"
      },
      {
        "duration": 108307,
        "start_time": "2022-12-15T06:29:11.281Z"
      },
      {
        "duration": 732,
        "start_time": "2022-12-15T06:30:59.590Z"
      },
      {
        "duration": 618284,
        "start_time": "2022-12-15T06:31:00.325Z"
      },
      {
        "duration": 30,
        "start_time": "2022-12-15T06:41:18.610Z"
      },
      {
        "duration": 5135,
        "start_time": "2022-12-15T06:41:18.642Z"
      },
      {
        "duration": 283362,
        "start_time": "2022-12-15T06:41:23.779Z"
      },
      {
        "duration": 1379,
        "start_time": "2022-12-15T06:46:07.144Z"
      },
      {
        "duration": 106,
        "start_time": "2022-12-15T06:46:08.526Z"
      },
      {
        "duration": 384,
        "start_time": "2022-12-15T06:46:08.640Z"
      },
      {
        "duration": 1490,
        "start_time": "2022-12-16T06:24:41.584Z"
      },
      {
        "duration": 1986,
        "start_time": "2022-12-16T06:24:44.733Z"
      },
      {
        "duration": 3,
        "start_time": "2022-12-16T06:24:53.104Z"
      },
      {
        "duration": 3,
        "start_time": "2022-12-16T06:24:53.835Z"
      },
      {
        "duration": 1626,
        "start_time": "2022-12-16T06:24:56.719Z"
      },
      {
        "duration": 1139,
        "start_time": "2022-12-16T06:25:21.018Z"
      },
      {
        "duration": 67,
        "start_time": "2022-12-16T06:25:29.371Z"
      },
      {
        "duration": 11,
        "start_time": "2022-12-16T06:25:37.809Z"
      },
      {
        "duration": 93,
        "start_time": "2022-12-16T06:25:51.283Z"
      },
      {
        "duration": 68,
        "start_time": "2022-12-16T06:25:58.810Z"
      },
      {
        "duration": 76,
        "start_time": "2022-12-16T06:27:14.356Z"
      },
      {
        "duration": 1118,
        "start_time": "2022-12-16T06:27:32.176Z"
      },
      {
        "duration": 8,
        "start_time": "2022-12-16T06:27:47.369Z"
      },
      {
        "duration": 3384,
        "start_time": "2022-12-16T06:28:05.882Z"
      },
      {
        "duration": 3416,
        "start_time": "2022-12-16T06:29:12.067Z"
      },
      {
        "duration": 6,
        "start_time": "2022-12-16T06:30:07.404Z"
      },
      {
        "duration": 9,
        "start_time": "2022-12-16T06:30:14.231Z"
      },
      {
        "duration": 7,
        "start_time": "2022-12-16T06:30:21.300Z"
      },
      {
        "duration": 6,
        "start_time": "2022-12-16T06:30:28.364Z"
      },
      {
        "duration": 5,
        "start_time": "2022-12-16T06:30:36.600Z"
      },
      {
        "duration": 6,
        "start_time": "2022-12-16T06:30:41.390Z"
      },
      {
        "duration": 5,
        "start_time": "2022-12-16T06:30:46.124Z"
      },
      {
        "duration": 11,
        "start_time": "2022-12-16T06:31:03.916Z"
      },
      {
        "duration": 1140,
        "start_time": "2022-12-16T06:31:13.018Z"
      },
      {
        "duration": 6,
        "start_time": "2022-12-16T06:31:25.731Z"
      },
      {
        "duration": 14,
        "start_time": "2022-12-16T06:31:40.514Z"
      },
      {
        "duration": 8,
        "start_time": "2022-12-16T06:31:49.575Z"
      },
      {
        "duration": 6,
        "start_time": "2022-12-16T06:31:56.040Z"
      },
      {
        "duration": 4732,
        "start_time": "2022-12-16T06:32:36.175Z"
      },
      {
        "duration": 4,
        "start_time": "2022-12-16T06:34:27.687Z"
      },
      {
        "duration": 665,
        "start_time": "2022-12-16T06:34:27.693Z"
      },
      {
        "duration": 19,
        "start_time": "2022-12-16T06:34:28.360Z"
      },
      {
        "duration": 7,
        "start_time": "2022-12-16T06:34:28.380Z"
      },
      {
        "duration": 8,
        "start_time": "2022-12-16T06:34:28.389Z"
      },
      {
        "duration": 35,
        "start_time": "2022-12-16T06:34:28.398Z"
      },
      {
        "duration": 3,
        "start_time": "2022-12-16T06:34:28.435Z"
      },
      {
        "duration": 10,
        "start_time": "2022-12-16T06:34:28.439Z"
      },
      {
        "duration": 4889,
        "start_time": "2022-12-16T06:34:28.450Z"
      },
      {
        "duration": 13,
        "start_time": "2022-12-16T06:34:33.341Z"
      },
      {
        "duration": 71,
        "start_time": "2022-12-16T06:34:33.356Z"
      },
      {
        "duration": 1970,
        "start_time": "2022-12-16T06:34:33.429Z"
      },
      {
        "duration": 988,
        "start_time": "2022-12-16T06:34:35.400Z"
      },
      {
        "duration": 996,
        "start_time": "2022-12-16T06:34:36.391Z"
      },
      {
        "duration": 1108,
        "start_time": "2022-12-16T06:34:37.389Z"
      },
      {
        "duration": 391,
        "start_time": "2022-12-16T06:34:38.499Z"
      },
      {
        "duration": 406,
        "start_time": "2022-12-16T06:34:38.891Z"
      },
      {
        "duration": 5,
        "start_time": "2022-12-16T06:34:39.299Z"
      },
      {
        "duration": 1043,
        "start_time": "2022-12-16T06:34:46.959Z"
      },
      {
        "duration": 41,
        "start_time": "2022-12-16T06:46:13.302Z"
      },
      {
        "duration": 19,
        "start_time": "2022-12-16T06:46:47.483Z"
      },
      {
        "duration": 38,
        "start_time": "2022-12-16T06:47:06.267Z"
      },
      {
        "duration": 4,
        "start_time": "2022-12-16T06:48:16.802Z"
      },
      {
        "duration": 21,
        "start_time": "2022-12-16T06:49:05.863Z"
      },
      {
        "duration": 20,
        "start_time": "2022-12-16T06:49:29.179Z"
      },
      {
        "duration": 10,
        "start_time": "2022-12-16T06:49:45.940Z"
      },
      {
        "duration": 13891,
        "start_time": "2022-12-16T06:49:50.565Z"
      },
      {
        "duration": 3,
        "start_time": "2022-12-16T06:50:31.182Z"
      },
      {
        "duration": 1578,
        "start_time": "2022-12-16T06:50:32.599Z"
      },
      {
        "duration": 1031,
        "start_time": "2022-12-16T06:50:45.053Z"
      },
      {
        "duration": 1364,
        "start_time": "2022-12-16T06:50:57.447Z"
      },
      {
        "duration": 667,
        "start_time": "2022-12-16T06:50:58.813Z"
      },
      {
        "duration": 15,
        "start_time": "2022-12-16T06:50:59.482Z"
      },
      {
        "duration": 6,
        "start_time": "2022-12-16T06:50:59.499Z"
      },
      {
        "duration": 19,
        "start_time": "2022-12-16T06:50:59.506Z"
      },
      {
        "duration": 15,
        "start_time": "2022-12-16T06:50:59.526Z"
      },
      {
        "duration": 11,
        "start_time": "2022-12-16T06:50:59.543Z"
      },
      {
        "duration": 3,
        "start_time": "2022-12-16T06:50:59.555Z"
      },
      {
        "duration": 6,
        "start_time": "2022-12-16T06:50:59.559Z"
      },
      {
        "duration": 1706,
        "start_time": "2022-12-16T06:51:02.576Z"
      },
      {
        "duration": 24,
        "start_time": "2022-12-16T06:51:30.072Z"
      },
      {
        "duration": 40,
        "start_time": "2022-12-16T06:53:09.760Z"
      },
      {
        "duration": 1577,
        "start_time": "2022-12-16T06:53:18.052Z"
      },
      {
        "duration": 39,
        "start_time": "2022-12-16T06:53:39.788Z"
      },
      {
        "duration": 3,
        "start_time": "2022-12-16T06:53:46.525Z"
      },
      {
        "duration": 3,
        "start_time": "2022-12-16T06:53:46.860Z"
      },
      {
        "duration": 1559,
        "start_time": "2022-12-16T06:53:47.106Z"
      },
      {
        "duration": 1101,
        "start_time": "2022-12-16T06:54:07.704Z"
      },
      {
        "duration": 6,
        "start_time": "2022-12-16T06:54:20.408Z"
      },
      {
        "duration": 7,
        "start_time": "2022-12-16T06:54:24.219Z"
      },
      {
        "duration": 1199,
        "start_time": "2022-12-16T06:54:30.001Z"
      },
      {
        "duration": 15,
        "start_time": "2022-12-16T06:54:58.970Z"
      },
      {
        "duration": 4966,
        "start_time": "2022-12-16T06:55:01.163Z"
      },
      {
        "duration": 935,
        "start_time": "2022-12-16T06:56:31.261Z"
      },
      {
        "duration": 28,
        "start_time": "2022-12-16T06:58:45.725Z"
      },
      {
        "duration": 27,
        "start_time": "2022-12-16T06:59:28.796Z"
      },
      {
        "duration": 3,
        "start_time": "2022-12-16T06:59:31.105Z"
      },
      {
        "duration": 3,
        "start_time": "2022-12-16T06:59:31.491Z"
      },
      {
        "duration": 4640,
        "start_time": "2022-12-16T06:59:32.369Z"
      },
      {
        "duration": 945,
        "start_time": "2022-12-16T06:59:53.050Z"
      },
      {
        "duration": 1399,
        "start_time": "2022-12-16T07:02:54.855Z"
      },
      {
        "duration": 661,
        "start_time": "2022-12-16T07:02:56.256Z"
      },
      {
        "duration": 18,
        "start_time": "2022-12-16T07:02:56.922Z"
      },
      {
        "duration": 7,
        "start_time": "2022-12-16T07:02:56.943Z"
      },
      {
        "duration": 15,
        "start_time": "2022-12-16T07:02:56.952Z"
      },
      {
        "duration": 15,
        "start_time": "2022-12-16T07:02:56.969Z"
      },
      {
        "duration": 147,
        "start_time": "2022-12-16T07:02:56.986Z"
      },
      {
        "duration": 0,
        "start_time": "2022-12-16T07:02:57.135Z"
      },
      {
        "duration": 0,
        "start_time": "2022-12-16T07:02:57.136Z"
      },
      {
        "duration": 0,
        "start_time": "2022-12-16T07:02:57.137Z"
      },
      {
        "duration": 0,
        "start_time": "2022-12-16T07:02:57.138Z"
      },
      {
        "duration": 0,
        "start_time": "2022-12-16T07:02:57.139Z"
      },
      {
        "duration": 0,
        "start_time": "2022-12-16T07:02:57.140Z"
      },
      {
        "duration": 0,
        "start_time": "2022-12-16T07:02:57.141Z"
      },
      {
        "duration": 0,
        "start_time": "2022-12-16T07:02:57.142Z"
      },
      {
        "duration": 0,
        "start_time": "2022-12-16T07:02:57.143Z"
      },
      {
        "duration": 0,
        "start_time": "2022-12-16T07:02:57.144Z"
      },
      {
        "duration": 0,
        "start_time": "2022-12-16T07:02:57.145Z"
      },
      {
        "duration": 0,
        "start_time": "2022-12-16T07:02:57.146Z"
      },
      {
        "duration": 0,
        "start_time": "2022-12-16T07:02:57.148Z"
      },
      {
        "duration": 0,
        "start_time": "2022-12-16T07:02:57.149Z"
      },
      {
        "duration": 0,
        "start_time": "2022-12-16T07:02:57.150Z"
      },
      {
        "duration": 0,
        "start_time": "2022-12-16T07:02:57.151Z"
      },
      {
        "duration": 0,
        "start_time": "2022-12-16T07:02:57.152Z"
      },
      {
        "duration": 0,
        "start_time": "2022-12-16T07:02:57.153Z"
      },
      {
        "duration": 0,
        "start_time": "2022-12-16T07:02:57.154Z"
      },
      {
        "duration": 0,
        "start_time": "2022-12-16T07:02:57.155Z"
      },
      {
        "duration": 0,
        "start_time": "2022-12-16T07:02:57.156Z"
      },
      {
        "duration": 0,
        "start_time": "2022-12-16T07:02:57.157Z"
      },
      {
        "duration": 0,
        "start_time": "2022-12-16T07:02:57.158Z"
      },
      {
        "duration": 0,
        "start_time": "2022-12-16T07:02:57.159Z"
      },
      {
        "duration": 0,
        "start_time": "2022-12-16T07:02:57.160Z"
      },
      {
        "duration": 40,
        "start_time": "2022-12-16T07:04:25.918Z"
      },
      {
        "duration": 4,
        "start_time": "2022-12-16T07:04:25.960Z"
      },
      {
        "duration": 11,
        "start_time": "2022-12-16T07:04:25.966Z"
      },
      {
        "duration": 5796,
        "start_time": "2022-12-16T07:04:25.979Z"
      },
      {
        "duration": 11,
        "start_time": "2022-12-16T07:04:31.778Z"
      },
      {
        "duration": 66,
        "start_time": "2022-12-16T07:04:31.791Z"
      },
      {
        "duration": 1880,
        "start_time": "2022-12-16T07:04:31.859Z"
      },
      {
        "duration": 940,
        "start_time": "2022-12-16T07:04:33.740Z"
      },
      {
        "duration": 1216,
        "start_time": "2022-12-16T07:04:34.681Z"
      },
      {
        "duration": 1201,
        "start_time": "2022-12-16T07:04:35.898Z"
      },
      {
        "duration": 495,
        "start_time": "2022-12-16T07:04:37.101Z"
      },
      {
        "duration": 410,
        "start_time": "2022-12-16T07:04:37.597Z"
      },
      {
        "duration": 4,
        "start_time": "2022-12-16T07:04:38.009Z"
      },
      {
        "duration": 964,
        "start_time": "2022-12-16T07:04:38.023Z"
      },
      {
        "duration": 3,
        "start_time": "2022-12-16T07:04:38.989Z"
      },
      {
        "duration": 6,
        "start_time": "2022-12-16T07:04:38.994Z"
      },
      {
        "duration": 1654,
        "start_time": "2022-12-16T07:04:39.002Z"
      },
      {
        "duration": 89504,
        "start_time": "2022-12-16T07:04:40.657Z"
      },
      {
        "duration": 761,
        "start_time": "2022-12-16T07:06:10.163Z"
      },
      {
        "duration": 550928,
        "start_time": "2022-12-16T07:06:10.927Z"
      },
      {
        "duration": 13,
        "start_time": "2022-12-16T07:15:21.856Z"
      },
      {
        "duration": 4540,
        "start_time": "2022-12-16T07:15:21.871Z"
      },
      {
        "duration": 255693,
        "start_time": "2022-12-16T07:15:26.413Z"
      },
      {
        "duration": 2723,
        "start_time": "2022-12-16T07:19:42.108Z"
      },
      {
        "duration": 394,
        "start_time": "2022-12-16T07:19:44.833Z"
      },
      {
        "duration": 301,
        "start_time": "2022-12-16T07:19:45.235Z"
      }
    ],
    "toc": {
      "base_numbering": 1,
      "nav_menu": {},
      "number_sections": true,
      "sideBar": true,
      "skip_h1_title": true,
      "title_cell": "Содержание",
      "title_sidebar": "Contents",
      "toc_cell": true,
      "toc_position": {
        "height": "calc(100% - 180px)",
        "left": "10px",
        "top": "150px",
        "width": "288.188px"
      },
      "toc_section_display": true,
      "toc_window_display": true
    },
    "kernelspec": {
      "name": "python",
      "display_name": "Python (Pyodide)",
      "language": "python"
    },
    "language_info": {
      "codemirror_mode": {
        "name": "python",
        "version": 3
      },
      "file_extension": ".py",
      "mimetype": "text/x-python",
      "name": "python",
      "nbconvert_exporter": "python",
      "pygments_lexer": "ipython3",
      "version": "3.8"
    }
  },
  "nbformat_minor": 4,
  "nbformat": 4,
  "cells": [
    {
      "cell_type": "markdown",
      "source": "<h1>Содержание<span class=\"tocSkip\"></span></h1>\n<div class=\"toc\"><ul class=\"toc-item\"><li><ul class=\"toc-item\"><li><span><a href=\"#Общее-впечатление\" data-toc-modified-id=\"Общее-впечатление-0.1\"><span class=\"toc-item-num\">0.1&nbsp;&nbsp;</span><font color=\"orange\">Общее впечатление</font></a></span></li><li><span><a href=\"#Общее-впечатление-(ревью-2)\" data-toc-modified-id=\"Общее-впечатление-(ревью-2)-0.2\"><span class=\"toc-item-num\">0.2&nbsp;&nbsp;</span><font color=\"orange\">Общее впечатление (ревью 2)</font></a></span></li></ul></li><li><span><a href=\"#Подготовка-данных\" data-toc-modified-id=\"Подготовка-данных-1\"><span class=\"toc-item-num\">1&nbsp;&nbsp;</span>Подготовка данных</a></span><ul class=\"toc-item\"><li><span><a href=\"#Загрузка-файлов\" data-toc-modified-id=\"Загрузка-файлов-1.1\"><span class=\"toc-item-num\">1.1&nbsp;&nbsp;</span>Загрузка файлов</a></span></li><li><span><a href=\"#Проверка-расчета-эффективности-обогащения\" data-toc-modified-id=\"Проверка-расчета-эффективности-обогащения-1.2\"><span class=\"toc-item-num\">1.2&nbsp;&nbsp;</span>Проверка расчета эффективности обогащения</a></span></li><li><span><a href=\"#Анализ-признаков-в-тестовой-выборке\" data-toc-modified-id=\"Анализ-признаков-в-тестовой-выборке-1.3\"><span class=\"toc-item-num\">1.3&nbsp;&nbsp;</span>Анализ признаков в тестовой выборке</a></span></li><li><span><a href=\"#Предобработка-данных\" data-toc-modified-id=\"Предобработка-данных-1.4\"><span class=\"toc-item-num\">1.4&nbsp;&nbsp;</span>Предобработка данных</a></span></li></ul></li><li><span><a href=\"#Анализ-данных\" data-toc-modified-id=\"Анализ-данных-2\"><span class=\"toc-item-num\">2&nbsp;&nbsp;</span>Анализ данных</a></span><ul class=\"toc-item\"><li><span><a href=\"#Как-меняется-концентрация-металлов-(Au,-Ag,-Pb)-на-различных-этапах-очистки\" data-toc-modified-id=\"Как-меняется-концентрация-металлов-(Au,-Ag,-Pb)-на-различных-этапах-очистки-2.1\"><span class=\"toc-item-num\">2.1&nbsp;&nbsp;</span>Как меняется концентрация металлов (Au, Ag, Pb) на различных этапах очистки</a></span></li><li><span><a href=\"#Сравнение-распределения-размеров-гранул-сырья-на-обучающей-и-тестовой-выборках\" data-toc-modified-id=\"Сравнение-распределения-размеров-гранул-сырья-на-обучающей-и-тестовой-выборках-2.2\"><span class=\"toc-item-num\">2.2&nbsp;&nbsp;</span>Сравнение распределения размеров гранул сырья на обучающей и тестовой выборках</a></span></li><li><span><a href=\"#Исследование-суммарной-концентрации-всех-веществ-на-разных-стадиях:-в-сырье,-в-черновом-и-финальном-концентратах\" data-toc-modified-id=\"Исследование-суммарной-концентрации-всех-веществ-на-разных-стадиях:-в-сырье,-в-черновом-и-финальном-концентратах-2.3\"><span class=\"toc-item-num\">2.3&nbsp;&nbsp;</span>Исследование суммарной концентрации всех веществ на разных стадиях: в сырье, в черновом и финальном концентратах</a></span></li></ul></li><li><span><a href=\"#Модель\" data-toc-modified-id=\"Модель-3\"><span class=\"toc-item-num\">3&nbsp;&nbsp;</span>Модель</a></span><ul class=\"toc-item\"><li><span><a href=\"#Функция-для-вычисления-итоговой-sMAPE\" data-toc-modified-id=\"Функция-для-вычисления-итоговой-sMAPE-3.1\"><span class=\"toc-item-num\">3.1&nbsp;&nbsp;</span>Функция для вычисления итоговой sMAPE</a></span></li><li><span><a href=\"#Обучение-моделей-и-проверка-кросс-валидацией\" data-toc-modified-id=\"Обучение-моделей-и-проверка-кросс-валидацией-3.2\"><span class=\"toc-item-num\">3.2&nbsp;&nbsp;</span>Обучение моделей и проверка кросс-валидацией</a></span><ul class=\"toc-item\"><li><span><a href=\"#Эффективность-обогащения-чернового-концентрата\" data-toc-modified-id=\"Эффективность-обогащения-чернового-концентрата-3.2.1\"><span class=\"toc-item-num\">3.2.1&nbsp;&nbsp;</span>Эффективность обогащения чернового концентрата</a></span></li><li><span><a href=\"#Эффективность-обогащения-финального-концентрата\" data-toc-modified-id=\"Эффективность-обогащения-финального-концентрата-3.2.2\"><span class=\"toc-item-num\">3.2.2&nbsp;&nbsp;</span>Эффективность обогащения финального концентрата</a></span></li><li><span><a href=\"#Проверка-модели-на-тестовой-выборке\" data-toc-modified-id=\"Проверка-модели-на-тестовой-выборке-3.2.3\"><span class=\"toc-item-num\">3.2.3&nbsp;&nbsp;</span>Проверка модели на тестовой выборке</a></span></li></ul></li></ul></li><li><span><a href=\"#Чек-лист-готовности-проекта\" data-toc-modified-id=\"Чек-лист-готовности-проекта-4\"><span class=\"toc-item-num\">4&nbsp;&nbsp;</span>Чек-лист готовности проекта</a></span></li></ul></div>",
      "metadata": {
        "toc": true
      }
    },
    {
      "cell_type": "markdown",
      "source": "# Восстановление золота из руды",
      "metadata": {}
    },
    {
      "cell_type": "markdown",
      "source": "Осуществим разработку прототипа модели машинного обучения для компании, разрабатывающей решения для эффективной работы промышленных предприятий.\n\nМодель должна предсказать коэффициент восстановления золота из золотосодержащей руды. Используйются данные с параметрами добычи и очистки. \n\nМодель поможет оптимизировать производство, чтобы не запускать предприятие с убыточными характеристиками.\n\nНеобходимо:\n\n1. Подготовить данные;\n2. Провести исследовательский анализ данных;\n3. Реализовать функцию вычисления метрики sMAPE;\n4. Построить и обучить модель.",
      "metadata": {}
    },
    {
      "cell_type": "markdown",
      "source": "## Подготовка данных",
      "metadata": {}
    },
    {
      "cell_type": "code",
      "source": "import pandas as pd\nimport numpy as np\nfrom sklearn.metrics import mean_absolute_error\nimport matplotlib as mpl\nimport matplotlib.pyplot as plt\nimport seaborn as sns\nimport warnings; warnings.filterwarnings(action='once')\nfrom sklearn.tree import DecisionTreeRegressor\nfrom sklearn.ensemble import RandomForestRegressor\nfrom sklearn.linear_model import LinearRegression\nfrom sklearn.model_selection import cross_val_score\nfrom sklearn.metrics import make_scorer",
      "metadata": {},
      "execution_count": 1,
      "outputs": [
        {
          "name": "stderr",
          "output_type": "stream",
          "text": "/opt/conda/lib/python3.9/site-packages/sklearn/utils/optimize.py:18: DeprecationWarning: Please use `line_search_wolfe2` from the `scipy.optimize` namespace, the `scipy.optimize.linesearch` namespace is deprecated.\n\n  from scipy.optimize.linesearch import line_search_wolfe2, line_search_wolfe1\n\n/opt/conda/lib/python3.9/site-packages/sklearn/utils/optimize.py:18: DeprecationWarning: Please use `line_search_wolfe1` from the `scipy.optimize` namespace, the `scipy.optimize.linesearch` namespace is deprecated.\n\n  from scipy.optimize.linesearch import line_search_wolfe2, line_search_wolfe1\n"
        }
      ]
    },
    {
      "cell_type": "markdown",
      "source": "### Загрузка файлов",
      "metadata": {}
    },
    {
      "cell_type": "code",
      "source": "data_train = pd.read_csv('/datasets/gold_recovery_train_new.csv')\ndata_test = pd.read_csv('/datasets/gold_recovery_test_new.csv')\ndata_full = pd.read_csv('/datasets/gold_recovery_full_new.csv')\ndata_train.head()",
      "metadata": {},
      "execution_count": 2,
      "outputs": [
        {
          "execution_count": 2,
          "output_type": "execute_result",
          "data": {
            "text/html": [
              "<div>\n",
              "<style scoped>\n",
              "    .dataframe tbody tr th:only-of-type {\n",
              "        vertical-align: middle;\n",
              "    }\n",
              "\n",
              "    .dataframe tbody tr th {\n",
              "        vertical-align: top;\n",
              "    }\n",
              "\n",
              "    .dataframe thead th {\n",
              "        text-align: right;\n",
              "    }\n",
              "</style>\n",
              "<table border=\"1\" class=\"dataframe\">\n",
              "  <thead>\n",
              "    <tr style=\"text-align: right;\">\n",
              "      <th></th>\n",
              "      <th>date</th>\n",
              "      <th>final.output.concentrate_ag</th>\n",
              "      <th>final.output.concentrate_pb</th>\n",
              "      <th>final.output.concentrate_sol</th>\n",
              "      <th>final.output.concentrate_au</th>\n",
              "      <th>final.output.recovery</th>\n",
              "      <th>final.output.tail_ag</th>\n",
              "      <th>final.output.tail_pb</th>\n",
              "      <th>final.output.tail_sol</th>\n",
              "      <th>final.output.tail_au</th>\n",
              "      <th>...</th>\n",
              "      <th>secondary_cleaner.state.floatbank4_a_air</th>\n",
              "      <th>secondary_cleaner.state.floatbank4_a_level</th>\n",
              "      <th>secondary_cleaner.state.floatbank4_b_air</th>\n",
              "      <th>secondary_cleaner.state.floatbank4_b_level</th>\n",
              "      <th>secondary_cleaner.state.floatbank5_a_air</th>\n",
              "      <th>secondary_cleaner.state.floatbank5_a_level</th>\n",
              "      <th>secondary_cleaner.state.floatbank5_b_air</th>\n",
              "      <th>secondary_cleaner.state.floatbank5_b_level</th>\n",
              "      <th>secondary_cleaner.state.floatbank6_a_air</th>\n",
              "      <th>secondary_cleaner.state.floatbank6_a_level</th>\n",
              "    </tr>\n",
              "  </thead>\n",
              "  <tbody>\n",
              "    <tr>\n",
              "      <th>0</th>\n",
              "      <td>2016-01-15 00:00:00</td>\n",
              "      <td>6.055403</td>\n",
              "      <td>9.889648</td>\n",
              "      <td>5.507324</td>\n",
              "      <td>42.192020</td>\n",
              "      <td>70.541216</td>\n",
              "      <td>10.411962</td>\n",
              "      <td>0.895447</td>\n",
              "      <td>16.904297</td>\n",
              "      <td>2.143149</td>\n",
              "      <td>...</td>\n",
              "      <td>14.016835</td>\n",
              "      <td>-502.488007</td>\n",
              "      <td>12.099931</td>\n",
              "      <td>-504.715942</td>\n",
              "      <td>9.925633</td>\n",
              "      <td>-498.310211</td>\n",
              "      <td>8.079666</td>\n",
              "      <td>-500.470978</td>\n",
              "      <td>14.151341</td>\n",
              "      <td>-605.841980</td>\n",
              "    </tr>\n",
              "    <tr>\n",
              "      <th>1</th>\n",
              "      <td>2016-01-15 01:00:00</td>\n",
              "      <td>6.029369</td>\n",
              "      <td>9.968944</td>\n",
              "      <td>5.257781</td>\n",
              "      <td>42.701629</td>\n",
              "      <td>69.266198</td>\n",
              "      <td>10.462676</td>\n",
              "      <td>0.927452</td>\n",
              "      <td>16.634514</td>\n",
              "      <td>2.224930</td>\n",
              "      <td>...</td>\n",
              "      <td>13.992281</td>\n",
              "      <td>-505.503262</td>\n",
              "      <td>11.950531</td>\n",
              "      <td>-501.331529</td>\n",
              "      <td>10.039245</td>\n",
              "      <td>-500.169983</td>\n",
              "      <td>7.984757</td>\n",
              "      <td>-500.582168</td>\n",
              "      <td>13.998353</td>\n",
              "      <td>-599.787184</td>\n",
              "    </tr>\n",
              "    <tr>\n",
              "      <th>2</th>\n",
              "      <td>2016-01-15 02:00:00</td>\n",
              "      <td>6.055926</td>\n",
              "      <td>10.213995</td>\n",
              "      <td>5.383759</td>\n",
              "      <td>42.657501</td>\n",
              "      <td>68.116445</td>\n",
              "      <td>10.507046</td>\n",
              "      <td>0.953716</td>\n",
              "      <td>16.208849</td>\n",
              "      <td>2.257889</td>\n",
              "      <td>...</td>\n",
              "      <td>14.015015</td>\n",
              "      <td>-502.520901</td>\n",
              "      <td>11.912783</td>\n",
              "      <td>-501.133383</td>\n",
              "      <td>10.070913</td>\n",
              "      <td>-500.129135</td>\n",
              "      <td>8.013877</td>\n",
              "      <td>-500.517572</td>\n",
              "      <td>14.028663</td>\n",
              "      <td>-601.427363</td>\n",
              "    </tr>\n",
              "    <tr>\n",
              "      <th>3</th>\n",
              "      <td>2016-01-15 03:00:00</td>\n",
              "      <td>6.047977</td>\n",
              "      <td>9.977019</td>\n",
              "      <td>4.858634</td>\n",
              "      <td>42.689819</td>\n",
              "      <td>68.347543</td>\n",
              "      <td>10.422762</td>\n",
              "      <td>0.883763</td>\n",
              "      <td>16.532835</td>\n",
              "      <td>2.146849</td>\n",
              "      <td>...</td>\n",
              "      <td>14.036510</td>\n",
              "      <td>-500.857308</td>\n",
              "      <td>11.999550</td>\n",
              "      <td>-501.193686</td>\n",
              "      <td>9.970366</td>\n",
              "      <td>-499.201640</td>\n",
              "      <td>7.977324</td>\n",
              "      <td>-500.255908</td>\n",
              "      <td>14.005551</td>\n",
              "      <td>-599.996129</td>\n",
              "    </tr>\n",
              "    <tr>\n",
              "      <th>4</th>\n",
              "      <td>2016-01-15 04:00:00</td>\n",
              "      <td>6.148599</td>\n",
              "      <td>10.142511</td>\n",
              "      <td>4.939416</td>\n",
              "      <td>42.774141</td>\n",
              "      <td>66.927016</td>\n",
              "      <td>10.360302</td>\n",
              "      <td>0.792826</td>\n",
              "      <td>16.525686</td>\n",
              "      <td>2.055292</td>\n",
              "      <td>...</td>\n",
              "      <td>14.027298</td>\n",
              "      <td>-499.838632</td>\n",
              "      <td>11.953070</td>\n",
              "      <td>-501.053894</td>\n",
              "      <td>9.925709</td>\n",
              "      <td>-501.686727</td>\n",
              "      <td>7.894242</td>\n",
              "      <td>-500.356035</td>\n",
              "      <td>13.996647</td>\n",
              "      <td>-601.496691</td>\n",
              "    </tr>\n",
              "  </tbody>\n",
              "</table>\n",
              "<p>5 rows × 87 columns</p>\n",
              "</div>"
            ],
            "text/plain": [
              "                  date  final.output.concentrate_ag  \\\n",
              "0  2016-01-15 00:00:00                     6.055403   \n",
              "1  2016-01-15 01:00:00                     6.029369   \n",
              "2  2016-01-15 02:00:00                     6.055926   \n",
              "3  2016-01-15 03:00:00                     6.047977   \n",
              "4  2016-01-15 04:00:00                     6.148599   \n",
              "\n",
              "   final.output.concentrate_pb  final.output.concentrate_sol  \\\n",
              "0                     9.889648                      5.507324   \n",
              "1                     9.968944                      5.257781   \n",
              "2                    10.213995                      5.383759   \n",
              "3                     9.977019                      4.858634   \n",
              "4                    10.142511                      4.939416   \n",
              "\n",
              "   final.output.concentrate_au  final.output.recovery  final.output.tail_ag  \\\n",
              "0                    42.192020              70.541216             10.411962   \n",
              "1                    42.701629              69.266198             10.462676   \n",
              "2                    42.657501              68.116445             10.507046   \n",
              "3                    42.689819              68.347543             10.422762   \n",
              "4                    42.774141              66.927016             10.360302   \n",
              "\n",
              "   final.output.tail_pb  final.output.tail_sol  final.output.tail_au  ...  \\\n",
              "0              0.895447              16.904297              2.143149  ...   \n",
              "1              0.927452              16.634514              2.224930  ...   \n",
              "2              0.953716              16.208849              2.257889  ...   \n",
              "3              0.883763              16.532835              2.146849  ...   \n",
              "4              0.792826              16.525686              2.055292  ...   \n",
              "\n",
              "   secondary_cleaner.state.floatbank4_a_air  \\\n",
              "0                                 14.016835   \n",
              "1                                 13.992281   \n",
              "2                                 14.015015   \n",
              "3                                 14.036510   \n",
              "4                                 14.027298   \n",
              "\n",
              "   secondary_cleaner.state.floatbank4_a_level  \\\n",
              "0                                 -502.488007   \n",
              "1                                 -505.503262   \n",
              "2                                 -502.520901   \n",
              "3                                 -500.857308   \n",
              "4                                 -499.838632   \n",
              "\n",
              "   secondary_cleaner.state.floatbank4_b_air  \\\n",
              "0                                 12.099931   \n",
              "1                                 11.950531   \n",
              "2                                 11.912783   \n",
              "3                                 11.999550   \n",
              "4                                 11.953070   \n",
              "\n",
              "   secondary_cleaner.state.floatbank4_b_level  \\\n",
              "0                                 -504.715942   \n",
              "1                                 -501.331529   \n",
              "2                                 -501.133383   \n",
              "3                                 -501.193686   \n",
              "4                                 -501.053894   \n",
              "\n",
              "   secondary_cleaner.state.floatbank5_a_air  \\\n",
              "0                                  9.925633   \n",
              "1                                 10.039245   \n",
              "2                                 10.070913   \n",
              "3                                  9.970366   \n",
              "4                                  9.925709   \n",
              "\n",
              "   secondary_cleaner.state.floatbank5_a_level  \\\n",
              "0                                 -498.310211   \n",
              "1                                 -500.169983   \n",
              "2                                 -500.129135   \n",
              "3                                 -499.201640   \n",
              "4                                 -501.686727   \n",
              "\n",
              "   secondary_cleaner.state.floatbank5_b_air  \\\n",
              "0                                  8.079666   \n",
              "1                                  7.984757   \n",
              "2                                  8.013877   \n",
              "3                                  7.977324   \n",
              "4                                  7.894242   \n",
              "\n",
              "   secondary_cleaner.state.floatbank5_b_level  \\\n",
              "0                                 -500.470978   \n",
              "1                                 -500.582168   \n",
              "2                                 -500.517572   \n",
              "3                                 -500.255908   \n",
              "4                                 -500.356035   \n",
              "\n",
              "   secondary_cleaner.state.floatbank6_a_air  \\\n",
              "0                                 14.151341   \n",
              "1                                 13.998353   \n",
              "2                                 14.028663   \n",
              "3                                 14.005551   \n",
              "4                                 13.996647   \n",
              "\n",
              "   secondary_cleaner.state.floatbank6_a_level  \n",
              "0                                 -605.841980  \n",
              "1                                 -599.787184  \n",
              "2                                 -601.427363  \n",
              "3                                 -599.996129  \n",
              "4                                 -601.496691  \n",
              "\n",
              "[5 rows x 87 columns]"
            ]
          },
          "metadata": {}
        }
      ]
    },
    {
      "cell_type": "code",
      "source": "data_train.info()",
      "metadata": {
        "scrolled": true
      },
      "execution_count": 3,
      "outputs": [
        {
          "name": "stdout",
          "output_type": "stream",
          "text": "<class 'pandas.core.frame.DataFrame'>\n\nRangeIndex: 14149 entries, 0 to 14148\n\nData columns (total 87 columns):\n\n #   Column                                              Non-Null Count  Dtype  \n\n---  ------                                              --------------  -----  \n\n 0   date                                                14149 non-null  object \n\n 1   final.output.concentrate_ag                         14148 non-null  float64\n\n 2   final.output.concentrate_pb                         14148 non-null  float64\n\n 3   final.output.concentrate_sol                        13938 non-null  float64\n\n 4   final.output.concentrate_au                         14149 non-null  float64\n\n 5   final.output.recovery                               14149 non-null  float64\n\n 6   final.output.tail_ag                                14149 non-null  float64\n\n 7   final.output.tail_pb                                14049 non-null  float64\n\n 8   final.output.tail_sol                               14144 non-null  float64\n\n 9   final.output.tail_au                                14149 non-null  float64\n\n 10  primary_cleaner.input.sulfate                       14129 non-null  float64\n\n 11  primary_cleaner.input.depressant                    14117 non-null  float64\n\n 12  primary_cleaner.input.feed_size                     14149 non-null  float64\n\n 13  primary_cleaner.input.xanthate                      14049 non-null  float64\n\n 14  primary_cleaner.output.concentrate_ag               14149 non-null  float64\n\n 15  primary_cleaner.output.concentrate_pb               14063 non-null  float64\n\n 16  primary_cleaner.output.concentrate_sol              13863 non-null  float64\n\n 17  primary_cleaner.output.concentrate_au               14149 non-null  float64\n\n 18  primary_cleaner.output.tail_ag                      14148 non-null  float64\n\n 19  primary_cleaner.output.tail_pb                      14134 non-null  float64\n\n 20  primary_cleaner.output.tail_sol                     14103 non-null  float64\n\n 21  primary_cleaner.output.tail_au                      14149 non-null  float64\n\n 22  primary_cleaner.state.floatbank8_a_air              14145 non-null  float64\n\n 23  primary_cleaner.state.floatbank8_a_level            14148 non-null  float64\n\n 24  primary_cleaner.state.floatbank8_b_air              14145 non-null  float64\n\n 25  primary_cleaner.state.floatbank8_b_level            14148 non-null  float64\n\n 26  primary_cleaner.state.floatbank8_c_air              14147 non-null  float64\n\n 27  primary_cleaner.state.floatbank8_c_level            14148 non-null  float64\n\n 28  primary_cleaner.state.floatbank8_d_air              14146 non-null  float64\n\n 29  primary_cleaner.state.floatbank8_d_level            14148 non-null  float64\n\n 30  rougher.calculation.sulfate_to_au_concentrate       14148 non-null  float64\n\n 31  rougher.calculation.floatbank10_sulfate_to_au_feed  14148 non-null  float64\n\n 32  rougher.calculation.floatbank11_sulfate_to_au_feed  14148 non-null  float64\n\n 33  rougher.calculation.au_pb_ratio                     14149 non-null  float64\n\n 34  rougher.input.feed_ag                               14149 non-null  float64\n\n 35  rougher.input.feed_pb                               14049 non-null  float64\n\n 36  rougher.input.feed_rate                             14141 non-null  float64\n\n 37  rougher.input.feed_size                             14005 non-null  float64\n\n 38  rougher.input.feed_sol                              14071 non-null  float64\n\n 39  rougher.input.feed_au                               14149 non-null  float64\n\n 40  rougher.input.floatbank10_sulfate                   14120 non-null  float64\n\n 41  rougher.input.floatbank10_xanthate                  14141 non-null  float64\n\n 42  rougher.input.floatbank11_sulfate                   14113 non-null  float64\n\n 43  rougher.input.floatbank11_xanthate                  13721 non-null  float64\n\n 44  rougher.output.concentrate_ag                       14149 non-null  float64\n\n 45  rougher.output.concentrate_pb                       14149 non-null  float64\n\n 46  rougher.output.concentrate_sol                      14127 non-null  float64\n\n 47  rougher.output.concentrate_au                       14149 non-null  float64\n\n 48  rougher.output.recovery                             14149 non-null  float64\n\n 49  rougher.output.tail_ag                              14148 non-null  float64\n\n 50  rougher.output.tail_pb                              14149 non-null  float64\n\n 51  rougher.output.tail_sol                             14149 non-null  float64\n\n 52  rougher.output.tail_au                              14149 non-null  float64\n\n 53  rougher.state.floatbank10_a_air                     14148 non-null  float64\n\n 54  rougher.state.floatbank10_a_level                   14148 non-null  float64\n\n 55  rougher.state.floatbank10_b_air                     14148 non-null  float64\n\n 56  rougher.state.floatbank10_b_level                   14148 non-null  float64\n\n 57  rougher.state.floatbank10_c_air                     14148 non-null  float64\n\n 58  rougher.state.floatbank10_c_level                   14148 non-null  float64\n\n 59  rougher.state.floatbank10_d_air                     14149 non-null  float64\n\n 60  rougher.state.floatbank10_d_level                   14149 non-null  float64\n\n 61  rougher.state.floatbank10_e_air                     13713 non-null  float64\n\n 62  rougher.state.floatbank10_e_level                   14149 non-null  float64\n\n 63  rougher.state.floatbank10_f_air                     14149 non-null  float64\n\n 64  rougher.state.floatbank10_f_level                   14149 non-null  float64\n\n 65  secondary_cleaner.output.tail_ag                    14147 non-null  float64\n\n 66  secondary_cleaner.output.tail_pb                    14139 non-null  float64\n\n 67  secondary_cleaner.output.tail_sol                   12544 non-null  float64\n\n 68  secondary_cleaner.output.tail_au                    14149 non-null  float64\n\n 69  secondary_cleaner.state.floatbank2_a_air            13932 non-null  float64\n\n 70  secondary_cleaner.state.floatbank2_a_level          14148 non-null  float64\n\n 71  secondary_cleaner.state.floatbank2_b_air            14128 non-null  float64\n\n 72  secondary_cleaner.state.floatbank2_b_level          14148 non-null  float64\n\n 73  secondary_cleaner.state.floatbank3_a_air            14145 non-null  float64\n\n 74  secondary_cleaner.state.floatbank3_a_level          14148 non-null  float64\n\n 75  secondary_cleaner.state.floatbank3_b_air            14148 non-null  float64\n\n 76  secondary_cleaner.state.floatbank3_b_level          14148 non-null  float64\n\n 77  secondary_cleaner.state.floatbank4_a_air            14143 non-null  float64\n\n 78  secondary_cleaner.state.floatbank4_a_level          14148 non-null  float64\n\n 79  secondary_cleaner.state.floatbank4_b_air            14148 non-null  float64\n\n 80  secondary_cleaner.state.floatbank4_b_level          14148 non-null  float64\n\n 81  secondary_cleaner.state.floatbank5_a_air            14148 non-null  float64\n\n 82  secondary_cleaner.state.floatbank5_a_level          14148 non-null  float64\n\n 83  secondary_cleaner.state.floatbank5_b_air            14148 non-null  float64\n\n 84  secondary_cleaner.state.floatbank5_b_level          14148 non-null  float64\n\n 85  secondary_cleaner.state.floatbank6_a_air            14147 non-null  float64\n\n 86  secondary_cleaner.state.floatbank6_a_level          14148 non-null  float64\n\ndtypes: float64(86), object(1)\n\nmemory usage: 9.4+ MB\n"
        }
      ]
    },
    {
      "cell_type": "markdown",
      "source": "### Проверка расчета эффективности обогащения",
      "metadata": {}
    },
    {
      "cell_type": "code",
      "source": "recovery = ((data_train['final.output.concentrate_au']*\n             (data_train['rougher.input.feed_au']-data_train['final.output.tail_au']))\n            / (data_train['rougher.input.feed_au']*\n               (data_train['final.output.concentrate_au']-data_train['final.output.tail_au'])))*100",
      "metadata": {},
      "execution_count": 4,
      "outputs": []
    },
    {
      "cell_type": "code",
      "source": "mean_absolute_error(data_train['final.output.recovery'], recovery)",
      "metadata": {},
      "execution_count": 5,
      "outputs": [
        {
          "execution_count": 5,
          "output_type": "execute_result",
          "data": {
            "text/plain": [
              "8.538049763979541e-15"
            ]
          },
          "metadata": {}
        }
      ]
    },
    {
      "cell_type": "markdown",
      "source": "При проверке раасчета эффективности обогащения по формуле было получено значение метрики MAE составляющее 8.53e-15, что означает правильность расчета эффективности.",
      "metadata": {}
    },
    {
      "cell_type": "markdown",
      "source": "### Анализ признаков в тестовой выборке",
      "metadata": {}
    },
    {
      "cell_type": "code",
      "source": "data_test.info()",
      "metadata": {
        "scrolled": true
      },
      "execution_count": 6,
      "outputs": [
        {
          "name": "stdout",
          "output_type": "stream",
          "text": "<class 'pandas.core.frame.DataFrame'>\n\nRangeIndex: 5290 entries, 0 to 5289\n\nData columns (total 53 columns):\n\n #   Column                                      Non-Null Count  Dtype  \n\n---  ------                                      --------------  -----  \n\n 0   date                                        5290 non-null   object \n\n 1   primary_cleaner.input.sulfate               5286 non-null   float64\n\n 2   primary_cleaner.input.depressant            5285 non-null   float64\n\n 3   primary_cleaner.input.feed_size             5290 non-null   float64\n\n 4   primary_cleaner.input.xanthate              5286 non-null   float64\n\n 5   primary_cleaner.state.floatbank8_a_air      5290 non-null   float64\n\n 6   primary_cleaner.state.floatbank8_a_level    5290 non-null   float64\n\n 7   primary_cleaner.state.floatbank8_b_air      5290 non-null   float64\n\n 8   primary_cleaner.state.floatbank8_b_level    5290 non-null   float64\n\n 9   primary_cleaner.state.floatbank8_c_air      5290 non-null   float64\n\n 10  primary_cleaner.state.floatbank8_c_level    5290 non-null   float64\n\n 11  primary_cleaner.state.floatbank8_d_air      5290 non-null   float64\n\n 12  primary_cleaner.state.floatbank8_d_level    5290 non-null   float64\n\n 13  rougher.input.feed_ag                       5290 non-null   float64\n\n 14  rougher.input.feed_pb                       5290 non-null   float64\n\n 15  rougher.input.feed_rate                     5287 non-null   float64\n\n 16  rougher.input.feed_size                     5289 non-null   float64\n\n 17  rougher.input.feed_sol                      5269 non-null   float64\n\n 18  rougher.input.feed_au                       5290 non-null   float64\n\n 19  rougher.input.floatbank10_sulfate           5285 non-null   float64\n\n 20  rougher.input.floatbank10_xanthate          5290 non-null   float64\n\n 21  rougher.input.floatbank11_sulfate           5282 non-null   float64\n\n 22  rougher.input.floatbank11_xanthate          5265 non-null   float64\n\n 23  rougher.state.floatbank10_a_air             5290 non-null   float64\n\n 24  rougher.state.floatbank10_a_level           5290 non-null   float64\n\n 25  rougher.state.floatbank10_b_air             5290 non-null   float64\n\n 26  rougher.state.floatbank10_b_level           5290 non-null   float64\n\n 27  rougher.state.floatbank10_c_air             5290 non-null   float64\n\n 28  rougher.state.floatbank10_c_level           5290 non-null   float64\n\n 29  rougher.state.floatbank10_d_air             5290 non-null   float64\n\n 30  rougher.state.floatbank10_d_level           5290 non-null   float64\n\n 31  rougher.state.floatbank10_e_air             5290 non-null   float64\n\n 32  rougher.state.floatbank10_e_level           5290 non-null   float64\n\n 33  rougher.state.floatbank10_f_air             5290 non-null   float64\n\n 34  rougher.state.floatbank10_f_level           5290 non-null   float64\n\n 35  secondary_cleaner.state.floatbank2_a_air    5287 non-null   float64\n\n 36  secondary_cleaner.state.floatbank2_a_level  5290 non-null   float64\n\n 37  secondary_cleaner.state.floatbank2_b_air    5288 non-null   float64\n\n 38  secondary_cleaner.state.floatbank2_b_level  5290 non-null   float64\n\n 39  secondary_cleaner.state.floatbank3_a_air    5281 non-null   float64\n\n 40  secondary_cleaner.state.floatbank3_a_level  5290 non-null   float64\n\n 41  secondary_cleaner.state.floatbank3_b_air    5290 non-null   float64\n\n 42  secondary_cleaner.state.floatbank3_b_level  5290 non-null   float64\n\n 43  secondary_cleaner.state.floatbank4_a_air    5290 non-null   float64\n\n 44  secondary_cleaner.state.floatbank4_a_level  5290 non-null   float64\n\n 45  secondary_cleaner.state.floatbank4_b_air    5290 non-null   float64\n\n 46  secondary_cleaner.state.floatbank4_b_level  5290 non-null   float64\n\n 47  secondary_cleaner.state.floatbank5_a_air    5290 non-null   float64\n\n 48  secondary_cleaner.state.floatbank5_a_level  5290 non-null   float64\n\n 49  secondary_cleaner.state.floatbank5_b_air    5290 non-null   float64\n\n 50  secondary_cleaner.state.floatbank5_b_level  5290 non-null   float64\n\n 51  secondary_cleaner.state.floatbank6_a_air    5290 non-null   float64\n\n 52  secondary_cleaner.state.floatbank6_a_level  5290 non-null   float64\n\ndtypes: float64(52), object(1)\n\nmemory usage: 2.1+ MB\n"
        }
      ]
    },
    {
      "cell_type": "markdown",
      "source": "В тестовой выборке в отличие от обучающей отсутствуют все параметры продукта, то есть выходные результаты для каждой стадии и итоговые, а так же расчетные величины.",
      "metadata": {}
    },
    {
      "cell_type": "markdown",
      "source": "### Предобработка данных",
      "metadata": {}
    },
    {
      "cell_type": "code",
      "source": "data_train = data_train.drop(np.where(\n    (data_train['rougher.input.feed_pb']+data_train['rougher.input.feed_ag']+data_train['rougher.input.feed_au']) < 5)[0])\ndata_train = data_train.reset_index(drop=True)\ndata_train = data_train.drop(np.where(\n    (data_train['rougher.output.concentrate_pb']+data_train['rougher.output.concentrate_ag']\n     +data_train['rougher.output.concentrate_au']) < 5)[0])\ndata_train = data_train.reset_index(drop=True)\ndata_train = data_train.drop(np.where(\n    (data_train['primary_cleaner.output.concentrate_pb']+data_train['primary_cleaner.output.concentrate_ag']\n     +data_train['primary_cleaner.output.concentrate_au']) < 5)[0])\ndata_train = data_train.reset_index(drop=True)\ndata_train = data_train.drop(np.where(\n    (data_train['final.output.concentrate_pb']+data_train['final.output.concentrate_ag']\n     +data_train['final.output.concentrate_au']) < 5)[0])\ndata_train = data_train.reset_index(drop=True)",
      "metadata": {},
      "execution_count": 8,
      "outputs": []
    },
    {
      "cell_type": "code",
      "source": "features = ['date']\nfor i in data_train.columns:\n    if ('output' in i)or('calculation' in i):\n        features.append(i)",
      "metadata": {},
      "execution_count": 9,
      "outputs": []
    },
    {
      "cell_type": "code",
      "source": "#разделим данные на признаки и результаты\ntarget1_train = data_train['rougher.output.recovery']\ntarget2_train = data_train['final.output.recovery']",
      "metadata": {
        "scrolled": true
      },
      "execution_count": 10,
      "outputs": []
    },
    {
      "cell_type": "code",
      "source": "features2_train = data_train.drop(features, axis=1)\n\nfor i in range(1, len(features2_train)):\n    features2_train.loc[i] = features2_train.loc[i].fillna(features2_train.loc[i-1])\n\nfeatures2_train.info()",
      "metadata": {},
      "execution_count": 11,
      "outputs": [
        {
          "name": "stdout",
          "output_type": "stream",
          "text": "<class 'pandas.core.frame.DataFrame'>\n\nRangeIndex: 13578 entries, 0 to 13577\n\nData columns (total 52 columns):\n\n #   Column                                      Non-Null Count  Dtype  \n\n---  ------                                      --------------  -----  \n\n 0   primary_cleaner.input.sulfate               13578 non-null  float64\n\n 1   primary_cleaner.input.depressant            13578 non-null  float64\n\n 2   primary_cleaner.input.feed_size             13578 non-null  float64\n\n 3   primary_cleaner.input.xanthate              13578 non-null  float64\n\n 4   primary_cleaner.state.floatbank8_a_air      13578 non-null  float64\n\n 5   primary_cleaner.state.floatbank8_a_level    13578 non-null  float64\n\n 6   primary_cleaner.state.floatbank8_b_air      13578 non-null  float64\n\n 7   primary_cleaner.state.floatbank8_b_level    13578 non-null  float64\n\n 8   primary_cleaner.state.floatbank8_c_air      13578 non-null  float64\n\n 9   primary_cleaner.state.floatbank8_c_level    13578 non-null  float64\n\n 10  primary_cleaner.state.floatbank8_d_air      13578 non-null  float64\n\n 11  primary_cleaner.state.floatbank8_d_level    13578 non-null  float64\n\n 12  rougher.input.feed_ag                       13578 non-null  float64\n\n 13  rougher.input.feed_pb                       13578 non-null  float64\n\n 14  rougher.input.feed_rate                     13578 non-null  float64\n\n 15  rougher.input.feed_size                     13578 non-null  float64\n\n 16  rougher.input.feed_sol                      13578 non-null  float64\n\n 17  rougher.input.feed_au                       13578 non-null  float64\n\n 18  rougher.input.floatbank10_sulfate           13578 non-null  float64\n\n 19  rougher.input.floatbank10_xanthate          13578 non-null  float64\n\n 20  rougher.input.floatbank11_sulfate           13578 non-null  float64\n\n 21  rougher.input.floatbank11_xanthate          13578 non-null  float64\n\n 22  rougher.state.floatbank10_a_air             13578 non-null  float64\n\n 23  rougher.state.floatbank10_a_level           13578 non-null  float64\n\n 24  rougher.state.floatbank10_b_air             13578 non-null  float64\n\n 25  rougher.state.floatbank10_b_level           13578 non-null  float64\n\n 26  rougher.state.floatbank10_c_air             13578 non-null  float64\n\n 27  rougher.state.floatbank10_c_level           13578 non-null  float64\n\n 28  rougher.state.floatbank10_d_air             13578 non-null  float64\n\n 29  rougher.state.floatbank10_d_level           13578 non-null  float64\n\n 30  rougher.state.floatbank10_e_air             13578 non-null  float64\n\n 31  rougher.state.floatbank10_e_level           13578 non-null  float64\n\n 32  rougher.state.floatbank10_f_air             13578 non-null  float64\n\n 33  rougher.state.floatbank10_f_level           13578 non-null  float64\n\n 34  secondary_cleaner.state.floatbank2_a_air    13578 non-null  float64\n\n 35  secondary_cleaner.state.floatbank2_a_level  13578 non-null  float64\n\n 36  secondary_cleaner.state.floatbank2_b_air    13578 non-null  float64\n\n 37  secondary_cleaner.state.floatbank2_b_level  13578 non-null  float64\n\n 38  secondary_cleaner.state.floatbank3_a_air    13578 non-null  float64\n\n 39  secondary_cleaner.state.floatbank3_a_level  13578 non-null  float64\n\n 40  secondary_cleaner.state.floatbank3_b_air    13578 non-null  float64\n\n 41  secondary_cleaner.state.floatbank3_b_level  13578 non-null  float64\n\n 42  secondary_cleaner.state.floatbank4_a_air    13578 non-null  float64\n\n 43  secondary_cleaner.state.floatbank4_a_level  13578 non-null  float64\n\n 44  secondary_cleaner.state.floatbank4_b_air    13578 non-null  float64\n\n 45  secondary_cleaner.state.floatbank4_b_level  13578 non-null  float64\n\n 46  secondary_cleaner.state.floatbank5_a_air    13578 non-null  float64\n\n 47  secondary_cleaner.state.floatbank5_a_level  13578 non-null  float64\n\n 48  secondary_cleaner.state.floatbank5_b_air    13578 non-null  float64\n\n 49  secondary_cleaner.state.floatbank5_b_level  13578 non-null  float64\n\n 50  secondary_cleaner.state.floatbank6_a_air    13578 non-null  float64\n\n 51  secondary_cleaner.state.floatbank6_a_level  13578 non-null  float64\n\ndtypes: float64(52)\n\nmemory usage: 5.4 MB\n"
        }
      ]
    },
    {
      "cell_type": "markdown",
      "source": "Пропуски в данных заполним предыдущим значением, так как соседние по времени параметры похожи. Они расположены в разных строках и при удалении будут потеряны около 3000 строк.",
      "metadata": {}
    },
    {
      "cell_type": "code",
      "source": "features = []\nfor i in features2_train.columns:\n    if ('rougher' not in i):\n        features.append(i)\n        \nfeatures1_train = features2_train.drop(features, axis=1)\nfeatures1_train.info()",
      "metadata": {
        "scrolled": true
      },
      "execution_count": 12,
      "outputs": [
        {
          "name": "stdout",
          "output_type": "stream",
          "text": "<class 'pandas.core.frame.DataFrame'>\n\nRangeIndex: 13578 entries, 0 to 13577\n\nData columns (total 22 columns):\n\n #   Column                              Non-Null Count  Dtype  \n\n---  ------                              --------------  -----  \n\n 0   rougher.input.feed_ag               13578 non-null  float64\n\n 1   rougher.input.feed_pb               13578 non-null  float64\n\n 2   rougher.input.feed_rate             13578 non-null  float64\n\n 3   rougher.input.feed_size             13578 non-null  float64\n\n 4   rougher.input.feed_sol              13578 non-null  float64\n\n 5   rougher.input.feed_au               13578 non-null  float64\n\n 6   rougher.input.floatbank10_sulfate   13578 non-null  float64\n\n 7   rougher.input.floatbank10_xanthate  13578 non-null  float64\n\n 8   rougher.input.floatbank11_sulfate   13578 non-null  float64\n\n 9   rougher.input.floatbank11_xanthate  13578 non-null  float64\n\n 10  rougher.state.floatbank10_a_air     13578 non-null  float64\n\n 11  rougher.state.floatbank10_a_level   13578 non-null  float64\n\n 12  rougher.state.floatbank10_b_air     13578 non-null  float64\n\n 13  rougher.state.floatbank10_b_level   13578 non-null  float64\n\n 14  rougher.state.floatbank10_c_air     13578 non-null  float64\n\n 15  rougher.state.floatbank10_c_level   13578 non-null  float64\n\n 16  rougher.state.floatbank10_d_air     13578 non-null  float64\n\n 17  rougher.state.floatbank10_d_level   13578 non-null  float64\n\n 18  rougher.state.floatbank10_e_air     13578 non-null  float64\n\n 19  rougher.state.floatbank10_e_level   13578 non-null  float64\n\n 20  rougher.state.floatbank10_f_air     13578 non-null  float64\n\n 21  rougher.state.floatbank10_f_level   13578 non-null  float64\n\ndtypes: float64(22)\n\nmemory usage: 2.3 MB\n"
        }
      ]
    },
    {
      "cell_type": "code",
      "source": "data_test['rougher.output.recovery'] = data_test.merge(data_full, on='date', how='left')['rougher.output.recovery'] \ndata_test['final.output.recovery'] = data_test.merge(data_full, on='date', how='left')['final.output.recovery'] ",
      "metadata": {},
      "execution_count": 13,
      "outputs": []
    },
    {
      "cell_type": "code",
      "source": "target1_test = data_test['rougher.output.recovery']\ntarget2_test = data_test['final.output.recovery']\n\nfeatures2_test = data_test.drop(['date', 'rougher.output.recovery', 'final.output.recovery'], axis=1)\nfor i in range(1, len(features2_test)):\n    features2_test.loc[i] = features2_test.loc[i].fillna(features2_test.loc[i-1])\n\nfeatures1_test = features2_test.drop(features, axis=1)\nfeatures1_test.info()",
      "metadata": {
        "scrolled": true
      },
      "execution_count": 14,
      "outputs": [
        {
          "name": "stdout",
          "output_type": "stream",
          "text": "<class 'pandas.core.frame.DataFrame'>\n\nRangeIndex: 5290 entries, 0 to 5289\n\nData columns (total 22 columns):\n\n #   Column                              Non-Null Count  Dtype  \n\n---  ------                              --------------  -----  \n\n 0   rougher.input.feed_ag               5290 non-null   float64\n\n 1   rougher.input.feed_pb               5290 non-null   float64\n\n 2   rougher.input.feed_rate             5290 non-null   float64\n\n 3   rougher.input.feed_size             5290 non-null   float64\n\n 4   rougher.input.feed_sol              5290 non-null   float64\n\n 5   rougher.input.feed_au               5290 non-null   float64\n\n 6   rougher.input.floatbank10_sulfate   5290 non-null   float64\n\n 7   rougher.input.floatbank10_xanthate  5290 non-null   float64\n\n 8   rougher.input.floatbank11_sulfate   5290 non-null   float64\n\n 9   rougher.input.floatbank11_xanthate  5290 non-null   float64\n\n 10  rougher.state.floatbank10_a_air     5290 non-null   float64\n\n 11  rougher.state.floatbank10_a_level   5290 non-null   float64\n\n 12  rougher.state.floatbank10_b_air     5290 non-null   float64\n\n 13  rougher.state.floatbank10_b_level   5290 non-null   float64\n\n 14  rougher.state.floatbank10_c_air     5290 non-null   float64\n\n 15  rougher.state.floatbank10_c_level   5290 non-null   float64\n\n 16  rougher.state.floatbank10_d_air     5290 non-null   float64\n\n 17  rougher.state.floatbank10_d_level   5290 non-null   float64\n\n 18  rougher.state.floatbank10_e_air     5290 non-null   float64\n\n 19  rougher.state.floatbank10_e_level   5290 non-null   float64\n\n 20  rougher.state.floatbank10_f_air     5290 non-null   float64\n\n 21  rougher.state.floatbank10_f_level   5290 non-null   float64\n\ndtypes: float64(22)\n\nmemory usage: 909.3 KB\n"
        }
      ]
    },
    {
      "cell_type": "markdown",
      "source": "## Анализ данных",
      "metadata": {}
    },
    {
      "cell_type": "markdown",
      "source": "### Как меняется концентрация металлов (Au, Ag, Pb) на различных этапах очистки",
      "metadata": {}
    },
    {
      "cell_type": "code",
      "source": "sns.kdeplot(data_train['rougher.input.feed_au'], shade=True, color=\"blue\", label=\"Смесь руды\", alpha=.7)\nsns.kdeplot(data_train['rougher.output.concentrate_au'], shade=True, color=\"orange\", label=\"Черновой концентрат\", alpha=.7)\nsns.kdeplot(data_train['primary_cleaner.output.concentrate_au'], shade=True, color=\"red\", label=\"После первой очистки\", alpha=.7)\nsns.kdeplot(data_train['final.output.concentrate_au'], shade=True, color=\"green\", label=\"Финальный концентрат\", alpha=.7)\nplt.xlabel('Концентрация Au')\nplt.legend();",
      "metadata": {},
      "execution_count": 15,
      "outputs": [
        {
          "output_type": "display_data",
          "data": {
            "image/png": "[encoded data removed]",
            "text/plain": [
              "<Figure size 432x288 with 1 Axes>"
            ]
          },
          "metadata": {
            "needs_background": "light"
          }
        }
      ]
    },
    {
      "cell_type": "code",
      "source": "sns.kdeplot(data_train['rougher.input.feed_ag'], shade=True, color=\"blue\", label=\"Смесь руды\", alpha=.7)\nsns.kdeplot(data_train['rougher.output.concentrate_ag'], shade=True, color=\"orange\", label=\"Черновой концентрат\", alpha=.7)\nsns.kdeplot(data_train['primary_cleaner.output.concentrate_ag'], shade=True, color=\"red\", label=\"После первой очистки\", alpha=.7)\nsns.kdeplot(data_train['final.output.concentrate_ag'], shade=True, color=\"green\", label=\"Финальный концентрат\", alpha=.7)\nplt.xlabel('Концентрация Ag')\nplt.legend();",
      "metadata": {},
      "execution_count": 16,
      "outputs": [
        {
          "output_type": "display_data",
          "data": {
            "image/png": "[encoded data removed]",
            "text/plain": [
              "<Figure size 432x288 with 1 Axes>"
            ]
          },
          "metadata": {
            "needs_background": "light"
          }
        }
      ]
    },
    {
      "cell_type": "code",
      "source": "sns.kdeplot(data_train['rougher.input.feed_pb'], shade=True, color=\"blue\", label=\"Смесь руды\", alpha=.7)\nsns.kdeplot(data_train['rougher.output.concentrate_pb'], shade=True, color=\"orange\", label=\"Черновой концентрат\", alpha=.7)\nsns.kdeplot(data_train['primary_cleaner.output.concentrate_pb'], shade=True, color=\"red\", label=\"После первой очистки\", alpha=.7)\nsns.kdeplot(data_train['final.output.concentrate_pb'], shade=True, color=\"green\", label=\"Финальный концентрат\", alpha=.7)\nplt.xlabel('Концентрация Pb')\nplt.legend();",
      "metadata": {},
      "execution_count": 17,
      "outputs": [
        {
          "output_type": "display_data",
          "data": {
            "image/png": "[encoded data removed]",
            "text/plain": [
              "<Figure size 432x288 with 1 Axes>"
            ]
          },
          "metadata": {
            "needs_background": "light"
          }
        }
      ]
    },
    {
      "cell_type": "markdown",
      "source": "**Вывод:** \n- Концентрация золота увеличивается после каждого этапа очистки;\n- Концентрация серебра увеличиваетася во время флотации и затем уменьшается после очисток;\n- Уонцентрация свинца увеличивается после флотации и первой очистки, после второй она приближается к 10%.",
      "metadata": {}
    },
    {
      "cell_type": "markdown",
      "source": "### Сравнение распределения размеров гранул сырья на обучающей и тестовой выборках",
      "metadata": {}
    },
    {
      "cell_type": "code",
      "source": "sns.kdeplot(data_train['rougher.input.feed_size'], shade=True, color=\"blue\", label=\"Train\", alpha=.7)\nsns.kdeplot(data_test['rougher.input.feed_size'], shade=True, color=\"orange\", label=\"Test\", alpha=.7)\nplt.legend();",
      "metadata": {},
      "execution_count": 18,
      "outputs": [
        {
          "output_type": "display_data",
          "data": {
            "image/png": "[encoded data removed]",
            "text/plain": [
              "<Figure size 432x288 with 1 Axes>"
            ]
          },
          "metadata": {
            "needs_background": "light"
          }
        }
      ]
    },
    {
      "cell_type": "code",
      "source": "sns.kdeplot(data_train['rougher.input.feed_size'], shade=True, color=\"blue\", label=\"Train\", alpha=.7)\nsns.kdeplot(data_test['rougher.input.feed_size'], shade=True, color=\"orange\", label=\"Test\", alpha=.7)\nplt.xlim(20, 100)\nplt.legend();",
      "metadata": {},
      "execution_count": 19,
      "outputs": [
        {
          "output_type": "display_data",
          "data": {
            "image/png": "[encoded data removed]",
            "text/plain": [
              "<Figure size 432x288 with 1 Axes>"
            ]
          },
          "metadata": {
            "needs_background": "light"
          }
        }
      ]
    },
    {
      "cell_type": "code",
      "source": "print(data_train['rougher.input.feed_size'].mean())\nprint(data_test['rougher.input.feed_size'].mean())",
      "metadata": {},
      "execution_count": 20,
      "outputs": [
        {
          "name": "stdout",
          "output_type": "stream",
          "text": "60.08587502624688\n\n55.951097447596965\n"
        }
      ]
    },
    {
      "cell_type": "markdown",
      "source": "**Вывод:** Распределение размеров гранул сырья на обучающей и тестовой выборке близки.",
      "metadata": {}
    },
    {
      "cell_type": "markdown",
      "source": "### Исследование суммарной концентрации всех веществ на разных стадиях: в сырье, в черновом и финальном концентратах",
      "metadata": {}
    },
    {
      "cell_type": "code",
      "source": "sns.kdeplot(data_train['rougher.input.feed_pb']+data_train['rougher.input.feed_ag']+data_train['rougher.input.feed_au']\n            , shade=True, color=\"blue\", label=\"Смесь руды\", alpha=.7)\nsns.kdeplot(data_train['rougher.output.concentrate_pb']\n            +data_train['rougher.output.concentrate_ag']\n            +data_train['rougher.output.concentrate_au']\n            , shade=True, color=\"black\", label=\"Черновой концентрат\", alpha=.7)\nsns.kdeplot(data_train['primary_cleaner.output.concentrate_pb']\n            +data_train['primary_cleaner.output.concentrate_ag']\n            +data_train['primary_cleaner.output.concentrate_au']\n            , shade=True, color=\"red\", label=\"После первой очистки\", alpha=.7)\nsns.kdeplot(data_train['final.output.concentrate_pb']\n            +data_train['final.output.concentrate_ag']\n            +data_train['final.output.concentrate_au']\n            , shade=True, color=\"yellow\", label=\"Финальный концентрат\", alpha=.7)\nplt.xlabel(\"Концентрация веществ\")\nplt.legend();",
      "metadata": {},
      "execution_count": 21,
      "outputs": [
        {
          "output_type": "display_data",
          "data": {
            "image/png": "[encoded data removed]",
            "text/plain": [
              "<Figure size 432x288 with 1 Axes>"
            ]
          },
          "metadata": {
            "needs_background": "light"
          }
        }
      ]
    },
    {
      "cell_type": "markdown",
      "source": "**Вывод:** суммарная концентрация всех веществ (Au, Ag, Pb) увеличивается после каждой стадии очистки.",
      "metadata": {}
    },
    {
      "cell_type": "markdown",
      "source": "## Модель",
      "metadata": {}
    },
    {
      "cell_type": "markdown",
      "source": "###  Функция для вычисления итоговой sMAPE",
      "metadata": {}
    },
    {
      "cell_type": "code",
      "source": "def smape(target, prediction):\n    smapes = []\n    for tar, pred in zip(target, prediction):\n        if tar==pred==0.0:\n             smapes.append(tar)\n        else:\n            smapes.append((abs(tar-pred)/((abs(tar)+abs(pred))/2))*100)\n    smape = sum(smapes) / len(smapes)\n    return smape",
      "metadata": {},
      "execution_count": 22,
      "outputs": []
    },
    {
      "cell_type": "code",
      "source": "def sum_smape(model1, features1, target1, model2, features2, target2):\n    rougher_smape = smape(target1, model1.predict(features1))\n    final_smape = smape(target2, model2.predict(features2))\n    smapes = 0.25*rougher_smape + 0.75*final_smape\n    return smapes",
      "metadata": {},
      "execution_count": 23,
      "outputs": []
    },
    {
      "cell_type": "markdown",
      "source": "### Обучение моделей и проверка кросс-валидацией",
      "metadata": {}
    },
    {
      "cell_type": "markdown",
      "source": "#### Эффективность обогащения чернового концентрата",
      "metadata": {}
    },
    {
      "cell_type": "code",
      "source": "model = DecisionTreeRegressor()\n\nscore = cross_val_score(model, features1_train, target1_train, cv=5, scoring=make_scorer(smape, greater_is_better=True))\nprint(score)\nprint(score.mean())",
      "metadata": {},
      "execution_count": 24,
      "outputs": [
        {
          "name": "stdout",
          "output_type": "stream",
          "text": "[11.85001239  8.2244267   7.11853121  6.90998256  9.63402364]\n\n8.747395301207789\n"
        }
      ]
    },
    {
      "cell_type": "code",
      "source": "model = RandomForestRegressor()\n\nscore = cross_val_score(model, features1_train, target1_train, cv=5, scoring=make_scorer(smape, greater_is_better=True))\nprint(score)\nprint(score.mean())",
      "metadata": {},
      "execution_count": 25,
      "outputs": [
        {
          "name": "stdout",
          "output_type": "stream",
          "text": "[9.70251715 6.81331604 4.70149695 4.40151564 6.89660741]\n\n6.503090637897804\n"
        }
      ]
    },
    {
      "cell_type": "code",
      "source": "model = LinearRegression()\n\nscore = cross_val_score(model, features1_train, target1_train, cv=5, scoring=make_scorer(smape, greater_is_better=True))\nprint(score)\nprint(score.mean())",
      "metadata": {},
      "execution_count": 26,
      "outputs": [
        {
          "name": "stdout",
          "output_type": "stream",
          "text": "[8.01471391 8.03993478 4.50627378 4.74051433 8.17201141]\n\n6.694689640530342\n"
        }
      ]
    },
    {
      "cell_type": "code",
      "source": "min_smape = 100\nfor dept in range(5, 16, 3):\n    for nest in range(10, 100, 20):\n        model = RandomForestRegressor(n_estimators=nest, max_depth=dept, random_state=12345)\n        score = cross_val_score(model, features1_train, target1_train, cv=5, \n                                scoring=make_scorer(smape, greater_is_better=True)).mean()\n        \n        if score < min_smape:\n            min_smape = score\n            best_model1 = model\n            \nprint('sMAPE =', min_smape)",
      "metadata": {},
      "execution_count": 27,
      "outputs": [
        {
          "name": "stdout",
          "output_type": "stream",
          "text": "sMAPE = 6.5497742481563055\n"
        }
      ]
    },
    {
      "cell_type": "code",
      "source": "model1 = LinearRegression()\nmodel1.fit(features1_train, target1_train)",
      "metadata": {},
      "execution_count": 28,
      "outputs": [
        {
          "execution_count": 28,
          "output_type": "execute_result",
          "data": {
            "text/plain": [
              "LinearRegression()"
            ]
          },
          "metadata": {}
        }
      ]
    },
    {
      "cell_type": "markdown",
      "source": "Случанйый лес при переборе параметров позволяет получить немного большую точность, чем линейная регрессия, но занимает очень много времени, так что я выберу использовать алгоритм линейной регрессии.",
      "metadata": {}
    },
    {
      "cell_type": "markdown",
      "source": "#### Эффективность обогащения финального концентрата",
      "metadata": {}
    },
    {
      "cell_type": "code",
      "source": "model = DecisionTreeRegressor()\n\nscore = cross_val_score(model, features2_train, target2_train, cv=5, scoring=make_scorer(smape, greater_is_better=True))\nprint(score)\nprint(score.mean())",
      "metadata": {},
      "execution_count": 29,
      "outputs": [
        {
          "name": "stdout",
          "output_type": "stream",
          "text": "[18.39167184 18.81163614 17.80900841 12.83173168 18.93770023]\n\n17.35634965783871\n"
        }
      ]
    },
    {
      "cell_type": "code",
      "source": "model = RandomForestRegressor()\n\nscore = cross_val_score(model, features2_train, target2_train, cv=5, scoring=make_scorer(smape, greater_is_better=True))\nprint(score)\nprint(score.mean())",
      "metadata": {},
      "execution_count": 30,
      "outputs": [
        {
          "name": "stdout",
          "output_type": "stream",
          "text": "[ 9.41833651 10.96564261  8.79976737  8.75324809 10.90368884]\n\n9.768136684868841\n"
        }
      ]
    },
    {
      "cell_type": "code",
      "source": "model = LinearRegression()\n\nscore = cross_val_score(model, features2_train, target2_train, cv=5, scoring=make_scorer(smape, greater_is_better=True))\nprint(score)\nprint(score.mean())",
      "metadata": {},
      "execution_count": 31,
      "outputs": [
        {
          "name": "stdout",
          "output_type": "stream",
          "text": "[13.29965835  9.81458999 10.37069896  8.76913823 13.08813978]\n\n11.068445061926854\n"
        }
      ]
    },
    {
      "cell_type": "code",
      "source": "model2 = LinearRegression()\nmodel2.fit(features2_train, target2_train)",
      "metadata": {},
      "execution_count": 32,
      "outputs": [
        {
          "execution_count": 32,
          "output_type": "execute_result",
          "data": {
            "text/plain": [
              "LinearRegression()"
            ]
          },
          "metadata": {}
        }
      ]
    },
    {
      "cell_type": "markdown",
      "source": "#### Проверка модели на тестовой выборке",
      "metadata": {}
    },
    {
      "cell_type": "code",
      "source": "sum_smape(model1, features1_test, target1_test, model2, features2_test, target2_test)",
      "metadata": {},
      "execution_count": 33,
      "outputs": [
        {
          "execution_count": 33,
          "output_type": "execute_result",
          "data": {
            "text/plain": [
              "9.257972574878762"
            ]
          },
          "metadata": {}
        }
      ]
    },
    {
      "cell_type": "markdown",
      "source": "**Вывод:** данная модель предсказывает количество полученной концентрации золото после обогащения со значением метрики *sMAPE* 10.",
      "metadata": {}
    },
    {
      "cell_type": "markdown",
      "source": "## Чек-лист готовности проекта",
      "metadata": {}
    },
    {
      "cell_type": "code",
      "source": "",
      "metadata": {},
      "execution_count": null,
      "outputs": []
    }
  ]
}
