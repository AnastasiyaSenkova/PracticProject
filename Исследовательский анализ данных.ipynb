{
  "metadata": {
    "ExecuteTimeLog": [
      {
        "duration": 633,
        "start_time": "2022-09-26T09:15:27.762Z"
      },
      {
        "duration": 47,
        "start_time": "2022-09-26T09:18:47.428Z"
      },
      {
        "duration": 79,
        "start_time": "2022-09-26T09:19:25.862Z"
      },
      {
        "duration": 98,
        "start_time": "2022-09-26T09:20:22.529Z"
      },
      {
        "duration": 80,
        "start_time": "2022-09-26T09:20:26.618Z"
      },
      {
        "duration": 81,
        "start_time": "2022-09-26T09:20:28.504Z"
      },
      {
        "duration": 83,
        "start_time": "2022-09-26T09:20:31.658Z"
      },
      {
        "duration": 69,
        "start_time": "2022-09-26T09:20:38.633Z"
      },
      {
        "duration": 81,
        "start_time": "2022-09-26T09:20:43.304Z"
      },
      {
        "duration": 81,
        "start_time": "2022-09-26T09:20:55.933Z"
      },
      {
        "duration": 85,
        "start_time": "2022-09-26T09:21:21.432Z"
      },
      {
        "duration": 127,
        "start_time": "2022-09-26T09:22:58.477Z"
      },
      {
        "duration": 20,
        "start_time": "2022-09-26T09:23:25.477Z"
      },
      {
        "duration": 77,
        "start_time": "2022-09-26T09:27:35.453Z"
      },
      {
        "duration": 11,
        "start_time": "2022-09-26T09:27:36.559Z"
      },
      {
        "duration": 81,
        "start_time": "2022-09-26T09:31:25.567Z"
      },
      {
        "duration": 78,
        "start_time": "2022-09-26T09:31:32.352Z"
      },
      {
        "duration": 96,
        "start_time": "2022-09-26T09:33:10.460Z"
      },
      {
        "duration": 15,
        "start_time": "2022-09-26T09:33:12.213Z"
      },
      {
        "duration": 2194,
        "start_time": "2022-09-26T09:34:44.057Z"
      },
      {
        "duration": 6,
        "start_time": "2022-09-26T09:44:33.491Z"
      },
      {
        "duration": 62,
        "start_time": "2022-09-26T09:45:05.716Z"
      },
      {
        "duration": 3,
        "start_time": "2022-09-26T09:45:10.065Z"
      },
      {
        "duration": 6,
        "start_time": "2022-09-26T09:45:15.360Z"
      },
      {
        "duration": 10,
        "start_time": "2022-09-26T09:45:36.908Z"
      },
      {
        "duration": 8,
        "start_time": "2022-09-26T09:45:47.386Z"
      },
      {
        "duration": 3,
        "start_time": "2022-09-26T09:45:53.927Z"
      },
      {
        "duration": 6,
        "start_time": "2022-09-26T09:45:56.710Z"
      },
      {
        "duration": 7,
        "start_time": "2022-09-26T09:46:43.912Z"
      },
      {
        "duration": 6,
        "start_time": "2022-09-26T09:47:30.248Z"
      },
      {
        "duration": 4,
        "start_time": "2022-09-26T09:48:07.331Z"
      },
      {
        "duration": 27,
        "start_time": "2022-09-26T09:48:18.039Z"
      },
      {
        "duration": 12,
        "start_time": "2022-09-26T09:48:41.756Z"
      },
      {
        "duration": 6,
        "start_time": "2022-09-26T09:48:49.761Z"
      },
      {
        "duration": 6,
        "start_time": "2022-09-26T09:50:03.035Z"
      },
      {
        "duration": 7,
        "start_time": "2022-09-26T09:50:20.682Z"
      },
      {
        "duration": 7,
        "start_time": "2022-09-26T09:50:55.591Z"
      },
      {
        "duration": 6,
        "start_time": "2022-09-26T09:51:09.229Z"
      },
      {
        "duration": 8,
        "start_time": "2022-09-26T09:51:45.779Z"
      },
      {
        "duration": 8,
        "start_time": "2022-09-26T09:51:59.201Z"
      },
      {
        "duration": 7,
        "start_time": "2022-09-26T09:52:05.086Z"
      },
      {
        "duration": 6,
        "start_time": "2022-09-26T09:52:08.422Z"
      },
      {
        "duration": 7,
        "start_time": "2022-09-26T09:52:14.352Z"
      },
      {
        "duration": 8,
        "start_time": "2022-09-26T09:52:17.459Z"
      },
      {
        "duration": 8,
        "start_time": "2022-09-26T09:52:20.427Z"
      },
      {
        "duration": 9,
        "start_time": "2022-09-26T09:52:23.894Z"
      },
      {
        "duration": 7,
        "start_time": "2022-09-26T09:52:39.490Z"
      },
      {
        "duration": 9,
        "start_time": "2022-09-27T04:48:06.943Z"
      },
      {
        "duration": 19,
        "start_time": "2022-09-27T04:48:15.143Z"
      },
      {
        "duration": 6,
        "start_time": "2022-09-27T04:48:34.442Z"
      },
      {
        "duration": 16,
        "start_time": "2022-09-27T04:48:35.241Z"
      },
      {
        "duration": 6,
        "start_time": "2022-09-27T04:49:14.167Z"
      },
      {
        "duration": 15,
        "start_time": "2022-09-27T04:49:15.026Z"
      },
      {
        "duration": 35,
        "start_time": "2022-09-27T04:58:34.305Z"
      },
      {
        "duration": 8,
        "start_time": "2022-09-27T05:05:28.394Z"
      },
      {
        "duration": 77,
        "start_time": "2022-09-27T05:05:29.026Z"
      },
      {
        "duration": 59,
        "start_time": "2022-09-27T05:06:33.600Z"
      },
      {
        "duration": 10,
        "start_time": "2022-09-27T05:07:06.070Z"
      },
      {
        "duration": 13,
        "start_time": "2022-09-27T05:07:06.882Z"
      },
      {
        "duration": 12,
        "start_time": "2022-09-27T05:08:07.667Z"
      },
      {
        "duration": 5,
        "start_time": "2022-09-27T05:08:08.010Z"
      },
      {
        "duration": 13,
        "start_time": "2022-09-27T05:08:08.597Z"
      },
      {
        "duration": 732,
        "start_time": "2022-09-27T05:09:55.012Z"
      },
      {
        "duration": 9,
        "start_time": "2022-09-27T05:10:02.417Z"
      },
      {
        "duration": 8,
        "start_time": "2022-09-27T05:10:06.895Z"
      },
      {
        "duration": 6,
        "start_time": "2022-09-27T05:10:12.446Z"
      },
      {
        "duration": 9,
        "start_time": "2022-09-27T05:12:38.555Z"
      },
      {
        "duration": 11,
        "start_time": "2022-09-27T05:12:48.350Z"
      },
      {
        "duration": 8,
        "start_time": "2022-09-27T05:12:57.089Z"
      },
      {
        "duration": 12,
        "start_time": "2022-09-27T05:18:41.725Z"
      },
      {
        "duration": 7,
        "start_time": "2022-09-27T05:18:47.410Z"
      },
      {
        "duration": 9,
        "start_time": "2022-09-27T05:19:45.977Z"
      },
      {
        "duration": 8,
        "start_time": "2022-09-27T05:19:59.327Z"
      },
      {
        "duration": 11,
        "start_time": "2022-09-27T05:20:16.169Z"
      },
      {
        "duration": 9,
        "start_time": "2022-09-27T05:20:33.654Z"
      },
      {
        "duration": 523,
        "start_time": "2022-09-27T05:25:40.967Z"
      },
      {
        "duration": 20,
        "start_time": "2022-09-27T05:25:41.492Z"
      },
      {
        "duration": 2154,
        "start_time": "2022-09-27T05:25:41.514Z"
      },
      {
        "duration": 9,
        "start_time": "2022-09-27T05:25:43.670Z"
      },
      {
        "duration": 49,
        "start_time": "2022-09-27T05:25:45.744Z"
      },
      {
        "duration": 14,
        "start_time": "2022-09-27T05:25:56.156Z"
      },
      {
        "duration": 57,
        "start_time": "2022-09-27T05:26:25.375Z"
      },
      {
        "duration": 9,
        "start_time": "2022-09-27T05:26:36.822Z"
      },
      {
        "duration": 13,
        "start_time": "2022-09-27T05:26:37.797Z"
      },
      {
        "duration": 10,
        "start_time": "2022-09-27T05:28:29.854Z"
      },
      {
        "duration": 15,
        "start_time": "2022-09-27T05:28:30.805Z"
      },
      {
        "duration": 20,
        "start_time": "2022-09-27T05:32:36.896Z"
      },
      {
        "duration": 14,
        "start_time": "2022-09-27T05:32:38.110Z"
      },
      {
        "duration": 8,
        "start_time": "2022-09-27T05:32:59.194Z"
      },
      {
        "duration": 6,
        "start_time": "2022-09-27T05:32:59.841Z"
      },
      {
        "duration": 14,
        "start_time": "2022-09-27T05:33:01.171Z"
      },
      {
        "duration": 6,
        "start_time": "2022-09-27T05:33:56.707Z"
      },
      {
        "duration": 14,
        "start_time": "2022-09-27T05:33:57.894Z"
      },
      {
        "duration": 11,
        "start_time": "2022-09-27T05:34:13.909Z"
      },
      {
        "duration": 4,
        "start_time": "2022-09-27T05:43:46.232Z"
      },
      {
        "duration": 10,
        "start_time": "2022-09-27T05:43:47.990Z"
      },
      {
        "duration": 73,
        "start_time": "2022-09-27T05:44:26.954Z"
      },
      {
        "duration": 5,
        "start_time": "2022-09-27T05:44:45.172Z"
      },
      {
        "duration": 11,
        "start_time": "2022-09-27T05:44:47.115Z"
      },
      {
        "duration": 10,
        "start_time": "2022-09-27T05:45:23.666Z"
      },
      {
        "duration": 14,
        "start_time": "2022-09-27T05:45:25.353Z"
      },
      {
        "duration": 53,
        "start_time": "2022-09-27T05:47:52.332Z"
      },
      {
        "duration": 14,
        "start_time": "2022-09-27T05:47:53.878Z"
      },
      {
        "duration": 519,
        "start_time": "2022-09-27T05:50:48.186Z"
      },
      {
        "duration": 14,
        "start_time": "2022-09-27T05:50:48.707Z"
      },
      {
        "duration": 2161,
        "start_time": "2022-09-27T05:50:48.723Z"
      },
      {
        "duration": 8,
        "start_time": "2022-09-27T05:50:50.886Z"
      },
      {
        "duration": 17,
        "start_time": "2022-09-27T05:50:50.896Z"
      },
      {
        "duration": 13,
        "start_time": "2022-09-27T05:50:50.914Z"
      },
      {
        "duration": 7,
        "start_time": "2022-09-27T05:50:50.929Z"
      },
      {
        "duration": 10,
        "start_time": "2022-09-27T05:50:50.938Z"
      },
      {
        "duration": 36,
        "start_time": "2022-09-27T05:50:50.949Z"
      },
      {
        "duration": 12,
        "start_time": "2022-09-27T05:50:50.986Z"
      },
      {
        "duration": 105,
        "start_time": "2022-09-27T05:53:23.213Z"
      },
      {
        "duration": 11,
        "start_time": "2022-09-27T05:53:25.145Z"
      },
      {
        "duration": 120,
        "start_time": "2022-09-27T05:54:15.817Z"
      },
      {
        "duration": 11,
        "start_time": "2022-09-27T05:54:16.213Z"
      },
      {
        "duration": 71,
        "start_time": "2022-09-27T05:58:57.084Z"
      },
      {
        "duration": 5,
        "start_time": "2022-09-27T05:59:05.052Z"
      },
      {
        "duration": 758,
        "start_time": "2022-09-27T05:59:42.284Z"
      },
      {
        "duration": 5,
        "start_time": "2022-09-27T05:59:46.345Z"
      },
      {
        "duration": 4,
        "start_time": "2022-09-27T06:00:01.653Z"
      },
      {
        "duration": 15,
        "start_time": "2022-09-27T06:00:30.717Z"
      },
      {
        "duration": 9,
        "start_time": "2022-09-27T06:01:34.738Z"
      },
      {
        "duration": 14,
        "start_time": "2022-09-27T06:01:38.637Z"
      },
      {
        "duration": 6,
        "start_time": "2022-09-27T06:01:56.536Z"
      },
      {
        "duration": 15,
        "start_time": "2022-09-27T06:02:05.887Z"
      },
      {
        "duration": 5,
        "start_time": "2022-09-27T06:02:29.475Z"
      },
      {
        "duration": 15,
        "start_time": "2022-09-27T06:02:36.400Z"
      },
      {
        "duration": 17,
        "start_time": "2022-09-27T06:02:44.568Z"
      },
      {
        "duration": 15,
        "start_time": "2022-09-27T06:02:55.514Z"
      },
      {
        "duration": 15,
        "start_time": "2022-09-27T06:02:59.799Z"
      },
      {
        "duration": 15,
        "start_time": "2022-09-27T06:03:08.924Z"
      },
      {
        "duration": 6,
        "start_time": "2022-09-27T06:03:23.484Z"
      },
      {
        "duration": 12,
        "start_time": "2022-09-27T06:03:27.392Z"
      },
      {
        "duration": 5,
        "start_time": "2022-09-27T06:03:43.167Z"
      },
      {
        "duration": 7,
        "start_time": "2022-09-27T06:03:47.097Z"
      },
      {
        "duration": 15,
        "start_time": "2022-09-27T06:04:17.130Z"
      },
      {
        "duration": 27,
        "start_time": "2022-09-27T06:04:52.233Z"
      },
      {
        "duration": 24,
        "start_time": "2022-09-27T06:05:22.931Z"
      },
      {
        "duration": 14,
        "start_time": "2022-09-27T06:05:40.231Z"
      },
      {
        "duration": 25,
        "start_time": "2022-09-27T06:05:46.450Z"
      },
      {
        "duration": 28,
        "start_time": "2022-09-27T06:05:55.328Z"
      },
      {
        "duration": 5,
        "start_time": "2022-09-27T06:06:28.323Z"
      },
      {
        "duration": 15,
        "start_time": "2022-09-27T06:06:40.662Z"
      },
      {
        "duration": 6,
        "start_time": "2022-09-27T06:06:56.864Z"
      },
      {
        "duration": 46,
        "start_time": "2022-09-27T06:09:06.400Z"
      },
      {
        "duration": 11,
        "start_time": "2022-09-27T06:09:38.986Z"
      },
      {
        "duration": 23,
        "start_time": "2022-09-27T06:09:48.642Z"
      },
      {
        "duration": 26,
        "start_time": "2022-09-27T06:10:12.572Z"
      },
      {
        "duration": 24,
        "start_time": "2022-09-27T06:10:28.462Z"
      },
      {
        "duration": 23,
        "start_time": "2022-09-27T06:11:19.260Z"
      },
      {
        "duration": 73,
        "start_time": "2022-09-27T06:11:47.007Z"
      },
      {
        "duration": 139,
        "start_time": "2022-09-27T06:13:34.826Z"
      },
      {
        "duration": 253,
        "start_time": "2022-09-27T06:13:49.879Z"
      },
      {
        "duration": 1387,
        "start_time": "2022-09-27T06:13:57.640Z"
      },
      {
        "duration": 260,
        "start_time": "2022-09-27T06:14:12.778Z"
      },
      {
        "duration": 249,
        "start_time": "2022-09-27T06:14:15.769Z"
      },
      {
        "duration": 135,
        "start_time": "2022-09-27T06:15:28.372Z"
      },
      {
        "duration": 142,
        "start_time": "2022-09-27T06:15:39.862Z"
      },
      {
        "duration": 127,
        "start_time": "2022-09-27T06:15:41.528Z"
      },
      {
        "duration": 260,
        "start_time": "2022-09-27T06:16:16.898Z"
      },
      {
        "duration": 208,
        "start_time": "2022-09-27T06:16:21.806Z"
      },
      {
        "duration": 221,
        "start_time": "2022-09-27T06:16:23.047Z"
      },
      {
        "duration": 257,
        "start_time": "2022-09-27T06:16:50.288Z"
      },
      {
        "duration": 371,
        "start_time": "2022-09-27T06:17:07.355Z"
      },
      {
        "duration": 236,
        "start_time": "2022-09-27T06:18:49.485Z"
      },
      {
        "duration": 259,
        "start_time": "2022-09-27T06:18:55.771Z"
      },
      {
        "duration": 143,
        "start_time": "2022-09-27T06:19:00.536Z"
      },
      {
        "duration": 127,
        "start_time": "2022-09-27T06:19:07.441Z"
      },
      {
        "duration": 171,
        "start_time": "2022-09-27T06:19:12.287Z"
      },
      {
        "duration": 222,
        "start_time": "2022-09-27T06:19:23.907Z"
      },
      {
        "duration": 136,
        "start_time": "2022-09-27T06:20:54.702Z"
      },
      {
        "duration": 45,
        "start_time": "2022-09-27T06:24:47.721Z"
      },
      {
        "duration": 56,
        "start_time": "2022-09-27T06:24:50.991Z"
      },
      {
        "duration": 122,
        "start_time": "2022-09-27T06:29:49.648Z"
      },
      {
        "duration": 924,
        "start_time": "2022-09-27T06:30:10.737Z"
      },
      {
        "duration": 7,
        "start_time": "2022-09-27T06:30:46.206Z"
      },
      {
        "duration": 8,
        "start_time": "2022-09-27T06:30:57.993Z"
      },
      {
        "duration": 527,
        "start_time": "2022-09-27T06:31:07.269Z"
      },
      {
        "duration": 16,
        "start_time": "2022-09-27T06:31:07.798Z"
      },
      {
        "duration": 2325,
        "start_time": "2022-09-27T06:31:07.815Z"
      },
      {
        "duration": 9,
        "start_time": "2022-09-27T06:31:10.142Z"
      },
      {
        "duration": 14,
        "start_time": "2022-09-27T06:31:10.153Z"
      },
      {
        "duration": 19,
        "start_time": "2022-09-27T06:31:10.169Z"
      },
      {
        "duration": 8,
        "start_time": "2022-09-27T06:31:10.190Z"
      },
      {
        "duration": 9,
        "start_time": "2022-09-27T06:31:10.200Z"
      },
      {
        "duration": 12,
        "start_time": "2022-09-27T06:31:10.211Z"
      },
      {
        "duration": 10,
        "start_time": "2022-09-27T06:31:10.225Z"
      },
      {
        "duration": 151,
        "start_time": "2022-09-27T06:31:10.236Z"
      },
      {
        "duration": 12,
        "start_time": "2022-09-27T06:31:10.389Z"
      },
      {
        "duration": 5,
        "start_time": "2022-09-27T06:31:10.403Z"
      },
      {
        "duration": 159,
        "start_time": "2022-09-27T06:31:10.410Z"
      },
      {
        "duration": 240,
        "start_time": "2022-09-27T06:31:10.576Z"
      },
      {
        "duration": 153,
        "start_time": "2022-09-27T06:31:10.818Z"
      },
      {
        "duration": 269,
        "start_time": "2022-09-27T06:31:10.973Z"
      },
      {
        "duration": 45,
        "start_time": "2022-09-27T06:31:11.244Z"
      },
      {
        "duration": 64,
        "start_time": "2022-09-27T06:31:11.292Z"
      },
      {
        "duration": 28,
        "start_time": "2022-09-27T06:31:11.358Z"
      },
      {
        "duration": 218,
        "start_time": "2022-09-27T06:31:52.892Z"
      },
      {
        "duration": 134,
        "start_time": "2022-09-27T06:32:18.219Z"
      },
      {
        "duration": 164,
        "start_time": "2022-09-27T06:32:40.853Z"
      },
      {
        "duration": 133,
        "start_time": "2022-09-27T06:32:47.393Z"
      },
      {
        "duration": 11,
        "start_time": "2022-09-27T06:33:10.683Z"
      },
      {
        "duration": 24,
        "start_time": "2022-09-27T06:33:37.545Z"
      },
      {
        "duration": 163,
        "start_time": "2022-09-27T06:37:10.549Z"
      },
      {
        "duration": 202,
        "start_time": "2022-09-27T06:37:17.945Z"
      },
      {
        "duration": 5,
        "start_time": "2022-09-27T06:37:44.153Z"
      },
      {
        "duration": 46,
        "start_time": "2022-09-27T06:38:24.873Z"
      },
      {
        "duration": 6,
        "start_time": "2022-09-27T06:42:34.019Z"
      },
      {
        "duration": 133,
        "start_time": "2022-09-27T06:42:43.017Z"
      },
      {
        "duration": 152,
        "start_time": "2022-09-27T06:42:52.538Z"
      },
      {
        "duration": 150,
        "start_time": "2022-09-27T06:43:22.269Z"
      },
      {
        "duration": 142,
        "start_time": "2022-09-27T06:43:28.017Z"
      },
      {
        "duration": 180,
        "start_time": "2022-09-27T06:43:32.141Z"
      },
      {
        "duration": 238,
        "start_time": "2022-09-27T06:44:00.185Z"
      },
      {
        "duration": 171,
        "start_time": "2022-09-27T06:44:09.294Z"
      },
      {
        "duration": 158,
        "start_time": "2022-09-27T06:44:13.874Z"
      },
      {
        "duration": 7,
        "start_time": "2022-09-27T06:45:14.780Z"
      },
      {
        "duration": 8,
        "start_time": "2022-09-27T06:45:29.396Z"
      },
      {
        "duration": 68,
        "start_time": "2022-09-27T06:46:29.816Z"
      },
      {
        "duration": 6,
        "start_time": "2022-09-27T06:46:35.206Z"
      },
      {
        "duration": 8,
        "start_time": "2022-09-27T06:46:50.285Z"
      },
      {
        "duration": 4,
        "start_time": "2022-09-27T06:46:57.371Z"
      },
      {
        "duration": 4,
        "start_time": "2022-09-27T06:47:09.321Z"
      },
      {
        "duration": 9,
        "start_time": "2022-09-27T06:47:38.685Z"
      },
      {
        "duration": 7,
        "start_time": "2022-09-27T06:47:58.235Z"
      },
      {
        "duration": 8,
        "start_time": "2022-09-27T06:48:22.021Z"
      },
      {
        "duration": 9,
        "start_time": "2022-09-27T06:48:26.257Z"
      },
      {
        "duration": 8,
        "start_time": "2022-09-27T06:53:07.072Z"
      },
      {
        "duration": 155,
        "start_time": "2022-09-27T06:53:07.621Z"
      },
      {
        "duration": 8,
        "start_time": "2022-09-27T06:53:21.085Z"
      },
      {
        "duration": 132,
        "start_time": "2022-09-27T06:53:21.612Z"
      },
      {
        "duration": 143,
        "start_time": "2022-09-27T06:53:29.587Z"
      },
      {
        "duration": 138,
        "start_time": "2022-09-27T06:55:04.695Z"
      },
      {
        "duration": 151,
        "start_time": "2022-09-27T06:56:30.509Z"
      },
      {
        "duration": 149,
        "start_time": "2022-09-27T06:56:47.403Z"
      },
      {
        "duration": 235,
        "start_time": "2022-09-27T06:56:55.604Z"
      },
      {
        "duration": 5,
        "start_time": "2022-09-27T06:57:21.033Z"
      },
      {
        "duration": 6,
        "start_time": "2022-09-27T06:57:53.366Z"
      },
      {
        "duration": 41,
        "start_time": "2022-09-27T06:58:26.174Z"
      },
      {
        "duration": 43,
        "start_time": "2022-09-27T07:00:00.230Z"
      },
      {
        "duration": 38,
        "start_time": "2022-09-27T07:00:16.824Z"
      },
      {
        "duration": 4,
        "start_time": "2022-09-27T07:23:23.883Z"
      },
      {
        "duration": 7,
        "start_time": "2022-09-27T07:27:32.648Z"
      },
      {
        "duration": 5,
        "start_time": "2022-09-27T07:28:27.364Z"
      },
      {
        "duration": 6,
        "start_time": "2022-09-27T07:28:28.431Z"
      },
      {
        "duration": 1611,
        "start_time": "2022-09-27T07:34:06.639Z"
      },
      {
        "duration": 292,
        "start_time": "2022-09-27T07:34:32.219Z"
      },
      {
        "duration": 10,
        "start_time": "2022-09-27T07:36:35.691Z"
      },
      {
        "duration": 10,
        "start_time": "2022-09-27T07:36:43.794Z"
      },
      {
        "duration": 13,
        "start_time": "2022-09-27T07:37:15.212Z"
      },
      {
        "duration": 5,
        "start_time": "2022-09-27T07:37:52.673Z"
      },
      {
        "duration": 14,
        "start_time": "2022-09-27T07:38:03.026Z"
      },
      {
        "duration": 24,
        "start_time": "2022-09-27T07:38:23.426Z"
      },
      {
        "duration": 74,
        "start_time": "2022-09-27T07:50:51.207Z"
      },
      {
        "duration": 111,
        "start_time": "2022-09-27T07:50:51.858Z"
      },
      {
        "duration": 18,
        "start_time": "2022-09-27T07:50:52.441Z"
      },
      {
        "duration": 494,
        "start_time": "2022-09-27T07:52:10.319Z"
      },
      {
        "duration": 15,
        "start_time": "2022-09-27T07:52:10.816Z"
      },
      {
        "duration": 2239,
        "start_time": "2022-09-27T07:52:10.833Z"
      },
      {
        "duration": 9,
        "start_time": "2022-09-27T07:52:13.074Z"
      },
      {
        "duration": 15,
        "start_time": "2022-09-27T07:52:13.085Z"
      },
      {
        "duration": 16,
        "start_time": "2022-09-27T07:52:13.101Z"
      },
      {
        "duration": 8,
        "start_time": "2022-09-27T07:52:13.118Z"
      },
      {
        "duration": 13,
        "start_time": "2022-09-27T07:52:13.128Z"
      },
      {
        "duration": 35,
        "start_time": "2022-09-27T07:52:13.142Z"
      },
      {
        "duration": 11,
        "start_time": "2022-09-27T07:52:13.179Z"
      },
      {
        "duration": 144,
        "start_time": "2022-09-27T07:52:13.192Z"
      },
      {
        "duration": 14,
        "start_time": "2022-09-27T07:52:13.338Z"
      },
      {
        "duration": 162,
        "start_time": "2022-09-27T07:52:13.353Z"
      },
      {
        "duration": 253,
        "start_time": "2022-09-27T07:52:13.518Z"
      },
      {
        "duration": 143,
        "start_time": "2022-09-27T07:52:13.773Z"
      },
      {
        "duration": 250,
        "start_time": "2022-09-27T07:52:13.918Z"
      },
      {
        "duration": 31,
        "start_time": "2022-09-27T07:52:14.170Z"
      },
      {
        "duration": 57,
        "start_time": "2022-09-27T07:52:14.203Z"
      },
      {
        "duration": 21,
        "start_time": "2022-09-27T07:52:14.262Z"
      },
      {
        "duration": 112,
        "start_time": "2022-09-27T07:52:14.285Z"
      },
      {
        "duration": 4,
        "start_time": "2022-09-27T07:52:14.399Z"
      },
      {
        "duration": 39,
        "start_time": "2022-09-27T07:52:14.405Z"
      },
      {
        "duration": 172,
        "start_time": "2022-09-27T07:52:14.445Z"
      },
      {
        "duration": 162,
        "start_time": "2022-09-27T07:52:14.619Z"
      },
      {
        "duration": 7,
        "start_time": "2022-09-27T07:52:14.783Z"
      },
      {
        "duration": 17,
        "start_time": "2022-09-27T07:52:14.792Z"
      },
      {
        "duration": 180,
        "start_time": "2022-09-27T07:52:14.810Z"
      },
      {
        "duration": 280,
        "start_time": "2022-09-27T07:52:14.991Z"
      },
      {
        "duration": 8,
        "start_time": "2022-09-27T07:52:15.273Z"
      },
      {
        "duration": 58,
        "start_time": "2022-09-27T07:52:15.283Z"
      },
      {
        "duration": 94,
        "start_time": "2022-09-27T07:52:15.343Z"
      },
      {
        "duration": 104,
        "start_time": "2022-09-27T07:52:15.439Z"
      },
      {
        "duration": 17,
        "start_time": "2022-09-27T07:52:15.545Z"
      },
      {
        "duration": 13,
        "start_time": "2022-09-27T07:52:15.564Z"
      },
      {
        "duration": 836,
        "start_time": "2022-09-27T07:52:15.579Z"
      },
      {
        "duration": 0,
        "start_time": "2022-09-27T07:52:16.417Z"
      },
      {
        "duration": 0,
        "start_time": "2022-09-27T07:52:16.418Z"
      },
      {
        "duration": 0,
        "start_time": "2022-09-27T07:52:16.420Z"
      },
      {
        "duration": 0,
        "start_time": "2022-09-27T07:52:16.421Z"
      },
      {
        "duration": 0,
        "start_time": "2022-09-27T07:52:16.422Z"
      },
      {
        "duration": 0,
        "start_time": "2022-09-27T07:52:16.424Z"
      },
      {
        "duration": 557,
        "start_time": "2022-09-27T07:52:40.618Z"
      },
      {
        "duration": 27,
        "start_time": "2022-09-27T07:55:28.231Z"
      },
      {
        "duration": 546,
        "start_time": "2022-09-27T07:56:26.070Z"
      },
      {
        "duration": 15,
        "start_time": "2022-09-27T07:56:26.618Z"
      },
      {
        "duration": 2199,
        "start_time": "2022-09-27T07:56:26.634Z"
      },
      {
        "duration": 9,
        "start_time": "2022-09-27T07:56:28.834Z"
      },
      {
        "duration": 16,
        "start_time": "2022-09-27T07:56:28.845Z"
      },
      {
        "duration": 14,
        "start_time": "2022-09-27T07:56:28.863Z"
      },
      {
        "duration": 7,
        "start_time": "2022-09-27T07:56:28.879Z"
      },
      {
        "duration": 8,
        "start_time": "2022-09-27T07:56:28.888Z"
      },
      {
        "duration": 14,
        "start_time": "2022-09-27T07:56:28.897Z"
      },
      {
        "duration": 10,
        "start_time": "2022-09-27T07:56:28.912Z"
      },
      {
        "duration": 152,
        "start_time": "2022-09-27T07:56:28.924Z"
      },
      {
        "duration": 10,
        "start_time": "2022-09-27T07:56:29.078Z"
      },
      {
        "duration": 140,
        "start_time": "2022-09-27T07:56:29.090Z"
      },
      {
        "duration": 230,
        "start_time": "2022-09-27T07:56:29.233Z"
      },
      {
        "duration": 140,
        "start_time": "2022-09-27T07:56:29.464Z"
      },
      {
        "duration": 230,
        "start_time": "2022-09-27T07:56:29.606Z"
      },
      {
        "duration": 24,
        "start_time": "2022-09-27T07:56:29.837Z"
      },
      {
        "duration": 64,
        "start_time": "2022-09-27T07:56:29.863Z"
      },
      {
        "duration": 6,
        "start_time": "2022-09-27T07:56:29.929Z"
      },
      {
        "duration": 41,
        "start_time": "2022-09-27T07:56:29.937Z"
      },
      {
        "duration": 4,
        "start_time": "2022-09-27T07:56:29.979Z"
      },
      {
        "duration": 124,
        "start_time": "2022-09-27T07:56:29.984Z"
      },
      {
        "duration": 153,
        "start_time": "2022-09-27T07:56:30.109Z"
      },
      {
        "duration": 152,
        "start_time": "2022-09-27T07:56:30.263Z"
      },
      {
        "duration": 6,
        "start_time": "2022-09-27T07:56:30.417Z"
      },
      {
        "duration": 24,
        "start_time": "2022-09-27T07:56:30.425Z"
      },
      {
        "duration": 162,
        "start_time": "2022-09-27T07:56:30.450Z"
      },
      {
        "duration": 243,
        "start_time": "2022-09-27T07:56:30.614Z"
      },
      {
        "duration": 5,
        "start_time": "2022-09-27T07:56:30.859Z"
      },
      {
        "duration": 51,
        "start_time": "2022-09-27T07:56:30.866Z"
      },
      {
        "duration": 10,
        "start_time": "2022-09-27T07:56:30.919Z"
      },
      {
        "duration": 2135,
        "start_time": "2022-09-27T07:56:30.930Z"
      },
      {
        "duration": 23,
        "start_time": "2022-09-27T07:56:33.066Z"
      },
      {
        "duration": 4,
        "start_time": "2022-09-27T07:56:33.091Z"
      },
      {
        "duration": 8,
        "start_time": "2022-09-27T07:56:33.096Z"
      },
      {
        "duration": 6,
        "start_time": "2022-09-27T07:56:33.106Z"
      },
      {
        "duration": 6,
        "start_time": "2022-09-27T07:56:33.114Z"
      },
      {
        "duration": 321,
        "start_time": "2022-09-27T07:56:33.122Z"
      },
      {
        "duration": 5,
        "start_time": "2022-09-27T07:56:33.445Z"
      },
      {
        "duration": 35,
        "start_time": "2022-09-27T07:56:33.452Z"
      },
      {
        "duration": 15,
        "start_time": "2022-09-27T07:56:33.491Z"
      },
      {
        "duration": 129,
        "start_time": "2022-09-27T07:57:50.995Z"
      },
      {
        "duration": 130,
        "start_time": "2022-09-27T07:57:59.665Z"
      },
      {
        "duration": 139,
        "start_time": "2022-09-27T07:58:02.460Z"
      },
      {
        "duration": 177,
        "start_time": "2022-09-28T08:57:00.941Z"
      },
      {
        "duration": 238,
        "start_time": "2022-09-28T08:57:33.118Z"
      },
      {
        "duration": 292,
        "start_time": "2022-09-28T09:01:11.672Z"
      },
      {
        "duration": 271,
        "start_time": "2022-09-28T09:01:12.199Z"
      },
      {
        "duration": 281,
        "start_time": "2022-09-28T09:01:12.563Z"
      },
      {
        "duration": 305,
        "start_time": "2022-09-28T09:01:12.884Z"
      },
      {
        "duration": 242,
        "start_time": "2022-09-28T09:01:13.307Z"
      },
      {
        "duration": 267,
        "start_time": "2022-09-28T09:01:13.611Z"
      },
      {
        "duration": 243,
        "start_time": "2022-09-28T09:01:14.092Z"
      },
      {
        "duration": 269,
        "start_time": "2022-09-28T09:01:14.610Z"
      },
      {
        "duration": 304,
        "start_time": "2022-09-28T09:01:15.069Z"
      },
      {
        "duration": 300,
        "start_time": "2022-09-28T09:01:15.729Z"
      },
      {
        "duration": 637,
        "start_time": "2022-09-28T09:01:16.234Z"
      },
      {
        "duration": 334,
        "start_time": "2022-09-28T09:01:16.876Z"
      },
      {
        "duration": 288,
        "start_time": "2022-09-28T09:01:17.321Z"
      },
      {
        "duration": 253,
        "start_time": "2022-09-28T09:01:18.287Z"
      },
      {
        "duration": 296,
        "start_time": "2022-09-28T09:01:38.615Z"
      },
      {
        "duration": 268,
        "start_time": "2022-09-28T09:01:43.533Z"
      },
      {
        "duration": 272,
        "start_time": "2022-09-28T09:04:03.049Z"
      },
      {
        "duration": 267,
        "start_time": "2022-09-28T09:04:14.852Z"
      },
      {
        "duration": 95,
        "start_time": "2022-09-28T09:04:19.637Z"
      },
      {
        "duration": 260,
        "start_time": "2022-09-28T09:04:24.983Z"
      },
      {
        "duration": 273,
        "start_time": "2022-09-28T09:04:37.449Z"
      },
      {
        "duration": 49,
        "start_time": "2022-09-29T04:37:12.216Z"
      },
      {
        "duration": 756,
        "start_time": "2022-09-29T04:37:44.287Z"
      },
      {
        "duration": 16,
        "start_time": "2022-09-29T04:37:45.046Z"
      },
      {
        "duration": 2641,
        "start_time": "2022-09-29T04:37:45.064Z"
      },
      {
        "duration": 12,
        "start_time": "2022-09-29T04:37:47.707Z"
      },
      {
        "duration": 17,
        "start_time": "2022-09-29T04:37:47.722Z"
      },
      {
        "duration": 16,
        "start_time": "2022-09-29T04:37:47.741Z"
      },
      {
        "duration": 9,
        "start_time": "2022-09-29T04:37:47.759Z"
      },
      {
        "duration": 22,
        "start_time": "2022-09-29T04:37:47.770Z"
      },
      {
        "duration": 15,
        "start_time": "2022-09-29T04:37:47.794Z"
      },
      {
        "duration": 12,
        "start_time": "2022-09-29T04:37:47.811Z"
      },
      {
        "duration": 165,
        "start_time": "2022-09-29T04:37:47.825Z"
      },
      {
        "duration": 11,
        "start_time": "2022-09-29T04:37:47.992Z"
      },
      {
        "duration": 171,
        "start_time": "2022-09-29T04:37:48.005Z"
      },
      {
        "duration": 256,
        "start_time": "2022-09-29T04:37:48.179Z"
      },
      {
        "duration": 162,
        "start_time": "2022-09-29T04:37:48.437Z"
      },
      {
        "duration": 362,
        "start_time": "2022-09-29T04:37:48.601Z"
      },
      {
        "duration": 27,
        "start_time": "2022-09-29T04:37:48.964Z"
      },
      {
        "duration": 73,
        "start_time": "2022-09-29T04:37:48.992Z"
      },
      {
        "duration": 8,
        "start_time": "2022-09-29T04:37:49.067Z"
      },
      {
        "duration": 25,
        "start_time": "2022-09-29T04:37:49.077Z"
      },
      {
        "duration": 5,
        "start_time": "2022-09-29T04:37:49.104Z"
      },
      {
        "duration": 72,
        "start_time": "2022-09-29T04:37:49.110Z"
      },
      {
        "duration": 165,
        "start_time": "2022-09-29T04:37:49.184Z"
      },
      {
        "duration": 163,
        "start_time": "2022-09-29T04:37:49.353Z"
      },
      {
        "duration": 8,
        "start_time": "2022-09-29T04:37:49.518Z"
      },
      {
        "duration": 7,
        "start_time": "2022-09-29T04:37:49.528Z"
      },
      {
        "duration": 162,
        "start_time": "2022-09-29T04:37:49.553Z"
      },
      {
        "duration": 265,
        "start_time": "2022-09-29T04:37:49.717Z"
      },
      {
        "duration": 6,
        "start_time": "2022-09-29T04:37:49.984Z"
      },
      {
        "duration": 67,
        "start_time": "2022-09-29T04:37:49.991Z"
      },
      {
        "duration": 14,
        "start_time": "2022-09-29T04:37:50.060Z"
      },
      {
        "duration": 2418,
        "start_time": "2022-09-29T04:37:50.076Z"
      },
      {
        "duration": 13,
        "start_time": "2022-09-29T04:37:52.501Z"
      },
      {
        "duration": 10,
        "start_time": "2022-09-29T04:37:52.516Z"
      },
      {
        "duration": 12,
        "start_time": "2022-09-29T04:37:52.528Z"
      },
      {
        "duration": 25,
        "start_time": "2022-09-29T04:37:52.542Z"
      },
      {
        "duration": 13,
        "start_time": "2022-09-29T04:37:52.568Z"
      },
      {
        "duration": 320,
        "start_time": "2022-09-29T04:37:52.582Z"
      },
      {
        "duration": 5,
        "start_time": "2022-09-29T04:37:52.904Z"
      },
      {
        "duration": 34,
        "start_time": "2022-09-29T04:37:52.911Z"
      },
      {
        "duration": 21,
        "start_time": "2022-09-29T04:37:52.955Z"
      },
      {
        "duration": 248,
        "start_time": "2022-09-29T04:37:52.978Z"
      },
      {
        "duration": 372,
        "start_time": "2022-09-29T04:37:53.227Z"
      },
      {
        "duration": 260,
        "start_time": "2022-09-29T04:37:53.601Z"
      },
      {
        "duration": 264,
        "start_time": "2022-09-29T04:37:53.863Z"
      },
      {
        "duration": 263,
        "start_time": "2022-09-29T04:37:54.128Z"
      },
      {
        "duration": 274,
        "start_time": "2022-09-29T04:37:54.393Z"
      },
      {
        "duration": 399,
        "start_time": "2022-09-29T04:37:54.669Z"
      },
      {
        "duration": 259,
        "start_time": "2022-09-29T04:37:55.070Z"
      },
      {
        "duration": 277,
        "start_time": "2022-09-29T04:37:55.332Z"
      },
      {
        "duration": 259,
        "start_time": "2022-09-29T04:37:55.611Z"
      },
      {
        "duration": 259,
        "start_time": "2022-09-29T04:37:55.871Z"
      },
      {
        "duration": 274,
        "start_time": "2022-09-29T04:37:56.132Z"
      },
      {
        "duration": 436,
        "start_time": "2022-09-29T04:37:56.408Z"
      },
      {
        "duration": 280,
        "start_time": "2022-09-29T04:37:56.846Z"
      },
      {
        "duration": 259,
        "start_time": "2022-09-29T04:37:57.128Z"
      },
      {
        "duration": 276,
        "start_time": "2022-09-29T04:37:57.389Z"
      },
      {
        "duration": 5,
        "start_time": "2022-09-29T04:37:57.667Z"
      },
      {
        "duration": 11,
        "start_time": "2022-09-29T04:37:57.674Z"
      },
      {
        "duration": 242,
        "start_time": "2022-09-29T04:38:23.799Z"
      },
      {
        "duration": 23,
        "start_time": "2022-09-29T04:48:08.017Z"
      },
      {
        "duration": 12,
        "start_time": "2022-09-29T04:49:13.099Z"
      },
      {
        "duration": 108,
        "start_time": "2022-09-29T04:50:11.766Z"
      },
      {
        "duration": 4,
        "start_time": "2022-09-29T04:50:15.213Z"
      },
      {
        "duration": 127,
        "start_time": "2022-09-29T04:51:37.893Z"
      },
      {
        "duration": 131,
        "start_time": "2022-09-29T04:52:36.683Z"
      },
      {
        "duration": 135,
        "start_time": "2022-09-29T04:53:53.674Z"
      },
      {
        "duration": 1134,
        "start_time": "2022-09-29T04:54:26.027Z"
      },
      {
        "duration": 117,
        "start_time": "2022-09-29T04:55:25.630Z"
      },
      {
        "duration": 4,
        "start_time": "2022-09-29T04:57:13.114Z"
      },
      {
        "duration": 19,
        "start_time": "2022-09-29T04:57:25.496Z"
      },
      {
        "duration": 147,
        "start_time": "2022-09-29T04:57:39.746Z"
      },
      {
        "duration": 169,
        "start_time": "2022-09-29T04:59:27.870Z"
      },
      {
        "duration": 154,
        "start_time": "2022-09-29T04:59:41.024Z"
      },
      {
        "duration": 161,
        "start_time": "2022-09-29T04:59:45.105Z"
      },
      {
        "duration": 1446,
        "start_time": "2022-09-29T05:00:09.135Z"
      },
      {
        "duration": 4337,
        "start_time": "2022-09-29T05:00:27.621Z"
      },
      {
        "duration": 21,
        "start_time": "2022-09-29T05:01:01.017Z"
      },
      {
        "duration": 14,
        "start_time": "2022-09-29T05:01:02.174Z"
      },
      {
        "duration": 187,
        "start_time": "2022-09-29T05:01:14.354Z"
      },
      {
        "duration": 161,
        "start_time": "2022-09-29T05:01:21.930Z"
      },
      {
        "duration": 372,
        "start_time": "2022-09-29T05:01:30.028Z"
      },
      {
        "duration": 167,
        "start_time": "2022-09-29T05:01:36.450Z"
      },
      {
        "duration": 16,
        "start_time": "2022-09-29T05:02:45.626Z"
      },
      {
        "duration": 8,
        "start_time": "2022-09-29T05:03:32.689Z"
      },
      {
        "duration": 14,
        "start_time": "2022-09-29T08:37:30.628Z"
      },
      {
        "duration": 13,
        "start_time": "2022-09-29T08:37:55.689Z"
      },
      {
        "duration": 14,
        "start_time": "2022-09-29T08:38:08.413Z"
      },
      {
        "duration": 12,
        "start_time": "2022-09-29T08:43:04.253Z"
      },
      {
        "duration": 29,
        "start_time": "2022-09-29T08:46:52.845Z"
      },
      {
        "duration": 10,
        "start_time": "2022-09-29T08:47:09.698Z"
      },
      {
        "duration": 7,
        "start_time": "2022-09-29T08:47:56.534Z"
      },
      {
        "duration": 6,
        "start_time": "2022-09-29T08:48:00.299Z"
      },
      {
        "duration": 8,
        "start_time": "2022-09-29T08:48:24.856Z"
      },
      {
        "duration": 6,
        "start_time": "2022-09-29T08:48:40.289Z"
      },
      {
        "duration": 7,
        "start_time": "2022-09-29T08:48:58.923Z"
      },
      {
        "duration": 6,
        "start_time": "2022-09-29T08:49:01.808Z"
      },
      {
        "duration": 20,
        "start_time": "2022-09-29T08:49:33.436Z"
      },
      {
        "duration": 8,
        "start_time": "2022-09-29T08:49:45.357Z"
      },
      {
        "duration": 6,
        "start_time": "2022-09-29T08:49:52.937Z"
      },
      {
        "duration": 8,
        "start_time": "2022-09-29T08:50:07.272Z"
      },
      {
        "duration": 6,
        "start_time": "2022-09-29T08:50:10.583Z"
      },
      {
        "duration": 10,
        "start_time": "2022-09-29T08:50:54.904Z"
      },
      {
        "duration": 2333,
        "start_time": "2022-09-29T09:00:26.818Z"
      },
      {
        "duration": 53,
        "start_time": "2022-09-29T09:00:47.607Z"
      },
      {
        "duration": 8,
        "start_time": "2022-09-29T09:00:52.675Z"
      },
      {
        "duration": 14,
        "start_time": "2022-09-29T09:01:40.168Z"
      },
      {
        "duration": 9,
        "start_time": "2022-09-29T09:01:43.052Z"
      },
      {
        "duration": 6,
        "start_time": "2022-09-29T09:01:46.617Z"
      },
      {
        "duration": 21,
        "start_time": "2022-09-29T09:02:25.215Z"
      },
      {
        "duration": 61,
        "start_time": "2022-09-29T09:02:27.984Z"
      },
      {
        "duration": 13,
        "start_time": "2022-09-29T09:02:28.695Z"
      },
      {
        "duration": 79,
        "start_time": "2022-09-29T09:03:10.881Z"
      },
      {
        "duration": 91,
        "start_time": "2022-09-29T09:03:16.321Z"
      },
      {
        "duration": 30,
        "start_time": "2022-09-29T09:03:18.214Z"
      },
      {
        "duration": 55,
        "start_time": "2022-09-29T09:03:37.405Z"
      },
      {
        "duration": 19,
        "start_time": "2022-09-29T09:03:38.018Z"
      },
      {
        "duration": 18,
        "start_time": "2022-09-29T09:03:44.016Z"
      },
      {
        "duration": 71,
        "start_time": "2022-09-29T09:03:46.134Z"
      },
      {
        "duration": 9,
        "start_time": "2022-09-29T09:03:46.819Z"
      },
      {
        "duration": 55,
        "start_time": "2022-09-29T09:04:41.973Z"
      },
      {
        "duration": 18,
        "start_time": "2022-09-29T09:04:42.485Z"
      },
      {
        "duration": 57,
        "start_time": "2022-09-29T09:05:01.989Z"
      },
      {
        "duration": 17,
        "start_time": "2022-09-29T09:05:02.446Z"
      },
      {
        "duration": 13,
        "start_time": "2022-09-29T09:05:05.318Z"
      },
      {
        "duration": 53,
        "start_time": "2022-09-29T09:05:05.791Z"
      },
      {
        "duration": 8,
        "start_time": "2022-09-29T09:05:06.192Z"
      },
      {
        "duration": 12,
        "start_time": "2022-09-29T09:05:41.980Z"
      },
      {
        "duration": 554,
        "start_time": "2022-09-29T09:11:20.112Z"
      },
      {
        "duration": 1159,
        "start_time": "2022-09-29T09:11:41.369Z"
      },
      {
        "duration": 58,
        "start_time": "2022-09-29T09:12:16.905Z"
      },
      {
        "duration": 995,
        "start_time": "2022-09-29T09:12:23.025Z"
      },
      {
        "duration": 18,
        "start_time": "2022-09-29T09:12:24.022Z"
      },
      {
        "duration": 2524,
        "start_time": "2022-09-29T09:12:24.041Z"
      },
      {
        "duration": 10,
        "start_time": "2022-09-29T09:12:26.567Z"
      },
      {
        "duration": 24,
        "start_time": "2022-09-29T09:12:26.580Z"
      },
      {
        "duration": 20,
        "start_time": "2022-09-29T09:12:26.606Z"
      },
      {
        "duration": 10,
        "start_time": "2022-09-29T09:12:26.628Z"
      },
      {
        "duration": 10,
        "start_time": "2022-09-29T09:12:26.655Z"
      },
      {
        "duration": 42,
        "start_time": "2022-09-29T09:12:26.667Z"
      },
      {
        "duration": 18,
        "start_time": "2022-09-29T09:12:26.711Z"
      },
      {
        "duration": 152,
        "start_time": "2022-09-29T09:12:26.732Z"
      },
      {
        "duration": 12,
        "start_time": "2022-09-29T09:12:26.886Z"
      },
      {
        "duration": 176,
        "start_time": "2022-09-29T09:12:26.900Z"
      },
      {
        "duration": 264,
        "start_time": "2022-09-29T09:12:27.080Z"
      },
      {
        "duration": 156,
        "start_time": "2022-09-29T09:12:27.346Z"
      },
      {
        "duration": 272,
        "start_time": "2022-09-29T09:12:27.504Z"
      },
      {
        "duration": 29,
        "start_time": "2022-09-29T09:12:27.778Z"
      },
      {
        "duration": 80,
        "start_time": "2022-09-29T09:12:27.809Z"
      },
      {
        "duration": 8,
        "start_time": "2022-09-29T09:12:27.891Z"
      },
      {
        "duration": 146,
        "start_time": "2022-09-29T09:12:27.902Z"
      },
      {
        "duration": 15,
        "start_time": "2022-09-29T09:12:28.050Z"
      },
      {
        "duration": 49,
        "start_time": "2022-09-29T09:12:28.069Z"
      },
      {
        "duration": 200,
        "start_time": "2022-09-29T09:12:28.120Z"
      },
      {
        "duration": 181,
        "start_time": "2022-09-29T09:12:28.322Z"
      },
      {
        "duration": 9,
        "start_time": "2022-09-29T09:12:28.505Z"
      },
      {
        "duration": 16,
        "start_time": "2022-09-29T09:12:28.516Z"
      },
      {
        "duration": 222,
        "start_time": "2022-09-29T09:12:28.534Z"
      },
      {
        "duration": 272,
        "start_time": "2022-09-29T09:12:28.758Z"
      },
      {
        "duration": 7,
        "start_time": "2022-09-29T09:12:29.032Z"
      },
      {
        "duration": 83,
        "start_time": "2022-09-29T09:12:29.041Z"
      },
      {
        "duration": 9,
        "start_time": "2022-09-29T09:12:29.126Z"
      },
      {
        "duration": 2533,
        "start_time": "2022-09-29T09:12:29.137Z"
      },
      {
        "duration": 24,
        "start_time": "2022-09-29T09:12:31.673Z"
      },
      {
        "duration": 35,
        "start_time": "2022-09-29T09:12:31.700Z"
      },
      {
        "duration": 53,
        "start_time": "2022-09-29T09:12:31.739Z"
      },
      {
        "duration": 32,
        "start_time": "2022-09-29T09:12:31.795Z"
      },
      {
        "duration": 16,
        "start_time": "2022-09-29T09:12:31.830Z"
      },
      {
        "duration": 360,
        "start_time": "2022-09-29T09:12:31.848Z"
      },
      {
        "duration": 8,
        "start_time": "2022-09-29T09:12:32.210Z"
      },
      {
        "duration": 45,
        "start_time": "2022-09-29T09:12:32.221Z"
      },
      {
        "duration": 46,
        "start_time": "2022-09-29T09:12:32.272Z"
      },
      {
        "duration": 310,
        "start_time": "2022-09-29T09:12:32.321Z"
      },
      {
        "duration": 431,
        "start_time": "2022-09-29T09:12:32.633Z"
      },
      {
        "duration": 307,
        "start_time": "2022-09-29T09:12:33.066Z"
      },
      {
        "duration": 311,
        "start_time": "2022-09-29T09:12:33.376Z"
      },
      {
        "duration": 369,
        "start_time": "2022-09-29T09:12:33.689Z"
      },
      {
        "duration": 323,
        "start_time": "2022-09-29T09:12:34.060Z"
      },
      {
        "duration": 316,
        "start_time": "2022-09-29T09:12:34.385Z"
      },
      {
        "duration": 418,
        "start_time": "2022-09-29T09:12:34.703Z"
      },
      {
        "duration": 282,
        "start_time": "2022-09-29T09:12:35.124Z"
      },
      {
        "duration": 283,
        "start_time": "2022-09-29T09:12:35.408Z"
      },
      {
        "duration": 293,
        "start_time": "2022-09-29T09:12:35.693Z"
      },
      {
        "duration": 257,
        "start_time": "2022-09-29T09:12:35.987Z"
      },
      {
        "duration": 291,
        "start_time": "2022-09-29T09:12:36.245Z"
      },
      {
        "duration": 455,
        "start_time": "2022-09-29T09:12:36.538Z"
      },
      {
        "duration": 273,
        "start_time": "2022-09-29T09:12:36.995Z"
      },
      {
        "duration": 289,
        "start_time": "2022-09-29T09:12:37.270Z"
      },
      {
        "duration": 292,
        "start_time": "2022-09-29T09:12:37.562Z"
      },
      {
        "duration": 6,
        "start_time": "2022-09-29T09:12:37.855Z"
      },
      {
        "duration": 10,
        "start_time": "2022-09-29T09:12:37.863Z"
      },
      {
        "duration": 29,
        "start_time": "2022-09-29T09:12:37.875Z"
      },
      {
        "duration": 14,
        "start_time": "2022-09-29T09:12:37.906Z"
      },
      {
        "duration": 203,
        "start_time": "2022-09-29T09:12:37.922Z"
      },
      {
        "duration": 178,
        "start_time": "2022-09-29T09:12:38.128Z"
      },
      {
        "duration": 152,
        "start_time": "2022-09-29T09:12:38.308Z"
      },
      {
        "duration": 201,
        "start_time": "2022-09-29T09:12:38.461Z"
      },
      {
        "duration": 176,
        "start_time": "2022-09-29T09:12:38.665Z"
      },
      {
        "duration": 175,
        "start_time": "2022-09-29T09:12:38.843Z"
      },
      {
        "duration": 168,
        "start_time": "2022-09-29T09:12:39.020Z"
      },
      {
        "duration": 181,
        "start_time": "2022-09-29T09:12:39.191Z"
      },
      {
        "duration": 11,
        "start_time": "2022-09-29T09:12:39.374Z"
      },
      {
        "duration": 14,
        "start_time": "2022-09-29T09:12:39.387Z"
      },
      {
        "duration": 82,
        "start_time": "2022-09-29T09:12:39.403Z"
      },
      {
        "duration": 9,
        "start_time": "2022-09-29T09:12:39.487Z"
      },
      {
        "duration": 53,
        "start_time": "2022-09-29T09:12:55.139Z"
      },
      {
        "duration": 942,
        "start_time": "2022-09-29T09:13:07.976Z"
      },
      {
        "duration": 18,
        "start_time": "2022-09-29T09:13:08.919Z"
      },
      {
        "duration": 2502,
        "start_time": "2022-09-29T09:13:08.939Z"
      },
      {
        "duration": 22,
        "start_time": "2022-09-29T09:13:11.445Z"
      },
      {
        "duration": 24,
        "start_time": "2022-09-29T09:13:11.469Z"
      },
      {
        "duration": 20,
        "start_time": "2022-09-29T09:13:11.496Z"
      },
      {
        "duration": 37,
        "start_time": "2022-09-29T09:13:11.518Z"
      },
      {
        "duration": 25,
        "start_time": "2022-09-29T09:13:11.559Z"
      },
      {
        "duration": 28,
        "start_time": "2022-09-29T09:13:11.587Z"
      },
      {
        "duration": 29,
        "start_time": "2022-09-29T09:13:11.619Z"
      },
      {
        "duration": 257,
        "start_time": "2022-09-29T09:13:11.651Z"
      },
      {
        "duration": 16,
        "start_time": "2022-09-29T09:13:11.911Z"
      },
      {
        "duration": 167,
        "start_time": "2022-09-29T09:13:11.928Z"
      },
      {
        "duration": 297,
        "start_time": "2022-09-29T09:13:12.097Z"
      },
      {
        "duration": 183,
        "start_time": "2022-09-29T09:13:12.397Z"
      },
      {
        "duration": 285,
        "start_time": "2022-09-29T09:13:12.582Z"
      },
      {
        "duration": 41,
        "start_time": "2022-09-29T09:13:12.869Z"
      },
      {
        "duration": 111,
        "start_time": "2022-09-29T09:13:12.912Z"
      },
      {
        "duration": 15,
        "start_time": "2022-09-29T09:13:13.026Z"
      },
      {
        "duration": 135,
        "start_time": "2022-09-29T09:13:13.043Z"
      },
      {
        "duration": 5,
        "start_time": "2022-09-29T09:13:13.181Z"
      },
      {
        "duration": 48,
        "start_time": "2022-09-29T09:13:13.188Z"
      },
      {
        "duration": 184,
        "start_time": "2022-09-29T09:13:13.239Z"
      },
      {
        "duration": 189,
        "start_time": "2022-09-29T09:13:13.424Z"
      },
      {
        "duration": 9,
        "start_time": "2022-09-29T09:13:13.615Z"
      },
      {
        "duration": 8,
        "start_time": "2022-09-29T09:13:13.626Z"
      },
      {
        "duration": 188,
        "start_time": "2022-09-29T09:13:13.635Z"
      },
      {
        "duration": 268,
        "start_time": "2022-09-29T09:13:13.827Z"
      },
      {
        "duration": 7,
        "start_time": "2022-09-29T09:13:14.098Z"
      },
      {
        "duration": 81,
        "start_time": "2022-09-29T09:13:14.107Z"
      },
      {
        "duration": 11,
        "start_time": "2022-09-29T09:13:14.190Z"
      },
      {
        "duration": 2417,
        "start_time": "2022-09-29T09:13:14.203Z"
      },
      {
        "duration": 17,
        "start_time": "2022-09-29T09:13:16.622Z"
      },
      {
        "duration": 6,
        "start_time": "2022-09-29T09:13:16.655Z"
      },
      {
        "duration": 14,
        "start_time": "2022-09-29T09:13:16.664Z"
      },
      {
        "duration": 7,
        "start_time": "2022-09-29T09:13:16.681Z"
      },
      {
        "duration": 7,
        "start_time": "2022-09-29T09:13:16.691Z"
      },
      {
        "duration": 377,
        "start_time": "2022-09-29T09:13:16.700Z"
      },
      {
        "duration": 6,
        "start_time": "2022-09-29T09:13:17.079Z"
      },
      {
        "duration": 43,
        "start_time": "2022-09-29T09:13:17.088Z"
      },
      {
        "duration": 33,
        "start_time": "2022-09-29T09:13:17.134Z"
      },
      {
        "duration": 260,
        "start_time": "2022-09-29T09:13:17.170Z"
      },
      {
        "duration": 415,
        "start_time": "2022-09-29T09:13:17.432Z"
      },
      {
        "duration": 276,
        "start_time": "2022-09-29T09:13:17.849Z"
      },
      {
        "duration": 316,
        "start_time": "2022-09-29T09:13:18.127Z"
      },
      {
        "duration": 323,
        "start_time": "2022-09-29T09:13:18.445Z"
      },
      {
        "duration": 280,
        "start_time": "2022-09-29T09:13:18.770Z"
      },
      {
        "duration": 265,
        "start_time": "2022-09-29T09:13:19.054Z"
      },
      {
        "duration": 463,
        "start_time": "2022-09-29T09:13:19.321Z"
      },
      {
        "duration": 273,
        "start_time": "2022-09-29T09:13:19.786Z"
      },
      {
        "duration": 279,
        "start_time": "2022-09-29T09:13:20.062Z"
      },
      {
        "duration": 277,
        "start_time": "2022-09-29T09:13:20.343Z"
      },
      {
        "duration": 268,
        "start_time": "2022-09-29T09:13:20.622Z"
      },
      {
        "duration": 280,
        "start_time": "2022-09-29T09:13:20.892Z"
      },
      {
        "duration": 529,
        "start_time": "2022-09-29T09:13:21.174Z"
      },
      {
        "duration": 318,
        "start_time": "2022-09-29T09:13:21.705Z"
      },
      {
        "duration": 316,
        "start_time": "2022-09-29T09:13:22.026Z"
      },
      {
        "duration": 277,
        "start_time": "2022-09-29T09:13:22.344Z"
      },
      {
        "duration": 6,
        "start_time": "2022-09-29T09:13:22.623Z"
      },
      {
        "duration": 8,
        "start_time": "2022-09-29T09:13:22.630Z"
      },
      {
        "duration": 26,
        "start_time": "2022-09-29T09:13:22.654Z"
      },
      {
        "duration": 22,
        "start_time": "2022-09-29T09:13:22.682Z"
      },
      {
        "duration": 181,
        "start_time": "2022-09-29T09:13:22.705Z"
      },
      {
        "duration": 186,
        "start_time": "2022-09-29T09:13:22.888Z"
      },
      {
        "duration": 163,
        "start_time": "2022-09-29T09:13:23.076Z"
      },
      {
        "duration": 185,
        "start_time": "2022-09-29T09:13:23.241Z"
      },
      {
        "duration": 187,
        "start_time": "2022-09-29T09:13:23.429Z"
      },
      {
        "duration": 176,
        "start_time": "2022-09-29T09:13:23.618Z"
      },
      {
        "duration": 165,
        "start_time": "2022-09-29T09:13:23.796Z"
      },
      {
        "duration": 180,
        "start_time": "2022-09-29T09:13:23.963Z"
      },
      {
        "duration": 11,
        "start_time": "2022-09-29T09:13:24.145Z"
      },
      {
        "duration": 16,
        "start_time": "2022-09-29T09:13:24.158Z"
      },
      {
        "duration": 77,
        "start_time": "2022-09-29T09:13:24.177Z"
      },
      {
        "duration": 10,
        "start_time": "2022-09-29T09:13:24.256Z"
      },
      {
        "duration": 11,
        "start_time": "2022-09-29T09:13:27.555Z"
      },
      {
        "duration": 221,
        "start_time": "2022-09-29T09:14:30.613Z"
      },
      {
        "duration": 281,
        "start_time": "2022-09-29T09:15:51.518Z"
      },
      {
        "duration": 195,
        "start_time": "2022-09-29T09:16:00.693Z"
      },
      {
        "duration": 14,
        "start_time": "2022-09-29T09:33:00.776Z"
      },
      {
        "duration": 5,
        "start_time": "2022-09-29T09:34:18.905Z"
      },
      {
        "duration": 25,
        "start_time": "2022-09-29T09:34:19.476Z"
      },
      {
        "duration": 12,
        "start_time": "2022-09-29T09:34:28.395Z"
      },
      {
        "duration": 155,
        "start_time": "2022-09-29T09:35:16.453Z"
      },
      {
        "duration": 632,
        "start_time": "2022-09-29T09:40:31.124Z"
      },
      {
        "duration": 19,
        "start_time": "2022-09-29T09:40:31.758Z"
      },
      {
        "duration": 2850,
        "start_time": "2022-09-29T09:40:31.779Z"
      },
      {
        "duration": 10,
        "start_time": "2022-09-29T09:40:34.630Z"
      },
      {
        "duration": 20,
        "start_time": "2022-09-29T09:40:34.643Z"
      },
      {
        "duration": 16,
        "start_time": "2022-09-29T09:40:34.665Z"
      },
      {
        "duration": 9,
        "start_time": "2022-09-29T09:40:34.683Z"
      },
      {
        "duration": 10,
        "start_time": "2022-09-29T09:40:34.693Z"
      },
      {
        "duration": 15,
        "start_time": "2022-09-29T09:40:34.704Z"
      },
      {
        "duration": 42,
        "start_time": "2022-09-29T09:40:34.721Z"
      },
      {
        "duration": 159,
        "start_time": "2022-09-29T09:40:34.765Z"
      },
      {
        "duration": 10,
        "start_time": "2022-09-29T09:40:34.926Z"
      },
      {
        "duration": 165,
        "start_time": "2022-09-29T09:40:34.938Z"
      },
      {
        "duration": 267,
        "start_time": "2022-09-29T09:40:35.106Z"
      },
      {
        "duration": 168,
        "start_time": "2022-09-29T09:40:35.375Z"
      },
      {
        "duration": 284,
        "start_time": "2022-09-29T09:40:35.545Z"
      },
      {
        "duration": 37,
        "start_time": "2022-09-29T09:40:35.831Z"
      },
      {
        "duration": 57,
        "start_time": "2022-09-29T09:40:35.871Z"
      },
      {
        "duration": 27,
        "start_time": "2022-09-29T09:40:35.930Z"
      },
      {
        "duration": 121,
        "start_time": "2022-09-29T09:40:35.958Z"
      },
      {
        "duration": 4,
        "start_time": "2022-09-29T09:40:36.081Z"
      },
      {
        "duration": 72,
        "start_time": "2022-09-29T09:40:36.087Z"
      },
      {
        "duration": 170,
        "start_time": "2022-09-29T09:40:36.161Z"
      },
      {
        "duration": 177,
        "start_time": "2022-09-29T09:40:36.333Z"
      },
      {
        "duration": 7,
        "start_time": "2022-09-29T09:40:36.512Z"
      },
      {
        "duration": 10,
        "start_time": "2022-09-29T09:40:36.520Z"
      },
      {
        "duration": 172,
        "start_time": "2022-09-29T09:40:36.531Z"
      },
      {
        "duration": 284,
        "start_time": "2022-09-29T09:40:36.705Z"
      },
      {
        "duration": 5,
        "start_time": "2022-09-29T09:40:36.991Z"
      },
      {
        "duration": 56,
        "start_time": "2022-09-29T09:40:36.998Z"
      },
      {
        "duration": 9,
        "start_time": "2022-09-29T09:40:37.056Z"
      },
      {
        "duration": 2274,
        "start_time": "2022-09-29T09:40:37.067Z"
      },
      {
        "duration": 26,
        "start_time": "2022-09-29T09:40:39.343Z"
      },
      {
        "duration": 6,
        "start_time": "2022-09-29T09:40:39.371Z"
      },
      {
        "duration": 22,
        "start_time": "2022-09-29T09:40:39.379Z"
      },
      {
        "duration": 7,
        "start_time": "2022-09-29T09:40:39.403Z"
      },
      {
        "duration": 13,
        "start_time": "2022-09-29T09:40:39.412Z"
      },
      {
        "duration": 330,
        "start_time": "2022-09-29T09:40:39.428Z"
      },
      {
        "duration": 5,
        "start_time": "2022-09-29T09:40:39.759Z"
      },
      {
        "duration": 33,
        "start_time": "2022-09-29T09:40:39.766Z"
      },
      {
        "duration": 22,
        "start_time": "2022-09-29T09:40:39.804Z"
      },
      {
        "duration": 269,
        "start_time": "2022-09-29T09:40:39.828Z"
      },
      {
        "duration": 387,
        "start_time": "2022-09-29T09:40:40.098Z"
      },
      {
        "duration": 282,
        "start_time": "2022-09-29T09:40:40.487Z"
      },
      {
        "duration": 271,
        "start_time": "2022-09-29T09:40:40.772Z"
      },
      {
        "duration": 287,
        "start_time": "2022-09-29T09:40:41.044Z"
      },
      {
        "duration": 342,
        "start_time": "2022-09-29T09:40:41.333Z"
      },
      {
        "duration": 292,
        "start_time": "2022-09-29T09:40:41.677Z"
      },
      {
        "duration": 435,
        "start_time": "2022-09-29T09:40:41.971Z"
      },
      {
        "duration": 270,
        "start_time": "2022-09-29T09:40:42.408Z"
      },
      {
        "duration": 276,
        "start_time": "2022-09-29T09:40:42.680Z"
      },
      {
        "duration": 264,
        "start_time": "2022-09-29T09:40:42.958Z"
      },
      {
        "duration": 252,
        "start_time": "2022-09-29T09:40:43.223Z"
      },
      {
        "duration": 281,
        "start_time": "2022-09-29T09:40:43.476Z"
      },
      {
        "duration": 456,
        "start_time": "2022-09-29T09:40:43.759Z"
      },
      {
        "duration": 258,
        "start_time": "2022-09-29T09:40:44.217Z"
      },
      {
        "duration": 314,
        "start_time": "2022-09-29T09:40:44.477Z"
      },
      {
        "duration": 247,
        "start_time": "2022-09-29T09:40:44.792Z"
      },
      {
        "duration": 5,
        "start_time": "2022-09-29T09:40:45.041Z"
      },
      {
        "duration": 27,
        "start_time": "2022-09-29T09:40:45.054Z"
      },
      {
        "duration": 36,
        "start_time": "2022-09-29T09:40:45.083Z"
      },
      {
        "duration": 14,
        "start_time": "2022-09-29T09:40:45.121Z"
      },
      {
        "duration": 150,
        "start_time": "2022-09-29T09:40:45.136Z"
      },
      {
        "duration": 195,
        "start_time": "2022-09-29T09:40:45.288Z"
      },
      {
        "duration": 161,
        "start_time": "2022-09-29T09:40:45.485Z"
      },
      {
        "duration": 178,
        "start_time": "2022-09-29T09:40:45.648Z"
      },
      {
        "duration": 168,
        "start_time": "2022-09-29T09:40:45.828Z"
      },
      {
        "duration": 169,
        "start_time": "2022-09-29T09:40:45.999Z"
      },
      {
        "duration": 165,
        "start_time": "2022-09-29T09:40:46.170Z"
      },
      {
        "duration": 166,
        "start_time": "2022-09-29T09:40:46.336Z"
      },
      {
        "duration": 8,
        "start_time": "2022-09-29T09:40:46.503Z"
      },
      {
        "duration": 19,
        "start_time": "2022-09-29T09:40:46.513Z"
      },
      {
        "duration": 67,
        "start_time": "2022-09-29T09:40:46.534Z"
      },
      {
        "duration": 9,
        "start_time": "2022-09-29T09:40:46.603Z"
      },
      {
        "duration": 170,
        "start_time": "2022-09-29T09:40:46.614Z"
      },
      {
        "duration": 518,
        "start_time": "2022-09-29T11:04:04.347Z"
      },
      {
        "duration": 15,
        "start_time": "2022-09-29T11:04:04.867Z"
      },
      {
        "duration": 2555,
        "start_time": "2022-09-29T11:04:04.895Z"
      },
      {
        "duration": 69,
        "start_time": "2022-09-29T11:04:07.452Z"
      },
      {
        "duration": 8,
        "start_time": "2022-09-29T11:04:07.523Z"
      },
      {
        "duration": 20,
        "start_time": "2022-09-29T11:04:07.532Z"
      },
      {
        "duration": 14,
        "start_time": "2022-09-29T11:04:07.554Z"
      },
      {
        "duration": 28,
        "start_time": "2022-09-29T11:04:07.570Z"
      },
      {
        "duration": 27,
        "start_time": "2022-09-29T11:04:07.600Z"
      },
      {
        "duration": 15,
        "start_time": "2022-09-29T11:04:07.629Z"
      },
      {
        "duration": 11,
        "start_time": "2022-09-29T11:04:07.645Z"
      },
      {
        "duration": 158,
        "start_time": "2022-09-29T11:04:07.658Z"
      },
      {
        "duration": 11,
        "start_time": "2022-09-29T11:04:07.818Z"
      },
      {
        "duration": 157,
        "start_time": "2022-09-29T11:04:07.834Z"
      },
      {
        "duration": 302,
        "start_time": "2022-09-29T11:04:07.999Z"
      },
      {
        "duration": 165,
        "start_time": "2022-09-29T11:04:08.302Z"
      },
      {
        "duration": 381,
        "start_time": "2022-09-29T11:04:08.469Z"
      },
      {
        "duration": 26,
        "start_time": "2022-09-29T11:04:08.852Z"
      },
      {
        "duration": 74,
        "start_time": "2022-09-29T11:04:08.879Z"
      },
      {
        "duration": 6,
        "start_time": "2022-09-29T11:04:08.955Z"
      },
      {
        "duration": 50,
        "start_time": "2022-09-29T11:04:08.963Z"
      },
      {
        "duration": 5,
        "start_time": "2022-09-29T11:04:09.015Z"
      },
      {
        "duration": 43,
        "start_time": "2022-09-29T11:04:09.022Z"
      },
      {
        "duration": 185,
        "start_time": "2022-09-29T11:04:09.066Z"
      },
      {
        "duration": 176,
        "start_time": "2022-09-29T11:04:09.253Z"
      },
      {
        "duration": 8,
        "start_time": "2022-09-29T11:04:09.431Z"
      },
      {
        "duration": 7,
        "start_time": "2022-09-29T11:04:09.441Z"
      },
      {
        "duration": 178,
        "start_time": "2022-09-29T11:04:09.449Z"
      },
      {
        "duration": 281,
        "start_time": "2022-09-29T11:04:09.629Z"
      },
      {
        "duration": 12,
        "start_time": "2022-09-29T11:04:09.919Z"
      },
      {
        "duration": 48,
        "start_time": "2022-09-29T11:04:09.933Z"
      },
      {
        "duration": 8,
        "start_time": "2022-09-29T11:04:09.983Z"
      },
      {
        "duration": 2418,
        "start_time": "2022-09-29T11:04:09.993Z"
      },
      {
        "duration": 14,
        "start_time": "2022-09-29T11:04:12.412Z"
      },
      {
        "duration": 5,
        "start_time": "2022-09-29T11:04:12.427Z"
      },
      {
        "duration": 8,
        "start_time": "2022-09-29T11:04:12.434Z"
      },
      {
        "duration": 7,
        "start_time": "2022-09-29T11:04:12.444Z"
      },
      {
        "duration": 9,
        "start_time": "2022-09-29T11:04:12.452Z"
      },
      {
        "duration": 342,
        "start_time": "2022-09-29T11:04:12.463Z"
      },
      {
        "duration": 7,
        "start_time": "2022-09-29T11:04:12.812Z"
      },
      {
        "duration": 55,
        "start_time": "2022-09-29T11:04:12.825Z"
      },
      {
        "duration": 17,
        "start_time": "2022-09-29T11:04:12.881Z"
      },
      {
        "duration": 247,
        "start_time": "2022-09-29T11:04:12.910Z"
      },
      {
        "duration": 371,
        "start_time": "2022-09-29T11:04:13.158Z"
      },
      {
        "duration": 284,
        "start_time": "2022-09-29T11:04:13.531Z"
      },
      {
        "duration": 304,
        "start_time": "2022-09-29T11:04:13.818Z"
      },
      {
        "duration": 287,
        "start_time": "2022-09-29T11:04:14.124Z"
      },
      {
        "duration": 291,
        "start_time": "2022-09-29T11:04:14.413Z"
      },
      {
        "duration": 406,
        "start_time": "2022-09-29T11:04:14.708Z"
      },
      {
        "duration": 298,
        "start_time": "2022-09-29T11:04:15.116Z"
      },
      {
        "duration": 266,
        "start_time": "2022-09-29T11:04:15.416Z"
      },
      {
        "duration": 275,
        "start_time": "2022-09-29T11:04:15.683Z"
      },
      {
        "duration": 289,
        "start_time": "2022-09-29T11:04:15.960Z"
      },
      {
        "duration": 267,
        "start_time": "2022-09-29T11:04:16.252Z"
      },
      {
        "duration": 532,
        "start_time": "2022-09-29T11:04:16.521Z"
      },
      {
        "duration": 292,
        "start_time": "2022-09-29T11:04:17.054Z"
      },
      {
        "duration": 265,
        "start_time": "2022-09-29T11:04:17.347Z"
      },
      {
        "duration": 287,
        "start_time": "2022-09-29T11:04:17.614Z"
      },
      {
        "duration": 282,
        "start_time": "2022-09-29T11:04:17.903Z"
      },
      {
        "duration": 9,
        "start_time": "2022-09-29T11:04:18.187Z"
      },
      {
        "duration": 20,
        "start_time": "2022-09-29T11:04:18.200Z"
      },
      {
        "duration": 25,
        "start_time": "2022-09-29T11:04:18.222Z"
      },
      {
        "duration": 13,
        "start_time": "2022-09-29T11:04:18.249Z"
      },
      {
        "duration": 177,
        "start_time": "2022-09-29T11:04:18.264Z"
      },
      {
        "duration": 185,
        "start_time": "2022-09-29T11:04:18.443Z"
      },
      {
        "duration": 160,
        "start_time": "2022-09-29T11:04:18.631Z"
      },
      {
        "duration": 182,
        "start_time": "2022-09-29T11:04:18.793Z"
      },
      {
        "duration": 167,
        "start_time": "2022-09-29T11:04:18.976Z"
      },
      {
        "duration": 168,
        "start_time": "2022-09-29T11:04:19.145Z"
      },
      {
        "duration": 167,
        "start_time": "2022-09-29T11:04:19.315Z"
      },
      {
        "duration": 178,
        "start_time": "2022-09-29T11:04:19.484Z"
      },
      {
        "duration": 7,
        "start_time": "2022-09-29T11:04:19.664Z"
      },
      {
        "duration": 32,
        "start_time": "2022-09-29T11:04:19.673Z"
      },
      {
        "duration": 55,
        "start_time": "2022-09-29T11:04:19.707Z"
      },
      {
        "duration": 9,
        "start_time": "2022-09-29T11:04:19.764Z"
      },
      {
        "duration": 153,
        "start_time": "2022-09-29T11:04:19.774Z"
      },
      {
        "duration": 86,
        "start_time": "2022-09-29T11:07:39.476Z"
      },
      {
        "duration": 55,
        "start_time": "2022-09-29T11:17:33.375Z"
      },
      {
        "duration": 18,
        "start_time": "2022-09-29T11:17:52.166Z"
      },
      {
        "duration": 16,
        "start_time": "2022-09-29T11:17:54.660Z"
      },
      {
        "duration": 19,
        "start_time": "2022-09-29T11:18:03.806Z"
      },
      {
        "duration": 84,
        "start_time": "2022-09-29T11:20:47.881Z"
      },
      {
        "duration": 7,
        "start_time": "2022-09-29T11:20:51.841Z"
      },
      {
        "duration": 11,
        "start_time": "2022-09-29T11:20:57.225Z"
      },
      {
        "duration": 10,
        "start_time": "2022-09-29T11:21:03.546Z"
      },
      {
        "duration": 14,
        "start_time": "2022-09-29T11:21:03.874Z"
      },
      {
        "duration": 10,
        "start_time": "2022-09-29T11:21:09.962Z"
      },
      {
        "duration": 11,
        "start_time": "2022-09-29T11:21:11.153Z"
      },
      {
        "duration": 12,
        "start_time": "2022-09-29T11:21:51.636Z"
      },
      {
        "duration": 18,
        "start_time": "2022-09-29T11:21:59.892Z"
      },
      {
        "duration": 8,
        "start_time": "2022-09-29T11:22:15.935Z"
      },
      {
        "duration": 178,
        "start_time": "2022-09-29T11:23:55.767Z"
      },
      {
        "duration": 174,
        "start_time": "2022-09-29T11:24:11.117Z"
      },
      {
        "duration": 354,
        "start_time": "2022-09-29T11:24:25.013Z"
      },
      {
        "duration": 13,
        "start_time": "2022-09-29T11:24:35.509Z"
      },
      {
        "duration": 8,
        "start_time": "2022-09-29T11:24:48.710Z"
      },
      {
        "duration": 174,
        "start_time": "2022-09-29T11:24:51.878Z"
      },
      {
        "duration": 183,
        "start_time": "2022-09-30T04:21:30.047Z"
      },
      {
        "duration": 64,
        "start_time": "2022-09-30T04:22:02.425Z"
      },
      {
        "duration": 42,
        "start_time": "2022-09-30T04:22:08.706Z"
      },
      {
        "duration": 396,
        "start_time": "2022-09-30T04:22:18.192Z"
      },
      {
        "duration": 356,
        "start_time": "2022-09-30T04:22:18.592Z"
      },
      {
        "duration": 15,
        "start_time": "2022-09-30T04:22:18.950Z"
      },
      {
        "duration": 2351,
        "start_time": "2022-09-30T04:22:21.906Z"
      },
      {
        "duration": 78,
        "start_time": "2022-09-30T04:22:49.182Z"
      },
      {
        "duration": 31,
        "start_time": "2022-09-30T04:23:49.530Z"
      },
      {
        "duration": 8,
        "start_time": "2022-09-30T04:28:55.066Z"
      },
      {
        "duration": 1257,
        "start_time": "2022-09-30T04:29:58.111Z"
      },
      {
        "duration": 9,
        "start_time": "2022-09-30T04:30:06.627Z"
      },
      {
        "duration": 45,
        "start_time": "2022-09-30T04:30:10.498Z"
      },
      {
        "duration": 18,
        "start_time": "2022-09-30T04:30:27.301Z"
      },
      {
        "duration": 12,
        "start_time": "2022-09-30T04:30:37.529Z"
      },
      {
        "duration": 16,
        "start_time": "2022-09-30T04:31:00.804Z"
      },
      {
        "duration": 16,
        "start_time": "2022-09-30T04:31:11.016Z"
      },
      {
        "duration": 12,
        "start_time": "2022-09-30T04:31:19.118Z"
      },
      {
        "duration": 11,
        "start_time": "2022-09-30T04:31:26.651Z"
      },
      {
        "duration": 16,
        "start_time": "2022-09-30T04:31:51.152Z"
      },
      {
        "duration": 13,
        "start_time": "2022-09-30T04:31:52.055Z"
      },
      {
        "duration": 160,
        "start_time": "2022-09-30T04:37:39.805Z"
      },
      {
        "duration": 1510,
        "start_time": "2022-09-30T04:38:08.331Z"
      },
      {
        "duration": 375,
        "start_time": "2022-09-30T04:41:10.738Z"
      },
      {
        "duration": 129,
        "start_time": "2022-09-30T04:41:11.117Z"
      },
      {
        "duration": 14,
        "start_time": "2022-09-30T04:41:11.247Z"
      },
      {
        "duration": 2393,
        "start_time": "2022-09-30T04:41:11.263Z"
      },
      {
        "duration": 36,
        "start_time": "2022-09-30T04:41:13.658Z"
      },
      {
        "duration": 58,
        "start_time": "2022-09-30T04:41:13.696Z"
      },
      {
        "duration": 7,
        "start_time": "2022-09-30T04:41:13.755Z"
      },
      {
        "duration": 12,
        "start_time": "2022-09-30T04:41:13.764Z"
      },
      {
        "duration": 14,
        "start_time": "2022-09-30T04:41:13.778Z"
      },
      {
        "duration": 40,
        "start_time": "2022-09-30T04:41:13.793Z"
      },
      {
        "duration": 7,
        "start_time": "2022-09-30T04:41:13.835Z"
      },
      {
        "duration": 13,
        "start_time": "2022-09-30T04:41:13.844Z"
      },
      {
        "duration": 10,
        "start_time": "2022-09-30T04:41:13.859Z"
      },
      {
        "duration": 166,
        "start_time": "2022-09-30T04:41:13.872Z"
      },
      {
        "duration": 76,
        "start_time": "2022-09-30T04:41:14.040Z"
      },
      {
        "duration": 25,
        "start_time": "2022-09-30T04:41:14.119Z"
      },
      {
        "duration": 152,
        "start_time": "2022-09-30T04:41:14.145Z"
      },
      {
        "duration": 251,
        "start_time": "2022-09-30T04:41:14.299Z"
      },
      {
        "duration": 157,
        "start_time": "2022-09-30T04:41:14.552Z"
      },
      {
        "duration": 333,
        "start_time": "2022-09-30T04:41:14.711Z"
      },
      {
        "duration": 52,
        "start_time": "2022-09-30T04:41:15.045Z"
      },
      {
        "duration": 78,
        "start_time": "2022-09-30T04:41:15.104Z"
      },
      {
        "duration": 9,
        "start_time": "2022-09-30T04:41:15.184Z"
      },
      {
        "duration": 68,
        "start_time": "2022-09-30T04:41:15.200Z"
      },
      {
        "duration": 5,
        "start_time": "2022-09-30T04:41:15.270Z"
      },
      {
        "duration": 93,
        "start_time": "2022-09-30T04:41:15.276Z"
      },
      {
        "duration": 186,
        "start_time": "2022-09-30T04:41:15.371Z"
      },
      {
        "duration": 191,
        "start_time": "2022-09-30T04:41:15.559Z"
      },
      {
        "duration": 8,
        "start_time": "2022-09-30T04:41:15.752Z"
      },
      {
        "duration": 21,
        "start_time": "2022-09-30T04:41:15.762Z"
      },
      {
        "duration": 224,
        "start_time": "2022-09-30T04:41:15.784Z"
      },
      {
        "duration": 255,
        "start_time": "2022-09-30T04:41:16.010Z"
      },
      {
        "duration": 6,
        "start_time": "2022-09-30T04:41:16.266Z"
      },
      {
        "duration": 107,
        "start_time": "2022-09-30T04:41:16.276Z"
      },
      {
        "duration": 14,
        "start_time": "2022-09-30T04:41:16.387Z"
      },
      {
        "duration": 2380,
        "start_time": "2022-09-30T04:41:16.409Z"
      },
      {
        "duration": 31,
        "start_time": "2022-09-30T04:41:18.794Z"
      },
      {
        "duration": 7,
        "start_time": "2022-09-30T04:41:18.827Z"
      },
      {
        "duration": 11,
        "start_time": "2022-09-30T04:41:18.836Z"
      },
      {
        "duration": 5,
        "start_time": "2022-09-30T04:41:18.849Z"
      },
      {
        "duration": 7,
        "start_time": "2022-09-30T04:41:18.859Z"
      },
      {
        "duration": 405,
        "start_time": "2022-09-30T04:41:18.867Z"
      },
      {
        "duration": 11,
        "start_time": "2022-09-30T04:41:19.274Z"
      },
      {
        "duration": 66,
        "start_time": "2022-09-30T04:41:19.287Z"
      },
      {
        "duration": 14,
        "start_time": "2022-09-30T04:41:19.355Z"
      },
      {
        "duration": 253,
        "start_time": "2022-09-30T04:41:19.371Z"
      },
      {
        "duration": 311,
        "start_time": "2022-09-30T04:41:19.627Z"
      },
      {
        "duration": 282,
        "start_time": "2022-09-30T04:41:19.939Z"
      },
      {
        "duration": 250,
        "start_time": "2022-09-30T04:41:20.223Z"
      },
      {
        "duration": 265,
        "start_time": "2022-09-30T04:41:20.488Z"
      },
      {
        "duration": 182,
        "start_time": "2022-09-30T04:41:20.755Z"
      },
      {
        "duration": 259,
        "start_time": "2022-09-30T04:41:20.938Z"
      },
      {
        "duration": 336,
        "start_time": "2022-09-30T04:41:21.199Z"
      },
      {
        "duration": 125,
        "start_time": "2022-09-30T04:41:21.536Z"
      },
      {
        "duration": 262,
        "start_time": "2022-09-30T04:41:21.663Z"
      },
      {
        "duration": 248,
        "start_time": "2022-09-30T04:41:21.926Z"
      },
      {
        "duration": 270,
        "start_time": "2022-09-30T04:41:22.175Z"
      },
      {
        "duration": 271,
        "start_time": "2022-09-30T04:41:22.447Z"
      },
      {
        "duration": 359,
        "start_time": "2022-09-30T04:41:22.721Z"
      },
      {
        "duration": 237,
        "start_time": "2022-09-30T04:41:23.081Z"
      },
      {
        "duration": 272,
        "start_time": "2022-09-30T04:41:23.319Z"
      },
      {
        "duration": 240,
        "start_time": "2022-09-30T04:41:23.592Z"
      },
      {
        "duration": 4,
        "start_time": "2022-09-30T04:41:23.833Z"
      },
      {
        "duration": 12,
        "start_time": "2022-09-30T04:41:23.839Z"
      },
      {
        "duration": 204,
        "start_time": "2022-09-30T04:41:23.853Z"
      },
      {
        "duration": 214,
        "start_time": "2022-09-30T04:41:24.058Z"
      },
      {
        "duration": 190,
        "start_time": "2022-09-30T04:41:24.273Z"
      },
      {
        "duration": 227,
        "start_time": "2022-09-30T04:41:24.464Z"
      },
      {
        "duration": 231,
        "start_time": "2022-09-30T04:41:24.692Z"
      },
      {
        "duration": 201,
        "start_time": "2022-09-30T04:41:24.927Z"
      },
      {
        "duration": 219,
        "start_time": "2022-09-30T04:41:25.130Z"
      },
      {
        "duration": 372,
        "start_time": "2022-09-30T04:41:25.351Z"
      },
      {
        "duration": 42,
        "start_time": "2022-09-30T04:41:25.724Z"
      },
      {
        "duration": 35,
        "start_time": "2022-09-30T04:41:25.767Z"
      },
      {
        "duration": 52,
        "start_time": "2022-09-30T04:41:25.814Z"
      },
      {
        "duration": 9,
        "start_time": "2022-09-30T04:41:25.868Z"
      },
      {
        "duration": 224,
        "start_time": "2022-09-30T04:41:25.885Z"
      },
      {
        "duration": 137,
        "start_time": "2022-09-30T04:41:26.120Z"
      },
      {
        "duration": 25,
        "start_time": "2022-09-30T04:44:36.054Z"
      },
      {
        "duration": 41,
        "start_time": "2022-09-30T04:49:18.709Z"
      },
      {
        "duration": 39,
        "start_time": "2022-09-30T04:49:25.818Z"
      },
      {
        "duration": 125,
        "start_time": "2022-09-30T04:49:47.779Z"
      },
      {
        "duration": 55,
        "start_time": "2022-09-30T04:49:54.673Z"
      },
      {
        "duration": 44,
        "start_time": "2022-09-30T04:49:59.840Z"
      },
      {
        "duration": 59,
        "start_time": "2022-09-30T04:50:02.947Z"
      },
      {
        "duration": 46,
        "start_time": "2022-09-30T04:50:12.905Z"
      },
      {
        "duration": 43,
        "start_time": "2022-09-30T04:51:52.405Z"
      },
      {
        "duration": 69,
        "start_time": "2022-09-30T04:52:57.882Z"
      }
    ],
    "toc": {
      "base_numbering": 1,
      "nav_menu": {},
      "number_sections": true,
      "sideBar": true,
      "skip_h1_title": true,
      "title_cell": "Table of Contents",
      "title_sidebar": "Contents",
      "toc_cell": false,
      "toc_position": {
        "height": "calc(100% - 180px)",
        "left": "10px",
        "top": "150px",
        "width": "366.188px"
      },
      "toc_section_display": true,
      "toc_window_display": true
    },
    "kernelspec": {
      "name": "python",
      "display_name": "Python (Pyodide)",
      "language": "python"
    },
    "language_info": {
      "codemirror_mode": {
        "name": "python",
        "version": 3
      },
      "file_extension": ".py",
      "mimetype": "text/x-python",
      "name": "python",
      "nbconvert_exporter": "python",
      "pygments_lexer": "ipython3",
      "version": "3.8"
    }
  },
  "nbformat_minor": 4,
  "nbformat": 4,
  "cells": [
    {
      "cell_type": "markdown",
      "source": "# Исследование объявлений о продаже квартир\n\nВ вашем распоряжении данные сервиса Яндекс.Недвижимость — архив объявлений о продаже квартир в Санкт-Петербурге и соседних населённых пунктов за несколько лет. Нужно научиться определять рыночную стоимость объектов недвижимости. Ваша задача — установить параметры. Это позволит построить автоматизированную систему: она отследит аномалии и мошенническую деятельность. \n\nПо каждой квартире на продажу доступны два вида данных. Первые вписаны пользователем, вторые — получены автоматически на основе картографических данных. Например, расстояние до центра, аэропорта, ближайшего парка и водоёма. ",
      "metadata": {}
    },
    {
      "cell_type": "markdown",
      "source": "### Откройте файл с данными и изучите общую информацию. ",
      "metadata": {}
    },
    {
      "cell_type": "code",
      "source": "import pandas as pd",
      "metadata": {},
      "execution_count": 1,
      "outputs": []
    },
    {
      "cell_type": "code",
      "source": "data = pd.read_csv('/datasets/real_estate_data.csv', sep='\\t')\ndata.head()",
      "metadata": {},
      "execution_count": 2,
      "outputs": [
        {
          "execution_count": 2,
          "output_type": "execute_result",
          "data": {
            "text/html": [
              "<div>\n",
              "<style scoped>\n",
              "    .dataframe tbody tr th:only-of-type {\n",
              "        vertical-align: middle;\n",
              "    }\n",
              "\n",
              "    .dataframe tbody tr th {\n",
              "        vertical-align: top;\n",
              "    }\n",
              "\n",
              "    .dataframe thead th {\n",
              "        text-align: right;\n",
              "    }\n",
              "</style>\n",
              "<table border=\"1\" class=\"dataframe\">\n",
              "  <thead>\n",
              "    <tr style=\"text-align: right;\">\n",
              "      <th></th>\n",
              "      <th>total_images</th>\n",
              "      <th>last_price</th>\n",
              "      <th>total_area</th>\n",
              "      <th>first_day_exposition</th>\n",
              "      <th>rooms</th>\n",
              "      <th>ceiling_height</th>\n",
              "      <th>floors_total</th>\n",
              "      <th>living_area</th>\n",
              "      <th>floor</th>\n",
              "      <th>is_apartment</th>\n",
              "      <th>...</th>\n",
              "      <th>kitchen_area</th>\n",
              "      <th>balcony</th>\n",
              "      <th>locality_name</th>\n",
              "      <th>airports_nearest</th>\n",
              "      <th>cityCenters_nearest</th>\n",
              "      <th>parks_around3000</th>\n",
              "      <th>parks_nearest</th>\n",
              "      <th>ponds_around3000</th>\n",
              "      <th>ponds_nearest</th>\n",
              "      <th>days_exposition</th>\n",
              "    </tr>\n",
              "  </thead>\n",
              "  <tbody>\n",
              "    <tr>\n",
              "      <th>0</th>\n",
              "      <td>20</td>\n",
              "      <td>13000000.0</td>\n",
              "      <td>108.0</td>\n",
              "      <td>2019-03-07T00:00:00</td>\n",
              "      <td>3</td>\n",
              "      <td>2.70</td>\n",
              "      <td>16.0</td>\n",
              "      <td>51.0</td>\n",
              "      <td>8</td>\n",
              "      <td>NaN</td>\n",
              "      <td>...</td>\n",
              "      <td>25.0</td>\n",
              "      <td>NaN</td>\n",
              "      <td>Санкт-Петербург</td>\n",
              "      <td>18863.0</td>\n",
              "      <td>16028.0</td>\n",
              "      <td>1.0</td>\n",
              "      <td>482.0</td>\n",
              "      <td>2.0</td>\n",
              "      <td>755.0</td>\n",
              "      <td>NaN</td>\n",
              "    </tr>\n",
              "    <tr>\n",
              "      <th>1</th>\n",
              "      <td>7</td>\n",
              "      <td>3350000.0</td>\n",
              "      <td>40.4</td>\n",
              "      <td>2018-12-04T00:00:00</td>\n",
              "      <td>1</td>\n",
              "      <td>NaN</td>\n",
              "      <td>11.0</td>\n",
              "      <td>18.6</td>\n",
              "      <td>1</td>\n",
              "      <td>NaN</td>\n",
              "      <td>...</td>\n",
              "      <td>11.0</td>\n",
              "      <td>2.0</td>\n",
              "      <td>посёлок Шушары</td>\n",
              "      <td>12817.0</td>\n",
              "      <td>18603.0</td>\n",
              "      <td>0.0</td>\n",
              "      <td>NaN</td>\n",
              "      <td>0.0</td>\n",
              "      <td>NaN</td>\n",
              "      <td>81.0</td>\n",
              "    </tr>\n",
              "    <tr>\n",
              "      <th>2</th>\n",
              "      <td>10</td>\n",
              "      <td>5196000.0</td>\n",
              "      <td>56.0</td>\n",
              "      <td>2015-08-20T00:00:00</td>\n",
              "      <td>2</td>\n",
              "      <td>NaN</td>\n",
              "      <td>5.0</td>\n",
              "      <td>34.3</td>\n",
              "      <td>4</td>\n",
              "      <td>NaN</td>\n",
              "      <td>...</td>\n",
              "      <td>8.3</td>\n",
              "      <td>0.0</td>\n",
              "      <td>Санкт-Петербург</td>\n",
              "      <td>21741.0</td>\n",
              "      <td>13933.0</td>\n",
              "      <td>1.0</td>\n",
              "      <td>90.0</td>\n",
              "      <td>2.0</td>\n",
              "      <td>574.0</td>\n",
              "      <td>558.0</td>\n",
              "    </tr>\n",
              "    <tr>\n",
              "      <th>3</th>\n",
              "      <td>0</td>\n",
              "      <td>64900000.0</td>\n",
              "      <td>159.0</td>\n",
              "      <td>2015-07-24T00:00:00</td>\n",
              "      <td>3</td>\n",
              "      <td>NaN</td>\n",
              "      <td>14.0</td>\n",
              "      <td>NaN</td>\n",
              "      <td>9</td>\n",
              "      <td>NaN</td>\n",
              "      <td>...</td>\n",
              "      <td>NaN</td>\n",
              "      <td>0.0</td>\n",
              "      <td>Санкт-Петербург</td>\n",
              "      <td>28098.0</td>\n",
              "      <td>6800.0</td>\n",
              "      <td>2.0</td>\n",
              "      <td>84.0</td>\n",
              "      <td>3.0</td>\n",
              "      <td>234.0</td>\n",
              "      <td>424.0</td>\n",
              "    </tr>\n",
              "    <tr>\n",
              "      <th>4</th>\n",
              "      <td>2</td>\n",
              "      <td>10000000.0</td>\n",
              "      <td>100.0</td>\n",
              "      <td>2018-06-19T00:00:00</td>\n",
              "      <td>2</td>\n",
              "      <td>3.03</td>\n",
              "      <td>14.0</td>\n",
              "      <td>32.0</td>\n",
              "      <td>13</td>\n",
              "      <td>NaN</td>\n",
              "      <td>...</td>\n",
              "      <td>41.0</td>\n",
              "      <td>NaN</td>\n",
              "      <td>Санкт-Петербург</td>\n",
              "      <td>31856.0</td>\n",
              "      <td>8098.0</td>\n",
              "      <td>2.0</td>\n",
              "      <td>112.0</td>\n",
              "      <td>1.0</td>\n",
              "      <td>48.0</td>\n",
              "      <td>121.0</td>\n",
              "    </tr>\n",
              "  </tbody>\n",
              "</table>\n",
              "<p>5 rows × 22 columns</p>\n",
              "</div>"
            ],
            "text/plain": [
              "   total_images  last_price  total_area first_day_exposition  rooms  \\\n",
              "0            20  13000000.0       108.0  2019-03-07T00:00:00      3   \n",
              "1             7   3350000.0        40.4  2018-12-04T00:00:00      1   \n",
              "2            10   5196000.0        56.0  2015-08-20T00:00:00      2   \n",
              "3             0  64900000.0       159.0  2015-07-24T00:00:00      3   \n",
              "4             2  10000000.0       100.0  2018-06-19T00:00:00      2   \n",
              "\n",
              "   ceiling_height  floors_total  living_area  floor is_apartment  ...  \\\n",
              "0            2.70          16.0         51.0      8          NaN  ...   \n",
              "1             NaN          11.0         18.6      1          NaN  ...   \n",
              "2             NaN           5.0         34.3      4          NaN  ...   \n",
              "3             NaN          14.0          NaN      9          NaN  ...   \n",
              "4            3.03          14.0         32.0     13          NaN  ...   \n",
              "\n",
              "   kitchen_area  balcony    locality_name  airports_nearest  \\\n",
              "0          25.0      NaN  Санкт-Петербург           18863.0   \n",
              "1          11.0      2.0   посёлок Шушары           12817.0   \n",
              "2           8.3      0.0  Санкт-Петербург           21741.0   \n",
              "3           NaN      0.0  Санкт-Петербург           28098.0   \n",
              "4          41.0      NaN  Санкт-Петербург           31856.0   \n",
              "\n",
              "  cityCenters_nearest  parks_around3000  parks_nearest  ponds_around3000  \\\n",
              "0             16028.0               1.0          482.0               2.0   \n",
              "1             18603.0               0.0            NaN               0.0   \n",
              "2             13933.0               1.0           90.0               2.0   \n",
              "3              6800.0               2.0           84.0               3.0   \n",
              "4              8098.0               2.0          112.0               1.0   \n",
              "\n",
              "   ponds_nearest  days_exposition  \n",
              "0          755.0              NaN  \n",
              "1            NaN             81.0  \n",
              "2          574.0            558.0  \n",
              "3          234.0            424.0  \n",
              "4           48.0            121.0  \n",
              "\n",
              "[5 rows x 22 columns]"
            ]
          },
          "metadata": {}
        }
      ]
    },
    {
      "cell_type": "code",
      "source": "data.info()",
      "metadata": {},
      "execution_count": 3,
      "outputs": [
        {
          "name": "stdout",
          "output_type": "stream",
          "text": "<class 'pandas.core.frame.DataFrame'>\n\nRangeIndex: 23699 entries, 0 to 23698\n\nData columns (total 22 columns):\n\n #   Column                Non-Null Count  Dtype  \n\n---  ------                --------------  -----  \n\n 0   total_images          23699 non-null  int64  \n\n 1   last_price            23699 non-null  float64\n\n 2   total_area            23699 non-null  float64\n\n 3   first_day_exposition  23699 non-null  object \n\n 4   rooms                 23699 non-null  int64  \n\n 5   ceiling_height        14504 non-null  float64\n\n 6   floors_total          23613 non-null  float64\n\n 7   living_area           21796 non-null  float64\n\n 8   floor                 23699 non-null  int64  \n\n 9   is_apartment          2775 non-null   object \n\n 10  studio                23699 non-null  bool   \n\n 11  open_plan             23699 non-null  bool   \n\n 12  kitchen_area          21421 non-null  float64\n\n 13  balcony               12180 non-null  float64\n\n 14  locality_name         23650 non-null  object \n\n 15  airports_nearest      18157 non-null  float64\n\n 16  cityCenters_nearest   18180 non-null  float64\n\n 17  parks_around3000      18181 non-null  float64\n\n 18  parks_nearest         8079 non-null   float64\n\n 19  ponds_around3000      18181 non-null  float64\n\n 20  ponds_nearest         9110 non-null   float64\n\n 21  days_exposition       20518 non-null  float64\n\ndtypes: bool(2), float64(14), int64(3), object(3)\n\nmemory usage: 3.7+ MB\n"
        }
      ]
    },
    {
      "cell_type": "code",
      "source": "data.hist(figsize=(15, 20));",
      "metadata": {},
      "execution_count": 4,
      "outputs": [
        {
          "output_type": "display_data",
          "data": {
            "image/png": "[encoded data removed]",
            "text/plain": [
              "<Figure size 1080x1440 with 20 Axes>"
            ]
          },
          "metadata": {
            "needs_background": "light"
          }
        }
      ]
    },
    {
      "cell_type": "code",
      "source": "data.duplicated().sum()",
      "metadata": {},
      "execution_count": 5,
      "outputs": [
        {
          "execution_count": 5,
          "output_type": "execute_result",
          "data": {
            "text/plain": [
              "0"
            ]
          },
          "metadata": {}
        }
      ]
    },
    {
      "cell_type": "markdown",
      "source": "В данных нет строк с явными дубликатами.",
      "metadata": {}
    },
    {
      "cell_type": "markdown",
      "source": "### Предобработка данных",
      "metadata": {}
    },
    {
      "cell_type": "markdown",
      "source": "#### Обработка пропусков",
      "metadata": {}
    },
    {
      "cell_type": "markdown",
      "source": "Пропуски есть в следующих столбцах:\n- ceiling_height        **высота потолков**\n- floors_total          **всего этажей в доме**\n- living_area           **жилая площадь в квадратных метрах**\n- is_apartment          **апартаменты (булев тип)**\n- kitchen_area          **площадь кухни в квадратных метрах**\n- balcony               **число балконов**\n- locality_name         **название населённого пункта**\n- airports_nearest      **расстояние до ближайшего аэропорта в метрах**\n- cityCenters_nearest   **расстояние до центра города**\n- parks_around3000      **число парков в радиусе 3 км**\n- parks_nearest         **расстояние до ближайшего парка**\n- ponds_around3000      **число водоёмов в радиусе 3 км**\n- ponds_nearest         **расстояние до ближайшего водоёма**\n- days_exposition       **сколько дней было размещено объявление**",
      "metadata": {}
    },
    {
      "cell_type": "code",
      "source": "# код ревьюера\ndata.isna().mean().round(4).to_frame().sort_values(by=0).style.format('{:.2%}').background_gradient('coolwarm')",
      "metadata": {},
      "execution_count": 6,
      "outputs": [
        {
          "execution_count": 6,
          "output_type": "execute_result",
          "data": {
            "text/html": [
              "<style  type=\"text/css\" >\n",
              "#T_cd879_row0_col0,#T_cd879_row1_col0,#T_cd879_row2_col0,#T_cd879_row3_col0,#T_cd879_row4_col0,#T_cd879_row5_col0,#T_cd879_row6_col0,#T_cd879_row7_col0,#T_cd879_row8_col0{\n",
              "            background-color:  #3b4cc0;\n",
              "            color:  #f1f1f1;\n",
              "        }#T_cd879_row9_col0{\n",
              "            background-color:  #3c4ec2;\n",
              "            color:  #f1f1f1;\n",
              "        }#T_cd879_row10_col0{\n",
              "            background-color:  #5673e0;\n",
              "            color:  #000000;\n",
              "        }#T_cd879_row11_col0{\n",
              "            background-color:  #5b7ae5;\n",
              "            color:  #000000;\n",
              "        }#T_cd879_row12_col0{\n",
              "            background-color:  #6a8bef;\n",
              "            color:  #000000;\n",
              "        }#T_cd879_row13_col0,#T_cd879_row14_col0,#T_cd879_row15_col0,#T_cd879_row16_col0{\n",
              "            background-color:  #92b4fe;\n",
              "            color:  #000000;\n",
              "        }#T_cd879_row17_col0{\n",
              "            background-color:  #ccd9ed;\n",
              "            color:  #000000;\n",
              "        }#T_cd879_row18_col0{\n",
              "            background-color:  #e9d5cb;\n",
              "            color:  #000000;\n",
              "        }#T_cd879_row19_col0{\n",
              "            background-color:  #f7ad90;\n",
              "            color:  #000000;\n",
              "        }#T_cd879_row20_col0{\n",
              "            background-color:  #f49a7b;\n",
              "            color:  #000000;\n",
              "        }#T_cd879_row21_col0{\n",
              "            background-color:  #b40426;\n",
              "            color:  #f1f1f1;\n",
              "        }</style><table id=\"T_cd879_\" ><thead>    <tr>        <th class=\"blank level0\" ></th>        <th class=\"col_heading level0 col0\" >0</th>    </tr></thead><tbody>\n",
              "                <tr>\n",
              "                        <th id=\"T_cd879_level0_row0\" class=\"row_heading level0 row0\" >total_images</th>\n",
              "                        <td id=\"T_cd879_row0_col0\" class=\"data row0 col0\" >0.00%</td>\n",
              "            </tr>\n",
              "            <tr>\n",
              "                        <th id=\"T_cd879_level0_row1\" class=\"row_heading level0 row1\" >open_plan</th>\n",
              "                        <td id=\"T_cd879_row1_col0\" class=\"data row1 col0\" >0.00%</td>\n",
              "            </tr>\n",
              "            <tr>\n",
              "                        <th id=\"T_cd879_level0_row2\" class=\"row_heading level0 row2\" >floor</th>\n",
              "                        <td id=\"T_cd879_row2_col0\" class=\"data row2 col0\" >0.00%</td>\n",
              "            </tr>\n",
              "            <tr>\n",
              "                        <th id=\"T_cd879_level0_row3\" class=\"row_heading level0 row3\" >rooms</th>\n",
              "                        <td id=\"T_cd879_row3_col0\" class=\"data row3 col0\" >0.00%</td>\n",
              "            </tr>\n",
              "            <tr>\n",
              "                        <th id=\"T_cd879_level0_row4\" class=\"row_heading level0 row4\" >studio</th>\n",
              "                        <td id=\"T_cd879_row4_col0\" class=\"data row4 col0\" >0.00%</td>\n",
              "            </tr>\n",
              "            <tr>\n",
              "                        <th id=\"T_cd879_level0_row5\" class=\"row_heading level0 row5\" >total_area</th>\n",
              "                        <td id=\"T_cd879_row5_col0\" class=\"data row5 col0\" >0.00%</td>\n",
              "            </tr>\n",
              "            <tr>\n",
              "                        <th id=\"T_cd879_level0_row6\" class=\"row_heading level0 row6\" >last_price</th>\n",
              "                        <td id=\"T_cd879_row6_col0\" class=\"data row6 col0\" >0.00%</td>\n",
              "            </tr>\n",
              "            <tr>\n",
              "                        <th id=\"T_cd879_level0_row7\" class=\"row_heading level0 row7\" >first_day_exposition</th>\n",
              "                        <td id=\"T_cd879_row7_col0\" class=\"data row7 col0\" >0.00%</td>\n",
              "            </tr>\n",
              "            <tr>\n",
              "                        <th id=\"T_cd879_level0_row8\" class=\"row_heading level0 row8\" >locality_name</th>\n",
              "                        <td id=\"T_cd879_row8_col0\" class=\"data row8 col0\" >0.21%</td>\n",
              "            </tr>\n",
              "            <tr>\n",
              "                        <th id=\"T_cd879_level0_row9\" class=\"row_heading level0 row9\" >floors_total</th>\n",
              "                        <td id=\"T_cd879_row9_col0\" class=\"data row9 col0\" >0.36%</td>\n",
              "            </tr>\n",
              "            <tr>\n",
              "                        <th id=\"T_cd879_level0_row10\" class=\"row_heading level0 row10\" >living_area</th>\n",
              "                        <td id=\"T_cd879_row10_col0\" class=\"data row10 col0\" >8.03%</td>\n",
              "            </tr>\n",
              "            <tr>\n",
              "                        <th id=\"T_cd879_level0_row11\" class=\"row_heading level0 row11\" >kitchen_area</th>\n",
              "                        <td id=\"T_cd879_row11_col0\" class=\"data row11 col0\" >9.61%</td>\n",
              "            </tr>\n",
              "            <tr>\n",
              "                        <th id=\"T_cd879_level0_row12\" class=\"row_heading level0 row12\" >days_exposition</th>\n",
              "                        <td id=\"T_cd879_row12_col0\" class=\"data row12 col0\" >13.42%</td>\n",
              "            </tr>\n",
              "            <tr>\n",
              "                        <th id=\"T_cd879_level0_row13\" class=\"row_heading level0 row13\" >ponds_around3000</th>\n",
              "                        <td id=\"T_cd879_row13_col0\" class=\"data row13 col0\" >23.28%</td>\n",
              "            </tr>\n",
              "            <tr>\n",
              "                        <th id=\"T_cd879_level0_row14\" class=\"row_heading level0 row14\" >parks_around3000</th>\n",
              "                        <td id=\"T_cd879_row14_col0\" class=\"data row14 col0\" >23.28%</td>\n",
              "            </tr>\n",
              "            <tr>\n",
              "                        <th id=\"T_cd879_level0_row15\" class=\"row_heading level0 row15\" >cityCenters_nearest</th>\n",
              "                        <td id=\"T_cd879_row15_col0\" class=\"data row15 col0\" >23.29%</td>\n",
              "            </tr>\n",
              "            <tr>\n",
              "                        <th id=\"T_cd879_level0_row16\" class=\"row_heading level0 row16\" >airports_nearest</th>\n",
              "                        <td id=\"T_cd879_row16_col0\" class=\"data row16 col0\" >23.38%</td>\n",
              "            </tr>\n",
              "            <tr>\n",
              "                        <th id=\"T_cd879_level0_row17\" class=\"row_heading level0 row17\" >ceiling_height</th>\n",
              "                        <td id=\"T_cd879_row17_col0\" class=\"data row17 col0\" >38.80%</td>\n",
              "            </tr>\n",
              "            <tr>\n",
              "                        <th id=\"T_cd879_level0_row18\" class=\"row_heading level0 row18\" >balcony</th>\n",
              "                        <td id=\"T_cd879_row18_col0\" class=\"data row18 col0\" >48.61%</td>\n",
              "            </tr>\n",
              "            <tr>\n",
              "                        <th id=\"T_cd879_level0_row19\" class=\"row_heading level0 row19\" >ponds_nearest</th>\n",
              "                        <td id=\"T_cd879_row19_col0\" class=\"data row19 col0\" >61.56%</td>\n",
              "            </tr>\n",
              "            <tr>\n",
              "                        <th id=\"T_cd879_level0_row20\" class=\"row_heading level0 row20\" >parks_nearest</th>\n",
              "                        <td id=\"T_cd879_row20_col0\" class=\"data row20 col0\" >65.91%</td>\n",
              "            </tr>\n",
              "            <tr>\n",
              "                        <th id=\"T_cd879_level0_row21\" class=\"row_heading level0 row21\" >is_apartment</th>\n",
              "                        <td id=\"T_cd879_row21_col0\" class=\"data row21 col0\" >88.29%</td>\n",
              "            </tr>\n",
              "    </tbody></table>"
            ],
            "text/plain": [
              "<pandas.io.formats.style.Styler at 0x7f936b7a23d0>"
            ]
          },
          "metadata": {}
        }
      ]
    },
    {
      "cell_type": "markdown",
      "source": "Возможно заполнить следующие пропуски:\n- is_apartment заменить False\n- balcony заменить 0, так как балкон отсутсвует\n- parks_around3000 заменить 0\n- ponds_around3000 заменить 0",
      "metadata": {}
    },
    {
      "cell_type": "code",
      "source": "data['is_apartment'] = data['is_apartment'].fillna(value=False)\ndata['balcony'] = data['balcony'].fillna(value=0)\ndata['parks_around3000'] = data['parks_around3000'].fillna(value=0)\ndata['ponds_around3000'] = data['ponds_around3000'].fillna(value=0)",
      "metadata": {},
      "execution_count": 7,
      "outputs": []
    },
    {
      "cell_type": "markdown",
      "source": "А пропуски в столбцах floors_total, living_area, locality_name можно отбросить, так как они представляют малую долю выборки и их невозможно заполнить. При этом они будут мешать дальнейшер раборте с данными.",
      "metadata": {}
    },
    {
      "cell_type": "code",
      "source": "data = data.dropna(subset=['floors_total', 'living_area', 'locality_name'])\ndata = data.reset_index(drop=True)",
      "metadata": {},
      "execution_count": 8,
      "outputs": []
    },
    {
      "cell_type": "code",
      "source": "data.info()",
      "metadata": {},
      "execution_count": 9,
      "outputs": [
        {
          "name": "stdout",
          "output_type": "stream",
          "text": "<class 'pandas.core.frame.DataFrame'>\n\nRangeIndex: 21700 entries, 0 to 21699\n\nData columns (total 22 columns):\n\n #   Column                Non-Null Count  Dtype  \n\n---  ------                --------------  -----  \n\n 0   total_images          21700 non-null  int64  \n\n 1   last_price            21700 non-null  float64\n\n 2   total_area            21700 non-null  float64\n\n 3   first_day_exposition  21700 non-null  object \n\n 4   rooms                 21700 non-null  int64  \n\n 5   ceiling_height        13687 non-null  float64\n\n 6   floors_total          21700 non-null  float64\n\n 7   living_area           21700 non-null  float64\n\n 8   floor                 21700 non-null  int64  \n\n 9   is_apartment          21700 non-null  bool   \n\n 10  studio                21700 non-null  bool   \n\n 11  open_plan             21700 non-null  bool   \n\n 12  kitchen_area          20905 non-null  float64\n\n 13  balcony               21700 non-null  float64\n\n 14  locality_name         21700 non-null  object \n\n 15  airports_nearest      16794 non-null  float64\n\n 16  cityCenters_nearest   16815 non-null  float64\n\n 17  parks_around3000      21700 non-null  float64\n\n 18  parks_nearest         7467 non-null   float64\n\n 19  ponds_around3000      21700 non-null  float64\n\n 20  ponds_nearest         8359 non-null   float64\n\n 21  days_exposition       18724 non-null  float64\n\ndtypes: bool(3), float64(14), int64(3), object(2)\n\nmemory usage: 3.2+ MB\n"
        }
      ]
    },
    {
      "cell_type": "markdown",
      "source": "**Вывод:**\nОбнаружены пропуски во многих столбцах, заполнены пропуски в некоторых из них, удалены строки, в которых имеются пропуски в столбцах с необходимыми данными, не поддающимися заполнению.\nПричиной большинства пропусков может являться неполное заполнение информации в объявлениях. Пропуски в столбцах с жилой площадью и этажом могли появиться при переносе или выгрузке данных.",
      "metadata": {}
    },
    {
      "cell_type": "markdown",
      "source": "#### Обработка типов данных",
      "metadata": {}
    },
    {
      "cell_type": "markdown",
      "source": "Я считаю, что необходимо изменить тип данных для следующих столбцов:\n- first_day_exposition перевести тип в датовый, для дальнейшей работы\n- floors_total изменить на целочисленнный\n- balcony изменить на целочисленнный\n- parks_around3000 изменить на целочисленнный\n- ponds_around3000 изменить на целочисленнный",
      "metadata": {}
    },
    {
      "cell_type": "code",
      "source": "data['first_day_exposition'] = pd.to_datetime(\n    data['first_day_exposition'], format='%Y-%m-%dT%H:%M:%S'\n)",
      "metadata": {},
      "execution_count": 10,
      "outputs": []
    },
    {
      "cell_type": "code",
      "source": "data['floors_total'] = data['floors_total'].astype('int', errors='ignore')\ndata['balcony'] = data['balcony'].astype('int', errors='ignore')\ndata['parks_around3000'] = data['parks_around3000'].astype('int', errors='ignore')\ndata['ponds_around3000'] = data['ponds_around3000'].astype('int', errors='ignore')",
      "metadata": {},
      "execution_count": 11,
      "outputs": []
    },
    {
      "cell_type": "code",
      "source": "data.info()",
      "metadata": {},
      "execution_count": 12,
      "outputs": [
        {
          "name": "stdout",
          "output_type": "stream",
          "text": "<class 'pandas.core.frame.DataFrame'>\n\nRangeIndex: 21700 entries, 0 to 21699\n\nData columns (total 22 columns):\n\n #   Column                Non-Null Count  Dtype         \n\n---  ------                --------------  -----         \n\n 0   total_images          21700 non-null  int64         \n\n 1   last_price            21700 non-null  float64       \n\n 2   total_area            21700 non-null  float64       \n\n 3   first_day_exposition  21700 non-null  datetime64[ns]\n\n 4   rooms                 21700 non-null  int64         \n\n 5   ceiling_height        13687 non-null  float64       \n\n 6   floors_total          21700 non-null  int64         \n\n 7   living_area           21700 non-null  float64       \n\n 8   floor                 21700 non-null  int64         \n\n 9   is_apartment          21700 non-null  bool          \n\n 10  studio                21700 non-null  bool          \n\n 11  open_plan             21700 non-null  bool          \n\n 12  kitchen_area          20905 non-null  float64       \n\n 13  balcony               21700 non-null  int64         \n\n 14  locality_name         21700 non-null  object        \n\n 15  airports_nearest      16794 non-null  float64       \n\n 16  cityCenters_nearest   16815 non-null  float64       \n\n 17  parks_around3000      21700 non-null  int64         \n\n 18  parks_nearest         7467 non-null   float64       \n\n 19  ponds_around3000      21700 non-null  int64         \n\n 20  ponds_nearest         8359 non-null   float64       \n\n 21  days_exposition       18724 non-null  float64       \n\ndtypes: bool(3), datetime64[ns](1), float64(10), int64(7), object(1)\n\nmemory usage: 3.2+ MB\n"
        }
      ]
    },
    {
      "cell_type": "markdown",
      "source": "**Вывод:**\nИзменен формат столбца с датой, и нескольких столбцов, в которых должны находится целые значения.",
      "metadata": {}
    },
    {
      "cell_type": "markdown",
      "source": "#### Обработка дубликатов",
      "metadata": {}
    },
    {
      "cell_type": "code",
      "source": "print(len(data['locality_name'].unique()))\nsorted(data['locality_name'].unique())",
      "metadata": {},
      "execution_count": 13,
      "outputs": [
        {
          "name": "stdout",
          "output_type": "stream",
          "text": "348\n"
        },
        {
          "execution_count": 13,
          "output_type": "execute_result",
          "data": {
            "text/plain": [
              "['Бокситогорск',\n",
              " 'Волосово',\n",
              " 'Волхов',\n",
              " 'Всеволожск',\n",
              " 'Выборг',\n",
              " 'Высоцк',\n",
              " 'Гатчина',\n",
              " 'Зеленогорск',\n",
              " 'Ивангород',\n",
              " 'Каменногорск',\n",
              " 'Кингисепп',\n",
              " 'Кириши',\n",
              " 'Кировск',\n",
              " 'Колпино',\n",
              " 'Коммунар',\n",
              " 'Красное Село',\n",
              " 'Кронштадт',\n",
              " 'Кудрово',\n",
              " 'Лодейное Поле',\n",
              " 'Ломоносов',\n",
              " 'Луга',\n",
              " 'Любань',\n",
              " 'Мурино',\n",
              " 'Никольское',\n",
              " 'Новая Ладога',\n",
              " 'Отрадное',\n",
              " 'Павловск',\n",
              " 'Петергоф',\n",
              " 'Пикалёво',\n",
              " 'Подпорожье',\n",
              " 'Приморск',\n",
              " 'Приозерск',\n",
              " 'Пушкин',\n",
              " 'Санкт-Петербург',\n",
              " 'Светогорск',\n",
              " 'Сертолово',\n",
              " 'Сестрорецк',\n",
              " 'Сланцы',\n",
              " 'Сосновый Бор',\n",
              " 'Сясьстрой',\n",
              " 'Тихвин',\n",
              " 'Тосно',\n",
              " 'Шлиссельбург',\n",
              " 'городской поселок Большая Ижора',\n",
              " 'городской поселок Янино-1',\n",
              " 'городской посёлок Будогощь',\n",
              " 'городской посёлок Виллози',\n",
              " 'городской посёлок Лесогорский',\n",
              " 'городской посёлок Мга',\n",
              " 'городской посёлок Назия',\n",
              " 'городской посёлок Новоселье',\n",
              " 'городской посёлок Павлово',\n",
              " 'городской посёлок Рощино',\n",
              " 'городской посёлок Советский',\n",
              " 'городской посёлок Фёдоровское',\n",
              " 'городской посёлок Янино-1',\n",
              " 'деревня Агалатово',\n",
              " 'деревня Аро',\n",
              " 'деревня Батово',\n",
              " 'деревня Бегуницы',\n",
              " 'деревня Белогорка',\n",
              " 'деревня Большая Вруда',\n",
              " 'деревня Большая Пустомержа',\n",
              " 'деревня Большие Колпаны',\n",
              " 'деревня Большое Рейзино',\n",
              " 'деревня Большой Сабск',\n",
              " 'деревня Бор',\n",
              " 'деревня Борисова Грива',\n",
              " 'деревня Ваганово',\n",
              " 'деревня Вартемяги',\n",
              " 'деревня Выскатка',\n",
              " 'деревня Гарболово',\n",
              " 'деревня Глинка',\n",
              " 'деревня Горбунки',\n",
              " 'деревня Гостилицы',\n",
              " 'деревня Заклинье',\n",
              " 'деревня Заневка',\n",
              " 'деревня Зимитицы',\n",
              " 'деревня Извара',\n",
              " 'деревня Калитино',\n",
              " 'деревня Кальтино',\n",
              " 'деревня Камышовка',\n",
              " 'деревня Каськово',\n",
              " 'деревня Келози',\n",
              " 'деревня Кипень',\n",
              " 'деревня Кисельня',\n",
              " 'деревня Колтуши',\n",
              " 'деревня Коркино',\n",
              " 'деревня Котлы',\n",
              " 'деревня Кривко',\n",
              " 'деревня Кудрово',\n",
              " 'деревня Кузьмолово',\n",
              " 'деревня Курковицы',\n",
              " 'деревня Куровицы',\n",
              " 'деревня Куттузи',\n",
              " 'деревня Лаголово',\n",
              " 'деревня Лампово',\n",
              " 'деревня Лесколово',\n",
              " 'деревня Лопухинка',\n",
              " 'деревня Лупполово',\n",
              " 'деревня Малая Романовка',\n",
              " 'деревня Малое Верево',\n",
              " 'деревня Малое Карлино',\n",
              " 'деревня Малые Колпаны',\n",
              " 'деревня Мануйлово',\n",
              " 'деревня Меньково',\n",
              " 'деревня Мины',\n",
              " 'деревня Мистолово',\n",
              " 'деревня Ненимяки',\n",
              " 'деревня Нижние Осельки',\n",
              " 'деревня Нижняя',\n",
              " 'деревня Низино',\n",
              " 'деревня Новое Девяткино',\n",
              " 'деревня Новолисино',\n",
              " 'деревня Нурма',\n",
              " 'деревня Оржицы',\n",
              " 'деревня Парицы',\n",
              " 'деревня Пельгора',\n",
              " 'деревня Пеники',\n",
              " 'деревня Пижма',\n",
              " 'деревня Пикколово',\n",
              " 'деревня Пудомяги',\n",
              " 'деревня Пустынка',\n",
              " 'деревня Рабитицы',\n",
              " 'деревня Разбегаево',\n",
              " 'деревня Разметелево',\n",
              " 'деревня Рапполово',\n",
              " 'деревня Реброво',\n",
              " 'деревня Сижно',\n",
              " 'деревня Снегирёвка',\n",
              " 'деревня Старая',\n",
              " 'деревня Старая Пустошь',\n",
              " 'деревня Старое Хинколово',\n",
              " 'деревня Старополье',\n",
              " 'деревня Старосиверская',\n",
              " 'деревня Старые Бегуницы',\n",
              " 'деревня Суоранда',\n",
              " 'деревня Сяськелево',\n",
              " 'деревня Терпилицы',\n",
              " 'деревня Тихковицы',\n",
              " 'деревня Тойворово',\n",
              " 'деревня Торосово',\n",
              " 'деревня Торошковичи',\n",
              " 'деревня Трубников Бор',\n",
              " 'деревня Фалилеево',\n",
              " 'деревня Фёдоровское',\n",
              " 'деревня Хапо-Ое',\n",
              " 'деревня Чудской Бор',\n",
              " 'деревня Шпаньково',\n",
              " 'деревня Щеглово',\n",
              " 'деревня Юкки',\n",
              " 'деревня Ялгино',\n",
              " 'деревня Яльгелево',\n",
              " 'деревня Ям-Тесово',\n",
              " 'коттеджный поселок Кивеннапа Север',\n",
              " 'коттеджный поселок Счастье',\n",
              " 'коттеджный посёлок Лесное',\n",
              " 'поселок Аннино',\n",
              " 'поселок Барышево',\n",
              " 'поселок Бугры',\n",
              " 'поселок Возрождение',\n",
              " 'поселок Войсковицы',\n",
              " 'поселок Володарское',\n",
              " 'поселок Гаврилово',\n",
              " 'поселок Гарболово',\n",
              " 'поселок Гладкое',\n",
              " 'поселок Глажево',\n",
              " 'поселок Глебычево',\n",
              " 'поселок Гончарово',\n",
              " 'поселок Громово',\n",
              " 'поселок Дружноселье',\n",
              " 'поселок Елизаветино',\n",
              " 'поселок Жилгородок',\n",
              " 'поселок Жилпосёлок',\n",
              " 'поселок Житково',\n",
              " 'поселок Заводской',\n",
              " 'поселок Запорожское',\n",
              " 'поселок Зимитицы',\n",
              " 'поселок Ильичёво',\n",
              " 'поселок Калитино',\n",
              " 'поселок Каложицы',\n",
              " 'поселок Кингисеппский',\n",
              " 'поселок Кирпичное',\n",
              " 'поселок Кобралово',\n",
              " 'поселок Кобринское',\n",
              " 'поселок Коммунары',\n",
              " 'поселок Коробицыно',\n",
              " 'поселок Котельский',\n",
              " 'поселок Красная Долина',\n",
              " 'поселок Лесное',\n",
              " 'поселок Лисий Нос',\n",
              " 'поселок Лукаши',\n",
              " 'поселок Любань',\n",
              " 'поселок Мельниково',\n",
              " 'поселок Мичуринское',\n",
              " 'поселок Молодцово',\n",
              " 'поселок Мурино',\n",
              " 'поселок Новый Свет',\n",
              " 'поселок Новый Учхоз',\n",
              " 'поселок Оредеж',\n",
              " 'поселок Пансионат Зелёный Бор',\n",
              " 'поселок Первомайское',\n",
              " 'поселок Перово',\n",
              " 'поселок Петровское',\n",
              " 'поселок Победа',\n",
              " 'поселок Поляны',\n",
              " 'поселок Почап',\n",
              " 'поселок Починок',\n",
              " 'поселок Пушное',\n",
              " 'поселок Рабитицы',\n",
              " 'поселок Романовка',\n",
              " 'поселок Ромашки',\n",
              " 'поселок Рябово',\n",
              " 'поселок Селезнёво',\n",
              " 'поселок Сельцо',\n",
              " 'поселок Семиозерье',\n",
              " 'поселок Семрино',\n",
              " 'поселок Серебрянский',\n",
              " 'поселок Совхозный',\n",
              " 'поселок Старая Малукса',\n",
              " 'поселок Стеклянный',\n",
              " 'поселок Сумино',\n",
              " 'поселок Суходолье',\n",
              " 'поселок Тельмана',\n",
              " 'поселок Терволово',\n",
              " 'поселок Торковичи',\n",
              " 'поселок Тёсово-4',\n",
              " 'поселок Углово',\n",
              " 'поселок Усть-Луга',\n",
              " 'поселок Ушаки',\n",
              " 'поселок Цвелодубово',\n",
              " 'поселок Цвылёво',\n",
              " 'поселок городского типа Большая Ижора',\n",
              " 'поселок городского типа Вырица',\n",
              " 'поселок городского типа Дружная Горка',\n",
              " 'поселок городского типа Дубровка',\n",
              " 'поселок городского типа Ефимовский',\n",
              " 'поселок городского типа Кондратьево',\n",
              " 'поселок городского типа Красный Бор',\n",
              " 'поселок городского типа Кузьмоловский',\n",
              " 'поселок городского типа Лебяжье',\n",
              " 'поселок городского типа Лесогорский',\n",
              " 'поселок городского типа Назия',\n",
              " 'поселок городского типа Никольский',\n",
              " 'поселок городского типа Приладожский',\n",
              " 'поселок городского типа Рахья',\n",
              " 'поселок городского типа Рощино',\n",
              " 'поселок городского типа Рябово',\n",
              " 'поселок городского типа Синявино',\n",
              " 'поселок городского типа Советский',\n",
              " 'поселок городского типа Токсово',\n",
              " 'поселок городского типа Форносово',\n",
              " 'поселок городского типа имени Свердлова',\n",
              " 'поселок станции Вещево',\n",
              " 'поселок станции Корнево',\n",
              " 'поселок станции Приветнинское',\n",
              " 'посёлок Александровская',\n",
              " 'посёлок Алексеевка',\n",
              " 'посёлок Аннино',\n",
              " 'посёлок Белоостров',\n",
              " 'посёлок Бугры',\n",
              " 'посёлок Возрождение',\n",
              " 'посёлок Войскорово',\n",
              " 'посёлок Высокоключевой',\n",
              " 'посёлок Гаврилово',\n",
              " 'посёлок Дзержинского',\n",
              " 'посёлок Жилгородок',\n",
              " 'посёлок Ильичёво',\n",
              " 'посёлок Кикерино',\n",
              " 'посёлок Кобралово',\n",
              " 'посёлок Коробицыно',\n",
              " 'посёлок Ленинское',\n",
              " 'посёлок Лисий Нос',\n",
              " 'посёлок Мельниково',\n",
              " 'посёлок Металлострой',\n",
              " 'посёлок Мичуринское',\n",
              " 'посёлок Молодёжное',\n",
              " 'посёлок Мурино',\n",
              " 'посёлок Мыза-Ивановка',\n",
              " 'посёлок Новогорелово',\n",
              " 'посёлок Новый Свет',\n",
              " 'посёлок Пансионат Зелёный Бор',\n",
              " 'посёлок Парголово',\n",
              " 'посёлок Перово',\n",
              " 'посёлок Песочный',\n",
              " 'посёлок Петровское',\n",
              " 'посёлок Платформа 69-й километр',\n",
              " 'посёлок Плодовое',\n",
              " 'посёлок Победа',\n",
              " 'посёлок Поляны',\n",
              " 'посёлок Понтонный',\n",
              " 'посёлок Пригородный',\n",
              " 'посёлок Пудость',\n",
              " 'посёлок Репино',\n",
              " 'посёлок Ропша',\n",
              " 'посёлок Сапёрное',\n",
              " 'посёлок Сапёрный',\n",
              " 'посёлок Сосново',\n",
              " 'посёлок Старая Малукса',\n",
              " 'посёлок Стеклянный',\n",
              " 'посёлок Стрельна',\n",
              " 'посёлок Суйда',\n",
              " 'посёлок Сумино',\n",
              " 'посёлок Тельмана',\n",
              " 'посёлок Терволово',\n",
              " 'посёлок Торфяное',\n",
              " 'посёлок Усть-Ижора',\n",
              " 'посёлок Усть-Луга',\n",
              " 'посёлок Форт Красная Горка',\n",
              " 'посёлок Шугозеро',\n",
              " 'посёлок Шушары',\n",
              " 'посёлок Щеглово',\n",
              " 'посёлок городского типа Важины',\n",
              " 'посёлок городского типа Вознесенье',\n",
              " 'посёлок городского типа Вырица',\n",
              " 'посёлок городского типа Красный Бор',\n",
              " 'посёлок городского типа Кузнечное',\n",
              " 'посёлок городского типа Кузьмоловский',\n",
              " 'посёлок городского типа Лебяжье',\n",
              " 'посёлок городского типа Мга',\n",
              " 'посёлок городского типа Павлово',\n",
              " 'посёлок городского типа Рощино',\n",
              " 'посёлок городского типа Рябово',\n",
              " 'посёлок городского типа Сиверский',\n",
              " 'посёлок городского типа Тайцы',\n",
              " 'посёлок городского типа Токсово',\n",
              " 'посёлок городского типа Ульяновка',\n",
              " 'посёлок городского типа Форносово',\n",
              " 'посёлок городского типа имени Морозова',\n",
              " 'посёлок городского типа имени Свердлова',\n",
              " 'посёлок при железнодорожной станции Вещево',\n",
              " 'посёлок при железнодорожной станции Приветнинское',\n",
              " 'посёлок станции Громово',\n",
              " 'посёлок станции Свирь',\n",
              " 'садоводческое некоммерческое товарищество Лесная Поляна',\n",
              " 'садовое товарищество Новая Ропша',\n",
              " 'садовое товарищество Приладожский',\n",
              " 'садовое товарищество Рахья',\n",
              " 'садовое товарищество Садко',\n",
              " 'село Копорье',\n",
              " 'село Никольское',\n",
              " 'село Павлово',\n",
              " 'село Паша',\n",
              " 'село Путилово',\n",
              " 'село Рождествено',\n",
              " 'село Русско-Высоцкое',\n",
              " 'село Старая Ладога',\n",
              " 'село Шум']"
            ]
          },
          "metadata": {}
        }
      ]
    },
    {
      "cell_type": "markdown",
      "source": "Изучив список уникальных значений столбца 'locality_name', было принято решение заменить все 'ё' на 'е' и сократить названия, такие как 'посёлок городского типа' и подобные оставив только имена собственные.",
      "metadata": {}
    },
    {
      "cell_type": "code",
      "source": "data['locality_name'] = data['locality_name'].str.replace('ё', 'е')\ndata['locality_name'] = data['locality_name'].str.replace('городской ', '')\ndata['locality_name'] = data['locality_name'].str.replace('деревня ', '')\ndata['locality_name'] = data['locality_name'].str.replace('поселок ', '')\ndata['locality_name'] = data['locality_name'].str.replace('городского типа ', '')\ndata['locality_name'] = data['locality_name'].str.replace('имени ', '')\ndata['locality_name'] = data['locality_name'].str.replace('станции ', '')\ndata['locality_name'] = data['locality_name'].str.replace('садоводческое некоммерческое товарищество ', '')\ndata['locality_name'] = data['locality_name'].str.replace('при железнодорожной ', '')\ndata['locality_name'] = data['locality_name'].str.replace('садовое товарищество ', '')\ndata['locality_name'] = data['locality_name'].str.replace('село ', '')\ndata['locality_name'] = data['locality_name'].str.replace('коттеджный ', '')",
      "metadata": {},
      "execution_count": 14,
      "outputs": []
    },
    {
      "cell_type": "code",
      "source": "print(len(data['locality_name'].unique()))\nsorted(data['locality_name'].unique())",
      "metadata": {},
      "execution_count": 16,
      "outputs": [
        {
          "name": "stdout",
          "output_type": "stream",
          "text": "289\n"
        },
        {
          "execution_count": 16,
          "output_type": "execute_result",
          "data": {
            "text/plain": [
              "['Агалатово',\n",
              " 'Александровская',\n",
              " 'Алексеевка',\n",
              " 'Аннино',\n",
              " 'Аро',\n",
              " 'Барышево',\n",
              " 'Батово',\n",
              " 'Бегуницы',\n",
              " 'Белогорка',\n",
              " 'Белоостров',\n",
              " 'Бокситогорск',\n",
              " 'Большая Вруда',\n",
              " 'Большая Ижора',\n",
              " 'Большая Пустомержа',\n",
              " 'Большие Колпаны',\n",
              " 'Большое Рейзино',\n",
              " 'Большой Сабск',\n",
              " 'Бор',\n",
              " 'Борисова Грива',\n",
              " 'Бугры',\n",
              " 'Будогощь',\n",
              " 'Ваганово',\n",
              " 'Важины',\n",
              " 'Вартемяги',\n",
              " 'Вещево',\n",
              " 'Виллози',\n",
              " 'Вознесенье',\n",
              " 'Возрождение',\n",
              " 'Войсковицы',\n",
              " 'Войскорово',\n",
              " 'Володарское',\n",
              " 'Волосово',\n",
              " 'Волхов',\n",
              " 'Всеволожск',\n",
              " 'Выборг',\n",
              " 'Вырица',\n",
              " 'Выскатка',\n",
              " 'Высокоключевой',\n",
              " 'Высоцк',\n",
              " 'Гаврилово',\n",
              " 'Гарболово',\n",
              " 'Гатчина',\n",
              " 'Гладкое',\n",
              " 'Глажево',\n",
              " 'Глебычево',\n",
              " 'Глинка',\n",
              " 'Гончарово',\n",
              " 'Горбунки',\n",
              " 'Гостилицы',\n",
              " 'Громово',\n",
              " 'Дзержинского',\n",
              " 'Дружная Горка',\n",
              " 'Дружноселье',\n",
              " 'Дубровка',\n",
              " 'Елизаветино',\n",
              " 'Ефимовский',\n",
              " 'Жилгородок',\n",
              " 'Жилпоселок',\n",
              " 'Житково',\n",
              " 'Заводской',\n",
              " 'Заклинье',\n",
              " 'Заневка',\n",
              " 'Запорожское',\n",
              " 'Зеленогорск',\n",
              " 'Зимитицы',\n",
              " 'Ивангород',\n",
              " 'Извара',\n",
              " 'Ильичево',\n",
              " 'Калитино',\n",
              " 'Каложицы',\n",
              " 'Кальтино',\n",
              " 'Каменногорск',\n",
              " 'Камышовка',\n",
              " 'Каськово',\n",
              " 'Келози',\n",
              " 'Кивеннапа Север',\n",
              " 'Кикерино',\n",
              " 'Кингисепп',\n",
              " 'Кингисеппский',\n",
              " 'Кипень',\n",
              " 'Кириши',\n",
              " 'Кировск',\n",
              " 'Кирпичное',\n",
              " 'Кисельня',\n",
              " 'Кобралово',\n",
              " 'Кобринское',\n",
              " 'Колпино',\n",
              " 'Колтуши',\n",
              " 'Коммунар',\n",
              " 'Коммунары',\n",
              " 'Кондратьево',\n",
              " 'Копорье',\n",
              " 'Коркино',\n",
              " 'Корнево',\n",
              " 'Коробицыно',\n",
              " 'Котельский',\n",
              " 'Котлы',\n",
              " 'Красная Долина',\n",
              " 'Красное Село',\n",
              " 'Красный Бор',\n",
              " 'Кривко',\n",
              " 'Кронштадт',\n",
              " 'Кудрово',\n",
              " 'Кузнечное',\n",
              " 'Кузьмолово',\n",
              " 'Кузьмоловский',\n",
              " 'Курковицы',\n",
              " 'Куровицы',\n",
              " 'Куттузи',\n",
              " 'Лаголово',\n",
              " 'Лампово',\n",
              " 'Лебяжье',\n",
              " 'Ленинское',\n",
              " 'Лесколово',\n",
              " 'Лесная Поляна',\n",
              " 'Лесное',\n",
              " 'Лесогорский',\n",
              " 'Лисий Нос',\n",
              " 'Лодейное Поле',\n",
              " 'Ломоносов',\n",
              " 'Лопухинка',\n",
              " 'Луга',\n",
              " 'Лукаши',\n",
              " 'Лупполово',\n",
              " 'Любань',\n",
              " 'Малая Романовка',\n",
              " 'Малое Верево',\n",
              " 'Малое Карлино',\n",
              " 'Малые Колпаны',\n",
              " 'Мануйлово',\n",
              " 'Мга',\n",
              " 'Мельниково',\n",
              " 'Меньково',\n",
              " 'Металлострой',\n",
              " 'Мины',\n",
              " 'Мистолово',\n",
              " 'Мичуринское',\n",
              " 'Молодежное',\n",
              " 'Молодцово',\n",
              " 'Морозова',\n",
              " 'Мурино',\n",
              " 'Мыза-Ивановка',\n",
              " 'Назия',\n",
              " 'Ненимяки',\n",
              " 'Нижние Осельки',\n",
              " 'Нижняя',\n",
              " 'Низино',\n",
              " 'Никольский',\n",
              " 'Никольское',\n",
              " 'Новая Ладога',\n",
              " 'Новая Ропша',\n",
              " 'Новогорелово',\n",
              " 'Новое Девяткино',\n",
              " 'Новолисино',\n",
              " 'Новоселье',\n",
              " 'Новый Свет',\n",
              " 'Новый Учхоз',\n",
              " 'Нурма',\n",
              " 'Оредеж',\n",
              " 'Оржицы',\n",
              " 'Отрадное',\n",
              " 'Павлово',\n",
              " 'Павловск',\n",
              " 'Пансионат Зеленый Бор',\n",
              " 'Парголово',\n",
              " 'Парицы',\n",
              " 'Паша',\n",
              " 'Пельгора',\n",
              " 'Пеники',\n",
              " 'Первомайское',\n",
              " 'Перово',\n",
              " 'Песочный',\n",
              " 'Петергоф',\n",
              " 'Петровское',\n",
              " 'Пижма',\n",
              " 'Пикалево',\n",
              " 'Пикколово',\n",
              " 'Платформа 69-й километр',\n",
              " 'Плодовое',\n",
              " 'Победа',\n",
              " 'Подпорожье',\n",
              " 'Поляны',\n",
              " 'Понтонный',\n",
              " 'Почап',\n",
              " 'Починок',\n",
              " 'Приветнинское',\n",
              " 'Пригородный',\n",
              " 'Приладожский',\n",
              " 'Приморск',\n",
              " 'Приозерск',\n",
              " 'Пудомяги',\n",
              " 'Пудость',\n",
              " 'Пустынка',\n",
              " 'Путилово',\n",
              " 'Пушкин',\n",
              " 'Пушное',\n",
              " 'Рабитицы',\n",
              " 'Разбегаево',\n",
              " 'Разметелево',\n",
              " 'Рапполово',\n",
              " 'Рахья',\n",
              " 'Реброво',\n",
              " 'Репино',\n",
              " 'Рождествено',\n",
              " 'Романовка',\n",
              " 'Ромашки',\n",
              " 'Ропша',\n",
              " 'Рощино',\n",
              " 'Русско-Высоцкое',\n",
              " 'Рябово',\n",
              " 'Садко',\n",
              " 'Санкт-Петербург',\n",
              " 'Саперное',\n",
              " 'Саперный',\n",
              " 'Свердлова',\n",
              " 'Светогорск',\n",
              " 'Свирь',\n",
              " 'Селезнево',\n",
              " 'Сельцо',\n",
              " 'Семиозерье',\n",
              " 'Семрино',\n",
              " 'Серебрянский',\n",
              " 'Сертолово',\n",
              " 'Сестрорецк',\n",
              " 'Сиверский',\n",
              " 'Сижно',\n",
              " 'Синявино',\n",
              " 'Сланцы',\n",
              " 'Снегиревка',\n",
              " 'Советский',\n",
              " 'Совхозный',\n",
              " 'Сосново',\n",
              " 'Сосновый Бор',\n",
              " 'Старая',\n",
              " 'Старая Ладога',\n",
              " 'Старая Малукса',\n",
              " 'Старая Пустошь',\n",
              " 'Старое Хинколово',\n",
              " 'Старополье',\n",
              " 'Старосиверская',\n",
              " 'Старые Бегуницы',\n",
              " 'Стеклянный',\n",
              " 'Стрельна',\n",
              " 'Суйда',\n",
              " 'Сумино',\n",
              " 'Суоранда',\n",
              " 'Суходолье',\n",
              " 'Счастье',\n",
              " 'Сяськелево',\n",
              " 'Сясьстрой',\n",
              " 'Тайцы',\n",
              " 'Тельмана',\n",
              " 'Терволово',\n",
              " 'Терпилицы',\n",
              " 'Тесово-4',\n",
              " 'Тихвин',\n",
              " 'Тихковицы',\n",
              " 'Тойворово',\n",
              " 'Токсово',\n",
              " 'Торковичи',\n",
              " 'Торосово',\n",
              " 'Торошковичи',\n",
              " 'Торфяное',\n",
              " 'Тосно',\n",
              " 'Трубников Бор',\n",
              " 'Углово',\n",
              " 'Ульяновка',\n",
              " 'Усть-Ижора',\n",
              " 'Усть-Луга',\n",
              " 'Ушаки',\n",
              " 'Фалилеево',\n",
              " 'Федоровское',\n",
              " 'Форносово',\n",
              " 'Форт Красная Горка',\n",
              " 'Хапо-Ое',\n",
              " 'Цвелодубово',\n",
              " 'Цвылево',\n",
              " 'Чудской Бор',\n",
              " 'Шлиссельбург',\n",
              " 'Шпаньково',\n",
              " 'Шугозеро',\n",
              " 'Шум',\n",
              " 'Шушары',\n",
              " 'Щеглово',\n",
              " 'Юкки',\n",
              " 'Ялгино',\n",
              " 'Яльгелево',\n",
              " 'Ям-Тесово',\n",
              " 'Янино-1']"
            ]
          },
          "metadata": {}
        }
      ]
    },
    {
      "cell_type": "code",
      "source": "data.duplicated().sum()",
      "metadata": {},
      "execution_count": 79,
      "outputs": [
        {
          "execution_count": 79,
          "output_type": "execute_result",
          "data": {
            "text/plain": [
              "0"
            ]
          },
          "metadata": {}
        }
      ]
    },
    {
      "cell_type": "markdown",
      "source": "**Вывод:**\nОбнаружены и устранены неявные дубликаты в столбце 'locality_name'. Полные дубликаты строк так же отсутсвуют, после устранения неявных дубликаттов названий.",
      "metadata": {}
    },
    {
      "cell_type": "markdown",
      "source": "#### Обработка аномальных значений",
      "metadata": {}
    },
    {
      "cell_type": "code",
      "source": "data['last_price'].hist(bins=10)",
      "metadata": {},
      "execution_count": 17,
      "outputs": [
        {
          "execution_count": 17,
          "output_type": "execute_result",
          "data": {
            "text/plain": [
              "<AxesSubplot:>"
            ]
          },
          "metadata": {}
        },
        {
          "output_type": "display_data",
          "data": {
            "image/png": "[encoded data removed]",
            "text/plain": [
              "<Figure size 432x288 with 1 Axes>"
            ]
          },
          "metadata": {
            "needs_background": "light"
          }
        }
      ]
    },
    {
      "cell_type": "code",
      "source": "data['last_price'].hist(bins=100, range=(0, 10000000))",
      "metadata": {},
      "execution_count": 18,
      "outputs": [
        {
          "execution_count": 18,
          "output_type": "execute_result",
          "data": {
            "text/plain": [
              "<AxesSubplot:>"
            ]
          },
          "metadata": {}
        },
        {
          "output_type": "display_data",
          "data": {
            "image/png": "[encoded data removed]",
            "text/plain": [
              "<Figure size 432x288 with 1 Axes>"
            ]
          },
          "metadata": {
            "needs_background": "light"
          }
        }
      ]
    },
    {
      "cell_type": "code",
      "source": "data['last_price'].hist(bins=10, range=(0, 1000000))",
      "metadata": {},
      "execution_count": 19,
      "outputs": [
        {
          "execution_count": 19,
          "output_type": "execute_result",
          "data": {
            "text/plain": [
              "<AxesSubplot:>"
            ]
          },
          "metadata": {}
        },
        {
          "output_type": "display_data",
          "data": {
            "image/png": "[encoded data removed]",
            "text/plain": [
              "<Figure size 432x288 with 1 Axes>"
            ]
          },
          "metadata": {
            "needs_background": "light"
          }
        }
      ]
    },
    {
      "cell_type": "code",
      "source": "data['last_price'].hist(bins=100, range=(100000000, 1000000000))",
      "metadata": {},
      "execution_count": 20,
      "outputs": [
        {
          "execution_count": 20,
          "output_type": "execute_result",
          "data": {
            "text/plain": [
              "<AxesSubplot:>"
            ]
          },
          "metadata": {}
        },
        {
          "output_type": "display_data",
          "data": {
            "image/png": "[encoded data removed]",
            "text/plain": [
              "<Figure size 432x288 with 1 Axes>"
            ]
          },
          "metadata": {
            "needs_background": "light"
          }
        }
      ]
    },
    {
      "cell_type": "code",
      "source": "data[data['last_price']==data['last_price'].min()]",
      "metadata": {},
      "execution_count": 21,
      "outputs": [
        {
          "execution_count": 21,
          "output_type": "execute_result",
          "data": {
            "text/html": [
              "<div>\n",
              "<style scoped>\n",
              "    .dataframe tbody tr th:only-of-type {\n",
              "        vertical-align: middle;\n",
              "    }\n",
              "\n",
              "    .dataframe tbody tr th {\n",
              "        vertical-align: top;\n",
              "    }\n",
              "\n",
              "    .dataframe thead th {\n",
              "        text-align: right;\n",
              "    }\n",
              "</style>\n",
              "<table border=\"1\" class=\"dataframe\">\n",
              "  <thead>\n",
              "    <tr style=\"text-align: right;\">\n",
              "      <th></th>\n",
              "      <th>total_images</th>\n",
              "      <th>last_price</th>\n",
              "      <th>total_area</th>\n",
              "      <th>first_day_exposition</th>\n",
              "      <th>rooms</th>\n",
              "      <th>ceiling_height</th>\n",
              "      <th>floors_total</th>\n",
              "      <th>living_area</th>\n",
              "      <th>floor</th>\n",
              "      <th>is_apartment</th>\n",
              "      <th>...</th>\n",
              "      <th>kitchen_area</th>\n",
              "      <th>balcony</th>\n",
              "      <th>locality_name</th>\n",
              "      <th>airports_nearest</th>\n",
              "      <th>cityCenters_nearest</th>\n",
              "      <th>parks_around3000</th>\n",
              "      <th>parks_nearest</th>\n",
              "      <th>ponds_around3000</th>\n",
              "      <th>ponds_nearest</th>\n",
              "      <th>days_exposition</th>\n",
              "    </tr>\n",
              "  </thead>\n",
              "  <tbody>\n",
              "    <tr>\n",
              "      <th>8063</th>\n",
              "      <td>7</td>\n",
              "      <td>12190.0</td>\n",
              "      <td>109.0</td>\n",
              "      <td>2019-03-20</td>\n",
              "      <td>2</td>\n",
              "      <td>2.75</td>\n",
              "      <td>25</td>\n",
              "      <td>32.0</td>\n",
              "      <td>25</td>\n",
              "      <td>False</td>\n",
              "      <td>...</td>\n",
              "      <td>40.5</td>\n",
              "      <td>0</td>\n",
              "      <td>Санкт-Петербург</td>\n",
              "      <td>36421.0</td>\n",
              "      <td>9176.0</td>\n",
              "      <td>1</td>\n",
              "      <td>805.0</td>\n",
              "      <td>0</td>\n",
              "      <td>NaN</td>\n",
              "      <td>8.0</td>\n",
              "    </tr>\n",
              "  </tbody>\n",
              "</table>\n",
              "<p>1 rows × 22 columns</p>\n",
              "</div>"
            ],
            "text/plain": [
              "      total_images  last_price  total_area first_day_exposition  rooms  \\\n",
              "8063             7     12190.0       109.0           2019-03-20      2   \n",
              "\n",
              "      ceiling_height  floors_total  living_area  floor  is_apartment  ...  \\\n",
              "8063            2.75            25         32.0     25         False  ...   \n",
              "\n",
              "      kitchen_area  balcony    locality_name  airports_nearest  \\\n",
              "8063          40.5        0  Санкт-Петербург           36421.0   \n",
              "\n",
              "     cityCenters_nearest  parks_around3000  parks_nearest  ponds_around3000  \\\n",
              "8063              9176.0                 1          805.0                 0   \n",
              "\n",
              "      ponds_nearest  days_exposition  \n",
              "8063            NaN              8.0  \n",
              "\n",
              "[1 rows x 22 columns]"
            ]
          },
          "metadata": {}
        }
      ]
    },
    {
      "cell_type": "code",
      "source": "data[data['last_price']==12000000.0]",
      "metadata": {},
      "execution_count": 22,
      "outputs": [
        {
          "execution_count": 22,
          "output_type": "execute_result",
          "data": {
            "text/html": [
              "<div>\n",
              "<style scoped>\n",
              "    .dataframe tbody tr th:only-of-type {\n",
              "        vertical-align: middle;\n",
              "    }\n",
              "\n",
              "    .dataframe tbody tr th {\n",
              "        vertical-align: top;\n",
              "    }\n",
              "\n",
              "    .dataframe thead th {\n",
              "        text-align: right;\n",
              "    }\n",
              "</style>\n",
              "<table border=\"1\" class=\"dataframe\">\n",
              "  <thead>\n",
              "    <tr style=\"text-align: right;\">\n",
              "      <th></th>\n",
              "      <th>total_images</th>\n",
              "      <th>last_price</th>\n",
              "      <th>total_area</th>\n",
              "      <th>first_day_exposition</th>\n",
              "      <th>rooms</th>\n",
              "      <th>ceiling_height</th>\n",
              "      <th>floors_total</th>\n",
              "      <th>living_area</th>\n",
              "      <th>floor</th>\n",
              "      <th>is_apartment</th>\n",
              "      <th>...</th>\n",
              "      <th>kitchen_area</th>\n",
              "      <th>balcony</th>\n",
              "      <th>locality_name</th>\n",
              "      <th>airports_nearest</th>\n",
              "      <th>cityCenters_nearest</th>\n",
              "      <th>parks_around3000</th>\n",
              "      <th>parks_nearest</th>\n",
              "      <th>ponds_around3000</th>\n",
              "      <th>ponds_nearest</th>\n",
              "      <th>days_exposition</th>\n",
              "    </tr>\n",
              "  </thead>\n",
              "  <tbody>\n",
              "    <tr>\n",
              "      <th>1093</th>\n",
              "      <td>20</td>\n",
              "      <td>12000000.0</td>\n",
              "      <td>77.60</td>\n",
              "      <td>2019-04-26</td>\n",
              "      <td>2</td>\n",
              "      <td>3.54</td>\n",
              "      <td>3</td>\n",
              "      <td>46.64</td>\n",
              "      <td>3</td>\n",
              "      <td>False</td>\n",
              "      <td>...</td>\n",
              "      <td>11.40</td>\n",
              "      <td>0</td>\n",
              "      <td>Санкт-Петербург</td>\n",
              "      <td>24487.0</td>\n",
              "      <td>4054.0</td>\n",
              "      <td>1</td>\n",
              "      <td>710.0</td>\n",
              "      <td>3</td>\n",
              "      <td>272.0</td>\n",
              "      <td>NaN</td>\n",
              "    </tr>\n",
              "    <tr>\n",
              "      <th>1759</th>\n",
              "      <td>20</td>\n",
              "      <td>12000000.0</td>\n",
              "      <td>128.00</td>\n",
              "      <td>2018-09-11</td>\n",
              "      <td>4</td>\n",
              "      <td>2.80</td>\n",
              "      <td>14</td>\n",
              "      <td>63.20</td>\n",
              "      <td>4</td>\n",
              "      <td>False</td>\n",
              "      <td>...</td>\n",
              "      <td>30.00</td>\n",
              "      <td>0</td>\n",
              "      <td>Санкт-Петербург</td>\n",
              "      <td>41570.0</td>\n",
              "      <td>11703.0</td>\n",
              "      <td>1</td>\n",
              "      <td>493.0</td>\n",
              "      <td>0</td>\n",
              "      <td>NaN</td>\n",
              "      <td>4.0</td>\n",
              "    </tr>\n",
              "    <tr>\n",
              "      <th>2024</th>\n",
              "      <td>9</td>\n",
              "      <td>12000000.0</td>\n",
              "      <td>99.00</td>\n",
              "      <td>2019-02-27</td>\n",
              "      <td>2</td>\n",
              "      <td>NaN</td>\n",
              "      <td>17</td>\n",
              "      <td>49.00</td>\n",
              "      <td>16</td>\n",
              "      <td>False</td>\n",
              "      <td>...</td>\n",
              "      <td>NaN</td>\n",
              "      <td>0</td>\n",
              "      <td>Санкт-Петербург</td>\n",
              "      <td>26293.0</td>\n",
              "      <td>10466.0</td>\n",
              "      <td>1</td>\n",
              "      <td>390.0</td>\n",
              "      <td>0</td>\n",
              "      <td>NaN</td>\n",
              "      <td>NaN</td>\n",
              "    </tr>\n",
              "    <tr>\n",
              "      <th>2397</th>\n",
              "      <td>11</td>\n",
              "      <td>12000000.0</td>\n",
              "      <td>84.68</td>\n",
              "      <td>2017-06-19</td>\n",
              "      <td>2</td>\n",
              "      <td>NaN</td>\n",
              "      <td>9</td>\n",
              "      <td>45.40</td>\n",
              "      <td>8</td>\n",
              "      <td>False</td>\n",
              "      <td>...</td>\n",
              "      <td>16.40</td>\n",
              "      <td>0</td>\n",
              "      <td>Санкт-Петербург</td>\n",
              "      <td>32121.0</td>\n",
              "      <td>5080.0</td>\n",
              "      <td>0</td>\n",
              "      <td>NaN</td>\n",
              "      <td>3</td>\n",
              "      <td>457.0</td>\n",
              "      <td>127.0</td>\n",
              "    </tr>\n",
              "    <tr>\n",
              "      <th>2404</th>\n",
              "      <td>11</td>\n",
              "      <td>12000000.0</td>\n",
              "      <td>103.40</td>\n",
              "      <td>2017-09-19</td>\n",
              "      <td>3</td>\n",
              "      <td>3.25</td>\n",
              "      <td>4</td>\n",
              "      <td>61.10</td>\n",
              "      <td>3</td>\n",
              "      <td>False</td>\n",
              "      <td>...</td>\n",
              "      <td>10.20</td>\n",
              "      <td>1</td>\n",
              "      <td>Санкт-Петербург</td>\n",
              "      <td>20821.0</td>\n",
              "      <td>1283.0</td>\n",
              "      <td>1</td>\n",
              "      <td>287.0</td>\n",
              "      <td>2</td>\n",
              "      <td>29.0</td>\n",
              "      <td>201.0</td>\n",
              "    </tr>\n",
              "    <tr>\n",
              "      <th>3092</th>\n",
              "      <td>8</td>\n",
              "      <td>12000000.0</td>\n",
              "      <td>141.00</td>\n",
              "      <td>2019-03-27</td>\n",
              "      <td>3</td>\n",
              "      <td>2.70</td>\n",
              "      <td>5</td>\n",
              "      <td>73.00</td>\n",
              "      <td>1</td>\n",
              "      <td>False</td>\n",
              "      <td>...</td>\n",
              "      <td>15.20</td>\n",
              "      <td>0</td>\n",
              "      <td>Петергоф</td>\n",
              "      <td>38485.0</td>\n",
              "      <td>33674.0</td>\n",
              "      <td>1</td>\n",
              "      <td>240.0</td>\n",
              "      <td>1</td>\n",
              "      <td>752.0</td>\n",
              "      <td>13.0</td>\n",
              "    </tr>\n",
              "    <tr>\n",
              "      <th>3443</th>\n",
              "      <td>6</td>\n",
              "      <td>12000000.0</td>\n",
              "      <td>83.00</td>\n",
              "      <td>2017-12-08</td>\n",
              "      <td>2</td>\n",
              "      <td>NaN</td>\n",
              "      <td>7</td>\n",
              "      <td>28.00</td>\n",
              "      <td>5</td>\n",
              "      <td>False</td>\n",
              "      <td>...</td>\n",
              "      <td>26.00</td>\n",
              "      <td>0</td>\n",
              "      <td>Санкт-Петербург</td>\n",
              "      <td>21102.0</td>\n",
              "      <td>1589.0</td>\n",
              "      <td>2</td>\n",
              "      <td>476.0</td>\n",
              "      <td>2</td>\n",
              "      <td>315.0</td>\n",
              "      <td>507.0</td>\n",
              "    </tr>\n",
              "    <tr>\n",
              "      <th>3771</th>\n",
              "      <td>12</td>\n",
              "      <td>12000000.0</td>\n",
              "      <td>55.70</td>\n",
              "      <td>2017-08-02</td>\n",
              "      <td>3</td>\n",
              "      <td>3.00</td>\n",
              "      <td>6</td>\n",
              "      <td>36.00</td>\n",
              "      <td>6</td>\n",
              "      <td>False</td>\n",
              "      <td>...</td>\n",
              "      <td>NaN</td>\n",
              "      <td>1</td>\n",
              "      <td>Санкт-Петербург</td>\n",
              "      <td>24117.0</td>\n",
              "      <td>4526.0</td>\n",
              "      <td>1</td>\n",
              "      <td>473.0</td>\n",
              "      <td>0</td>\n",
              "      <td>NaN</td>\n",
              "      <td>69.0</td>\n",
              "    </tr>\n",
              "    <tr>\n",
              "      <th>4294</th>\n",
              "      <td>12</td>\n",
              "      <td>12000000.0</td>\n",
              "      <td>107.40</td>\n",
              "      <td>2018-09-17</td>\n",
              "      <td>4</td>\n",
              "      <td>3.60</td>\n",
              "      <td>6</td>\n",
              "      <td>76.80</td>\n",
              "      <td>2</td>\n",
              "      <td>False</td>\n",
              "      <td>...</td>\n",
              "      <td>10.00</td>\n",
              "      <td>1</td>\n",
              "      <td>Санкт-Петербург</td>\n",
              "      <td>23056.0</td>\n",
              "      <td>2598.0</td>\n",
              "      <td>0</td>\n",
              "      <td>NaN</td>\n",
              "      <td>3</td>\n",
              "      <td>707.0</td>\n",
              "      <td>21.0</td>\n",
              "    </tr>\n",
              "    <tr>\n",
              "      <th>4587</th>\n",
              "      <td>11</td>\n",
              "      <td>12000000.0</td>\n",
              "      <td>115.10</td>\n",
              "      <td>2018-02-27</td>\n",
              "      <td>4</td>\n",
              "      <td>2.93</td>\n",
              "      <td>4</td>\n",
              "      <td>70.90</td>\n",
              "      <td>4</td>\n",
              "      <td>False</td>\n",
              "      <td>...</td>\n",
              "      <td>16.10</td>\n",
              "      <td>0</td>\n",
              "      <td>Санкт-Петербург</td>\n",
              "      <td>22037.0</td>\n",
              "      <td>3440.0</td>\n",
              "      <td>0</td>\n",
              "      <td>NaN</td>\n",
              "      <td>0</td>\n",
              "      <td>NaN</td>\n",
              "      <td>90.0</td>\n",
              "    </tr>\n",
              "    <tr>\n",
              "      <th>4649</th>\n",
              "      <td>12</td>\n",
              "      <td>12000000.0</td>\n",
              "      <td>85.00</td>\n",
              "      <td>2015-09-04</td>\n",
              "      <td>2</td>\n",
              "      <td>2.71</td>\n",
              "      <td>5</td>\n",
              "      <td>34.30</td>\n",
              "      <td>3</td>\n",
              "      <td>False</td>\n",
              "      <td>...</td>\n",
              "      <td>22.00</td>\n",
              "      <td>0</td>\n",
              "      <td>Санкт-Петербург</td>\n",
              "      <td>23409.0</td>\n",
              "      <td>3399.0</td>\n",
              "      <td>3</td>\n",
              "      <td>409.0</td>\n",
              "      <td>3</td>\n",
              "      <td>103.0</td>\n",
              "      <td>NaN</td>\n",
              "    </tr>\n",
              "    <tr>\n",
              "      <th>4909</th>\n",
              "      <td>9</td>\n",
              "      <td>12000000.0</td>\n",
              "      <td>89.90</td>\n",
              "      <td>2018-05-24</td>\n",
              "      <td>2</td>\n",
              "      <td>3.40</td>\n",
              "      <td>6</td>\n",
              "      <td>61.80</td>\n",
              "      <td>2</td>\n",
              "      <td>False</td>\n",
              "      <td>...</td>\n",
              "      <td>12.00</td>\n",
              "      <td>0</td>\n",
              "      <td>Санкт-Петербург</td>\n",
              "      <td>23915.0</td>\n",
              "      <td>4324.0</td>\n",
              "      <td>1</td>\n",
              "      <td>442.0</td>\n",
              "      <td>0</td>\n",
              "      <td>NaN</td>\n",
              "      <td>NaN</td>\n",
              "    </tr>\n",
              "    <tr>\n",
              "      <th>5141</th>\n",
              "      <td>9</td>\n",
              "      <td>12000000.0</td>\n",
              "      <td>110.20</td>\n",
              "      <td>2018-01-18</td>\n",
              "      <td>3</td>\n",
              "      <td>3.52</td>\n",
              "      <td>6</td>\n",
              "      <td>57.30</td>\n",
              "      <td>3</td>\n",
              "      <td>False</td>\n",
              "      <td>...</td>\n",
              "      <td>18.30</td>\n",
              "      <td>0</td>\n",
              "      <td>Санкт-Петербург</td>\n",
              "      <td>24110.0</td>\n",
              "      <td>3677.0</td>\n",
              "      <td>2</td>\n",
              "      <td>513.0</td>\n",
              "      <td>3</td>\n",
              "      <td>477.0</td>\n",
              "      <td>85.0</td>\n",
              "    </tr>\n",
              "    <tr>\n",
              "      <th>5550</th>\n",
              "      <td>14</td>\n",
              "      <td>12000000.0</td>\n",
              "      <td>99.40</td>\n",
              "      <td>2017-10-29</td>\n",
              "      <td>3</td>\n",
              "      <td>3.24</td>\n",
              "      <td>6</td>\n",
              "      <td>56.20</td>\n",
              "      <td>3</td>\n",
              "      <td>False</td>\n",
              "      <td>...</td>\n",
              "      <td>14.00</td>\n",
              "      <td>0</td>\n",
              "      <td>Санкт-Петербург</td>\n",
              "      <td>37288.0</td>\n",
              "      <td>8205.0</td>\n",
              "      <td>1</td>\n",
              "      <td>1951.0</td>\n",
              "      <td>3</td>\n",
              "      <td>257.0</td>\n",
              "      <td>229.0</td>\n",
              "    </tr>\n",
              "    <tr>\n",
              "      <th>5973</th>\n",
              "      <td>14</td>\n",
              "      <td>12000000.0</td>\n",
              "      <td>116.00</td>\n",
              "      <td>2017-09-13</td>\n",
              "      <td>3</td>\n",
              "      <td>2.65</td>\n",
              "      <td>27</td>\n",
              "      <td>70.00</td>\n",
              "      <td>17</td>\n",
              "      <td>False</td>\n",
              "      <td>...</td>\n",
              "      <td>20.00</td>\n",
              "      <td>0</td>\n",
              "      <td>Санкт-Петербург</td>\n",
              "      <td>15916.0</td>\n",
              "      <td>8180.0</td>\n",
              "      <td>1</td>\n",
              "      <td>489.0</td>\n",
              "      <td>2</td>\n",
              "      <td>830.0</td>\n",
              "      <td>151.0</td>\n",
              "    </tr>\n",
              "    <tr>\n",
              "      <th>6253</th>\n",
              "      <td>9</td>\n",
              "      <td>12000000.0</td>\n",
              "      <td>104.00</td>\n",
              "      <td>2017-12-25</td>\n",
              "      <td>3</td>\n",
              "      <td>NaN</td>\n",
              "      <td>16</td>\n",
              "      <td>54.00</td>\n",
              "      <td>3</td>\n",
              "      <td>False</td>\n",
              "      <td>...</td>\n",
              "      <td>17.40</td>\n",
              "      <td>2</td>\n",
              "      <td>Санкт-Петербург</td>\n",
              "      <td>10476.0</td>\n",
              "      <td>13852.0</td>\n",
              "      <td>1</td>\n",
              "      <td>388.0</td>\n",
              "      <td>1</td>\n",
              "      <td>757.0</td>\n",
              "      <td>29.0</td>\n",
              "    </tr>\n",
              "    <tr>\n",
              "      <th>6540</th>\n",
              "      <td>17</td>\n",
              "      <td>12000000.0</td>\n",
              "      <td>92.00</td>\n",
              "      <td>2017-02-20</td>\n",
              "      <td>3</td>\n",
              "      <td>2.80</td>\n",
              "      <td>19</td>\n",
              "      <td>51.00</td>\n",
              "      <td>6</td>\n",
              "      <td>False</td>\n",
              "      <td>...</td>\n",
              "      <td>16.90</td>\n",
              "      <td>1</td>\n",
              "      <td>Санкт-Петербург</td>\n",
              "      <td>44289.0</td>\n",
              "      <td>13868.0</td>\n",
              "      <td>1</td>\n",
              "      <td>194.0</td>\n",
              "      <td>0</td>\n",
              "      <td>NaN</td>\n",
              "      <td>241.0</td>\n",
              "    </tr>\n",
              "    <tr>\n",
              "      <th>6642</th>\n",
              "      <td>15</td>\n",
              "      <td>12000000.0</td>\n",
              "      <td>99.00</td>\n",
              "      <td>2016-03-22</td>\n",
              "      <td>3</td>\n",
              "      <td>2.60</td>\n",
              "      <td>15</td>\n",
              "      <td>63.50</td>\n",
              "      <td>13</td>\n",
              "      <td>False</td>\n",
              "      <td>...</td>\n",
              "      <td>12.00</td>\n",
              "      <td>3</td>\n",
              "      <td>Санкт-Петербург</td>\n",
              "      <td>35958.0</td>\n",
              "      <td>9860.0</td>\n",
              "      <td>0</td>\n",
              "      <td>NaN</td>\n",
              "      <td>0</td>\n",
              "      <td>NaN</td>\n",
              "      <td>90.0</td>\n",
              "    </tr>\n",
              "    <tr>\n",
              "      <th>7297</th>\n",
              "      <td>6</td>\n",
              "      <td>12000000.0</td>\n",
              "      <td>111.00</td>\n",
              "      <td>2016-04-12</td>\n",
              "      <td>3</td>\n",
              "      <td>3.00</td>\n",
              "      <td>25</td>\n",
              "      <td>57.00</td>\n",
              "      <td>23</td>\n",
              "      <td>False</td>\n",
              "      <td>...</td>\n",
              "      <td>18.00</td>\n",
              "      <td>2</td>\n",
              "      <td>Санкт-Петербург</td>\n",
              "      <td>19424.0</td>\n",
              "      <td>4489.0</td>\n",
              "      <td>0</td>\n",
              "      <td>NaN</td>\n",
              "      <td>1</td>\n",
              "      <td>806.0</td>\n",
              "      <td>915.0</td>\n",
              "    </tr>\n",
              "    <tr>\n",
              "      <th>7743</th>\n",
              "      <td>17</td>\n",
              "      <td>12000000.0</td>\n",
              "      <td>90.40</td>\n",
              "      <td>2018-06-01</td>\n",
              "      <td>3</td>\n",
              "      <td>2.80</td>\n",
              "      <td>10</td>\n",
              "      <td>51.40</td>\n",
              "      <td>10</td>\n",
              "      <td>False</td>\n",
              "      <td>...</td>\n",
              "      <td>11.80</td>\n",
              "      <td>0</td>\n",
              "      <td>Санкт-Петербург</td>\n",
              "      <td>50747.0</td>\n",
              "      <td>14697.0</td>\n",
              "      <td>1</td>\n",
              "      <td>543.0</td>\n",
              "      <td>0</td>\n",
              "      <td>NaN</td>\n",
              "      <td>NaN</td>\n",
              "    </tr>\n",
              "    <tr>\n",
              "      <th>9048</th>\n",
              "      <td>13</td>\n",
              "      <td>12000000.0</td>\n",
              "      <td>106.00</td>\n",
              "      <td>2018-07-30</td>\n",
              "      <td>6</td>\n",
              "      <td>2.80</td>\n",
              "      <td>3</td>\n",
              "      <td>70.00</td>\n",
              "      <td>1</td>\n",
              "      <td>False</td>\n",
              "      <td>...</td>\n",
              "      <td>15.00</td>\n",
              "      <td>0</td>\n",
              "      <td>Санкт-Петербург</td>\n",
              "      <td>20290.0</td>\n",
              "      <td>4733.0</td>\n",
              "      <td>0</td>\n",
              "      <td>NaN</td>\n",
              "      <td>1</td>\n",
              "      <td>238.0</td>\n",
              "      <td>NaN</td>\n",
              "    </tr>\n",
              "    <tr>\n",
              "      <th>9627</th>\n",
              "      <td>0</td>\n",
              "      <td>12000000.0</td>\n",
              "      <td>96.00</td>\n",
              "      <td>2018-02-01</td>\n",
              "      <td>4</td>\n",
              "      <td>3.10</td>\n",
              "      <td>5</td>\n",
              "      <td>68.00</td>\n",
              "      <td>1</td>\n",
              "      <td>False</td>\n",
              "      <td>...</td>\n",
              "      <td>12.00</td>\n",
              "      <td>0</td>\n",
              "      <td>Санкт-Петербург</td>\n",
              "      <td>22885.0</td>\n",
              "      <td>1782.0</td>\n",
              "      <td>2</td>\n",
              "      <td>485.0</td>\n",
              "      <td>2</td>\n",
              "      <td>639.0</td>\n",
              "      <td>126.0</td>\n",
              "    </tr>\n",
              "    <tr>\n",
              "      <th>10789</th>\n",
              "      <td>1</td>\n",
              "      <td>12000000.0</td>\n",
              "      <td>147.90</td>\n",
              "      <td>2015-04-07</td>\n",
              "      <td>5</td>\n",
              "      <td>4.00</td>\n",
              "      <td>4</td>\n",
              "      <td>89.60</td>\n",
              "      <td>3</td>\n",
              "      <td>False</td>\n",
              "      <td>...</td>\n",
              "      <td>17.20</td>\n",
              "      <td>0</td>\n",
              "      <td>Санкт-Петербург</td>\n",
              "      <td>20882.0</td>\n",
              "      <td>1195.0</td>\n",
              "      <td>3</td>\n",
              "      <td>334.0</td>\n",
              "      <td>3</td>\n",
              "      <td>231.0</td>\n",
              "      <td>565.0</td>\n",
              "    </tr>\n",
              "    <tr>\n",
              "      <th>10881</th>\n",
              "      <td>4</td>\n",
              "      <td>12000000.0</td>\n",
              "      <td>60.70</td>\n",
              "      <td>2017-02-19</td>\n",
              "      <td>2</td>\n",
              "      <td>3.55</td>\n",
              "      <td>7</td>\n",
              "      <td>29.10</td>\n",
              "      <td>4</td>\n",
              "      <td>False</td>\n",
              "      <td>...</td>\n",
              "      <td>16.70</td>\n",
              "      <td>0</td>\n",
              "      <td>Санкт-Петербург</td>\n",
              "      <td>22526.0</td>\n",
              "      <td>3175.0</td>\n",
              "      <td>1</td>\n",
              "      <td>1028.0</td>\n",
              "      <td>1</td>\n",
              "      <td>399.0</td>\n",
              "      <td>NaN</td>\n",
              "    </tr>\n",
              "    <tr>\n",
              "      <th>11527</th>\n",
              "      <td>19</td>\n",
              "      <td>12000000.0</td>\n",
              "      <td>91.80</td>\n",
              "      <td>2018-10-11</td>\n",
              "      <td>3</td>\n",
              "      <td>2.80</td>\n",
              "      <td>20</td>\n",
              "      <td>68.00</td>\n",
              "      <td>6</td>\n",
              "      <td>False</td>\n",
              "      <td>...</td>\n",
              "      <td>19.00</td>\n",
              "      <td>0</td>\n",
              "      <td>Санкт-Петербург</td>\n",
              "      <td>39771.0</td>\n",
              "      <td>8672.0</td>\n",
              "      <td>1</td>\n",
              "      <td>139.0</td>\n",
              "      <td>0</td>\n",
              "      <td>NaN</td>\n",
              "      <td>4.0</td>\n",
              "    </tr>\n",
              "    <tr>\n",
              "      <th>11633</th>\n",
              "      <td>8</td>\n",
              "      <td>12000000.0</td>\n",
              "      <td>126.00</td>\n",
              "      <td>2017-12-01</td>\n",
              "      <td>3</td>\n",
              "      <td>2.55</td>\n",
              "      <td>9</td>\n",
              "      <td>90.00</td>\n",
              "      <td>1</td>\n",
              "      <td>False</td>\n",
              "      <td>...</td>\n",
              "      <td>15.00</td>\n",
              "      <td>0</td>\n",
              "      <td>Санкт-Петербург</td>\n",
              "      <td>28529.0</td>\n",
              "      <td>14247.0</td>\n",
              "      <td>0</td>\n",
              "      <td>NaN</td>\n",
              "      <td>1</td>\n",
              "      <td>801.0</td>\n",
              "      <td>90.0</td>\n",
              "    </tr>\n",
              "    <tr>\n",
              "      <th>11860</th>\n",
              "      <td>3</td>\n",
              "      <td>12000000.0</td>\n",
              "      <td>71.41</td>\n",
              "      <td>2017-11-14</td>\n",
              "      <td>2</td>\n",
              "      <td>NaN</td>\n",
              "      <td>20</td>\n",
              "      <td>40.32</td>\n",
              "      <td>6</td>\n",
              "      <td>False</td>\n",
              "      <td>...</td>\n",
              "      <td>11.35</td>\n",
              "      <td>2</td>\n",
              "      <td>Санкт-Петербург</td>\n",
              "      <td>39140.0</td>\n",
              "      <td>10364.0</td>\n",
              "      <td>2</td>\n",
              "      <td>173.0</td>\n",
              "      <td>3</td>\n",
              "      <td>196.0</td>\n",
              "      <td>NaN</td>\n",
              "    </tr>\n",
              "    <tr>\n",
              "      <th>12406</th>\n",
              "      <td>8</td>\n",
              "      <td>12000000.0</td>\n",
              "      <td>107.40</td>\n",
              "      <td>2017-11-12</td>\n",
              "      <td>3</td>\n",
              "      <td>NaN</td>\n",
              "      <td>6</td>\n",
              "      <td>71.30</td>\n",
              "      <td>4</td>\n",
              "      <td>False</td>\n",
              "      <td>...</td>\n",
              "      <td>8.80</td>\n",
              "      <td>0</td>\n",
              "      <td>Санкт-Петербург</td>\n",
              "      <td>25257.0</td>\n",
              "      <td>6060.0</td>\n",
              "      <td>1</td>\n",
              "      <td>761.0</td>\n",
              "      <td>1</td>\n",
              "      <td>584.0</td>\n",
              "      <td>34.0</td>\n",
              "    </tr>\n",
              "    <tr>\n",
              "      <th>12473</th>\n",
              "      <td>20</td>\n",
              "      <td>12000000.0</td>\n",
              "      <td>120.00</td>\n",
              "      <td>2016-06-24</td>\n",
              "      <td>3</td>\n",
              "      <td>2.75</td>\n",
              "      <td>16</td>\n",
              "      <td>64.40</td>\n",
              "      <td>5</td>\n",
              "      <td>False</td>\n",
              "      <td>...</td>\n",
              "      <td>22.60</td>\n",
              "      <td>0</td>\n",
              "      <td>Санкт-Петербург</td>\n",
              "      <td>48783.0</td>\n",
              "      <td>16622.0</td>\n",
              "      <td>0</td>\n",
              "      <td>NaN</td>\n",
              "      <td>0</td>\n",
              "      <td>NaN</td>\n",
              "      <td>578.0</td>\n",
              "    </tr>\n",
              "    <tr>\n",
              "      <th>12728</th>\n",
              "      <td>8</td>\n",
              "      <td>12000000.0</td>\n",
              "      <td>70.90</td>\n",
              "      <td>2019-05-01</td>\n",
              "      <td>3</td>\n",
              "      <td>3.20</td>\n",
              "      <td>7</td>\n",
              "      <td>49.70</td>\n",
              "      <td>5</td>\n",
              "      <td>False</td>\n",
              "      <td>...</td>\n",
              "      <td>7.90</td>\n",
              "      <td>0</td>\n",
              "      <td>Санкт-Петербург</td>\n",
              "      <td>12430.0</td>\n",
              "      <td>7316.0</td>\n",
              "      <td>1</td>\n",
              "      <td>238.0</td>\n",
              "      <td>3</td>\n",
              "      <td>374.0</td>\n",
              "      <td>NaN</td>\n",
              "    </tr>\n",
              "    <tr>\n",
              "      <th>14961</th>\n",
              "      <td>6</td>\n",
              "      <td>12000000.0</td>\n",
              "      <td>73.00</td>\n",
              "      <td>2015-09-20</td>\n",
              "      <td>2</td>\n",
              "      <td>2.72</td>\n",
              "      <td>14</td>\n",
              "      <td>26.50</td>\n",
              "      <td>14</td>\n",
              "      <td>False</td>\n",
              "      <td>...</td>\n",
              "      <td>19.00</td>\n",
              "      <td>0</td>\n",
              "      <td>Санкт-Петербург</td>\n",
              "      <td>19559.0</td>\n",
              "      <td>4768.0</td>\n",
              "      <td>0</td>\n",
              "      <td>NaN</td>\n",
              "      <td>1</td>\n",
              "      <td>648.0</td>\n",
              "      <td>758.0</td>\n",
              "    </tr>\n",
              "    <tr>\n",
              "      <th>15226</th>\n",
              "      <td>17</td>\n",
              "      <td>12000000.0</td>\n",
              "      <td>103.10</td>\n",
              "      <td>2019-03-28</td>\n",
              "      <td>3</td>\n",
              "      <td>NaN</td>\n",
              "      <td>5</td>\n",
              "      <td>66.10</td>\n",
              "      <td>2</td>\n",
              "      <td>False</td>\n",
              "      <td>...</td>\n",
              "      <td>17.20</td>\n",
              "      <td>0</td>\n",
              "      <td>Санкт-Петербург</td>\n",
              "      <td>21385.0</td>\n",
              "      <td>4013.0</td>\n",
              "      <td>0</td>\n",
              "      <td>NaN</td>\n",
              "      <td>1</td>\n",
              "      <td>721.0</td>\n",
              "      <td>NaN</td>\n",
              "    </tr>\n",
              "    <tr>\n",
              "      <th>15619</th>\n",
              "      <td>10</td>\n",
              "      <td>12000000.0</td>\n",
              "      <td>143.00</td>\n",
              "      <td>2018-02-01</td>\n",
              "      <td>5</td>\n",
              "      <td>3.80</td>\n",
              "      <td>4</td>\n",
              "      <td>98.50</td>\n",
              "      <td>4</td>\n",
              "      <td>False</td>\n",
              "      <td>...</td>\n",
              "      <td>10.00</td>\n",
              "      <td>0</td>\n",
              "      <td>Санкт-Петербург</td>\n",
              "      <td>23653.0</td>\n",
              "      <td>3742.0</td>\n",
              "      <td>0</td>\n",
              "      <td>NaN</td>\n",
              "      <td>1</td>\n",
              "      <td>1066.0</td>\n",
              "      <td>320.0</td>\n",
              "    </tr>\n",
              "    <tr>\n",
              "      <th>16160</th>\n",
              "      <td>8</td>\n",
              "      <td>12000000.0</td>\n",
              "      <td>115.00</td>\n",
              "      <td>2015-10-23</td>\n",
              "      <td>3</td>\n",
              "      <td>NaN</td>\n",
              "      <td>10</td>\n",
              "      <td>52.00</td>\n",
              "      <td>1</td>\n",
              "      <td>False</td>\n",
              "      <td>...</td>\n",
              "      <td>40.00</td>\n",
              "      <td>0</td>\n",
              "      <td>Санкт-Петербург</td>\n",
              "      <td>40558.0</td>\n",
              "      <td>12261.0</td>\n",
              "      <td>2</td>\n",
              "      <td>40.0</td>\n",
              "      <td>0</td>\n",
              "      <td>NaN</td>\n",
              "      <td>551.0</td>\n",
              "    </tr>\n",
              "    <tr>\n",
              "      <th>16472</th>\n",
              "      <td>19</td>\n",
              "      <td>12000000.0</td>\n",
              "      <td>125.00</td>\n",
              "      <td>2017-02-09</td>\n",
              "      <td>7</td>\n",
              "      <td>3.30</td>\n",
              "      <td>6</td>\n",
              "      <td>82.00</td>\n",
              "      <td>5</td>\n",
              "      <td>False</td>\n",
              "      <td>...</td>\n",
              "      <td>24.00</td>\n",
              "      <td>0</td>\n",
              "      <td>Санкт-Петербург</td>\n",
              "      <td>24697.0</td>\n",
              "      <td>5265.0</td>\n",
              "      <td>1</td>\n",
              "      <td>407.0</td>\n",
              "      <td>0</td>\n",
              "      <td>NaN</td>\n",
              "      <td>138.0</td>\n",
              "    </tr>\n",
              "    <tr>\n",
              "      <th>16560</th>\n",
              "      <td>1</td>\n",
              "      <td>12000000.0</td>\n",
              "      <td>116.50</td>\n",
              "      <td>2016-02-10</td>\n",
              "      <td>4</td>\n",
              "      <td>NaN</td>\n",
              "      <td>5</td>\n",
              "      <td>86.20</td>\n",
              "      <td>2</td>\n",
              "      <td>False</td>\n",
              "      <td>...</td>\n",
              "      <td>11.00</td>\n",
              "      <td>0</td>\n",
              "      <td>Санкт-Петербург</td>\n",
              "      <td>19797.0</td>\n",
              "      <td>2133.0</td>\n",
              "      <td>2</td>\n",
              "      <td>401.0</td>\n",
              "      <td>3</td>\n",
              "      <td>209.0</td>\n",
              "      <td>368.0</td>\n",
              "    </tr>\n",
              "    <tr>\n",
              "      <th>17039</th>\n",
              "      <td>10</td>\n",
              "      <td>12000000.0</td>\n",
              "      <td>67.00</td>\n",
              "      <td>2018-03-06</td>\n",
              "      <td>2</td>\n",
              "      <td>2.70</td>\n",
              "      <td>16</td>\n",
              "      <td>54.00</td>\n",
              "      <td>16</td>\n",
              "      <td>False</td>\n",
              "      <td>...</td>\n",
              "      <td>NaN</td>\n",
              "      <td>0</td>\n",
              "      <td>Санкт-Петербург</td>\n",
              "      <td>31800.0</td>\n",
              "      <td>8878.0</td>\n",
              "      <td>2</td>\n",
              "      <td>302.0</td>\n",
              "      <td>1</td>\n",
              "      <td>849.0</td>\n",
              "      <td>125.0</td>\n",
              "    </tr>\n",
              "    <tr>\n",
              "      <th>17411</th>\n",
              "      <td>8</td>\n",
              "      <td>12000000.0</td>\n",
              "      <td>114.20</td>\n",
              "      <td>2017-09-06</td>\n",
              "      <td>3</td>\n",
              "      <td>2.75</td>\n",
              "      <td>23</td>\n",
              "      <td>65.40</td>\n",
              "      <td>17</td>\n",
              "      <td>False</td>\n",
              "      <td>...</td>\n",
              "      <td>17.00</td>\n",
              "      <td>1</td>\n",
              "      <td>Санкт-Петербург</td>\n",
              "      <td>17393.0</td>\n",
              "      <td>12525.0</td>\n",
              "      <td>0</td>\n",
              "      <td>NaN</td>\n",
              "      <td>0</td>\n",
              "      <td>NaN</td>\n",
              "      <td>46.0</td>\n",
              "    </tr>\n",
              "    <tr>\n",
              "      <th>17433</th>\n",
              "      <td>15</td>\n",
              "      <td>12000000.0</td>\n",
              "      <td>113.30</td>\n",
              "      <td>2017-07-19</td>\n",
              "      <td>3</td>\n",
              "      <td>3.10</td>\n",
              "      <td>6</td>\n",
              "      <td>73.50</td>\n",
              "      <td>5</td>\n",
              "      <td>False</td>\n",
              "      <td>...</td>\n",
              "      <td>15.10</td>\n",
              "      <td>0</td>\n",
              "      <td>Санкт-Петербург</td>\n",
              "      <td>21937.0</td>\n",
              "      <td>3749.0</td>\n",
              "      <td>1</td>\n",
              "      <td>519.0</td>\n",
              "      <td>0</td>\n",
              "      <td>NaN</td>\n",
              "      <td>30.0</td>\n",
              "    </tr>\n",
              "    <tr>\n",
              "      <th>17518</th>\n",
              "      <td>9</td>\n",
              "      <td>12000000.0</td>\n",
              "      <td>98.70</td>\n",
              "      <td>2017-08-09</td>\n",
              "      <td>3</td>\n",
              "      <td>2.70</td>\n",
              "      <td>6</td>\n",
              "      <td>70.40</td>\n",
              "      <td>1</td>\n",
              "      <td>False</td>\n",
              "      <td>...</td>\n",
              "      <td>9.50</td>\n",
              "      <td>0</td>\n",
              "      <td>Санкт-Петербург</td>\n",
              "      <td>22856.0</td>\n",
              "      <td>3505.0</td>\n",
              "      <td>1</td>\n",
              "      <td>811.0</td>\n",
              "      <td>1</td>\n",
              "      <td>411.0</td>\n",
              "      <td>250.0</td>\n",
              "    </tr>\n",
              "    <tr>\n",
              "      <th>17711</th>\n",
              "      <td>11</td>\n",
              "      <td>12000000.0</td>\n",
              "      <td>70.00</td>\n",
              "      <td>2017-12-01</td>\n",
              "      <td>2</td>\n",
              "      <td>3.00</td>\n",
              "      <td>4</td>\n",
              "      <td>47.00</td>\n",
              "      <td>2</td>\n",
              "      <td>False</td>\n",
              "      <td>...</td>\n",
              "      <td>10.30</td>\n",
              "      <td>0</td>\n",
              "      <td>Санкт-Петербург</td>\n",
              "      <td>22318.0</td>\n",
              "      <td>621.0</td>\n",
              "      <td>3</td>\n",
              "      <td>506.0</td>\n",
              "      <td>3</td>\n",
              "      <td>277.0</td>\n",
              "      <td>10.0</td>\n",
              "    </tr>\n",
              "    <tr>\n",
              "      <th>18131</th>\n",
              "      <td>1</td>\n",
              "      <td>12000000.0</td>\n",
              "      <td>97.20</td>\n",
              "      <td>2016-04-05</td>\n",
              "      <td>4</td>\n",
              "      <td>3.35</td>\n",
              "      <td>5</td>\n",
              "      <td>71.30</td>\n",
              "      <td>2</td>\n",
              "      <td>False</td>\n",
              "      <td>...</td>\n",
              "      <td>NaN</td>\n",
              "      <td>0</td>\n",
              "      <td>Санкт-Петербург</td>\n",
              "      <td>24559.0</td>\n",
              "      <td>4811.0</td>\n",
              "      <td>0</td>\n",
              "      <td>NaN</td>\n",
              "      <td>0</td>\n",
              "      <td>NaN</td>\n",
              "      <td>89.0</td>\n",
              "    </tr>\n",
              "    <tr>\n",
              "      <th>18361</th>\n",
              "      <td>19</td>\n",
              "      <td>12000000.0</td>\n",
              "      <td>73.00</td>\n",
              "      <td>2018-12-11</td>\n",
              "      <td>3</td>\n",
              "      <td>2.75</td>\n",
              "      <td>16</td>\n",
              "      <td>50.00</td>\n",
              "      <td>16</td>\n",
              "      <td>False</td>\n",
              "      <td>...</td>\n",
              "      <td>9.00</td>\n",
              "      <td>0</td>\n",
              "      <td>Санкт-Петербург</td>\n",
              "      <td>16954.0</td>\n",
              "      <td>14786.0</td>\n",
              "      <td>1</td>\n",
              "      <td>512.0</td>\n",
              "      <td>0</td>\n",
              "      <td>NaN</td>\n",
              "      <td>NaN</td>\n",
              "    </tr>\n",
              "    <tr>\n",
              "      <th>18943</th>\n",
              "      <td>4</td>\n",
              "      <td>12000000.0</td>\n",
              "      <td>64.60</td>\n",
              "      <td>2017-06-28</td>\n",
              "      <td>2</td>\n",
              "      <td>NaN</td>\n",
              "      <td>5</td>\n",
              "      <td>37.70</td>\n",
              "      <td>1</td>\n",
              "      <td>False</td>\n",
              "      <td>...</td>\n",
              "      <td>12.60</td>\n",
              "      <td>0</td>\n",
              "      <td>Санкт-Петербург</td>\n",
              "      <td>27046.0</td>\n",
              "      <td>5749.0</td>\n",
              "      <td>3</td>\n",
              "      <td>279.0</td>\n",
              "      <td>1</td>\n",
              "      <td>676.0</td>\n",
              "      <td>364.0</td>\n",
              "    </tr>\n",
              "    <tr>\n",
              "      <th>19150</th>\n",
              "      <td>8</td>\n",
              "      <td>12000000.0</td>\n",
              "      <td>110.00</td>\n",
              "      <td>2016-06-24</td>\n",
              "      <td>4</td>\n",
              "      <td>3.34</td>\n",
              "      <td>5</td>\n",
              "      <td>64.00</td>\n",
              "      <td>5</td>\n",
              "      <td>False</td>\n",
              "      <td>...</td>\n",
              "      <td>10.00</td>\n",
              "      <td>0</td>\n",
              "      <td>Санкт-Петербург</td>\n",
              "      <td>22468.0</td>\n",
              "      <td>1308.0</td>\n",
              "      <td>0</td>\n",
              "      <td>NaN</td>\n",
              "      <td>3</td>\n",
              "      <td>382.0</td>\n",
              "      <td>109.0</td>\n",
              "    </tr>\n",
              "    <tr>\n",
              "      <th>19687</th>\n",
              "      <td>6</td>\n",
              "      <td>12000000.0</td>\n",
              "      <td>98.00</td>\n",
              "      <td>2017-09-27</td>\n",
              "      <td>3</td>\n",
              "      <td>3.40</td>\n",
              "      <td>2</td>\n",
              "      <td>68.00</td>\n",
              "      <td>2</td>\n",
              "      <td>False</td>\n",
              "      <td>...</td>\n",
              "      <td>10.00</td>\n",
              "      <td>0</td>\n",
              "      <td>Санкт-Петербург</td>\n",
              "      <td>21849.0</td>\n",
              "      <td>1325.0</td>\n",
              "      <td>0</td>\n",
              "      <td>NaN</td>\n",
              "      <td>3</td>\n",
              "      <td>235.0</td>\n",
              "      <td>109.0</td>\n",
              "    </tr>\n",
              "    <tr>\n",
              "      <th>20588</th>\n",
              "      <td>16</td>\n",
              "      <td>12000000.0</td>\n",
              "      <td>131.00</td>\n",
              "      <td>2018-07-24</td>\n",
              "      <td>4</td>\n",
              "      <td>3.30</td>\n",
              "      <td>5</td>\n",
              "      <td>87.00</td>\n",
              "      <td>4</td>\n",
              "      <td>False</td>\n",
              "      <td>...</td>\n",
              "      <td>15.00</td>\n",
              "      <td>0</td>\n",
              "      <td>Санкт-Петербург</td>\n",
              "      <td>24011.0</td>\n",
              "      <td>4579.0</td>\n",
              "      <td>1</td>\n",
              "      <td>289.0</td>\n",
              "      <td>0</td>\n",
              "      <td>NaN</td>\n",
              "      <td>NaN</td>\n",
              "    </tr>\n",
              "    <tr>\n",
              "      <th>20610</th>\n",
              "      <td>19</td>\n",
              "      <td>12000000.0</td>\n",
              "      <td>100.60</td>\n",
              "      <td>2018-09-07</td>\n",
              "      <td>3</td>\n",
              "      <td>3.13</td>\n",
              "      <td>3</td>\n",
              "      <td>56.80</td>\n",
              "      <td>1</td>\n",
              "      <td>False</td>\n",
              "      <td>...</td>\n",
              "      <td>15.20</td>\n",
              "      <td>5</td>\n",
              "      <td>Петергоф</td>\n",
              "      <td>38485.0</td>\n",
              "      <td>33674.0</td>\n",
              "      <td>1</td>\n",
              "      <td>240.0</td>\n",
              "      <td>1</td>\n",
              "      <td>752.0</td>\n",
              "      <td>NaN</td>\n",
              "    </tr>\n",
              "    <tr>\n",
              "      <th>20860</th>\n",
              "      <td>7</td>\n",
              "      <td>12000000.0</td>\n",
              "      <td>86.00</td>\n",
              "      <td>2018-03-31</td>\n",
              "      <td>3</td>\n",
              "      <td>NaN</td>\n",
              "      <td>12</td>\n",
              "      <td>50.00</td>\n",
              "      <td>10</td>\n",
              "      <td>False</td>\n",
              "      <td>...</td>\n",
              "      <td>15.00</td>\n",
              "      <td>0</td>\n",
              "      <td>Санкт-Петербург</td>\n",
              "      <td>35966.0</td>\n",
              "      <td>11487.0</td>\n",
              "      <td>0</td>\n",
              "      <td>NaN</td>\n",
              "      <td>3</td>\n",
              "      <td>363.0</td>\n",
              "      <td>21.0</td>\n",
              "    </tr>\n",
              "    <tr>\n",
              "      <th>21533</th>\n",
              "      <td>20</td>\n",
              "      <td>12000000.0</td>\n",
              "      <td>87.00</td>\n",
              "      <td>2019-04-28</td>\n",
              "      <td>3</td>\n",
              "      <td>NaN</td>\n",
              "      <td>10</td>\n",
              "      <td>58.00</td>\n",
              "      <td>5</td>\n",
              "      <td>False</td>\n",
              "      <td>...</td>\n",
              "      <td>11.00</td>\n",
              "      <td>2</td>\n",
              "      <td>Санкт-Петербург</td>\n",
              "      <td>29460.0</td>\n",
              "      <td>13656.0</td>\n",
              "      <td>1</td>\n",
              "      <td>399.0</td>\n",
              "      <td>1</td>\n",
              "      <td>628.0</td>\n",
              "      <td>NaN</td>\n",
              "    </tr>\n",
              "    <tr>\n",
              "      <th>21535</th>\n",
              "      <td>4</td>\n",
              "      <td>12000000.0</td>\n",
              "      <td>136.50</td>\n",
              "      <td>2018-02-01</td>\n",
              "      <td>5</td>\n",
              "      <td>3.45</td>\n",
              "      <td>5</td>\n",
              "      <td>96.00</td>\n",
              "      <td>3</td>\n",
              "      <td>False</td>\n",
              "      <td>...</td>\n",
              "      <td>10.00</td>\n",
              "      <td>1</td>\n",
              "      <td>Санкт-Петербург</td>\n",
              "      <td>23833.0</td>\n",
              "      <td>4401.0</td>\n",
              "      <td>2</td>\n",
              "      <td>447.0</td>\n",
              "      <td>0</td>\n",
              "      <td>NaN</td>\n",
              "      <td>81.0</td>\n",
              "    </tr>\n",
              "  </tbody>\n",
              "</table>\n",
              "<p>51 rows × 22 columns</p>\n",
              "</div>"
            ],
            "text/plain": [
              "       total_images  last_price  total_area first_day_exposition  rooms  \\\n",
              "1093             20  12000000.0       77.60           2019-04-26      2   \n",
              "1759             20  12000000.0      128.00           2018-09-11      4   \n",
              "2024              9  12000000.0       99.00           2019-02-27      2   \n",
              "2397             11  12000000.0       84.68           2017-06-19      2   \n",
              "2404             11  12000000.0      103.40           2017-09-19      3   \n",
              "3092              8  12000000.0      141.00           2019-03-27      3   \n",
              "3443              6  12000000.0       83.00           2017-12-08      2   \n",
              "3771             12  12000000.0       55.70           2017-08-02      3   \n",
              "4294             12  12000000.0      107.40           2018-09-17      4   \n",
              "4587             11  12000000.0      115.10           2018-02-27      4   \n",
              "4649             12  12000000.0       85.00           2015-09-04      2   \n",
              "4909              9  12000000.0       89.90           2018-05-24      2   \n",
              "5141              9  12000000.0      110.20           2018-01-18      3   \n",
              "5550             14  12000000.0       99.40           2017-10-29      3   \n",
              "5973             14  12000000.0      116.00           2017-09-13      3   \n",
              "6253              9  12000000.0      104.00           2017-12-25      3   \n",
              "6540             17  12000000.0       92.00           2017-02-20      3   \n",
              "6642             15  12000000.0       99.00           2016-03-22      3   \n",
              "7297              6  12000000.0      111.00           2016-04-12      3   \n",
              "7743             17  12000000.0       90.40           2018-06-01      3   \n",
              "9048             13  12000000.0      106.00           2018-07-30      6   \n",
              "9627              0  12000000.0       96.00           2018-02-01      4   \n",
              "10789             1  12000000.0      147.90           2015-04-07      5   \n",
              "10881             4  12000000.0       60.70           2017-02-19      2   \n",
              "11527            19  12000000.0       91.80           2018-10-11      3   \n",
              "11633             8  12000000.0      126.00           2017-12-01      3   \n",
              "11860             3  12000000.0       71.41           2017-11-14      2   \n",
              "12406             8  12000000.0      107.40           2017-11-12      3   \n",
              "12473            20  12000000.0      120.00           2016-06-24      3   \n",
              "12728             8  12000000.0       70.90           2019-05-01      3   \n",
              "14961             6  12000000.0       73.00           2015-09-20      2   \n",
              "15226            17  12000000.0      103.10           2019-03-28      3   \n",
              "15619            10  12000000.0      143.00           2018-02-01      5   \n",
              "16160             8  12000000.0      115.00           2015-10-23      3   \n",
              "16472            19  12000000.0      125.00           2017-02-09      7   \n",
              "16560             1  12000000.0      116.50           2016-02-10      4   \n",
              "17039            10  12000000.0       67.00           2018-03-06      2   \n",
              "17411             8  12000000.0      114.20           2017-09-06      3   \n",
              "17433            15  12000000.0      113.30           2017-07-19      3   \n",
              "17518             9  12000000.0       98.70           2017-08-09      3   \n",
              "17711            11  12000000.0       70.00           2017-12-01      2   \n",
              "18131             1  12000000.0       97.20           2016-04-05      4   \n",
              "18361            19  12000000.0       73.00           2018-12-11      3   \n",
              "18943             4  12000000.0       64.60           2017-06-28      2   \n",
              "19150             8  12000000.0      110.00           2016-06-24      4   \n",
              "19687             6  12000000.0       98.00           2017-09-27      3   \n",
              "20588            16  12000000.0      131.00           2018-07-24      4   \n",
              "20610            19  12000000.0      100.60           2018-09-07      3   \n",
              "20860             7  12000000.0       86.00           2018-03-31      3   \n",
              "21533            20  12000000.0       87.00           2019-04-28      3   \n",
              "21535             4  12000000.0      136.50           2018-02-01      5   \n",
              "\n",
              "       ceiling_height  floors_total  living_area  floor  is_apartment  ...  \\\n",
              "1093             3.54             3        46.64      3         False  ...   \n",
              "1759             2.80            14        63.20      4         False  ...   \n",
              "2024              NaN            17        49.00     16         False  ...   \n",
              "2397              NaN             9        45.40      8         False  ...   \n",
              "2404             3.25             4        61.10      3         False  ...   \n",
              "3092             2.70             5        73.00      1         False  ...   \n",
              "3443              NaN             7        28.00      5         False  ...   \n",
              "3771             3.00             6        36.00      6         False  ...   \n",
              "4294             3.60             6        76.80      2         False  ...   \n",
              "4587             2.93             4        70.90      4         False  ...   \n",
              "4649             2.71             5        34.30      3         False  ...   \n",
              "4909             3.40             6        61.80      2         False  ...   \n",
              "5141             3.52             6        57.30      3         False  ...   \n",
              "5550             3.24             6        56.20      3         False  ...   \n",
              "5973             2.65            27        70.00     17         False  ...   \n",
              "6253              NaN            16        54.00      3         False  ...   \n",
              "6540             2.80            19        51.00      6         False  ...   \n",
              "6642             2.60            15        63.50     13         False  ...   \n",
              "7297             3.00            25        57.00     23         False  ...   \n",
              "7743             2.80            10        51.40     10         False  ...   \n",
              "9048             2.80             3        70.00      1         False  ...   \n",
              "9627             3.10             5        68.00      1         False  ...   \n",
              "10789            4.00             4        89.60      3         False  ...   \n",
              "10881            3.55             7        29.10      4         False  ...   \n",
              "11527            2.80            20        68.00      6         False  ...   \n",
              "11633            2.55             9        90.00      1         False  ...   \n",
              "11860             NaN            20        40.32      6         False  ...   \n",
              "12406             NaN             6        71.30      4         False  ...   \n",
              "12473            2.75            16        64.40      5         False  ...   \n",
              "12728            3.20             7        49.70      5         False  ...   \n",
              "14961            2.72            14        26.50     14         False  ...   \n",
              "15226             NaN             5        66.10      2         False  ...   \n",
              "15619            3.80             4        98.50      4         False  ...   \n",
              "16160             NaN            10        52.00      1         False  ...   \n",
              "16472            3.30             6        82.00      5         False  ...   \n",
              "16560             NaN             5        86.20      2         False  ...   \n",
              "17039            2.70            16        54.00     16         False  ...   \n",
              "17411            2.75            23        65.40     17         False  ...   \n",
              "17433            3.10             6        73.50      5         False  ...   \n",
              "17518            2.70             6        70.40      1         False  ...   \n",
              "17711            3.00             4        47.00      2         False  ...   \n",
              "18131            3.35             5        71.30      2         False  ...   \n",
              "18361            2.75            16        50.00     16         False  ...   \n",
              "18943             NaN             5        37.70      1         False  ...   \n",
              "19150            3.34             5        64.00      5         False  ...   \n",
              "19687            3.40             2        68.00      2         False  ...   \n",
              "20588            3.30             5        87.00      4         False  ...   \n",
              "20610            3.13             3        56.80      1         False  ...   \n",
              "20860             NaN            12        50.00     10         False  ...   \n",
              "21533             NaN            10        58.00      5         False  ...   \n",
              "21535            3.45             5        96.00      3         False  ...   \n",
              "\n",
              "       kitchen_area  balcony    locality_name  airports_nearest  \\\n",
              "1093          11.40        0  Санкт-Петербург           24487.0   \n",
              "1759          30.00        0  Санкт-Петербург           41570.0   \n",
              "2024            NaN        0  Санкт-Петербург           26293.0   \n",
              "2397          16.40        0  Санкт-Петербург           32121.0   \n",
              "2404          10.20        1  Санкт-Петербург           20821.0   \n",
              "3092          15.20        0         Петергоф           38485.0   \n",
              "3443          26.00        0  Санкт-Петербург           21102.0   \n",
              "3771            NaN        1  Санкт-Петербург           24117.0   \n",
              "4294          10.00        1  Санкт-Петербург           23056.0   \n",
              "4587          16.10        0  Санкт-Петербург           22037.0   \n",
              "4649          22.00        0  Санкт-Петербург           23409.0   \n",
              "4909          12.00        0  Санкт-Петербург           23915.0   \n",
              "5141          18.30        0  Санкт-Петербург           24110.0   \n",
              "5550          14.00        0  Санкт-Петербург           37288.0   \n",
              "5973          20.00        0  Санкт-Петербург           15916.0   \n",
              "6253          17.40        2  Санкт-Петербург           10476.0   \n",
              "6540          16.90        1  Санкт-Петербург           44289.0   \n",
              "6642          12.00        3  Санкт-Петербург           35958.0   \n",
              "7297          18.00        2  Санкт-Петербург           19424.0   \n",
              "7743          11.80        0  Санкт-Петербург           50747.0   \n",
              "9048          15.00        0  Санкт-Петербург           20290.0   \n",
              "9627          12.00        0  Санкт-Петербург           22885.0   \n",
              "10789         17.20        0  Санкт-Петербург           20882.0   \n",
              "10881         16.70        0  Санкт-Петербург           22526.0   \n",
              "11527         19.00        0  Санкт-Петербург           39771.0   \n",
              "11633         15.00        0  Санкт-Петербург           28529.0   \n",
              "11860         11.35        2  Санкт-Петербург           39140.0   \n",
              "12406          8.80        0  Санкт-Петербург           25257.0   \n",
              "12473         22.60        0  Санкт-Петербург           48783.0   \n",
              "12728          7.90        0  Санкт-Петербург           12430.0   \n",
              "14961         19.00        0  Санкт-Петербург           19559.0   \n",
              "15226         17.20        0  Санкт-Петербург           21385.0   \n",
              "15619         10.00        0  Санкт-Петербург           23653.0   \n",
              "16160         40.00        0  Санкт-Петербург           40558.0   \n",
              "16472         24.00        0  Санкт-Петербург           24697.0   \n",
              "16560         11.00        0  Санкт-Петербург           19797.0   \n",
              "17039           NaN        0  Санкт-Петербург           31800.0   \n",
              "17411         17.00        1  Санкт-Петербург           17393.0   \n",
              "17433         15.10        0  Санкт-Петербург           21937.0   \n",
              "17518          9.50        0  Санкт-Петербург           22856.0   \n",
              "17711         10.30        0  Санкт-Петербург           22318.0   \n",
              "18131           NaN        0  Санкт-Петербург           24559.0   \n",
              "18361          9.00        0  Санкт-Петербург           16954.0   \n",
              "18943         12.60        0  Санкт-Петербург           27046.0   \n",
              "19150         10.00        0  Санкт-Петербург           22468.0   \n",
              "19687         10.00        0  Санкт-Петербург           21849.0   \n",
              "20588         15.00        0  Санкт-Петербург           24011.0   \n",
              "20610         15.20        5         Петергоф           38485.0   \n",
              "20860         15.00        0  Санкт-Петербург           35966.0   \n",
              "21533         11.00        2  Санкт-Петербург           29460.0   \n",
              "21535         10.00        1  Санкт-Петербург           23833.0   \n",
              "\n",
              "      cityCenters_nearest  parks_around3000  parks_nearest  ponds_around3000  \\\n",
              "1093               4054.0                 1          710.0                 3   \n",
              "1759              11703.0                 1          493.0                 0   \n",
              "2024              10466.0                 1          390.0                 0   \n",
              "2397               5080.0                 0            NaN                 3   \n",
              "2404               1283.0                 1          287.0                 2   \n",
              "3092              33674.0                 1          240.0                 1   \n",
              "3443               1589.0                 2          476.0                 2   \n",
              "3771               4526.0                 1          473.0                 0   \n",
              "4294               2598.0                 0            NaN                 3   \n",
              "4587               3440.0                 0            NaN                 0   \n",
              "4649               3399.0                 3          409.0                 3   \n",
              "4909               4324.0                 1          442.0                 0   \n",
              "5141               3677.0                 2          513.0                 3   \n",
              "5550               8205.0                 1         1951.0                 3   \n",
              "5973               8180.0                 1          489.0                 2   \n",
              "6253              13852.0                 1          388.0                 1   \n",
              "6540              13868.0                 1          194.0                 0   \n",
              "6642               9860.0                 0            NaN                 0   \n",
              "7297               4489.0                 0            NaN                 1   \n",
              "7743              14697.0                 1          543.0                 0   \n",
              "9048               4733.0                 0            NaN                 1   \n",
              "9627               1782.0                 2          485.0                 2   \n",
              "10789              1195.0                 3          334.0                 3   \n",
              "10881              3175.0                 1         1028.0                 1   \n",
              "11527              8672.0                 1          139.0                 0   \n",
              "11633             14247.0                 0            NaN                 1   \n",
              "11860             10364.0                 2          173.0                 3   \n",
              "12406              6060.0                 1          761.0                 1   \n",
              "12473             16622.0                 0            NaN                 0   \n",
              "12728              7316.0                 1          238.0                 3   \n",
              "14961              4768.0                 0            NaN                 1   \n",
              "15226              4013.0                 0            NaN                 1   \n",
              "15619              3742.0                 0            NaN                 1   \n",
              "16160             12261.0                 2           40.0                 0   \n",
              "16472              5265.0                 1          407.0                 0   \n",
              "16560              2133.0                 2          401.0                 3   \n",
              "17039              8878.0                 2          302.0                 1   \n",
              "17411             12525.0                 0            NaN                 0   \n",
              "17433              3749.0                 1          519.0                 0   \n",
              "17518              3505.0                 1          811.0                 1   \n",
              "17711               621.0                 3          506.0                 3   \n",
              "18131              4811.0                 0            NaN                 0   \n",
              "18361             14786.0                 1          512.0                 0   \n",
              "18943              5749.0                 3          279.0                 1   \n",
              "19150              1308.0                 0            NaN                 3   \n",
              "19687              1325.0                 0            NaN                 3   \n",
              "20588              4579.0                 1          289.0                 0   \n",
              "20610             33674.0                 1          240.0                 1   \n",
              "20860             11487.0                 0            NaN                 3   \n",
              "21533             13656.0                 1          399.0                 1   \n",
              "21535              4401.0                 2          447.0                 0   \n",
              "\n",
              "       ponds_nearest  days_exposition  \n",
              "1093           272.0              NaN  \n",
              "1759             NaN              4.0  \n",
              "2024             NaN              NaN  \n",
              "2397           457.0            127.0  \n",
              "2404            29.0            201.0  \n",
              "3092           752.0             13.0  \n",
              "3443           315.0            507.0  \n",
              "3771             NaN             69.0  \n",
              "4294           707.0             21.0  \n",
              "4587             NaN             90.0  \n",
              "4649           103.0              NaN  \n",
              "4909             NaN              NaN  \n",
              "5141           477.0             85.0  \n",
              "5550           257.0            229.0  \n",
              "5973           830.0            151.0  \n",
              "6253           757.0             29.0  \n",
              "6540             NaN            241.0  \n",
              "6642             NaN             90.0  \n",
              "7297           806.0            915.0  \n",
              "7743             NaN              NaN  \n",
              "9048           238.0              NaN  \n",
              "9627           639.0            126.0  \n",
              "10789          231.0            565.0  \n",
              "10881          399.0              NaN  \n",
              "11527            NaN              4.0  \n",
              "11633          801.0             90.0  \n",
              "11860          196.0              NaN  \n",
              "12406          584.0             34.0  \n",
              "12473            NaN            578.0  \n",
              "12728          374.0              NaN  \n",
              "14961          648.0            758.0  \n",
              "15226          721.0              NaN  \n",
              "15619         1066.0            320.0  \n",
              "16160            NaN            551.0  \n",
              "16472            NaN            138.0  \n",
              "16560          209.0            368.0  \n",
              "17039          849.0            125.0  \n",
              "17411            NaN             46.0  \n",
              "17433            NaN             30.0  \n",
              "17518          411.0            250.0  \n",
              "17711          277.0             10.0  \n",
              "18131            NaN             89.0  \n",
              "18361            NaN              NaN  \n",
              "18943          676.0            364.0  \n",
              "19150          382.0            109.0  \n",
              "19687          235.0            109.0  \n",
              "20588            NaN              NaN  \n",
              "20610          752.0              NaN  \n",
              "20860          363.0             21.0  \n",
              "21533          628.0              NaN  \n",
              "21535            NaN             81.0  \n",
              "\n",
              "[51 rows x 22 columns]"
            ]
          },
          "metadata": {}
        }
      ]
    },
    {
      "cell_type": "code",
      "source": "data.loc[data['last_price']==data['last_price'].min(), ['last_price']] *= 1000",
      "metadata": {},
      "execution_count": 23,
      "outputs": []
    },
    {
      "cell_type": "code",
      "source": "data[data['last_price']==data['last_price'].max()]",
      "metadata": {},
      "execution_count": 24,
      "outputs": [
        {
          "execution_count": 24,
          "output_type": "execute_result",
          "data": {
            "text/html": [
              "<div>\n",
              "<style scoped>\n",
              "    .dataframe tbody tr th:only-of-type {\n",
              "        vertical-align: middle;\n",
              "    }\n",
              "\n",
              "    .dataframe tbody tr th {\n",
              "        vertical-align: top;\n",
              "    }\n",
              "\n",
              "    .dataframe thead th {\n",
              "        text-align: right;\n",
              "    }\n",
              "</style>\n",
              "<table border=\"1\" class=\"dataframe\">\n",
              "  <thead>\n",
              "    <tr style=\"text-align: right;\">\n",
              "      <th></th>\n",
              "      <th>total_images</th>\n",
              "      <th>last_price</th>\n",
              "      <th>total_area</th>\n",
              "      <th>first_day_exposition</th>\n",
              "      <th>rooms</th>\n",
              "      <th>ceiling_height</th>\n",
              "      <th>floors_total</th>\n",
              "      <th>living_area</th>\n",
              "      <th>floor</th>\n",
              "      <th>is_apartment</th>\n",
              "      <th>...</th>\n",
              "      <th>kitchen_area</th>\n",
              "      <th>balcony</th>\n",
              "      <th>locality_name</th>\n",
              "      <th>airports_nearest</th>\n",
              "      <th>cityCenters_nearest</th>\n",
              "      <th>parks_around3000</th>\n",
              "      <th>parks_nearest</th>\n",
              "      <th>ponds_around3000</th>\n",
              "      <th>ponds_nearest</th>\n",
              "      <th>days_exposition</th>\n",
              "    </tr>\n",
              "  </thead>\n",
              "  <tbody>\n",
              "    <tr>\n",
              "      <th>11897</th>\n",
              "      <td>19</td>\n",
              "      <td>763000000.0</td>\n",
              "      <td>400.0</td>\n",
              "      <td>2017-09-30</td>\n",
              "      <td>7</td>\n",
              "      <td>NaN</td>\n",
              "      <td>10</td>\n",
              "      <td>250.0</td>\n",
              "      <td>10</td>\n",
              "      <td>False</td>\n",
              "      <td>...</td>\n",
              "      <td>NaN</td>\n",
              "      <td>2</td>\n",
              "      <td>Санкт-Петербург</td>\n",
              "      <td>25108.0</td>\n",
              "      <td>3956.0</td>\n",
              "      <td>1</td>\n",
              "      <td>530.0</td>\n",
              "      <td>3</td>\n",
              "      <td>756.0</td>\n",
              "      <td>33.0</td>\n",
              "    </tr>\n",
              "  </tbody>\n",
              "</table>\n",
              "<p>1 rows × 22 columns</p>\n",
              "</div>"
            ],
            "text/plain": [
              "       total_images   last_price  total_area first_day_exposition  rooms  \\\n",
              "11897            19  763000000.0       400.0           2017-09-30      7   \n",
              "\n",
              "       ceiling_height  floors_total  living_area  floor  is_apartment  ...  \\\n",
              "11897             NaN            10        250.0     10         False  ...   \n",
              "\n",
              "       kitchen_area  balcony    locality_name  airports_nearest  \\\n",
              "11897           NaN        2  Санкт-Петербург           25108.0   \n",
              "\n",
              "      cityCenters_nearest  parks_around3000  parks_nearest  ponds_around3000  \\\n",
              "11897              3956.0                 1          530.0                 3   \n",
              "\n",
              "       ponds_nearest  days_exposition  \n",
              "11897          756.0             33.0  \n",
              "\n",
              "[1 rows x 22 columns]"
            ]
          },
          "metadata": {}
        }
      ]
    },
    {
      "cell_type": "markdown",
      "source": "На гистограмме стоимости объекта большая часть находится в диапазоне до 10.000.000, так же были обнаружены два отдаленных значения, минимальное и максимальное. При подробном изучении выявлено, что максимальное значение может оказаться правдоподобным, а минимальное ошибочно, скорее всего в нем пропущено три нуля, заменим это значение, увеличив его в 1000 раз.",
      "metadata": {}
    },
    {
      "cell_type": "code",
      "source": "data['rooms'].unique()",
      "metadata": {},
      "execution_count": 25,
      "outputs": [
        {
          "execution_count": 25,
          "output_type": "execute_result",
          "data": {
            "text/plain": [
              "array([ 3,  1,  2,  4,  5,  6,  0, 11,  7,  8, 14, 10, 15,  9, 19, 16, 12])"
            ]
          },
          "metadata": {}
        }
      ]
    },
    {
      "cell_type": "code",
      "source": "data[data['rooms']==0]",
      "metadata": {},
      "execution_count": 26,
      "outputs": [
        {
          "execution_count": 26,
          "output_type": "execute_result",
          "data": {
            "text/html": [
              "<div>\n",
              "<style scoped>\n",
              "    .dataframe tbody tr th:only-of-type {\n",
              "        vertical-align: middle;\n",
              "    }\n",
              "\n",
              "    .dataframe tbody tr th {\n",
              "        vertical-align: top;\n",
              "    }\n",
              "\n",
              "    .dataframe thead th {\n",
              "        text-align: right;\n",
              "    }\n",
              "</style>\n",
              "<table border=\"1\" class=\"dataframe\">\n",
              "  <thead>\n",
              "    <tr style=\"text-align: right;\">\n",
              "      <th></th>\n",
              "      <th>total_images</th>\n",
              "      <th>last_price</th>\n",
              "      <th>total_area</th>\n",
              "      <th>first_day_exposition</th>\n",
              "      <th>rooms</th>\n",
              "      <th>ceiling_height</th>\n",
              "      <th>floors_total</th>\n",
              "      <th>living_area</th>\n",
              "      <th>floor</th>\n",
              "      <th>is_apartment</th>\n",
              "      <th>...</th>\n",
              "      <th>kitchen_area</th>\n",
              "      <th>balcony</th>\n",
              "      <th>locality_name</th>\n",
              "      <th>airports_nearest</th>\n",
              "      <th>cityCenters_nearest</th>\n",
              "      <th>parks_around3000</th>\n",
              "      <th>parks_nearest</th>\n",
              "      <th>ponds_around3000</th>\n",
              "      <th>ponds_nearest</th>\n",
              "      <th>days_exposition</th>\n",
              "    </tr>\n",
              "  </thead>\n",
              "  <tbody>\n",
              "    <tr>\n",
              "      <th>133</th>\n",
              "      <td>1</td>\n",
              "      <td>2450000.0</td>\n",
              "      <td>27.00</td>\n",
              "      <td>2017-03-30</td>\n",
              "      <td>0</td>\n",
              "      <td>NaN</td>\n",
              "      <td>24</td>\n",
              "      <td>15.50</td>\n",
              "      <td>2</td>\n",
              "      <td>False</td>\n",
              "      <td>...</td>\n",
              "      <td>NaN</td>\n",
              "      <td>2</td>\n",
              "      <td>Мурино</td>\n",
              "      <td>NaN</td>\n",
              "      <td>NaN</td>\n",
              "      <td>0</td>\n",
              "      <td>NaN</td>\n",
              "      <td>0</td>\n",
              "      <td>NaN</td>\n",
              "      <td>181.0</td>\n",
              "    </tr>\n",
              "    <tr>\n",
              "      <th>324</th>\n",
              "      <td>4</td>\n",
              "      <td>2320000.0</td>\n",
              "      <td>25.00</td>\n",
              "      <td>2017-09-27</td>\n",
              "      <td>0</td>\n",
              "      <td>NaN</td>\n",
              "      <td>14</td>\n",
              "      <td>17.00</td>\n",
              "      <td>1</td>\n",
              "      <td>False</td>\n",
              "      <td>...</td>\n",
              "      <td>NaN</td>\n",
              "      <td>0</td>\n",
              "      <td>Кудрово</td>\n",
              "      <td>NaN</td>\n",
              "      <td>NaN</td>\n",
              "      <td>0</td>\n",
              "      <td>NaN</td>\n",
              "      <td>0</td>\n",
              "      <td>NaN</td>\n",
              "      <td>45.0</td>\n",
              "    </tr>\n",
              "    <tr>\n",
              "      <th>408</th>\n",
              "      <td>8</td>\n",
              "      <td>2480000.0</td>\n",
              "      <td>27.11</td>\n",
              "      <td>2018-03-12</td>\n",
              "      <td>0</td>\n",
              "      <td>NaN</td>\n",
              "      <td>17</td>\n",
              "      <td>24.75</td>\n",
              "      <td>4</td>\n",
              "      <td>False</td>\n",
              "      <td>...</td>\n",
              "      <td>NaN</td>\n",
              "      <td>2</td>\n",
              "      <td>Санкт-Петербург</td>\n",
              "      <td>38171.0</td>\n",
              "      <td>15015.0</td>\n",
              "      <td>0</td>\n",
              "      <td>NaN</td>\n",
              "      <td>2</td>\n",
              "      <td>982.0</td>\n",
              "      <td>64.0</td>\n",
              "    </tr>\n",
              "    <tr>\n",
              "      <th>471</th>\n",
              "      <td>0</td>\n",
              "      <td>3375000.0</td>\n",
              "      <td>34.40</td>\n",
              "      <td>2017-03-28</td>\n",
              "      <td>0</td>\n",
              "      <td>NaN</td>\n",
              "      <td>26</td>\n",
              "      <td>24.30</td>\n",
              "      <td>19</td>\n",
              "      <td>False</td>\n",
              "      <td>...</td>\n",
              "      <td>NaN</td>\n",
              "      <td>1</td>\n",
              "      <td>Парголово</td>\n",
              "      <td>53115.0</td>\n",
              "      <td>19292.0</td>\n",
              "      <td>0</td>\n",
              "      <td>NaN</td>\n",
              "      <td>1</td>\n",
              "      <td>593.0</td>\n",
              "      <td>430.0</td>\n",
              "    </tr>\n",
              "    <tr>\n",
              "      <th>643</th>\n",
              "      <td>12</td>\n",
              "      <td>2500000.0</td>\n",
              "      <td>24.10</td>\n",
              "      <td>2017-12-01</td>\n",
              "      <td>0</td>\n",
              "      <td>2.75</td>\n",
              "      <td>25</td>\n",
              "      <td>17.50</td>\n",
              "      <td>21</td>\n",
              "      <td>False</td>\n",
              "      <td>...</td>\n",
              "      <td>NaN</td>\n",
              "      <td>0</td>\n",
              "      <td>Кудрово</td>\n",
              "      <td>NaN</td>\n",
              "      <td>NaN</td>\n",
              "      <td>0</td>\n",
              "      <td>NaN</td>\n",
              "      <td>0</td>\n",
              "      <td>NaN</td>\n",
              "      <td>201.0</td>\n",
              "    </tr>\n",
              "    <tr>\n",
              "      <th>...</th>\n",
              "      <td>...</td>\n",
              "      <td>...</td>\n",
              "      <td>...</td>\n",
              "      <td>...</td>\n",
              "      <td>...</td>\n",
              "      <td>...</td>\n",
              "      <td>...</td>\n",
              "      <td>...</td>\n",
              "      <td>...</td>\n",
              "      <td>...</td>\n",
              "      <td>...</td>\n",
              "      <td>...</td>\n",
              "      <td>...</td>\n",
              "      <td>...</td>\n",
              "      <td>...</td>\n",
              "      <td>...</td>\n",
              "      <td>...</td>\n",
              "      <td>...</td>\n",
              "      <td>...</td>\n",
              "      <td>...</td>\n",
              "      <td>...</td>\n",
              "    </tr>\n",
              "    <tr>\n",
              "      <th>20946</th>\n",
              "      <td>2</td>\n",
              "      <td>4280000.0</td>\n",
              "      <td>28.00</td>\n",
              "      <td>2017-10-26</td>\n",
              "      <td>0</td>\n",
              "      <td>2.70</td>\n",
              "      <td>19</td>\n",
              "      <td>18.00</td>\n",
              "      <td>10</td>\n",
              "      <td>False</td>\n",
              "      <td>...</td>\n",
              "      <td>NaN</td>\n",
              "      <td>0</td>\n",
              "      <td>Санкт-Петербург</td>\n",
              "      <td>18982.0</td>\n",
              "      <td>7206.0</td>\n",
              "      <td>0</td>\n",
              "      <td>NaN</td>\n",
              "      <td>1</td>\n",
              "      <td>415.0</td>\n",
              "      <td>151.0</td>\n",
              "    </tr>\n",
              "    <tr>\n",
              "      <th>21249</th>\n",
              "      <td>7</td>\n",
              "      <td>3200000.0</td>\n",
              "      <td>26.00</td>\n",
              "      <td>2017-09-01</td>\n",
              "      <td>0</td>\n",
              "      <td>NaN</td>\n",
              "      <td>25</td>\n",
              "      <td>18.00</td>\n",
              "      <td>16</td>\n",
              "      <td>False</td>\n",
              "      <td>...</td>\n",
              "      <td>NaN</td>\n",
              "      <td>0</td>\n",
              "      <td>Санкт-Петербург</td>\n",
              "      <td>11405.0</td>\n",
              "      <td>13222.0</td>\n",
              "      <td>0</td>\n",
              "      <td>NaN</td>\n",
              "      <td>1</td>\n",
              "      <td>623.0</td>\n",
              "      <td>14.0</td>\n",
              "    </tr>\n",
              "    <tr>\n",
              "      <th>21468</th>\n",
              "      <td>0</td>\n",
              "      <td>2500000.0</td>\n",
              "      <td>27.70</td>\n",
              "      <td>2017-09-28</td>\n",
              "      <td>0</td>\n",
              "      <td>NaN</td>\n",
              "      <td>24</td>\n",
              "      <td>18.00</td>\n",
              "      <td>4</td>\n",
              "      <td>False</td>\n",
              "      <td>...</td>\n",
              "      <td>NaN</td>\n",
              "      <td>2</td>\n",
              "      <td>Мурино</td>\n",
              "      <td>NaN</td>\n",
              "      <td>NaN</td>\n",
              "      <td>0</td>\n",
              "      <td>NaN</td>\n",
              "      <td>0</td>\n",
              "      <td>NaN</td>\n",
              "      <td>4.0</td>\n",
              "    </tr>\n",
              "    <tr>\n",
              "      <th>21604</th>\n",
              "      <td>10</td>\n",
              "      <td>1450000.0</td>\n",
              "      <td>29.00</td>\n",
              "      <td>2017-11-11</td>\n",
              "      <td>0</td>\n",
              "      <td>NaN</td>\n",
              "      <td>9</td>\n",
              "      <td>18.00</td>\n",
              "      <td>8</td>\n",
              "      <td>False</td>\n",
              "      <td>...</td>\n",
              "      <td>NaN</td>\n",
              "      <td>2</td>\n",
              "      <td>Никольское</td>\n",
              "      <td>NaN</td>\n",
              "      <td>NaN</td>\n",
              "      <td>0</td>\n",
              "      <td>NaN</td>\n",
              "      <td>0</td>\n",
              "      <td>NaN</td>\n",
              "      <td>82.0</td>\n",
              "    </tr>\n",
              "    <tr>\n",
              "      <th>21644</th>\n",
              "      <td>8</td>\n",
              "      <td>2350000.0</td>\n",
              "      <td>26.00</td>\n",
              "      <td>2018-06-26</td>\n",
              "      <td>0</td>\n",
              "      <td>NaN</td>\n",
              "      <td>25</td>\n",
              "      <td>17.00</td>\n",
              "      <td>4</td>\n",
              "      <td>False</td>\n",
              "      <td>...</td>\n",
              "      <td>NaN</td>\n",
              "      <td>2</td>\n",
              "      <td>Бугры</td>\n",
              "      <td>NaN</td>\n",
              "      <td>NaN</td>\n",
              "      <td>0</td>\n",
              "      <td>NaN</td>\n",
              "      <td>0</td>\n",
              "      <td>NaN</td>\n",
              "      <td>207.0</td>\n",
              "    </tr>\n",
              "  </tbody>\n",
              "</table>\n",
              "<p>183 rows × 22 columns</p>\n",
              "</div>"
            ],
            "text/plain": [
              "       total_images  last_price  total_area first_day_exposition  rooms  \\\n",
              "133               1   2450000.0       27.00           2017-03-30      0   \n",
              "324               4   2320000.0       25.00           2017-09-27      0   \n",
              "408               8   2480000.0       27.11           2018-03-12      0   \n",
              "471               0   3375000.0       34.40           2017-03-28      0   \n",
              "643              12   2500000.0       24.10           2017-12-01      0   \n",
              "...             ...         ...         ...                  ...    ...   \n",
              "20946             2   4280000.0       28.00           2017-10-26      0   \n",
              "21249             7   3200000.0       26.00           2017-09-01      0   \n",
              "21468             0   2500000.0       27.70           2017-09-28      0   \n",
              "21604            10   1450000.0       29.00           2017-11-11      0   \n",
              "21644             8   2350000.0       26.00           2018-06-26      0   \n",
              "\n",
              "       ceiling_height  floors_total  living_area  floor  is_apartment  ...  \\\n",
              "133               NaN            24        15.50      2         False  ...   \n",
              "324               NaN            14        17.00      1         False  ...   \n",
              "408               NaN            17        24.75      4         False  ...   \n",
              "471               NaN            26        24.30     19         False  ...   \n",
              "643              2.75            25        17.50     21         False  ...   \n",
              "...               ...           ...          ...    ...           ...  ...   \n",
              "20946            2.70            19        18.00     10         False  ...   \n",
              "21249             NaN            25        18.00     16         False  ...   \n",
              "21468             NaN            24        18.00      4         False  ...   \n",
              "21604             NaN             9        18.00      8         False  ...   \n",
              "21644             NaN            25        17.00      4         False  ...   \n",
              "\n",
              "       kitchen_area  balcony    locality_name  airports_nearest  \\\n",
              "133             NaN        2           Мурино               NaN   \n",
              "324             NaN        0          Кудрово               NaN   \n",
              "408             NaN        2  Санкт-Петербург           38171.0   \n",
              "471             NaN        1        Парголово           53115.0   \n",
              "643             NaN        0          Кудрово               NaN   \n",
              "...             ...      ...              ...               ...   \n",
              "20946           NaN        0  Санкт-Петербург           18982.0   \n",
              "21249           NaN        0  Санкт-Петербург           11405.0   \n",
              "21468           NaN        2           Мурино               NaN   \n",
              "21604           NaN        2       Никольское               NaN   \n",
              "21644           NaN        2            Бугры               NaN   \n",
              "\n",
              "      cityCenters_nearest  parks_around3000  parks_nearest  ponds_around3000  \\\n",
              "133                   NaN                 0            NaN                 0   \n",
              "324                   NaN                 0            NaN                 0   \n",
              "408               15015.0                 0            NaN                 2   \n",
              "471               19292.0                 0            NaN                 1   \n",
              "643                   NaN                 0            NaN                 0   \n",
              "...                   ...               ...            ...               ...   \n",
              "20946              7206.0                 0            NaN                 1   \n",
              "21249             13222.0                 0            NaN                 1   \n",
              "21468                 NaN                 0            NaN                 0   \n",
              "21604                 NaN                 0            NaN                 0   \n",
              "21644                 NaN                 0            NaN                 0   \n",
              "\n",
              "       ponds_nearest  days_exposition  \n",
              "133              NaN            181.0  \n",
              "324              NaN             45.0  \n",
              "408            982.0             64.0  \n",
              "471            593.0            430.0  \n",
              "643              NaN            201.0  \n",
              "...              ...              ...  \n",
              "20946          415.0            151.0  \n",
              "21249          623.0             14.0  \n",
              "21468            NaN              4.0  \n",
              "21604            NaN             82.0  \n",
              "21644            NaN            207.0  \n",
              "\n",
              "[183 rows x 22 columns]"
            ]
          },
          "metadata": {}
        }
      ]
    },
    {
      "cell_type": "markdown",
      "source": "Найден ряд записей, в которых в столбце 'rooms' указан 0. Стоит учитывать это при дальнейшей работе с данными.",
      "metadata": {}
    },
    {
      "cell_type": "code",
      "source": "data['ceiling_height'].hist(bins=20)",
      "metadata": {},
      "execution_count": 27,
      "outputs": [
        {
          "execution_count": 27,
          "output_type": "execute_result",
          "data": {
            "text/plain": [
              "<AxesSubplot:>"
            ]
          },
          "metadata": {}
        },
        {
          "output_type": "display_data",
          "data": {
            "image/png": "[encoded data removed]",
            "text/plain": [
              "<Figure size 432x288 with 1 Axes>"
            ]
          },
          "metadata": {
            "needs_background": "light"
          }
        }
      ]
    },
    {
      "cell_type": "code",
      "source": "data['ceiling_height'].hist(bins=20, range=(0, 6))",
      "metadata": {},
      "execution_count": 28,
      "outputs": [
        {
          "execution_count": 28,
          "output_type": "execute_result",
          "data": {
            "text/plain": [
              "<AxesSubplot:>"
            ]
          },
          "metadata": {}
        },
        {
          "output_type": "display_data",
          "data": {
            "image/png": "[encoded data removed]",
            "text/plain": [
              "<Figure size 432x288 with 1 Axes>"
            ]
          },
          "metadata": {
            "needs_background": "light"
          }
        }
      ]
    },
    {
      "cell_type": "code",
      "source": "data.groupby('ceiling_height')['ceiling_height'].count().tail(15)",
      "metadata": {},
      "execution_count": 29,
      "outputs": [
        {
          "execution_count": 29,
          "output_type": "execute_result",
          "data": {
            "text/plain": [
              "ceiling_height\n",
              "5.8      1\n",
              "6.0      1\n",
              "8.0      3\n",
              "8.3      1\n",
              "10.3     1\n",
              "14.0     1\n",
              "20.0     1\n",
              "22.6     1\n",
              "24.0     1\n",
              "25.0     7\n",
              "26.0     1\n",
              "27.0     8\n",
              "27.5     1\n",
              "32.0     2\n",
              "100.0    1\n",
              "Name: ceiling_height, dtype: int64"
            ]
          },
          "metadata": {}
        }
      ]
    },
    {
      "cell_type": "markdown",
      "source": "Большая часть значений высоты потолков находится в диапазоне от 2,5 до 3,5 метров, учитывая это, значения более 20 метров, вероятно, указы непровильно и являются выщественными значениями с пропущенной точкой.",
      "metadata": {}
    },
    {
      "cell_type": "code",
      "source": "data.loc[data['ceiling_height']>=20.0, ['ceiling_height']] /= 10",
      "metadata": {},
      "execution_count": 30,
      "outputs": []
    },
    {
      "cell_type": "code",
      "source": "data['ceiling_height'].hist(bins=30)",
      "metadata": {},
      "execution_count": 31,
      "outputs": [
        {
          "execution_count": 31,
          "output_type": "execute_result",
          "data": {
            "text/plain": [
              "<AxesSubplot:>"
            ]
          },
          "metadata": {}
        },
        {
          "output_type": "display_data",
          "data": {
            "image/png": "[encoded data removed]",
            "text/plain": [
              "<Figure size 432x288 with 1 Axes>"
            ]
          },
          "metadata": {
            "needs_background": "light"
          }
        }
      ]
    },
    {
      "cell_type": "code",
      "source": "data['living_area'].hist(bins=100)",
      "metadata": {},
      "execution_count": 32,
      "outputs": [
        {
          "execution_count": 32,
          "output_type": "execute_result",
          "data": {
            "text/plain": [
              "<AxesSubplot:>"
            ]
          },
          "metadata": {}
        },
        {
          "output_type": "display_data",
          "data": {
            "image/png": "[encoded data removed]",
            "text/plain": [
              "<Figure size 432x288 with 1 Axes>"
            ]
          },
          "metadata": {
            "needs_background": "light"
          }
        }
      ]
    },
    {
      "cell_type": "code",
      "source": "sorted(data['living_area'].unique())[:10]",
      "metadata": {},
      "execution_count": 33,
      "outputs": [
        {
          "execution_count": 33,
          "output_type": "execute_result",
          "data": {
            "text/plain": [
              "[2.0, 3.0, 5.0, 5.4, 6.0, 6.5, 8.0, 8.3, 8.4, 8.5]"
            ]
          },
          "metadata": {}
        }
      ]
    },
    {
      "cell_type": "code",
      "source": "data[data['living_area']<10.0]",
      "metadata": {},
      "execution_count": 34,
      "outputs": [
        {
          "execution_count": 34,
          "output_type": "execute_result",
          "data": {
            "text/html": [
              "<div>\n",
              "<style scoped>\n",
              "    .dataframe tbody tr th:only-of-type {\n",
              "        vertical-align: middle;\n",
              "    }\n",
              "\n",
              "    .dataframe tbody tr th {\n",
              "        vertical-align: top;\n",
              "    }\n",
              "\n",
              "    .dataframe thead th {\n",
              "        text-align: right;\n",
              "    }\n",
              "</style>\n",
              "<table border=\"1\" class=\"dataframe\">\n",
              "  <thead>\n",
              "    <tr style=\"text-align: right;\">\n",
              "      <th></th>\n",
              "      <th>total_images</th>\n",
              "      <th>last_price</th>\n",
              "      <th>total_area</th>\n",
              "      <th>first_day_exposition</th>\n",
              "      <th>rooms</th>\n",
              "      <th>ceiling_height</th>\n",
              "      <th>floors_total</th>\n",
              "      <th>living_area</th>\n",
              "      <th>floor</th>\n",
              "      <th>is_apartment</th>\n",
              "      <th>...</th>\n",
              "      <th>kitchen_area</th>\n",
              "      <th>balcony</th>\n",
              "      <th>locality_name</th>\n",
              "      <th>airports_nearest</th>\n",
              "      <th>cityCenters_nearest</th>\n",
              "      <th>parks_around3000</th>\n",
              "      <th>parks_nearest</th>\n",
              "      <th>ponds_around3000</th>\n",
              "      <th>ponds_nearest</th>\n",
              "      <th>days_exposition</th>\n",
              "    </tr>\n",
              "  </thead>\n",
              "  <tbody>\n",
              "    <tr>\n",
              "      <th>105</th>\n",
              "      <td>5</td>\n",
              "      <td>4000000.0</td>\n",
              "      <td>21.40</td>\n",
              "      <td>2019-02-07</td>\n",
              "      <td>1</td>\n",
              "      <td>2.90</td>\n",
              "      <td>8</td>\n",
              "      <td>8.3</td>\n",
              "      <td>7</td>\n",
              "      <td>False</td>\n",
              "      <td>...</td>\n",
              "      <td>6.3</td>\n",
              "      <td>0</td>\n",
              "      <td>Санкт-Петербург</td>\n",
              "      <td>27089.0</td>\n",
              "      <td>5791.0</td>\n",
              "      <td>2</td>\n",
              "      <td>488.0</td>\n",
              "      <td>1</td>\n",
              "      <td>286.0</td>\n",
              "      <td>NaN</td>\n",
              "    </tr>\n",
              "    <tr>\n",
              "      <th>627</th>\n",
              "      <td>14</td>\n",
              "      <td>7200000.0</td>\n",
              "      <td>43.00</td>\n",
              "      <td>2017-10-31</td>\n",
              "      <td>1</td>\n",
              "      <td>NaN</td>\n",
              "      <td>8</td>\n",
              "      <td>9.0</td>\n",
              "      <td>2</td>\n",
              "      <td>False</td>\n",
              "      <td>...</td>\n",
              "      <td>23.0</td>\n",
              "      <td>0</td>\n",
              "      <td>Санкт-Петербург</td>\n",
              "      <td>23900.0</td>\n",
              "      <td>5232.0</td>\n",
              "      <td>1</td>\n",
              "      <td>2137.0</td>\n",
              "      <td>1</td>\n",
              "      <td>933.0</td>\n",
              "      <td>296.0</td>\n",
              "    </tr>\n",
              "    <tr>\n",
              "      <th>1219</th>\n",
              "      <td>8</td>\n",
              "      <td>8100000.0</td>\n",
              "      <td>52.00</td>\n",
              "      <td>2017-01-29</td>\n",
              "      <td>2</td>\n",
              "      <td>2.70</td>\n",
              "      <td>25</td>\n",
              "      <td>9.0</td>\n",
              "      <td>15</td>\n",
              "      <td>False</td>\n",
              "      <td>...</td>\n",
              "      <td>32.0</td>\n",
              "      <td>2</td>\n",
              "      <td>Санкт-Петербург</td>\n",
              "      <td>35555.0</td>\n",
              "      <td>15561.0</td>\n",
              "      <td>0</td>\n",
              "      <td>NaN</td>\n",
              "      <td>1</td>\n",
              "      <td>1180.0</td>\n",
              "      <td>337.0</td>\n",
              "    </tr>\n",
              "    <tr>\n",
              "      <th>2127</th>\n",
              "      <td>10</td>\n",
              "      <td>4200000.0</td>\n",
              "      <td>62.40</td>\n",
              "      <td>2017-06-15</td>\n",
              "      <td>2</td>\n",
              "      <td>2.60</td>\n",
              "      <td>9</td>\n",
              "      <td>8.4</td>\n",
              "      <td>6</td>\n",
              "      <td>False</td>\n",
              "      <td>...</td>\n",
              "      <td>41.0</td>\n",
              "      <td>2</td>\n",
              "      <td>Шушары</td>\n",
              "      <td>23662.0</td>\n",
              "      <td>29448.0</td>\n",
              "      <td>0</td>\n",
              "      <td>NaN</td>\n",
              "      <td>0</td>\n",
              "      <td>NaN</td>\n",
              "      <td>111.0</td>\n",
              "    </tr>\n",
              "    <tr>\n",
              "      <th>2969</th>\n",
              "      <td>7</td>\n",
              "      <td>4440000.0</td>\n",
              "      <td>41.00</td>\n",
              "      <td>2017-07-02</td>\n",
              "      <td>1</td>\n",
              "      <td>NaN</td>\n",
              "      <td>17</td>\n",
              "      <td>3.0</td>\n",
              "      <td>17</td>\n",
              "      <td>False</td>\n",
              "      <td>...</td>\n",
              "      <td>11.0</td>\n",
              "      <td>0</td>\n",
              "      <td>Санкт-Петербург</td>\n",
              "      <td>19272.0</td>\n",
              "      <td>13073.0</td>\n",
              "      <td>0</td>\n",
              "      <td>NaN</td>\n",
              "      <td>0</td>\n",
              "      <td>NaN</td>\n",
              "      <td>216.0</td>\n",
              "    </tr>\n",
              "    <tr>\n",
              "      <th>3762</th>\n",
              "      <td>17</td>\n",
              "      <td>5300000.0</td>\n",
              "      <td>34.80</td>\n",
              "      <td>2017-06-19</td>\n",
              "      <td>1</td>\n",
              "      <td>2.70</td>\n",
              "      <td>23</td>\n",
              "      <td>9.0</td>\n",
              "      <td>15</td>\n",
              "      <td>False</td>\n",
              "      <td>...</td>\n",
              "      <td>17.1</td>\n",
              "      <td>0</td>\n",
              "      <td>Санкт-Петербург</td>\n",
              "      <td>33626.0</td>\n",
              "      <td>13495.0</td>\n",
              "      <td>0</td>\n",
              "      <td>NaN</td>\n",
              "      <td>0</td>\n",
              "      <td>NaN</td>\n",
              "      <td>30.0</td>\n",
              "    </tr>\n",
              "    <tr>\n",
              "      <th>4166</th>\n",
              "      <td>12</td>\n",
              "      <td>3300000.0</td>\n",
              "      <td>18.00</td>\n",
              "      <td>2018-11-07</td>\n",
              "      <td>1</td>\n",
              "      <td>3.50</td>\n",
              "      <td>5</td>\n",
              "      <td>9.0</td>\n",
              "      <td>2</td>\n",
              "      <td>False</td>\n",
              "      <td>...</td>\n",
              "      <td>NaN</td>\n",
              "      <td>0</td>\n",
              "      <td>Санкт-Петербург</td>\n",
              "      <td>25157.0</td>\n",
              "      <td>4948.0</td>\n",
              "      <td>2</td>\n",
              "      <td>349.0</td>\n",
              "      <td>1</td>\n",
              "      <td>963.0</td>\n",
              "      <td>9.0</td>\n",
              "    </tr>\n",
              "    <tr>\n",
              "      <th>6695</th>\n",
              "      <td>8</td>\n",
              "      <td>3400000.0</td>\n",
              "      <td>27.00</td>\n",
              "      <td>2018-02-21</td>\n",
              "      <td>2</td>\n",
              "      <td>2.50</td>\n",
              "      <td>15</td>\n",
              "      <td>9.0</td>\n",
              "      <td>4</td>\n",
              "      <td>False</td>\n",
              "      <td>...</td>\n",
              "      <td>16.0</td>\n",
              "      <td>0</td>\n",
              "      <td>Санкт-Петербург</td>\n",
              "      <td>50246.0</td>\n",
              "      <td>16444.0</td>\n",
              "      <td>1</td>\n",
              "      <td>617.0</td>\n",
              "      <td>0</td>\n",
              "      <td>NaN</td>\n",
              "      <td>NaN</td>\n",
              "    </tr>\n",
              "    <tr>\n",
              "      <th>7620</th>\n",
              "      <td>9</td>\n",
              "      <td>4800000.0</td>\n",
              "      <td>52.00</td>\n",
              "      <td>2017-10-25</td>\n",
              "      <td>2</td>\n",
              "      <td>NaN</td>\n",
              "      <td>5</td>\n",
              "      <td>9.0</td>\n",
              "      <td>2</td>\n",
              "      <td>False</td>\n",
              "      <td>...</td>\n",
              "      <td>6.0</td>\n",
              "      <td>1</td>\n",
              "      <td>Санкт-Петербург</td>\n",
              "      <td>33358.0</td>\n",
              "      <td>13171.0</td>\n",
              "      <td>0</td>\n",
              "      <td>NaN</td>\n",
              "      <td>2</td>\n",
              "      <td>118.0</td>\n",
              "      <td>119.0</td>\n",
              "    </tr>\n",
              "    <tr>\n",
              "      <th>12762</th>\n",
              "      <td>20</td>\n",
              "      <td>6350000.0</td>\n",
              "      <td>52.00</td>\n",
              "      <td>2018-02-06</td>\n",
              "      <td>2</td>\n",
              "      <td>3.00</td>\n",
              "      <td>6</td>\n",
              "      <td>2.0</td>\n",
              "      <td>2</td>\n",
              "      <td>False</td>\n",
              "      <td>...</td>\n",
              "      <td>9.0</td>\n",
              "      <td>0</td>\n",
              "      <td>Санкт-Петербург</td>\n",
              "      <td>32453.0</td>\n",
              "      <td>6521.0</td>\n",
              "      <td>0</td>\n",
              "      <td>NaN</td>\n",
              "      <td>1</td>\n",
              "      <td>1012.0</td>\n",
              "      <td>91.0</td>\n",
              "    </tr>\n",
              "    <tr>\n",
              "      <th>14511</th>\n",
              "      <td>20</td>\n",
              "      <td>4600000.0</td>\n",
              "      <td>33.00</td>\n",
              "      <td>2017-01-01</td>\n",
              "      <td>1</td>\n",
              "      <td>2.70</td>\n",
              "      <td>22</td>\n",
              "      <td>9.0</td>\n",
              "      <td>12</td>\n",
              "      <td>False</td>\n",
              "      <td>...</td>\n",
              "      <td>14.3</td>\n",
              "      <td>1</td>\n",
              "      <td>Санкт-Петербург</td>\n",
              "      <td>33803.0</td>\n",
              "      <td>13671.0</td>\n",
              "      <td>0</td>\n",
              "      <td>NaN</td>\n",
              "      <td>0</td>\n",
              "      <td>NaN</td>\n",
              "      <td>511.0</td>\n",
              "    </tr>\n",
              "    <tr>\n",
              "      <th>15053</th>\n",
              "      <td>13</td>\n",
              "      <td>3799000.0</td>\n",
              "      <td>31.00</td>\n",
              "      <td>2018-04-12</td>\n",
              "      <td>1</td>\n",
              "      <td>2.60</td>\n",
              "      <td>5</td>\n",
              "      <td>6.0</td>\n",
              "      <td>1</td>\n",
              "      <td>False</td>\n",
              "      <td>...</td>\n",
              "      <td>17.0</td>\n",
              "      <td>0</td>\n",
              "      <td>Санкт-Петербург</td>\n",
              "      <td>32177.0</td>\n",
              "      <td>4826.0</td>\n",
              "      <td>1</td>\n",
              "      <td>430.0</td>\n",
              "      <td>0</td>\n",
              "      <td>NaN</td>\n",
              "      <td>168.0</td>\n",
              "    </tr>\n",
              "    <tr>\n",
              "      <th>15795</th>\n",
              "      <td>20</td>\n",
              "      <td>5300000.0</td>\n",
              "      <td>33.00</td>\n",
              "      <td>2017-04-14</td>\n",
              "      <td>1</td>\n",
              "      <td>2.70</td>\n",
              "      <td>22</td>\n",
              "      <td>8.9</td>\n",
              "      <td>16</td>\n",
              "      <td>False</td>\n",
              "      <td>...</td>\n",
              "      <td>16.1</td>\n",
              "      <td>1</td>\n",
              "      <td>Санкт-Петербург</td>\n",
              "      <td>33803.0</td>\n",
              "      <td>13671.0</td>\n",
              "      <td>0</td>\n",
              "      <td>NaN</td>\n",
              "      <td>0</td>\n",
              "      <td>NaN</td>\n",
              "      <td>216.0</td>\n",
              "    </tr>\n",
              "    <tr>\n",
              "      <th>16095</th>\n",
              "      <td>11</td>\n",
              "      <td>2680000.0</td>\n",
              "      <td>22.00</td>\n",
              "      <td>2018-08-11</td>\n",
              "      <td>0</td>\n",
              "      <td>NaN</td>\n",
              "      <td>25</td>\n",
              "      <td>5.0</td>\n",
              "      <td>8</td>\n",
              "      <td>False</td>\n",
              "      <td>...</td>\n",
              "      <td>NaN</td>\n",
              "      <td>2</td>\n",
              "      <td>Санкт-Петербург</td>\n",
              "      <td>22735.0</td>\n",
              "      <td>11618.0</td>\n",
              "      <td>1</td>\n",
              "      <td>835.0</td>\n",
              "      <td>1</td>\n",
              "      <td>652.0</td>\n",
              "      <td>70.0</td>\n",
              "    </tr>\n",
              "    <tr>\n",
              "      <th>17625</th>\n",
              "      <td>19</td>\n",
              "      <td>4050000.0</td>\n",
              "      <td>33.00</td>\n",
              "      <td>2018-10-15</td>\n",
              "      <td>1</td>\n",
              "      <td>2.50</td>\n",
              "      <td>22</td>\n",
              "      <td>6.5</td>\n",
              "      <td>21</td>\n",
              "      <td>False</td>\n",
              "      <td>...</td>\n",
              "      <td>18.0</td>\n",
              "      <td>0</td>\n",
              "      <td>Санкт-Петербург</td>\n",
              "      <td>9258.0</td>\n",
              "      <td>10592.0</td>\n",
              "      <td>1</td>\n",
              "      <td>458.0</td>\n",
              "      <td>0</td>\n",
              "      <td>NaN</td>\n",
              "      <td>44.0</td>\n",
              "    </tr>\n",
              "    <tr>\n",
              "      <th>17966</th>\n",
              "      <td>10</td>\n",
              "      <td>4300000.0</td>\n",
              "      <td>33.00</td>\n",
              "      <td>2018-02-01</td>\n",
              "      <td>1</td>\n",
              "      <td>NaN</td>\n",
              "      <td>5</td>\n",
              "      <td>9.0</td>\n",
              "      <td>1</td>\n",
              "      <td>False</td>\n",
              "      <td>...</td>\n",
              "      <td>17.0</td>\n",
              "      <td>0</td>\n",
              "      <td>Санкт-Петербург</td>\n",
              "      <td>22525.0</td>\n",
              "      <td>2976.0</td>\n",
              "      <td>2</td>\n",
              "      <td>251.0</td>\n",
              "      <td>3</td>\n",
              "      <td>220.0</td>\n",
              "      <td>86.0</td>\n",
              "    </tr>\n",
              "    <tr>\n",
              "      <th>19224</th>\n",
              "      <td>7</td>\n",
              "      <td>8900000.0</td>\n",
              "      <td>50.60</td>\n",
              "      <td>2018-10-22</td>\n",
              "      <td>2</td>\n",
              "      <td>2.50</td>\n",
              "      <td>7</td>\n",
              "      <td>8.0</td>\n",
              "      <td>3</td>\n",
              "      <td>False</td>\n",
              "      <td>...</td>\n",
              "      <td>31.0</td>\n",
              "      <td>0</td>\n",
              "      <td>Санкт-Петербург</td>\n",
              "      <td>12771.0</td>\n",
              "      <td>8301.0</td>\n",
              "      <td>1</td>\n",
              "      <td>173.0</td>\n",
              "      <td>3</td>\n",
              "      <td>126.0</td>\n",
              "      <td>NaN</td>\n",
              "    </tr>\n",
              "    <tr>\n",
              "      <th>19698</th>\n",
              "      <td>9</td>\n",
              "      <td>4100000.0</td>\n",
              "      <td>35.30</td>\n",
              "      <td>2018-01-10</td>\n",
              "      <td>1</td>\n",
              "      <td>2.75</td>\n",
              "      <td>27</td>\n",
              "      <td>8.5</td>\n",
              "      <td>11</td>\n",
              "      <td>False</td>\n",
              "      <td>...</td>\n",
              "      <td>16.1</td>\n",
              "      <td>2</td>\n",
              "      <td>Санкт-Петербург</td>\n",
              "      <td>33977.0</td>\n",
              "      <td>15076.0</td>\n",
              "      <td>0</td>\n",
              "      <td>NaN</td>\n",
              "      <td>0</td>\n",
              "      <td>NaN</td>\n",
              "      <td>60.0</td>\n",
              "    </tr>\n",
              "    <tr>\n",
              "      <th>19931</th>\n",
              "      <td>0</td>\n",
              "      <td>2330000.0</td>\n",
              "      <td>23.00</td>\n",
              "      <td>2018-01-01</td>\n",
              "      <td>0</td>\n",
              "      <td>NaN</td>\n",
              "      <td>24</td>\n",
              "      <td>2.0</td>\n",
              "      <td>22</td>\n",
              "      <td>False</td>\n",
              "      <td>...</td>\n",
              "      <td>NaN</td>\n",
              "      <td>0</td>\n",
              "      <td>Мурино</td>\n",
              "      <td>NaN</td>\n",
              "      <td>NaN</td>\n",
              "      <td>0</td>\n",
              "      <td>NaN</td>\n",
              "      <td>0</td>\n",
              "      <td>NaN</td>\n",
              "      <td>66.0</td>\n",
              "    </tr>\n",
              "    <tr>\n",
              "      <th>20073</th>\n",
              "      <td>9</td>\n",
              "      <td>5300000.0</td>\n",
              "      <td>46.30</td>\n",
              "      <td>2018-03-20</td>\n",
              "      <td>1</td>\n",
              "      <td>2.75</td>\n",
              "      <td>7</td>\n",
              "      <td>9.8</td>\n",
              "      <td>3</td>\n",
              "      <td>False</td>\n",
              "      <td>...</td>\n",
              "      <td>26.0</td>\n",
              "      <td>0</td>\n",
              "      <td>Сестрорецк</td>\n",
              "      <td>55422.0</td>\n",
              "      <td>32352.0</td>\n",
              "      <td>0</td>\n",
              "      <td>NaN</td>\n",
              "      <td>1</td>\n",
              "      <td>1144.0</td>\n",
              "      <td>36.0</td>\n",
              "    </tr>\n",
              "    <tr>\n",
              "      <th>20106</th>\n",
              "      <td>15</td>\n",
              "      <td>6100000.0</td>\n",
              "      <td>77.60</td>\n",
              "      <td>2019-02-28</td>\n",
              "      <td>4</td>\n",
              "      <td>2.50</td>\n",
              "      <td>9</td>\n",
              "      <td>5.4</td>\n",
              "      <td>1</td>\n",
              "      <td>False</td>\n",
              "      <td>...</td>\n",
              "      <td>9.8</td>\n",
              "      <td>0</td>\n",
              "      <td>Санкт-Петербург</td>\n",
              "      <td>29338.0</td>\n",
              "      <td>11270.0</td>\n",
              "      <td>1</td>\n",
              "      <td>584.0</td>\n",
              "      <td>0</td>\n",
              "      <td>NaN</td>\n",
              "      <td>33.0</td>\n",
              "    </tr>\n",
              "    <tr>\n",
              "      <th>20385</th>\n",
              "      <td>4</td>\n",
              "      <td>3340000.0</td>\n",
              "      <td>37.40</td>\n",
              "      <td>2018-02-08</td>\n",
              "      <td>1</td>\n",
              "      <td>2.80</td>\n",
              "      <td>8</td>\n",
              "      <td>9.0</td>\n",
              "      <td>4</td>\n",
              "      <td>False</td>\n",
              "      <td>...</td>\n",
              "      <td>19.0</td>\n",
              "      <td>2</td>\n",
              "      <td>Санкт-Петербург</td>\n",
              "      <td>19523.0</td>\n",
              "      <td>18525.0</td>\n",
              "      <td>1</td>\n",
              "      <td>365.0</td>\n",
              "      <td>0</td>\n",
              "      <td>NaN</td>\n",
              "      <td>233.0</td>\n",
              "    </tr>\n",
              "    <tr>\n",
              "      <th>20580</th>\n",
              "      <td>0</td>\n",
              "      <td>3490304.0</td>\n",
              "      <td>33.26</td>\n",
              "      <td>2015-12-22</td>\n",
              "      <td>2</td>\n",
              "      <td>NaN</td>\n",
              "      <td>13</td>\n",
              "      <td>9.1</td>\n",
              "      <td>9</td>\n",
              "      <td>False</td>\n",
              "      <td>...</td>\n",
              "      <td>16.4</td>\n",
              "      <td>0</td>\n",
              "      <td>Санкт-Петербург</td>\n",
              "      <td>33626.0</td>\n",
              "      <td>13495.0</td>\n",
              "      <td>0</td>\n",
              "      <td>NaN</td>\n",
              "      <td>0</td>\n",
              "      <td>NaN</td>\n",
              "      <td>199.0</td>\n",
              "    </tr>\n",
              "    <tr>\n",
              "      <th>21247</th>\n",
              "      <td>12</td>\n",
              "      <td>4800000.0</td>\n",
              "      <td>37.00</td>\n",
              "      <td>2016-02-24</td>\n",
              "      <td>1</td>\n",
              "      <td>NaN</td>\n",
              "      <td>14</td>\n",
              "      <td>8.0</td>\n",
              "      <td>11</td>\n",
              "      <td>False</td>\n",
              "      <td>...</td>\n",
              "      <td>22.0</td>\n",
              "      <td>0</td>\n",
              "      <td>Санкт-Петербург</td>\n",
              "      <td>27838.0</td>\n",
              "      <td>12387.0</td>\n",
              "      <td>2</td>\n",
              "      <td>358.0</td>\n",
              "      <td>1</td>\n",
              "      <td>950.0</td>\n",
              "      <td>139.0</td>\n",
              "    </tr>\n",
              "    <tr>\n",
              "      <th>21590</th>\n",
              "      <td>14</td>\n",
              "      <td>64990000.0</td>\n",
              "      <td>139.00</td>\n",
              "      <td>2015-11-24</td>\n",
              "      <td>3</td>\n",
              "      <td>3.00</td>\n",
              "      <td>8</td>\n",
              "      <td>3.0</td>\n",
              "      <td>8</td>\n",
              "      <td>False</td>\n",
              "      <td>...</td>\n",
              "      <td>16.0</td>\n",
              "      <td>1</td>\n",
              "      <td>Санкт-Петербург</td>\n",
              "      <td>33255.0</td>\n",
              "      <td>5975.0</td>\n",
              "      <td>1</td>\n",
              "      <td>630.0</td>\n",
              "      <td>3</td>\n",
              "      <td>100.0</td>\n",
              "      <td>280.0</td>\n",
              "    </tr>\n",
              "  </tbody>\n",
              "</table>\n",
              "<p>25 rows × 22 columns</p>\n",
              "</div>"
            ],
            "text/plain": [
              "       total_images  last_price  total_area first_day_exposition  rooms  \\\n",
              "105               5   4000000.0       21.40           2019-02-07      1   \n",
              "627              14   7200000.0       43.00           2017-10-31      1   \n",
              "1219              8   8100000.0       52.00           2017-01-29      2   \n",
              "2127             10   4200000.0       62.40           2017-06-15      2   \n",
              "2969              7   4440000.0       41.00           2017-07-02      1   \n",
              "3762             17   5300000.0       34.80           2017-06-19      1   \n",
              "4166             12   3300000.0       18.00           2018-11-07      1   \n",
              "6695              8   3400000.0       27.00           2018-02-21      2   \n",
              "7620              9   4800000.0       52.00           2017-10-25      2   \n",
              "12762            20   6350000.0       52.00           2018-02-06      2   \n",
              "14511            20   4600000.0       33.00           2017-01-01      1   \n",
              "15053            13   3799000.0       31.00           2018-04-12      1   \n",
              "15795            20   5300000.0       33.00           2017-04-14      1   \n",
              "16095            11   2680000.0       22.00           2018-08-11      0   \n",
              "17625            19   4050000.0       33.00           2018-10-15      1   \n",
              "17966            10   4300000.0       33.00           2018-02-01      1   \n",
              "19224             7   8900000.0       50.60           2018-10-22      2   \n",
              "19698             9   4100000.0       35.30           2018-01-10      1   \n",
              "19931             0   2330000.0       23.00           2018-01-01      0   \n",
              "20073             9   5300000.0       46.30           2018-03-20      1   \n",
              "20106            15   6100000.0       77.60           2019-02-28      4   \n",
              "20385             4   3340000.0       37.40           2018-02-08      1   \n",
              "20580             0   3490304.0       33.26           2015-12-22      2   \n",
              "21247            12   4800000.0       37.00           2016-02-24      1   \n",
              "21590            14  64990000.0      139.00           2015-11-24      3   \n",
              "\n",
              "       ceiling_height  floors_total  living_area  floor  is_apartment  ...  \\\n",
              "105              2.90             8          8.3      7         False  ...   \n",
              "627               NaN             8          9.0      2         False  ...   \n",
              "1219             2.70            25          9.0     15         False  ...   \n",
              "2127             2.60             9          8.4      6         False  ...   \n",
              "2969              NaN            17          3.0     17         False  ...   \n",
              "3762             2.70            23          9.0     15         False  ...   \n",
              "4166             3.50             5          9.0      2         False  ...   \n",
              "6695             2.50            15          9.0      4         False  ...   \n",
              "7620              NaN             5          9.0      2         False  ...   \n",
              "12762            3.00             6          2.0      2         False  ...   \n",
              "14511            2.70            22          9.0     12         False  ...   \n",
              "15053            2.60             5          6.0      1         False  ...   \n",
              "15795            2.70            22          8.9     16         False  ...   \n",
              "16095             NaN            25          5.0      8         False  ...   \n",
              "17625            2.50            22          6.5     21         False  ...   \n",
              "17966             NaN             5          9.0      1         False  ...   \n",
              "19224            2.50             7          8.0      3         False  ...   \n",
              "19698            2.75            27          8.5     11         False  ...   \n",
              "19931             NaN            24          2.0     22         False  ...   \n",
              "20073            2.75             7          9.8      3         False  ...   \n",
              "20106            2.50             9          5.4      1         False  ...   \n",
              "20385            2.80             8          9.0      4         False  ...   \n",
              "20580             NaN            13          9.1      9         False  ...   \n",
              "21247             NaN            14          8.0     11         False  ...   \n",
              "21590            3.00             8          3.0      8         False  ...   \n",
              "\n",
              "       kitchen_area  balcony    locality_name  airports_nearest  \\\n",
              "105             6.3        0  Санкт-Петербург           27089.0   \n",
              "627            23.0        0  Санкт-Петербург           23900.0   \n",
              "1219           32.0        2  Санкт-Петербург           35555.0   \n",
              "2127           41.0        2           Шушары           23662.0   \n",
              "2969           11.0        0  Санкт-Петербург           19272.0   \n",
              "3762           17.1        0  Санкт-Петербург           33626.0   \n",
              "4166            NaN        0  Санкт-Петербург           25157.0   \n",
              "6695           16.0        0  Санкт-Петербург           50246.0   \n",
              "7620            6.0        1  Санкт-Петербург           33358.0   \n",
              "12762           9.0        0  Санкт-Петербург           32453.0   \n",
              "14511          14.3        1  Санкт-Петербург           33803.0   \n",
              "15053          17.0        0  Санкт-Петербург           32177.0   \n",
              "15795          16.1        1  Санкт-Петербург           33803.0   \n",
              "16095           NaN        2  Санкт-Петербург           22735.0   \n",
              "17625          18.0        0  Санкт-Петербург            9258.0   \n",
              "17966          17.0        0  Санкт-Петербург           22525.0   \n",
              "19224          31.0        0  Санкт-Петербург           12771.0   \n",
              "19698          16.1        2  Санкт-Петербург           33977.0   \n",
              "19931           NaN        0           Мурино               NaN   \n",
              "20073          26.0        0       Сестрорецк           55422.0   \n",
              "20106           9.8        0  Санкт-Петербург           29338.0   \n",
              "20385          19.0        2  Санкт-Петербург           19523.0   \n",
              "20580          16.4        0  Санкт-Петербург           33626.0   \n",
              "21247          22.0        0  Санкт-Петербург           27838.0   \n",
              "21590          16.0        1  Санкт-Петербург           33255.0   \n",
              "\n",
              "      cityCenters_nearest  parks_around3000  parks_nearest  ponds_around3000  \\\n",
              "105                5791.0                 2          488.0                 1   \n",
              "627                5232.0                 1         2137.0                 1   \n",
              "1219              15561.0                 0            NaN                 1   \n",
              "2127              29448.0                 0            NaN                 0   \n",
              "2969              13073.0                 0            NaN                 0   \n",
              "3762              13495.0                 0            NaN                 0   \n",
              "4166               4948.0                 2          349.0                 1   \n",
              "6695              16444.0                 1          617.0                 0   \n",
              "7620              13171.0                 0            NaN                 2   \n",
              "12762              6521.0                 0            NaN                 1   \n",
              "14511             13671.0                 0            NaN                 0   \n",
              "15053              4826.0                 1          430.0                 0   \n",
              "15795             13671.0                 0            NaN                 0   \n",
              "16095             11618.0                 1          835.0                 1   \n",
              "17625             10592.0                 1          458.0                 0   \n",
              "17966              2976.0                 2          251.0                 3   \n",
              "19224              8301.0                 1          173.0                 3   \n",
              "19698             15076.0                 0            NaN                 0   \n",
              "19931                 NaN                 0            NaN                 0   \n",
              "20073             32352.0                 0            NaN                 1   \n",
              "20106             11270.0                 1          584.0                 0   \n",
              "20385             18525.0                 1          365.0                 0   \n",
              "20580             13495.0                 0            NaN                 0   \n",
              "21247             12387.0                 2          358.0                 1   \n",
              "21590              5975.0                 1          630.0                 3   \n",
              "\n",
              "       ponds_nearest  days_exposition  \n",
              "105            286.0              NaN  \n",
              "627            933.0            296.0  \n",
              "1219          1180.0            337.0  \n",
              "2127             NaN            111.0  \n",
              "2969             NaN            216.0  \n",
              "3762             NaN             30.0  \n",
              "4166           963.0              9.0  \n",
              "6695             NaN              NaN  \n",
              "7620           118.0            119.0  \n",
              "12762         1012.0             91.0  \n",
              "14511            NaN            511.0  \n",
              "15053            NaN            168.0  \n",
              "15795            NaN            216.0  \n",
              "16095          652.0             70.0  \n",
              "17625            NaN             44.0  \n",
              "17966          220.0             86.0  \n",
              "19224          126.0              NaN  \n",
              "19698            NaN             60.0  \n",
              "19931            NaN             66.0  \n",
              "20073         1144.0             36.0  \n",
              "20106            NaN             33.0  \n",
              "20385            NaN            233.0  \n",
              "20580            NaN            199.0  \n",
              "21247          950.0            139.0  \n",
              "21590          100.0            280.0  \n",
              "\n",
              "[25 rows x 22 columns]"
            ]
          },
          "metadata": {}
        }
      ]
    },
    {
      "cell_type": "markdown",
      "source": "Часть значений столбца 'living_area' является неправдоподобно маленькой, но в некоторых случаях это обусловлено маленькой общей площадью, что не позволяет применить единый метод решения. Возможно некоторые строки в этом столбце были заполнены некорректно, например указано 3, вместо 30.",
      "metadata": {}
    },
    {
      "cell_type": "markdown",
      "source": "**Вывод:**\nРассмотрены данные по всем столбцам (часть столбцов рассматривалась по гистограммам в начале проекта) и выявлены аномальные значения в следующих:\n- last_pricе *обнаружено и исправлено одно аномально маленькое значение*\n- rooms *обнаружен ряд записей с 0 комнат, обратить внимание при дальнейшем анализе*\n- ceiling_height *обнаружен ряд аномально больших значений, значения 20 и более метров уменьшены в 10 раз*\n- living_area *обнаружен ряд аномально маленьких значений, некоторые из них обусловлены маленькой общей площадью, другие могут являтся опечатками*\n\nВ остальных столбцах аномалий не выявлено.",
      "metadata": {}
    },
    {
      "cell_type": "markdown",
      "source": "#### Повторное заполнение пропусков",
      "metadata": {}
    },
    {
      "cell_type": "markdown",
      "source": "Можно заполнить пропуски в следующих столбцах:\n- ceiling_height *средним значением высоты потолков*\n- parks_nearest *3000, если в радиусе 3 км нет парков*\n- ponds_nearest *3000, если в радиусе 3 км нет водоемов*\n- airports_nearest *средним значением по населенному пункту*\n- cityCenters_nearest *средним значением по населенному пункту*",
      "metadata": {}
    },
    {
      "cell_type": "code",
      "source": "data['ceiling_height'] = data['ceiling_height'].fillna(value=data['ceiling_height'].median())\ndata.loc[(data['parks_nearest'].isna()) & (data['parks_around3000']==0), 'parks_nearest'] = 3000\ndata.loc[(data['ponds_nearest'].isna()) & (data['ponds_around3000']==0), 'ponds_nearest'] = 3000",
      "metadata": {},
      "execution_count": 35,
      "outputs": []
    },
    {
      "cell_type": "code",
      "source": "for t in data['locality_name'].unique():\n    data.loc[(data['locality_name'] == t) & (data['airports_nearest'].isna()), 'airports_nearest'] = \\\n    data.loc[(data['locality_name'] == t), 'airports_nearest'].median()\n    data.loc[(data['locality_name'] == t) & (data['cityCenters_nearest'].isna()), 'cityCenters_nearest'] = \\\n    data.loc[(data['locality_name'] == t), 'cityCenters_nearest'].median()",
      "metadata": {},
      "execution_count": 36,
      "outputs": [
        {
          "name": "stderr",
          "output_type": "stream",
          "text": "/opt/conda/lib/python3.9/site-packages/numpy/lib/nanfunctions.py:1117: RuntimeWarning: Mean of empty slice\n\n  return np.nanmean(a, axis, out=out, keepdims=keepdims)\n\n/opt/conda/lib/python3.9/site-packages/numpy/lib/nanfunctions.py:1117: RuntimeWarning: Mean of empty slice\n\n  return np.nanmean(a, axis, out=out, keepdims=keepdims)\n\n/opt/conda/lib/python3.9/site-packages/numpy/lib/nanfunctions.py:1117: RuntimeWarning: Mean of empty slice\n\n  return np.nanmean(a, axis, out=out, keepdims=keepdims)\n\n/opt/conda/lib/python3.9/site-packages/numpy/lib/nanfunctions.py:1117: RuntimeWarning: Mean of empty slice\n\n  return np.nanmean(a, axis, out=out, keepdims=keepdims)\n\n/opt/conda/lib/python3.9/site-packages/numpy/lib/nanfunctions.py:1117: RuntimeWarning: Mean of empty slice\n\n  return np.nanmean(a, axis, out=out, keepdims=keepdims)\n\n/opt/conda/lib/python3.9/site-packages/numpy/lib/nanfunctions.py:1117: RuntimeWarning: Mean of empty slice\n\n  return np.nanmean(a, axis, out=out, keepdims=keepdims)\n\n/opt/conda/lib/python3.9/site-packages/numpy/lib/nanfunctions.py:1117: RuntimeWarning: Mean of empty slice\n\n  return np.nanmean(a, axis, out=out, keepdims=keepdims)\n\n/opt/conda/lib/python3.9/site-packages/numpy/lib/nanfunctions.py:1117: RuntimeWarning: Mean of empty slice\n\n  return np.nanmean(a, axis, out=out, keepdims=keepdims)\n\n/opt/conda/lib/python3.9/site-packages/numpy/lib/nanfunctions.py:1117: RuntimeWarning: Mean of empty slice\n\n  return np.nanmean(a, axis, out=out, keepdims=keepdims)\n\n/opt/conda/lib/python3.9/site-packages/numpy/lib/nanfunctions.py:1117: RuntimeWarning: Mean of empty slice\n\n  return np.nanmean(a, axis, out=out, keepdims=keepdims)\n\n/opt/conda/lib/python3.9/site-packages/numpy/lib/nanfunctions.py:1117: RuntimeWarning: Mean of empty slice\n\n  return np.nanmean(a, axis, out=out, keepdims=keepdims)\n\n/opt/conda/lib/python3.9/site-packages/numpy/lib/nanfunctions.py:1117: RuntimeWarning: Mean of empty slice\n\n  return np.nanmean(a, axis, out=out, keepdims=keepdims)\n\n/opt/conda/lib/python3.9/site-packages/numpy/lib/nanfunctions.py:1117: RuntimeWarning: Mean of empty slice\n\n  return np.nanmean(a, axis, out=out, keepdims=keepdims)\n\n/opt/conda/lib/python3.9/site-packages/numpy/lib/nanfunctions.py:1117: RuntimeWarning: Mean of empty slice\n\n  return np.nanmean(a, axis, out=out, keepdims=keepdims)\n\n/opt/conda/lib/python3.9/site-packages/numpy/lib/nanfunctions.py:1117: RuntimeWarning: Mean of empty slice\n\n  return np.nanmean(a, axis, out=out, keepdims=keepdims)\n\n/opt/conda/lib/python3.9/site-packages/numpy/lib/nanfunctions.py:1117: RuntimeWarning: Mean of empty slice\n\n  return np.nanmean(a, axis, out=out, keepdims=keepdims)\n\n/opt/conda/lib/python3.9/site-packages/numpy/lib/nanfunctions.py:1117: RuntimeWarning: Mean of empty slice\n\n  return np.nanmean(a, axis, out=out, keepdims=keepdims)\n\n/opt/conda/lib/python3.9/site-packages/numpy/lib/nanfunctions.py:1117: RuntimeWarning: Mean of empty slice\n\n  return np.nanmean(a, axis, out=out, keepdims=keepdims)\n\n/opt/conda/lib/python3.9/site-packages/numpy/lib/nanfunctions.py:1117: RuntimeWarning: Mean of empty slice\n\n  return np.nanmean(a, axis, out=out, keepdims=keepdims)\n\n/opt/conda/lib/python3.9/site-packages/numpy/lib/nanfunctions.py:1117: RuntimeWarning: Mean of empty slice\n\n  return np.nanmean(a, axis, out=out, keepdims=keepdims)\n\n/opt/conda/lib/python3.9/site-packages/numpy/lib/nanfunctions.py:1117: RuntimeWarning: Mean of empty slice\n\n  return np.nanmean(a, axis, out=out, keepdims=keepdims)\n\n/opt/conda/lib/python3.9/site-packages/numpy/lib/nanfunctions.py:1117: RuntimeWarning: Mean of empty slice\n\n  return np.nanmean(a, axis, out=out, keepdims=keepdims)\n\n/opt/conda/lib/python3.9/site-packages/numpy/lib/nanfunctions.py:1117: RuntimeWarning: Mean of empty slice\n\n  return np.nanmean(a, axis, out=out, keepdims=keepdims)\n\n/opt/conda/lib/python3.9/site-packages/numpy/lib/nanfunctions.py:1117: RuntimeWarning: Mean of empty slice\n\n  return np.nanmean(a, axis, out=out, keepdims=keepdims)\n\n/opt/conda/lib/python3.9/site-packages/numpy/lib/nanfunctions.py:1117: RuntimeWarning: Mean of empty slice\n\n  return np.nanmean(a, axis, out=out, keepdims=keepdims)\n\n/opt/conda/lib/python3.9/site-packages/numpy/lib/nanfunctions.py:1117: RuntimeWarning: Mean of empty slice\n\n  return np.nanmean(a, axis, out=out, keepdims=keepdims)\n\n/opt/conda/lib/python3.9/site-packages/numpy/lib/nanfunctions.py:1117: RuntimeWarning: Mean of empty slice\n\n  return np.nanmean(a, axis, out=out, keepdims=keepdims)\n\n/opt/conda/lib/python3.9/site-packages/numpy/lib/nanfunctions.py:1117: RuntimeWarning: Mean of empty slice\n\n  return np.nanmean(a, axis, out=out, keepdims=keepdims)\n\n/opt/conda/lib/python3.9/site-packages/numpy/lib/nanfunctions.py:1117: RuntimeWarning: Mean of empty slice\n\n  return np.nanmean(a, axis, out=out, keepdims=keepdims)\n\n/opt/conda/lib/python3.9/site-packages/numpy/lib/nanfunctions.py:1117: RuntimeWarning: Mean of empty slice\n\n  return np.nanmean(a, axis, out=out, keepdims=keepdims)\n\n/opt/conda/lib/python3.9/site-packages/numpy/lib/nanfunctions.py:1117: RuntimeWarning: Mean of empty slice\n\n  return np.nanmean(a, axis, out=out, keepdims=keepdims)\n\n/opt/conda/lib/python3.9/site-packages/numpy/lib/nanfunctions.py:1117: RuntimeWarning: Mean of empty slice\n\n  return np.nanmean(a, axis, out=out, keepdims=keepdims)\n\n/opt/conda/lib/python3.9/site-packages/numpy/lib/nanfunctions.py:1117: RuntimeWarning: Mean of empty slice\n\n  return np.nanmean(a, axis, out=out, keepdims=keepdims)\n\n/opt/conda/lib/python3.9/site-packages/numpy/lib/nanfunctions.py:1117: RuntimeWarning: Mean of empty slice\n\n  return np.nanmean(a, axis, out=out, keepdims=keepdims)\n\n/opt/conda/lib/python3.9/site-packages/numpy/lib/nanfunctions.py:1117: RuntimeWarning: Mean of empty slice\n\n  return np.nanmean(a, axis, out=out, keepdims=keepdims)\n\n/opt/conda/lib/python3.9/site-packages/numpy/lib/nanfunctions.py:1117: RuntimeWarning: Mean of empty slice\n\n  return np.nanmean(a, axis, out=out, keepdims=keepdims)\n\n/opt/conda/lib/python3.9/site-packages/numpy/lib/nanfunctions.py:1117: RuntimeWarning: Mean of empty slice\n\n  return np.nanmean(a, axis, out=out, keepdims=keepdims)\n\n/opt/conda/lib/python3.9/site-packages/numpy/lib/nanfunctions.py:1117: RuntimeWarning: Mean of empty slice\n\n  return np.nanmean(a, axis, out=out, keepdims=keepdims)\n\n/opt/conda/lib/python3.9/site-packages/numpy/lib/nanfunctions.py:1117: RuntimeWarning: Mean of empty slice\n\n  return np.nanmean(a, axis, out=out, keepdims=keepdims)\n\n/opt/conda/lib/python3.9/site-packages/numpy/lib/nanfunctions.py:1117: RuntimeWarning: Mean of empty slice\n\n  return np.nanmean(a, axis, out=out, keepdims=keepdims)\n\n/opt/conda/lib/python3.9/site-packages/numpy/lib/nanfunctions.py:1117: RuntimeWarning: Mean of empty slice\n\n  return np.nanmean(a, axis, out=out, keepdims=keepdims)\n\n/opt/conda/lib/python3.9/site-packages/numpy/lib/nanfunctions.py:1117: RuntimeWarning: Mean of empty slice\n\n  return np.nanmean(a, axis, out=out, keepdims=keepdims)\n\n/opt/conda/lib/python3.9/site-packages/numpy/lib/nanfunctions.py:1117: RuntimeWarning: Mean of empty slice\n\n  return np.nanmean(a, axis, out=out, keepdims=keepdims)\n\n/opt/conda/lib/python3.9/site-packages/numpy/lib/nanfunctions.py:1117: RuntimeWarning: Mean of empty slice\n\n  return np.nanmean(a, axis, out=out, keepdims=keepdims)\n\n/opt/conda/lib/python3.9/site-packages/numpy/lib/nanfunctions.py:1117: RuntimeWarning: Mean of empty slice\n\n  return np.nanmean(a, axis, out=out, keepdims=keepdims)\n\n/opt/conda/lib/python3.9/site-packages/numpy/lib/nanfunctions.py:1117: RuntimeWarning: Mean of empty slice\n\n  return np.nanmean(a, axis, out=out, keepdims=keepdims)\n\n/opt/conda/lib/python3.9/site-packages/numpy/lib/nanfunctions.py:1117: RuntimeWarning: Mean of empty slice\n\n  return np.nanmean(a, axis, out=out, keepdims=keepdims)\n\n/opt/conda/lib/python3.9/site-packages/numpy/lib/nanfunctions.py:1117: RuntimeWarning: Mean of empty slice\n\n  return np.nanmean(a, axis, out=out, keepdims=keepdims)\n\n/opt/conda/lib/python3.9/site-packages/numpy/lib/nanfunctions.py:1117: RuntimeWarning: Mean of empty slice\n\n  return np.nanmean(a, axis, out=out, keepdims=keepdims)\n\n/opt/conda/lib/python3.9/site-packages/numpy/lib/nanfunctions.py:1117: RuntimeWarning: Mean of empty slice\n\n  return np.nanmean(a, axis, out=out, keepdims=keepdims)\n\n/opt/conda/lib/python3.9/site-packages/numpy/lib/nanfunctions.py:1117: RuntimeWarning: Mean of empty slice\n\n  return np.nanmean(a, axis, out=out, keepdims=keepdims)\n\n/opt/conda/lib/python3.9/site-packages/numpy/lib/nanfunctions.py:1117: RuntimeWarning: Mean of empty slice\n\n  return np.nanmean(a, axis, out=out, keepdims=keepdims)\n\n/opt/conda/lib/python3.9/site-packages/numpy/lib/nanfunctions.py:1117: RuntimeWarning: Mean of empty slice\n\n  return np.nanmean(a, axis, out=out, keepdims=keepdims)\n\n/opt/conda/lib/python3.9/site-packages/numpy/lib/nanfunctions.py:1117: RuntimeWarning: Mean of empty slice\n\n  return np.nanmean(a, axis, out=out, keepdims=keepdims)\n\n/opt/conda/lib/python3.9/site-packages/numpy/lib/nanfunctions.py:1117: RuntimeWarning: Mean of empty slice\n\n  return np.nanmean(a, axis, out=out, keepdims=keepdims)\n\n/opt/conda/lib/python3.9/site-packages/numpy/lib/nanfunctions.py:1117: RuntimeWarning: Mean of empty slice\n\n  return np.nanmean(a, axis, out=out, keepdims=keepdims)\n\n/opt/conda/lib/python3.9/site-packages/numpy/lib/nanfunctions.py:1117: RuntimeWarning: Mean of empty slice\n\n  return np.nanmean(a, axis, out=out, keepdims=keepdims)\n\n/opt/conda/lib/python3.9/site-packages/numpy/lib/nanfunctions.py:1117: RuntimeWarning: Mean of empty slice\n\n  return np.nanmean(a, axis, out=out, keepdims=keepdims)\n\n/opt/conda/lib/python3.9/site-packages/numpy/lib/nanfunctions.py:1117: RuntimeWarning: Mean of empty slice\n\n  return np.nanmean(a, axis, out=out, keepdims=keepdims)\n\n/opt/conda/lib/python3.9/site-packages/numpy/lib/nanfunctions.py:1117: RuntimeWarning: Mean of empty slice\n\n  return np.nanmean(a, axis, out=out, keepdims=keepdims)\n\n/opt/conda/lib/python3.9/site-packages/numpy/lib/nanfunctions.py:1117: RuntimeWarning: Mean of empty slice\n\n  return np.nanmean(a, axis, out=out, keepdims=keepdims)\n\n/opt/conda/lib/python3.9/site-packages/numpy/lib/nanfunctions.py:1117: RuntimeWarning: Mean of empty slice\n\n  return np.nanmean(a, axis, out=out, keepdims=keepdims)\n\n/opt/conda/lib/python3.9/site-packages/numpy/lib/nanfunctions.py:1117: RuntimeWarning: Mean of empty slice\n\n  return np.nanmean(a, axis, out=out, keepdims=keepdims)\n\n/opt/conda/lib/python3.9/site-packages/numpy/lib/nanfunctions.py:1117: RuntimeWarning: Mean of empty slice\n\n  return np.nanmean(a, axis, out=out, keepdims=keepdims)\n\n/opt/conda/lib/python3.9/site-packages/numpy/lib/nanfunctions.py:1117: RuntimeWarning: Mean of empty slice\n\n  return np.nanmean(a, axis, out=out, keepdims=keepdims)\n\n/opt/conda/lib/python3.9/site-packages/numpy/lib/nanfunctions.py:1117: RuntimeWarning: Mean of empty slice\n\n  return np.nanmean(a, axis, out=out, keepdims=keepdims)\n\n/opt/conda/lib/python3.9/site-packages/numpy/lib/nanfunctions.py:1117: RuntimeWarning: Mean of empty slice\n\n  return np.nanmean(a, axis, out=out, keepdims=keepdims)\n\n/opt/conda/lib/python3.9/site-packages/numpy/lib/nanfunctions.py:1117: RuntimeWarning: Mean of empty slice\n\n  return np.nanmean(a, axis, out=out, keepdims=keepdims)\n\n/opt/conda/lib/python3.9/site-packages/numpy/lib/nanfunctions.py:1117: RuntimeWarning: Mean of empty slice\n\n  return np.nanmean(a, axis, out=out, keepdims=keepdims)\n\n/opt/conda/lib/python3.9/site-packages/numpy/lib/nanfunctions.py:1117: RuntimeWarning: Mean of empty slice\n\n  return np.nanmean(a, axis, out=out, keepdims=keepdims)\n\n/opt/conda/lib/python3.9/site-packages/numpy/lib/nanfunctions.py:1117: RuntimeWarning: Mean of empty slice\n\n  return np.nanmean(a, axis, out=out, keepdims=keepdims)\n\n/opt/conda/lib/python3.9/site-packages/numpy/lib/nanfunctions.py:1117: RuntimeWarning: Mean of empty slice\n\n  return np.nanmean(a, axis, out=out, keepdims=keepdims)\n\n/opt/conda/lib/python3.9/site-packages/numpy/lib/nanfunctions.py:1117: RuntimeWarning: Mean of empty slice\n\n  return np.nanmean(a, axis, out=out, keepdims=keepdims)\n\n/opt/conda/lib/python3.9/site-packages/numpy/lib/nanfunctions.py:1117: RuntimeWarning: Mean of empty slice\n\n  return np.nanmean(a, axis, out=out, keepdims=keepdims)\n\n/opt/conda/lib/python3.9/site-packages/numpy/lib/nanfunctions.py:1117: RuntimeWarning: Mean of empty slice\n\n  return np.nanmean(a, axis, out=out, keepdims=keepdims)\n\n/opt/conda/lib/python3.9/site-packages/numpy/lib/nanfunctions.py:1117: RuntimeWarning: Mean of empty slice\n\n  return np.nanmean(a, axis, out=out, keepdims=keepdims)\n\n/opt/conda/lib/python3.9/site-packages/numpy/lib/nanfunctions.py:1117: RuntimeWarning: Mean of empty slice\n\n  return np.nanmean(a, axis, out=out, keepdims=keepdims)\n\n/opt/conda/lib/python3.9/site-packages/numpy/lib/nanfunctions.py:1117: RuntimeWarning: Mean of empty slice\n\n  return np.nanmean(a, axis, out=out, keepdims=keepdims)\n/opt/conda/lib/python3.9/site-packages/numpy/lib/nanfunctions.py:1117: RuntimeWarning: Mean of empty slice\n\n  return np.nanmean(a, axis, out=out, keepdims=keepdims)\n\n/opt/conda/lib/python3.9/site-packages/numpy/lib/nanfunctions.py:1117: RuntimeWarning: Mean of empty slice\n\n  return np.nanmean(a, axis, out=out, keepdims=keepdims)\n\n/opt/conda/lib/python3.9/site-packages/numpy/lib/nanfunctions.py:1117: RuntimeWarning: Mean of empty slice\n\n  return np.nanmean(a, axis, out=out, keepdims=keepdims)\n\n/opt/conda/lib/python3.9/site-packages/numpy/lib/nanfunctions.py:1117: RuntimeWarning: Mean of empty slice\n\n  return np.nanmean(a, axis, out=out, keepdims=keepdims)\n\n/opt/conda/lib/python3.9/site-packages/numpy/lib/nanfunctions.py:1117: RuntimeWarning: Mean of empty slice\n\n  return np.nanmean(a, axis, out=out, keepdims=keepdims)\n\n/opt/conda/lib/python3.9/site-packages/numpy/lib/nanfunctions.py:1117: RuntimeWarning: Mean of empty slice\n\n  return np.nanmean(a, axis, out=out, keepdims=keepdims)\n\n/opt/conda/lib/python3.9/site-packages/numpy/lib/nanfunctions.py:1117: RuntimeWarning: Mean of empty slice\n\n  return np.nanmean(a, axis, out=out, keepdims=keepdims)\n\n/opt/conda/lib/python3.9/site-packages/numpy/lib/nanfunctions.py:1117: RuntimeWarning: Mean of empty slice\n\n  return np.nanmean(a, axis, out=out, keepdims=keepdims)\n\n/opt/conda/lib/python3.9/site-packages/numpy/lib/nanfunctions.py:1117: RuntimeWarning: Mean of empty slice\n\n  return np.nanmean(a, axis, out=out, keepdims=keepdims)\n\n/opt/conda/lib/python3.9/site-packages/numpy/lib/nanfunctions.py:1117: RuntimeWarning: Mean of empty slice\n\n  return np.nanmean(a, axis, out=out, keepdims=keepdims)\n\n/opt/conda/lib/python3.9/site-packages/numpy/lib/nanfunctions.py:1117: RuntimeWarning: Mean of empty slice\n\n  return np.nanmean(a, axis, out=out, keepdims=keepdims)\n\n/opt/conda/lib/python3.9/site-packages/numpy/lib/nanfunctions.py:1117: RuntimeWarning: Mean of empty slice\n\n  return np.nanmean(a, axis, out=out, keepdims=keepdims)\n\n/opt/conda/lib/python3.9/site-packages/numpy/lib/nanfunctions.py:1117: RuntimeWarning: Mean of empty slice\n\n  return np.nanmean(a, axis, out=out, keepdims=keepdims)\n\n/opt/conda/lib/python3.9/site-packages/numpy/lib/nanfunctions.py:1117: RuntimeWarning: Mean of empty slice\n\n  return np.nanmean(a, axis, out=out, keepdims=keepdims)\n\n/opt/conda/lib/python3.9/site-packages/numpy/lib/nanfunctions.py:1117: RuntimeWarning: Mean of empty slice\n\n  return np.nanmean(a, axis, out=out, keepdims=keepdims)\n\n/opt/conda/lib/python3.9/site-packages/numpy/lib/nanfunctions.py:1117: RuntimeWarning: Mean of empty slice\n\n  return np.nanmean(a, axis, out=out, keepdims=keepdims)\n\n/opt/conda/lib/python3.9/site-packages/numpy/lib/nanfunctions.py:1117: RuntimeWarning: Mean of empty slice\n\n  return np.nanmean(a, axis, out=out, keepdims=keepdims)\n\n/opt/conda/lib/python3.9/site-packages/numpy/lib/nanfunctions.py:1117: RuntimeWarning: Mean of empty slice\n\n  return np.nanmean(a, axis, out=out, keepdims=keepdims)\n\n/opt/conda/lib/python3.9/site-packages/numpy/lib/nanfunctions.py:1117: RuntimeWarning: Mean of empty slice\n\n  return np.nanmean(a, axis, out=out, keepdims=keepdims)\n\n/opt/conda/lib/python3.9/site-packages/numpy/lib/nanfunctions.py:1117: RuntimeWarning: Mean of empty slice\n\n  return np.nanmean(a, axis, out=out, keepdims=keepdims)\n\n/opt/conda/lib/python3.9/site-packages/numpy/lib/nanfunctions.py:1117: RuntimeWarning: Mean of empty slice\n\n  return np.nanmean(a, axis, out=out, keepdims=keepdims)\n\n/opt/conda/lib/python3.9/site-packages/numpy/lib/nanfunctions.py:1117: RuntimeWarning: Mean of empty slice\n\n  return np.nanmean(a, axis, out=out, keepdims=keepdims)\n\n/opt/conda/lib/python3.9/site-packages/numpy/lib/nanfunctions.py:1117: RuntimeWarning: Mean of empty slice\n\n  return np.nanmean(a, axis, out=out, keepdims=keepdims)\n\n/opt/conda/lib/python3.9/site-packages/numpy/lib/nanfunctions.py:1117: RuntimeWarning: Mean of empty slice\n\n  return np.nanmean(a, axis, out=out, keepdims=keepdims)\n\n/opt/conda/lib/python3.9/site-packages/numpy/lib/nanfunctions.py:1117: RuntimeWarning: Mean of empty slice\n\n  return np.nanmean(a, axis, out=out, keepdims=keepdims)\n\n/opt/conda/lib/python3.9/site-packages/numpy/lib/nanfunctions.py:1117: RuntimeWarning: Mean of empty slice\n\n  return np.nanmean(a, axis, out=out, keepdims=keepdims)\n\n/opt/conda/lib/python3.9/site-packages/numpy/lib/nanfunctions.py:1117: RuntimeWarning: Mean of empty slice\n\n  return np.nanmean(a, axis, out=out, keepdims=keepdims)\n\n/opt/conda/lib/python3.9/site-packages/numpy/lib/nanfunctions.py:1117: RuntimeWarning: Mean of empty slice\n\n  return np.nanmean(a, axis, out=out, keepdims=keepdims)\n\n/opt/conda/lib/python3.9/site-packages/numpy/lib/nanfunctions.py:1117: RuntimeWarning: Mean of empty slice\n\n  return np.nanmean(a, axis, out=out, keepdims=keepdims)\n\n/opt/conda/lib/python3.9/site-packages/numpy/lib/nanfunctions.py:1117: RuntimeWarning: Mean of empty slice\n\n  return np.nanmean(a, axis, out=out, keepdims=keepdims)\n\n/opt/conda/lib/python3.9/site-packages/numpy/lib/nanfunctions.py:1117: RuntimeWarning: Mean of empty slice\n\n  return np.nanmean(a, axis, out=out, keepdims=keepdims)\n\n/opt/conda/lib/python3.9/site-packages/numpy/lib/nanfunctions.py:1117: RuntimeWarning: Mean of empty slice\n\n  return np.nanmean(a, axis, out=out, keepdims=keepdims)\n\n/opt/conda/lib/python3.9/site-packages/numpy/lib/nanfunctions.py:1117: RuntimeWarning: Mean of empty slice\n\n  return np.nanmean(a, axis, out=out, keepdims=keepdims)\n\n/opt/conda/lib/python3.9/site-packages/numpy/lib/nanfunctions.py:1117: RuntimeWarning: Mean of empty slice\n\n  return np.nanmean(a, axis, out=out, keepdims=keepdims)\n\n/opt/conda/lib/python3.9/site-packages/numpy/lib/nanfunctions.py:1117: RuntimeWarning: Mean of empty slice\n\n  return np.nanmean(a, axis, out=out, keepdims=keepdims)\n\n/opt/conda/lib/python3.9/site-packages/numpy/lib/nanfunctions.py:1117: RuntimeWarning: Mean of empty slice\n\n  return np.nanmean(a, axis, out=out, keepdims=keepdims)\n\n/opt/conda/lib/python3.9/site-packages/numpy/lib/nanfunctions.py:1117: RuntimeWarning: Mean of empty slice\n\n  return np.nanmean(a, axis, out=out, keepdims=keepdims)\n\n/opt/conda/lib/python3.9/site-packages/numpy/lib/nanfunctions.py:1117: RuntimeWarning: Mean of empty slice\n\n  return np.nanmean(a, axis, out=out, keepdims=keepdims)\n\n/opt/conda/lib/python3.9/site-packages/numpy/lib/nanfunctions.py:1117: RuntimeWarning: Mean of empty slice\n\n  return np.nanmean(a, axis, out=out, keepdims=keepdims)\n\n/opt/conda/lib/python3.9/site-packages/numpy/lib/nanfunctions.py:1117: RuntimeWarning: Mean of empty slice\n\n  return np.nanmean(a, axis, out=out, keepdims=keepdims)\n\n/opt/conda/lib/python3.9/site-packages/numpy/lib/nanfunctions.py:1117: RuntimeWarning: Mean of empty slice\n\n  return np.nanmean(a, axis, out=out, keepdims=keepdims)\n\n/opt/conda/lib/python3.9/site-packages/numpy/lib/nanfunctions.py:1117: RuntimeWarning: Mean of empty slice\n\n  return np.nanmean(a, axis, out=out, keepdims=keepdims)\n\n/opt/conda/lib/python3.9/site-packages/numpy/lib/nanfunctions.py:1117: RuntimeWarning: Mean of empty slice\n\n  return np.nanmean(a, axis, out=out, keepdims=keepdims)\n\n/opt/conda/lib/python3.9/site-packages/numpy/lib/nanfunctions.py:1117: RuntimeWarning: Mean of empty slice\n\n  return np.nanmean(a, axis, out=out, keepdims=keepdims)\n\n/opt/conda/lib/python3.9/site-packages/numpy/lib/nanfunctions.py:1117: RuntimeWarning: Mean of empty slice\n\n  return np.nanmean(a, axis, out=out, keepdims=keepdims)\n\n/opt/conda/lib/python3.9/site-packages/numpy/lib/nanfunctions.py:1117: RuntimeWarning: Mean of empty slice\n\n  return np.nanmean(a, axis, out=out, keepdims=keepdims)\n\n/opt/conda/lib/python3.9/site-packages/numpy/lib/nanfunctions.py:1117: RuntimeWarning: Mean of empty slice\n\n  return np.nanmean(a, axis, out=out, keepdims=keepdims)\n\n/opt/conda/lib/python3.9/site-packages/numpy/lib/nanfunctions.py:1117: RuntimeWarning: Mean of empty slice\n\n  return np.nanmean(a, axis, out=out, keepdims=keepdims)\n\n/opt/conda/lib/python3.9/site-packages/numpy/lib/nanfunctions.py:1117: RuntimeWarning: Mean of empty slice\n\n  return np.nanmean(a, axis, out=out, keepdims=keepdims)\n\n/opt/conda/lib/python3.9/site-packages/numpy/lib/nanfunctions.py:1117: RuntimeWarning: Mean of empty slice\n\n  return np.nanmean(a, axis, out=out, keepdims=keepdims)\n\n/opt/conda/lib/python3.9/site-packages/numpy/lib/nanfunctions.py:1117: RuntimeWarning: Mean of empty slice\n\n  return np.nanmean(a, axis, out=out, keepdims=keepdims)\n\n/opt/conda/lib/python3.9/site-packages/numpy/lib/nanfunctions.py:1117: RuntimeWarning: Mean of empty slice\n\n  return np.nanmean(a, axis, out=out, keepdims=keepdims)\n\n/opt/conda/lib/python3.9/site-packages/numpy/lib/nanfunctions.py:1117: RuntimeWarning: Mean of empty slice\n\n  return np.nanmean(a, axis, out=out, keepdims=keepdims)\n\n/opt/conda/lib/python3.9/site-packages/numpy/lib/nanfunctions.py:1117: RuntimeWarning: Mean of empty slice\n\n  return np.nanmean(a, axis, out=out, keepdims=keepdims)\n\n/opt/conda/lib/python3.9/site-packages/numpy/lib/nanfunctions.py:1117: RuntimeWarning: Mean of empty slice\n\n  return np.nanmean(a, axis, out=out, keepdims=keepdims)\n\n/opt/conda/lib/python3.9/site-packages/numpy/lib/nanfunctions.py:1117: RuntimeWarning: Mean of empty slice\n\n  return np.nanmean(a, axis, out=out, keepdims=keepdims)\n\n/opt/conda/lib/python3.9/site-packages/numpy/lib/nanfunctions.py:1117: RuntimeWarning: Mean of empty slice\n\n  return np.nanmean(a, axis, out=out, keepdims=keepdims)\n\n/opt/conda/lib/python3.9/site-packages/numpy/lib/nanfunctions.py:1117: RuntimeWarning: Mean of empty slice\n\n  return np.nanmean(a, axis, out=out, keepdims=keepdims)\n\n/opt/conda/lib/python3.9/site-packages/numpy/lib/nanfunctions.py:1117: RuntimeWarning: Mean of empty slice\n\n  return np.nanmean(a, axis, out=out, keepdims=keepdims)\n\n/opt/conda/lib/python3.9/site-packages/numpy/lib/nanfunctions.py:1117: RuntimeWarning: Mean of empty slice\n\n  return np.nanmean(a, axis, out=out, keepdims=keepdims)\n\n/opt/conda/lib/python3.9/site-packages/numpy/lib/nanfunctions.py:1117: RuntimeWarning: Mean of empty slice\n\n  return np.nanmean(a, axis, out=out, keepdims=keepdims)\n\n/opt/conda/lib/python3.9/site-packages/numpy/lib/nanfunctions.py:1117: RuntimeWarning: Mean of empty slice\n\n  return np.nanmean(a, axis, out=out, keepdims=keepdims)\n\n/opt/conda/lib/python3.9/site-packages/numpy/lib/nanfunctions.py:1117: RuntimeWarning: Mean of empty slice\n\n  return np.nanmean(a, axis, out=out, keepdims=keepdims)\n\n/opt/conda/lib/python3.9/site-packages/numpy/lib/nanfunctions.py:1117: RuntimeWarning: Mean of empty slice\n\n  return np.nanmean(a, axis, out=out, keepdims=keepdims)\n\n/opt/conda/lib/python3.9/site-packages/numpy/lib/nanfunctions.py:1117: RuntimeWarning: Mean of empty slice\n\n  return np.nanmean(a, axis, out=out, keepdims=keepdims)\n\n/opt/conda/lib/python3.9/site-packages/numpy/lib/nanfunctions.py:1117: RuntimeWarning: Mean of empty slice\n\n  return np.nanmean(a, axis, out=out, keepdims=keepdims)\n\n/opt/conda/lib/python3.9/site-packages/numpy/lib/nanfunctions.py:1117: RuntimeWarning: Mean of empty slice\n\n  return np.nanmean(a, axis, out=out, keepdims=keepdims)\n\n/opt/conda/lib/python3.9/site-packages/numpy/lib/nanfunctions.py:1117: RuntimeWarning: Mean of empty slice\n\n  return np.nanmean(a, axis, out=out, keepdims=keepdims)\n\n/opt/conda/lib/python3.9/site-packages/numpy/lib/nanfunctions.py:1117: RuntimeWarning: Mean of empty slice\n\n  return np.nanmean(a, axis, out=out, keepdims=keepdims)\n\n/opt/conda/lib/python3.9/site-packages/numpy/lib/nanfunctions.py:1117: RuntimeWarning: Mean of empty slice\n\n  return np.nanmean(a, axis, out=out, keepdims=keepdims)\n\n/opt/conda/lib/python3.9/site-packages/numpy/lib/nanfunctions.py:1117: RuntimeWarning: Mean of empty slice\n\n  return np.nanmean(a, axis, out=out, keepdims=keepdims)\n\n/opt/conda/lib/python3.9/site-packages/numpy/lib/nanfunctions.py:1117: RuntimeWarning: Mean of empty slice\n\n  return np.nanmean(a, axis, out=out, keepdims=keepdims)\n\n/opt/conda/lib/python3.9/site-packages/numpy/lib/nanfunctions.py:1117: RuntimeWarning: Mean of empty slice\n\n  return np.nanmean(a, axis, out=out, keepdims=keepdims)\n\n/opt/conda/lib/python3.9/site-packages/numpy/lib/nanfunctions.py:1117: RuntimeWarning: Mean of empty slice\n\n  return np.nanmean(a, axis, out=out, keepdims=keepdims)\n\n/opt/conda/lib/python3.9/site-packages/numpy/lib/nanfunctions.py:1117: RuntimeWarning: Mean of empty slice\n\n  return np.nanmean(a, axis, out=out, keepdims=keepdims)\n\n/opt/conda/lib/python3.9/site-packages/numpy/lib/nanfunctions.py:1117: RuntimeWarning: Mean of empty slice\n\n  return np.nanmean(a, axis, out=out, keepdims=keepdims)\n\n/opt/conda/lib/python3.9/site-packages/numpy/lib/nanfunctions.py:1117: RuntimeWarning: Mean of empty slice\n\n  return np.nanmean(a, axis, out=out, keepdims=keepdims)\n\n/opt/conda/lib/python3.9/site-packages/numpy/lib/nanfunctions.py:1117: RuntimeWarning: Mean of empty slice\n\n  return np.nanmean(a, axis, out=out, keepdims=keepdims)\n\n/opt/conda/lib/python3.9/site-packages/numpy/lib/nanfunctions.py:1117: RuntimeWarning: Mean of empty slice\n\n  return np.nanmean(a, axis, out=out, keepdims=keepdims)\n\n/opt/conda/lib/python3.9/site-packages/numpy/lib/nanfunctions.py:1117: RuntimeWarning: Mean of empty slice\n\n  return np.nanmean(a, axis, out=out, keepdims=keepdims)\n\n/opt/conda/lib/python3.9/site-packages/numpy/lib/nanfunctions.py:1117: RuntimeWarning: Mean of empty slice\n\n  return np.nanmean(a, axis, out=out, keepdims=keepdims)\n\n/opt/conda/lib/python3.9/site-packages/numpy/lib/nanfunctions.py:1117: RuntimeWarning: Mean of empty slice\n\n  return np.nanmean(a, axis, out=out, keepdims=keepdims)\n\n/opt/conda/lib/python3.9/site-packages/numpy/lib/nanfunctions.py:1117: RuntimeWarning: Mean of empty slice\n\n  return np.nanmean(a, axis, out=out, keepdims=keepdims)\n\n/opt/conda/lib/python3.9/site-packages/numpy/lib/nanfunctions.py:1117: RuntimeWarning: Mean of empty slice\n\n  return np.nanmean(a, axis, out=out, keepdims=keepdims)\n\n/opt/conda/lib/python3.9/site-packages/numpy/lib/nanfunctions.py:1117: RuntimeWarning: Mean of empty slice\n\n  return np.nanmean(a, axis, out=out, keepdims=keepdims)\n\n/opt/conda/lib/python3.9/site-packages/numpy/lib/nanfunctions.py:1117: RuntimeWarning: Mean of empty slice\n\n  return np.nanmean(a, axis, out=out, keepdims=keepdims)\n\n/opt/conda/lib/python3.9/site-packages/numpy/lib/nanfunctions.py:1117: RuntimeWarning: Mean of empty slice\n\n  return np.nanmean(a, axis, out=out, keepdims=keepdims)\n\n/opt/conda/lib/python3.9/site-packages/numpy/lib/nanfunctions.py:1117: RuntimeWarning: Mean of empty slice\n\n  return np.nanmean(a, axis, out=out, keepdims=keepdims)\n\n/opt/conda/lib/python3.9/site-packages/numpy/lib/nanfunctions.py:1117: RuntimeWarning: Mean of empty slice\n\n  return np.nanmean(a, axis, out=out, keepdims=keepdims)\n\n/opt/conda/lib/python3.9/site-packages/numpy/lib/nanfunctions.py:1117: RuntimeWarning: Mean of empty slice\n\n  return np.nanmean(a, axis, out=out, keepdims=keepdims)\n\n/opt/conda/lib/python3.9/site-packages/numpy/lib/nanfunctions.py:1117: RuntimeWarning: Mean of empty slice\n\n  return np.nanmean(a, axis, out=out, keepdims=keepdims)\n\n/opt/conda/lib/python3.9/site-packages/numpy/lib/nanfunctions.py:1117: RuntimeWarning: Mean of empty slice\n\n  return np.nanmean(a, axis, out=out, keepdims=keepdims)\n/opt/conda/lib/python3.9/site-packages/numpy/lib/nanfunctions.py:1117: RuntimeWarning: Mean of empty slice\n\n  return np.nanmean(a, axis, out=out, keepdims=keepdims)\n\n/opt/conda/lib/python3.9/site-packages/numpy/lib/nanfunctions.py:1117: RuntimeWarning: Mean of empty slice\n\n  return np.nanmean(a, axis, out=out, keepdims=keepdims)\n\n/opt/conda/lib/python3.9/site-packages/numpy/lib/nanfunctions.py:1117: RuntimeWarning: Mean of empty slice\n\n  return np.nanmean(a, axis, out=out, keepdims=keepdims)\n\n/opt/conda/lib/python3.9/site-packages/numpy/lib/nanfunctions.py:1117: RuntimeWarning: Mean of empty slice\n\n  return np.nanmean(a, axis, out=out, keepdims=keepdims)\n\n/opt/conda/lib/python3.9/site-packages/numpy/lib/nanfunctions.py:1117: RuntimeWarning: Mean of empty slice\n\n  return np.nanmean(a, axis, out=out, keepdims=keepdims)\n\n/opt/conda/lib/python3.9/site-packages/numpy/lib/nanfunctions.py:1117: RuntimeWarning: Mean of empty slice\n\n  return np.nanmean(a, axis, out=out, keepdims=keepdims)\n\n/opt/conda/lib/python3.9/site-packages/numpy/lib/nanfunctions.py:1117: RuntimeWarning: Mean of empty slice\n\n  return np.nanmean(a, axis, out=out, keepdims=keepdims)\n\n/opt/conda/lib/python3.9/site-packages/numpy/lib/nanfunctions.py:1117: RuntimeWarning: Mean of empty slice\n\n  return np.nanmean(a, axis, out=out, keepdims=keepdims)\n\n/opt/conda/lib/python3.9/site-packages/numpy/lib/nanfunctions.py:1117: RuntimeWarning: Mean of empty slice\n\n  return np.nanmean(a, axis, out=out, keepdims=keepdims)\n\n/opt/conda/lib/python3.9/site-packages/numpy/lib/nanfunctions.py:1117: RuntimeWarning: Mean of empty slice\n\n  return np.nanmean(a, axis, out=out, keepdims=keepdims)\n\n/opt/conda/lib/python3.9/site-packages/numpy/lib/nanfunctions.py:1117: RuntimeWarning: Mean of empty slice\n\n  return np.nanmean(a, axis, out=out, keepdims=keepdims)\n\n/opt/conda/lib/python3.9/site-packages/numpy/lib/nanfunctions.py:1117: RuntimeWarning: Mean of empty slice\n\n  return np.nanmean(a, axis, out=out, keepdims=keepdims)\n\n/opt/conda/lib/python3.9/site-packages/numpy/lib/nanfunctions.py:1117: RuntimeWarning: Mean of empty slice\n\n  return np.nanmean(a, axis, out=out, keepdims=keepdims)\n\n/opt/conda/lib/python3.9/site-packages/numpy/lib/nanfunctions.py:1117: RuntimeWarning: Mean of empty slice\n\n  return np.nanmean(a, axis, out=out, keepdims=keepdims)\n\n/opt/conda/lib/python3.9/site-packages/numpy/lib/nanfunctions.py:1117: RuntimeWarning: Mean of empty slice\n\n  return np.nanmean(a, axis, out=out, keepdims=keepdims)\n\n/opt/conda/lib/python3.9/site-packages/numpy/lib/nanfunctions.py:1117: RuntimeWarning: Mean of empty slice\n\n  return np.nanmean(a, axis, out=out, keepdims=keepdims)\n\n/opt/conda/lib/python3.9/site-packages/numpy/lib/nanfunctions.py:1117: RuntimeWarning: Mean of empty slice\n\n  return np.nanmean(a, axis, out=out, keepdims=keepdims)\n\n/opt/conda/lib/python3.9/site-packages/numpy/lib/nanfunctions.py:1117: RuntimeWarning: Mean of empty slice\n\n  return np.nanmean(a, axis, out=out, keepdims=keepdims)\n\n/opt/conda/lib/python3.9/site-packages/numpy/lib/nanfunctions.py:1117: RuntimeWarning: Mean of empty slice\n\n  return np.nanmean(a, axis, out=out, keepdims=keepdims)\n\n/opt/conda/lib/python3.9/site-packages/numpy/lib/nanfunctions.py:1117: RuntimeWarning: Mean of empty slice\n\n  return np.nanmean(a, axis, out=out, keepdims=keepdims)\n\n/opt/conda/lib/python3.9/site-packages/numpy/lib/nanfunctions.py:1117: RuntimeWarning: Mean of empty slice\n\n  return np.nanmean(a, axis, out=out, keepdims=keepdims)\n\n/opt/conda/lib/python3.9/site-packages/numpy/lib/nanfunctions.py:1117: RuntimeWarning: Mean of empty slice\n\n  return np.nanmean(a, axis, out=out, keepdims=keepdims)\n\n/opt/conda/lib/python3.9/site-packages/numpy/lib/nanfunctions.py:1117: RuntimeWarning: Mean of empty slice\n\n  return np.nanmean(a, axis, out=out, keepdims=keepdims)\n\n/opt/conda/lib/python3.9/site-packages/numpy/lib/nanfunctions.py:1117: RuntimeWarning: Mean of empty slice\n\n  return np.nanmean(a, axis, out=out, keepdims=keepdims)\n\n/opt/conda/lib/python3.9/site-packages/numpy/lib/nanfunctions.py:1117: RuntimeWarning: Mean of empty slice\n\n  return np.nanmean(a, axis, out=out, keepdims=keepdims)\n\n/opt/conda/lib/python3.9/site-packages/numpy/lib/nanfunctions.py:1117: RuntimeWarning: Mean of empty slice\n\n  return np.nanmean(a, axis, out=out, keepdims=keepdims)\n\n/opt/conda/lib/python3.9/site-packages/numpy/lib/nanfunctions.py:1117: RuntimeWarning: Mean of empty slice\n\n  return np.nanmean(a, axis, out=out, keepdims=keepdims)\n\n/opt/conda/lib/python3.9/site-packages/numpy/lib/nanfunctions.py:1117: RuntimeWarning: Mean of empty slice\n\n  return np.nanmean(a, axis, out=out, keepdims=keepdims)\n\n/opt/conda/lib/python3.9/site-packages/numpy/lib/nanfunctions.py:1117: RuntimeWarning: Mean of empty slice\n\n  return np.nanmean(a, axis, out=out, keepdims=keepdims)\n\n/opt/conda/lib/python3.9/site-packages/numpy/lib/nanfunctions.py:1117: RuntimeWarning: Mean of empty slice\n\n  return np.nanmean(a, axis, out=out, keepdims=keepdims)\n\n/opt/conda/lib/python3.9/site-packages/numpy/lib/nanfunctions.py:1117: RuntimeWarning: Mean of empty slice\n\n  return np.nanmean(a, axis, out=out, keepdims=keepdims)\n\n/opt/conda/lib/python3.9/site-packages/numpy/lib/nanfunctions.py:1117: RuntimeWarning: Mean of empty slice\n\n  return np.nanmean(a, axis, out=out, keepdims=keepdims)\n\n/opt/conda/lib/python3.9/site-packages/numpy/lib/nanfunctions.py:1117: RuntimeWarning: Mean of empty slice\n\n  return np.nanmean(a, axis, out=out, keepdims=keepdims)\n\n/opt/conda/lib/python3.9/site-packages/numpy/lib/nanfunctions.py:1117: RuntimeWarning: Mean of empty slice\n\n  return np.nanmean(a, axis, out=out, keepdims=keepdims)\n\n/opt/conda/lib/python3.9/site-packages/numpy/lib/nanfunctions.py:1117: RuntimeWarning: Mean of empty slice\n\n  return np.nanmean(a, axis, out=out, keepdims=keepdims)\n\n/opt/conda/lib/python3.9/site-packages/numpy/lib/nanfunctions.py:1117: RuntimeWarning: Mean of empty slice\n\n  return np.nanmean(a, axis, out=out, keepdims=keepdims)\n\n/opt/conda/lib/python3.9/site-packages/numpy/lib/nanfunctions.py:1117: RuntimeWarning: Mean of empty slice\n\n  return np.nanmean(a, axis, out=out, keepdims=keepdims)\n\n/opt/conda/lib/python3.9/site-packages/numpy/lib/nanfunctions.py:1117: RuntimeWarning: Mean of empty slice\n\n  return np.nanmean(a, axis, out=out, keepdims=keepdims)\n\n/opt/conda/lib/python3.9/site-packages/numpy/lib/nanfunctions.py:1117: RuntimeWarning: Mean of empty slice\n\n  return np.nanmean(a, axis, out=out, keepdims=keepdims)\n\n/opt/conda/lib/python3.9/site-packages/numpy/lib/nanfunctions.py:1117: RuntimeWarning: Mean of empty slice\n\n  return np.nanmean(a, axis, out=out, keepdims=keepdims)\n\n/opt/conda/lib/python3.9/site-packages/numpy/lib/nanfunctions.py:1117: RuntimeWarning: Mean of empty slice\n\n  return np.nanmean(a, axis, out=out, keepdims=keepdims)\n\n/opt/conda/lib/python3.9/site-packages/numpy/lib/nanfunctions.py:1117: RuntimeWarning: Mean of empty slice\n\n  return np.nanmean(a, axis, out=out, keepdims=keepdims)\n\n/opt/conda/lib/python3.9/site-packages/numpy/lib/nanfunctions.py:1117: RuntimeWarning: Mean of empty slice\n\n  return np.nanmean(a, axis, out=out, keepdims=keepdims)\n\n/opt/conda/lib/python3.9/site-packages/numpy/lib/nanfunctions.py:1117: RuntimeWarning: Mean of empty slice\n\n  return np.nanmean(a, axis, out=out, keepdims=keepdims)\n\n/opt/conda/lib/python3.9/site-packages/numpy/lib/nanfunctions.py:1117: RuntimeWarning: Mean of empty slice\n\n  return np.nanmean(a, axis, out=out, keepdims=keepdims)\n\n/opt/conda/lib/python3.9/site-packages/numpy/lib/nanfunctions.py:1117: RuntimeWarning: Mean of empty slice\n\n  return np.nanmean(a, axis, out=out, keepdims=keepdims)\n\n/opt/conda/lib/python3.9/site-packages/numpy/lib/nanfunctions.py:1117: RuntimeWarning: Mean of empty slice\n\n  return np.nanmean(a, axis, out=out, keepdims=keepdims)\n\n/opt/conda/lib/python3.9/site-packages/numpy/lib/nanfunctions.py:1117: RuntimeWarning: Mean of empty slice\n\n  return np.nanmean(a, axis, out=out, keepdims=keepdims)\n\n/opt/conda/lib/python3.9/site-packages/numpy/lib/nanfunctions.py:1117: RuntimeWarning: Mean of empty slice\n\n  return np.nanmean(a, axis, out=out, keepdims=keepdims)\n\n/opt/conda/lib/python3.9/site-packages/numpy/lib/nanfunctions.py:1117: RuntimeWarning: Mean of empty slice\n\n  return np.nanmean(a, axis, out=out, keepdims=keepdims)\n\n/opt/conda/lib/python3.9/site-packages/numpy/lib/nanfunctions.py:1117: RuntimeWarning: Mean of empty slice\n\n  return np.nanmean(a, axis, out=out, keepdims=keepdims)\n/opt/conda/lib/python3.9/site-packages/numpy/lib/nanfunctions.py:1117: RuntimeWarning: Mean of empty slice\n\n  return np.nanmean(a, axis, out=out, keepdims=keepdims)\n\n/opt/conda/lib/python3.9/site-packages/numpy/lib/nanfunctions.py:1117: RuntimeWarning: Mean of empty slice\n\n  return np.nanmean(a, axis, out=out, keepdims=keepdims)\n\n/opt/conda/lib/python3.9/site-packages/numpy/lib/nanfunctions.py:1117: RuntimeWarning: Mean of empty slice\n\n  return np.nanmean(a, axis, out=out, keepdims=keepdims)\n\n/opt/conda/lib/python3.9/site-packages/numpy/lib/nanfunctions.py:1117: RuntimeWarning: Mean of empty slice\n\n  return np.nanmean(a, axis, out=out, keepdims=keepdims)\n\n/opt/conda/lib/python3.9/site-packages/numpy/lib/nanfunctions.py:1117: RuntimeWarning: Mean of empty slice\n\n  return np.nanmean(a, axis, out=out, keepdims=keepdims)\n\n/opt/conda/lib/python3.9/site-packages/numpy/lib/nanfunctions.py:1117: RuntimeWarning: Mean of empty slice\n\n  return np.nanmean(a, axis, out=out, keepdims=keepdims)\n\n/opt/conda/lib/python3.9/site-packages/numpy/lib/nanfunctions.py:1117: RuntimeWarning: Mean of empty slice\n\n  return np.nanmean(a, axis, out=out, keepdims=keepdims)\n\n/opt/conda/lib/python3.9/site-packages/numpy/lib/nanfunctions.py:1117: RuntimeWarning: Mean of empty slice\n\n  return np.nanmean(a, axis, out=out, keepdims=keepdims)\n\n/opt/conda/lib/python3.9/site-packages/numpy/lib/nanfunctions.py:1117: RuntimeWarning: Mean of empty slice\n\n  return np.nanmean(a, axis, out=out, keepdims=keepdims)\n\n/opt/conda/lib/python3.9/site-packages/numpy/lib/nanfunctions.py:1117: RuntimeWarning: Mean of empty slice\n\n  return np.nanmean(a, axis, out=out, keepdims=keepdims)\n\n/opt/conda/lib/python3.9/site-packages/numpy/lib/nanfunctions.py:1117: RuntimeWarning: Mean of empty slice\n\n  return np.nanmean(a, axis, out=out, keepdims=keepdims)\n\n/opt/conda/lib/python3.9/site-packages/numpy/lib/nanfunctions.py:1117: RuntimeWarning: Mean of empty slice\n\n  return np.nanmean(a, axis, out=out, keepdims=keepdims)\n\n/opt/conda/lib/python3.9/site-packages/numpy/lib/nanfunctions.py:1117: RuntimeWarning: Mean of empty slice\n\n  return np.nanmean(a, axis, out=out, keepdims=keepdims)\n\n/opt/conda/lib/python3.9/site-packages/numpy/lib/nanfunctions.py:1117: RuntimeWarning: Mean of empty slice\n\n  return np.nanmean(a, axis, out=out, keepdims=keepdims)\n\n/opt/conda/lib/python3.9/site-packages/numpy/lib/nanfunctions.py:1117: RuntimeWarning: Mean of empty slice\n\n  return np.nanmean(a, axis, out=out, keepdims=keepdims)\n\n/opt/conda/lib/python3.9/site-packages/numpy/lib/nanfunctions.py:1117: RuntimeWarning: Mean of empty slice\n\n  return np.nanmean(a, axis, out=out, keepdims=keepdims)\n\n/opt/conda/lib/python3.9/site-packages/numpy/lib/nanfunctions.py:1117: RuntimeWarning: Mean of empty slice\n\n  return np.nanmean(a, axis, out=out, keepdims=keepdims)\n\n/opt/conda/lib/python3.9/site-packages/numpy/lib/nanfunctions.py:1117: RuntimeWarning: Mean of empty slice\n\n  return np.nanmean(a, axis, out=out, keepdims=keepdims)\n\n/opt/conda/lib/python3.9/site-packages/numpy/lib/nanfunctions.py:1117: RuntimeWarning: Mean of empty slice\n\n  return np.nanmean(a, axis, out=out, keepdims=keepdims)\n\n/opt/conda/lib/python3.9/site-packages/numpy/lib/nanfunctions.py:1117: RuntimeWarning: Mean of empty slice\n\n  return np.nanmean(a, axis, out=out, keepdims=keepdims)\n\n/opt/conda/lib/python3.9/site-packages/numpy/lib/nanfunctions.py:1117: RuntimeWarning: Mean of empty slice\n\n  return np.nanmean(a, axis, out=out, keepdims=keepdims)\n\n/opt/conda/lib/python3.9/site-packages/numpy/lib/nanfunctions.py:1117: RuntimeWarning: Mean of empty slice\n\n  return np.nanmean(a, axis, out=out, keepdims=keepdims)\n\n/opt/conda/lib/python3.9/site-packages/numpy/lib/nanfunctions.py:1117: RuntimeWarning: Mean of empty slice\n\n  return np.nanmean(a, axis, out=out, keepdims=keepdims)\n\n/opt/conda/lib/python3.9/site-packages/numpy/lib/nanfunctions.py:1117: RuntimeWarning: Mean of empty slice\n\n  return np.nanmean(a, axis, out=out, keepdims=keepdims)\n\n/opt/conda/lib/python3.9/site-packages/numpy/lib/nanfunctions.py:1117: RuntimeWarning: Mean of empty slice\n\n  return np.nanmean(a, axis, out=out, keepdims=keepdims)\n\n/opt/conda/lib/python3.9/site-packages/numpy/lib/nanfunctions.py:1117: RuntimeWarning: Mean of empty slice\n\n  return np.nanmean(a, axis, out=out, keepdims=keepdims)\n\n/opt/conda/lib/python3.9/site-packages/numpy/lib/nanfunctions.py:1117: RuntimeWarning: Mean of empty slice\n\n  return np.nanmean(a, axis, out=out, keepdims=keepdims)\n\n/opt/conda/lib/python3.9/site-packages/numpy/lib/nanfunctions.py:1117: RuntimeWarning: Mean of empty slice\n\n  return np.nanmean(a, axis, out=out, keepdims=keepdims)\n\n/opt/conda/lib/python3.9/site-packages/numpy/lib/nanfunctions.py:1117: RuntimeWarning: Mean of empty slice\n\n  return np.nanmean(a, axis, out=out, keepdims=keepdims)\n\n/opt/conda/lib/python3.9/site-packages/numpy/lib/nanfunctions.py:1117: RuntimeWarning: Mean of empty slice\n\n  return np.nanmean(a, axis, out=out, keepdims=keepdims)\n\n/opt/conda/lib/python3.9/site-packages/numpy/lib/nanfunctions.py:1117: RuntimeWarning: Mean of empty slice\n\n  return np.nanmean(a, axis, out=out, keepdims=keepdims)\n\n/opt/conda/lib/python3.9/site-packages/numpy/lib/nanfunctions.py:1117: RuntimeWarning: Mean of empty slice\n\n  return np.nanmean(a, axis, out=out, keepdims=keepdims)\n\n/opt/conda/lib/python3.9/site-packages/numpy/lib/nanfunctions.py:1117: RuntimeWarning: Mean of empty slice\n\n  return np.nanmean(a, axis, out=out, keepdims=keepdims)\n\n/opt/conda/lib/python3.9/site-packages/numpy/lib/nanfunctions.py:1117: RuntimeWarning: Mean of empty slice\n\n  return np.nanmean(a, axis, out=out, keepdims=keepdims)\n\n/opt/conda/lib/python3.9/site-packages/numpy/lib/nanfunctions.py:1117: RuntimeWarning: Mean of empty slice\n\n  return np.nanmean(a, axis, out=out, keepdims=keepdims)\n\n/opt/conda/lib/python3.9/site-packages/numpy/lib/nanfunctions.py:1117: RuntimeWarning: Mean of empty slice\n\n  return np.nanmean(a, axis, out=out, keepdims=keepdims)\n\n/opt/conda/lib/python3.9/site-packages/numpy/lib/nanfunctions.py:1117: RuntimeWarning: Mean of empty slice\n\n  return np.nanmean(a, axis, out=out, keepdims=keepdims)\n\n/opt/conda/lib/python3.9/site-packages/numpy/lib/nanfunctions.py:1117: RuntimeWarning: Mean of empty slice\n\n  return np.nanmean(a, axis, out=out, keepdims=keepdims)\n\n/opt/conda/lib/python3.9/site-packages/numpy/lib/nanfunctions.py:1117: RuntimeWarning: Mean of empty slice\n\n  return np.nanmean(a, axis, out=out, keepdims=keepdims)\n\n/opt/conda/lib/python3.9/site-packages/numpy/lib/nanfunctions.py:1117: RuntimeWarning: Mean of empty slice\n\n  return np.nanmean(a, axis, out=out, keepdims=keepdims)\n\n/opt/conda/lib/python3.9/site-packages/numpy/lib/nanfunctions.py:1117: RuntimeWarning: Mean of empty slice\n\n  return np.nanmean(a, axis, out=out, keepdims=keepdims)\n\n/opt/conda/lib/python3.9/site-packages/numpy/lib/nanfunctions.py:1117: RuntimeWarning: Mean of empty slice\n\n  return np.nanmean(a, axis, out=out, keepdims=keepdims)\n\n/opt/conda/lib/python3.9/site-packages/numpy/lib/nanfunctions.py:1117: RuntimeWarning: Mean of empty slice\n\n  return np.nanmean(a, axis, out=out, keepdims=keepdims)\n\n/opt/conda/lib/python3.9/site-packages/numpy/lib/nanfunctions.py:1117: RuntimeWarning: Mean of empty slice\n\n  return np.nanmean(a, axis, out=out, keepdims=keepdims)\n\n/opt/conda/lib/python3.9/site-packages/numpy/lib/nanfunctions.py:1117: RuntimeWarning: Mean of empty slice\n\n  return np.nanmean(a, axis, out=out, keepdims=keepdims)\n\n/opt/conda/lib/python3.9/site-packages/numpy/lib/nanfunctions.py:1117: RuntimeWarning: Mean of empty slice\n\n  return np.nanmean(a, axis, out=out, keepdims=keepdims)\n\n/opt/conda/lib/python3.9/site-packages/numpy/lib/nanfunctions.py:1117: RuntimeWarning: Mean of empty slice\n\n  return np.nanmean(a, axis, out=out, keepdims=keepdims)\n\n/opt/conda/lib/python3.9/site-packages/numpy/lib/nanfunctions.py:1117: RuntimeWarning: Mean of empty slice\n\n  return np.nanmean(a, axis, out=out, keepdims=keepdims)\n\n/opt/conda/lib/python3.9/site-packages/numpy/lib/nanfunctions.py:1117: RuntimeWarning: Mean of empty slice\n\n  return np.nanmean(a, axis, out=out, keepdims=keepdims)\n\n/opt/conda/lib/python3.9/site-packages/numpy/lib/nanfunctions.py:1117: RuntimeWarning: Mean of empty slice\n\n  return np.nanmean(a, axis, out=out, keepdims=keepdims)\n\n/opt/conda/lib/python3.9/site-packages/numpy/lib/nanfunctions.py:1117: RuntimeWarning: Mean of empty slice\n\n  return np.nanmean(a, axis, out=out, keepdims=keepdims)\n\n/opt/conda/lib/python3.9/site-packages/numpy/lib/nanfunctions.py:1117: RuntimeWarning: Mean of empty slice\n\n  return np.nanmean(a, axis, out=out, keepdims=keepdims)\n\n/opt/conda/lib/python3.9/site-packages/numpy/lib/nanfunctions.py:1117: RuntimeWarning: Mean of empty slice\n\n  return np.nanmean(a, axis, out=out, keepdims=keepdims)\n\n/opt/conda/lib/python3.9/site-packages/numpy/lib/nanfunctions.py:1117: RuntimeWarning: Mean of empty slice\n\n  return np.nanmean(a, axis, out=out, keepdims=keepdims)\n\n/opt/conda/lib/python3.9/site-packages/numpy/lib/nanfunctions.py:1117: RuntimeWarning: Mean of empty slice\n\n  return np.nanmean(a, axis, out=out, keepdims=keepdims)\n\n/opt/conda/lib/python3.9/site-packages/numpy/lib/nanfunctions.py:1117: RuntimeWarning: Mean of empty slice\n\n  return np.nanmean(a, axis, out=out, keepdims=keepdims)\n\n/opt/conda/lib/python3.9/site-packages/numpy/lib/nanfunctions.py:1117: RuntimeWarning: Mean of empty slice\n\n  return np.nanmean(a, axis, out=out, keepdims=keepdims)\n\n/opt/conda/lib/python3.9/site-packages/numpy/lib/nanfunctions.py:1117: RuntimeWarning: Mean of empty slice\n\n  return np.nanmean(a, axis, out=out, keepdims=keepdims)\n\n/opt/conda/lib/python3.9/site-packages/numpy/lib/nanfunctions.py:1117: RuntimeWarning: Mean of empty slice\n\n  return np.nanmean(a, axis, out=out, keepdims=keepdims)\n\n/opt/conda/lib/python3.9/site-packages/numpy/lib/nanfunctions.py:1117: RuntimeWarning: Mean of empty slice\n\n  return np.nanmean(a, axis, out=out, keepdims=keepdims)\n\n/opt/conda/lib/python3.9/site-packages/numpy/lib/nanfunctions.py:1117: RuntimeWarning: Mean of empty slice\n\n  return np.nanmean(a, axis, out=out, keepdims=keepdims)\n\n/opt/conda/lib/python3.9/site-packages/numpy/lib/nanfunctions.py:1117: RuntimeWarning: Mean of empty slice\n\n  return np.nanmean(a, axis, out=out, keepdims=keepdims)\n\n/opt/conda/lib/python3.9/site-packages/numpy/lib/nanfunctions.py:1117: RuntimeWarning: Mean of empty slice\n\n  return np.nanmean(a, axis, out=out, keepdims=keepdims)\n\n/opt/conda/lib/python3.9/site-packages/numpy/lib/nanfunctions.py:1117: RuntimeWarning: Mean of empty slice\n\n  return np.nanmean(a, axis, out=out, keepdims=keepdims)\n\n/opt/conda/lib/python3.9/site-packages/numpy/lib/nanfunctions.py:1117: RuntimeWarning: Mean of empty slice\n\n  return np.nanmean(a, axis, out=out, keepdims=keepdims)\n\n/opt/conda/lib/python3.9/site-packages/numpy/lib/nanfunctions.py:1117: RuntimeWarning: Mean of empty slice\n\n  return np.nanmean(a, axis, out=out, keepdims=keepdims)\n\n/opt/conda/lib/python3.9/site-packages/numpy/lib/nanfunctions.py:1117: RuntimeWarning: Mean of empty slice\n\n  return np.nanmean(a, axis, out=out, keepdims=keepdims)\n\n/opt/conda/lib/python3.9/site-packages/numpy/lib/nanfunctions.py:1117: RuntimeWarning: Mean of empty slice\n\n  return np.nanmean(a, axis, out=out, keepdims=keepdims)\n\n/opt/conda/lib/python3.9/site-packages/numpy/lib/nanfunctions.py:1117: RuntimeWarning: Mean of empty slice\n\n  return np.nanmean(a, axis, out=out, keepdims=keepdims)\n\n/opt/conda/lib/python3.9/site-packages/numpy/lib/nanfunctions.py:1117: RuntimeWarning: Mean of empty slice\n\n  return np.nanmean(a, axis, out=out, keepdims=keepdims)\n\n/opt/conda/lib/python3.9/site-packages/numpy/lib/nanfunctions.py:1117: RuntimeWarning: Mean of empty slice\n\n  return np.nanmean(a, axis, out=out, keepdims=keepdims)\n\n/opt/conda/lib/python3.9/site-packages/numpy/lib/nanfunctions.py:1117: RuntimeWarning: Mean of empty slice\n\n  return np.nanmean(a, axis, out=out, keepdims=keepdims)\n\n/opt/conda/lib/python3.9/site-packages/numpy/lib/nanfunctions.py:1117: RuntimeWarning: Mean of empty slice\n\n  return np.nanmean(a, axis, out=out, keepdims=keepdims)\n\n/opt/conda/lib/python3.9/site-packages/numpy/lib/nanfunctions.py:1117: RuntimeWarning: Mean of empty slice\n\n  return np.nanmean(a, axis, out=out, keepdims=keepdims)\n\n/opt/conda/lib/python3.9/site-packages/numpy/lib/nanfunctions.py:1117: RuntimeWarning: Mean of empty slice\n\n  return np.nanmean(a, axis, out=out, keepdims=keepdims)\n\n/opt/conda/lib/python3.9/site-packages/numpy/lib/nanfunctions.py:1117: RuntimeWarning: Mean of empty slice\n\n  return np.nanmean(a, axis, out=out, keepdims=keepdims)\n\n/opt/conda/lib/python3.9/site-packages/numpy/lib/nanfunctions.py:1117: RuntimeWarning: Mean of empty slice\n\n  return np.nanmean(a, axis, out=out, keepdims=keepdims)\n\n/opt/conda/lib/python3.9/site-packages/numpy/lib/nanfunctions.py:1117: RuntimeWarning: Mean of empty slice\n\n  return np.nanmean(a, axis, out=out, keepdims=keepdims)\n\n/opt/conda/lib/python3.9/site-packages/numpy/lib/nanfunctions.py:1117: RuntimeWarning: Mean of empty slice\n\n  return np.nanmean(a, axis, out=out, keepdims=keepdims)\n\n/opt/conda/lib/python3.9/site-packages/numpy/lib/nanfunctions.py:1117: RuntimeWarning: Mean of empty slice\n\n  return np.nanmean(a, axis, out=out, keepdims=keepdims)\n\n/opt/conda/lib/python3.9/site-packages/numpy/lib/nanfunctions.py:1117: RuntimeWarning: Mean of empty slice\n\n  return np.nanmean(a, axis, out=out, keepdims=keepdims)\n\n/opt/conda/lib/python3.9/site-packages/numpy/lib/nanfunctions.py:1117: RuntimeWarning: Mean of empty slice\n\n  return np.nanmean(a, axis, out=out, keepdims=keepdims)\n\n/opt/conda/lib/python3.9/site-packages/numpy/lib/nanfunctions.py:1117: RuntimeWarning: Mean of empty slice\n\n  return np.nanmean(a, axis, out=out, keepdims=keepdims)\n\n/opt/conda/lib/python3.9/site-packages/numpy/lib/nanfunctions.py:1117: RuntimeWarning: Mean of empty slice\n\n  return np.nanmean(a, axis, out=out, keepdims=keepdims)\n\n/opt/conda/lib/python3.9/site-packages/numpy/lib/nanfunctions.py:1117: RuntimeWarning: Mean of empty slice\n\n  return np.nanmean(a, axis, out=out, keepdims=keepdims)\n\n/opt/conda/lib/python3.9/site-packages/numpy/lib/nanfunctions.py:1117: RuntimeWarning: Mean of empty slice\n\n  return np.nanmean(a, axis, out=out, keepdims=keepdims)\n\n/opt/conda/lib/python3.9/site-packages/numpy/lib/nanfunctions.py:1117: RuntimeWarning: Mean of empty slice\n\n  return np.nanmean(a, axis, out=out, keepdims=keepdims)\n\n/opt/conda/lib/python3.9/site-packages/numpy/lib/nanfunctions.py:1117: RuntimeWarning: Mean of empty slice\n\n  return np.nanmean(a, axis, out=out, keepdims=keepdims)\n\n/opt/conda/lib/python3.9/site-packages/numpy/lib/nanfunctions.py:1117: RuntimeWarning: Mean of empty slice\n\n  return np.nanmean(a, axis, out=out, keepdims=keepdims)\n\n/opt/conda/lib/python3.9/site-packages/numpy/lib/nanfunctions.py:1117: RuntimeWarning: Mean of empty slice\n\n  return np.nanmean(a, axis, out=out, keepdims=keepdims)\n\n/opt/conda/lib/python3.9/site-packages/numpy/lib/nanfunctions.py:1117: RuntimeWarning: Mean of empty slice\n\n  return np.nanmean(a, axis, out=out, keepdims=keepdims)\n\n/opt/conda/lib/python3.9/site-packages/numpy/lib/nanfunctions.py:1117: RuntimeWarning: Mean of empty slice\n\n  return np.nanmean(a, axis, out=out, keepdims=keepdims)\n\n/opt/conda/lib/python3.9/site-packages/numpy/lib/nanfunctions.py:1117: RuntimeWarning: Mean of empty slice\n\n  return np.nanmean(a, axis, out=out, keepdims=keepdims)\n\n/opt/conda/lib/python3.9/site-packages/numpy/lib/nanfunctions.py:1117: RuntimeWarning: Mean of empty slice\n\n  return np.nanmean(a, axis, out=out, keepdims=keepdims)\n\n/opt/conda/lib/python3.9/site-packages/numpy/lib/nanfunctions.py:1117: RuntimeWarning: Mean of empty slice\n\n  return np.nanmean(a, axis, out=out, keepdims=keepdims)\n\n/opt/conda/lib/python3.9/site-packages/numpy/lib/nanfunctions.py:1117: RuntimeWarning: Mean of empty slice\n\n  return np.nanmean(a, axis, out=out, keepdims=keepdims)\n\n/opt/conda/lib/python3.9/site-packages/numpy/lib/nanfunctions.py:1117: RuntimeWarning: Mean of empty slice\n\n  return np.nanmean(a, axis, out=out, keepdims=keepdims)\n/opt/conda/lib/python3.9/site-packages/numpy/lib/nanfunctions.py:1117: RuntimeWarning: Mean of empty slice\n\n  return np.nanmean(a, axis, out=out, keepdims=keepdims)\n\n/opt/conda/lib/python3.9/site-packages/numpy/lib/nanfunctions.py:1117: RuntimeWarning: Mean of empty slice\n\n  return np.nanmean(a, axis, out=out, keepdims=keepdims)\n\n/opt/conda/lib/python3.9/site-packages/numpy/lib/nanfunctions.py:1117: RuntimeWarning: Mean of empty slice\n\n  return np.nanmean(a, axis, out=out, keepdims=keepdims)\n\n/opt/conda/lib/python3.9/site-packages/numpy/lib/nanfunctions.py:1117: RuntimeWarning: Mean of empty slice\n\n  return np.nanmean(a, axis, out=out, keepdims=keepdims)\n\n/opt/conda/lib/python3.9/site-packages/numpy/lib/nanfunctions.py:1117: RuntimeWarning: Mean of empty slice\n\n  return np.nanmean(a, axis, out=out, keepdims=keepdims)\n\n/opt/conda/lib/python3.9/site-packages/numpy/lib/nanfunctions.py:1117: RuntimeWarning: Mean of empty slice\n\n  return np.nanmean(a, axis, out=out, keepdims=keepdims)\n\n/opt/conda/lib/python3.9/site-packages/numpy/lib/nanfunctions.py:1117: RuntimeWarning: Mean of empty slice\n\n  return np.nanmean(a, axis, out=out, keepdims=keepdims)\n\n/opt/conda/lib/python3.9/site-packages/numpy/lib/nanfunctions.py:1117: RuntimeWarning: Mean of empty slice\n\n  return np.nanmean(a, axis, out=out, keepdims=keepdims)\n\n/opt/conda/lib/python3.9/site-packages/numpy/lib/nanfunctions.py:1117: RuntimeWarning: Mean of empty slice\n\n  return np.nanmean(a, axis, out=out, keepdims=keepdims)\n\n/opt/conda/lib/python3.9/site-packages/numpy/lib/nanfunctions.py:1117: RuntimeWarning: Mean of empty slice\n\n  return np.nanmean(a, axis, out=out, keepdims=keepdims)\n\n/opt/conda/lib/python3.9/site-packages/numpy/lib/nanfunctions.py:1117: RuntimeWarning: Mean of empty slice\n\n  return np.nanmean(a, axis, out=out, keepdims=keepdims)\n\n/opt/conda/lib/python3.9/site-packages/numpy/lib/nanfunctions.py:1117: RuntimeWarning: Mean of empty slice\n\n  return np.nanmean(a, axis, out=out, keepdims=keepdims)\n\n/opt/conda/lib/python3.9/site-packages/numpy/lib/nanfunctions.py:1117: RuntimeWarning: Mean of empty slice\n\n  return np.nanmean(a, axis, out=out, keepdims=keepdims)\n\n/opt/conda/lib/python3.9/site-packages/numpy/lib/nanfunctions.py:1117: RuntimeWarning: Mean of empty slice\n\n  return np.nanmean(a, axis, out=out, keepdims=keepdims)\n\n/opt/conda/lib/python3.9/site-packages/numpy/lib/nanfunctions.py:1117: RuntimeWarning: Mean of empty slice\n\n  return np.nanmean(a, axis, out=out, keepdims=keepdims)\n\n/opt/conda/lib/python3.9/site-packages/numpy/lib/nanfunctions.py:1117: RuntimeWarning: Mean of empty slice\n\n  return np.nanmean(a, axis, out=out, keepdims=keepdims)\n\n/opt/conda/lib/python3.9/site-packages/numpy/lib/nanfunctions.py:1117: RuntimeWarning: Mean of empty slice\n\n  return np.nanmean(a, axis, out=out, keepdims=keepdims)\n\n/opt/conda/lib/python3.9/site-packages/numpy/lib/nanfunctions.py:1117: RuntimeWarning: Mean of empty slice\n\n  return np.nanmean(a, axis, out=out, keepdims=keepdims)\n\n/opt/conda/lib/python3.9/site-packages/numpy/lib/nanfunctions.py:1117: RuntimeWarning: Mean of empty slice\n\n  return np.nanmean(a, axis, out=out, keepdims=keepdims)\n\n/opt/conda/lib/python3.9/site-packages/numpy/lib/nanfunctions.py:1117: RuntimeWarning: Mean of empty slice\n\n  return np.nanmean(a, axis, out=out, keepdims=keepdims)\n\n/opt/conda/lib/python3.9/site-packages/numpy/lib/nanfunctions.py:1117: RuntimeWarning: Mean of empty slice\n\n  return np.nanmean(a, axis, out=out, keepdims=keepdims)\n\n/opt/conda/lib/python3.9/site-packages/numpy/lib/nanfunctions.py:1117: RuntimeWarning: Mean of empty slice\n\n  return np.nanmean(a, axis, out=out, keepdims=keepdims)\n\n/opt/conda/lib/python3.9/site-packages/numpy/lib/nanfunctions.py:1117: RuntimeWarning: Mean of empty slice\n\n  return np.nanmean(a, axis, out=out, keepdims=keepdims)\n\n/opt/conda/lib/python3.9/site-packages/numpy/lib/nanfunctions.py:1117: RuntimeWarning: Mean of empty slice\n\n  return np.nanmean(a, axis, out=out, keepdims=keepdims)\n\n/opt/conda/lib/python3.9/site-packages/numpy/lib/nanfunctions.py:1117: RuntimeWarning: Mean of empty slice\n\n  return np.nanmean(a, axis, out=out, keepdims=keepdims)\n\n/opt/conda/lib/python3.9/site-packages/numpy/lib/nanfunctions.py:1117: RuntimeWarning: Mean of empty slice\n\n  return np.nanmean(a, axis, out=out, keepdims=keepdims)\n\n/opt/conda/lib/python3.9/site-packages/numpy/lib/nanfunctions.py:1117: RuntimeWarning: Mean of empty slice\n\n  return np.nanmean(a, axis, out=out, keepdims=keepdims)\n\n/opt/conda/lib/python3.9/site-packages/numpy/lib/nanfunctions.py:1117: RuntimeWarning: Mean of empty slice\n\n  return np.nanmean(a, axis, out=out, keepdims=keepdims)\n\n/opt/conda/lib/python3.9/site-packages/numpy/lib/nanfunctions.py:1117: RuntimeWarning: Mean of empty slice\n\n  return np.nanmean(a, axis, out=out, keepdims=keepdims)\n\n/opt/conda/lib/python3.9/site-packages/numpy/lib/nanfunctions.py:1117: RuntimeWarning: Mean of empty slice\n\n  return np.nanmean(a, axis, out=out, keepdims=keepdims)\n\n/opt/conda/lib/python3.9/site-packages/numpy/lib/nanfunctions.py:1117: RuntimeWarning: Mean of empty slice\n\n  return np.nanmean(a, axis, out=out, keepdims=keepdims)\n\n/opt/conda/lib/python3.9/site-packages/numpy/lib/nanfunctions.py:1117: RuntimeWarning: Mean of empty slice\n\n  return np.nanmean(a, axis, out=out, keepdims=keepdims)\n\n/opt/conda/lib/python3.9/site-packages/numpy/lib/nanfunctions.py:1117: RuntimeWarning: Mean of empty slice\n\n  return np.nanmean(a, axis, out=out, keepdims=keepdims)\n\n/opt/conda/lib/python3.9/site-packages/numpy/lib/nanfunctions.py:1117: RuntimeWarning: Mean of empty slice\n\n  return np.nanmean(a, axis, out=out, keepdims=keepdims)\n\n/opt/conda/lib/python3.9/site-packages/numpy/lib/nanfunctions.py:1117: RuntimeWarning: Mean of empty slice\n\n  return np.nanmean(a, axis, out=out, keepdims=keepdims)\n\n/opt/conda/lib/python3.9/site-packages/numpy/lib/nanfunctions.py:1117: RuntimeWarning: Mean of empty slice\n\n  return np.nanmean(a, axis, out=out, keepdims=keepdims)\n\n/opt/conda/lib/python3.9/site-packages/numpy/lib/nanfunctions.py:1117: RuntimeWarning: Mean of empty slice\n\n  return np.nanmean(a, axis, out=out, keepdims=keepdims)\n\n/opt/conda/lib/python3.9/site-packages/numpy/lib/nanfunctions.py:1117: RuntimeWarning: Mean of empty slice\n\n  return np.nanmean(a, axis, out=out, keepdims=keepdims)\n\n/opt/conda/lib/python3.9/site-packages/numpy/lib/nanfunctions.py:1117: RuntimeWarning: Mean of empty slice\n\n  return np.nanmean(a, axis, out=out, keepdims=keepdims)\n\n/opt/conda/lib/python3.9/site-packages/numpy/lib/nanfunctions.py:1117: RuntimeWarning: Mean of empty slice\n\n  return np.nanmean(a, axis, out=out, keepdims=keepdims)\n\n/opt/conda/lib/python3.9/site-packages/numpy/lib/nanfunctions.py:1117: RuntimeWarning: Mean of empty slice\n\n  return np.nanmean(a, axis, out=out, keepdims=keepdims)\n\n/opt/conda/lib/python3.9/site-packages/numpy/lib/nanfunctions.py:1117: RuntimeWarning: Mean of empty slice\n\n  return np.nanmean(a, axis, out=out, keepdims=keepdims)\n\n/opt/conda/lib/python3.9/site-packages/numpy/lib/nanfunctions.py:1117: RuntimeWarning: Mean of empty slice\n\n  return np.nanmean(a, axis, out=out, keepdims=keepdims)\n\n/opt/conda/lib/python3.9/site-packages/numpy/lib/nanfunctions.py:1117: RuntimeWarning: Mean of empty slice\n\n  return np.nanmean(a, axis, out=out, keepdims=keepdims)\n\n/opt/conda/lib/python3.9/site-packages/numpy/lib/nanfunctions.py:1117: RuntimeWarning: Mean of empty slice\n\n  return np.nanmean(a, axis, out=out, keepdims=keepdims)\n\n/opt/conda/lib/python3.9/site-packages/numpy/lib/nanfunctions.py:1117: RuntimeWarning: Mean of empty slice\n\n  return np.nanmean(a, axis, out=out, keepdims=keepdims)\n\n/opt/conda/lib/python3.9/site-packages/numpy/lib/nanfunctions.py:1117: RuntimeWarning: Mean of empty slice\n\n  return np.nanmean(a, axis, out=out, keepdims=keepdims)\n\n/opt/conda/lib/python3.9/site-packages/numpy/lib/nanfunctions.py:1117: RuntimeWarning: Mean of empty slice\n\n  return np.nanmean(a, axis, out=out, keepdims=keepdims)\n\n/opt/conda/lib/python3.9/site-packages/numpy/lib/nanfunctions.py:1117: RuntimeWarning: Mean of empty slice\n\n  return np.nanmean(a, axis, out=out, keepdims=keepdims)\n\n/opt/conda/lib/python3.9/site-packages/numpy/lib/nanfunctions.py:1117: RuntimeWarning: Mean of empty slice\n\n  return np.nanmean(a, axis, out=out, keepdims=keepdims)\n\n/opt/conda/lib/python3.9/site-packages/numpy/lib/nanfunctions.py:1117: RuntimeWarning: Mean of empty slice\n\n  return np.nanmean(a, axis, out=out, keepdims=keepdims)\n/opt/conda/lib/python3.9/site-packages/numpy/lib/nanfunctions.py:1117: RuntimeWarning: Mean of empty slice\n\n  return np.nanmean(a, axis, out=out, keepdims=keepdims)\n\n/opt/conda/lib/python3.9/site-packages/numpy/lib/nanfunctions.py:1117: RuntimeWarning: Mean of empty slice\n\n  return np.nanmean(a, axis, out=out, keepdims=keepdims)\n\n/opt/conda/lib/python3.9/site-packages/numpy/lib/nanfunctions.py:1117: RuntimeWarning: Mean of empty slice\n\n  return np.nanmean(a, axis, out=out, keepdims=keepdims)\n\n/opt/conda/lib/python3.9/site-packages/numpy/lib/nanfunctions.py:1117: RuntimeWarning: Mean of empty slice\n\n  return np.nanmean(a, axis, out=out, keepdims=keepdims)\n\n/opt/conda/lib/python3.9/site-packages/numpy/lib/nanfunctions.py:1117: RuntimeWarning: Mean of empty slice\n\n  return np.nanmean(a, axis, out=out, keepdims=keepdims)\n\n/opt/conda/lib/python3.9/site-packages/numpy/lib/nanfunctions.py:1117: RuntimeWarning: Mean of empty slice\n\n  return np.nanmean(a, axis, out=out, keepdims=keepdims)\n\n/opt/conda/lib/python3.9/site-packages/numpy/lib/nanfunctions.py:1117: RuntimeWarning: Mean of empty slice\n\n  return np.nanmean(a, axis, out=out, keepdims=keepdims)\n\n/opt/conda/lib/python3.9/site-packages/numpy/lib/nanfunctions.py:1117: RuntimeWarning: Mean of empty slice\n\n  return np.nanmean(a, axis, out=out, keepdims=keepdims)\n\n/opt/conda/lib/python3.9/site-packages/numpy/lib/nanfunctions.py:1117: RuntimeWarning: Mean of empty slice\n\n  return np.nanmean(a, axis, out=out, keepdims=keepdims)\n\n/opt/conda/lib/python3.9/site-packages/numpy/lib/nanfunctions.py:1117: RuntimeWarning: Mean of empty slice\n\n  return np.nanmean(a, axis, out=out, keepdims=keepdims)\n\n/opt/conda/lib/python3.9/site-packages/numpy/lib/nanfunctions.py:1117: RuntimeWarning: Mean of empty slice\n\n  return np.nanmean(a, axis, out=out, keepdims=keepdims)\n\n/opt/conda/lib/python3.9/site-packages/numpy/lib/nanfunctions.py:1117: RuntimeWarning: Mean of empty slice\n\n  return np.nanmean(a, axis, out=out, keepdims=keepdims)\n\n/opt/conda/lib/python3.9/site-packages/numpy/lib/nanfunctions.py:1117: RuntimeWarning: Mean of empty slice\n\n  return np.nanmean(a, axis, out=out, keepdims=keepdims)\n\n/opt/conda/lib/python3.9/site-packages/numpy/lib/nanfunctions.py:1117: RuntimeWarning: Mean of empty slice\n\n  return np.nanmean(a, axis, out=out, keepdims=keepdims)\n\n/opt/conda/lib/python3.9/site-packages/numpy/lib/nanfunctions.py:1117: RuntimeWarning: Mean of empty slice\n\n  return np.nanmean(a, axis, out=out, keepdims=keepdims)\n\n/opt/conda/lib/python3.9/site-packages/numpy/lib/nanfunctions.py:1117: RuntimeWarning: Mean of empty slice\n\n  return np.nanmean(a, axis, out=out, keepdims=keepdims)\n\n/opt/conda/lib/python3.9/site-packages/numpy/lib/nanfunctions.py:1117: RuntimeWarning: Mean of empty slice\n\n  return np.nanmean(a, axis, out=out, keepdims=keepdims)\n\n/opt/conda/lib/python3.9/site-packages/numpy/lib/nanfunctions.py:1117: RuntimeWarning: Mean of empty slice\n\n  return np.nanmean(a, axis, out=out, keepdims=keepdims)\n\n/opt/conda/lib/python3.9/site-packages/numpy/lib/nanfunctions.py:1117: RuntimeWarning: Mean of empty slice\n\n  return np.nanmean(a, axis, out=out, keepdims=keepdims)\n\n/opt/conda/lib/python3.9/site-packages/numpy/lib/nanfunctions.py:1117: RuntimeWarning: Mean of empty slice\n\n  return np.nanmean(a, axis, out=out, keepdims=keepdims)\n\n/opt/conda/lib/python3.9/site-packages/numpy/lib/nanfunctions.py:1117: RuntimeWarning: Mean of empty slice\n\n  return np.nanmean(a, axis, out=out, keepdims=keepdims)\n\n/opt/conda/lib/python3.9/site-packages/numpy/lib/nanfunctions.py:1117: RuntimeWarning: Mean of empty slice\n\n  return np.nanmean(a, axis, out=out, keepdims=keepdims)\n\n/opt/conda/lib/python3.9/site-packages/numpy/lib/nanfunctions.py:1117: RuntimeWarning: Mean of empty slice\n\n  return np.nanmean(a, axis, out=out, keepdims=keepdims)\n\n/opt/conda/lib/python3.9/site-packages/numpy/lib/nanfunctions.py:1117: RuntimeWarning: Mean of empty slice\n\n  return np.nanmean(a, axis, out=out, keepdims=keepdims)\n\n/opt/conda/lib/python3.9/site-packages/numpy/lib/nanfunctions.py:1117: RuntimeWarning: Mean of empty slice\n\n  return np.nanmean(a, axis, out=out, keepdims=keepdims)\n\n/opt/conda/lib/python3.9/site-packages/numpy/lib/nanfunctions.py:1117: RuntimeWarning: Mean of empty slice\n\n  return np.nanmean(a, axis, out=out, keepdims=keepdims)\n\n/opt/conda/lib/python3.9/site-packages/numpy/lib/nanfunctions.py:1117: RuntimeWarning: Mean of empty slice\n\n  return np.nanmean(a, axis, out=out, keepdims=keepdims)\n\n/opt/conda/lib/python3.9/site-packages/numpy/lib/nanfunctions.py:1117: RuntimeWarning: Mean of empty slice\n\n  return np.nanmean(a, axis, out=out, keepdims=keepdims)\n\n/opt/conda/lib/python3.9/site-packages/numpy/lib/nanfunctions.py:1117: RuntimeWarning: Mean of empty slice\n\n  return np.nanmean(a, axis, out=out, keepdims=keepdims)\n\n/opt/conda/lib/python3.9/site-packages/numpy/lib/nanfunctions.py:1117: RuntimeWarning: Mean of empty slice\n\n  return np.nanmean(a, axis, out=out, keepdims=keepdims)\n\n/opt/conda/lib/python3.9/site-packages/numpy/lib/nanfunctions.py:1117: RuntimeWarning: Mean of empty slice\n\n  return np.nanmean(a, axis, out=out, keepdims=keepdims)\n\n/opt/conda/lib/python3.9/site-packages/numpy/lib/nanfunctions.py:1117: RuntimeWarning: Mean of empty slice\n\n  return np.nanmean(a, axis, out=out, keepdims=keepdims)\n\n/opt/conda/lib/python3.9/site-packages/numpy/lib/nanfunctions.py:1117: RuntimeWarning: Mean of empty slice\n\n  return np.nanmean(a, axis, out=out, keepdims=keepdims)\n\n/opt/conda/lib/python3.9/site-packages/numpy/lib/nanfunctions.py:1117: RuntimeWarning: Mean of empty slice\n\n  return np.nanmean(a, axis, out=out, keepdims=keepdims)\n\n/opt/conda/lib/python3.9/site-packages/numpy/lib/nanfunctions.py:1117: RuntimeWarning: Mean of empty slice\n\n  return np.nanmean(a, axis, out=out, keepdims=keepdims)\n\n/opt/conda/lib/python3.9/site-packages/numpy/lib/nanfunctions.py:1117: RuntimeWarning: Mean of empty slice\n\n  return np.nanmean(a, axis, out=out, keepdims=keepdims)\n\n/opt/conda/lib/python3.9/site-packages/numpy/lib/nanfunctions.py:1117: RuntimeWarning: Mean of empty slice\n\n  return np.nanmean(a, axis, out=out, keepdims=keepdims)\n\n/opt/conda/lib/python3.9/site-packages/numpy/lib/nanfunctions.py:1117: RuntimeWarning: Mean of empty slice\n\n  return np.nanmean(a, axis, out=out, keepdims=keepdims)\n\n/opt/conda/lib/python3.9/site-packages/numpy/lib/nanfunctions.py:1117: RuntimeWarning: Mean of empty slice\n\n  return np.nanmean(a, axis, out=out, keepdims=keepdims)\n\n/opt/conda/lib/python3.9/site-packages/numpy/lib/nanfunctions.py:1117: RuntimeWarning: Mean of empty slice\n\n  return np.nanmean(a, axis, out=out, keepdims=keepdims)\n\n/opt/conda/lib/python3.9/site-packages/numpy/lib/nanfunctions.py:1117: RuntimeWarning: Mean of empty slice\n\n  return np.nanmean(a, axis, out=out, keepdims=keepdims)\n\n/opt/conda/lib/python3.9/site-packages/numpy/lib/nanfunctions.py:1117: RuntimeWarning: Mean of empty slice\n\n  return np.nanmean(a, axis, out=out, keepdims=keepdims)\n\n/opt/conda/lib/python3.9/site-packages/numpy/lib/nanfunctions.py:1117: RuntimeWarning: Mean of empty slice\n\n  return np.nanmean(a, axis, out=out, keepdims=keepdims)\n\n/opt/conda/lib/python3.9/site-packages/numpy/lib/nanfunctions.py:1117: RuntimeWarning: Mean of empty slice\n\n  return np.nanmean(a, axis, out=out, keepdims=keepdims)\n\n/opt/conda/lib/python3.9/site-packages/numpy/lib/nanfunctions.py:1117: RuntimeWarning: Mean of empty slice\n\n  return np.nanmean(a, axis, out=out, keepdims=keepdims)\n\n/opt/conda/lib/python3.9/site-packages/numpy/lib/nanfunctions.py:1117: RuntimeWarning: Mean of empty slice\n\n  return np.nanmean(a, axis, out=out, keepdims=keepdims)\n\n/opt/conda/lib/python3.9/site-packages/numpy/lib/nanfunctions.py:1117: RuntimeWarning: Mean of empty slice\n\n  return np.nanmean(a, axis, out=out, keepdims=keepdims)\n\n/opt/conda/lib/python3.9/site-packages/numpy/lib/nanfunctions.py:1117: RuntimeWarning: Mean of empty slice\n\n  return np.nanmean(a, axis, out=out, keepdims=keepdims)\n\n/opt/conda/lib/python3.9/site-packages/numpy/lib/nanfunctions.py:1117: RuntimeWarning: Mean of empty slice\n\n  return np.nanmean(a, axis, out=out, keepdims=keepdims)\n\n/opt/conda/lib/python3.9/site-packages/numpy/lib/nanfunctions.py:1117: RuntimeWarning: Mean of empty slice\n\n  return np.nanmean(a, axis, out=out, keepdims=keepdims)\n\n/opt/conda/lib/python3.9/site-packages/numpy/lib/nanfunctions.py:1117: RuntimeWarning: Mean of empty slice\n\n  return np.nanmean(a, axis, out=out, keepdims=keepdims)\n\n/opt/conda/lib/python3.9/site-packages/numpy/lib/nanfunctions.py:1117: RuntimeWarning: Mean of empty slice\n\n  return np.nanmean(a, axis, out=out, keepdims=keepdims)\n\n/opt/conda/lib/python3.9/site-packages/numpy/lib/nanfunctions.py:1117: RuntimeWarning: Mean of empty slice\n\n  return np.nanmean(a, axis, out=out, keepdims=keepdims)\n\n/opt/conda/lib/python3.9/site-packages/numpy/lib/nanfunctions.py:1117: RuntimeWarning: Mean of empty slice\n\n  return np.nanmean(a, axis, out=out, keepdims=keepdims)\n\n/opt/conda/lib/python3.9/site-packages/numpy/lib/nanfunctions.py:1117: RuntimeWarning: Mean of empty slice\n\n  return np.nanmean(a, axis, out=out, keepdims=keepdims)\n\n/opt/conda/lib/python3.9/site-packages/numpy/lib/nanfunctions.py:1117: RuntimeWarning: Mean of empty slice\n\n  return np.nanmean(a, axis, out=out, keepdims=keepdims)\n\n/opt/conda/lib/python3.9/site-packages/numpy/lib/nanfunctions.py:1117: RuntimeWarning: Mean of empty slice\n\n  return np.nanmean(a, axis, out=out, keepdims=keepdims)\n\n/opt/conda/lib/python3.9/site-packages/numpy/lib/nanfunctions.py:1117: RuntimeWarning: Mean of empty slice\n\n  return np.nanmean(a, axis, out=out, keepdims=keepdims)\n\n/opt/conda/lib/python3.9/site-packages/numpy/lib/nanfunctions.py:1117: RuntimeWarning: Mean of empty slice\n\n  return np.nanmean(a, axis, out=out, keepdims=keepdims)\n\n/opt/conda/lib/python3.9/site-packages/numpy/lib/nanfunctions.py:1117: RuntimeWarning: Mean of empty slice\n\n  return np.nanmean(a, axis, out=out, keepdims=keepdims)\n\n/opt/conda/lib/python3.9/site-packages/numpy/lib/nanfunctions.py:1117: RuntimeWarning: Mean of empty slice\n\n  return np.nanmean(a, axis, out=out, keepdims=keepdims)\n\n/opt/conda/lib/python3.9/site-packages/numpy/lib/nanfunctions.py:1117: RuntimeWarning: Mean of empty slice\n\n  return np.nanmean(a, axis, out=out, keepdims=keepdims)\n\n/opt/conda/lib/python3.9/site-packages/numpy/lib/nanfunctions.py:1117: RuntimeWarning: Mean of empty slice\n\n  return np.nanmean(a, axis, out=out, keepdims=keepdims)\n\n/opt/conda/lib/python3.9/site-packages/numpy/lib/nanfunctions.py:1117: RuntimeWarning: Mean of empty slice\n\n  return np.nanmean(a, axis, out=out, keepdims=keepdims)\n\n/opt/conda/lib/python3.9/site-packages/numpy/lib/nanfunctions.py:1117: RuntimeWarning: Mean of empty slice\n\n  return np.nanmean(a, axis, out=out, keepdims=keepdims)\n\n/opt/conda/lib/python3.9/site-packages/numpy/lib/nanfunctions.py:1117: RuntimeWarning: Mean of empty slice\n\n  return np.nanmean(a, axis, out=out, keepdims=keepdims)\n\n/opt/conda/lib/python3.9/site-packages/numpy/lib/nanfunctions.py:1117: RuntimeWarning: Mean of empty slice\n\n  return np.nanmean(a, axis, out=out, keepdims=keepdims)\n\n/opt/conda/lib/python3.9/site-packages/numpy/lib/nanfunctions.py:1117: RuntimeWarning: Mean of empty slice\n\n  return np.nanmean(a, axis, out=out, keepdims=keepdims)\n\n/opt/conda/lib/python3.9/site-packages/numpy/lib/nanfunctions.py:1117: RuntimeWarning: Mean of empty slice\n\n  return np.nanmean(a, axis, out=out, keepdims=keepdims)\n\n/opt/conda/lib/python3.9/site-packages/numpy/lib/nanfunctions.py:1117: RuntimeWarning: Mean of empty slice\n\n  return np.nanmean(a, axis, out=out, keepdims=keepdims)\n\n/opt/conda/lib/python3.9/site-packages/numpy/lib/nanfunctions.py:1117: RuntimeWarning: Mean of empty slice\n\n  return np.nanmean(a, axis, out=out, keepdims=keepdims)\n\n/opt/conda/lib/python3.9/site-packages/numpy/lib/nanfunctions.py:1117: RuntimeWarning: Mean of empty slice\n\n  return np.nanmean(a, axis, out=out, keepdims=keepdims)\n\n/opt/conda/lib/python3.9/site-packages/numpy/lib/nanfunctions.py:1117: RuntimeWarning: Mean of empty slice\n\n  return np.nanmean(a, axis, out=out, keepdims=keepdims)\n\n/opt/conda/lib/python3.9/site-packages/numpy/lib/nanfunctions.py:1117: RuntimeWarning: Mean of empty slice\n\n  return np.nanmean(a, axis, out=out, keepdims=keepdims)\n\n/opt/conda/lib/python3.9/site-packages/numpy/lib/nanfunctions.py:1117: RuntimeWarning: Mean of empty slice\n\n  return np.nanmean(a, axis, out=out, keepdims=keepdims)\n\n/opt/conda/lib/python3.9/site-packages/numpy/lib/nanfunctions.py:1117: RuntimeWarning: Mean of empty slice\n\n  return np.nanmean(a, axis, out=out, keepdims=keepdims)\n\n/opt/conda/lib/python3.9/site-packages/numpy/lib/nanfunctions.py:1117: RuntimeWarning: Mean of empty slice\n\n  return np.nanmean(a, axis, out=out, keepdims=keepdims)\n\n/opt/conda/lib/python3.9/site-packages/numpy/lib/nanfunctions.py:1117: RuntimeWarning: Mean of empty slice\n\n  return np.nanmean(a, axis, out=out, keepdims=keepdims)\n\n/opt/conda/lib/python3.9/site-packages/numpy/lib/nanfunctions.py:1117: RuntimeWarning: Mean of empty slice\n\n  return np.nanmean(a, axis, out=out, keepdims=keepdims)\n\n/opt/conda/lib/python3.9/site-packages/numpy/lib/nanfunctions.py:1117: RuntimeWarning: Mean of empty slice\n\n  return np.nanmean(a, axis, out=out, keepdims=keepdims)\n\n/opt/conda/lib/python3.9/site-packages/numpy/lib/nanfunctions.py:1117: RuntimeWarning: Mean of empty slice\n\n  return np.nanmean(a, axis, out=out, keepdims=keepdims)\n\n/opt/conda/lib/python3.9/site-packages/numpy/lib/nanfunctions.py:1117: RuntimeWarning: Mean of empty slice\n\n  return np.nanmean(a, axis, out=out, keepdims=keepdims)\n\n/opt/conda/lib/python3.9/site-packages/numpy/lib/nanfunctions.py:1117: RuntimeWarning: Mean of empty slice\n\n  return np.nanmean(a, axis, out=out, keepdims=keepdims)\n\n/opt/conda/lib/python3.9/site-packages/numpy/lib/nanfunctions.py:1117: RuntimeWarning: Mean of empty slice\n\n  return np.nanmean(a, axis, out=out, keepdims=keepdims)\n\n/opt/conda/lib/python3.9/site-packages/numpy/lib/nanfunctions.py:1117: RuntimeWarning: Mean of empty slice\n\n  return np.nanmean(a, axis, out=out, keepdims=keepdims)\n\n/opt/conda/lib/python3.9/site-packages/numpy/lib/nanfunctions.py:1117: RuntimeWarning: Mean of empty slice\n\n  return np.nanmean(a, axis, out=out, keepdims=keepdims)\n\n/opt/conda/lib/python3.9/site-packages/numpy/lib/nanfunctions.py:1117: RuntimeWarning: Mean of empty slice\n\n  return np.nanmean(a, axis, out=out, keepdims=keepdims)\n\n/opt/conda/lib/python3.9/site-packages/numpy/lib/nanfunctions.py:1117: RuntimeWarning: Mean of empty slice\n\n  return np.nanmean(a, axis, out=out, keepdims=keepdims)\n\n/opt/conda/lib/python3.9/site-packages/numpy/lib/nanfunctions.py:1117: RuntimeWarning: Mean of empty slice\n\n  return np.nanmean(a, axis, out=out, keepdims=keepdims)\n\n/opt/conda/lib/python3.9/site-packages/numpy/lib/nanfunctions.py:1117: RuntimeWarning: Mean of empty slice\n\n  return np.nanmean(a, axis, out=out, keepdims=keepdims)\n\n/opt/conda/lib/python3.9/site-packages/numpy/lib/nanfunctions.py:1117: RuntimeWarning: Mean of empty slice\n\n  return np.nanmean(a, axis, out=out, keepdims=keepdims)\n\n/opt/conda/lib/python3.9/site-packages/numpy/lib/nanfunctions.py:1117: RuntimeWarning: Mean of empty slice\n\n  return np.nanmean(a, axis, out=out, keepdims=keepdims)\n\n/opt/conda/lib/python3.9/site-packages/numpy/lib/nanfunctions.py:1117: RuntimeWarning: Mean of empty slice\n\n  return np.nanmean(a, axis, out=out, keepdims=keepdims)\n\n/opt/conda/lib/python3.9/site-packages/numpy/lib/nanfunctions.py:1117: RuntimeWarning: Mean of empty slice\n\n  return np.nanmean(a, axis, out=out, keepdims=keepdims)\n\n/opt/conda/lib/python3.9/site-packages/numpy/lib/nanfunctions.py:1117: RuntimeWarning: Mean of empty slice\n\n  return np.nanmean(a, axis, out=out, keepdims=keepdims)\n\n/opt/conda/lib/python3.9/site-packages/numpy/lib/nanfunctions.py:1117: RuntimeWarning: Mean of empty slice\n\n  return np.nanmean(a, axis, out=out, keepdims=keepdims)\n\n/opt/conda/lib/python3.9/site-packages/numpy/lib/nanfunctions.py:1117: RuntimeWarning: Mean of empty slice\n\n  return np.nanmean(a, axis, out=out, keepdims=keepdims)\n\n/opt/conda/lib/python3.9/site-packages/numpy/lib/nanfunctions.py:1117: RuntimeWarning: Mean of empty slice\n\n  return np.nanmean(a, axis, out=out, keepdims=keepdims)\n/opt/conda/lib/python3.9/site-packages/numpy/lib/nanfunctions.py:1117: RuntimeWarning: Mean of empty slice\n\n  return np.nanmean(a, axis, out=out, keepdims=keepdims)\n\n/opt/conda/lib/python3.9/site-packages/numpy/lib/nanfunctions.py:1117: RuntimeWarning: Mean of empty slice\n\n  return np.nanmean(a, axis, out=out, keepdims=keepdims)\n\n/opt/conda/lib/python3.9/site-packages/numpy/lib/nanfunctions.py:1117: RuntimeWarning: Mean of empty slice\n\n  return np.nanmean(a, axis, out=out, keepdims=keepdims)\n\n/opt/conda/lib/python3.9/site-packages/numpy/lib/nanfunctions.py:1117: RuntimeWarning: Mean of empty slice\n\n  return np.nanmean(a, axis, out=out, keepdims=keepdims)\n\n/opt/conda/lib/python3.9/site-packages/numpy/lib/nanfunctions.py:1117: RuntimeWarning: Mean of empty slice\n\n  return np.nanmean(a, axis, out=out, keepdims=keepdims)\n\n/opt/conda/lib/python3.9/site-packages/numpy/lib/nanfunctions.py:1117: RuntimeWarning: Mean of empty slice\n\n  return np.nanmean(a, axis, out=out, keepdims=keepdims)\n\n/opt/conda/lib/python3.9/site-packages/numpy/lib/nanfunctions.py:1117: RuntimeWarning: Mean of empty slice\n\n  return np.nanmean(a, axis, out=out, keepdims=keepdims)\n\n/opt/conda/lib/python3.9/site-packages/numpy/lib/nanfunctions.py:1117: RuntimeWarning: Mean of empty slice\n\n  return np.nanmean(a, axis, out=out, keepdims=keepdims)\n\n/opt/conda/lib/python3.9/site-packages/numpy/lib/nanfunctions.py:1117: RuntimeWarning: Mean of empty slice\n\n  return np.nanmean(a, axis, out=out, keepdims=keepdims)\n\n/opt/conda/lib/python3.9/site-packages/numpy/lib/nanfunctions.py:1117: RuntimeWarning: Mean of empty slice\n\n  return np.nanmean(a, axis, out=out, keepdims=keepdims)\n\n/opt/conda/lib/python3.9/site-packages/numpy/lib/nanfunctions.py:1117: RuntimeWarning: Mean of empty slice\n\n  return np.nanmean(a, axis, out=out, keepdims=keepdims)\n\n/opt/conda/lib/python3.9/site-packages/numpy/lib/nanfunctions.py:1117: RuntimeWarning: Mean of empty slice\n\n  return np.nanmean(a, axis, out=out, keepdims=keepdims)\n\n/opt/conda/lib/python3.9/site-packages/numpy/lib/nanfunctions.py:1117: RuntimeWarning: Mean of empty slice\n\n  return np.nanmean(a, axis, out=out, keepdims=keepdims)\n\n/opt/conda/lib/python3.9/site-packages/numpy/lib/nanfunctions.py:1117: RuntimeWarning: Mean of empty slice\n\n  return np.nanmean(a, axis, out=out, keepdims=keepdims)\n\n/opt/conda/lib/python3.9/site-packages/numpy/lib/nanfunctions.py:1117: RuntimeWarning: Mean of empty slice\n\n  return np.nanmean(a, axis, out=out, keepdims=keepdims)\n\n/opt/conda/lib/python3.9/site-packages/numpy/lib/nanfunctions.py:1117: RuntimeWarning: Mean of empty slice\n\n  return np.nanmean(a, axis, out=out, keepdims=keepdims)\n\n/opt/conda/lib/python3.9/site-packages/numpy/lib/nanfunctions.py:1117: RuntimeWarning: Mean of empty slice\n\n  return np.nanmean(a, axis, out=out, keepdims=keepdims)\n\n/opt/conda/lib/python3.9/site-packages/numpy/lib/nanfunctions.py:1117: RuntimeWarning: Mean of empty slice\n\n  return np.nanmean(a, axis, out=out, keepdims=keepdims)\n\n/opt/conda/lib/python3.9/site-packages/numpy/lib/nanfunctions.py:1117: RuntimeWarning: Mean of empty slice\n\n  return np.nanmean(a, axis, out=out, keepdims=keepdims)\n\n/opt/conda/lib/python3.9/site-packages/numpy/lib/nanfunctions.py:1117: RuntimeWarning: Mean of empty slice\n\n  return np.nanmean(a, axis, out=out, keepdims=keepdims)\n\n/opt/conda/lib/python3.9/site-packages/numpy/lib/nanfunctions.py:1117: RuntimeWarning: Mean of empty slice\n\n  return np.nanmean(a, axis, out=out, keepdims=keepdims)\n\n/opt/conda/lib/python3.9/site-packages/numpy/lib/nanfunctions.py:1117: RuntimeWarning: Mean of empty slice\n\n  return np.nanmean(a, axis, out=out, keepdims=keepdims)\n\n/opt/conda/lib/python3.9/site-packages/numpy/lib/nanfunctions.py:1117: RuntimeWarning: Mean of empty slice\n\n  return np.nanmean(a, axis, out=out, keepdims=keepdims)\n\n/opt/conda/lib/python3.9/site-packages/numpy/lib/nanfunctions.py:1117: RuntimeWarning: Mean of empty slice\n\n  return np.nanmean(a, axis, out=out, keepdims=keepdims)\n\n/opt/conda/lib/python3.9/site-packages/numpy/lib/nanfunctions.py:1117: RuntimeWarning: Mean of empty slice\n\n  return np.nanmean(a, axis, out=out, keepdims=keepdims)\n\n/opt/conda/lib/python3.9/site-packages/numpy/lib/nanfunctions.py:1117: RuntimeWarning: Mean of empty slice\n\n  return np.nanmean(a, axis, out=out, keepdims=keepdims)\n\n/opt/conda/lib/python3.9/site-packages/numpy/lib/nanfunctions.py:1117: RuntimeWarning: Mean of empty slice\n\n  return np.nanmean(a, axis, out=out, keepdims=keepdims)\n\n/opt/conda/lib/python3.9/site-packages/numpy/lib/nanfunctions.py:1117: RuntimeWarning: Mean of empty slice\n\n  return np.nanmean(a, axis, out=out, keepdims=keepdims)\n\n/opt/conda/lib/python3.9/site-packages/numpy/lib/nanfunctions.py:1117: RuntimeWarning: Mean of empty slice\n\n  return np.nanmean(a, axis, out=out, keepdims=keepdims)\n\n/opt/conda/lib/python3.9/site-packages/numpy/lib/nanfunctions.py:1117: RuntimeWarning: Mean of empty slice\n\n  return np.nanmean(a, axis, out=out, keepdims=keepdims)\n\n/opt/conda/lib/python3.9/site-packages/numpy/lib/nanfunctions.py:1117: RuntimeWarning: Mean of empty slice\n\n  return np.nanmean(a, axis, out=out, keepdims=keepdims)\n\n/opt/conda/lib/python3.9/site-packages/numpy/lib/nanfunctions.py:1117: RuntimeWarning: Mean of empty slice\n\n  return np.nanmean(a, axis, out=out, keepdims=keepdims)\n\n/opt/conda/lib/python3.9/site-packages/numpy/lib/nanfunctions.py:1117: RuntimeWarning: Mean of empty slice\n\n  return np.nanmean(a, axis, out=out, keepdims=keepdims)\n\n/opt/conda/lib/python3.9/site-packages/numpy/lib/nanfunctions.py:1117: RuntimeWarning: Mean of empty slice\n\n  return np.nanmean(a, axis, out=out, keepdims=keepdims)\n\n/opt/conda/lib/python3.9/site-packages/numpy/lib/nanfunctions.py:1117: RuntimeWarning: Mean of empty slice\n\n  return np.nanmean(a, axis, out=out, keepdims=keepdims)\n\n/opt/conda/lib/python3.9/site-packages/numpy/lib/nanfunctions.py:1117: RuntimeWarning: Mean of empty slice\n\n  return np.nanmean(a, axis, out=out, keepdims=keepdims)\n\n/opt/conda/lib/python3.9/site-packages/numpy/lib/nanfunctions.py:1117: RuntimeWarning: Mean of empty slice\n\n  return np.nanmean(a, axis, out=out, keepdims=keepdims)\n\n/opt/conda/lib/python3.9/site-packages/numpy/lib/nanfunctions.py:1117: RuntimeWarning: Mean of empty slice\n\n  return np.nanmean(a, axis, out=out, keepdims=keepdims)\n\n/opt/conda/lib/python3.9/site-packages/numpy/lib/nanfunctions.py:1117: RuntimeWarning: Mean of empty slice\n\n  return np.nanmean(a, axis, out=out, keepdims=keepdims)\n\n/opt/conda/lib/python3.9/site-packages/numpy/lib/nanfunctions.py:1117: RuntimeWarning: Mean of empty slice\n\n  return np.nanmean(a, axis, out=out, keepdims=keepdims)\n\n/opt/conda/lib/python3.9/site-packages/numpy/lib/nanfunctions.py:1117: RuntimeWarning: Mean of empty slice\n\n  return np.nanmean(a, axis, out=out, keepdims=keepdims)\n\n/opt/conda/lib/python3.9/site-packages/numpy/lib/nanfunctions.py:1117: RuntimeWarning: Mean of empty slice\n\n  return np.nanmean(a, axis, out=out, keepdims=keepdims)\n\n/opt/conda/lib/python3.9/site-packages/numpy/lib/nanfunctions.py:1117: RuntimeWarning: Mean of empty slice\n\n  return np.nanmean(a, axis, out=out, keepdims=keepdims)\n\n/opt/conda/lib/python3.9/site-packages/numpy/lib/nanfunctions.py:1117: RuntimeWarning: Mean of empty slice\n\n  return np.nanmean(a, axis, out=out, keepdims=keepdims)\n\n/opt/conda/lib/python3.9/site-packages/numpy/lib/nanfunctions.py:1117: RuntimeWarning: Mean of empty slice\n\n  return np.nanmean(a, axis, out=out, keepdims=keepdims)\n\n/opt/conda/lib/python3.9/site-packages/numpy/lib/nanfunctions.py:1117: RuntimeWarning: Mean of empty slice\n\n  return np.nanmean(a, axis, out=out, keepdims=keepdims)\n\n/opt/conda/lib/python3.9/site-packages/numpy/lib/nanfunctions.py:1117: RuntimeWarning: Mean of empty slice\n\n  return np.nanmean(a, axis, out=out, keepdims=keepdims)\n\n/opt/conda/lib/python3.9/site-packages/numpy/lib/nanfunctions.py:1117: RuntimeWarning: Mean of empty slice\n\n  return np.nanmean(a, axis, out=out, keepdims=keepdims)\n\n/opt/conda/lib/python3.9/site-packages/numpy/lib/nanfunctions.py:1117: RuntimeWarning: Mean of empty slice\n\n  return np.nanmean(a, axis, out=out, keepdims=keepdims)\n\n/opt/conda/lib/python3.9/site-packages/numpy/lib/nanfunctions.py:1117: RuntimeWarning: Mean of empty slice\n\n  return np.nanmean(a, axis, out=out, keepdims=keepdims)\n\n/opt/conda/lib/python3.9/site-packages/numpy/lib/nanfunctions.py:1117: RuntimeWarning: Mean of empty slice\n\n  return np.nanmean(a, axis, out=out, keepdims=keepdims)\n\n/opt/conda/lib/python3.9/site-packages/numpy/lib/nanfunctions.py:1117: RuntimeWarning: Mean of empty slice\n\n  return np.nanmean(a, axis, out=out, keepdims=keepdims)\n\n/opt/conda/lib/python3.9/site-packages/numpy/lib/nanfunctions.py:1117: RuntimeWarning: Mean of empty slice\n\n  return np.nanmean(a, axis, out=out, keepdims=keepdims)\n\n/opt/conda/lib/python3.9/site-packages/numpy/lib/nanfunctions.py:1117: RuntimeWarning: Mean of empty slice\n\n  return np.nanmean(a, axis, out=out, keepdims=keepdims)\n\n/opt/conda/lib/python3.9/site-packages/numpy/lib/nanfunctions.py:1117: RuntimeWarning: Mean of empty slice\n\n  return np.nanmean(a, axis, out=out, keepdims=keepdims)\n\n/opt/conda/lib/python3.9/site-packages/numpy/lib/nanfunctions.py:1117: RuntimeWarning: Mean of empty slice\n\n  return np.nanmean(a, axis, out=out, keepdims=keepdims)\n\n/opt/conda/lib/python3.9/site-packages/numpy/lib/nanfunctions.py:1117: RuntimeWarning: Mean of empty slice\n\n  return np.nanmean(a, axis, out=out, keepdims=keepdims)\n\n/opt/conda/lib/python3.9/site-packages/numpy/lib/nanfunctions.py:1117: RuntimeWarning: Mean of empty slice\n\n  return np.nanmean(a, axis, out=out, keepdims=keepdims)\n\n/opt/conda/lib/python3.9/site-packages/numpy/lib/nanfunctions.py:1117: RuntimeWarning: Mean of empty slice\n\n  return np.nanmean(a, axis, out=out, keepdims=keepdims)\n\n/opt/conda/lib/python3.9/site-packages/numpy/lib/nanfunctions.py:1117: RuntimeWarning: Mean of empty slice\n\n  return np.nanmean(a, axis, out=out, keepdims=keepdims)\n\n/opt/conda/lib/python3.9/site-packages/numpy/lib/nanfunctions.py:1117: RuntimeWarning: Mean of empty slice\n\n  return np.nanmean(a, axis, out=out, keepdims=keepdims)\n\n/opt/conda/lib/python3.9/site-packages/numpy/lib/nanfunctions.py:1117: RuntimeWarning: Mean of empty slice\n\n  return np.nanmean(a, axis, out=out, keepdims=keepdims)\n\n/opt/conda/lib/python3.9/site-packages/numpy/lib/nanfunctions.py:1117: RuntimeWarning: Mean of empty slice\n\n  return np.nanmean(a, axis, out=out, keepdims=keepdims)\n\n/opt/conda/lib/python3.9/site-packages/numpy/lib/nanfunctions.py:1117: RuntimeWarning: Mean of empty slice\n\n  return np.nanmean(a, axis, out=out, keepdims=keepdims)\n\n/opt/conda/lib/python3.9/site-packages/numpy/lib/nanfunctions.py:1117: RuntimeWarning: Mean of empty slice\n\n  return np.nanmean(a, axis, out=out, keepdims=keepdims)\n"
        }
      ]
    },
    {
      "cell_type": "code",
      "source": "data.info()",
      "metadata": {
        "scrolled": true
      },
      "execution_count": 37,
      "outputs": [
        {
          "name": "stdout",
          "output_type": "stream",
          "text": "<class 'pandas.core.frame.DataFrame'>\n\nRangeIndex: 21700 entries, 0 to 21699\n\nData columns (total 22 columns):\n\n #   Column                Non-Null Count  Dtype         \n\n---  ------                --------------  -----         \n\n 0   total_images          21700 non-null  int64         \n\n 1   last_price            21700 non-null  float64       \n\n 2   total_area            21700 non-null  float64       \n\n 3   first_day_exposition  21700 non-null  datetime64[ns]\n\n 4   rooms                 21700 non-null  int64         \n\n 5   ceiling_height        21700 non-null  float64       \n\n 6   floors_total          21700 non-null  int64         \n\n 7   living_area           21700 non-null  float64       \n\n 8   floor                 21700 non-null  int64         \n\n 9   is_apartment          21700 non-null  bool          \n\n 10  studio                21700 non-null  bool          \n\n 11  open_plan             21700 non-null  bool          \n\n 12  kitchen_area          20905 non-null  float64       \n\n 13  balcony               21700 non-null  int64         \n\n 14  locality_name         21700 non-null  object        \n\n 15  airports_nearest      16868 non-null  float64       \n\n 16  cityCenters_nearest   16868 non-null  float64       \n\n 17  parks_around3000      21700 non-null  int64         \n\n 18  parks_nearest         21700 non-null  float64       \n\n 19  ponds_around3000      21700 non-null  int64         \n\n 20  ponds_nearest         21700 non-null  float64       \n\n 21  days_exposition       18724 non-null  float64       \n\ndtypes: bool(3), datetime64[ns](1), float64(10), int64(7), object(1)\n\nmemory usage: 3.2+ MB\n"
        }
      ]
    },
    {
      "cell_type": "markdown",
      "source": "### Посчитайте и добавьте в таблицу новые столбцы",
      "metadata": {}
    },
    {
      "cell_type": "code",
      "source": "data['price_one_m'] = data['last_price'] / data['total_area']",
      "metadata": {},
      "execution_count": 38,
      "outputs": []
    },
    {
      "cell_type": "code",
      "source": "data['day_week'] = pd.DatetimeIndex(data['first_day_exposition']).day_of_week",
      "metadata": {},
      "execution_count": 39,
      "outputs": []
    },
    {
      "cell_type": "code",
      "source": "data['month'] = pd.DatetimeIndex(data['first_day_exposition']).month",
      "metadata": {},
      "execution_count": 40,
      "outputs": []
    },
    {
      "cell_type": "code",
      "source": "data['year'] = pd.DatetimeIndex(data['first_day_exposition']).year",
      "metadata": {},
      "execution_count": 41,
      "outputs": []
    },
    {
      "cell_type": "code",
      "source": "def floor_type (row):\n    if row['floor'] == 1:\n        return 'первый'\n    elif row['floor'] == row['floors_total']:\n        return 'последний'\n    else:\n        return 'другой'\n    \ndata['floor_type'] = data.apply(floor_type, axis=1)",
      "metadata": {},
      "execution_count": 42,
      "outputs": []
    },
    {
      "cell_type": "code",
      "source": "data['cityCenters_km'] = round(data['cityCenters_nearest'] / 1000).astype('int', errors='ignore')",
      "metadata": {},
      "execution_count": 43,
      "outputs": []
    },
    {
      "cell_type": "code",
      "source": "data.head()",
      "metadata": {},
      "execution_count": 44,
      "outputs": [
        {
          "execution_count": 44,
          "output_type": "execute_result",
          "data": {
            "text/html": [
              "<div>\n",
              "<style scoped>\n",
              "    .dataframe tbody tr th:only-of-type {\n",
              "        vertical-align: middle;\n",
              "    }\n",
              "\n",
              "    .dataframe tbody tr th {\n",
              "        vertical-align: top;\n",
              "    }\n",
              "\n",
              "    .dataframe thead th {\n",
              "        text-align: right;\n",
              "    }\n",
              "</style>\n",
              "<table border=\"1\" class=\"dataframe\">\n",
              "  <thead>\n",
              "    <tr style=\"text-align: right;\">\n",
              "      <th></th>\n",
              "      <th>total_images</th>\n",
              "      <th>last_price</th>\n",
              "      <th>total_area</th>\n",
              "      <th>first_day_exposition</th>\n",
              "      <th>rooms</th>\n",
              "      <th>ceiling_height</th>\n",
              "      <th>floors_total</th>\n",
              "      <th>living_area</th>\n",
              "      <th>floor</th>\n",
              "      <th>is_apartment</th>\n",
              "      <th>...</th>\n",
              "      <th>parks_nearest</th>\n",
              "      <th>ponds_around3000</th>\n",
              "      <th>ponds_nearest</th>\n",
              "      <th>days_exposition</th>\n",
              "      <th>price_one_m</th>\n",
              "      <th>day_week</th>\n",
              "      <th>month</th>\n",
              "      <th>year</th>\n",
              "      <th>floor_type</th>\n",
              "      <th>cityCenters_km</th>\n",
              "    </tr>\n",
              "  </thead>\n",
              "  <tbody>\n",
              "    <tr>\n",
              "      <th>0</th>\n",
              "      <td>20</td>\n",
              "      <td>13000000.0</td>\n",
              "      <td>108.0</td>\n",
              "      <td>2019-03-07</td>\n",
              "      <td>3</td>\n",
              "      <td>2.70</td>\n",
              "      <td>16</td>\n",
              "      <td>51.0</td>\n",
              "      <td>8</td>\n",
              "      <td>False</td>\n",
              "      <td>...</td>\n",
              "      <td>482.0</td>\n",
              "      <td>2</td>\n",
              "      <td>755.0</td>\n",
              "      <td>NaN</td>\n",
              "      <td>120370.370370</td>\n",
              "      <td>3</td>\n",
              "      <td>3</td>\n",
              "      <td>2019</td>\n",
              "      <td>другой</td>\n",
              "      <td>16.0</td>\n",
              "    </tr>\n",
              "    <tr>\n",
              "      <th>1</th>\n",
              "      <td>7</td>\n",
              "      <td>3350000.0</td>\n",
              "      <td>40.4</td>\n",
              "      <td>2018-12-04</td>\n",
              "      <td>1</td>\n",
              "      <td>2.65</td>\n",
              "      <td>11</td>\n",
              "      <td>18.6</td>\n",
              "      <td>1</td>\n",
              "      <td>False</td>\n",
              "      <td>...</td>\n",
              "      <td>3000.0</td>\n",
              "      <td>0</td>\n",
              "      <td>3000.0</td>\n",
              "      <td>81.0</td>\n",
              "      <td>82920.792079</td>\n",
              "      <td>1</td>\n",
              "      <td>12</td>\n",
              "      <td>2018</td>\n",
              "      <td>первый</td>\n",
              "      <td>19.0</td>\n",
              "    </tr>\n",
              "    <tr>\n",
              "      <th>2</th>\n",
              "      <td>10</td>\n",
              "      <td>5196000.0</td>\n",
              "      <td>56.0</td>\n",
              "      <td>2015-08-20</td>\n",
              "      <td>2</td>\n",
              "      <td>2.65</td>\n",
              "      <td>5</td>\n",
              "      <td>34.3</td>\n",
              "      <td>4</td>\n",
              "      <td>False</td>\n",
              "      <td>...</td>\n",
              "      <td>90.0</td>\n",
              "      <td>2</td>\n",
              "      <td>574.0</td>\n",
              "      <td>558.0</td>\n",
              "      <td>92785.714286</td>\n",
              "      <td>3</td>\n",
              "      <td>8</td>\n",
              "      <td>2015</td>\n",
              "      <td>другой</td>\n",
              "      <td>14.0</td>\n",
              "    </tr>\n",
              "    <tr>\n",
              "      <th>3</th>\n",
              "      <td>2</td>\n",
              "      <td>10000000.0</td>\n",
              "      <td>100.0</td>\n",
              "      <td>2018-06-19</td>\n",
              "      <td>2</td>\n",
              "      <td>3.03</td>\n",
              "      <td>14</td>\n",
              "      <td>32.0</td>\n",
              "      <td>13</td>\n",
              "      <td>False</td>\n",
              "      <td>...</td>\n",
              "      <td>112.0</td>\n",
              "      <td>1</td>\n",
              "      <td>48.0</td>\n",
              "      <td>121.0</td>\n",
              "      <td>100000.000000</td>\n",
              "      <td>1</td>\n",
              "      <td>6</td>\n",
              "      <td>2018</td>\n",
              "      <td>другой</td>\n",
              "      <td>8.0</td>\n",
              "    </tr>\n",
              "    <tr>\n",
              "      <th>4</th>\n",
              "      <td>10</td>\n",
              "      <td>2890000.0</td>\n",
              "      <td>30.4</td>\n",
              "      <td>2018-09-10</td>\n",
              "      <td>1</td>\n",
              "      <td>2.65</td>\n",
              "      <td>12</td>\n",
              "      <td>14.4</td>\n",
              "      <td>5</td>\n",
              "      <td>False</td>\n",
              "      <td>...</td>\n",
              "      <td>3000.0</td>\n",
              "      <td>0</td>\n",
              "      <td>3000.0</td>\n",
              "      <td>55.0</td>\n",
              "      <td>95065.789474</td>\n",
              "      <td>0</td>\n",
              "      <td>9</td>\n",
              "      <td>2018</td>\n",
              "      <td>другой</td>\n",
              "      <td>NaN</td>\n",
              "    </tr>\n",
              "  </tbody>\n",
              "</table>\n",
              "<p>5 rows × 28 columns</p>\n",
              "</div>"
            ],
            "text/plain": [
              "   total_images  last_price  total_area first_day_exposition  rooms  \\\n",
              "0            20  13000000.0       108.0           2019-03-07      3   \n",
              "1             7   3350000.0        40.4           2018-12-04      1   \n",
              "2            10   5196000.0        56.0           2015-08-20      2   \n",
              "3             2  10000000.0       100.0           2018-06-19      2   \n",
              "4            10   2890000.0        30.4           2018-09-10      1   \n",
              "\n",
              "   ceiling_height  floors_total  living_area  floor  is_apartment  ...  \\\n",
              "0            2.70            16         51.0      8         False  ...   \n",
              "1            2.65            11         18.6      1         False  ...   \n",
              "2            2.65             5         34.3      4         False  ...   \n",
              "3            3.03            14         32.0     13         False  ...   \n",
              "4            2.65            12         14.4      5         False  ...   \n",
              "\n",
              "   parks_nearest  ponds_around3000  ponds_nearest  days_exposition  \\\n",
              "0          482.0                 2          755.0              NaN   \n",
              "1         3000.0                 0         3000.0             81.0   \n",
              "2           90.0                 2          574.0            558.0   \n",
              "3          112.0                 1           48.0            121.0   \n",
              "4         3000.0                 0         3000.0             55.0   \n",
              "\n",
              "     price_one_m  day_week  month  year  floor_type  cityCenters_km  \n",
              "0  120370.370370         3      3  2019      другой            16.0  \n",
              "1   82920.792079         1     12  2018      первый            19.0  \n",
              "2   92785.714286         3      8  2015      другой            14.0  \n",
              "3  100000.000000         1      6  2018      другой             8.0  \n",
              "4   95065.789474         0      9  2018      другой             NaN  \n",
              "\n",
              "[5 rows x 28 columns]"
            ]
          },
          "metadata": {}
        }
      ]
    },
    {
      "cell_type": "code",
      "source": "data.info()",
      "metadata": {},
      "execution_count": 45,
      "outputs": [
        {
          "name": "stdout",
          "output_type": "stream",
          "text": "<class 'pandas.core.frame.DataFrame'>\n\nRangeIndex: 21700 entries, 0 to 21699\n\nData columns (total 28 columns):\n\n #   Column                Non-Null Count  Dtype         \n\n---  ------                --------------  -----         \n\n 0   total_images          21700 non-null  int64         \n\n 1   last_price            21700 non-null  float64       \n\n 2   total_area            21700 non-null  float64       \n\n 3   first_day_exposition  21700 non-null  datetime64[ns]\n\n 4   rooms                 21700 non-null  int64         \n\n 5   ceiling_height        21700 non-null  float64       \n\n 6   floors_total          21700 non-null  int64         \n\n 7   living_area           21700 non-null  float64       \n\n 8   floor                 21700 non-null  int64         \n\n 9   is_apartment          21700 non-null  bool          \n\n 10  studio                21700 non-null  bool          \n\n 11  open_plan             21700 non-null  bool          \n\n 12  kitchen_area          20905 non-null  float64       \n\n 13  balcony               21700 non-null  int64         \n\n 14  locality_name         21700 non-null  object        \n\n 15  airports_nearest      16868 non-null  float64       \n\n 16  cityCenters_nearest   16868 non-null  float64       \n\n 17  parks_around3000      21700 non-null  int64         \n\n 18  parks_nearest         21700 non-null  float64       \n\n 19  ponds_around3000      21700 non-null  int64         \n\n 20  ponds_nearest         21700 non-null  float64       \n\n 21  days_exposition       18724 non-null  float64       \n\n 22  price_one_m           21700 non-null  float64       \n\n 23  day_week              21700 non-null  int64         \n\n 24  month                 21700 non-null  int64         \n\n 25  year                  21700 non-null  int64         \n\n 26  floor_type            21700 non-null  object        \n\n 27  cityCenters_km        16868 non-null  float64       \n\ndtypes: bool(3), datetime64[ns](1), float64(12), int64(10), object(2)\n\nmemory usage: 4.2+ MB\n"
        }
      ]
    },
    {
      "cell_type": "markdown",
      "source": "### Проведите исследовательский анализ данных",
      "metadata": {}
    },
    {
      "cell_type": "markdown",
      "source": "#### Изучение параметров объектов",
      "metadata": {}
    },
    {
      "cell_type": "code",
      "source": "data['total_area'].hist(bins=100)",
      "metadata": {},
      "execution_count": 46,
      "outputs": [
        {
          "execution_count": 46,
          "output_type": "execute_result",
          "data": {
            "text/plain": [
              "<AxesSubplot:>"
            ]
          },
          "metadata": {}
        },
        {
          "output_type": "display_data",
          "data": {
            "image/png": "[encoded data removed]",
            "text/plain": [
              "<Figure size 432x288 with 1 Axes>"
            ]
          },
          "metadata": {
            "needs_background": "light"
          }
        }
      ]
    },
    {
      "cell_type": "code",
      "source": "data['living_area'].hist(bins=100)",
      "metadata": {},
      "execution_count": 47,
      "outputs": [
        {
          "execution_count": 47,
          "output_type": "execute_result",
          "data": {
            "text/plain": [
              "<AxesSubplot:>"
            ]
          },
          "metadata": {}
        },
        {
          "output_type": "display_data",
          "data": {
            "image/png": "[encoded data removed]",
            "text/plain": [
              "<Figure size 432x288 with 1 Axes>"
            ]
          },
          "metadata": {
            "needs_background": "light"
          }
        }
      ]
    },
    {
      "cell_type": "code",
      "source": "data['kitchen_area'].hist(bins=100)",
      "metadata": {},
      "execution_count": 48,
      "outputs": [
        {
          "execution_count": 48,
          "output_type": "execute_result",
          "data": {
            "text/plain": [
              "<AxesSubplot:>"
            ]
          },
          "metadata": {}
        },
        {
          "output_type": "display_data",
          "data": {
            "image/png": "[encoded data removed]",
            "text/plain": [
              "<Figure size 432x288 with 1 Axes>"
            ]
          },
          "metadata": {
            "needs_background": "light"
          }
        }
      ]
    },
    {
      "cell_type": "code",
      "source": "data['last_price'].hist(bins=100, range=(0, 20000000))",
      "metadata": {},
      "execution_count": 49,
      "outputs": [
        {
          "execution_count": 49,
          "output_type": "execute_result",
          "data": {
            "text/plain": [
              "<AxesSubplot:>"
            ]
          },
          "metadata": {}
        },
        {
          "output_type": "display_data",
          "data": {
            "image/png": "[encoded data removed]",
            "text/plain": [
              "<Figure size 432x288 with 1 Axes>"
            ]
          },
          "metadata": {
            "needs_background": "light"
          }
        }
      ]
    },
    {
      "cell_type": "code",
      "source": "data['last_price'].hist(bins=100, range=(20000000,800000000))",
      "metadata": {},
      "execution_count": 50,
      "outputs": [
        {
          "execution_count": 50,
          "output_type": "execute_result",
          "data": {
            "text/plain": [
              "<AxesSubplot:>"
            ]
          },
          "metadata": {}
        },
        {
          "output_type": "display_data",
          "data": {
            "image/png": "[encoded data removed]",
            "text/plain": [
              "<Figure size 432x288 with 1 Axes>"
            ]
          },
          "metadata": {
            "needs_background": "light"
          }
        }
      ]
    },
    {
      "cell_type": "code",
      "source": "data['rooms'].hist(bins=data['rooms'].nunique())",
      "metadata": {},
      "execution_count": 51,
      "outputs": [
        {
          "execution_count": 51,
          "output_type": "execute_result",
          "data": {
            "text/plain": [
              "<AxesSubplot:>"
            ]
          },
          "metadata": {}
        },
        {
          "output_type": "display_data",
          "data": {
            "image/png": "[encoded data removed]",
            "text/plain": [
              "<Figure size 432x288 with 1 Axes>"
            ]
          },
          "metadata": {
            "needs_background": "light"
          }
        }
      ]
    },
    {
      "cell_type": "code",
      "source": "data['ceiling_height'].hist(bins=100)",
      "metadata": {},
      "execution_count": 52,
      "outputs": [
        {
          "execution_count": 52,
          "output_type": "execute_result",
          "data": {
            "text/plain": [
              "<AxesSubplot:>"
            ]
          },
          "metadata": {}
        },
        {
          "output_type": "display_data",
          "data": {
            "image/png": "[encoded data removed]",
            "text/plain": [
              "<Figure size 432x288 with 1 Axes>"
            ]
          },
          "metadata": {
            "needs_background": "light"
          }
        }
      ]
    },
    {
      "cell_type": "code",
      "source": "data['floor'].hist(bins=100)",
      "metadata": {},
      "execution_count": 53,
      "outputs": [
        {
          "execution_count": 53,
          "output_type": "execute_result",
          "data": {
            "text/plain": [
              "<AxesSubplot:>"
            ]
          },
          "metadata": {}
        },
        {
          "output_type": "display_data",
          "data": {
            "image/png": "[encoded data removed]",
            "text/plain": [
              "<Figure size 432x288 with 1 Axes>"
            ]
          },
          "metadata": {
            "needs_background": "light"
          }
        }
      ]
    },
    {
      "cell_type": "code",
      "source": "data['floor_type'].hist(bins=3)",
      "metadata": {},
      "execution_count": 54,
      "outputs": [
        {
          "execution_count": 54,
          "output_type": "execute_result",
          "data": {
            "text/plain": [
              "<AxesSubplot:>"
            ]
          },
          "metadata": {}
        },
        {
          "output_type": "display_data",
          "data": {
            "image/png": "[encoded data removed]",
            "text/plain": [
              "<Figure size 432x288 with 1 Axes>"
            ]
          },
          "metadata": {
            "needs_background": "light"
          }
        }
      ]
    },
    {
      "cell_type": "code",
      "source": "data['floors_total'].hist(bins=100)",
      "metadata": {},
      "execution_count": 55,
      "outputs": [
        {
          "execution_count": 55,
          "output_type": "execute_result",
          "data": {
            "text/plain": [
              "<AxesSubplot:>"
            ]
          },
          "metadata": {}
        },
        {
          "output_type": "display_data",
          "data": {
            "image/png": "[encoded data removed]",
            "text/plain": [
              "<Figure size 432x288 with 1 Axes>"
            ]
          },
          "metadata": {
            "needs_background": "light"
          }
        }
      ]
    },
    {
      "cell_type": "code",
      "source": "data['cityCenters_nearest'].hist(bins=100)",
      "metadata": {},
      "execution_count": 56,
      "outputs": [
        {
          "execution_count": 56,
          "output_type": "execute_result",
          "data": {
            "text/plain": [
              "<AxesSubplot:>"
            ]
          },
          "metadata": {}
        },
        {
          "output_type": "display_data",
          "data": {
            "image/png": "[encoded data removed]",
            "text/plain": [
              "<Figure size 432x288 with 1 Axes>"
            ]
          },
          "metadata": {
            "needs_background": "light"
          }
        }
      ]
    },
    {
      "cell_type": "code",
      "source": "data['airports_nearest'].hist(bins=100)",
      "metadata": {},
      "execution_count": 57,
      "outputs": [
        {
          "execution_count": 57,
          "output_type": "execute_result",
          "data": {
            "text/plain": [
              "<AxesSubplot:>"
            ]
          },
          "metadata": {}
        },
        {
          "output_type": "display_data",
          "data": {
            "image/png": "[encoded data removed]",
            "text/plain": [
              "<Figure size 432x288 with 1 Axes>"
            ]
          },
          "metadata": {
            "needs_background": "light"
          }
        }
      ]
    },
    {
      "cell_type": "code",
      "source": "data['parks_nearest'].hist(bins=100, range=(0, 2999))",
      "metadata": {},
      "execution_count": 58,
      "outputs": [
        {
          "execution_count": 58,
          "output_type": "execute_result",
          "data": {
            "text/plain": [
              "<AxesSubplot:>"
            ]
          },
          "metadata": {}
        },
        {
          "output_type": "display_data",
          "data": {
            "image/png": "[encoded data removed]",
            "text/plain": [
              "<Figure size 432x288 with 1 Axes>"
            ]
          },
          "metadata": {
            "needs_background": "light"
          }
        }
      ]
    },
    {
      "cell_type": "code",
      "source": "data['day_week'].hist(bins=100)",
      "metadata": {},
      "execution_count": 59,
      "outputs": [
        {
          "execution_count": 59,
          "output_type": "execute_result",
          "data": {
            "text/plain": [
              "<AxesSubplot:>"
            ]
          },
          "metadata": {}
        },
        {
          "output_type": "display_data",
          "data": {
            "image/png": "[encoded data removed]",
            "text/plain": [
              "<Figure size 432x288 with 1 Axes>"
            ]
          },
          "metadata": {
            "needs_background": "light"
          }
        }
      ]
    },
    {
      "cell_type": "code",
      "source": "data['month'].hist(bins=100)",
      "metadata": {},
      "execution_count": 60,
      "outputs": [
        {
          "execution_count": 60,
          "output_type": "execute_result",
          "data": {
            "text/plain": [
              "<AxesSubplot:>"
            ]
          },
          "metadata": {}
        },
        {
          "output_type": "display_data",
          "data": {
            "image/png": "[encoded data removed]",
            "text/plain": [
              "<Figure size 432x288 with 1 Axes>"
            ]
          },
          "metadata": {
            "needs_background": "light"
          }
        }
      ]
    },
    {
      "cell_type": "markdown",
      "source": "**Вывод:**\nПри исследовании данных были выявлены следующие наблюдения:\n  - общая площадь, большая часть квартир имеет общую площадь до 100 квадратных метров;\n  - жилая площадь, большая часть квартир имеет жилую площадь до 50 квадратных метров;\n  - площадь кухни, большая часть квартир имеет общую площадь до 15 квадратных метров;\n  - цена объекта, большая часть находится в диапазоне от 400.000 до 10.000.000, но так же есть значительно более дорогие;\n  - количество комнат, чаще всего встречаются квартиры с 1, 2 или 3 комнатами;\n  - высота потолков, варьируется от 2 до 3 метров, есть несколько слишком низких значений (около метра) и некоторые слишком большие;\n  - этаж квартиры, больше всего квартир до пятого этажа;\n  - тип этажа квартиры («первый», «последний», «другой»), квартиры на первом и последнем этаже встречаются реже, чем на других;\n  - общее количество этажей в доме, наиболее частые пятиэтажные и девятиэтажные дома;\n  - расстояние до центра города в метрах, большая часть находится в пределах 20 километров от центра, но есть и удаленные;\n  - расстояние до ближайшего аэропорта, чаще всего аэропорт находится в 10-40 километрах;\n  - расстояние до ближайшего парка, чаще всего расположен менее чем в 1 километре от здания;\n  - день и месяц публикации объявления, на выходных публикуется меньше объявлений, чем в будни, так же спад публикаций есть в декабрь-январь и в мае.",
      "metadata": {}
    },
    {
      "cell_type": "markdown",
      "source": "#### Изучение, как быстро продавались квартиры",
      "metadata": {}
    },
    {
      "cell_type": "code",
      "source": "data['days_exposition'].hist(bins=100)",
      "metadata": {},
      "execution_count": 61,
      "outputs": [
        {
          "execution_count": 61,
          "output_type": "execute_result",
          "data": {
            "text/plain": [
              "<AxesSubplot:>"
            ]
          },
          "metadata": {}
        },
        {
          "output_type": "display_data",
          "data": {
            "image/png": "[encoded data removed]",
            "text/plain": [
              "<Figure size 432x288 with 1 Axes>"
            ]
          },
          "metadata": {
            "needs_background": "light"
          }
        }
      ]
    },
    {
      "cell_type": "code",
      "source": "data['days_exposition'].hist(bins=100, range=(0,100))",
      "metadata": {},
      "execution_count": 62,
      "outputs": [
        {
          "execution_count": 62,
          "output_type": "execute_result",
          "data": {
            "text/plain": [
              "<AxesSubplot:>"
            ]
          },
          "metadata": {}
        },
        {
          "output_type": "display_data",
          "data": {
            "image/png": "[encoded data removed]",
            "text/plain": [
              "<Figure size 432x288 with 1 Axes>"
            ]
          },
          "metadata": {
            "needs_background": "light"
          }
        }
      ]
    },
    {
      "cell_type": "code",
      "source": "data['days_exposition'].mean()",
      "metadata": {},
      "execution_count": 63,
      "outputs": [
        {
          "execution_count": 63,
          "output_type": "execute_result",
          "data": {
            "text/plain": [
              "184.74289681691945"
            ]
          },
          "metadata": {}
        }
      ]
    },
    {
      "cell_type": "code",
      "source": "data['days_exposition'].median()",
      "metadata": {},
      "execution_count": 64,
      "outputs": [
        {
          "execution_count": 64,
          "output_type": "execute_result",
          "data": {
            "text/plain": [
              "101.0"
            ]
          },
          "metadata": {}
        }
      ]
    },
    {
      "cell_type": "markdown",
      "source": "**Вывод:**\nОбычно продажа занимает до 200 дней. Продажи за 3 и меньше дней необычно быстрые, а более 1000 слишком долгие. Так же есть значительное количество продаж на 45 и 60 день.",
      "metadata": {}
    },
    {
      "cell_type": "markdown",
      "source": "#### Какие факторы больше всего влияют на общую (полную) стоимость объекта?",
      "metadata": {}
    },
    {
      "cell_type": "code",
      "source": "data.plot(x='total_area', y='last_price', kind='scatter', grid=True)",
      "metadata": {},
      "execution_count": 65,
      "outputs": [
        {
          "execution_count": 65,
          "output_type": "execute_result",
          "data": {
            "text/plain": [
              "<AxesSubplot:xlabel='total_area', ylabel='last_price'>"
            ]
          },
          "metadata": {}
        },
        {
          "output_type": "display_data",
          "data": {
            "image/png": "[encoded data removed]",
            "text/plain": [
              "<Figure size 432x288 with 1 Axes>"
            ]
          },
          "metadata": {
            "needs_background": "light"
          }
        }
      ]
    },
    {
      "cell_type": "code",
      "source": "data.plot(x='living_area', y='last_price', kind='scatter', grid=True)",
      "metadata": {},
      "execution_count": 66,
      "outputs": [
        {
          "execution_count": 66,
          "output_type": "execute_result",
          "data": {
            "text/plain": [
              "<AxesSubplot:xlabel='living_area', ylabel='last_price'>"
            ]
          },
          "metadata": {}
        },
        {
          "output_type": "display_data",
          "data": {
            "image/png": "[encoded data removed]",
            "text/plain": [
              "<Figure size 432x288 with 1 Axes>"
            ]
          },
          "metadata": {
            "needs_background": "light"
          }
        }
      ]
    },
    {
      "cell_type": "code",
      "source": "data.plot(x='kitchen_area', y='last_price', kind='scatter', grid=True)",
      "metadata": {},
      "execution_count": 67,
      "outputs": [
        {
          "execution_count": 67,
          "output_type": "execute_result",
          "data": {
            "text/plain": [
              "<AxesSubplot:xlabel='kitchen_area', ylabel='last_price'>"
            ]
          },
          "metadata": {}
        },
        {
          "output_type": "display_data",
          "data": {
            "image/png": "[encoded data removed]",
            "text/plain": [
              "<Figure size 432x288 with 1 Axes>"
            ]
          },
          "metadata": {
            "needs_background": "light"
          }
        }
      ]
    },
    {
      "cell_type": "code",
      "source": "data.plot(x='rooms', y='last_price', kind='scatter', grid=True)",
      "metadata": {},
      "execution_count": 68,
      "outputs": [
        {
          "execution_count": 68,
          "output_type": "execute_result",
          "data": {
            "text/plain": [
              "<AxesSubplot:xlabel='rooms', ylabel='last_price'>"
            ]
          },
          "metadata": {}
        },
        {
          "output_type": "display_data",
          "data": {
            "image/png": "[encoded data removed]",
            "text/plain": [
              "<Figure size 432x288 with 1 Axes>"
            ]
          },
          "metadata": {
            "needs_background": "light"
          }
        }
      ]
    },
    {
      "cell_type": "code",
      "source": "data.plot(x='floor', y='last_price', kind='scatter', grid=True)",
      "metadata": {},
      "execution_count": 69,
      "outputs": [
        {
          "execution_count": 69,
          "output_type": "execute_result",
          "data": {
            "text/plain": [
              "<AxesSubplot:xlabel='floor', ylabel='last_price'>"
            ]
          },
          "metadata": {}
        },
        {
          "output_type": "display_data",
          "data": {
            "image/png": "[encoded data removed]",
            "text/plain": [
              "<Figure size 432x288 with 1 Axes>"
            ]
          },
          "metadata": {
            "needs_background": "light"
          }
        }
      ]
    },
    {
      "cell_type": "code",
      "source": "data.plot(x='day_week', y='last_price', kind='scatter', grid=True)",
      "metadata": {},
      "execution_count": 70,
      "outputs": [
        {
          "execution_count": 70,
          "output_type": "execute_result",
          "data": {
            "text/plain": [
              "<AxesSubplot:xlabel='day_week', ylabel='last_price'>"
            ]
          },
          "metadata": {}
        },
        {
          "output_type": "display_data",
          "data": {
            "image/png": "[encoded data removed]",
            "text/plain": [
              "<Figure size 432x288 with 1 Axes>"
            ]
          },
          "metadata": {
            "needs_background": "light"
          }
        }
      ]
    },
    {
      "cell_type": "code",
      "source": "data.plot(x='month', y='last_price', kind='scatter', grid=True)",
      "metadata": {},
      "execution_count": 71,
      "outputs": [
        {
          "execution_count": 71,
          "output_type": "execute_result",
          "data": {
            "text/plain": [
              "<AxesSubplot:xlabel='month', ylabel='last_price'>"
            ]
          },
          "metadata": {}
        },
        {
          "output_type": "display_data",
          "data": {
            "image/png": "[encoded data removed]",
            "text/plain": [
              "<Figure size 432x288 with 1 Axes>"
            ]
          },
          "metadata": {
            "needs_background": "light"
          }
        }
      ]
    },
    {
      "cell_type": "code",
      "source": "data.plot(x='year', y='last_price', kind='scatter', grid=True)",
      "metadata": {},
      "execution_count": 72,
      "outputs": [
        {
          "execution_count": 72,
          "output_type": "execute_result",
          "data": {
            "text/plain": [
              "<AxesSubplot:xlabel='year', ylabel='last_price'>"
            ]
          },
          "metadata": {}
        },
        {
          "output_type": "display_data",
          "data": {
            "image/png": "[encoded data removed]",
            "text/plain": [
              "<Figure size 432x288 with 1 Axes>"
            ]
          },
          "metadata": {
            "needs_background": "light"
          }
        }
      ]
    },
    {
      "cell_type": "code",
      "source": "data.corr()['last_price'][['total_area', 'living_area', 'kitchen_area', 'rooms', 'floor', 'day_week', 'month', 'year']]",
      "metadata": {},
      "execution_count": 88,
      "outputs": [
        {
          "execution_count": 88,
          "output_type": "execute_result",
          "data": {
            "text/plain": [
              "total_area      0.641482\n",
              "living_area     0.566375\n",
              "kitchen_area    0.518271\n",
              "rooms           0.361049\n",
              "floor           0.026538\n",
              "day_week       -0.000496\n",
              "month           0.001438\n",
              "year           -0.038792\n",
              "Name: last_price, dtype: float64"
            ]
          },
          "metadata": {}
        }
      ]
    },
    {
      "cell_type": "markdown",
      "source": "**Вывод:**\nНа общую стоимость объекта больше влияют параметры общей, жилой и кухонной площади, а так же количество комнат. День, месяц, год и этаж оказывают незначительное влияние.",
      "metadata": {}
    },
    {
      "cell_type": "markdown",
      "source": "#### Средняя цена одного кв.метра по населенным пунктам",
      "metadata": {}
    },
    {
      "cell_type": "code",
      "source": "# Получим названия 10 населённых пунктов с наибольшим числом объявлений\npopular_local = data.groupby('locality_name')['locality_name'].count().sort_values()[-10:].to_frame()\npopular_local",
      "metadata": {},
      "execution_count": 74,
      "outputs": [
        {
          "execution_count": 74,
          "output_type": "execute_result",
          "data": {
            "text/html": [
              "<div>\n",
              "<style scoped>\n",
              "    .dataframe tbody tr th:only-of-type {\n",
              "        vertical-align: middle;\n",
              "    }\n",
              "\n",
              "    .dataframe tbody tr th {\n",
              "        vertical-align: top;\n",
              "    }\n",
              "\n",
              "    .dataframe thead th {\n",
              "        text-align: right;\n",
              "    }\n",
              "</style>\n",
              "<table border=\"1\" class=\"dataframe\">\n",
              "  <thead>\n",
              "    <tr style=\"text-align: right;\">\n",
              "      <th></th>\n",
              "      <th>locality_name</th>\n",
              "    </tr>\n",
              "    <tr>\n",
              "      <th>locality_name</th>\n",
              "      <th></th>\n",
              "    </tr>\n",
              "  </thead>\n",
              "  <tbody>\n",
              "    <tr>\n",
              "      <th>Петергоф</th>\n",
              "      <td>197</td>\n",
              "    </tr>\n",
              "    <tr>\n",
              "      <th>Гатчина</th>\n",
              "      <td>292</td>\n",
              "    </tr>\n",
              "    <tr>\n",
              "      <th>Парголово</th>\n",
              "      <td>301</td>\n",
              "    </tr>\n",
              "    <tr>\n",
              "      <th>Колпино</th>\n",
              "      <td>328</td>\n",
              "    </tr>\n",
              "    <tr>\n",
              "      <th>Пушкин</th>\n",
              "      <td>345</td>\n",
              "    </tr>\n",
              "    <tr>\n",
              "      <th>Всеволожск</th>\n",
              "      <td>371</td>\n",
              "    </tr>\n",
              "    <tr>\n",
              "      <th>Шушары</th>\n",
              "      <td>403</td>\n",
              "    </tr>\n",
              "    <tr>\n",
              "      <th>Кудрово</th>\n",
              "      <td>422</td>\n",
              "    </tr>\n",
              "    <tr>\n",
              "      <th>Мурино</th>\n",
              "      <td>524</td>\n",
              "    </tr>\n",
              "    <tr>\n",
              "      <th>Санкт-Петербург</th>\n",
              "      <td>14534</td>\n",
              "    </tr>\n",
              "  </tbody>\n",
              "</table>\n",
              "</div>"
            ],
            "text/plain": [
              "                 locality_name\n",
              "locality_name                 \n",
              "Петергоф                   197\n",
              "Гатчина                    292\n",
              "Парголово                  301\n",
              "Колпино                    328\n",
              "Пушкин                     345\n",
              "Всеволожск                 371\n",
              "Шушары                     403\n",
              "Кудрово                    422\n",
              "Мурино                     524\n",
              "Санкт-Петербург          14534"
            ]
          },
          "metadata": {}
        }
      ]
    },
    {
      "cell_type": "code",
      "source": "for locality in popular_local.index:\n    popular_local.loc[locality, 'avg_price'] = (\n        data[data['locality_name']==locality]['last_price']/\n        data[data['locality_name']==locality]['total_area']\n    ).mean()",
      "metadata": {},
      "execution_count": 75,
      "outputs": []
    },
    {
      "cell_type": "code",
      "source": "# код ревьюера\npopular_local = data.groupby('locality_name')['price_one_m'].agg(['size', 'mean']).reset_index()\npopular_local.columns = ['locality_name', 'flat_count', 'avg_price']\npopular_local = popular_local.sort_values(by='flat_count').tail(10)",
      "metadata": {},
      "execution_count": 76,
      "outputs": []
    },
    {
      "cell_type": "code",
      "source": "# код ревьюера \n\nimport matplotlib.pyplot as plt\n\npopular_local.sort_values(by='avg_price').tail(10).plot(x='locality_name', y='avg_price', kind='barh', figsize=(8,6), legend=False)\nplt.xlabel('Средняя цена кв м')\nplt.ylabel('Населенный пункт')\nplt.title('Населённые пункты с самой высокой стоимостью квадратного метра\\n')\nplt.show()",
      "metadata": {},
      "execution_count": 77,
      "outputs": [
        {
          "output_type": "display_data",
          "data": {
            "image/png": "[encoded data removed]",
            "text/plain": [
              "<Figure size 576x432 with 1 Axes>"
            ]
          },
          "metadata": {
            "needs_background": "light"
          }
        }
      ]
    },
    {
      "cell_type": "markdown",
      "source": "**Вывод:** \nИз 10 населенных пунктов с наибольшим количеством объявлений самая высокая средняя стоимость одного квадратного метра в Санкт-Петербурге, а самая низкая в Гатчине.",
      "metadata": {}
    },
    {
      "cell_type": "markdown",
      "source": "#### Средняя цена каждого километра от центра в Санкт-Петербурге",
      "metadata": {}
    },
    {
      "cell_type": "code",
      "source": "data.loc[data['locality_name']=='Санкт-Петербург'].groupby('cityCenters_km')['last_price'].mean().plot()",
      "metadata": {},
      "execution_count": 78,
      "outputs": [
        {
          "execution_count": 78,
          "output_type": "execute_result",
          "data": {
            "text/plain": [
              "<AxesSubplot:xlabel='cityCenters_km'>"
            ]
          },
          "metadata": {}
        },
        {
          "output_type": "display_data",
          "data": {
            "image/png": "[encoded data removed]",
            "text/plain": [
              "<Figure size 432x288 with 1 Axes>"
            ]
          },
          "metadata": {
            "needs_background": "light"
          }
        }
      ]
    },
    {
      "cell_type": "markdown",
      "source": "**Вывод:**\nПри удалении от центра стоимость уменьшается. ",
      "metadata": {}
    },
    {
      "cell_type": "markdown",
      "source": "### Общий вывод",
      "metadata": {}
    },
    {
      "cell_type": "markdown",
      "source": "Было проведено исследование данных с целью найти интересные особенности и зависимости, которые существуют на рынке недвижимости. В качестве входных данные сервиса Яндекс Недвижимость — архив объявлений за несколько лет о продаже квартир в Санкт-Петербурге и соседних населённых пунктах.\n\nВыполнены следующие шаги:\n- Устранены пропуски, неявные дубликаты и аномальные значения;\n- Добавлены новые столбцы для исслдеования;\n- Изучены некоторые параметры и описаны полученные наблюдения;\n- Рассмотрено, как быстро продаются квартиры, средние значения и необычные;\n- Изучено влияние различных факторов на стоимость;\n- Расчитана средняя стоимость квадратного метра в 10 населенных пунктах с наибольшим числом объявлений;\n- Рассмотрена средняя цена каждого километра от центра в Санкт-Петербурге.\n\n**Результаты**\n\n**Вопрос 1. Как быстро продавались квартиры?**\nОбычно продажа занимает до 200 дней. Продажи за 3 и меньше дней необычно быстрые, а более 1000 слишком долгие. Так же есть значительное количество продаж на 45 и 60 день.\n\n**Вопрос 2. Какие факторы больше всего влияют на общую (полную) стоимость объекта?**\nНа общую стоимость объекта больше влияют параметры общей, жилой и кухонной площади, а так же количество комнат. День, месяц, год и этаж оказывают незначительное влияние.\n\n**Вопрос 3. Какие населённые пункты с самой высокой и низкой стоимостью квадратного метра?**\nИз 10 населенных пунктов с наибольшим количеством объявлений самая высокая средняя стоимость одного квадратного метра в Санкт-Петербурге, а самая низкая в Гатчине.\n\n**Вопрос 4. Как стоимость объектов зависит от расстояния до центра города?**\nПри удалении от центра стоимость уменьшается. ",
      "metadata": {}
    }
  ]
}