{
  "metadata": {
    "ExecuteTimeLog": [
      {
        "duration": 418,
        "start_time": "2022-11-21T09:45:59.667Z"
      },
      {
        "duration": 170,
        "start_time": "2022-11-21T09:46:00.087Z"
      },
      {
        "duration": 12,
        "start_time": "2022-11-21T09:46:00.259Z"
      },
      {
        "duration": 15,
        "start_time": "2022-11-21T09:51:21.032Z"
      },
      {
        "duration": 25,
        "start_time": "2022-11-21T10:03:02.547Z"
      },
      {
        "duration": 66,
        "start_time": "2022-11-21T10:03:14.099Z"
      },
      {
        "duration": 57,
        "start_time": "2022-11-21T10:03:18.626Z"
      },
      {
        "duration": 19,
        "start_time": "2022-11-21T10:03:22.616Z"
      },
      {
        "duration": 686,
        "start_time": "2022-11-21T10:04:10.563Z"
      },
      {
        "duration": 3,
        "start_time": "2022-11-21T10:07:58.831Z"
      },
      {
        "duration": 1100,
        "start_time": "2022-11-23T05:04:42.882Z"
      },
      {
        "duration": 165,
        "start_time": "2022-11-23T05:04:43.984Z"
      },
      {
        "duration": 12,
        "start_time": "2022-11-23T05:04:44.151Z"
      },
      {
        "duration": 11,
        "start_time": "2022-11-23T05:04:44.165Z"
      },
      {
        "duration": 18,
        "start_time": "2022-11-23T05:04:44.178Z"
      },
      {
        "duration": 3,
        "start_time": "2022-11-23T05:04:44.197Z"
      },
      {
        "duration": 1288,
        "start_time": "2022-11-23T05:04:44.202Z"
      },
      {
        "duration": 8,
        "start_time": "2022-11-23T05:04:45.814Z"
      },
      {
        "duration": 8,
        "start_time": "2022-11-23T05:05:09.877Z"
      },
      {
        "duration": 8,
        "start_time": "2022-11-23T05:05:10.795Z"
      },
      {
        "duration": 21,
        "start_time": "2022-11-23T05:06:39.226Z"
      },
      {
        "duration": 19,
        "start_time": "2022-11-23T05:07:09.314Z"
      },
      {
        "duration": 11,
        "start_time": "2022-11-23T05:07:40.355Z"
      },
      {
        "duration": 1031,
        "start_time": "2022-11-23T05:07:58.504Z"
      },
      {
        "duration": 56,
        "start_time": "2022-11-23T05:07:59.537Z"
      },
      {
        "duration": 13,
        "start_time": "2022-11-23T05:07:59.594Z"
      },
      {
        "duration": 11,
        "start_time": "2022-11-23T05:07:59.609Z"
      },
      {
        "duration": 18,
        "start_time": "2022-11-23T05:07:59.622Z"
      },
      {
        "duration": 8,
        "start_time": "2022-11-23T05:08:06.885Z"
      },
      {
        "duration": 10,
        "start_time": "2022-11-23T05:08:09.313Z"
      },
      {
        "duration": 35,
        "start_time": "2022-11-23T05:09:56.282Z"
      },
      {
        "duration": 108,
        "start_time": "2022-11-23T05:10:39.190Z"
      },
      {
        "duration": 8,
        "start_time": "2022-11-23T05:15:09.457Z"
      },
      {
        "duration": 8,
        "start_time": "2022-11-23T05:15:26.273Z"
      },
      {
        "duration": 5,
        "start_time": "2022-11-23T05:15:47.127Z"
      },
      {
        "duration": 8,
        "start_time": "2022-11-23T05:16:02.697Z"
      },
      {
        "duration": 7,
        "start_time": "2022-11-23T05:16:08.097Z"
      },
      {
        "duration": 8,
        "start_time": "2022-11-23T05:16:31.196Z"
      },
      {
        "duration": 19,
        "start_time": "2022-11-23T05:16:44.381Z"
      },
      {
        "duration": 8,
        "start_time": "2022-11-23T05:16:54.394Z"
      },
      {
        "duration": 14,
        "start_time": "2022-11-23T05:17:09.790Z"
      },
      {
        "duration": 12,
        "start_time": "2022-11-23T05:17:29.714Z"
      },
      {
        "duration": 8,
        "start_time": "2022-11-23T05:17:35.173Z"
      },
      {
        "duration": 9,
        "start_time": "2022-11-23T05:17:36.981Z"
      },
      {
        "duration": 17,
        "start_time": "2022-11-23T05:17:56.545Z"
      },
      {
        "duration": 7,
        "start_time": "2022-11-23T05:23:24.252Z"
      },
      {
        "duration": 16,
        "start_time": "2022-11-23T05:23:26.144Z"
      },
      {
        "duration": 1137,
        "start_time": "2022-11-23T05:23:44.249Z"
      },
      {
        "duration": 54,
        "start_time": "2022-11-23T05:23:45.388Z"
      },
      {
        "duration": 11,
        "start_time": "2022-11-23T05:23:45.444Z"
      },
      {
        "duration": 9,
        "start_time": "2022-11-23T05:23:45.457Z"
      },
      {
        "duration": 7,
        "start_time": "2022-11-23T05:23:45.468Z"
      },
      {
        "duration": 18,
        "start_time": "2022-11-23T05:23:45.477Z"
      },
      {
        "duration": 4,
        "start_time": "2022-11-23T05:23:45.513Z"
      },
      {
        "duration": 9,
        "start_time": "2022-11-23T05:23:45.518Z"
      },
      {
        "duration": 9,
        "start_time": "2022-11-23T05:23:45.529Z"
      },
      {
        "duration": 33,
        "start_time": "2022-11-23T05:23:45.540Z"
      },
      {
        "duration": 10,
        "start_time": "2022-11-23T05:28:57.756Z"
      },
      {
        "duration": 710,
        "start_time": "2022-11-23T05:29:10.923Z"
      },
      {
        "duration": 100,
        "start_time": "2022-11-23T05:31:11.619Z"
      },
      {
        "duration": 9,
        "start_time": "2022-11-23T05:31:21.627Z"
      },
      {
        "duration": 4,
        "start_time": "2022-11-23T05:38:46.129Z"
      },
      {
        "duration": 44,
        "start_time": "2022-11-23T05:43:24.027Z"
      },
      {
        "duration": 834,
        "start_time": "2022-11-23T05:43:24.352Z"
      },
      {
        "duration": 261,
        "start_time": "2022-11-23T05:43:25.188Z"
      },
      {
        "duration": 44,
        "start_time": "2022-11-23T05:45:41.200Z"
      },
      {
        "duration": 29685,
        "start_time": "2022-11-23T05:46:00.443Z"
      },
      {
        "duration": 37,
        "start_time": "2022-11-23T05:50:06.438Z"
      },
      {
        "duration": 76,
        "start_time": "2022-11-23T05:50:15.178Z"
      },
      {
        "duration": 37,
        "start_time": "2022-11-23T05:50:21.760Z"
      },
      {
        "duration": 10,
        "start_time": "2022-11-23T05:50:52.033Z"
      },
      {
        "duration": 1181,
        "start_time": "2022-11-23T05:51:35.508Z"
      },
      {
        "duration": 30142,
        "start_time": "2022-11-23T05:55:15.110Z"
      },
      {
        "duration": 15,
        "start_time": "2022-11-23T05:56:18.425Z"
      },
      {
        "duration": 5,
        "start_time": "2022-11-23T05:56:28.931Z"
      },
      {
        "duration": 14,
        "start_time": "2022-11-23T05:56:29.451Z"
      },
      {
        "duration": 3,
        "start_time": "2022-11-23T05:57:24.726Z"
      },
      {
        "duration": 57,
        "start_time": "2022-11-23T05:57:24.731Z"
      },
      {
        "duration": 11,
        "start_time": "2022-11-23T05:57:24.789Z"
      },
      {
        "duration": 11,
        "start_time": "2022-11-23T05:57:24.801Z"
      },
      {
        "duration": 7,
        "start_time": "2022-11-23T05:57:24.814Z"
      },
      {
        "duration": 29,
        "start_time": "2022-11-23T05:57:24.823Z"
      },
      {
        "duration": 3,
        "start_time": "2022-11-23T05:57:24.854Z"
      },
      {
        "duration": 14,
        "start_time": "2022-11-23T05:57:24.858Z"
      },
      {
        "duration": 9,
        "start_time": "2022-11-23T05:57:24.874Z"
      },
      {
        "duration": 767,
        "start_time": "2022-11-23T05:57:24.884Z"
      },
      {
        "duration": 4,
        "start_time": "2022-11-23T05:57:25.653Z"
      },
      {
        "duration": 20,
        "start_time": "2022-11-23T05:57:25.659Z"
      },
      {
        "duration": 0,
        "start_time": "2022-11-23T05:57:25.681Z"
      },
      {
        "duration": 0,
        "start_time": "2022-11-23T05:57:25.682Z"
      },
      {
        "duration": 0,
        "start_time": "2022-11-23T05:57:25.684Z"
      },
      {
        "duration": 34,
        "start_time": "2022-11-23T06:02:15.428Z"
      },
      {
        "duration": 703,
        "start_time": "2022-11-23T06:02:15.970Z"
      },
      {
        "duration": 326,
        "start_time": "2022-11-23T06:02:16.904Z"
      },
      {
        "duration": 29422,
        "start_time": "2022-11-23T06:02:17.940Z"
      },
      {
        "duration": 3,
        "start_time": "2022-11-23T06:06:22.627Z"
      },
      {
        "duration": 52,
        "start_time": "2022-11-23T06:06:22.632Z"
      },
      {
        "duration": 11,
        "start_time": "2022-11-23T06:06:22.685Z"
      },
      {
        "duration": 10,
        "start_time": "2022-11-23T06:06:22.697Z"
      },
      {
        "duration": 9,
        "start_time": "2022-11-23T06:06:22.709Z"
      },
      {
        "duration": 26,
        "start_time": "2022-11-23T06:06:22.719Z"
      },
      {
        "duration": 3,
        "start_time": "2022-11-23T06:06:22.746Z"
      },
      {
        "duration": 11,
        "start_time": "2022-11-23T06:06:22.751Z"
      },
      {
        "duration": 9,
        "start_time": "2022-11-23T06:06:22.763Z"
      },
      {
        "duration": 596,
        "start_time": "2022-11-23T06:06:22.773Z"
      },
      {
        "duration": 28,
        "start_time": "2022-11-23T06:06:23.371Z"
      },
      {
        "duration": 596,
        "start_time": "2022-11-23T06:06:23.400Z"
      },
      {
        "duration": 129,
        "start_time": "2022-11-23T06:06:23.998Z"
      },
      {
        "duration": 25073,
        "start_time": "2022-11-23T06:06:24.132Z"
      },
      {
        "duration": 3,
        "start_time": "2022-11-23T06:07:48.888Z"
      },
      {
        "duration": 489,
        "start_time": "2022-11-23T06:14:02.684Z"
      },
      {
        "duration": 7,
        "start_time": "2022-11-23T06:14:03.756Z"
      },
      {
        "duration": 5,
        "start_time": "2022-11-23T06:14:08.424Z"
      },
      {
        "duration": 41,
        "start_time": "2022-11-23T06:14:10.630Z"
      },
      {
        "duration": 34,
        "start_time": "2022-11-23T06:14:26.896Z"
      },
      {
        "duration": 55,
        "start_time": "2022-11-23T06:14:49.180Z"
      },
      {
        "duration": 8,
        "start_time": "2022-11-23T06:14:50.359Z"
      },
      {
        "duration": 52,
        "start_time": "2022-11-23T06:14:58.110Z"
      },
      {
        "duration": 5,
        "start_time": "2022-11-23T06:14:58.510Z"
      },
      {
        "duration": 24865,
        "start_time": "2022-11-23T06:16:36.702Z"
      },
      {
        "duration": 4,
        "start_time": "2022-11-23T06:17:12.497Z"
      },
      {
        "duration": 50,
        "start_time": "2022-11-23T06:17:12.503Z"
      },
      {
        "duration": 10,
        "start_time": "2022-11-23T06:17:12.555Z"
      },
      {
        "duration": 9,
        "start_time": "2022-11-23T06:17:12.567Z"
      },
      {
        "duration": 6,
        "start_time": "2022-11-23T06:17:12.577Z"
      },
      {
        "duration": 19,
        "start_time": "2022-11-23T06:17:12.585Z"
      },
      {
        "duration": 8,
        "start_time": "2022-11-23T06:17:12.605Z"
      },
      {
        "duration": 8,
        "start_time": "2022-11-23T06:17:12.614Z"
      },
      {
        "duration": 9,
        "start_time": "2022-11-23T06:17:12.623Z"
      },
      {
        "duration": 607,
        "start_time": "2022-11-23T06:17:12.633Z"
      },
      {
        "duration": 27,
        "start_time": "2022-11-23T06:17:13.242Z"
      },
      {
        "duration": 596,
        "start_time": "2022-11-23T06:17:13.271Z"
      },
      {
        "duration": 51,
        "start_time": "2022-11-23T06:17:13.868Z"
      },
      {
        "duration": 24695,
        "start_time": "2022-11-23T06:17:13.922Z"
      },
      {
        "duration": 25,
        "start_time": "2022-11-23T06:17:38.619Z"
      },
      {
        "duration": 5,
        "start_time": "2022-11-23T06:17:38.646Z"
      },
      {
        "duration": 3,
        "start_time": "2022-11-23T06:19:13.000Z"
      },
      {
        "duration": 15,
        "start_time": "2022-11-23T06:19:13.578Z"
      },
      {
        "duration": 3,
        "start_time": "2022-11-23T06:24:19.522Z"
      },
      {
        "duration": 1086,
        "start_time": "2022-11-23T06:24:46.201Z"
      },
      {
        "duration": 163,
        "start_time": "2022-11-23T06:24:47.289Z"
      },
      {
        "duration": 11,
        "start_time": "2022-11-23T06:24:47.454Z"
      },
      {
        "duration": 10,
        "start_time": "2022-11-23T06:24:47.466Z"
      },
      {
        "duration": 7,
        "start_time": "2022-11-23T06:24:47.478Z"
      },
      {
        "duration": 23,
        "start_time": "2022-11-23T06:24:47.487Z"
      },
      {
        "duration": 4,
        "start_time": "2022-11-23T06:24:47.512Z"
      },
      {
        "duration": 11,
        "start_time": "2022-11-23T06:24:47.517Z"
      },
      {
        "duration": 9,
        "start_time": "2022-11-23T06:24:47.529Z"
      },
      {
        "duration": 613,
        "start_time": "2022-11-23T06:24:47.539Z"
      },
      {
        "duration": 4,
        "start_time": "2022-11-23T06:24:48.153Z"
      },
      {
        "duration": 101,
        "start_time": "2022-11-23T06:24:48.158Z"
      },
      {
        "duration": 0,
        "start_time": "2022-11-23T06:24:48.260Z"
      },
      {
        "duration": 0,
        "start_time": "2022-11-23T06:24:48.261Z"
      },
      {
        "duration": 0,
        "start_time": "2022-11-23T06:24:48.262Z"
      },
      {
        "duration": 0,
        "start_time": "2022-11-23T06:24:48.263Z"
      },
      {
        "duration": 0,
        "start_time": "2022-11-23T06:24:48.264Z"
      },
      {
        "duration": 0,
        "start_time": "2022-11-23T06:24:48.265Z"
      },
      {
        "duration": 15,
        "start_time": "2022-11-23T06:25:47.101Z"
      },
      {
        "duration": 3,
        "start_time": "2022-11-23T06:26:11.151Z"
      },
      {
        "duration": 15,
        "start_time": "2022-11-23T06:26:11.424Z"
      },
      {
        "duration": 4,
        "start_time": "2022-11-23T06:26:27.932Z"
      },
      {
        "duration": 14,
        "start_time": "2022-11-23T06:26:28.985Z"
      },
      {
        "duration": 3,
        "start_time": "2022-11-23T06:26:51.542Z"
      },
      {
        "duration": 15,
        "start_time": "2022-11-23T06:26:51.736Z"
      },
      {
        "duration": 5,
        "start_time": "2022-11-23T06:28:27.797Z"
      },
      {
        "duration": 5,
        "start_time": "2022-11-23T06:31:05.649Z"
      },
      {
        "duration": 9,
        "start_time": "2022-11-23T06:31:06.078Z"
      },
      {
        "duration": 5,
        "start_time": "2022-11-23T06:31:06.484Z"
      },
      {
        "duration": 602,
        "start_time": "2022-11-23T06:31:07.782Z"
      },
      {
        "duration": 5,
        "start_time": "2022-11-23T06:31:11.340Z"
      },
      {
        "duration": 6,
        "start_time": "2022-11-23T06:31:11.702Z"
      },
      {
        "duration": 4,
        "start_time": "2022-11-23T06:31:23.442Z"
      },
      {
        "duration": 6,
        "start_time": "2022-11-23T06:32:00.566Z"
      },
      {
        "duration": 15,
        "start_time": "2022-11-23T06:32:06.288Z"
      },
      {
        "duration": 7,
        "start_time": "2022-11-23T06:32:19.366Z"
      },
      {
        "duration": 634,
        "start_time": "2022-11-23T06:32:19.911Z"
      },
      {
        "duration": 3,
        "start_time": "2022-11-23T06:32:22.871Z"
      },
      {
        "duration": 22,
        "start_time": "2022-11-23T06:32:23.250Z"
      },
      {
        "duration": 26,
        "start_time": "2022-11-23T06:32:25.669Z"
      },
      {
        "duration": 5,
        "start_time": "2022-11-23T06:33:16.230Z"
      },
      {
        "duration": 49,
        "start_time": "2022-11-23T06:33:16.237Z"
      },
      {
        "duration": 14,
        "start_time": "2022-11-23T06:33:16.288Z"
      },
      {
        "duration": 19,
        "start_time": "2022-11-23T06:33:16.304Z"
      },
      {
        "duration": 10,
        "start_time": "2022-11-23T06:33:16.330Z"
      },
      {
        "duration": 19,
        "start_time": "2022-11-23T06:33:16.342Z"
      },
      {
        "duration": 4,
        "start_time": "2022-11-23T06:33:16.362Z"
      },
      {
        "duration": 8,
        "start_time": "2022-11-23T06:33:16.367Z"
      },
      {
        "duration": 7,
        "start_time": "2022-11-23T06:33:16.377Z"
      },
      {
        "duration": 674,
        "start_time": "2022-11-23T06:33:16.386Z"
      },
      {
        "duration": 4,
        "start_time": "2022-11-23T06:33:17.062Z"
      },
      {
        "duration": 21,
        "start_time": "2022-11-23T06:33:17.067Z"
      },
      {
        "duration": 0,
        "start_time": "2022-11-23T06:33:17.089Z"
      },
      {
        "duration": 0,
        "start_time": "2022-11-23T06:33:17.090Z"
      },
      {
        "duration": 0,
        "start_time": "2022-11-23T06:33:17.091Z"
      },
      {
        "duration": 0,
        "start_time": "2022-11-23T06:33:17.092Z"
      },
      {
        "duration": 0,
        "start_time": "2022-11-23T06:33:17.093Z"
      },
      {
        "duration": 0,
        "start_time": "2022-11-23T06:33:17.094Z"
      },
      {
        "duration": 73,
        "start_time": "2022-11-23T06:33:42.964Z"
      },
      {
        "duration": 68,
        "start_time": "2022-11-23T06:33:44.934Z"
      },
      {
        "duration": 0,
        "start_time": "2022-11-23T06:33:45.004Z"
      },
      {
        "duration": 0,
        "start_time": "2022-11-23T06:33:45.005Z"
      },
      {
        "duration": 0,
        "start_time": "2022-11-23T06:33:45.006Z"
      },
      {
        "duration": 0,
        "start_time": "2022-11-23T06:33:45.007Z"
      },
      {
        "duration": 0,
        "start_time": "2022-11-23T06:33:45.008Z"
      },
      {
        "duration": 0,
        "start_time": "2022-11-23T06:33:45.010Z"
      },
      {
        "duration": 0,
        "start_time": "2022-11-23T06:33:45.011Z"
      },
      {
        "duration": 0,
        "start_time": "2022-11-23T06:33:45.012Z"
      },
      {
        "duration": 0,
        "start_time": "2022-11-23T06:33:45.015Z"
      },
      {
        "duration": 0,
        "start_time": "2022-11-23T06:33:45.016Z"
      },
      {
        "duration": 0,
        "start_time": "2022-11-23T06:33:45.017Z"
      },
      {
        "duration": 0,
        "start_time": "2022-11-23T06:33:45.018Z"
      },
      {
        "duration": 0,
        "start_time": "2022-11-23T06:33:45.019Z"
      },
      {
        "duration": 0,
        "start_time": "2022-11-23T06:33:45.021Z"
      },
      {
        "duration": 0,
        "start_time": "2022-11-23T06:33:45.022Z"
      },
      {
        "duration": 0,
        "start_time": "2022-11-23T06:33:45.023Z"
      },
      {
        "duration": 0,
        "start_time": "2022-11-23T06:33:45.024Z"
      },
      {
        "duration": 4,
        "start_time": "2022-11-23T06:33:57.157Z"
      },
      {
        "duration": 55,
        "start_time": "2022-11-23T06:33:57.163Z"
      },
      {
        "duration": 17,
        "start_time": "2022-11-23T06:33:57.220Z"
      },
      {
        "duration": 13,
        "start_time": "2022-11-23T06:33:57.239Z"
      },
      {
        "duration": 8,
        "start_time": "2022-11-23T06:33:57.255Z"
      },
      {
        "duration": 30,
        "start_time": "2022-11-23T06:33:57.265Z"
      },
      {
        "duration": 7,
        "start_time": "2022-11-23T06:33:57.315Z"
      },
      {
        "duration": 13,
        "start_time": "2022-11-23T06:33:57.326Z"
      },
      {
        "duration": 7,
        "start_time": "2022-11-23T06:33:57.341Z"
      },
      {
        "duration": 611,
        "start_time": "2022-11-23T06:33:57.350Z"
      },
      {
        "duration": 5,
        "start_time": "2022-11-23T06:33:57.962Z"
      },
      {
        "duration": 25,
        "start_time": "2022-11-23T06:33:57.969Z"
      },
      {
        "duration": 42,
        "start_time": "2022-11-23T06:33:57.997Z"
      },
      {
        "duration": 605,
        "start_time": "2022-11-23T06:33:58.042Z"
      },
      {
        "duration": 591,
        "start_time": "2022-11-23T06:33:58.649Z"
      },
      {
        "duration": 25885,
        "start_time": "2022-11-23T06:33:59.315Z"
      },
      {
        "duration": 43,
        "start_time": "2022-11-23T06:34:25.202Z"
      },
      {
        "duration": 6,
        "start_time": "2022-11-23T06:34:25.247Z"
      },
      {
        "duration": 36,
        "start_time": "2022-11-23T06:34:49.632Z"
      },
      {
        "duration": 898,
        "start_time": "2022-11-23T06:34:50.012Z"
      },
      {
        "duration": 720,
        "start_time": "2022-11-23T06:34:50.912Z"
      },
      {
        "duration": 34779,
        "start_time": "2022-11-23T06:34:52.490Z"
      },
      {
        "duration": 36065,
        "start_time": "2022-11-23T06:36:18.595Z"
      },
      {
        "duration": 25,
        "start_time": "2022-11-23T06:37:07.867Z"
      },
      {
        "duration": 7,
        "start_time": "2022-11-23T06:37:08.326Z"
      },
      {
        "duration": 35,
        "start_time": "2022-11-23T06:37:42.426Z"
      },
      {
        "duration": 818,
        "start_time": "2022-11-23T06:37:42.740Z"
      },
      {
        "duration": 963,
        "start_time": "2022-11-23T06:37:43.560Z"
      },
      {
        "duration": 35201,
        "start_time": "2022-11-23T06:37:44.527Z"
      },
      {
        "duration": 46,
        "start_time": "2022-11-23T06:39:00.184Z"
      },
      {
        "duration": 8,
        "start_time": "2022-11-23T06:39:00.513Z"
      },
      {
        "duration": 40,
        "start_time": "2022-11-23T06:42:50.390Z"
      },
      {
        "duration": 4,
        "start_time": "2022-11-23T06:42:57.458Z"
      },
      {
        "duration": 60,
        "start_time": "2022-11-23T06:42:57.463Z"
      },
      {
        "duration": 14,
        "start_time": "2022-11-23T06:42:57.524Z"
      },
      {
        "duration": 14,
        "start_time": "2022-11-23T06:42:57.540Z"
      },
      {
        "duration": 8,
        "start_time": "2022-11-23T06:42:57.557Z"
      },
      {
        "duration": 17,
        "start_time": "2022-11-23T06:42:57.566Z"
      },
      {
        "duration": 3,
        "start_time": "2022-11-23T06:42:57.585Z"
      },
      {
        "duration": 27,
        "start_time": "2022-11-23T06:42:57.589Z"
      },
      {
        "duration": 11,
        "start_time": "2022-11-23T06:42:57.622Z"
      },
      {
        "duration": 24,
        "start_time": "2022-11-23T06:42:57.634Z"
      },
      {
        "duration": 611,
        "start_time": "2022-11-23T06:42:57.660Z"
      },
      {
        "duration": 3,
        "start_time": "2022-11-23T06:42:58.273Z"
      },
      {
        "duration": 16,
        "start_time": "2022-11-23T06:42:58.277Z"
      },
      {
        "duration": 49,
        "start_time": "2022-11-23T06:42:58.295Z"
      },
      {
        "duration": 845,
        "start_time": "2022-11-23T06:42:58.345Z"
      },
      {
        "duration": 324,
        "start_time": "2022-11-23T06:42:59.192Z"
      },
      {
        "duration": 34977,
        "start_time": "2022-11-23T06:42:59.518Z"
      },
      {
        "duration": 34,
        "start_time": "2022-11-23T06:43:34.497Z"
      },
      {
        "duration": 6,
        "start_time": "2022-11-23T06:43:34.533Z"
      },
      {
        "duration": 27,
        "start_time": "2022-11-23T08:03:29.727Z"
      },
      {
        "duration": 29,
        "start_time": "2022-11-23T08:03:36.632Z"
      },
      {
        "duration": 37,
        "start_time": "2022-11-23T08:08:26.950Z"
      },
      {
        "duration": 27,
        "start_time": "2022-11-23T08:08:40.686Z"
      },
      {
        "duration": 34,
        "start_time": "2022-11-23T09:30:50.530Z"
      },
      {
        "duration": 1073,
        "start_time": "2022-11-23T09:38:02.152Z"
      },
      {
        "duration": 54,
        "start_time": "2022-11-23T09:38:03.227Z"
      },
      {
        "duration": 11,
        "start_time": "2022-11-23T09:38:03.283Z"
      },
      {
        "duration": 10,
        "start_time": "2022-11-23T09:38:03.296Z"
      },
      {
        "duration": 8,
        "start_time": "2022-11-23T09:38:03.308Z"
      },
      {
        "duration": 22,
        "start_time": "2022-11-23T09:38:03.317Z"
      },
      {
        "duration": 3,
        "start_time": "2022-11-23T09:38:03.340Z"
      },
      {
        "duration": 11,
        "start_time": "2022-11-23T09:38:03.345Z"
      },
      {
        "duration": 8,
        "start_time": "2022-11-23T09:38:03.358Z"
      },
      {
        "duration": 59,
        "start_time": "2022-11-23T09:38:03.368Z"
      },
      {
        "duration": 629,
        "start_time": "2022-11-23T09:38:03.429Z"
      },
      {
        "duration": 4,
        "start_time": "2022-11-23T09:38:04.059Z"
      },
      {
        "duration": 13,
        "start_time": "2022-11-23T09:38:04.064Z"
      },
      {
        "duration": 61,
        "start_time": "2022-11-23T09:38:04.080Z"
      },
      {
        "duration": 875,
        "start_time": "2022-11-23T09:38:04.144Z"
      },
      {
        "duration": 293,
        "start_time": "2022-11-23T09:38:05.021Z"
      },
      {
        "duration": 34662,
        "start_time": "2022-11-23T09:38:05.316Z"
      },
      {
        "duration": 34,
        "start_time": "2022-11-23T09:38:39.980Z"
      },
      {
        "duration": 25,
        "start_time": "2022-11-23T09:38:40.016Z"
      },
      {
        "duration": 6,
        "start_time": "2022-11-23T09:38:40.043Z"
      },
      {
        "duration": 143,
        "start_time": "2022-11-23T09:38:40.050Z"
      },
      {
        "duration": 31,
        "start_time": "2022-11-23T09:39:23.555Z"
      },
      {
        "duration": 1182,
        "start_time": "2022-11-25T05:55:34.181Z"
      },
      {
        "duration": 265,
        "start_time": "2022-11-25T05:55:35.365Z"
      },
      {
        "duration": 18,
        "start_time": "2022-11-25T05:55:35.632Z"
      },
      {
        "duration": 17,
        "start_time": "2022-11-25T05:55:35.652Z"
      },
      {
        "duration": 8,
        "start_time": "2022-11-25T05:55:35.672Z"
      },
      {
        "duration": 20,
        "start_time": "2022-11-25T05:55:35.682Z"
      },
      {
        "duration": 3,
        "start_time": "2022-11-25T05:55:35.704Z"
      },
      {
        "duration": 33,
        "start_time": "2022-11-25T05:55:35.709Z"
      },
      {
        "duration": 10,
        "start_time": "2022-11-25T05:55:35.743Z"
      },
      {
        "duration": 39,
        "start_time": "2022-11-25T05:55:35.755Z"
      },
      {
        "duration": 137,
        "start_time": "2022-11-25T05:55:35.796Z"
      },
      {
        "duration": 0,
        "start_time": "2022-11-25T05:55:35.935Z"
      },
      {
        "duration": 0,
        "start_time": "2022-11-25T05:55:35.937Z"
      },
      {
        "duration": 0,
        "start_time": "2022-11-25T05:55:35.937Z"
      },
      {
        "duration": 0,
        "start_time": "2022-11-25T05:55:35.938Z"
      },
      {
        "duration": 0,
        "start_time": "2022-11-25T05:55:35.942Z"
      },
      {
        "duration": 0,
        "start_time": "2022-11-25T05:55:35.943Z"
      },
      {
        "duration": 0,
        "start_time": "2022-11-25T05:55:35.944Z"
      },
      {
        "duration": 0,
        "start_time": "2022-11-25T05:55:35.944Z"
      },
      {
        "duration": 0,
        "start_time": "2022-11-25T05:55:35.946Z"
      },
      {
        "duration": 0,
        "start_time": "2022-11-25T05:55:35.947Z"
      },
      {
        "duration": 0,
        "start_time": "2022-11-25T05:55:35.948Z"
      },
      {
        "duration": 0,
        "start_time": "2022-11-25T05:55:35.949Z"
      },
      {
        "duration": 62,
        "start_time": "2022-11-25T05:55:54.301Z"
      },
      {
        "duration": 691,
        "start_time": "2022-11-25T05:55:55.793Z"
      },
      {
        "duration": 9,
        "start_time": "2022-11-25T05:55:56.701Z"
      },
      {
        "duration": 28548,
        "start_time": "2022-11-25T05:56:09.156Z"
      },
      {
        "duration": 4,
        "start_time": "2022-11-25T05:56:45.102Z"
      },
      {
        "duration": 12,
        "start_time": "2022-11-25T05:56:45.452Z"
      },
      {
        "duration": 39,
        "start_time": "2022-11-25T05:56:47.647Z"
      },
      {
        "duration": 879,
        "start_time": "2022-11-25T05:56:49.489Z"
      },
      {
        "duration": 774,
        "start_time": "2022-11-25T05:56:50.370Z"
      },
      {
        "duration": 38508,
        "start_time": "2022-11-25T05:56:53.103Z"
      },
      {
        "duration": 32,
        "start_time": "2022-11-25T05:57:36.151Z"
      },
      {
        "duration": 631,
        "start_time": "2022-11-25T05:57:36.559Z"
      },
      {
        "duration": 651,
        "start_time": "2022-11-25T05:57:37.192Z"
      },
      {
        "duration": 27424,
        "start_time": "2022-11-25T05:57:37.937Z"
      },
      {
        "duration": 31,
        "start_time": "2022-11-25T05:58:05.365Z"
      },
      {
        "duration": 25,
        "start_time": "2022-11-25T05:59:16.150Z"
      },
      {
        "duration": 45,
        "start_time": "2022-11-25T05:59:20.553Z"
      },
      {
        "duration": 13,
        "start_time": "2022-11-25T05:59:31.067Z"
      },
      {
        "duration": 42,
        "start_time": "2022-11-25T06:01:02.262Z"
      },
      {
        "duration": 11,
        "start_time": "2022-11-25T06:01:02.787Z"
      },
      {
        "duration": 45,
        "start_time": "2022-11-25T06:01:10.500Z"
      },
      {
        "duration": 10,
        "start_time": "2022-11-25T06:04:33.921Z"
      },
      {
        "duration": 4,
        "start_time": "2022-11-25T06:04:48.475Z"
      },
      {
        "duration": 12,
        "start_time": "2022-11-25T06:04:53.883Z"
      },
      {
        "duration": 369,
        "start_time": "2022-11-25T06:05:06.439Z"
      },
      {
        "duration": 127,
        "start_time": "2022-11-25T06:05:09.598Z"
      },
      {
        "duration": 5,
        "start_time": "2022-11-25T06:09:12.487Z"
      },
      {
        "duration": 63,
        "start_time": "2022-11-25T06:09:12.494Z"
      },
      {
        "duration": 13,
        "start_time": "2022-11-25T06:09:12.558Z"
      },
      {
        "duration": 18,
        "start_time": "2022-11-25T06:09:12.572Z"
      },
      {
        "duration": 5,
        "start_time": "2022-11-25T06:09:12.592Z"
      },
      {
        "duration": 53,
        "start_time": "2022-11-25T06:09:12.599Z"
      },
      {
        "duration": 3,
        "start_time": "2022-11-25T06:10:46.389Z"
      },
      {
        "duration": 6,
        "start_time": "2022-11-25T06:10:59.687Z"
      },
      {
        "duration": 8,
        "start_time": "2022-11-25T06:11:00.071Z"
      },
      {
        "duration": 25,
        "start_time": "2022-11-25T06:11:01.176Z"
      },
      {
        "duration": 241,
        "start_time": "2022-11-25T06:11:03.304Z"
      },
      {
        "duration": 694,
        "start_time": "2022-11-25T06:11:03.868Z"
      },
      {
        "duration": 30105,
        "start_time": "2022-11-25T06:11:05.225Z"
      },
      {
        "duration": 4,
        "start_time": "2022-11-25T06:11:39.955Z"
      },
      {
        "duration": 9,
        "start_time": "2022-11-25T06:11:40.289Z"
      },
      {
        "duration": 43,
        "start_time": "2022-11-25T06:11:46.825Z"
      },
      {
        "duration": 974,
        "start_time": "2022-11-25T06:11:47.392Z"
      },
      {
        "duration": 473,
        "start_time": "2022-11-25T06:11:48.368Z"
      },
      {
        "duration": 41120,
        "start_time": "2022-11-25T06:11:50.649Z"
      },
      {
        "duration": 35,
        "start_time": "2022-11-25T06:12:31.771Z"
      },
      {
        "duration": 732,
        "start_time": "2022-11-25T06:12:31.808Z"
      },
      {
        "duration": 400,
        "start_time": "2022-11-25T06:12:32.542Z"
      },
      {
        "duration": 30379,
        "start_time": "2022-11-25T06:12:32.945Z"
      },
      {
        "duration": 51,
        "start_time": "2022-11-25T06:13:03.326Z"
      },
      {
        "duration": 26,
        "start_time": "2022-11-25T06:13:03.378Z"
      },
      {
        "duration": 41,
        "start_time": "2022-11-25T06:13:57.219Z"
      },
      {
        "duration": 27,
        "start_time": "2022-11-25T06:13:57.601Z"
      },
      {
        "duration": 36,
        "start_time": "2022-11-25T06:14:11.554Z"
      },
      {
        "duration": 193,
        "start_time": "2022-11-25T06:14:13.101Z"
      },
      {
        "duration": 1449,
        "start_time": "2022-11-25T06:14:21.725Z"
      },
      {
        "duration": 54,
        "start_time": "2022-11-25T06:14:23.176Z"
      },
      {
        "duration": 25,
        "start_time": "2022-11-25T06:14:23.233Z"
      },
      {
        "duration": 21,
        "start_time": "2022-11-25T06:14:23.260Z"
      },
      {
        "duration": 4,
        "start_time": "2022-11-25T06:14:23.284Z"
      },
      {
        "duration": 24,
        "start_time": "2022-11-25T06:14:23.289Z"
      },
      {
        "duration": 3,
        "start_time": "2022-11-25T06:14:23.315Z"
      },
      {
        "duration": 6,
        "start_time": "2022-11-25T06:14:23.320Z"
      },
      {
        "duration": 20,
        "start_time": "2022-11-25T06:14:23.339Z"
      },
      {
        "duration": 30,
        "start_time": "2022-11-25T06:14:23.361Z"
      },
      {
        "duration": 470,
        "start_time": "2022-11-25T06:14:23.393Z"
      },
      {
        "duration": 908,
        "start_time": "2022-11-25T06:14:23.865Z"
      },
      {
        "duration": 30267,
        "start_time": "2022-11-25T06:14:24.774Z"
      },
      {
        "duration": 7,
        "start_time": "2022-11-25T06:14:55.045Z"
      },
      {
        "duration": 33,
        "start_time": "2022-11-25T06:14:55.054Z"
      },
      {
        "duration": 43,
        "start_time": "2022-11-25T06:14:55.089Z"
      },
      {
        "duration": 1009,
        "start_time": "2022-11-25T06:14:55.134Z"
      },
      {
        "duration": 390,
        "start_time": "2022-11-25T06:14:56.148Z"
      },
      {
        "duration": 40317,
        "start_time": "2022-11-25T06:14:56.540Z"
      },
      {
        "duration": 33,
        "start_time": "2022-11-25T06:15:36.859Z"
      },
      {
        "duration": 715,
        "start_time": "2022-11-25T06:15:36.894Z"
      },
      {
        "duration": 330,
        "start_time": "2022-11-25T06:15:37.610Z"
      },
      {
        "duration": 30912,
        "start_time": "2022-11-25T06:15:37.944Z"
      },
      {
        "duration": 42,
        "start_time": "2022-11-25T06:16:08.859Z"
      },
      {
        "duration": 54,
        "start_time": "2022-11-25T06:16:08.903Z"
      },
      {
        "duration": 43,
        "start_time": "2022-11-25T06:16:08.959Z"
      },
      {
        "duration": 44,
        "start_time": "2022-11-25T06:16:09.004Z"
      },
      {
        "duration": 40,
        "start_time": "2022-11-25T06:16:09.052Z"
      },
      {
        "duration": 178,
        "start_time": "2022-11-25T06:16:09.094Z"
      }
    ],
    "toc": {
      "base_numbering": 1,
      "nav_menu": {},
      "number_sections": true,
      "sideBar": true,
      "skip_h1_title": true,
      "title_cell": "Содержание",
      "title_sidebar": "Contents",
      "toc_cell": true,
      "toc_position": {
        "height": "calc(100% - 180px)",
        "left": "10px",
        "top": "150px",
        "width": "366.188px"
      },
      "toc_section_display": true,
      "toc_window_display": true
    },
    "kernelspec": {
      "name": "python",
      "display_name": "Python (Pyodide)",
      "language": "python"
    },
    "language_info": {
      "codemirror_mode": {
        "name": "python",
        "version": 3
      },
      "file_extension": ".py",
      "mimetype": "text/x-python",
      "name": "python",
      "nbconvert_exporter": "python",
      "pygments_lexer": "ipython3",
      "version": "3.8"
    }
  },
  "nbformat_minor": 4,
  "nbformat": 4,
  "cells": [
    {
      "cell_type": "markdown",
      "source": "<h1>Содержание<span class=\"tocSkip\"></span></h1>\n<div class=\"toc\"><ul class=\"toc-item\"><li><span><a href=\"#Подготовка-данных\" data-toc-modified-id=\"Подготовка-данных-1\"><span class=\"toc-item-num\">1&nbsp;&nbsp;</span>Подготовка данных</a></span></li><li><span><a href=\"#Исследование-задачи\" data-toc-modified-id=\"Исследование-задачи-2\"><span class=\"toc-item-num\">2&nbsp;&nbsp;</span>Исследование задачи</a></span></li><li><span><a href=\"#Борьба-с-дисбалансом\" data-toc-modified-id=\"Борьба-с-дисбалансом-3\"><span class=\"toc-item-num\">3&nbsp;&nbsp;</span>Борьба с дисбалансом</a></span></li><li><span><a href=\"#Тестирование-модели\" data-toc-modified-id=\"Тестирование-модели-4\"><span class=\"toc-item-num\">4&nbsp;&nbsp;</span>Тестирование модели</a></span></li></ul></div>",
      "metadata": {
        "toc": true
      }
    },
    {
      "cell_type": "markdown",
      "source": "# Отток клиентов",
      "metadata": {}
    },
    {
      "cell_type": "markdown",
      "source": "Из «Бета-Банка» стали уходить клиенты. Каждый месяц. Немного, но заметно. Банковские маркетологи посчитали: сохранять текущих клиентов дешевле, чем привлекать новых.\n\nНужно спрогнозировать, уйдёт клиент из банка в ближайшее время или нет. Вам предоставлены исторические данные о поведении клиентов и расторжении договоров с банком. \n\nПостройте модель с предельно большим значением *F1*-меры. Чтобы сдать проект успешно, нужно довести метрику до 0.59. Проверьте *F1*-меру на тестовой выборке самостоятельно.\n\nДополнительно измеряйте *AUC-ROC*, сравнивайте её значение с *F1*-мерой.\n\nИсточник данных: [https://www.kaggle.com/barelydedicated/bank-customer-churn-modeling](https://www.kaggle.com/barelydedicated/bank-customer-churn-modeling)",
      "metadata": {}
    },
    {
      "cell_type": "markdown",
      "source": "## Подготовка данных",
      "metadata": {}
    },
    {
      "cell_type": "code",
      "source": "# Импорт библиотек\nimport pandas as pd\nfrom sklearn.model_selection import train_test_split\nfrom sklearn.preprocessing import StandardScaler \nfrom sklearn.utils import shuffle\nfrom sklearn.metrics import f1_score \nfrom sklearn.tree import DecisionTreeClassifier\nfrom sklearn.linear_model import LogisticRegression\nfrom sklearn.ensemble import RandomForestClassifier \nfrom sklearn.metrics import roc_auc_score \nfrom sklearn.metrics import roc_curve\nimport matplotlib.pyplot as plt",
      "metadata": {},
      "execution_count": 1,
      "outputs": []
    },
    {
      "cell_type": "code",
      "source": "# Загрузка данных\ndata = pd.read_csv('/datasets/Churn.csv')\ndata.head()",
      "metadata": {},
      "execution_count": 2,
      "outputs": [
        {
          "execution_count": 2,
          "output_type": "execute_result",
          "data": {
            "text/html": [
              "<div>\n",
              "<style scoped>\n",
              "    .dataframe tbody tr th:only-of-type {\n",
              "        vertical-align: middle;\n",
              "    }\n",
              "\n",
              "    .dataframe tbody tr th {\n",
              "        vertical-align: top;\n",
              "    }\n",
              "\n",
              "    .dataframe thead th {\n",
              "        text-align: right;\n",
              "    }\n",
              "</style>\n",
              "<table border=\"1\" class=\"dataframe\">\n",
              "  <thead>\n",
              "    <tr style=\"text-align: right;\">\n",
              "      <th></th>\n",
              "      <th>RowNumber</th>\n",
              "      <th>CustomerId</th>\n",
              "      <th>Surname</th>\n",
              "      <th>CreditScore</th>\n",
              "      <th>Geography</th>\n",
              "      <th>Gender</th>\n",
              "      <th>Age</th>\n",
              "      <th>Tenure</th>\n",
              "      <th>Balance</th>\n",
              "      <th>NumOfProducts</th>\n",
              "      <th>HasCrCard</th>\n",
              "      <th>IsActiveMember</th>\n",
              "      <th>EstimatedSalary</th>\n",
              "      <th>Exited</th>\n",
              "    </tr>\n",
              "  </thead>\n",
              "  <tbody>\n",
              "    <tr>\n",
              "      <th>0</th>\n",
              "      <td>1</td>\n",
              "      <td>15634602</td>\n",
              "      <td>Hargrave</td>\n",
              "      <td>619</td>\n",
              "      <td>France</td>\n",
              "      <td>Female</td>\n",
              "      <td>42</td>\n",
              "      <td>2.0</td>\n",
              "      <td>0.00</td>\n",
              "      <td>1</td>\n",
              "      <td>1</td>\n",
              "      <td>1</td>\n",
              "      <td>101348.88</td>\n",
              "      <td>1</td>\n",
              "    </tr>\n",
              "    <tr>\n",
              "      <th>1</th>\n",
              "      <td>2</td>\n",
              "      <td>15647311</td>\n",
              "      <td>Hill</td>\n",
              "      <td>608</td>\n",
              "      <td>Spain</td>\n",
              "      <td>Female</td>\n",
              "      <td>41</td>\n",
              "      <td>1.0</td>\n",
              "      <td>83807.86</td>\n",
              "      <td>1</td>\n",
              "      <td>0</td>\n",
              "      <td>1</td>\n",
              "      <td>112542.58</td>\n",
              "      <td>0</td>\n",
              "    </tr>\n",
              "    <tr>\n",
              "      <th>2</th>\n",
              "      <td>3</td>\n",
              "      <td>15619304</td>\n",
              "      <td>Onio</td>\n",
              "      <td>502</td>\n",
              "      <td>France</td>\n",
              "      <td>Female</td>\n",
              "      <td>42</td>\n",
              "      <td>8.0</td>\n",
              "      <td>159660.80</td>\n",
              "      <td>3</td>\n",
              "      <td>1</td>\n",
              "      <td>0</td>\n",
              "      <td>113931.57</td>\n",
              "      <td>1</td>\n",
              "    </tr>\n",
              "    <tr>\n",
              "      <th>3</th>\n",
              "      <td>4</td>\n",
              "      <td>15701354</td>\n",
              "      <td>Boni</td>\n",
              "      <td>699</td>\n",
              "      <td>France</td>\n",
              "      <td>Female</td>\n",
              "      <td>39</td>\n",
              "      <td>1.0</td>\n",
              "      <td>0.00</td>\n",
              "      <td>2</td>\n",
              "      <td>0</td>\n",
              "      <td>0</td>\n",
              "      <td>93826.63</td>\n",
              "      <td>0</td>\n",
              "    </tr>\n",
              "    <tr>\n",
              "      <th>4</th>\n",
              "      <td>5</td>\n",
              "      <td>15737888</td>\n",
              "      <td>Mitchell</td>\n",
              "      <td>850</td>\n",
              "      <td>Spain</td>\n",
              "      <td>Female</td>\n",
              "      <td>43</td>\n",
              "      <td>2.0</td>\n",
              "      <td>125510.82</td>\n",
              "      <td>1</td>\n",
              "      <td>1</td>\n",
              "      <td>1</td>\n",
              "      <td>79084.10</td>\n",
              "      <td>0</td>\n",
              "    </tr>\n",
              "  </tbody>\n",
              "</table>\n",
              "</div>"
            ],
            "text/plain": [
              "   RowNumber  CustomerId   Surname  CreditScore Geography  Gender  Age  \\\n",
              "0          1    15634602  Hargrave          619    France  Female   42   \n",
              "1          2    15647311      Hill          608     Spain  Female   41   \n",
              "2          3    15619304      Onio          502    France  Female   42   \n",
              "3          4    15701354      Boni          699    France  Female   39   \n",
              "4          5    15737888  Mitchell          850     Spain  Female   43   \n",
              "\n",
              "   Tenure    Balance  NumOfProducts  HasCrCard  IsActiveMember  \\\n",
              "0     2.0       0.00              1          1               1   \n",
              "1     1.0   83807.86              1          0               1   \n",
              "2     8.0  159660.80              3          1               0   \n",
              "3     1.0       0.00              2          0               0   \n",
              "4     2.0  125510.82              1          1               1   \n",
              "\n",
              "   EstimatedSalary  Exited  \n",
              "0        101348.88       1  \n",
              "1        112542.58       0  \n",
              "2        113931.57       1  \n",
              "3         93826.63       0  \n",
              "4         79084.10       0  "
            ]
          },
          "metadata": {}
        }
      ]
    },
    {
      "cell_type": "code",
      "source": "data.info()",
      "metadata": {},
      "execution_count": 3,
      "outputs": [
        {
          "name": "stdout",
          "output_type": "stream",
          "text": "<class 'pandas.core.frame.DataFrame'>\n\nRangeIndex: 10000 entries, 0 to 9999\n\nData columns (total 14 columns):\n\n #   Column           Non-Null Count  Dtype  \n\n---  ------           --------------  -----  \n\n 0   RowNumber        10000 non-null  int64  \n\n 1   CustomerId       10000 non-null  int64  \n\n 2   Surname          10000 non-null  object \n\n 3   CreditScore      10000 non-null  int64  \n\n 4   Geography        10000 non-null  object \n\n 5   Gender           10000 non-null  object \n\n 6   Age              10000 non-null  int64  \n\n 7   Tenure           9091 non-null   float64\n\n 8   Balance          10000 non-null  float64\n\n 9   NumOfProducts    10000 non-null  int64  \n\n 10  HasCrCard        10000 non-null  int64  \n\n 11  IsActiveMember   10000 non-null  int64  \n\n 12  EstimatedSalary  10000 non-null  float64\n\n 13  Exited           10000 non-null  int64  \n\ndtypes: float64(3), int64(8), object(3)\n\nmemory usage: 1.1+ MB\n"
        }
      ]
    },
    {
      "cell_type": "code",
      "source": "#Проверка данных на наличие явных строк-дубликатов\nif data.duplicated().sum() == 0:\n    print('В данных нет строк с явными дубликатами.')\nelse:\n    print('В данных имеются строки дубликаты в количестве:', data.duplicated().sum())",
      "metadata": {},
      "execution_count": 4,
      "outputs": [
        {
          "name": "stdout",
          "output_type": "stream",
          "text": "В данных нет строк с явными дубликатами.\n"
        }
      ]
    },
    {
      "cell_type": "markdown",
      "source": "**Вывод:** есть 10000 строк данных, при этом столбец \"RowNumber\" выполняет функцию индекса. В данных нет строк с явными дубликатами. Пропуски находятся в столбце \"Tenure\" и составляют около 10%. Будем считать, что это новые клиенты и заполним пропуски 0.",
      "metadata": {}
    },
    {
      "cell_type": "code",
      "source": "data.loc[data['Tenure'].isna(), 'Tenure'] = 0",
      "metadata": {},
      "execution_count": 5,
      "outputs": []
    },
    {
      "cell_type": "markdown",
      "source": "Столбцы \"CustomerId\" и \"Surname\" являются способом идентификации клиента и не будут признаками при прогнозировании. Столбцы  \"Geography\" и \"Gender\" являются категориальными признаками, преобразуем их в численные с помощью техники прямого кодирования.",
      "metadata": {}
    },
    {
      "cell_type": "code",
      "source": "data = data.drop(['RowNumber', 'CustomerId', 'Surname'], axis = 1)\ndata_ohe = pd.get_dummies(data, drop_first=True)\ndata_ohe.head()",
      "metadata": {
        "scrolled": true
      },
      "execution_count": 6,
      "outputs": [
        {
          "execution_count": 6,
          "output_type": "execute_result",
          "data": {
            "text/html": [
              "<div>\n",
              "<style scoped>\n",
              "    .dataframe tbody tr th:only-of-type {\n",
              "        vertical-align: middle;\n",
              "    }\n",
              "\n",
              "    .dataframe tbody tr th {\n",
              "        vertical-align: top;\n",
              "    }\n",
              "\n",
              "    .dataframe thead th {\n",
              "        text-align: right;\n",
              "    }\n",
              "</style>\n",
              "<table border=\"1\" class=\"dataframe\">\n",
              "  <thead>\n",
              "    <tr style=\"text-align: right;\">\n",
              "      <th></th>\n",
              "      <th>CreditScore</th>\n",
              "      <th>Age</th>\n",
              "      <th>Tenure</th>\n",
              "      <th>Balance</th>\n",
              "      <th>NumOfProducts</th>\n",
              "      <th>HasCrCard</th>\n",
              "      <th>IsActiveMember</th>\n",
              "      <th>EstimatedSalary</th>\n",
              "      <th>Exited</th>\n",
              "      <th>Geography_Germany</th>\n",
              "      <th>Geography_Spain</th>\n",
              "      <th>Gender_Male</th>\n",
              "    </tr>\n",
              "  </thead>\n",
              "  <tbody>\n",
              "    <tr>\n",
              "      <th>0</th>\n",
              "      <td>619</td>\n",
              "      <td>42</td>\n",
              "      <td>2.0</td>\n",
              "      <td>0.00</td>\n",
              "      <td>1</td>\n",
              "      <td>1</td>\n",
              "      <td>1</td>\n",
              "      <td>101348.88</td>\n",
              "      <td>1</td>\n",
              "      <td>0</td>\n",
              "      <td>0</td>\n",
              "      <td>0</td>\n",
              "    </tr>\n",
              "    <tr>\n",
              "      <th>1</th>\n",
              "      <td>608</td>\n",
              "      <td>41</td>\n",
              "      <td>1.0</td>\n",
              "      <td>83807.86</td>\n",
              "      <td>1</td>\n",
              "      <td>0</td>\n",
              "      <td>1</td>\n",
              "      <td>112542.58</td>\n",
              "      <td>0</td>\n",
              "      <td>0</td>\n",
              "      <td>1</td>\n",
              "      <td>0</td>\n",
              "    </tr>\n",
              "    <tr>\n",
              "      <th>2</th>\n",
              "      <td>502</td>\n",
              "      <td>42</td>\n",
              "      <td>8.0</td>\n",
              "      <td>159660.80</td>\n",
              "      <td>3</td>\n",
              "      <td>1</td>\n",
              "      <td>0</td>\n",
              "      <td>113931.57</td>\n",
              "      <td>1</td>\n",
              "      <td>0</td>\n",
              "      <td>0</td>\n",
              "      <td>0</td>\n",
              "    </tr>\n",
              "    <tr>\n",
              "      <th>3</th>\n",
              "      <td>699</td>\n",
              "      <td>39</td>\n",
              "      <td>1.0</td>\n",
              "      <td>0.00</td>\n",
              "      <td>2</td>\n",
              "      <td>0</td>\n",
              "      <td>0</td>\n",
              "      <td>93826.63</td>\n",
              "      <td>0</td>\n",
              "      <td>0</td>\n",
              "      <td>0</td>\n",
              "      <td>0</td>\n",
              "    </tr>\n",
              "    <tr>\n",
              "      <th>4</th>\n",
              "      <td>850</td>\n",
              "      <td>43</td>\n",
              "      <td>2.0</td>\n",
              "      <td>125510.82</td>\n",
              "      <td>1</td>\n",
              "      <td>1</td>\n",
              "      <td>1</td>\n",
              "      <td>79084.10</td>\n",
              "      <td>0</td>\n",
              "      <td>0</td>\n",
              "      <td>1</td>\n",
              "      <td>0</td>\n",
              "    </tr>\n",
              "  </tbody>\n",
              "</table>\n",
              "</div>"
            ],
            "text/plain": [
              "   CreditScore  Age  Tenure    Balance  NumOfProducts  HasCrCard  \\\n",
              "0          619   42     2.0       0.00              1          1   \n",
              "1          608   41     1.0   83807.86              1          0   \n",
              "2          502   42     8.0  159660.80              3          1   \n",
              "3          699   39     1.0       0.00              2          0   \n",
              "4          850   43     2.0  125510.82              1          1   \n",
              "\n",
              "   IsActiveMember  EstimatedSalary  Exited  Geography_Germany  \\\n",
              "0               1        101348.88       1                  0   \n",
              "1               1        112542.58       0                  0   \n",
              "2               0        113931.57       1                  0   \n",
              "3               0         93826.63       0                  0   \n",
              "4               1         79084.10       0                  0   \n",
              "\n",
              "   Geography_Spain  Gender_Male  \n",
              "0                0            0  \n",
              "1                1            0  \n",
              "2                0            0  \n",
              "3                0            0  \n",
              "4                1            0  "
            ]
          },
          "metadata": {}
        }
      ]
    },
    {
      "cell_type": "markdown",
      "source": "## Исследование задачи",
      "metadata": {}
    },
    {
      "cell_type": "markdown",
      "source": "Проверим дисбаланс классов.",
      "metadata": {}
    },
    {
      "cell_type": "code",
      "source": "print(data['Exited'].sum())",
      "metadata": {},
      "execution_count": 7,
      "outputs": [
        {
          "name": "stdout",
          "output_type": "stream",
          "text": "2037\n"
        }
      ]
    },
    {
      "cell_type": "markdown",
      "source": "Из 9091 записей 2037 относятся к классу \"1\", а остальные к классу \"0\". ",
      "metadata": {}
    },
    {
      "cell_type": "markdown",
      "source": "Разделим данные на обучающую и валидационную выборки и осуществим стандартизацию признаков.",
      "metadata": {}
    },
    {
      "cell_type": "code",
      "source": "target = data['Exited']\nfeatures = data_ohe.drop('Exited', axis=1)",
      "metadata": {},
      "execution_count": 8,
      "outputs": []
    },
    {
      "cell_type": "code",
      "source": "features_train, features_valid, target_train, target_valid = train_test_split(\n    features, target, test_size=0.4, random_state=12345)\nfeatures_valid, features_test, target_valid, target_test = train_test_split(\n    features_valid, target_valid, test_size=0.5, random_state=12345)",
      "metadata": {},
      "execution_count": 9,
      "outputs": []
    },
    {
      "cell_type": "code",
      "source": "numeric = ['CreditScore', 'Age', 'Tenure', 'Balance', 'EstimatedSalary']\n\nscaler = StandardScaler()\nscaler.fit(features_train[numeric])\nfeatures_train[numeric] = scaler.transform(features_train[numeric])\nfeatures_valid[numeric]  = scaler.transform(features_valid[numeric])\nfeatures_test[numeric]  = scaler.transform(features_test[numeric])",
      "metadata": {},
      "execution_count": 10,
      "outputs": [
        {
          "name": "stderr",
          "output_type": "stream",
          "text": "/tmp/ipykernel_86/4029355310.py:5: SettingWithCopyWarning: \n\nA value is trying to be set on a copy of a slice from a DataFrame.\n\nTry using .loc[row_indexer,col_indexer] = value instead\n\n\n\nSee the caveats in the documentation: https://pandas.pydata.org/pandas-docs/stable/user_guide/indexing.html#returning-a-view-versus-a-copy\n\n  features_train[numeric] = scaler.transform(features_train[numeric])\n\n/opt/conda/lib/python3.9/site-packages/pandas/core/indexing.py:1738: SettingWithCopyWarning: \n\nA value is trying to be set on a copy of a slice from a DataFrame.\n\nTry using .loc[row_indexer,col_indexer] = value instead\n\n\n\nSee the caveats in the documentation: https://pandas.pydata.org/pandas-docs/stable/user_guide/indexing.html#returning-a-view-versus-a-copy\n\n  self._setitem_single_column(loc, value[:, i].tolist(), pi)\n"
        }
      ]
    },
    {
      "cell_type": "code",
      "source": "model = LogisticRegression(random_state=12345)\nmodel.fit(features_train, target_train)\npredicted_valid = model.predict(features_valid)\n\nprint(f1_score(target_valid, predicted_valid))",
      "metadata": {},
      "execution_count": 11,
      "outputs": [
        {
          "name": "stdout",
          "output_type": "stream",
          "text": "0.33389544688026984\n"
        }
      ]
    },
    {
      "cell_type": "code",
      "source": "#Обучим модель леса решающих деревьев\nmodel = RandomForestClassifier(random_state=12345)\nmodel.fit(features_train, target_train)\npredicted_valid = model.predict(features_valid)\n\nprint(f1_score(target_valid, predicted_valid))",
      "metadata": {},
      "execution_count": 12,
      "outputs": [
        {
          "name": "stdout",
          "output_type": "stream",
          "text": "0.5786350148367952\n"
        }
      ]
    },
    {
      "cell_type": "code",
      "source": "max_f1 = 0\nfor dept in range(2, 15):\n    for nest in range(10, 100, 10):\n        model = RandomForestClassifier(n_estimators=nest, max_depth=dept, random_state=12345)\n        model.fit(features_train, target_train)\n        \n        if f1_score(target_valid, model.predict(features_valid)) > max_f1:\n            max_f1 = f1_score(target_valid, model.predict(features_valid))\n            best_model = model\n            \nprint('f1_score =', max_f1)",
      "metadata": {},
      "execution_count": 13,
      "outputs": [
        {
          "name": "stdout",
          "output_type": "stream",
          "text": "f1_score = 0.5945945945945945\n"
        }
      ]
    },
    {
      "cell_type": "markdown",
      "source": "**Вывод:** значение метрики f1 для решающего леса чуть больше половины, при дисбалансе классов в 4 раза. Устранение дисбаланса может улучшить результат предсказания модели.",
      "metadata": {}
    },
    {
      "cell_type": "markdown",
      "source": "## Борьба с дисбалансом",
      "metadata": {}
    },
    {
      "cell_type": "markdown",
      "source": "Исправим дисбаланс классов при помощи увеличения выборки копированием строк малочисленного класса.",
      "metadata": {}
    },
    {
      "cell_type": "code",
      "source": "def upsample(features, target, repeat):\n    features_zeros = features[target == 0]\n    features_ones = features[target == 1]\n    target_zeros = target[target == 0]\n    target_ones = target[target == 1]\n\n    features_upsampled = pd.concat([features_zeros] + [features_ones] * repeat)\n    target_upsampled = pd.concat([target_zeros] + [target_ones] * repeat)\n    \n    features_upsampled, target_upsampled = shuffle(\n        features_upsampled, target_upsampled, random_state=12345)\n    \n    return features_upsampled, target_upsampled",
      "metadata": {},
      "execution_count": 14,
      "outputs": []
    },
    {
      "cell_type": "code",
      "source": "features_upsampled, target_upsampled = upsample(features_train, target_train, 4)",
      "metadata": {},
      "execution_count": 15,
      "outputs": []
    },
    {
      "cell_type": "markdown",
      "source": "Обучим несколько моделей и осуществимподбор оптимальных парааметров для лучшей.",
      "metadata": {}
    },
    {
      "cell_type": "code",
      "source": "model = DecisionTreeClassifier(random_state=12345)\nmodel.fit(features_upsampled, target_upsampled)\npredicted_valid = model.predict(features_valid)\n\nprint(f1_score(target_valid, predicted_valid))",
      "metadata": {},
      "execution_count": 16,
      "outputs": [
        {
          "name": "stdout",
          "output_type": "stream",
          "text": "0.4575645756457565\n"
        }
      ]
    },
    {
      "cell_type": "code",
      "source": "model = RandomForestClassifier(random_state=12345)\nmodel.fit(features_upsampled, target_upsampled)\npredicted_valid = model.predict(features_valid)\n\nprint(f1_score(target_valid, predicted_valid))",
      "metadata": {},
      "execution_count": 17,
      "outputs": [
        {
          "name": "stdout",
          "output_type": "stream",
          "text": "0.5992010652463382\n"
        }
      ]
    },
    {
      "cell_type": "code",
      "source": "model = LogisticRegression(random_state=12345)\nmodel.fit(features_upsampled, target_upsampled)\npredicted_valid = model.predict(features_valid)\n\nprint(f1_score(target_valid, predicted_valid))",
      "metadata": {},
      "execution_count": 18,
      "outputs": [
        {
          "name": "stdout",
          "output_type": "stream",
          "text": "0.4888888888888888\n"
        }
      ]
    },
    {
      "cell_type": "code",
      "source": "max_f1 = 0\nfor dept in range(2, 15):\n    for nest in range(10, 100, 10):\n        model = RandomForestClassifier(n_estimators=nest, max_depth=dept, random_state=12345)\n        model.fit(features_upsampled, target_upsampled)\n        \n        if f1_score(target_valid, model.predict(features_valid)) > max_f1:\n            max_f1 = f1_score(target_valid, model.predict(features_valid))\n            best_model1 = model\n            \nprint('f1_score =', max_f1)",
      "metadata": {},
      "execution_count": 19,
      "outputs": [
        {
          "name": "stdout",
          "output_type": "stream",
          "text": "f1_score = 0.626829268292683\n"
        }
      ]
    },
    {
      "cell_type": "markdown",
      "source": "Исправим дисбаланс классов при помощи взвешивания классов.",
      "metadata": {}
    },
    {
      "cell_type": "code",
      "source": "model = DecisionTreeClassifier(random_state=12345, class_weight='balanced')\nmodel.fit(features_train, target_train)\npredicted_valid = model.predict(features_valid)\n\nprint(f1_score(target_valid, predicted_valid))",
      "metadata": {},
      "execution_count": 20,
      "outputs": [
        {
          "name": "stdout",
          "output_type": "stream",
          "text": "0.45622688039457454\n"
        }
      ]
    },
    {
      "cell_type": "code",
      "source": "model = RandomForestClassifier(random_state=12345, class_weight='balanced')\nmodel.fit(features_train, target_train)\npredicted_valid = model.predict(features_valid)\n\nprint(f1_score(target_valid, predicted_valid))",
      "metadata": {},
      "execution_count": 21,
      "outputs": [
        {
          "name": "stdout",
          "output_type": "stream",
          "text": "0.5609756097560976\n"
        }
      ]
    },
    {
      "cell_type": "code",
      "source": "model = LogisticRegression(random_state=12345, class_weight='balanced')\nmodel.fit(features_train, target_train)\npredicted_valid = model.predict(features_valid)\n\nprint(f1_score(target_valid, predicted_valid))",
      "metadata": {},
      "execution_count": 22,
      "outputs": [
        {
          "name": "stdout",
          "output_type": "stream",
          "text": "0.4888888888888888\n"
        }
      ]
    },
    {
      "cell_type": "code",
      "source": "max_f1 = 0\nfor dept in range(2, 15):\n    for nest in range(10, 100, 10):\n        model = RandomForestClassifier(n_estimators=nest, max_depth=dept, random_state=12345, class_weight='balanced')\n        model.fit(features_train, target_train)\n        \n        if f1_score(target_valid, model.predict(features_valid)) > max_f1:\n            max_f1 = f1_score(target_valid, model.predict(features_valid))\n            best_model2 = model\n            \nprint('f1_score =', max_f1)",
      "metadata": {},
      "execution_count": 23,
      "outputs": [
        {
          "name": "stdout",
          "output_type": "stream",
          "text": "f1_score = 0.631236442516269\n"
        }
      ]
    },
    {
      "cell_type": "code",
      "source": "probabilities_valid = best_model1.predict_proba(features_valid)\nprobabilities_one_valid = probabilities_valid[:, 1]\n\nroc_auc_score(target_valid, probabilities_one_valid)",
      "metadata": {},
      "execution_count": 24,
      "outputs": [
        {
          "execution_count": 24,
          "output_type": "execute_result",
          "data": {
            "text/plain": [
              "0.8448083704837314"
            ]
          },
          "metadata": {}
        }
      ]
    },
    {
      "cell_type": "code",
      "source": "probabilities_valid = best_model2.predict_proba(features_valid)\nprobabilities_one_valid = probabilities_valid[:, 1]\n\nroc_auc_score(target_valid, probabilities_one_valid)",
      "metadata": {},
      "execution_count": 25,
      "outputs": [
        {
          "execution_count": 25,
          "output_type": "execute_result",
          "data": {
            "text/plain": [
              "0.8544722627163244"
            ]
          },
          "metadata": {}
        }
      ]
    },
    {
      "cell_type": "markdown",
      "source": "**Вывод:** случайный лес оказался наиболее точным классификатором. По сравнению с результатом полученным до баланса классов значение метрики f1 улучшилось. Результат полученный при взвешивании классов лучше, чем при расширении выборки, имеет смысл провести тестирование для обеих моделей.",
      "metadata": {}
    },
    {
      "cell_type": "markdown",
      "source": "## Тестирование модели",
      "metadata": {}
    },
    {
      "cell_type": "code",
      "source": "predicted_test = best_model1.predict(features_test)\nf1_score(target_test, predicted_test)",
      "metadata": {},
      "execution_count": 26,
      "outputs": [
        {
          "execution_count": 26,
          "output_type": "execute_result",
          "data": {
            "text/plain": [
              "0.6115107913669066"
            ]
          },
          "metadata": {}
        }
      ]
    },
    {
      "cell_type": "code",
      "source": "predicted_test = best_model2.predict(features_test)\nf1_score(target_test, predicted_test)",
      "metadata": {},
      "execution_count": 27,
      "outputs": [
        {
          "execution_count": 27,
          "output_type": "execute_result",
          "data": {
            "text/plain": [
              "0.6079484425349088"
            ]
          },
          "metadata": {}
        }
      ]
    },
    {
      "cell_type": "code",
      "source": "probabilities_test = best_model1.predict_proba(features_test)\nprobabilities_one_test = probabilities_test[:, 1]\n\nroc_auc_score(target_test, probabilities_one_test)",
      "metadata": {},
      "execution_count": 28,
      "outputs": [
        {
          "execution_count": 28,
          "output_type": "execute_result",
          "data": {
            "text/plain": [
              "0.8535118450659676"
            ]
          },
          "metadata": {}
        }
      ]
    },
    {
      "cell_type": "markdown",
      "source": "**Вывод:** для классификации отброшены ненужные столбцы данных, преобразованы техникой прямого кодирования, построена модель случайного леса, осуществлен перебор параметров. Достигнуто значение метрики f1 в 0.61 для тестовых данных, значения метрики AUC-ROC равно 0.85. Для тестовых данных модель обученная с расширением данных показала немного лучший результат.",
      "metadata": {}
    },
    {
      "cell_type": "code",
      "source": "fpr, tpr, thresholds = roc_curve(target_test, probabilities_one_test)\n\nplt.figure()\n\nplt.plot(fpr, tpr)\nplt.plot([0, 1], [0, 1], linestyle='--')\n\nplt.xlim([0.0, 1.0])\nplt.ylim([0.0, 1.0])\n\nplt.xlabel(\"False Positive Rate\")\nplt.ylabel(\"True Positive Rate\")\n\nplt.title(\"ROC-кривая\")\nplt.show()",
      "metadata": {},
      "execution_count": 29,
      "outputs": [
        {
          "output_type": "display_data",
          "data": {
            "image/png": "[encoded data removed]",
            "text/plain": [
              "<Figure size 432x288 with 1 Axes>"
            ]
          },
          "metadata": {
            "needs_background": "light"
          }
        }
      ]
    }
  ]
}
