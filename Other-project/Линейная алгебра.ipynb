{
  "metadata": {
    "ExecuteTimeLog": [
      {
        "duration": 390,
        "start_time": "2023-01-09T05:39:38.809Z"
      },
      {
        "duration": 92,
        "start_time": "2023-01-09T05:39:39.201Z"
      },
      {
        "duration": 10,
        "start_time": "2023-01-09T05:39:39.348Z"
      },
      {
        "duration": 37,
        "start_time": "2023-01-09T05:40:13.029Z"
      },
      {
        "duration": 64,
        "start_time": "2023-01-09T05:54:27.679Z"
      },
      {
        "duration": 8,
        "start_time": "2023-01-09T05:54:28.042Z"
      },
      {
        "duration": 4,
        "start_time": "2023-01-09T05:55:01.003Z"
      },
      {
        "duration": 8,
        "start_time": "2023-01-09T05:55:01.683Z"
      },
      {
        "duration": 3,
        "start_time": "2023-01-09T05:55:59.845Z"
      },
      {
        "duration": 4,
        "start_time": "2023-01-09T05:56:00.263Z"
      },
      {
        "duration": 3,
        "start_time": "2023-01-09T05:56:15.867Z"
      },
      {
        "duration": 4,
        "start_time": "2023-01-09T05:56:16.164Z"
      },
      {
        "duration": 3,
        "start_time": "2023-01-09T05:58:27.314Z"
      },
      {
        "duration": 4,
        "start_time": "2023-01-09T05:58:28.036Z"
      },
      {
        "duration": 3,
        "start_time": "2023-01-09T05:59:09.019Z"
      },
      {
        "duration": 5,
        "start_time": "2023-01-09T05:59:09.451Z"
      },
      {
        "duration": 4,
        "start_time": "2023-01-09T05:59:20.805Z"
      },
      {
        "duration": 5,
        "start_time": "2023-01-09T05:59:21.119Z"
      },
      {
        "duration": 4,
        "start_time": "2023-01-09T05:59:29.753Z"
      },
      {
        "duration": 5,
        "start_time": "2023-01-09T05:59:30.097Z"
      },
      {
        "duration": 3,
        "start_time": "2023-01-09T05:59:48.709Z"
      },
      {
        "duration": 5,
        "start_time": "2023-01-09T05:59:49.025Z"
      },
      {
        "duration": 4,
        "start_time": "2023-01-09T06:00:31.074Z"
      },
      {
        "duration": 4,
        "start_time": "2023-01-09T06:00:31.369Z"
      },
      {
        "duration": 4,
        "start_time": "2023-01-09T06:00:39.515Z"
      },
      {
        "duration": 4,
        "start_time": "2023-01-09T06:00:39.756Z"
      },
      {
        "duration": 4,
        "start_time": "2023-01-09T06:00:43.479Z"
      },
      {
        "duration": 4,
        "start_time": "2023-01-09T06:00:54.247Z"
      },
      {
        "duration": 6,
        "start_time": "2023-01-09T06:00:54.610Z"
      },
      {
        "duration": 5,
        "start_time": "2023-01-09T06:00:55.596Z"
      },
      {
        "duration": 5,
        "start_time": "2023-01-09T06:02:01.437Z"
      },
      {
        "duration": 4,
        "start_time": "2023-01-09T06:02:01.715Z"
      },
      {
        "duration": 4,
        "start_time": "2023-01-09T06:02:03.197Z"
      },
      {
        "duration": 3,
        "start_time": "2023-01-09T06:02:13.698Z"
      },
      {
        "duration": 4,
        "start_time": "2023-01-09T06:02:14.332Z"
      },
      {
        "duration": 4,
        "start_time": "2023-01-09T06:02:14.477Z"
      },
      {
        "duration": 3,
        "start_time": "2023-01-09T06:03:27.996Z"
      },
      {
        "duration": 5,
        "start_time": "2023-01-09T06:03:28.297Z"
      },
      {
        "duration": 4,
        "start_time": "2023-01-09T06:03:28.577Z"
      },
      {
        "duration": 4,
        "start_time": "2023-01-09T06:06:44.095Z"
      },
      {
        "duration": 1064,
        "start_time": "2023-01-10T05:58:30.441Z"
      },
      {
        "duration": 116,
        "start_time": "2023-01-10T05:58:31.507Z"
      },
      {
        "duration": 17,
        "start_time": "2023-01-10T05:58:31.625Z"
      },
      {
        "duration": 5,
        "start_time": "2023-01-10T05:58:31.644Z"
      },
      {
        "duration": 5,
        "start_time": "2023-01-10T05:58:31.652Z"
      },
      {
        "duration": 10,
        "start_time": "2023-01-10T05:58:31.659Z"
      },
      {
        "duration": 92,
        "start_time": "2023-01-10T05:58:31.670Z"
      },
      {
        "duration": 0,
        "start_time": "2023-01-10T05:58:31.763Z"
      },
      {
        "duration": 74,
        "start_time": "2023-01-10T05:58:52.103Z"
      },
      {
        "duration": 10,
        "start_time": "2023-01-10T05:58:52.650Z"
      },
      {
        "duration": 8,
        "start_time": "2023-01-10T05:59:12.827Z"
      },
      {
        "duration": 1085,
        "start_time": "2023-01-10T06:00:11.359Z"
      },
      {
        "duration": 44,
        "start_time": "2023-01-10T06:00:12.445Z"
      },
      {
        "duration": 15,
        "start_time": "2023-01-10T06:00:12.493Z"
      },
      {
        "duration": 5,
        "start_time": "2023-01-10T06:00:12.510Z"
      },
      {
        "duration": 13,
        "start_time": "2023-01-10T06:00:12.516Z"
      },
      {
        "duration": 10,
        "start_time": "2023-01-10T06:00:12.531Z"
      },
      {
        "duration": 49,
        "start_time": "2023-01-10T06:00:12.543Z"
      },
      {
        "duration": 103,
        "start_time": "2023-01-10T06:00:12.596Z"
      },
      {
        "duration": 1833,
        "start_time": "2023-01-10T06:22:32.854Z"
      },
      {
        "duration": 76,
        "start_time": "2023-01-10T06:22:34.689Z"
      },
      {
        "duration": 14,
        "start_time": "2023-01-10T06:22:34.767Z"
      },
      {
        "duration": 4,
        "start_time": "2023-01-10T06:22:34.783Z"
      },
      {
        "duration": 4,
        "start_time": "2023-01-10T06:22:34.789Z"
      },
      {
        "duration": 6,
        "start_time": "2023-01-10T06:22:34.794Z"
      },
      {
        "duration": 9,
        "start_time": "2023-01-10T06:22:34.801Z"
      },
      {
        "duration": 185,
        "start_time": "2023-01-10T06:22:34.812Z"
      },
      {
        "duration": 1124,
        "start_time": "2023-01-11T07:27:03.341Z"
      },
      {
        "duration": 119,
        "start_time": "2023-01-11T07:27:07.032Z"
      },
      {
        "duration": 15,
        "start_time": "2023-01-11T07:27:08.376Z"
      },
      {
        "duration": 5,
        "start_time": "2023-01-11T07:27:09.774Z"
      },
      {
        "duration": 3,
        "start_time": "2023-01-11T07:29:02.750Z"
      },
      {
        "duration": 3,
        "start_time": "2023-01-11T07:38:36.488Z"
      },
      {
        "duration": 1087,
        "start_time": "2023-01-11T07:40:36.865Z"
      },
      {
        "duration": 38,
        "start_time": "2023-01-11T07:40:37.954Z"
      },
      {
        "duration": 26,
        "start_time": "2023-01-11T07:40:37.994Z"
      },
      {
        "duration": 6,
        "start_time": "2023-01-11T07:40:38.024Z"
      },
      {
        "duration": 5,
        "start_time": "2023-01-11T07:40:38.032Z"
      },
      {
        "duration": 136,
        "start_time": "2023-01-11T07:40:38.039Z"
      },
      {
        "duration": 0,
        "start_time": "2023-01-11T07:40:38.177Z"
      },
      {
        "duration": 0,
        "start_time": "2023-01-11T07:40:38.178Z"
      },
      {
        "duration": 0,
        "start_time": "2023-01-11T07:40:38.180Z"
      },
      {
        "duration": 1178,
        "start_time": "2023-01-11T07:40:53.817Z"
      },
      {
        "duration": 47,
        "start_time": "2023-01-11T07:40:54.997Z"
      },
      {
        "duration": 23,
        "start_time": "2023-01-11T07:40:55.046Z"
      },
      {
        "duration": 10,
        "start_time": "2023-01-11T07:40:55.071Z"
      },
      {
        "duration": 146,
        "start_time": "2023-01-11T07:40:55.083Z"
      },
      {
        "duration": 0,
        "start_time": "2023-01-11T07:40:55.230Z"
      },
      {
        "duration": 0,
        "start_time": "2023-01-11T07:40:55.231Z"
      },
      {
        "duration": 0,
        "start_time": "2023-01-11T07:40:55.233Z"
      },
      {
        "duration": 0,
        "start_time": "2023-01-11T07:40:55.234Z"
      },
      {
        "duration": 1126,
        "start_time": "2023-01-11T07:41:05.804Z"
      },
      {
        "duration": 35,
        "start_time": "2023-01-11T07:41:06.933Z"
      },
      {
        "duration": 22,
        "start_time": "2023-01-11T07:41:06.970Z"
      },
      {
        "duration": 5,
        "start_time": "2023-01-11T07:41:06.994Z"
      },
      {
        "duration": 13,
        "start_time": "2023-01-11T07:41:07.001Z"
      },
      {
        "duration": 14,
        "start_time": "2023-01-11T07:41:07.020Z"
      },
      {
        "duration": 8,
        "start_time": "2023-01-11T07:41:07.036Z"
      },
      {
        "duration": 9,
        "start_time": "2023-01-11T07:41:07.046Z"
      },
      {
        "duration": 8,
        "start_time": "2023-01-11T07:41:07.056Z"
      }
    ],
    "toc": {
      "base_numbering": 1,
      "nav_menu": {},
      "number_sections": true,
      "sideBar": true,
      "skip_h1_title": true,
      "title_cell": "Содержание",
      "title_sidebar": "Contents",
      "toc_cell": true,
      "toc_position": {
        "height": "calc(100% - 180px)",
        "left": "10px",
        "top": "150px",
        "width": "264.188px"
      },
      "toc_section_display": true,
      "toc_window_display": true
    },
    "kernelspec": {
      "name": "python",
      "display_name": "Python (Pyodide)",
      "language": "python"
    },
    "language_info": {
      "codemirror_mode": {
        "name": "python",
        "version": 3
      },
      "file_extension": ".py",
      "mimetype": "text/x-python",
      "name": "python",
      "nbconvert_exporter": "python",
      "pygments_lexer": "ipython3",
      "version": "3.8"
    }
  },
  "nbformat_minor": 4,
  "nbformat": 4,
  "cells": [
    {
      "cell_type": "markdown",
      "source": "<h1>Содержание<span class=\"tocSkip\"></span></h1>\n<div class=\"toc\"><ul class=\"toc-item\"><li><span><a href=\"#Загрузка-данных\" data-toc-modified-id=\"Загрузка-данных-1\"><span class=\"toc-item-num\">1&nbsp;&nbsp;</span>Загрузка данных</a></span></li><li><span><a href=\"#Умножение-матриц\" data-toc-modified-id=\"Умножение-матриц-2\"><span class=\"toc-item-num\">2&nbsp;&nbsp;</span>Умножение матриц</a></span></li><li><span><a href=\"#Алгоритм-преобразования\" data-toc-modified-id=\"Алгоритм-преобразования-3\"><span class=\"toc-item-num\">3&nbsp;&nbsp;</span>Алгоритм преобразования</a></span></li><li><span><a href=\"#Проверка-алгоритма\" data-toc-modified-id=\"Проверка-алгоритма-4\"><span class=\"toc-item-num\">4&nbsp;&nbsp;</span>Проверка алгоритма</a></span></li><li><span><a href=\"#Чек-лист-проверки\" data-toc-modified-id=\"Чек-лист-проверки-5\"><span class=\"toc-item-num\">5&nbsp;&nbsp;</span>Чек-лист проверки</a></span></li></ul></div>",
      "metadata": {
        "toc": true
      }
    },
    {
      "cell_type": "markdown",
      "source": "# Защита персональных данных клиентов",
      "metadata": {}
    },
    {
      "cell_type": "markdown",
      "source": "Вам нужно защитить данные клиентов страховой компании «Хоть потоп». Разработайте такой метод преобразования данных, чтобы по ним было сложно восстановить персональную информацию. Обоснуйте корректность его работы.\n\nНужно защитить данные, чтобы при преобразовании качество моделей машинного обучения не ухудшилось. Подбирать наилучшую модель не требуется.",
      "metadata": {}
    },
    {
      "cell_type": "markdown",
      "source": "## Загрузка данных",
      "metadata": {}
    },
    {
      "cell_type": "code",
      "source": "import numpy as np\nimport pandas as pd\n\nfrom sklearn.model_selection import train_test_split\nfrom sklearn.linear_model import LinearRegression\nfrom sklearn.metrics import r2_score",
      "metadata": {},
      "execution_count": 1,
      "outputs": []
    },
    {
      "cell_type": "code",
      "source": "data = pd.read_csv('/datasets/insurance.csv')\ndata.info()",
      "metadata": {},
      "execution_count": 2,
      "outputs": [
        {
          "name": "stdout",
          "output_type": "stream",
          "text": "<class 'pandas.core.frame.DataFrame'>\n\nRangeIndex: 5000 entries, 0 to 4999\n\nData columns (total 5 columns):\n\n #   Column             Non-Null Count  Dtype  \n\n---  ------             --------------  -----  \n\n 0   Пол                5000 non-null   int64  \n\n 1   Возраст            5000 non-null   float64\n\n 2   Зарплата           5000 non-null   float64\n\n 3   Члены семьи        5000 non-null   int64  \n\n 4   Страховые выплаты  5000 non-null   int64  \n\ndtypes: float64(2), int64(3)\n\nmemory usage: 195.4 KB\n"
        }
      ]
    },
    {
      "cell_type": "code",
      "source": "data.head()",
      "metadata": {},
      "execution_count": 3,
      "outputs": [
        {
          "execution_count": 3,
          "output_type": "execute_result",
          "data": {
            "text/html": [
              "<div>\n",
              "<style scoped>\n",
              "    .dataframe tbody tr th:only-of-type {\n",
              "        vertical-align: middle;\n",
              "    }\n",
              "\n",
              "    .dataframe tbody tr th {\n",
              "        vertical-align: top;\n",
              "    }\n",
              "\n",
              "    .dataframe thead th {\n",
              "        text-align: right;\n",
              "    }\n",
              "</style>\n",
              "<table border=\"1\" class=\"dataframe\">\n",
              "  <thead>\n",
              "    <tr style=\"text-align: right;\">\n",
              "      <th></th>\n",
              "      <th>Пол</th>\n",
              "      <th>Возраст</th>\n",
              "      <th>Зарплата</th>\n",
              "      <th>Члены семьи</th>\n",
              "      <th>Страховые выплаты</th>\n",
              "    </tr>\n",
              "  </thead>\n",
              "  <tbody>\n",
              "    <tr>\n",
              "      <th>0</th>\n",
              "      <td>1</td>\n",
              "      <td>41.0</td>\n",
              "      <td>49600.0</td>\n",
              "      <td>1</td>\n",
              "      <td>0</td>\n",
              "    </tr>\n",
              "    <tr>\n",
              "      <th>1</th>\n",
              "      <td>0</td>\n",
              "      <td>46.0</td>\n",
              "      <td>38000.0</td>\n",
              "      <td>1</td>\n",
              "      <td>1</td>\n",
              "    </tr>\n",
              "    <tr>\n",
              "      <th>2</th>\n",
              "      <td>0</td>\n",
              "      <td>29.0</td>\n",
              "      <td>21000.0</td>\n",
              "      <td>0</td>\n",
              "      <td>0</td>\n",
              "    </tr>\n",
              "    <tr>\n",
              "      <th>3</th>\n",
              "      <td>0</td>\n",
              "      <td>21.0</td>\n",
              "      <td>41700.0</td>\n",
              "      <td>2</td>\n",
              "      <td>0</td>\n",
              "    </tr>\n",
              "    <tr>\n",
              "      <th>4</th>\n",
              "      <td>1</td>\n",
              "      <td>28.0</td>\n",
              "      <td>26100.0</td>\n",
              "      <td>0</td>\n",
              "      <td>0</td>\n",
              "    </tr>\n",
              "  </tbody>\n",
              "</table>\n",
              "</div>"
            ],
            "text/plain": [
              "   Пол  Возраст  Зарплата  Члены семьи  Страховые выплаты\n",
              "0    1     41.0   49600.0            1                  0\n",
              "1    0     46.0   38000.0            1                  1\n",
              "2    0     29.0   21000.0            0                  0\n",
              "3    0     21.0   41700.0            2                  0\n",
              "4    1     28.0   26100.0            0                  0"
            ]
          },
          "metadata": {}
        }
      ]
    },
    {
      "cell_type": "code",
      "source": "#Разделим данные на признаки и цели\nfeatures = data.drop('Страховые выплаты', axis=1)\nfeatures.insert(0, 'Единицы', 1)\ntarget = data['Страховые выплаты']",
      "metadata": {},
      "execution_count": 4,
      "outputs": []
    },
    {
      "cell_type": "markdown",
      "source": "Данные содержат 5000 строк по 5 значений в каждой, пропуски отсутствуют. Столбец \"Страховые выплаты\" является целевым для обучения модели.",
      "metadata": {}
    },
    {
      "cell_type": "markdown",
      "source": "## Умножение матриц",
      "metadata": {}
    },
    {
      "cell_type": "markdown",
      "source": "**Вопрос:** Признаки умножают на обратимую матрицу. Изменится ли качество линейной регрессии?\n\n**Ответ:** Не изменится. Укажите, как связаны параметры линейной регрессии в исходной задаче и в преобразованной.\n\n**Обоснование:** \nОбозначения:\n- $X$ — матрица признаков (нулевой столбец состоит из единиц)\n\n- $Y$ — вектор целевого признака\n\n- $P$ — обратимая матрица, на которую умножаются признаки\n\n- $w$ — вектор весов линейной регрессии (нулевой элемент равен сдвигу)\n\nПредсказания в исходной задаче:\n\n$\na = Xw\n$\n\nЕсли умножить исходную матрицу признаков $X$ на обратимую матрицу $P$, то после повторного обучения модели будет получен новый вектор весов линейной регрессии $w'$. Таким образом после преобразования предсказания примут следующий вид:\n\n$\na' = (XP)(w')\n$\n\n\n$\nw' = ((XP)^T XP)^{-1} (XP)^T y = (P^T X^T X P)^{-1} (XP)^T y\n$\n\n$\nw' = P^{-1} (X^T X)^{-1} (P^T)^{-1} P^T X^T y\n$\n\n$\n(P^T)^{-1} P^T = E\n$\n\n$\nw' = P^{-1} (X^T X)^{-1} X^T y\n$\n\n$\nw = (X^T X)^{-1} X^T y\n$\n\nТаким образом:\n\n$\nw = P^{-1} \\cdot w'\n$",
      "metadata": {}
    },
    {
      "cell_type": "markdown",
      "source": "## Алгоритм преобразования",
      "metadata": {}
    },
    {
      "cell_type": "markdown",
      "source": "**Алгоритм**\n\n- Получим случайную обратимую матрицу необходимого порядка.\n- Умножим признаки на обратимую матрицу. \n- Повторно обучим алгоритм.",
      "metadata": {}
    },
    {
      "cell_type": "markdown",
      "source": "**Обоснование**\n\nЗначения признаков изменятся, а результату линейно регрессии останутся прежними.",
      "metadata": {}
    },
    {
      "cell_type": "markdown",
      "source": "## Проверка алгоритма",
      "metadata": {}
    },
    {
      "cell_type": "code",
      "source": "#Генерация обратимой матрицы\nncols = features.shape[1]\ndeter = 0\nwhile deter == 0 :\n    P = np.random.randint(100, size=(ncols,ncols))\n    deter = np.linalg.det(P)",
      "metadata": {},
      "execution_count": 5,
      "outputs": []
    },
    {
      "cell_type": "code",
      "source": "features_umn = features @ P",
      "metadata": {},
      "execution_count": 6,
      "outputs": []
    },
    {
      "cell_type": "code",
      "source": "#Раздели данные на обучающую и валидационную выборки\n\nfeatures1_train, features1_valid, target1_train, target1_valid = train_test_split(\n    features, target, test_size=0.25, random_state=12345)\n\nfeatures2_train, features2_valid, target2_train, target2_valid = train_test_split(\n    features_umn, target, test_size=0.25, random_state=12345)",
      "metadata": {},
      "execution_count": 7,
      "outputs": []
    },
    {
      "cell_type": "code",
      "source": "model1 = LinearRegression()\nmodel1.fit(features1_train, target1_train)\nscore = r2_score(target1_valid, model1.predict(features1_valid))\nprint(score)",
      "metadata": {},
      "execution_count": 8,
      "outputs": [
        {
          "name": "stdout",
          "output_type": "stream",
          "text": "0.4352275712702657\n"
        }
      ]
    },
    {
      "cell_type": "code",
      "source": "model2 = LinearRegression()\nmodel2.fit(features2_train, target2_train)\nscore = r2_score(target2_valid, model2.predict(features2_valid))\nprint(score)",
      "metadata": {},
      "execution_count": 9,
      "outputs": [
        {
          "name": "stdout",
          "output_type": "stream",
          "text": "0.4352275712702627\n"
        }
      ]
    },
    {
      "cell_type": "markdown",
      "source": "Качество модели по метрике r2 не изменилось.",
      "metadata": {}
    },
    {
      "cell_type": "markdown",
      "source": "**Вывод:**\nУмножение матрицы признаков на обратимую матрицу не оказывает влияния на модель линейно регрессии. В ходе выполнения работы данный тезис был получен теоретически и проверен практически.",
      "metadata": {}
    },
    {
      "cell_type": "markdown",
      "source": "**Общий вывод:**\nДанные содержат 5000 строк по 5 значений в каждой, пропуски отсутствуют. Столбец \"Страховые выплаты\" является целевым для обучения модели.\n\nТеоретически доказано, что умножение матрицы признаков на обратимую матрицу не повлияет на модель линейной регрессии.\n\nПроверено умножением случайной обратимой матрицы на матрицу признаков, значение матрики R2 не изменилось.",
      "metadata": {}
    },
    {
      "cell_type": "code",
      "source": "",
      "metadata": {},
      "execution_count": null,
      "outputs": []
    }
  ]
}
