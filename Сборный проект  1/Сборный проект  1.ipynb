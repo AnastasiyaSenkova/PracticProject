{
  "metadata": {
    "ExecuteTimeLog": [
      {
        "duration": 337,
        "start_time": "2022-10-17T09:12:47.073Z"
      },
      {
        "duration": 83,
        "start_time": "2022-10-17T09:13:12.668Z"
      },
      {
        "duration": 13,
        "start_time": "2022-10-17T09:13:41.250Z"
      },
      {
        "duration": 15,
        "start_time": "2022-10-17T09:14:36.047Z"
      },
      {
        "duration": 48,
        "start_time": "2022-10-17T09:16:46.561Z"
      },
      {
        "duration": 13,
        "start_time": "2022-10-17T09:16:56.563Z"
      },
      {
        "duration": 430,
        "start_time": "2022-10-17T09:18:09.907Z"
      },
      {
        "duration": 50,
        "start_time": "2022-10-17T09:19:41.760Z"
      },
      {
        "duration": 52,
        "start_time": "2022-10-17T09:24:15.987Z"
      },
      {
        "duration": 62,
        "start_time": "2022-10-17T09:24:20.759Z"
      },
      {
        "duration": 50,
        "start_time": "2022-10-17T09:25:03.287Z"
      },
      {
        "duration": 70,
        "start_time": "2022-10-17T09:33:55.213Z"
      },
      {
        "duration": 19,
        "start_time": "2022-10-17T09:34:07.868Z"
      },
      {
        "duration": 675,
        "start_time": "2022-10-17T09:37:23.710Z"
      },
      {
        "duration": 19,
        "start_time": "2022-10-17T09:37:57.945Z"
      },
      {
        "duration": 5,
        "start_time": "2022-10-17T09:38:07.873Z"
      },
      {
        "duration": 4,
        "start_time": "2022-10-17T09:38:10.390Z"
      },
      {
        "duration": 13,
        "start_time": "2022-10-17T09:38:26.313Z"
      },
      {
        "duration": 5,
        "start_time": "2022-10-17T09:38:51.501Z"
      },
      {
        "duration": 14,
        "start_time": "2022-10-17T09:38:52.062Z"
      },
      {
        "duration": 14,
        "start_time": "2022-10-17T09:40:06.341Z"
      },
      {
        "duration": 11,
        "start_time": "2022-10-17T09:43:44.945Z"
      },
      {
        "duration": 6,
        "start_time": "2022-10-17T09:50:56.672Z"
      },
      {
        "duration": 13,
        "start_time": "2022-10-17T09:51:30.769Z"
      },
      {
        "duration": 7,
        "start_time": "2022-10-17T09:51:49.716Z"
      },
      {
        "duration": 54,
        "start_time": "2022-10-17T09:54:08.504Z"
      },
      {
        "duration": 6,
        "start_time": "2022-10-17T09:57:33.155Z"
      },
      {
        "duration": 63,
        "start_time": "2022-10-17T09:57:59.934Z"
      },
      {
        "duration": 12,
        "start_time": "2022-10-17T09:58:04.995Z"
      },
      {
        "duration": 25,
        "start_time": "2022-10-17T09:58:14.396Z"
      },
      {
        "duration": 20,
        "start_time": "2022-10-17T09:59:09.199Z"
      },
      {
        "duration": 25,
        "start_time": "2022-10-17T10:06:01.342Z"
      },
      {
        "duration": 250,
        "start_time": "2022-10-17T10:06:42.618Z"
      },
      {
        "duration": 6,
        "start_time": "2022-10-17T10:06:47.843Z"
      },
      {
        "duration": 13,
        "start_time": "2022-10-17T10:06:49.551Z"
      },
      {
        "duration": 124,
        "start_time": "2022-10-17T10:07:03.498Z"
      },
      {
        "duration": 4,
        "start_time": "2022-10-17T10:07:05.630Z"
      },
      {
        "duration": 13,
        "start_time": "2022-10-17T10:07:06.906Z"
      },
      {
        "duration": 15,
        "start_time": "2022-10-17T10:08:40.578Z"
      },
      {
        "duration": 5,
        "start_time": "2022-10-17T10:09:59.434Z"
      },
      {
        "duration": 787,
        "start_time": "2022-10-17T10:12:46.949Z"
      },
      {
        "duration": 125,
        "start_time": "2022-10-17T10:13:12.086Z"
      },
      {
        "duration": 131,
        "start_time": "2022-10-17T10:14:54.461Z"
      },
      {
        "duration": 4,
        "start_time": "2022-10-17T10:15:11.181Z"
      },
      {
        "duration": 18,
        "start_time": "2022-10-17T10:15:23.873Z"
      },
      {
        "duration": 8,
        "start_time": "2022-10-17T10:16:04.439Z"
      },
      {
        "duration": 128,
        "start_time": "2022-10-17T10:16:15.474Z"
      },
      {
        "duration": 127,
        "start_time": "2022-10-17T10:17:21.945Z"
      },
      {
        "duration": 123,
        "start_time": "2022-10-17T10:18:16.582Z"
      },
      {
        "duration": 9,
        "start_time": "2022-10-17T10:21:02.136Z"
      },
      {
        "duration": 8,
        "start_time": "2022-10-17T10:21:32.449Z"
      },
      {
        "duration": 12,
        "start_time": "2022-10-17T10:22:53.881Z"
      },
      {
        "duration": 9,
        "start_time": "2022-10-17T10:24:43.276Z"
      },
      {
        "duration": 410,
        "start_time": "2022-10-18T04:00:15.688Z"
      },
      {
        "duration": 87,
        "start_time": "2022-10-18T04:00:16.100Z"
      },
      {
        "duration": 14,
        "start_time": "2022-10-18T04:00:16.188Z"
      },
      {
        "duration": 29,
        "start_time": "2022-10-18T04:00:16.203Z"
      },
      {
        "duration": 5,
        "start_time": "2022-10-18T04:00:16.233Z"
      },
      {
        "duration": 420,
        "start_time": "2022-10-18T04:00:16.239Z"
      },
      {
        "duration": 11,
        "start_time": "2022-10-18T04:00:16.660Z"
      },
      {
        "duration": 262,
        "start_time": "2022-10-18T04:00:16.672Z"
      },
      {
        "duration": 5,
        "start_time": "2022-10-18T04:00:16.935Z"
      },
      {
        "duration": 14,
        "start_time": "2022-10-18T04:00:16.942Z"
      },
      {
        "duration": 13,
        "start_time": "2022-10-18T04:00:16.957Z"
      },
      {
        "duration": 3,
        "start_time": "2022-10-18T04:00:16.971Z"
      },
      {
        "duration": 147,
        "start_time": "2022-10-18T04:00:16.976Z"
      },
      {
        "duration": 744,
        "start_time": "2022-10-18T04:00:19.380Z"
      },
      {
        "duration": 7,
        "start_time": "2022-10-18T04:00:29.780Z"
      },
      {
        "duration": 8,
        "start_time": "2022-10-18T04:00:41.728Z"
      },
      {
        "duration": 6,
        "start_time": "2022-10-18T04:00:46.633Z"
      },
      {
        "duration": 8,
        "start_time": "2022-10-18T04:00:59.888Z"
      },
      {
        "duration": 10,
        "start_time": "2022-10-18T04:03:50.208Z"
      },
      {
        "duration": 14,
        "start_time": "2022-10-18T04:04:00.932Z"
      },
      {
        "duration": 186,
        "start_time": "2022-10-18T04:04:21.019Z"
      },
      {
        "duration": 108,
        "start_time": "2022-10-18T04:04:51.232Z"
      },
      {
        "duration": 149,
        "start_time": "2022-10-18T04:04:54.253Z"
      },
      {
        "duration": 185,
        "start_time": "2022-10-18T04:05:03.416Z"
      },
      {
        "duration": 289,
        "start_time": "2022-10-18T04:05:27.188Z"
      },
      {
        "duration": 115,
        "start_time": "2022-10-18T04:05:43.352Z"
      },
      {
        "duration": 187,
        "start_time": "2022-10-18T04:05:50.662Z"
      },
      {
        "duration": 362,
        "start_time": "2022-10-18T04:13:40.425Z"
      },
      {
        "duration": 182,
        "start_time": "2022-10-18T04:15:44.223Z"
      },
      {
        "duration": 183,
        "start_time": "2022-10-18T04:16:05.802Z"
      },
      {
        "duration": 351,
        "start_time": "2022-10-18T04:16:36.582Z"
      },
      {
        "duration": 333,
        "start_time": "2022-10-18T04:17:20.186Z"
      },
      {
        "duration": 757,
        "start_time": "2022-10-18T04:17:42.576Z"
      },
      {
        "duration": 341,
        "start_time": "2022-10-18T04:17:51.757Z"
      },
      {
        "duration": 69,
        "start_time": "2022-10-18T04:20:35.964Z"
      },
      {
        "duration": 332,
        "start_time": "2022-10-18T04:21:55.825Z"
      },
      {
        "duration": 347,
        "start_time": "2022-10-18T04:22:38.823Z"
      },
      {
        "duration": 341,
        "start_time": "2022-10-18T04:22:50.528Z"
      },
      {
        "duration": 7,
        "start_time": "2022-10-18T04:25:08.741Z"
      },
      {
        "duration": 8,
        "start_time": "2022-10-18T04:25:19.783Z"
      },
      {
        "duration": 7,
        "start_time": "2022-10-18T08:49:42.549Z"
      },
      {
        "duration": 11,
        "start_time": "2022-10-18T08:50:21.767Z"
      },
      {
        "duration": 12,
        "start_time": "2022-10-18T08:50:42.663Z"
      },
      {
        "duration": 239,
        "start_time": "2022-10-18T08:50:57.849Z"
      },
      {
        "duration": 387,
        "start_time": "2022-10-18T08:51:35.710Z"
      },
      {
        "duration": 10,
        "start_time": "2022-10-18T08:51:46.196Z"
      },
      {
        "duration": 174,
        "start_time": "2022-10-18T08:51:56.545Z"
      },
      {
        "duration": 11,
        "start_time": "2022-10-18T08:52:23.478Z"
      },
      {
        "duration": 309,
        "start_time": "2022-10-18T08:52:30.679Z"
      },
      {
        "duration": 296,
        "start_time": "2022-10-18T08:52:53.072Z"
      },
      {
        "duration": 104,
        "start_time": "2022-10-18T08:53:15.870Z"
      },
      {
        "duration": 11,
        "start_time": "2022-10-18T08:53:33.001Z"
      },
      {
        "duration": 11,
        "start_time": "2022-10-18T08:53:40.474Z"
      },
      {
        "duration": 13,
        "start_time": "2022-10-18T08:53:46.365Z"
      },
      {
        "duration": 271,
        "start_time": "2022-10-18T08:56:03.155Z"
      },
      {
        "duration": 106,
        "start_time": "2022-10-18T08:56:40.831Z"
      },
      {
        "duration": 9,
        "start_time": "2022-10-18T08:58:02.904Z"
      },
      {
        "duration": 106,
        "start_time": "2022-10-18T08:58:14.936Z"
      },
      {
        "duration": 6090,
        "start_time": "2022-10-18T08:59:45.113Z"
      },
      {
        "duration": 10,
        "start_time": "2022-10-18T09:00:34.471Z"
      },
      {
        "duration": 723,
        "start_time": "2022-10-18T09:01:58.261Z"
      },
      {
        "duration": 418,
        "start_time": "2022-10-18T09:03:19.638Z"
      },
      {
        "duration": 18,
        "start_time": "2022-10-18T09:03:46.936Z"
      },
      {
        "duration": 15,
        "start_time": "2022-10-18T09:04:57.476Z"
      },
      {
        "duration": 614,
        "start_time": "2022-10-18T09:05:51.449Z"
      },
      {
        "duration": 504,
        "start_time": "2022-10-18T09:06:01.266Z"
      },
      {
        "duration": 441,
        "start_time": "2022-10-18T09:06:16.687Z"
      },
      {
        "duration": 8,
        "start_time": "2022-10-18T09:08:47.838Z"
      },
      {
        "duration": 3,
        "start_time": "2022-10-18T09:09:02.290Z"
      },
      {
        "duration": 615,
        "start_time": "2022-10-18T09:09:06.372Z"
      },
      {
        "duration": 588,
        "start_time": "2022-10-18T09:10:25.775Z"
      },
      {
        "duration": 490,
        "start_time": "2022-10-18T09:10:53.834Z"
      },
      {
        "duration": 794,
        "start_time": "2022-10-18T09:18:46.282Z"
      },
      {
        "duration": 955,
        "start_time": "2022-10-18T09:18:56.225Z"
      },
      {
        "duration": 339,
        "start_time": "2022-10-18T09:19:03.934Z"
      },
      {
        "duration": 787,
        "start_time": "2022-10-18T09:21:06.835Z"
      },
      {
        "duration": 1264,
        "start_time": "2022-10-18T09:21:15.650Z"
      },
      {
        "duration": 8,
        "start_time": "2022-10-18T09:21:59.484Z"
      },
      {
        "duration": 996,
        "start_time": "2022-10-18T09:22:08.440Z"
      },
      {
        "duration": 6,
        "start_time": "2022-10-18T09:22:41.516Z"
      },
      {
        "duration": 9,
        "start_time": "2022-10-18T09:22:59.560Z"
      },
      {
        "duration": 6,
        "start_time": "2022-10-18T09:23:11.001Z"
      },
      {
        "duration": 2310,
        "start_time": "2022-10-18T09:24:16.082Z"
      },
      {
        "duration": 2442,
        "start_time": "2022-10-18T09:26:55.204Z"
      },
      {
        "duration": 942,
        "start_time": "2022-10-18T09:28:04.585Z"
      },
      {
        "duration": 871,
        "start_time": "2022-10-18T09:28:21.064Z"
      },
      {
        "duration": 264,
        "start_time": "2022-10-18T09:28:59.089Z"
      },
      {
        "duration": 253,
        "start_time": "2022-10-18T09:29:05.692Z"
      },
      {
        "duration": 6,
        "start_time": "2022-10-18T09:29:27.135Z"
      },
      {
        "duration": 5,
        "start_time": "2022-10-18T09:29:36.436Z"
      },
      {
        "duration": 6,
        "start_time": "2022-10-18T09:29:37.582Z"
      },
      {
        "duration": 6,
        "start_time": "2022-10-18T09:36:20.559Z"
      },
      {
        "duration": 6,
        "start_time": "2022-10-18T09:36:28.446Z"
      },
      {
        "duration": 9,
        "start_time": "2022-10-18T09:36:49.918Z"
      },
      {
        "duration": 8,
        "start_time": "2022-10-18T09:36:59.355Z"
      },
      {
        "duration": 8,
        "start_time": "2022-10-18T09:37:04.468Z"
      },
      {
        "duration": 7,
        "start_time": "2022-10-18T09:37:09.556Z"
      },
      {
        "duration": 7,
        "start_time": "2022-10-18T09:37:20.939Z"
      },
      {
        "duration": 49,
        "start_time": "2022-10-18T09:41:36.745Z"
      },
      {
        "duration": 367,
        "start_time": "2022-10-18T09:41:45.790Z"
      },
      {
        "duration": 4615,
        "start_time": "2022-10-18T09:42:15.064Z"
      },
      {
        "duration": 291,
        "start_time": "2022-10-18T09:42:26.395Z"
      },
      {
        "duration": 6,
        "start_time": "2022-10-18T09:42:29.641Z"
      },
      {
        "duration": 6,
        "start_time": "2022-10-18T09:42:30.145Z"
      },
      {
        "duration": 3,
        "start_time": "2022-10-18T09:42:50.169Z"
      },
      {
        "duration": 50,
        "start_time": "2022-10-18T09:42:50.609Z"
      },
      {
        "duration": 12,
        "start_time": "2022-10-18T09:42:52.636Z"
      },
      {
        "duration": 21,
        "start_time": "2022-10-18T09:42:54.537Z"
      },
      {
        "duration": 5,
        "start_time": "2022-10-18T09:42:57.179Z"
      },
      {
        "duration": 14,
        "start_time": "2022-10-18T09:43:06.406Z"
      },
      {
        "duration": 5,
        "start_time": "2022-10-18T09:43:13.207Z"
      },
      {
        "duration": 130,
        "start_time": "2022-10-18T09:43:15.350Z"
      },
      {
        "duration": 9,
        "start_time": "2022-10-18T09:43:17.932Z"
      },
      {
        "duration": 200,
        "start_time": "2022-10-18T09:43:20.124Z"
      },
      {
        "duration": 404,
        "start_time": "2022-10-18T09:43:22.344Z"
      },
      {
        "duration": 12,
        "start_time": "2022-10-18T09:43:25.732Z"
      },
      {
        "duration": 468,
        "start_time": "2022-10-18T09:43:27.899Z"
      },
      {
        "duration": 110,
        "start_time": "2022-10-18T09:43:31.274Z"
      },
      {
        "duration": 156,
        "start_time": "2022-10-18T09:43:37.089Z"
      },
      {
        "duration": 6,
        "start_time": "2022-10-18T09:43:42.220Z"
      },
      {
        "duration": 2,
        "start_time": "2022-10-18T09:43:59.903Z"
      },
      {
        "duration": 62,
        "start_time": "2022-10-18T09:43:59.908Z"
      },
      {
        "duration": 13,
        "start_time": "2022-10-18T09:43:59.971Z"
      },
      {
        "duration": 25,
        "start_time": "2022-10-18T09:43:59.986Z"
      },
      {
        "duration": 23,
        "start_time": "2022-10-18T09:44:00.012Z"
      },
      {
        "duration": 44,
        "start_time": "2022-10-18T09:44:00.037Z"
      },
      {
        "duration": 16,
        "start_time": "2022-10-18T09:44:00.083Z"
      },
      {
        "duration": 9933,
        "start_time": "2022-10-18T09:44:00.101Z"
      },
      {
        "duration": 6,
        "start_time": "2022-10-18T09:44:10.035Z"
      },
      {
        "duration": 19,
        "start_time": "2022-10-18T09:44:10.043Z"
      },
      {
        "duration": 14,
        "start_time": "2022-10-18T09:44:10.063Z"
      },
      {
        "duration": 4,
        "start_time": "2022-10-18T09:44:10.078Z"
      },
      {
        "duration": 138,
        "start_time": "2022-10-18T09:44:10.084Z"
      },
      {
        "duration": 8,
        "start_time": "2022-10-18T09:44:10.224Z"
      },
      {
        "duration": 390,
        "start_time": "2022-10-18T09:44:10.233Z"
      },
      {
        "duration": 423,
        "start_time": "2022-10-18T09:44:10.624Z"
      },
      {
        "duration": 8,
        "start_time": "2022-10-18T09:44:11.048Z"
      },
      {
        "duration": 481,
        "start_time": "2022-10-18T09:44:11.058Z"
      },
      {
        "duration": 307,
        "start_time": "2022-10-18T09:44:11.541Z"
      },
      {
        "duration": 6,
        "start_time": "2022-10-18T09:44:11.850Z"
      },
      {
        "duration": 8,
        "start_time": "2022-10-18T09:44:11.857Z"
      },
      {
        "duration": 221,
        "start_time": "2022-10-18T09:47:50.249Z"
      },
      {
        "duration": 110,
        "start_time": "2022-10-18T09:48:17.026Z"
      },
      {
        "duration": 12,
        "start_time": "2022-10-18T09:48:22.571Z"
      },
      {
        "duration": 6,
        "start_time": "2022-10-18T09:48:31.955Z"
      },
      {
        "duration": 20,
        "start_time": "2022-10-18T09:49:42.872Z"
      },
      {
        "duration": 25,
        "start_time": "2022-10-18T09:54:25.168Z"
      },
      {
        "duration": 29,
        "start_time": "2022-10-18T09:56:59.828Z"
      },
      {
        "duration": 8,
        "start_time": "2022-10-18T09:57:09.942Z"
      },
      {
        "duration": 26,
        "start_time": "2022-10-18T09:57:17.926Z"
      },
      {
        "duration": 27,
        "start_time": "2022-10-18T09:57:27.590Z"
      },
      {
        "duration": 27,
        "start_time": "2022-10-18T10:00:42.769Z"
      },
      {
        "duration": 49,
        "start_time": "2022-10-19T04:56:14.535Z"
      },
      {
        "duration": 737,
        "start_time": "2022-10-19T04:56:21.676Z"
      },
      {
        "duration": 92,
        "start_time": "2022-10-19T04:56:22.415Z"
      },
      {
        "duration": 16,
        "start_time": "2022-10-19T04:56:22.509Z"
      },
      {
        "duration": 34,
        "start_time": "2022-10-19T04:56:22.527Z"
      },
      {
        "duration": 4,
        "start_time": "2022-10-19T04:56:22.563Z"
      },
      {
        "duration": 74,
        "start_time": "2022-10-19T04:56:22.569Z"
      },
      {
        "duration": 12,
        "start_time": "2022-10-19T04:56:22.644Z"
      },
      {
        "duration": 9720,
        "start_time": "2022-10-19T04:56:22.657Z"
      },
      {
        "duration": 6,
        "start_time": "2022-10-19T04:56:32.379Z"
      },
      {
        "duration": 18,
        "start_time": "2022-10-19T04:56:32.388Z"
      },
      {
        "duration": 26,
        "start_time": "2022-10-19T04:56:32.408Z"
      },
      {
        "duration": 5,
        "start_time": "2022-10-19T04:56:32.435Z"
      },
      {
        "duration": 160,
        "start_time": "2022-10-19T04:56:32.441Z"
      },
      {
        "duration": 20,
        "start_time": "2022-10-19T04:56:32.603Z"
      },
      {
        "duration": 238,
        "start_time": "2022-10-19T04:56:32.625Z"
      },
      {
        "duration": 407,
        "start_time": "2022-10-19T04:56:32.864Z"
      },
      {
        "duration": 9,
        "start_time": "2022-10-19T04:56:33.273Z"
      },
      {
        "duration": 586,
        "start_time": "2022-10-19T04:56:33.283Z"
      },
      {
        "duration": 285,
        "start_time": "2022-10-19T04:56:33.871Z"
      },
      {
        "duration": 5,
        "start_time": "2022-10-19T04:56:34.158Z"
      },
      {
        "duration": 14,
        "start_time": "2022-10-19T04:56:34.164Z"
      },
      {
        "duration": 42,
        "start_time": "2022-10-19T04:56:34.180Z"
      },
      {
        "duration": 27,
        "start_time": "2022-10-19T04:56:42.236Z"
      },
      {
        "duration": 4,
        "start_time": "2022-10-19T04:58:45.060Z"
      },
      {
        "duration": 9,
        "start_time": "2022-10-19T04:58:56.903Z"
      },
      {
        "duration": 46,
        "start_time": "2022-10-19T04:59:13.436Z"
      },
      {
        "duration": 8,
        "start_time": "2022-10-19T04:59:27.919Z"
      },
      {
        "duration": 9,
        "start_time": "2022-10-19T09:34:43.476Z"
      },
      {
        "duration": 4939,
        "start_time": "2022-10-19T09:38:30.108Z"
      },
      {
        "duration": 15,
        "start_time": "2022-10-19T09:38:53.080Z"
      },
      {
        "duration": 5013,
        "start_time": "2022-10-19T09:39:34.725Z"
      },
      {
        "duration": 5107,
        "start_time": "2022-10-19T09:40:58.802Z"
      },
      {
        "duration": 5419,
        "start_time": "2022-10-19T09:41:14.839Z"
      },
      {
        "duration": 3,
        "start_time": "2022-10-19T09:43:25.540Z"
      },
      {
        "duration": 4873,
        "start_time": "2022-10-19T09:43:26.072Z"
      },
      {
        "duration": 4,
        "start_time": "2022-10-19T09:43:37.902Z"
      },
      {
        "duration": 15,
        "start_time": "2022-10-19T09:43:38.328Z"
      },
      {
        "duration": 21,
        "start_time": "2022-10-19T09:43:38.871Z"
      },
      {
        "duration": 8,
        "start_time": "2022-10-19T09:43:45.347Z"
      },
      {
        "duration": 5,
        "start_time": "2022-10-19T09:44:56.917Z"
      },
      {
        "duration": 5,
        "start_time": "2022-10-19T09:44:57.403Z"
      },
      {
        "duration": 5,
        "start_time": "2022-10-19T09:45:45.028Z"
      },
      {
        "duration": 6,
        "start_time": "2022-10-19T09:45:48.288Z"
      },
      {
        "duration": 10,
        "start_time": "2022-10-19T09:48:31.660Z"
      },
      {
        "duration": 6,
        "start_time": "2022-10-19T09:48:36.041Z"
      },
      {
        "duration": 9,
        "start_time": "2022-10-19T09:48:36.562Z"
      },
      {
        "duration": 6,
        "start_time": "2022-10-19T09:48:57.339Z"
      },
      {
        "duration": 6,
        "start_time": "2022-10-19T09:49:57.602Z"
      },
      {
        "duration": 13,
        "start_time": "2022-10-19T09:49:58.239Z"
      },
      {
        "duration": 9,
        "start_time": "2022-10-19T09:49:59.053Z"
      },
      {
        "duration": 9,
        "start_time": "2022-10-19T09:50:04.543Z"
      },
      {
        "duration": 11,
        "start_time": "2022-10-19T09:50:19.069Z"
      },
      {
        "duration": 8,
        "start_time": "2022-10-19T09:50:20.105Z"
      },
      {
        "duration": 4,
        "start_time": "2022-10-19T09:51:38.570Z"
      },
      {
        "duration": 8,
        "start_time": "2022-10-19T09:51:44.173Z"
      },
      {
        "duration": 1109,
        "start_time": "2022-10-19T09:52:42.846Z"
      },
      {
        "duration": 12,
        "start_time": "2022-10-19T09:52:50.284Z"
      },
      {
        "duration": 12,
        "start_time": "2022-10-19T09:52:55.183Z"
      },
      {
        "duration": 9,
        "start_time": "2022-10-19T09:52:56.761Z"
      },
      {
        "duration": 12,
        "start_time": "2022-10-19T09:53:43.447Z"
      },
      {
        "duration": 12,
        "start_time": "2022-10-19T09:53:48.202Z"
      },
      {
        "duration": 9,
        "start_time": "2022-10-19T09:53:50.144Z"
      },
      {
        "duration": 13,
        "start_time": "2022-10-19T09:54:01.750Z"
      },
      {
        "duration": 9,
        "start_time": "2022-10-19T09:54:02.062Z"
      },
      {
        "duration": 13,
        "start_time": "2022-10-19T09:55:26.539Z"
      },
      {
        "duration": 27,
        "start_time": "2022-10-19T10:05:39.066Z"
      },
      {
        "duration": 13,
        "start_time": "2022-10-19T10:05:47.133Z"
      },
      {
        "duration": 8,
        "start_time": "2022-10-19T10:05:51.333Z"
      },
      {
        "duration": 13,
        "start_time": "2022-10-19T10:06:07.665Z"
      },
      {
        "duration": 11,
        "start_time": "2022-10-19T10:06:53.578Z"
      },
      {
        "duration": 92,
        "start_time": "2022-10-19T10:06:55.047Z"
      },
      {
        "duration": 12,
        "start_time": "2022-10-19T10:07:02.951Z"
      },
      {
        "duration": 9,
        "start_time": "2022-10-19T10:07:11.644Z"
      },
      {
        "duration": 10,
        "start_time": "2022-10-19T10:07:13.660Z"
      },
      {
        "duration": 49,
        "start_time": "2022-10-20T05:32:07.625Z"
      },
      {
        "duration": 787,
        "start_time": "2022-10-20T05:32:12.584Z"
      },
      {
        "duration": 88,
        "start_time": "2022-10-20T05:32:13.374Z"
      },
      {
        "duration": 14,
        "start_time": "2022-10-20T05:32:13.464Z"
      },
      {
        "duration": 15,
        "start_time": "2022-10-20T05:32:13.480Z"
      },
      {
        "duration": 5,
        "start_time": "2022-10-20T05:32:13.497Z"
      },
      {
        "duration": 80,
        "start_time": "2022-10-20T05:32:13.503Z"
      },
      {
        "duration": 10,
        "start_time": "2022-10-20T05:32:13.584Z"
      },
      {
        "duration": 11,
        "start_time": "2022-10-20T05:32:13.596Z"
      },
      {
        "duration": 11154,
        "start_time": "2022-10-20T05:32:13.609Z"
      },
      {
        "duration": 6,
        "start_time": "2022-10-20T05:32:24.764Z"
      },
      {
        "duration": 24,
        "start_time": "2022-10-20T05:32:24.772Z"
      },
      {
        "duration": 63,
        "start_time": "2022-10-20T05:32:24.797Z"
      },
      {
        "duration": 5,
        "start_time": "2022-10-20T05:32:24.862Z"
      },
      {
        "duration": 310,
        "start_time": "2022-10-20T05:32:24.870Z"
      },
      {
        "duration": 8,
        "start_time": "2022-10-20T05:32:25.181Z"
      },
      {
        "duration": 236,
        "start_time": "2022-10-20T05:32:25.191Z"
      },
      {
        "duration": 412,
        "start_time": "2022-10-20T05:32:25.429Z"
      },
      {
        "duration": 15,
        "start_time": "2022-10-20T05:32:25.843Z"
      },
      {
        "duration": 603,
        "start_time": "2022-10-20T05:32:25.860Z"
      },
      {
        "duration": 311,
        "start_time": "2022-10-20T05:32:26.465Z"
      },
      {
        "duration": 5,
        "start_time": "2022-10-20T05:32:26.778Z"
      },
      {
        "duration": 10,
        "start_time": "2022-10-20T05:32:26.785Z"
      },
      {
        "duration": 39,
        "start_time": "2022-10-20T05:32:26.796Z"
      },
      {
        "duration": 22,
        "start_time": "2022-10-20T05:32:26.836Z"
      },
      {
        "duration": 9,
        "start_time": "2022-10-20T05:32:26.860Z"
      },
      {
        "duration": 20,
        "start_time": "2022-10-20T05:32:26.870Z"
      },
      {
        "duration": 8,
        "start_time": "2022-10-20T05:32:26.892Z"
      },
      {
        "duration": 15,
        "start_time": "2022-10-20T05:32:26.902Z"
      },
      {
        "duration": 10,
        "start_time": "2022-10-20T05:32:26.919Z"
      },
      {
        "duration": 32,
        "start_time": "2022-10-20T05:32:26.930Z"
      },
      {
        "duration": 14,
        "start_time": "2022-10-20T05:32:26.963Z"
      },
      {
        "duration": 21,
        "start_time": "2022-10-20T05:32:26.978Z"
      },
      {
        "duration": 23,
        "start_time": "2022-10-20T05:32:27.000Z"
      },
      {
        "duration": 28,
        "start_time": "2022-10-20T05:32:27.024Z"
      },
      {
        "duration": 56,
        "start_time": "2022-10-20T05:32:27.053Z"
      },
      {
        "duration": 184,
        "start_time": "2022-10-20T05:32:41.151Z"
      },
      {
        "duration": 10,
        "start_time": "2022-10-20T05:33:33.581Z"
      },
      {
        "duration": 902,
        "start_time": "2022-10-20T05:35:09.043Z"
      },
      {
        "duration": 116,
        "start_time": "2022-10-20T05:35:51.740Z"
      },
      {
        "duration": 184,
        "start_time": "2022-10-20T05:36:03.759Z"
      },
      {
        "duration": 843,
        "start_time": "2022-10-20T05:36:24.418Z"
      },
      {
        "duration": 13,
        "start_time": "2022-10-20T05:36:48.698Z"
      },
      {
        "duration": 105,
        "start_time": "2022-10-20T05:37:17.770Z"
      },
      {
        "duration": 97,
        "start_time": "2022-10-20T05:37:58.108Z"
      },
      {
        "duration": 5,
        "start_time": "2022-10-20T05:38:23.941Z"
      },
      {
        "duration": 759,
        "start_time": "2022-10-20T05:38:52.279Z"
      },
      {
        "duration": 11,
        "start_time": "2022-10-20T05:39:06.440Z"
      },
      {
        "duration": 5,
        "start_time": "2022-10-20T05:39:21.366Z"
      },
      {
        "duration": 13,
        "start_time": "2022-10-20T05:39:51.693Z"
      },
      {
        "duration": 11,
        "start_time": "2022-10-20T05:40:40.390Z"
      },
      {
        "duration": 8,
        "start_time": "2022-10-20T05:40:43.637Z"
      },
      {
        "duration": 14,
        "start_time": "2022-10-20T05:40:51.610Z"
      },
      {
        "duration": 9,
        "start_time": "2022-10-20T05:40:52.025Z"
      },
      {
        "duration": 12,
        "start_time": "2022-10-20T05:41:25.380Z"
      },
      {
        "duration": 9,
        "start_time": "2022-10-20T05:41:25.659Z"
      },
      {
        "duration": 14,
        "start_time": "2022-10-20T05:41:51.579Z"
      },
      {
        "duration": 9,
        "start_time": "2022-10-20T05:41:54.638Z"
      },
      {
        "duration": 11,
        "start_time": "2022-10-20T05:41:59.893Z"
      },
      {
        "duration": 9,
        "start_time": "2022-10-20T05:42:00.170Z"
      },
      {
        "duration": 11,
        "start_time": "2022-10-20T05:45:32.035Z"
      },
      {
        "duration": 9,
        "start_time": "2022-10-20T05:45:35.289Z"
      },
      {
        "duration": 791,
        "start_time": "2022-10-21T05:00:32.252Z"
      },
      {
        "duration": 224,
        "start_time": "2022-10-21T05:00:33.045Z"
      },
      {
        "duration": 14,
        "start_time": "2022-10-21T05:00:33.271Z"
      },
      {
        "duration": 14,
        "start_time": "2022-10-21T05:00:33.287Z"
      },
      {
        "duration": 4,
        "start_time": "2022-10-21T05:00:33.303Z"
      },
      {
        "duration": 59,
        "start_time": "2022-10-21T05:00:33.308Z"
      },
      {
        "duration": 9,
        "start_time": "2022-10-21T05:00:33.369Z"
      },
      {
        "duration": 3,
        "start_time": "2022-10-21T05:00:33.380Z"
      },
      {
        "duration": 9311,
        "start_time": "2022-10-21T05:00:33.385Z"
      },
      {
        "duration": 5,
        "start_time": "2022-10-21T05:00:42.698Z"
      },
      {
        "duration": 21,
        "start_time": "2022-10-21T05:00:42.705Z"
      },
      {
        "duration": 14,
        "start_time": "2022-10-21T05:00:42.728Z"
      },
      {
        "duration": 5,
        "start_time": "2022-10-21T05:00:42.744Z"
      },
      {
        "duration": 167,
        "start_time": "2022-10-21T05:00:42.751Z"
      },
      {
        "duration": 7,
        "start_time": "2022-10-21T05:00:42.923Z"
      },
      {
        "duration": 211,
        "start_time": "2022-10-21T05:00:42.932Z"
      },
      {
        "duration": 363,
        "start_time": "2022-10-21T05:00:43.145Z"
      },
      {
        "duration": 14,
        "start_time": "2022-10-21T05:00:43.510Z"
      },
      {
        "duration": 537,
        "start_time": "2022-10-21T05:00:43.526Z"
      },
      {
        "duration": 279,
        "start_time": "2022-10-21T05:00:44.065Z"
      },
      {
        "duration": 5,
        "start_time": "2022-10-21T05:00:44.346Z"
      },
      {
        "duration": 5,
        "start_time": "2022-10-21T05:00:44.353Z"
      },
      {
        "duration": 27,
        "start_time": "2022-10-21T05:00:44.360Z"
      },
      {
        "duration": 40,
        "start_time": "2022-10-21T05:00:44.389Z"
      },
      {
        "duration": 7,
        "start_time": "2022-10-21T05:00:44.431Z"
      },
      {
        "duration": 12,
        "start_time": "2022-10-21T05:00:44.440Z"
      },
      {
        "duration": 8,
        "start_time": "2022-10-21T05:00:44.453Z"
      },
      {
        "duration": 15,
        "start_time": "2022-10-21T05:00:44.466Z"
      },
      {
        "duration": 8,
        "start_time": "2022-10-21T05:00:44.483Z"
      },
      {
        "duration": 42,
        "start_time": "2022-10-21T05:00:44.493Z"
      },
      {
        "duration": 9,
        "start_time": "2022-10-21T05:00:44.536Z"
      },
      {
        "duration": 13,
        "start_time": "2022-10-21T05:00:44.546Z"
      },
      {
        "duration": 7,
        "start_time": "2022-10-21T05:00:44.560Z"
      },
      {
        "duration": 12,
        "start_time": "2022-10-21T05:00:44.569Z"
      },
      {
        "duration": 7,
        "start_time": "2022-10-21T05:00:44.582Z"
      },
      {
        "duration": 36,
        "start_time": "2022-10-21T05:00:44.591Z"
      },
      {
        "duration": 8,
        "start_time": "2022-10-21T05:00:44.629Z"
      },
      {
        "duration": 11,
        "start_time": "2022-10-21T05:00:44.639Z"
      },
      {
        "duration": 8,
        "start_time": "2022-10-21T05:00:44.651Z"
      },
      {
        "duration": 10,
        "start_time": "2022-10-21T05:00:44.661Z"
      },
      {
        "duration": 519,
        "start_time": "2022-10-21T05:06:02.841Z"
      },
      {
        "duration": 5,
        "start_time": "2022-10-21T05:07:25.793Z"
      },
      {
        "duration": 10,
        "start_time": "2022-10-21T05:09:19.901Z"
      },
      {
        "duration": 13,
        "start_time": "2022-10-21T05:13:22.944Z"
      },
      {
        "duration": 1430,
        "start_time": "2022-10-21T05:48:50.279Z"
      },
      {
        "duration": 0,
        "start_time": "2022-10-21T05:48:51.711Z"
      },
      {
        "duration": 1404,
        "start_time": "2022-10-21T05:49:05.369Z"
      },
      {
        "duration": 13,
        "start_time": "2022-10-21T05:49:27.788Z"
      },
      {
        "duration": 14,
        "start_time": "2022-10-21T05:49:28.720Z"
      },
      {
        "duration": 608,
        "start_time": "2022-10-21T13:07:42.938Z"
      },
      {
        "duration": 54,
        "start_time": "2022-10-21T13:07:43.547Z"
      },
      {
        "duration": 13,
        "start_time": "2022-10-21T13:07:43.602Z"
      },
      {
        "duration": 31,
        "start_time": "2022-10-21T13:07:43.617Z"
      },
      {
        "duration": 4,
        "start_time": "2022-10-21T13:07:43.650Z"
      },
      {
        "duration": 51,
        "start_time": "2022-10-21T13:07:43.656Z"
      },
      {
        "duration": 9,
        "start_time": "2022-10-21T13:07:43.708Z"
      },
      {
        "duration": 18,
        "start_time": "2022-10-21T13:07:43.718Z"
      },
      {
        "duration": 9633,
        "start_time": "2022-10-21T13:07:43.737Z"
      },
      {
        "duration": 7,
        "start_time": "2022-10-21T13:07:53.374Z"
      },
      {
        "duration": 36,
        "start_time": "2022-10-21T13:07:53.383Z"
      },
      {
        "duration": 21,
        "start_time": "2022-10-21T13:07:53.421Z"
      },
      {
        "duration": 25,
        "start_time": "2022-10-21T13:07:53.443Z"
      },
      {
        "duration": 142,
        "start_time": "2022-10-21T13:07:53.470Z"
      },
      {
        "duration": 8,
        "start_time": "2022-10-21T13:07:53.614Z"
      },
      {
        "duration": 205,
        "start_time": "2022-10-21T13:07:53.624Z"
      },
      {
        "duration": 369,
        "start_time": "2022-10-21T13:07:53.830Z"
      },
      {
        "duration": 14,
        "start_time": "2022-10-21T13:07:54.200Z"
      },
      {
        "duration": 585,
        "start_time": "2022-10-21T13:07:54.215Z"
      },
      {
        "duration": 258,
        "start_time": "2022-10-21T13:07:54.802Z"
      },
      {
        "duration": 5,
        "start_time": "2022-10-21T13:07:55.062Z"
      },
      {
        "duration": 23,
        "start_time": "2022-10-21T13:07:55.068Z"
      },
      {
        "duration": 48,
        "start_time": "2022-10-21T13:07:55.092Z"
      },
      {
        "duration": 10,
        "start_time": "2022-10-21T13:07:55.142Z"
      },
      {
        "duration": 25,
        "start_time": "2022-10-21T13:07:55.153Z"
      },
      {
        "duration": 28,
        "start_time": "2022-10-21T13:07:55.180Z"
      },
      {
        "duration": 25,
        "start_time": "2022-10-21T13:07:55.210Z"
      },
      {
        "duration": 18,
        "start_time": "2022-10-21T13:07:55.239Z"
      },
      {
        "duration": 23,
        "start_time": "2022-10-21T13:07:55.258Z"
      },
      {
        "duration": 18,
        "start_time": "2022-10-21T13:07:55.282Z"
      },
      {
        "duration": 17,
        "start_time": "2022-10-21T13:07:55.301Z"
      },
      {
        "duration": 25,
        "start_time": "2022-10-21T13:07:55.320Z"
      },
      {
        "duration": 15,
        "start_time": "2022-10-21T13:07:55.346Z"
      },
      {
        "duration": 20,
        "start_time": "2022-10-21T13:07:55.362Z"
      },
      {
        "duration": 13,
        "start_time": "2022-10-21T13:07:55.383Z"
      },
      {
        "duration": 23,
        "start_time": "2022-10-21T13:07:55.398Z"
      },
      {
        "duration": 31,
        "start_time": "2022-10-21T13:07:55.422Z"
      },
      {
        "duration": 25,
        "start_time": "2022-10-21T13:07:55.455Z"
      },
      {
        "duration": 16,
        "start_time": "2022-10-21T13:07:55.481Z"
      },
      {
        "duration": 28,
        "start_time": "2022-10-21T13:07:55.498Z"
      },
      {
        "duration": 13,
        "start_time": "2022-10-21T13:07:55.528Z"
      },
      {
        "duration": 520,
        "start_time": "2022-10-21T13:07:55.542Z"
      },
      {
        "duration": 4,
        "start_time": "2022-10-21T13:07:56.064Z"
      },
      {
        "duration": 24,
        "start_time": "2022-10-21T13:07:56.069Z"
      },
      {
        "duration": 23,
        "start_time": "2022-10-21T13:07:56.094Z"
      },
      {
        "duration": 596,
        "start_time": "2022-10-21T13:36:54.498Z"
      },
      {
        "duration": 54,
        "start_time": "2022-10-21T13:36:55.096Z"
      },
      {
        "duration": 14,
        "start_time": "2022-10-21T13:36:55.152Z"
      },
      {
        "duration": 14,
        "start_time": "2022-10-21T13:36:55.168Z"
      },
      {
        "duration": 4,
        "start_time": "2022-10-21T13:36:55.184Z"
      },
      {
        "duration": 69,
        "start_time": "2022-10-21T13:36:55.190Z"
      },
      {
        "duration": 11,
        "start_time": "2022-10-21T13:36:55.261Z"
      },
      {
        "duration": 2,
        "start_time": "2022-10-21T13:36:55.274Z"
      },
      {
        "duration": 9676,
        "start_time": "2022-10-21T13:36:55.277Z"
      },
      {
        "duration": 5,
        "start_time": "2022-10-21T13:37:04.956Z"
      },
      {
        "duration": 25,
        "start_time": "2022-10-21T13:37:04.963Z"
      },
      {
        "duration": 18,
        "start_time": "2022-10-21T13:37:04.989Z"
      },
      {
        "duration": 15,
        "start_time": "2022-10-21T13:37:05.008Z"
      },
      {
        "duration": 146,
        "start_time": "2022-10-21T13:37:05.024Z"
      },
      {
        "duration": 7,
        "start_time": "2022-10-21T13:37:05.171Z"
      },
      {
        "duration": 225,
        "start_time": "2022-10-21T13:37:05.179Z"
      },
      {
        "duration": 353,
        "start_time": "2022-10-21T13:37:05.408Z"
      },
      {
        "duration": 8,
        "start_time": "2022-10-21T13:37:05.762Z"
      },
      {
        "duration": 520,
        "start_time": "2022-10-21T13:37:05.772Z"
      },
      {
        "duration": 278,
        "start_time": "2022-10-21T13:37:06.294Z"
      },
      {
        "duration": 4,
        "start_time": "2022-10-21T13:37:06.574Z"
      },
      {
        "duration": 11,
        "start_time": "2022-10-21T13:37:06.580Z"
      },
      {
        "duration": 37,
        "start_time": "2022-10-21T13:37:06.592Z"
      },
      {
        "duration": 10,
        "start_time": "2022-10-21T13:37:06.631Z"
      },
      {
        "duration": 7,
        "start_time": "2022-10-21T13:37:06.643Z"
      },
      {
        "duration": 11,
        "start_time": "2022-10-21T13:37:06.651Z"
      },
      {
        "duration": 7,
        "start_time": "2022-10-21T13:37:06.663Z"
      },
      {
        "duration": 10,
        "start_time": "2022-10-21T13:37:06.673Z"
      },
      {
        "duration": 31,
        "start_time": "2022-10-21T13:37:06.684Z"
      },
      {
        "duration": 11,
        "start_time": "2022-10-21T13:37:06.716Z"
      },
      {
        "duration": 6,
        "start_time": "2022-10-21T13:37:06.728Z"
      },
      {
        "duration": 10,
        "start_time": "2022-10-21T13:37:06.736Z"
      },
      {
        "duration": 7,
        "start_time": "2022-10-21T13:37:06.747Z"
      },
      {
        "duration": 11,
        "start_time": "2022-10-21T13:37:06.755Z"
      },
      {
        "duration": 6,
        "start_time": "2022-10-21T13:37:06.768Z"
      },
      {
        "duration": 42,
        "start_time": "2022-10-21T13:37:06.775Z"
      },
      {
        "duration": 8,
        "start_time": "2022-10-21T13:37:06.818Z"
      },
      {
        "duration": 13,
        "start_time": "2022-10-21T13:37:06.827Z"
      },
      {
        "duration": 8,
        "start_time": "2022-10-21T13:37:06.841Z"
      },
      {
        "duration": 13,
        "start_time": "2022-10-21T13:37:06.850Z"
      },
      {
        "duration": 7,
        "start_time": "2022-10-21T13:37:06.864Z"
      },
      {
        "duration": 495,
        "start_time": "2022-10-21T13:37:06.872Z"
      },
      {
        "duration": 5,
        "start_time": "2022-10-21T13:37:07.369Z"
      },
      {
        "duration": 22,
        "start_time": "2022-10-21T13:37:07.376Z"
      },
      {
        "duration": 28,
        "start_time": "2022-10-21T13:37:07.400Z"
      },
      {
        "duration": 820,
        "start_time": "2022-10-24T06:05:20.876Z"
      },
      {
        "duration": 253,
        "start_time": "2022-10-24T06:05:21.698Z"
      },
      {
        "duration": 21,
        "start_time": "2022-10-24T06:05:21.953Z"
      },
      {
        "duration": 21,
        "start_time": "2022-10-24T06:05:21.977Z"
      },
      {
        "duration": 25,
        "start_time": "2022-10-24T06:05:22.001Z"
      },
      {
        "duration": 81,
        "start_time": "2022-10-24T06:05:22.029Z"
      },
      {
        "duration": 21,
        "start_time": "2022-10-24T06:05:22.112Z"
      },
      {
        "duration": 3,
        "start_time": "2022-10-24T06:05:22.135Z"
      },
      {
        "duration": 4,
        "start_time": "2022-10-24T06:05:27.877Z"
      },
      {
        "duration": 6,
        "start_time": "2022-10-24T06:14:34.337Z"
      },
      {
        "duration": 74,
        "start_time": "2022-10-24T06:14:37.606Z"
      },
      {
        "duration": 7,
        "start_time": "2022-10-24T06:15:50.873Z"
      },
      {
        "duration": 9,
        "start_time": "2022-10-24T06:16:54.247Z"
      },
      {
        "duration": 5,
        "start_time": "2022-10-24T06:17:08.571Z"
      },
      {
        "duration": 20,
        "start_time": "2022-10-24T06:17:11.040Z"
      },
      {
        "duration": 662,
        "start_time": "2022-10-24T06:17:23.949Z"
      },
      {
        "duration": 74,
        "start_time": "2022-10-24T06:17:24.613Z"
      },
      {
        "duration": 17,
        "start_time": "2022-10-24T06:17:24.688Z"
      },
      {
        "duration": 16,
        "start_time": "2022-10-24T06:17:24.707Z"
      },
      {
        "duration": 5,
        "start_time": "2022-10-24T06:17:24.726Z"
      },
      {
        "duration": 58,
        "start_time": "2022-10-24T06:17:24.733Z"
      },
      {
        "duration": 33,
        "start_time": "2022-10-24T06:17:24.793Z"
      },
      {
        "duration": 2,
        "start_time": "2022-10-24T06:17:24.830Z"
      },
      {
        "duration": 6,
        "start_time": "2022-10-24T06:17:24.834Z"
      },
      {
        "duration": 7,
        "start_time": "2022-10-24T06:17:24.842Z"
      },
      {
        "duration": 6,
        "start_time": "2022-10-24T06:17:27.375Z"
      },
      {
        "duration": 16,
        "start_time": "2022-10-24T06:17:29.131Z"
      },
      {
        "duration": 21,
        "start_time": "2022-10-24T06:17:37.306Z"
      },
      {
        "duration": 5,
        "start_time": "2022-10-24T06:21:03.099Z"
      },
      {
        "duration": 234,
        "start_time": "2022-10-24T06:21:09.167Z"
      },
      {
        "duration": 30,
        "start_time": "2022-10-24T06:21:23.232Z"
      },
      {
        "duration": 7,
        "start_time": "2022-10-24T06:22:18.244Z"
      },
      {
        "duration": 634,
        "start_time": "2022-10-24T06:22:40.837Z"
      },
      {
        "duration": 72,
        "start_time": "2022-10-24T06:22:41.473Z"
      },
      {
        "duration": 15,
        "start_time": "2022-10-24T06:22:41.546Z"
      },
      {
        "duration": 17,
        "start_time": "2022-10-24T06:22:41.562Z"
      },
      {
        "duration": 6,
        "start_time": "2022-10-24T06:22:41.581Z"
      },
      {
        "duration": 91,
        "start_time": "2022-10-24T06:22:41.589Z"
      },
      {
        "duration": 13,
        "start_time": "2022-10-24T06:22:41.682Z"
      },
      {
        "duration": 3,
        "start_time": "2022-10-24T06:22:41.696Z"
      },
      {
        "duration": 23,
        "start_time": "2022-10-24T06:22:41.702Z"
      },
      {
        "duration": 7,
        "start_time": "2022-10-24T06:22:41.728Z"
      },
      {
        "duration": 10,
        "start_time": "2022-10-24T06:22:41.737Z"
      },
      {
        "duration": 16,
        "start_time": "2022-10-24T06:22:41.749Z"
      },
      {
        "duration": 18,
        "start_time": "2022-10-24T06:22:41.766Z"
      },
      {
        "duration": 42,
        "start_time": "2022-10-24T06:22:41.787Z"
      },
      {
        "duration": 198,
        "start_time": "2022-10-24T06:22:41.831Z"
      },
      {
        "duration": 14,
        "start_time": "2022-10-24T06:22:42.031Z"
      },
      {
        "duration": 268,
        "start_time": "2022-10-24T06:22:42.047Z"
      },
      {
        "duration": 420,
        "start_time": "2022-10-24T06:22:42.317Z"
      },
      {
        "duration": 9,
        "start_time": "2022-10-24T06:22:42.739Z"
      },
      {
        "duration": 9,
        "start_time": "2022-10-24T06:22:42.750Z"
      },
      {
        "duration": 22,
        "start_time": "2022-10-24T06:22:44.283Z"
      },
      {
        "duration": 344,
        "start_time": "2022-10-24T06:22:53.283Z"
      },
      {
        "duration": 308,
        "start_time": "2022-10-24T06:23:42.991Z"
      },
      {
        "duration": 6,
        "start_time": "2022-10-24T06:24:03.613Z"
      },
      {
        "duration": 5,
        "start_time": "2022-10-24T06:24:04.256Z"
      },
      {
        "duration": 294,
        "start_time": "2022-10-24T06:25:28.541Z"
      },
      {
        "duration": 5,
        "start_time": "2022-10-24T06:25:46.364Z"
      },
      {
        "duration": 6,
        "start_time": "2022-10-24T06:25:51.652Z"
      },
      {
        "duration": 6,
        "start_time": "2022-10-24T06:27:17.059Z"
      },
      {
        "duration": 5,
        "start_time": "2022-10-24T06:27:29.164Z"
      },
      {
        "duration": 5,
        "start_time": "2022-10-24T06:27:35.792Z"
      },
      {
        "duration": 33,
        "start_time": "2022-10-24T06:27:47.402Z"
      },
      {
        "duration": 11,
        "start_time": "2022-10-24T06:28:09.443Z"
      },
      {
        "duration": 8,
        "start_time": "2022-10-24T06:28:10.345Z"
      },
      {
        "duration": 12,
        "start_time": "2022-10-24T06:28:14.866Z"
      },
      {
        "duration": 8,
        "start_time": "2022-10-24T06:28:15.278Z"
      },
      {
        "duration": 13,
        "start_time": "2022-10-24T06:28:16.056Z"
      },
      {
        "duration": 9,
        "start_time": "2022-10-24T06:28:16.456Z"
      },
      {
        "duration": 13,
        "start_time": "2022-10-24T06:28:35.698Z"
      },
      {
        "duration": 8,
        "start_time": "2022-10-24T06:28:36.204Z"
      },
      {
        "duration": 11,
        "start_time": "2022-10-24T06:28:36.861Z"
      },
      {
        "duration": 9,
        "start_time": "2022-10-24T06:28:37.309Z"
      },
      {
        "duration": 12,
        "start_time": "2022-10-24T06:28:39.597Z"
      },
      {
        "duration": 8,
        "start_time": "2022-10-24T06:28:40.035Z"
      },
      {
        "duration": 30,
        "start_time": "2022-10-24T06:29:53.455Z"
      },
      {
        "duration": 10,
        "start_time": "2022-10-24T06:32:36.595Z"
      },
      {
        "duration": 8,
        "start_time": "2022-10-24T06:32:37.432Z"
      },
      {
        "duration": 12,
        "start_time": "2022-10-24T06:32:41.002Z"
      },
      {
        "duration": 10,
        "start_time": "2022-10-24T06:32:41.487Z"
      },
      {
        "duration": 12,
        "start_time": "2022-10-24T06:32:45.743Z"
      },
      {
        "duration": 10,
        "start_time": "2022-10-24T06:32:46.211Z"
      },
      {
        "duration": 13,
        "start_time": "2022-10-24T06:36:44.008Z"
      },
      {
        "duration": 9,
        "start_time": "2022-10-24T06:36:44.470Z"
      },
      {
        "duration": 11,
        "start_time": "2022-10-24T06:36:46.938Z"
      },
      {
        "duration": 8,
        "start_time": "2022-10-24T06:36:47.357Z"
      },
      {
        "duration": 11,
        "start_time": "2022-10-24T06:36:50.932Z"
      },
      {
        "duration": 9,
        "start_time": "2022-10-24T06:36:51.370Z"
      },
      {
        "duration": 687,
        "start_time": "2022-10-24T06:37:14.541Z"
      },
      {
        "duration": 73,
        "start_time": "2022-10-24T06:37:15.230Z"
      },
      {
        "duration": 15,
        "start_time": "2022-10-24T06:37:15.304Z"
      },
      {
        "duration": 16,
        "start_time": "2022-10-24T06:37:15.321Z"
      },
      {
        "duration": 5,
        "start_time": "2022-10-24T06:37:15.339Z"
      },
      {
        "duration": 61,
        "start_time": "2022-10-24T06:37:15.345Z"
      },
      {
        "duration": 26,
        "start_time": "2022-10-24T06:37:15.408Z"
      },
      {
        "duration": 3,
        "start_time": "2022-10-24T06:37:15.436Z"
      },
      {
        "duration": 7,
        "start_time": "2022-10-24T06:37:15.441Z"
      },
      {
        "duration": 9,
        "start_time": "2022-10-24T06:37:15.450Z"
      },
      {
        "duration": 8,
        "start_time": "2022-10-24T06:37:15.460Z"
      },
      {
        "duration": 15,
        "start_time": "2022-10-24T06:37:15.470Z"
      },
      {
        "duration": 47,
        "start_time": "2022-10-24T06:37:15.487Z"
      },
      {
        "duration": 5,
        "start_time": "2022-10-24T06:37:15.537Z"
      },
      {
        "duration": 169,
        "start_time": "2022-10-24T06:37:15.544Z"
      },
      {
        "duration": 10,
        "start_time": "2022-10-24T06:37:15.723Z"
      },
      {
        "duration": 240,
        "start_time": "2022-10-24T06:37:15.735Z"
      },
      {
        "duration": 427,
        "start_time": "2022-10-24T06:37:15.977Z"
      },
      {
        "duration": 9,
        "start_time": "2022-10-24T06:37:16.406Z"
      },
      {
        "duration": 7,
        "start_time": "2022-10-24T06:37:16.424Z"
      },
      {
        "duration": 342,
        "start_time": "2022-10-24T06:37:16.432Z"
      },
      {
        "duration": 299,
        "start_time": "2022-10-24T06:37:16.776Z"
      },
      {
        "duration": 5,
        "start_time": "2022-10-24T06:37:17.077Z"
      },
      {
        "duration": 9,
        "start_time": "2022-10-24T06:37:17.084Z"
      },
      {
        "duration": 319,
        "start_time": "2022-10-24T06:37:17.094Z"
      },
      {
        "duration": 11,
        "start_time": "2022-10-24T06:37:17.416Z"
      },
      {
        "duration": 6,
        "start_time": "2022-10-24T06:37:17.429Z"
      },
      {
        "duration": 37,
        "start_time": "2022-10-24T06:37:17.437Z"
      },
      {
        "duration": 58,
        "start_time": "2022-10-24T06:37:17.475Z"
      },
      {
        "duration": 11,
        "start_time": "2022-10-24T06:37:17.535Z"
      },
      {
        "duration": 8,
        "start_time": "2022-10-24T06:37:17.548Z"
      },
      {
        "duration": 12,
        "start_time": "2022-10-24T06:37:17.558Z"
      },
      {
        "duration": 8,
        "start_time": "2022-10-24T06:37:17.572Z"
      },
      {
        "duration": 13,
        "start_time": "2022-10-24T06:37:17.581Z"
      },
      {
        "duration": 9,
        "start_time": "2022-10-24T06:37:17.623Z"
      },
      {
        "duration": 14,
        "start_time": "2022-10-24T06:37:17.634Z"
      },
      {
        "duration": 9,
        "start_time": "2022-10-24T06:37:17.649Z"
      },
      {
        "duration": 11,
        "start_time": "2022-10-24T06:37:17.660Z"
      },
      {
        "duration": 8,
        "start_time": "2022-10-24T06:37:17.673Z"
      },
      {
        "duration": 49,
        "start_time": "2022-10-24T06:37:17.683Z"
      },
      {
        "duration": 12,
        "start_time": "2022-10-24T06:37:54.010Z"
      },
      {
        "duration": 11,
        "start_time": "2022-10-24T06:41:15.984Z"
      },
      {
        "duration": 9,
        "start_time": "2022-10-24T06:41:16.374Z"
      },
      {
        "duration": 16,
        "start_time": "2022-10-24T06:41:19.718Z"
      },
      {
        "duration": 9,
        "start_time": "2022-10-24T06:41:20.071Z"
      },
      {
        "duration": 12,
        "start_time": "2022-10-24T06:41:53.513Z"
      },
      {
        "duration": 9,
        "start_time": "2022-10-24T06:41:54.363Z"
      },
      {
        "duration": 88,
        "start_time": "2022-10-24T06:46:16.783Z"
      },
      {
        "duration": 477,
        "start_time": "2022-10-24T06:46:39.794Z"
      },
      {
        "duration": 6,
        "start_time": "2022-10-24T06:46:54.965Z"
      },
      {
        "duration": 10,
        "start_time": "2022-10-24T06:46:55.494Z"
      },
      {
        "duration": 13,
        "start_time": "2022-10-24T06:47:16.322Z"
      },
      {
        "duration": 11,
        "start_time": "2022-10-24T06:48:58.408Z"
      },
      {
        "duration": 15,
        "start_time": "2022-10-24T06:50:02.601Z"
      },
      {
        "duration": 9,
        "start_time": "2022-10-24T06:50:34.440Z"
      },
      {
        "duration": 13,
        "start_time": "2022-10-24T06:50:47.463Z"
      },
      {
        "duration": 10,
        "start_time": "2022-10-24T06:51:10.798Z"
      },
      {
        "duration": 9,
        "start_time": "2022-10-24T06:51:35.688Z"
      },
      {
        "duration": 61,
        "start_time": "2022-10-24T15:29:24.643Z"
      },
      {
        "duration": 582,
        "start_time": "2022-10-24T15:29:43.362Z"
      },
      {
        "duration": 774,
        "start_time": "2022-10-24T15:29:54.282Z"
      },
      {
        "duration": 1095,
        "start_time": "2022-10-24T15:30:07.348Z"
      },
      {
        "duration": 110,
        "start_time": "2022-10-24T15:30:08.446Z"
      },
      {
        "duration": 13,
        "start_time": "2022-10-24T15:30:08.557Z"
      },
      {
        "duration": 17,
        "start_time": "2022-10-24T15:30:08.574Z"
      },
      {
        "duration": 5,
        "start_time": "2022-10-24T15:30:08.593Z"
      },
      {
        "duration": 60,
        "start_time": "2022-10-24T15:30:08.599Z"
      },
      {
        "duration": 10,
        "start_time": "2022-10-24T15:30:08.661Z"
      },
      {
        "duration": 2,
        "start_time": "2022-10-24T15:30:08.673Z"
      },
      {
        "duration": 6,
        "start_time": "2022-10-24T15:30:08.677Z"
      },
      {
        "duration": 25,
        "start_time": "2022-10-24T15:30:08.685Z"
      },
      {
        "duration": 7,
        "start_time": "2022-10-24T15:30:08.711Z"
      },
      {
        "duration": 23,
        "start_time": "2022-10-24T15:30:08.719Z"
      },
      {
        "duration": 14,
        "start_time": "2022-10-24T15:30:08.743Z"
      },
      {
        "duration": 4,
        "start_time": "2022-10-24T15:30:08.758Z"
      },
      {
        "duration": 151,
        "start_time": "2022-10-24T15:30:08.763Z"
      },
      {
        "duration": 9,
        "start_time": "2022-10-24T15:30:08.916Z"
      },
      {
        "duration": 213,
        "start_time": "2022-10-24T15:30:08.927Z"
      },
      {
        "duration": 388,
        "start_time": "2022-10-24T15:30:09.142Z"
      },
      {
        "duration": 8,
        "start_time": "2022-10-24T15:30:09.531Z"
      },
      {
        "duration": 4,
        "start_time": "2022-10-24T15:30:09.540Z"
      },
      {
        "duration": 278,
        "start_time": "2022-10-24T15:30:09.545Z"
      },
      {
        "duration": 354,
        "start_time": "2022-10-24T15:30:09.825Z"
      },
      {
        "duration": 352,
        "start_time": "2022-10-24T15:30:10.180Z"
      },
      {
        "duration": 6,
        "start_time": "2022-10-24T15:30:10.535Z"
      },
      {
        "duration": 11,
        "start_time": "2022-10-24T15:30:10.542Z"
      },
      {
        "duration": 289,
        "start_time": "2022-10-24T15:30:10.555Z"
      },
      {
        "duration": 5,
        "start_time": "2022-10-24T15:30:10.846Z"
      },
      {
        "duration": 13,
        "start_time": "2022-10-24T15:30:10.854Z"
      },
      {
        "duration": 48,
        "start_time": "2022-10-24T15:30:10.869Z"
      },
      {
        "duration": 27,
        "start_time": "2022-10-24T15:30:10.919Z"
      },
      {
        "duration": 11,
        "start_time": "2022-10-24T15:30:10.948Z"
      },
      {
        "duration": 8,
        "start_time": "2022-10-24T15:30:10.961Z"
      },
      {
        "duration": 10,
        "start_time": "2022-10-24T15:30:10.970Z"
      },
      {
        "duration": 8,
        "start_time": "2022-10-24T15:30:11.009Z"
      },
      {
        "duration": 13,
        "start_time": "2022-10-24T15:30:11.019Z"
      },
      {
        "duration": 7,
        "start_time": "2022-10-24T15:30:11.034Z"
      },
      {
        "duration": 15,
        "start_time": "2022-10-24T15:30:11.043Z"
      },
      {
        "duration": 8,
        "start_time": "2022-10-24T15:30:11.060Z"
      },
      {
        "duration": 15,
        "start_time": "2022-10-24T15:30:11.069Z"
      },
      {
        "duration": 30,
        "start_time": "2022-10-24T15:30:11.085Z"
      },
      {
        "duration": 13,
        "start_time": "2022-10-24T15:30:11.116Z"
      },
      {
        "duration": 7,
        "start_time": "2022-10-24T15:30:11.130Z"
      },
      {
        "duration": 11,
        "start_time": "2022-10-24T15:30:11.139Z"
      },
      {
        "duration": 9,
        "start_time": "2022-10-24T15:30:11.151Z"
      },
      {
        "duration": 11,
        "start_time": "2022-10-24T15:30:11.161Z"
      },
      {
        "duration": 37,
        "start_time": "2022-10-24T15:30:11.174Z"
      },
      {
        "duration": 10,
        "start_time": "2022-10-24T15:30:11.213Z"
      },
      {
        "duration": 8,
        "start_time": "2022-10-24T15:30:11.224Z"
      },
      {
        "duration": 7,
        "start_time": "2022-10-24T15:30:11.233Z"
      },
      {
        "duration": 10,
        "start_time": "2022-10-24T15:30:11.242Z"
      },
      {
        "duration": 1920,
        "start_time": "2022-10-25T05:50:16.618Z"
      },
      {
        "duration": 274,
        "start_time": "2022-10-25T05:50:18.546Z"
      },
      {
        "duration": 24,
        "start_time": "2022-10-25T05:50:18.822Z"
      },
      {
        "duration": 53,
        "start_time": "2022-10-25T05:50:18.848Z"
      },
      {
        "duration": 32,
        "start_time": "2022-10-25T05:50:18.903Z"
      },
      {
        "duration": 94,
        "start_time": "2022-10-25T05:50:18.937Z"
      },
      {
        "duration": 41,
        "start_time": "2022-10-25T05:50:19.033Z"
      },
      {
        "duration": 5,
        "start_time": "2022-10-25T05:50:19.076Z"
      },
      {
        "duration": 56,
        "start_time": "2022-10-25T05:50:19.082Z"
      },
      {
        "duration": 11,
        "start_time": "2022-10-25T05:50:19.141Z"
      },
      {
        "duration": 71,
        "start_time": "2022-10-25T05:50:19.156Z"
      },
      {
        "duration": 74,
        "start_time": "2022-10-25T05:50:19.229Z"
      },
      {
        "duration": 33,
        "start_time": "2022-10-25T05:50:19.306Z"
      },
      {
        "duration": 6,
        "start_time": "2022-10-25T05:50:19.342Z"
      },
      {
        "duration": 225,
        "start_time": "2022-10-25T05:50:19.350Z"
      },
      {
        "duration": 21,
        "start_time": "2022-10-25T05:50:19.580Z"
      },
      {
        "duration": 279,
        "start_time": "2022-10-25T05:50:19.604Z"
      },
      {
        "duration": 479,
        "start_time": "2022-10-25T05:50:19.890Z"
      },
      {
        "duration": 9,
        "start_time": "2022-10-25T05:50:20.371Z"
      },
      {
        "duration": 22,
        "start_time": "2022-10-25T05:50:20.382Z"
      },
      {
        "duration": 339,
        "start_time": "2022-10-25T05:50:20.406Z"
      },
      {
        "duration": 487,
        "start_time": "2022-10-25T05:50:20.747Z"
      },
      {
        "duration": 525,
        "start_time": "2022-10-25T05:50:21.237Z"
      },
      {
        "duration": 11,
        "start_time": "2022-10-25T05:50:21.764Z"
      },
      {
        "duration": 80,
        "start_time": "2022-10-25T05:50:21.778Z"
      },
      {
        "duration": 562,
        "start_time": "2022-10-25T05:50:21.861Z"
      },
      {
        "duration": 14,
        "start_time": "2022-10-25T05:50:22.425Z"
      },
      {
        "duration": 16,
        "start_time": "2022-10-25T05:50:22.443Z"
      },
      {
        "duration": 415,
        "start_time": "2022-10-25T05:50:22.461Z"
      },
      {
        "duration": 8,
        "start_time": "2022-10-25T05:50:22.879Z"
      },
      {
        "duration": 26,
        "start_time": "2022-10-25T05:50:22.890Z"
      },
      {
        "duration": 63,
        "start_time": "2022-10-25T05:50:22.918Z"
      },
      {
        "duration": 55,
        "start_time": "2022-10-25T05:50:22.983Z"
      },
      {
        "duration": 23,
        "start_time": "2022-10-25T05:50:23.040Z"
      },
      {
        "duration": 64,
        "start_time": "2022-10-25T05:50:23.066Z"
      },
      {
        "duration": 38,
        "start_time": "2022-10-25T05:50:23.132Z"
      },
      {
        "duration": 56,
        "start_time": "2022-10-25T05:50:23.172Z"
      },
      {
        "duration": 21,
        "start_time": "2022-10-25T05:50:23.230Z"
      },
      {
        "duration": 57,
        "start_time": "2022-10-25T05:50:23.263Z"
      },
      {
        "duration": 23,
        "start_time": "2022-10-25T05:50:23.322Z"
      },
      {
        "duration": 55,
        "start_time": "2022-10-25T05:50:23.352Z"
      },
      {
        "duration": 19,
        "start_time": "2022-10-25T05:50:23.410Z"
      },
      {
        "duration": 29,
        "start_time": "2022-10-25T05:50:23.431Z"
      },
      {
        "duration": 59,
        "start_time": "2022-10-25T05:50:23.466Z"
      },
      {
        "duration": 20,
        "start_time": "2022-10-25T05:50:23.528Z"
      },
      {
        "duration": 63,
        "start_time": "2022-10-25T05:50:23.551Z"
      },
      {
        "duration": 17,
        "start_time": "2022-10-25T05:50:23.616Z"
      },
      {
        "duration": 28,
        "start_time": "2022-10-25T05:50:23.637Z"
      },
      {
        "duration": 43,
        "start_time": "2022-10-25T05:50:23.668Z"
      },
      {
        "duration": 19,
        "start_time": "2022-10-25T05:50:23.713Z"
      },
      {
        "duration": 27,
        "start_time": "2022-10-25T05:50:23.734Z"
      },
      {
        "duration": 45,
        "start_time": "2022-10-25T05:50:23.762Z"
      },
      {
        "duration": 14,
        "start_time": "2022-10-25T05:50:23.809Z"
      },
      {
        "duration": 1276,
        "start_time": "2022-10-25T14:31:21.169Z"
      },
      {
        "duration": 76,
        "start_time": "2022-10-25T14:31:22.447Z"
      },
      {
        "duration": 15,
        "start_time": "2022-10-25T14:31:22.525Z"
      },
      {
        "duration": 29,
        "start_time": "2022-10-25T14:31:22.542Z"
      },
      {
        "duration": 23,
        "start_time": "2022-10-25T14:31:22.573Z"
      },
      {
        "duration": 91,
        "start_time": "2022-10-25T14:31:22.598Z"
      },
      {
        "duration": 11,
        "start_time": "2022-10-25T14:31:22.691Z"
      },
      {
        "duration": 24,
        "start_time": "2022-10-25T14:31:22.704Z"
      },
      {
        "duration": 68,
        "start_time": "2022-10-25T14:31:22.730Z"
      },
      {
        "duration": 35,
        "start_time": "2022-10-25T14:31:22.801Z"
      },
      {
        "duration": 59,
        "start_time": "2022-10-25T14:31:22.838Z"
      },
      {
        "duration": 32,
        "start_time": "2022-10-25T14:31:22.899Z"
      },
      {
        "duration": 41,
        "start_time": "2022-10-25T14:31:22.933Z"
      },
      {
        "duration": 38,
        "start_time": "2022-10-25T14:31:22.977Z"
      },
      {
        "duration": 210,
        "start_time": "2022-10-25T14:31:23.017Z"
      },
      {
        "duration": 8,
        "start_time": "2022-10-25T14:31:23.229Z"
      },
      {
        "duration": 282,
        "start_time": "2022-10-25T14:31:23.239Z"
      },
      {
        "duration": 499,
        "start_time": "2022-10-25T14:31:23.523Z"
      },
      {
        "duration": 11,
        "start_time": "2022-10-25T14:31:24.024Z"
      },
      {
        "duration": 39,
        "start_time": "2022-10-25T14:31:24.037Z"
      },
      {
        "duration": 311,
        "start_time": "2022-10-25T14:31:24.078Z"
      },
      {
        "duration": 416,
        "start_time": "2022-10-25T14:31:24.391Z"
      },
      {
        "duration": 429,
        "start_time": "2022-10-25T14:31:24.809Z"
      },
      {
        "duration": 19,
        "start_time": "2022-10-25T14:31:25.240Z"
      },
      {
        "duration": 7,
        "start_time": "2022-10-25T14:31:25.262Z"
      },
      {
        "duration": 357,
        "start_time": "2022-10-25T14:31:25.271Z"
      },
      {
        "duration": 7,
        "start_time": "2022-10-25T14:31:25.630Z"
      },
      {
        "duration": 19,
        "start_time": "2022-10-25T14:31:25.640Z"
      },
      {
        "duration": 273,
        "start_time": "2022-10-25T14:31:25.662Z"
      },
      {
        "duration": 6,
        "start_time": "2022-10-25T14:31:25.937Z"
      },
      {
        "duration": 8,
        "start_time": "2022-10-25T14:31:25.958Z"
      },
      {
        "duration": 43,
        "start_time": "2022-10-25T14:31:25.967Z"
      },
      {
        "duration": 28,
        "start_time": "2022-10-25T14:31:26.012Z"
      },
      {
        "duration": 31,
        "start_time": "2022-10-25T14:31:26.042Z"
      },
      {
        "duration": 14,
        "start_time": "2022-10-25T14:31:26.077Z"
      },
      {
        "duration": 19,
        "start_time": "2022-10-25T14:31:26.093Z"
      },
      {
        "duration": 10,
        "start_time": "2022-10-25T14:31:26.114Z"
      },
      {
        "duration": 14,
        "start_time": "2022-10-25T14:31:26.126Z"
      },
      {
        "duration": 20,
        "start_time": "2022-10-25T14:31:26.142Z"
      },
      {
        "duration": 23,
        "start_time": "2022-10-25T14:31:26.171Z"
      },
      {
        "duration": 13,
        "start_time": "2022-10-25T14:31:26.196Z"
      },
      {
        "duration": 12,
        "start_time": "2022-10-25T14:31:26.211Z"
      },
      {
        "duration": 10,
        "start_time": "2022-10-25T14:31:26.225Z"
      },
      {
        "duration": 39,
        "start_time": "2022-10-25T14:31:26.238Z"
      },
      {
        "duration": 16,
        "start_time": "2022-10-25T14:31:26.280Z"
      },
      {
        "duration": 26,
        "start_time": "2022-10-25T14:31:26.299Z"
      },
      {
        "duration": 36,
        "start_time": "2022-10-25T14:31:26.328Z"
      },
      {
        "duration": 16,
        "start_time": "2022-10-25T14:31:26.366Z"
      },
      {
        "duration": 9,
        "start_time": "2022-10-25T14:31:26.384Z"
      },
      {
        "duration": 14,
        "start_time": "2022-10-25T14:31:26.395Z"
      },
      {
        "duration": 12,
        "start_time": "2022-10-25T14:31:26.411Z"
      },
      {
        "duration": 45,
        "start_time": "2022-10-25T14:31:26.424Z"
      },
      {
        "duration": 12,
        "start_time": "2022-10-25T14:31:26.472Z"
      }
    ],
    "toc": {
      "base_numbering": 1,
      "nav_menu": {},
      "number_sections": true,
      "sideBar": true,
      "skip_h1_title": true,
      "title_cell": "Table of Contents",
      "title_sidebar": "Contents",
      "toc_cell": false,
      "toc_position": {
        "height": "calc(100% - 180px)",
        "left": "10px",
        "top": "150px",
        "width": "366.188px"
      },
      "toc_section_display": true,
      "toc_window_display": true
    },
    "kernelspec": {
      "name": "python",
      "display_name": "Python (Pyodide)",
      "language": "python"
    },
    "language_info": {
      "codemirror_mode": {
        "name": "python",
        "version": 3
      },
      "file_extension": ".py",
      "mimetype": "text/x-python",
      "name": "python",
      "nbconvert_exporter": "python",
      "pygments_lexer": "ipython3",
      "version": "3.8"
    }
  },
  "nbformat_minor": 4,
  "nbformat": 4,
  "cells": [
    {
      "cell_type": "markdown",
      "source": "# Исследование данных о продаже компьютерных игр",
      "metadata": {}
    },
    {
      "cell_type": "markdown",
      "source": "Из открытых источников доступны исторические данные о продажах игр, оценки пользователей и экспертов, жанры и платформы (например, Xbox или PlayStation). Нужно выявить определяющие успешность игры закономерности. Это позволит сделать ставку на потенциально популярный продукт и спланировать рекламные кампании.\n\nРассматриваются данные до 2016 года. Нужно отработать принцип работы с данными, чтобы его можно было применять и к данным других временных периодов.\n\nДанный проект состоит из следующих основных этапов:\n- Первичная обработка данных\n- Исследовательский анализ\n- Составление портрета пользователя\n- Формулирование и проверка гипотез\n- Составление общего вывода",
      "metadata": {}
    },
    {
      "cell_type": "markdown",
      "source": "## Откройте файл с данными и изучите общую информацию",
      "metadata": {}
    },
    {
      "cell_type": "code",
      "source": "import pandas as pd\nimport matplotlib.pyplot as plt\nimport numpy as np\nfrom scipy import stats as st",
      "metadata": {},
      "execution_count": 1,
      "outputs": []
    },
    {
      "cell_type": "code",
      "source": "data = pd.read_csv('/datasets/games.csv')\ndata.head(10)",
      "metadata": {},
      "execution_count": 2,
      "outputs": [
        {
          "execution_count": 2,
          "output_type": "execute_result",
          "data": {
            "text/html": [
              "<div>\n",
              "<style scoped>\n",
              "    .dataframe tbody tr th:only-of-type {\n",
              "        vertical-align: middle;\n",
              "    }\n",
              "\n",
              "    .dataframe tbody tr th {\n",
              "        vertical-align: top;\n",
              "    }\n",
              "\n",
              "    .dataframe thead th {\n",
              "        text-align: right;\n",
              "    }\n",
              "</style>\n",
              "<table border=\"1\" class=\"dataframe\">\n",
              "  <thead>\n",
              "    <tr style=\"text-align: right;\">\n",
              "      <th></th>\n",
              "      <th>Name</th>\n",
              "      <th>Platform</th>\n",
              "      <th>Year_of_Release</th>\n",
              "      <th>Genre</th>\n",
              "      <th>NA_sales</th>\n",
              "      <th>EU_sales</th>\n",
              "      <th>JP_sales</th>\n",
              "      <th>Other_sales</th>\n",
              "      <th>Critic_Score</th>\n",
              "      <th>User_Score</th>\n",
              "      <th>Rating</th>\n",
              "    </tr>\n",
              "  </thead>\n",
              "  <tbody>\n",
              "    <tr>\n",
              "      <th>0</th>\n",
              "      <td>Wii Sports</td>\n",
              "      <td>Wii</td>\n",
              "      <td>2006.0</td>\n",
              "      <td>Sports</td>\n",
              "      <td>41.36</td>\n",
              "      <td>28.96</td>\n",
              "      <td>3.77</td>\n",
              "      <td>8.45</td>\n",
              "      <td>76.0</td>\n",
              "      <td>8</td>\n",
              "      <td>E</td>\n",
              "    </tr>\n",
              "    <tr>\n",
              "      <th>1</th>\n",
              "      <td>Super Mario Bros.</td>\n",
              "      <td>NES</td>\n",
              "      <td>1985.0</td>\n",
              "      <td>Platform</td>\n",
              "      <td>29.08</td>\n",
              "      <td>3.58</td>\n",
              "      <td>6.81</td>\n",
              "      <td>0.77</td>\n",
              "      <td>NaN</td>\n",
              "      <td>NaN</td>\n",
              "      <td>NaN</td>\n",
              "    </tr>\n",
              "    <tr>\n",
              "      <th>2</th>\n",
              "      <td>Mario Kart Wii</td>\n",
              "      <td>Wii</td>\n",
              "      <td>2008.0</td>\n",
              "      <td>Racing</td>\n",
              "      <td>15.68</td>\n",
              "      <td>12.76</td>\n",
              "      <td>3.79</td>\n",
              "      <td>3.29</td>\n",
              "      <td>82.0</td>\n",
              "      <td>8.3</td>\n",
              "      <td>E</td>\n",
              "    </tr>\n",
              "    <tr>\n",
              "      <th>3</th>\n",
              "      <td>Wii Sports Resort</td>\n",
              "      <td>Wii</td>\n",
              "      <td>2009.0</td>\n",
              "      <td>Sports</td>\n",
              "      <td>15.61</td>\n",
              "      <td>10.93</td>\n",
              "      <td>3.28</td>\n",
              "      <td>2.95</td>\n",
              "      <td>80.0</td>\n",
              "      <td>8</td>\n",
              "      <td>E</td>\n",
              "    </tr>\n",
              "    <tr>\n",
              "      <th>4</th>\n",
              "      <td>Pokemon Red/Pokemon Blue</td>\n",
              "      <td>GB</td>\n",
              "      <td>1996.0</td>\n",
              "      <td>Role-Playing</td>\n",
              "      <td>11.27</td>\n",
              "      <td>8.89</td>\n",
              "      <td>10.22</td>\n",
              "      <td>1.00</td>\n",
              "      <td>NaN</td>\n",
              "      <td>NaN</td>\n",
              "      <td>NaN</td>\n",
              "    </tr>\n",
              "    <tr>\n",
              "      <th>5</th>\n",
              "      <td>Tetris</td>\n",
              "      <td>GB</td>\n",
              "      <td>1989.0</td>\n",
              "      <td>Puzzle</td>\n",
              "      <td>23.20</td>\n",
              "      <td>2.26</td>\n",
              "      <td>4.22</td>\n",
              "      <td>0.58</td>\n",
              "      <td>NaN</td>\n",
              "      <td>NaN</td>\n",
              "      <td>NaN</td>\n",
              "    </tr>\n",
              "    <tr>\n",
              "      <th>6</th>\n",
              "      <td>New Super Mario Bros.</td>\n",
              "      <td>DS</td>\n",
              "      <td>2006.0</td>\n",
              "      <td>Platform</td>\n",
              "      <td>11.28</td>\n",
              "      <td>9.14</td>\n",
              "      <td>6.50</td>\n",
              "      <td>2.88</td>\n",
              "      <td>89.0</td>\n",
              "      <td>8.5</td>\n",
              "      <td>E</td>\n",
              "    </tr>\n",
              "    <tr>\n",
              "      <th>7</th>\n",
              "      <td>Wii Play</td>\n",
              "      <td>Wii</td>\n",
              "      <td>2006.0</td>\n",
              "      <td>Misc</td>\n",
              "      <td>13.96</td>\n",
              "      <td>9.18</td>\n",
              "      <td>2.93</td>\n",
              "      <td>2.84</td>\n",
              "      <td>58.0</td>\n",
              "      <td>6.6</td>\n",
              "      <td>E</td>\n",
              "    </tr>\n",
              "    <tr>\n",
              "      <th>8</th>\n",
              "      <td>New Super Mario Bros. Wii</td>\n",
              "      <td>Wii</td>\n",
              "      <td>2009.0</td>\n",
              "      <td>Platform</td>\n",
              "      <td>14.44</td>\n",
              "      <td>6.94</td>\n",
              "      <td>4.70</td>\n",
              "      <td>2.24</td>\n",
              "      <td>87.0</td>\n",
              "      <td>8.4</td>\n",
              "      <td>E</td>\n",
              "    </tr>\n",
              "    <tr>\n",
              "      <th>9</th>\n",
              "      <td>Duck Hunt</td>\n",
              "      <td>NES</td>\n",
              "      <td>1984.0</td>\n",
              "      <td>Shooter</td>\n",
              "      <td>26.93</td>\n",
              "      <td>0.63</td>\n",
              "      <td>0.28</td>\n",
              "      <td>0.47</td>\n",
              "      <td>NaN</td>\n",
              "      <td>NaN</td>\n",
              "      <td>NaN</td>\n",
              "    </tr>\n",
              "  </tbody>\n",
              "</table>\n",
              "</div>"
            ],
            "text/plain": [
              "                        Name Platform  Year_of_Release         Genre  \\\n",
              "0                 Wii Sports      Wii           2006.0        Sports   \n",
              "1          Super Mario Bros.      NES           1985.0      Platform   \n",
              "2             Mario Kart Wii      Wii           2008.0        Racing   \n",
              "3          Wii Sports Resort      Wii           2009.0        Sports   \n",
              "4   Pokemon Red/Pokemon Blue       GB           1996.0  Role-Playing   \n",
              "5                     Tetris       GB           1989.0        Puzzle   \n",
              "6      New Super Mario Bros.       DS           2006.0      Platform   \n",
              "7                   Wii Play      Wii           2006.0          Misc   \n",
              "8  New Super Mario Bros. Wii      Wii           2009.0      Platform   \n",
              "9                  Duck Hunt      NES           1984.0       Shooter   \n",
              "\n",
              "   NA_sales  EU_sales  JP_sales  Other_sales  Critic_Score User_Score Rating  \n",
              "0     41.36     28.96      3.77         8.45          76.0          8      E  \n",
              "1     29.08      3.58      6.81         0.77           NaN        NaN    NaN  \n",
              "2     15.68     12.76      3.79         3.29          82.0        8.3      E  \n",
              "3     15.61     10.93      3.28         2.95          80.0          8      E  \n",
              "4     11.27      8.89     10.22         1.00           NaN        NaN    NaN  \n",
              "5     23.20      2.26      4.22         0.58           NaN        NaN    NaN  \n",
              "6     11.28      9.14      6.50         2.88          89.0        8.5      E  \n",
              "7     13.96      9.18      2.93         2.84          58.0        6.6      E  \n",
              "8     14.44      6.94      4.70         2.24          87.0        8.4      E  \n",
              "9     26.93      0.63      0.28         0.47           NaN        NaN    NaN  "
            ]
          },
          "metadata": {}
        }
      ]
    },
    {
      "cell_type": "code",
      "source": "data.info()",
      "metadata": {},
      "execution_count": 3,
      "outputs": [
        {
          "name": "stdout",
          "output_type": "stream",
          "text": "<class 'pandas.core.frame.DataFrame'>\n\nRangeIndex: 16715 entries, 0 to 16714\n\nData columns (total 11 columns):\n\n #   Column           Non-Null Count  Dtype  \n\n---  ------           --------------  -----  \n\n 0   Name             16713 non-null  object \n\n 1   Platform         16715 non-null  object \n\n 2   Year_of_Release  16446 non-null  float64\n\n 3   Genre            16713 non-null  object \n\n 4   NA_sales         16715 non-null  float64\n\n 5   EU_sales         16715 non-null  float64\n\n 6   JP_sales         16715 non-null  float64\n\n 7   Other_sales      16715 non-null  float64\n\n 8   Critic_Score     8137 non-null   float64\n\n 9   User_Score       10014 non-null  object \n\n 10  Rating           9949 non-null   object \n\ndtypes: float64(6), object(5)\n\nmemory usage: 1.4+ MB\n"
        }
      ]
    },
    {
      "cell_type": "code",
      "source": "#Проверка данных на наличие явных строк-дубликатов\nif data.duplicated().sum() == 0:\n    print('В данных нет строк с явными дубликатами.')\nelse:\n    print('В данных имеются строки дубликаты в количестве:', data.duplicated().sum())",
      "metadata": {},
      "execution_count": 4,
      "outputs": [
        {
          "name": "stdout",
          "output_type": "stream",
          "text": "В данных нет строк с явными дубликатами.\n"
        }
      ]
    },
    {
      "cell_type": "markdown",
      "source": "**Вывод:** в столбцах с оценками и рейтингом почти половина пропусков, значения 'tbd' в столбце User_Score не дают перевести его в числовой формат.",
      "metadata": {}
    },
    {
      "cell_type": "markdown",
      "source": "## Подготовка данных",
      "metadata": {}
    },
    {
      "cell_type": "markdown",
      "source": "### Изменение названий столбцов",
      "metadata": {}
    },
    {
      "cell_type": "markdown",
      "source": "Приведем названия всех столбцов к нижнему регистру.",
      "metadata": {}
    },
    {
      "cell_type": "code",
      "source": "data = data.rename(columns={\n    'Name':'name',\n    'Platform':'platform',\n    'Year_of_Release':'year_of_release',\n    'Genre':'genre',\n    'NA_sales':'na_sales',\n    'EU_sales':'eu_sales',\n    'JP_sales':'jp_sales',\n    'Other_sales':'other_sales',\n    'Critic_Score':'critic_score',\n    'User_Score':'user_score',\n    'Rating':'rating',\n})",
      "metadata": {},
      "execution_count": 5,
      "outputs": []
    },
    {
      "cell_type": "markdown",
      "source": "### Обработка пропусков",
      "metadata": {}
    },
    {
      "cell_type": "code",
      "source": "data.isna().mean().round(4).to_frame().sort_values(by=0).style.format('{:.2%}').background_gradient('coolwarm')",
      "metadata": {},
      "execution_count": 6,
      "outputs": [
        {
          "execution_count": 6,
          "output_type": "execute_result",
          "data": {
            "text/html": [
              "<style  type=\"text/css\" >\n",
              "#T_bffd8_row0_col0,#T_bffd8_row1_col0,#T_bffd8_row2_col0,#T_bffd8_row3_col0,#T_bffd8_row4_col0,#T_bffd8_row5_col0,#T_bffd8_row6_col0{\n",
              "            background-color:  #3b4cc0;\n",
              "            color:  #f1f1f1;\n",
              "        }#T_bffd8_row7_col0{\n",
              "            background-color:  #445acc;\n",
              "            color:  #f1f1f1;\n",
              "        }#T_bffd8_row8_col0{\n",
              "            background-color:  #f18d6f;\n",
              "            color:  #000000;\n",
              "        }#T_bffd8_row9_col0{\n",
              "            background-color:  #f08a6c;\n",
              "            color:  #000000;\n",
              "        }#T_bffd8_row10_col0{\n",
              "            background-color:  #b40426;\n",
              "            color:  #f1f1f1;\n",
              "        }</style><table id=\"T_bffd8_\" ><thead>    <tr>        <th class=\"blank level0\" ></th>        <th class=\"col_heading level0 col0\" >0</th>    </tr></thead><tbody>\n",
              "                <tr>\n",
              "                        <th id=\"T_bffd8_level0_row0\" class=\"row_heading level0 row0\" >platform</th>\n",
              "                        <td id=\"T_bffd8_row0_col0\" class=\"data row0 col0\" >0.00%</td>\n",
              "            </tr>\n",
              "            <tr>\n",
              "                        <th id=\"T_bffd8_level0_row1\" class=\"row_heading level0 row1\" >na_sales</th>\n",
              "                        <td id=\"T_bffd8_row1_col0\" class=\"data row1 col0\" >0.00%</td>\n",
              "            </tr>\n",
              "            <tr>\n",
              "                        <th id=\"T_bffd8_level0_row2\" class=\"row_heading level0 row2\" >eu_sales</th>\n",
              "                        <td id=\"T_bffd8_row2_col0\" class=\"data row2 col0\" >0.00%</td>\n",
              "            </tr>\n",
              "            <tr>\n",
              "                        <th id=\"T_bffd8_level0_row3\" class=\"row_heading level0 row3\" >jp_sales</th>\n",
              "                        <td id=\"T_bffd8_row3_col0\" class=\"data row3 col0\" >0.00%</td>\n",
              "            </tr>\n",
              "            <tr>\n",
              "                        <th id=\"T_bffd8_level0_row4\" class=\"row_heading level0 row4\" >other_sales</th>\n",
              "                        <td id=\"T_bffd8_row4_col0\" class=\"data row4 col0\" >0.00%</td>\n",
              "            </tr>\n",
              "            <tr>\n",
              "                        <th id=\"T_bffd8_level0_row5\" class=\"row_heading level0 row5\" >name</th>\n",
              "                        <td id=\"T_bffd8_row5_col0\" class=\"data row5 col0\" >0.01%</td>\n",
              "            </tr>\n",
              "            <tr>\n",
              "                        <th id=\"T_bffd8_level0_row6\" class=\"row_heading level0 row6\" >genre</th>\n",
              "                        <td id=\"T_bffd8_row6_col0\" class=\"data row6 col0\" >0.01%</td>\n",
              "            </tr>\n",
              "            <tr>\n",
              "                        <th id=\"T_bffd8_level0_row7\" class=\"row_heading level0 row7\" >year_of_release</th>\n",
              "                        <td id=\"T_bffd8_row7_col0\" class=\"data row7 col0\" >1.61%</td>\n",
              "            </tr>\n",
              "            <tr>\n",
              "                        <th id=\"T_bffd8_level0_row8\" class=\"row_heading level0 row8\" >user_score</th>\n",
              "                        <td id=\"T_bffd8_row8_col0\" class=\"data row8 col0\" >40.09%</td>\n",
              "            </tr>\n",
              "            <tr>\n",
              "                        <th id=\"T_bffd8_level0_row9\" class=\"row_heading level0 row9\" >rating</th>\n",
              "                        <td id=\"T_bffd8_row9_col0\" class=\"data row9 col0\" >40.48%</td>\n",
              "            </tr>\n",
              "            <tr>\n",
              "                        <th id=\"T_bffd8_level0_row10\" class=\"row_heading level0 row10\" >critic_score</th>\n",
              "                        <td id=\"T_bffd8_row10_col0\" class=\"data row10 col0\" >51.32%</td>\n",
              "            </tr>\n",
              "    </tbody></table>"
            ],
            "text/plain": [
              "<pandas.io.formats.style.Styler at 0x7f35efccbd30>"
            ]
          },
          "metadata": {}
        }
      ]
    },
    {
      "cell_type": "markdown",
      "source": "Обнаружены пропуски в нескольких столбцах.\n\n- Пропуски в столбцах с именем, жанром и годом выхода невозможно заполнить и они составляют меньше 2% выборки, поэтому их лучше удалить из набора данных.\n\n- В столбце с оценками пользователей встречается аббревиатура 'tbd', означающая что данные еще уточняются. Заменим такие значения на отсутсвующие.\n\n- Пропущенные значения в столбце рейтинга заменим обозначением 'no_rating'.",
      "metadata": {}
    },
    {
      "cell_type": "code",
      "source": "data = data.dropna(subset=['name', 'genre', 'year_of_release'])\ndata = data.reset_index(drop=True)",
      "metadata": {},
      "execution_count": 7,
      "outputs": []
    },
    {
      "cell_type": "code",
      "source": "data.loc[data['user_score'] == 'tbd', 'user_score'] = np.nan",
      "metadata": {},
      "execution_count": 9,
      "outputs": []
    },
    {
      "cell_type": "code",
      "source": "data.loc[data['rating'].isna(), 'rating'] = 'no_rating'",
      "metadata": {},
      "execution_count": 10,
      "outputs": []
    },
    {
      "cell_type": "markdown",
      "source": "### Преобразование типов данных",
      "metadata": {}
    },
    {
      "cell_type": "markdown",
      "source": "Преобразум год релиза в целое число, а оценку пользователей в вещественные числа.",
      "metadata": {}
    },
    {
      "cell_type": "code",
      "source": "data['year_of_release'] = data['year_of_release'].astype('int')\ndata['user_score'] = data['user_score'].astype('float')",
      "metadata": {},
      "execution_count": 11,
      "outputs": []
    },
    {
      "cell_type": "code",
      "source": "data.info()",
      "metadata": {},
      "execution_count": 12,
      "outputs": [
        {
          "name": "stdout",
          "output_type": "stream",
          "text": "<class 'pandas.core.frame.DataFrame'>\n\nRangeIndex: 16444 entries, 0 to 16443\n\nData columns (total 11 columns):\n\n #   Column           Non-Null Count  Dtype  \n\n---  ------           --------------  -----  \n\n 0   name             16444 non-null  object \n\n 1   platform         16444 non-null  object \n\n 2   year_of_release  16444 non-null  int64  \n\n 3   genre            16444 non-null  object \n\n 4   na_sales         16444 non-null  float64\n\n 5   eu_sales         16444 non-null  float64\n\n 6   jp_sales         16444 non-null  float64\n\n 7   other_sales      16444 non-null  float64\n\n 8   critic_score     7983 non-null   float64\n\n 9   user_score       7463 non-null   float64\n\n 10  rating           16444 non-null  object \n\ndtypes: float64(6), int64(1), object(4)\n\nmemory usage: 1.4+ MB\n"
        }
      ]
    },
    {
      "cell_type": "code",
      "source": "data.isna().mean().round(4).to_frame().sort_values(by=0).style.format('{:.2%}').background_gradient('coolwarm')",
      "metadata": {},
      "execution_count": 13,
      "outputs": [
        {
          "execution_count": 13,
          "output_type": "execute_result",
          "data": {
            "text/html": [
              "<style  type=\"text/css\" >\n",
              "#T_27afd_row0_col0,#T_27afd_row1_col0,#T_27afd_row2_col0,#T_27afd_row3_col0,#T_27afd_row4_col0,#T_27afd_row5_col0,#T_27afd_row6_col0,#T_27afd_row7_col0,#T_27afd_row8_col0{\n",
              "            background-color:  #3b4cc0;\n",
              "            color:  #f1f1f1;\n",
              "        }#T_27afd_row9_col0{\n",
              "            background-color:  #c83836;\n",
              "            color:  #f1f1f1;\n",
              "        }#T_27afd_row10_col0{\n",
              "            background-color:  #b40426;\n",
              "            color:  #f1f1f1;\n",
              "        }</style><table id=\"T_27afd_\" ><thead>    <tr>        <th class=\"blank level0\" ></th>        <th class=\"col_heading level0 col0\" >0</th>    </tr></thead><tbody>\n",
              "                <tr>\n",
              "                        <th id=\"T_27afd_level0_row0\" class=\"row_heading level0 row0\" >name</th>\n",
              "                        <td id=\"T_27afd_row0_col0\" class=\"data row0 col0\" >0.00%</td>\n",
              "            </tr>\n",
              "            <tr>\n",
              "                        <th id=\"T_27afd_level0_row1\" class=\"row_heading level0 row1\" >platform</th>\n",
              "                        <td id=\"T_27afd_row1_col0\" class=\"data row1 col0\" >0.00%</td>\n",
              "            </tr>\n",
              "            <tr>\n",
              "                        <th id=\"T_27afd_level0_row2\" class=\"row_heading level0 row2\" >year_of_release</th>\n",
              "                        <td id=\"T_27afd_row2_col0\" class=\"data row2 col0\" >0.00%</td>\n",
              "            </tr>\n",
              "            <tr>\n",
              "                        <th id=\"T_27afd_level0_row3\" class=\"row_heading level0 row3\" >genre</th>\n",
              "                        <td id=\"T_27afd_row3_col0\" class=\"data row3 col0\" >0.00%</td>\n",
              "            </tr>\n",
              "            <tr>\n",
              "                        <th id=\"T_27afd_level0_row4\" class=\"row_heading level0 row4\" >na_sales</th>\n",
              "                        <td id=\"T_27afd_row4_col0\" class=\"data row4 col0\" >0.00%</td>\n",
              "            </tr>\n",
              "            <tr>\n",
              "                        <th id=\"T_27afd_level0_row5\" class=\"row_heading level0 row5\" >eu_sales</th>\n",
              "                        <td id=\"T_27afd_row5_col0\" class=\"data row5 col0\" >0.00%</td>\n",
              "            </tr>\n",
              "            <tr>\n",
              "                        <th id=\"T_27afd_level0_row6\" class=\"row_heading level0 row6\" >jp_sales</th>\n",
              "                        <td id=\"T_27afd_row6_col0\" class=\"data row6 col0\" >0.00%</td>\n",
              "            </tr>\n",
              "            <tr>\n",
              "                        <th id=\"T_27afd_level0_row7\" class=\"row_heading level0 row7\" >other_sales</th>\n",
              "                        <td id=\"T_27afd_row7_col0\" class=\"data row7 col0\" >0.00%</td>\n",
              "            </tr>\n",
              "            <tr>\n",
              "                        <th id=\"T_27afd_level0_row8\" class=\"row_heading level0 row8\" >rating</th>\n",
              "                        <td id=\"T_27afd_row8_col0\" class=\"data row8 col0\" >0.00%</td>\n",
              "            </tr>\n",
              "            <tr>\n",
              "                        <th id=\"T_27afd_level0_row9\" class=\"row_heading level0 row9\" >critic_score</th>\n",
              "                        <td id=\"T_27afd_row9_col0\" class=\"data row9 col0\" >51.45%</td>\n",
              "            </tr>\n",
              "            <tr>\n",
              "                        <th id=\"T_27afd_level0_row10\" class=\"row_heading level0 row10\" >user_score</th>\n",
              "                        <td id=\"T_27afd_row10_col0\" class=\"data row10 col0\" >54.62%</td>\n",
              "            </tr>\n",
              "    </tbody></table>"
            ],
            "text/plain": [
              "<pandas.io.formats.style.Styler at 0x7f35efb98a90>"
            ]
          },
          "metadata": {}
        }
      ]
    },
    {
      "cell_type": "markdown",
      "source": "### Добавление столбца",
      "metadata": {}
    },
    {
      "cell_type": "markdown",
      "source": "Сосчитаем суммарное количество продаж во всех регионах и запишем его в столбец 'total_sales'.",
      "metadata": {}
    },
    {
      "cell_type": "code",
      "source": "data['total_sales'] = data['na_sales'] + data['eu_sales'] + data['jp_sales'] + data['other_sales']",
      "metadata": {},
      "execution_count": 14,
      "outputs": []
    },
    {
      "cell_type": "markdown",
      "source": "## Исследовательский анализ данных",
      "metadata": {}
    },
    {
      "cell_type": "markdown",
      "source": "### Количество игр по годам",
      "metadata": {}
    },
    {
      "cell_type": "code",
      "source": "data.groupby('year_of_release')['name'].count().plot();",
      "metadata": {},
      "execution_count": 15,
      "outputs": [
        {
          "output_type": "display_data",
          "data": {
            "image/png": "[encoded data removed]",
            "text/plain": [
              "<Figure size 432x288 with 1 Axes>"
            ]
          },
          "metadata": {
            "needs_background": "light"
          }
        }
      ]
    },
    {
      "cell_type": "markdown",
      "source": "До 1994 года выпускалось меньше игр, чем после. Данные о годах, за которые выпущено менее 20 игр представляют меньшую важность для анализа.",
      "metadata": {}
    },
    {
      "cell_type": "markdown",
      "source": "### Продажи по платформам",
      "metadata": {}
    },
    {
      "cell_type": "code",
      "source": "#Какие плотформы имеют наибольшие суммарные продажи\ndata.groupby('platform')['total_sales'].sum().sort_values().tail(10)",
      "metadata": {},
      "execution_count": 16,
      "outputs": [
        {
          "execution_count": 16,
          "output_type": "execute_result",
          "data": {
            "text/plain": [
              "platform\n",
              "3DS      257.81\n",
              "PSP      289.53\n",
              "GBA      312.88\n",
              "PS4      314.14\n",
              "PS       727.58\n",
              "DS       802.78\n",
              "Wii      891.18\n",
              "PS3      931.34\n",
              "X360     961.24\n",
              "PS2     1233.56\n",
              "Name: total_sales, dtype: float64"
            ]
          },
          "metadata": {}
        }
      ]
    },
    {
      "cell_type": "code",
      "source": "popular_platform = data.groupby('platform')['total_sales'].sum().sort_values().tail(10).index\n\nfor platform in popular_platform:\n    data[data['platform'] == platform].groupby('year_of_release')['total_sales'].sum().plot();",
      "metadata": {},
      "execution_count": 17,
      "outputs": [
        {
          "output_type": "display_data",
          "data": {
            "image/png": "[encoded data removed]",
            "text/plain": [
              "<Figure size 432x288 with 1 Axes>"
            ]
          },
          "metadata": {
            "needs_background": "light"
          }
        }
      ]
    },
    {
      "cell_type": "markdown",
      "source": "В среднем игры для платформ продаются в течении 10 лет после появления платформы. Примерно через 5 лет выпускается новая и популярность предыдущих идет на спад. Таким образом, актуальный период составит 4 года.",
      "metadata": {}
    },
    {
      "cell_type": "code",
      "source": "popular_platform = data.groupby('platform')['total_sales'].sum().sort_values().tail(10).index\n\nfor platform in data['platform'].unique():\n    data[(data['platform'] == platform) & (data['year_of_release'] > 2012)]\\\n    .groupby('year_of_release')['total_sales'].sum().plot();",
      "metadata": {},
      "execution_count": 18,
      "outputs": [
        {
          "output_type": "display_data",
          "data": {
            "image/png": "[encoded data removed]",
            "text/plain": [
              "<Figure size 432x288 with 1 Axes>"
            ]
          },
          "metadata": {
            "needs_background": "light"
          }
        }
      ]
    },
    {
      "cell_type": "code",
      "source": "data[data['year_of_release'] == 2015].groupby('platform')['total_sales'].sum().sort_values().tail(10)",
      "metadata": {},
      "execution_count": 19,
      "outputs": [
        {
          "execution_count": 19,
          "output_type": "execute_result",
          "data": {
            "text/plain": [
              "platform\n",
              "PSP       0.12\n",
              "Wii       1.14\n",
              "PSV       6.25\n",
              "PC        8.52\n",
              "X360     11.96\n",
              "WiiU     16.35\n",
              "PS3      16.82\n",
              "3DS      27.78\n",
              "XOne     60.14\n",
              "PS4     118.90\n",
              "Name: total_sales, dtype: float64"
            ]
          },
          "metadata": {}
        }
      ]
    },
    {
      "cell_type": "markdown",
      "source": "На графике видно две платформы, которые в 2014 и 2015 году увеличивают свою популярность. Это XOne и PS4.\nНа основе наблюдений они будут популярны еще 2 года и являются потенциально прибыльными. Продажи остальных платформ падают.",
      "metadata": {}
    },
    {
      "cell_type": "code",
      "source": "actual_data = data[data['year_of_release'] > 2012]",
      "metadata": {},
      "execution_count": 20,
      "outputs": []
    },
    {
      "cell_type": "code",
      "source": "actual_data.boxplot(column='total_sales', by='platform', rot=45, figsize=(15, 8));",
      "metadata": {},
      "execution_count": 21,
      "outputs": [
        {
          "output_type": "display_data",
          "data": {
            "image/png": "[encoded data removed]",
            "text/plain": [
              "<Figure size 1080x576 with 1 Axes>"
            ]
          },
          "metadata": {
            "needs_background": "light"
          }
        }
      ]
    },
    {
      "cell_type": "markdown",
      "source": "У различных платформ схожее среднее значение глобальных продаж, но так же имеется много игр, которые оказались значительно популярнее других для той же платформы. Таким образом, использование только платформы для определения популярности игр не дает точного результата.",
      "metadata": {}
    },
    {
      "cell_type": "markdown",
      "source": "### Корреляция между отзывами и продажами",
      "metadata": {}
    },
    {
      "cell_type": "markdown",
      "source": "Рассмотрим влияние оценок критиков и пользователей на продажи игр на примере платформы PS4.",
      "metadata": {}
    },
    {
      "cell_type": "code",
      "source": "data_ps4 = actual_data[actual_data['platform'] == 'PS4']\ndata_ps4.plot(y='total_sales', x='user_score', kind='scatter', grid=True);\ndata_ps4.plot(y='total_sales', x='critic_score', kind='scatter', grid=True);",
      "metadata": {},
      "execution_count": 23,
      "outputs": [
        {
          "output_type": "display_data",
          "data": {
            "image/png": "[encoded data removed]",
            "text/plain": [
              "<Figure size 432x288 with 1 Axes>"
            ]
          },
          "metadata": {
            "needs_background": "light"
          }
        },
        {
          "output_type": "display_data",
          "data": {
            "image/png": "[encoded data removed]",
            "text/plain": [
              "<Figure size 432x288 with 1 Axes>"
            ]
          },
          "metadata": {
            "needs_background": "light"
          }
        }
      ]
    },
    {
      "cell_type": "code",
      "source": "data_ps4['total_sales'].corr(data_ps4['user_score'])",
      "metadata": {},
      "execution_count": 24,
      "outputs": [
        {
          "execution_count": 24,
          "output_type": "execute_result",
          "data": {
            "text/plain": [
              "-0.031957110204556376"
            ]
          },
          "metadata": {}
        }
      ]
    },
    {
      "cell_type": "code",
      "source": "data_ps4['total_sales'].corr(data_ps4['critic_score'])",
      "metadata": {},
      "execution_count": 25,
      "outputs": [
        {
          "execution_count": 25,
          "output_type": "execute_result",
          "data": {
            "text/plain": [
              "0.406567902061781"
            ]
          },
          "metadata": {}
        }
      ]
    },
    {
      "cell_type": "code",
      "source": "data_xone = actual_data[actual_data['platform'] == 'XOne']\ndata_xone.plot(y='total_sales', x='user_score', kind='scatter', grid=True);\ndata_xone.plot(y='total_sales', x='critic_score', kind='scatter', grid=True);",
      "metadata": {},
      "execution_count": 26,
      "outputs": [
        {
          "output_type": "display_data",
          "data": {
            "image/png": "[encoded data removed]",
            "text/plain": [
              "<Figure size 432x288 with 1 Axes>"
            ]
          },
          "metadata": {
            "needs_background": "light"
          }
        },
        {
          "output_type": "display_data",
          "data": {
            "image/png": "[encoded data removed]",
            "text/plain": [
              "<Figure size 432x288 with 1 Axes>"
            ]
          },
          "metadata": {
            "needs_background": "light"
          }
        }
      ]
    },
    {
      "cell_type": "code",
      "source": "data_xone['total_sales'].corr(data_xone['user_score'])",
      "metadata": {},
      "execution_count": 27,
      "outputs": [
        {
          "execution_count": 27,
          "output_type": "execute_result",
          "data": {
            "text/plain": [
              "-0.06892505328279412"
            ]
          },
          "metadata": {}
        }
      ]
    },
    {
      "cell_type": "code",
      "source": "data_xone['total_sales'].corr(data_xone['critic_score'])",
      "metadata": {},
      "execution_count": 28,
      "outputs": [
        {
          "execution_count": 28,
          "output_type": "execute_result",
          "data": {
            "text/plain": [
              "0.41699832800840175"
            ]
          },
          "metadata": {}
        }
      ]
    },
    {
      "cell_type": "markdown",
      "source": "**Вывод:** суммарные продажи почти не зависят от оценок пользователей, имеется слабая зависимость от оценок критиков. Игры с соценкой критиков ниже 50 имеют небольшие продажи, а игры с высокими оценками могут как быть продаваемыми, так и остаться непопулярными.\n\nДля других платформ ожидается схожая зависимость.",
      "metadata": {}
    },
    {
      "cell_type": "code",
      "source": "actual_data.plot(y='total_sales', x='user_score', kind='scatter', grid=True);\nactual_data.plot(y='total_sales', x='critic_score', kind='scatter', grid=True);",
      "metadata": {},
      "execution_count": 29,
      "outputs": [
        {
          "output_type": "display_data",
          "data": {
            "image/png": "[encoded data removed]",
            "text/plain": [
              "<Figure size 432x288 with 1 Axes>"
            ]
          },
          "metadata": {
            "needs_background": "light"
          }
        },
        {
          "output_type": "display_data",
          "data": {
            "image/png": "[encoded data removed]",
            "text/plain": [
              "<Figure size 432x288 with 1 Axes>"
            ]
          },
          "metadata": {
            "needs_background": "light"
          }
        }
      ]
    },
    {
      "cell_type": "code",
      "source": "actual_data['total_sales'].corr(data_xone['user_score'])",
      "metadata": {},
      "execution_count": 30,
      "outputs": [
        {
          "execution_count": 30,
          "output_type": "execute_result",
          "data": {
            "text/plain": [
              "-0.06892505328279412"
            ]
          },
          "metadata": {}
        }
      ]
    },
    {
      "cell_type": "code",
      "source": "actual_data['total_sales'].corr(data_xone['critic_score'])",
      "metadata": {},
      "execution_count": 31,
      "outputs": [
        {
          "execution_count": 31,
          "output_type": "execute_result",
          "data": {
            "text/plain": [
              "0.41699832800840175"
            ]
          },
          "metadata": {}
        }
      ]
    },
    {
      "cell_type": "markdown",
      "source": "### Продажи по жанрам",
      "metadata": {}
    },
    {
      "cell_type": "code",
      "source": "data.pivot_table(index='genre', values=['total_sales'], aggfunc=['sum', 'count', 'mean'])",
      "metadata": {},
      "execution_count": 32,
      "outputs": [
        {
          "execution_count": 32,
          "output_type": "execute_result",
          "data": {
            "text/html": [
              "<div>\n",
              "<style scoped>\n",
              "    .dataframe tbody tr th:only-of-type {\n",
              "        vertical-align: middle;\n",
              "    }\n",
              "\n",
              "    .dataframe tbody tr th {\n",
              "        vertical-align: top;\n",
              "    }\n",
              "\n",
              "    .dataframe thead tr th {\n",
              "        text-align: left;\n",
              "    }\n",
              "\n",
              "    .dataframe thead tr:last-of-type th {\n",
              "        text-align: right;\n",
              "    }\n",
              "</style>\n",
              "<table border=\"1\" class=\"dataframe\">\n",
              "  <thead>\n",
              "    <tr>\n",
              "      <th></th>\n",
              "      <th>sum</th>\n",
              "      <th>count</th>\n",
              "      <th>mean</th>\n",
              "    </tr>\n",
              "    <tr>\n",
              "      <th></th>\n",
              "      <th>total_sales</th>\n",
              "      <th>total_sales</th>\n",
              "      <th>total_sales</th>\n",
              "    </tr>\n",
              "    <tr>\n",
              "      <th>genre</th>\n",
              "      <th></th>\n",
              "      <th></th>\n",
              "      <th></th>\n",
              "    </tr>\n",
              "  </thead>\n",
              "  <tbody>\n",
              "    <tr>\n",
              "      <th>Action</th>\n",
              "      <td>1716.52</td>\n",
              "      <td>3307</td>\n",
              "      <td>0.519057</td>\n",
              "    </tr>\n",
              "    <tr>\n",
              "      <th>Adventure</th>\n",
              "      <td>233.33</td>\n",
              "      <td>1293</td>\n",
              "      <td>0.180456</td>\n",
              "    </tr>\n",
              "    <tr>\n",
              "      <th>Fighting</th>\n",
              "      <td>442.66</td>\n",
              "      <td>837</td>\n",
              "      <td>0.528865</td>\n",
              "    </tr>\n",
              "    <tr>\n",
              "      <th>Misc</th>\n",
              "      <td>790.29</td>\n",
              "      <td>1721</td>\n",
              "      <td>0.459204</td>\n",
              "    </tr>\n",
              "    <tr>\n",
              "      <th>Platform</th>\n",
              "      <td>825.55</td>\n",
              "      <td>878</td>\n",
              "      <td>0.940262</td>\n",
              "    </tr>\n",
              "    <tr>\n",
              "      <th>Puzzle</th>\n",
              "      <td>239.89</td>\n",
              "      <td>569</td>\n",
              "      <td>0.421599</td>\n",
              "    </tr>\n",
              "    <tr>\n",
              "      <th>Racing</th>\n",
              "      <td>723.49</td>\n",
              "      <td>1226</td>\n",
              "      <td>0.590122</td>\n",
              "    </tr>\n",
              "    <tr>\n",
              "      <th>Role-Playing</th>\n",
              "      <td>931.08</td>\n",
              "      <td>1481</td>\n",
              "      <td>0.628683</td>\n",
              "    </tr>\n",
              "    <tr>\n",
              "      <th>Shooter</th>\n",
              "      <td>1041.36</td>\n",
              "      <td>1296</td>\n",
              "      <td>0.803519</td>\n",
              "    </tr>\n",
              "    <tr>\n",
              "      <th>Simulation</th>\n",
              "      <td>387.96</td>\n",
              "      <td>857</td>\n",
              "      <td>0.452695</td>\n",
              "    </tr>\n",
              "    <tr>\n",
              "      <th>Sports</th>\n",
              "      <td>1309.67</td>\n",
              "      <td>2306</td>\n",
              "      <td>0.567940</td>\n",
              "    </tr>\n",
              "    <tr>\n",
              "      <th>Strategy</th>\n",
              "      <td>172.57</td>\n",
              "      <td>673</td>\n",
              "      <td>0.256419</td>\n",
              "    </tr>\n",
              "  </tbody>\n",
              "</table>\n",
              "</div>"
            ],
            "text/plain": [
              "                     sum       count        mean\n",
              "             total_sales total_sales total_sales\n",
              "genre                                           \n",
              "Action           1716.52        3307    0.519057\n",
              "Adventure         233.33        1293    0.180456\n",
              "Fighting          442.66         837    0.528865\n",
              "Misc              790.29        1721    0.459204\n",
              "Platform          825.55         878    0.940262\n",
              "Puzzle            239.89         569    0.421599\n",
              "Racing            723.49        1226    0.590122\n",
              "Role-Playing      931.08        1481    0.628683\n",
              "Shooter          1041.36        1296    0.803519\n",
              "Simulation        387.96         857    0.452695\n",
              "Sports           1309.67        2306    0.567940\n",
              "Strategy          172.57         673    0.256419"
            ]
          },
          "metadata": {}
        }
      ]
    },
    {
      "cell_type": "code",
      "source": "actual_data.pivot_table(index='genre', values=['total_sales'], aggfunc=['sum', 'count', 'mean'])",
      "metadata": {},
      "execution_count": 33,
      "outputs": [
        {
          "execution_count": 33,
          "output_type": "execute_result",
          "data": {
            "text/html": [
              "<div>\n",
              "<style scoped>\n",
              "    .dataframe tbody tr th:only-of-type {\n",
              "        vertical-align: middle;\n",
              "    }\n",
              "\n",
              "    .dataframe tbody tr th {\n",
              "        vertical-align: top;\n",
              "    }\n",
              "\n",
              "    .dataframe thead tr th {\n",
              "        text-align: left;\n",
              "    }\n",
              "\n",
              "    .dataframe thead tr:last-of-type th {\n",
              "        text-align: right;\n",
              "    }\n",
              "</style>\n",
              "<table border=\"1\" class=\"dataframe\">\n",
              "  <thead>\n",
              "    <tr>\n",
              "      <th></th>\n",
              "      <th>sum</th>\n",
              "      <th>count</th>\n",
              "      <th>mean</th>\n",
              "    </tr>\n",
              "    <tr>\n",
              "      <th></th>\n",
              "      <th>total_sales</th>\n",
              "      <th>total_sales</th>\n",
              "      <th>total_sales</th>\n",
              "    </tr>\n",
              "    <tr>\n",
              "      <th>genre</th>\n",
              "      <th></th>\n",
              "      <th></th>\n",
              "      <th></th>\n",
              "    </tr>\n",
              "  </thead>\n",
              "  <tbody>\n",
              "    <tr>\n",
              "      <th>Action</th>\n",
              "      <td>321.87</td>\n",
              "      <td>766</td>\n",
              "      <td>0.420196</td>\n",
              "    </tr>\n",
              "    <tr>\n",
              "      <th>Adventure</th>\n",
              "      <td>23.64</td>\n",
              "      <td>245</td>\n",
              "      <td>0.096490</td>\n",
              "    </tr>\n",
              "    <tr>\n",
              "      <th>Fighting</th>\n",
              "      <td>35.31</td>\n",
              "      <td>80</td>\n",
              "      <td>0.441375</td>\n",
              "    </tr>\n",
              "    <tr>\n",
              "      <th>Misc</th>\n",
              "      <td>62.82</td>\n",
              "      <td>155</td>\n",
              "      <td>0.405290</td>\n",
              "    </tr>\n",
              "    <tr>\n",
              "      <th>Platform</th>\n",
              "      <td>42.63</td>\n",
              "      <td>74</td>\n",
              "      <td>0.576081</td>\n",
              "    </tr>\n",
              "    <tr>\n",
              "      <th>Puzzle</th>\n",
              "      <td>3.17</td>\n",
              "      <td>17</td>\n",
              "      <td>0.186471</td>\n",
              "    </tr>\n",
              "    <tr>\n",
              "      <th>Racing</th>\n",
              "      <td>39.89</td>\n",
              "      <td>85</td>\n",
              "      <td>0.469294</td>\n",
              "    </tr>\n",
              "    <tr>\n",
              "      <th>Role-Playing</th>\n",
              "      <td>145.89</td>\n",
              "      <td>292</td>\n",
              "      <td>0.499623</td>\n",
              "    </tr>\n",
              "    <tr>\n",
              "      <th>Shooter</th>\n",
              "      <td>232.98</td>\n",
              "      <td>187</td>\n",
              "      <td>1.245882</td>\n",
              "    </tr>\n",
              "    <tr>\n",
              "      <th>Simulation</th>\n",
              "      <td>21.76</td>\n",
              "      <td>62</td>\n",
              "      <td>0.350968</td>\n",
              "    </tr>\n",
              "    <tr>\n",
              "      <th>Sports</th>\n",
              "      <td>150.65</td>\n",
              "      <td>214</td>\n",
              "      <td>0.703972</td>\n",
              "    </tr>\n",
              "    <tr>\n",
              "      <th>Strategy</th>\n",
              "      <td>10.08</td>\n",
              "      <td>56</td>\n",
              "      <td>0.180000</td>\n",
              "    </tr>\n",
              "  </tbody>\n",
              "</table>\n",
              "</div>"
            ],
            "text/plain": [
              "                     sum       count        mean\n",
              "             total_sales total_sales total_sales\n",
              "genre                                           \n",
              "Action            321.87         766    0.420196\n",
              "Adventure          23.64         245    0.096490\n",
              "Fighting           35.31          80    0.441375\n",
              "Misc               62.82         155    0.405290\n",
              "Platform           42.63          74    0.576081\n",
              "Puzzle              3.17          17    0.186471\n",
              "Racing             39.89          85    0.469294\n",
              "Role-Playing      145.89         292    0.499623\n",
              "Shooter           232.98         187    1.245882\n",
              "Simulation         21.76          62    0.350968\n",
              "Sports            150.65         214    0.703972\n",
              "Strategy           10.08          56    0.180000"
            ]
          },
          "metadata": {}
        }
      ]
    },
    {
      "cell_type": "markdown",
      "source": "**Вывод:** больше всего игр выпущено в жанрах Action и Sports, они же обладают наибольшими суммарными продажами. \nВысокими средними показателями продаж для каждой игры обладают игры в жанрах Platform и Shooter. А наменьшими жанры Adventure и Strategy.\n\nЕсли рассмаатривать актуальный период, то больше всего игр выпущено в жанре Action, он же обладает наибольшими суммарными продажами. Высокими средними показателями продаж для каждой игры обладают игры в жанрах Shooter и Sports. А наменьшими жанры Adventure, Puzzle и Strategy.",
      "metadata": {}
    },
    {
      "cell_type": "markdown",
      "source": "## Портрет пользователя каждого региона",
      "metadata": {}
    },
    {
      "cell_type": "markdown",
      "source": "### Популярные платформы",
      "metadata": {}
    },
    {
      "cell_type": "code",
      "source": "na_user = actual_data.groupby('platform')['na_sales'].sum().sort_values().tail().to_frame()\nna_user = na_user.merge(data.groupby('platform')['total_sales'].sum(), on='platform', how='left')\nna_user['proportion'] = na_user['na_sales'] / na_user['total_sales']",
      "metadata": {},
      "execution_count": 34,
      "outputs": []
    },
    {
      "cell_type": "code",
      "source": "na_user",
      "metadata": {},
      "execution_count": 35,
      "outputs": [
        {
          "execution_count": 35,
          "output_type": "execute_result",
          "data": {
            "text/html": [
              "<div>\n",
              "<style scoped>\n",
              "    .dataframe tbody tr th:only-of-type {\n",
              "        vertical-align: middle;\n",
              "    }\n",
              "\n",
              "    .dataframe tbody tr th {\n",
              "        vertical-align: top;\n",
              "    }\n",
              "\n",
              "    .dataframe thead th {\n",
              "        text-align: right;\n",
              "    }\n",
              "</style>\n",
              "<table border=\"1\" class=\"dataframe\">\n",
              "  <thead>\n",
              "    <tr style=\"text-align: right;\">\n",
              "      <th></th>\n",
              "      <th>na_sales</th>\n",
              "      <th>total_sales</th>\n",
              "      <th>proportion</th>\n",
              "    </tr>\n",
              "    <tr>\n",
              "      <th>platform</th>\n",
              "      <th></th>\n",
              "      <th></th>\n",
              "      <th></th>\n",
              "    </tr>\n",
              "  </thead>\n",
              "  <tbody>\n",
              "    <tr>\n",
              "      <th>3DS</th>\n",
              "      <td>38.20</td>\n",
              "      <td>257.81</td>\n",
              "      <td>0.148171</td>\n",
              "    </tr>\n",
              "    <tr>\n",
              "      <th>PS3</th>\n",
              "      <td>63.50</td>\n",
              "      <td>931.34</td>\n",
              "      <td>0.068181</td>\n",
              "    </tr>\n",
              "    <tr>\n",
              "      <th>X360</th>\n",
              "      <td>81.66</td>\n",
              "      <td>961.24</td>\n",
              "      <td>0.084953</td>\n",
              "    </tr>\n",
              "    <tr>\n",
              "      <th>XOne</th>\n",
              "      <td>93.12</td>\n",
              "      <td>159.32</td>\n",
              "      <td>0.584484</td>\n",
              "    </tr>\n",
              "    <tr>\n",
              "      <th>PS4</th>\n",
              "      <td>108.74</td>\n",
              "      <td>314.14</td>\n",
              "      <td>0.346151</td>\n",
              "    </tr>\n",
              "  </tbody>\n",
              "</table>\n",
              "</div>"
            ],
            "text/plain": [
              "          na_sales  total_sales  proportion\n",
              "platform                                   \n",
              "3DS          38.20       257.81    0.148171\n",
              "PS3          63.50       931.34    0.068181\n",
              "X360         81.66       961.24    0.084953\n",
              "XOne         93.12       159.32    0.584484\n",
              "PS4         108.74       314.14    0.346151"
            ]
          },
          "metadata": {}
        }
      ]
    },
    {
      "cell_type": "code",
      "source": "eu_user = actual_data.groupby('platform')['eu_sales'].sum().sort_values().tail().to_frame()\neu_user = eu_user.merge(data.groupby('platform')['total_sales'].sum(), on='platform', how='left')\neu_user['proportion'] = eu_user['eu_sales'] / eu_user['total_sales']",
      "metadata": {},
      "execution_count": 36,
      "outputs": []
    },
    {
      "cell_type": "code",
      "source": "eu_user",
      "metadata": {},
      "execution_count": 37,
      "outputs": [
        {
          "execution_count": 37,
          "output_type": "execute_result",
          "data": {
            "text/html": [
              "<div>\n",
              "<style scoped>\n",
              "    .dataframe tbody tr th:only-of-type {\n",
              "        vertical-align: middle;\n",
              "    }\n",
              "\n",
              "    .dataframe tbody tr th {\n",
              "        vertical-align: top;\n",
              "    }\n",
              "\n",
              "    .dataframe thead th {\n",
              "        text-align: right;\n",
              "    }\n",
              "</style>\n",
              "<table border=\"1\" class=\"dataframe\">\n",
              "  <thead>\n",
              "    <tr style=\"text-align: right;\">\n",
              "      <th></th>\n",
              "      <th>eu_sales</th>\n",
              "      <th>total_sales</th>\n",
              "      <th>proportion</th>\n",
              "    </tr>\n",
              "    <tr>\n",
              "      <th>platform</th>\n",
              "      <th></th>\n",
              "      <th></th>\n",
              "      <th></th>\n",
              "    </tr>\n",
              "  </thead>\n",
              "  <tbody>\n",
              "    <tr>\n",
              "      <th>3DS</th>\n",
              "      <td>30.96</td>\n",
              "      <td>257.81</td>\n",
              "      <td>0.120088</td>\n",
              "    </tr>\n",
              "    <tr>\n",
              "      <th>X360</th>\n",
              "      <td>42.52</td>\n",
              "      <td>961.24</td>\n",
              "      <td>0.044235</td>\n",
              "    </tr>\n",
              "    <tr>\n",
              "      <th>XOne</th>\n",
              "      <td>51.59</td>\n",
              "      <td>159.32</td>\n",
              "      <td>0.323814</td>\n",
              "    </tr>\n",
              "    <tr>\n",
              "      <th>PS3</th>\n",
              "      <td>67.81</td>\n",
              "      <td>931.34</td>\n",
              "      <td>0.072809</td>\n",
              "    </tr>\n",
              "    <tr>\n",
              "      <th>PS4</th>\n",
              "      <td>141.09</td>\n",
              "      <td>314.14</td>\n",
              "      <td>0.449131</td>\n",
              "    </tr>\n",
              "  </tbody>\n",
              "</table>\n",
              "</div>"
            ],
            "text/plain": [
              "          eu_sales  total_sales  proportion\n",
              "platform                                   \n",
              "3DS          30.96       257.81    0.120088\n",
              "X360         42.52       961.24    0.044235\n",
              "XOne         51.59       159.32    0.323814\n",
              "PS3          67.81       931.34    0.072809\n",
              "PS4         141.09       314.14    0.449131"
            ]
          },
          "metadata": {}
        }
      ]
    },
    {
      "cell_type": "code",
      "source": "jp_user = actual_data.groupby('platform')['jp_sales'].sum().sort_values().tail().to_frame()\njp_user = jp_user.merge(data.groupby('platform')['total_sales'].sum(), on='platform', how='left')\njp_user['proportion'] = jp_user['jp_sales'] / jp_user['total_sales']",
      "metadata": {},
      "execution_count": 38,
      "outputs": []
    },
    {
      "cell_type": "code",
      "source": "jp_user",
      "metadata": {},
      "execution_count": 39,
      "outputs": [
        {
          "execution_count": 39,
          "output_type": "execute_result",
          "data": {
            "text/html": [
              "<div>\n",
              "<style scoped>\n",
              "    .dataframe tbody tr th:only-of-type {\n",
              "        vertical-align: middle;\n",
              "    }\n",
              "\n",
              "    .dataframe tbody tr th {\n",
              "        vertical-align: top;\n",
              "    }\n",
              "\n",
              "    .dataframe thead th {\n",
              "        text-align: right;\n",
              "    }\n",
              "</style>\n",
              "<table border=\"1\" class=\"dataframe\">\n",
              "  <thead>\n",
              "    <tr style=\"text-align: right;\">\n",
              "      <th></th>\n",
              "      <th>jp_sales</th>\n",
              "      <th>total_sales</th>\n",
              "      <th>proportion</th>\n",
              "    </tr>\n",
              "    <tr>\n",
              "      <th>platform</th>\n",
              "      <th></th>\n",
              "      <th></th>\n",
              "      <th></th>\n",
              "    </tr>\n",
              "  </thead>\n",
              "  <tbody>\n",
              "    <tr>\n",
              "      <th>WiiU</th>\n",
              "      <td>10.88</td>\n",
              "      <td>82.19</td>\n",
              "      <td>0.132376</td>\n",
              "    </tr>\n",
              "    <tr>\n",
              "      <th>PS4</th>\n",
              "      <td>15.96</td>\n",
              "      <td>314.14</td>\n",
              "      <td>0.050805</td>\n",
              "    </tr>\n",
              "    <tr>\n",
              "      <th>PSV</th>\n",
              "      <td>18.59</td>\n",
              "      <td>53.81</td>\n",
              "      <td>0.345475</td>\n",
              "    </tr>\n",
              "    <tr>\n",
              "      <th>PS3</th>\n",
              "      <td>23.35</td>\n",
              "      <td>931.34</td>\n",
              "      <td>0.025071</td>\n",
              "    </tr>\n",
              "    <tr>\n",
              "      <th>3DS</th>\n",
              "      <td>67.81</td>\n",
              "      <td>257.81</td>\n",
              "      <td>0.263023</td>\n",
              "    </tr>\n",
              "  </tbody>\n",
              "</table>\n",
              "</div>"
            ],
            "text/plain": [
              "          jp_sales  total_sales  proportion\n",
              "platform                                   \n",
              "WiiU         10.88        82.19    0.132376\n",
              "PS4          15.96       314.14    0.050805\n",
              "PSV          18.59        53.81    0.345475\n",
              "PS3          23.35       931.34    0.025071\n",
              "3DS          67.81       257.81    0.263023"
            ]
          },
          "metadata": {}
        }
      ]
    },
    {
      "cell_type": "markdown",
      "source": "**Вывод:** во всех регионах популяными являются 3DS, PS3 и PS4. В Северной Америке и Европе так же популяны X360 и XOne. А в Японии PSV и WiiU.",
      "metadata": {}
    },
    {
      "cell_type": "markdown",
      "source": "### Популярные жанры",
      "metadata": {}
    },
    {
      "cell_type": "code",
      "source": "na_user = actual_data.groupby('genre')['na_sales'].sum().sort_values().tail().to_frame()\nna_user = na_user.merge(data.groupby('genre')['total_sales'].sum(), on='genre', how='left')\nna_user['proportion'] = na_user['na_sales'] / na_user['total_sales']",
      "metadata": {},
      "execution_count": 40,
      "outputs": []
    },
    {
      "cell_type": "code",
      "source": "na_user",
      "metadata": {},
      "execution_count": 41,
      "outputs": [
        {
          "execution_count": 41,
          "output_type": "execute_result",
          "data": {
            "text/html": [
              "<div>\n",
              "<style scoped>\n",
              "    .dataframe tbody tr th:only-of-type {\n",
              "        vertical-align: middle;\n",
              "    }\n",
              "\n",
              "    .dataframe tbody tr th {\n",
              "        vertical-align: top;\n",
              "    }\n",
              "\n",
              "    .dataframe thead th {\n",
              "        text-align: right;\n",
              "    }\n",
              "</style>\n",
              "<table border=\"1\" class=\"dataframe\">\n",
              "  <thead>\n",
              "    <tr style=\"text-align: right;\">\n",
              "      <th></th>\n",
              "      <th>na_sales</th>\n",
              "      <th>total_sales</th>\n",
              "      <th>proportion</th>\n",
              "    </tr>\n",
              "    <tr>\n",
              "      <th>genre</th>\n",
              "      <th></th>\n",
              "      <th></th>\n",
              "      <th></th>\n",
              "    </tr>\n",
              "  </thead>\n",
              "  <tbody>\n",
              "    <tr>\n",
              "      <th>Misc</th>\n",
              "      <td>27.49</td>\n",
              "      <td>790.29</td>\n",
              "      <td>0.034785</td>\n",
              "    </tr>\n",
              "    <tr>\n",
              "      <th>Role-Playing</th>\n",
              "      <td>46.40</td>\n",
              "      <td>931.08</td>\n",
              "      <td>0.049835</td>\n",
              "    </tr>\n",
              "    <tr>\n",
              "      <th>Sports</th>\n",
              "      <td>65.27</td>\n",
              "      <td>1309.67</td>\n",
              "      <td>0.049837</td>\n",
              "    </tr>\n",
              "    <tr>\n",
              "      <th>Shooter</th>\n",
              "      <td>109.74</td>\n",
              "      <td>1041.36</td>\n",
              "      <td>0.105381</td>\n",
              "    </tr>\n",
              "    <tr>\n",
              "      <th>Action</th>\n",
              "      <td>126.05</td>\n",
              "      <td>1716.52</td>\n",
              "      <td>0.073433</td>\n",
              "    </tr>\n",
              "  </tbody>\n",
              "</table>\n",
              "</div>"
            ],
            "text/plain": [
              "              na_sales  total_sales  proportion\n",
              "genre                                          \n",
              "Misc             27.49       790.29    0.034785\n",
              "Role-Playing     46.40       931.08    0.049835\n",
              "Sports           65.27      1309.67    0.049837\n",
              "Shooter         109.74      1041.36    0.105381\n",
              "Action          126.05      1716.52    0.073433"
            ]
          },
          "metadata": {}
        }
      ]
    },
    {
      "cell_type": "code",
      "source": "eu_user = actual_data.groupby('genre')['eu_sales'].sum().sort_values().tail().to_frame()\neu_user = eu_user.merge(data.groupby('genre')['total_sales'].sum(), on='genre', how='left')\neu_user['proportion'] = eu_user['eu_sales'] / eu_user['total_sales']",
      "metadata": {},
      "execution_count": 42,
      "outputs": []
    },
    {
      "cell_type": "code",
      "source": "eu_user",
      "metadata": {},
      "execution_count": 43,
      "outputs": [
        {
          "execution_count": 43,
          "output_type": "execute_result",
          "data": {
            "text/html": [
              "<div>\n",
              "<style scoped>\n",
              "    .dataframe tbody tr th:only-of-type {\n",
              "        vertical-align: middle;\n",
              "    }\n",
              "\n",
              "    .dataframe tbody tr th {\n",
              "        vertical-align: top;\n",
              "    }\n",
              "\n",
              "    .dataframe thead th {\n",
              "        text-align: right;\n",
              "    }\n",
              "</style>\n",
              "<table border=\"1\" class=\"dataframe\">\n",
              "  <thead>\n",
              "    <tr style=\"text-align: right;\">\n",
              "      <th></th>\n",
              "      <th>eu_sales</th>\n",
              "      <th>total_sales</th>\n",
              "      <th>proportion</th>\n",
              "    </tr>\n",
              "    <tr>\n",
              "      <th>genre</th>\n",
              "      <th></th>\n",
              "      <th></th>\n",
              "      <th></th>\n",
              "    </tr>\n",
              "  </thead>\n",
              "  <tbody>\n",
              "    <tr>\n",
              "      <th>Racing</th>\n",
              "      <td>20.19</td>\n",
              "      <td>723.49</td>\n",
              "      <td>0.027906</td>\n",
              "    </tr>\n",
              "    <tr>\n",
              "      <th>Role-Playing</th>\n",
              "      <td>36.97</td>\n",
              "      <td>931.08</td>\n",
              "      <td>0.039707</td>\n",
              "    </tr>\n",
              "    <tr>\n",
              "      <th>Sports</th>\n",
              "      <td>60.52</td>\n",
              "      <td>1309.67</td>\n",
              "      <td>0.046210</td>\n",
              "    </tr>\n",
              "    <tr>\n",
              "      <th>Shooter</th>\n",
              "      <td>87.86</td>\n",
              "      <td>1041.36</td>\n",
              "      <td>0.084370</td>\n",
              "    </tr>\n",
              "    <tr>\n",
              "      <th>Action</th>\n",
              "      <td>118.13</td>\n",
              "      <td>1716.52</td>\n",
              "      <td>0.068819</td>\n",
              "    </tr>\n",
              "  </tbody>\n",
              "</table>\n",
              "</div>"
            ],
            "text/plain": [
              "              eu_sales  total_sales  proportion\n",
              "genre                                          \n",
              "Racing           20.19       723.49    0.027906\n",
              "Role-Playing     36.97       931.08    0.039707\n",
              "Sports           60.52      1309.67    0.046210\n",
              "Shooter          87.86      1041.36    0.084370\n",
              "Action          118.13      1716.52    0.068819"
            ]
          },
          "metadata": {}
        }
      ]
    },
    {
      "cell_type": "code",
      "source": "jp_user = actual_data.groupby('genre')['jp_sales'].sum().sort_values().tail().to_frame()\njp_user = jp_user.merge(data.groupby('genre')['total_sales'].sum(), on='genre', how='left')\njp_user['proportion'] = jp_user['jp_sales'] / jp_user['total_sales']",
      "metadata": {},
      "execution_count": 44,
      "outputs": []
    },
    {
      "cell_type": "code",
      "source": "jp_user",
      "metadata": {},
      "execution_count": 45,
      "outputs": [
        {
          "execution_count": 45,
          "output_type": "execute_result",
          "data": {
            "text/html": [
              "<div>\n",
              "<style scoped>\n",
              "    .dataframe tbody tr th:only-of-type {\n",
              "        vertical-align: middle;\n",
              "    }\n",
              "\n",
              "    .dataframe tbody tr th {\n",
              "        vertical-align: top;\n",
              "    }\n",
              "\n",
              "    .dataframe thead th {\n",
              "        text-align: right;\n",
              "    }\n",
              "</style>\n",
              "<table border=\"1\" class=\"dataframe\">\n",
              "  <thead>\n",
              "    <tr style=\"text-align: right;\">\n",
              "      <th></th>\n",
              "      <th>jp_sales</th>\n",
              "      <th>total_sales</th>\n",
              "      <th>proportion</th>\n",
              "    </tr>\n",
              "    <tr>\n",
              "      <th>genre</th>\n",
              "      <th></th>\n",
              "      <th></th>\n",
              "      <th></th>\n",
              "    </tr>\n",
              "  </thead>\n",
              "  <tbody>\n",
              "    <tr>\n",
              "      <th>Shooter</th>\n",
              "      <td>6.61</td>\n",
              "      <td>1041.36</td>\n",
              "      <td>0.006347</td>\n",
              "    </tr>\n",
              "    <tr>\n",
              "      <th>Fighting</th>\n",
              "      <td>7.65</td>\n",
              "      <td>442.66</td>\n",
              "      <td>0.017282</td>\n",
              "    </tr>\n",
              "    <tr>\n",
              "      <th>Misc</th>\n",
              "      <td>9.20</td>\n",
              "      <td>790.29</td>\n",
              "      <td>0.011641</td>\n",
              "    </tr>\n",
              "    <tr>\n",
              "      <th>Action</th>\n",
              "      <td>40.49</td>\n",
              "      <td>1716.52</td>\n",
              "      <td>0.023588</td>\n",
              "    </tr>\n",
              "    <tr>\n",
              "      <th>Role-Playing</th>\n",
              "      <td>51.04</td>\n",
              "      <td>931.08</td>\n",
              "      <td>0.054818</td>\n",
              "    </tr>\n",
              "  </tbody>\n",
              "</table>\n",
              "</div>"
            ],
            "text/plain": [
              "              jp_sales  total_sales  proportion\n",
              "genre                                          \n",
              "Shooter           6.61      1041.36    0.006347\n",
              "Fighting          7.65       442.66    0.017282\n",
              "Misc              9.20       790.29    0.011641\n",
              "Action           40.49      1716.52    0.023588\n",
              "Role-Playing     51.04       931.08    0.054818"
            ]
          },
          "metadata": {}
        }
      ]
    },
    {
      "cell_type": "markdown",
      "source": "**Вывод:** популярными жанрами во всех регионах являются Action, Shooter и Role-Playing. В Северное Америке так же популярен жанр Sports. В Европе Racing и Sports. В Японии - Fighting.",
      "metadata": {}
    },
    {
      "cell_type": "markdown",
      "source": "### Влияние рейтинга ESRB",
      "metadata": {}
    },
    {
      "cell_type": "code",
      "source": "na_user = actual_data.groupby('rating')['na_sales'].sum().sort_values().to_frame()\nna_user = na_user.merge(data.groupby('rating')['total_sales'].sum(), on='rating', how='left')\nna_user['proportion'] = na_user['na_sales'] / na_user['total_sales']",
      "metadata": {},
      "execution_count": 46,
      "outputs": []
    },
    {
      "cell_type": "code",
      "source": "na_user",
      "metadata": {},
      "execution_count": 47,
      "outputs": [
        {
          "execution_count": 47,
          "output_type": "execute_result",
          "data": {
            "text/html": [
              "<div>\n",
              "<style scoped>\n",
              "    .dataframe tbody tr th:only-of-type {\n",
              "        vertical-align: middle;\n",
              "    }\n",
              "\n",
              "    .dataframe tbody tr th {\n",
              "        vertical-align: top;\n",
              "    }\n",
              "\n",
              "    .dataframe thead th {\n",
              "        text-align: right;\n",
              "    }\n",
              "</style>\n",
              "<table border=\"1\" class=\"dataframe\">\n",
              "  <thead>\n",
              "    <tr style=\"text-align: right;\">\n",
              "      <th></th>\n",
              "      <th>na_sales</th>\n",
              "      <th>total_sales</th>\n",
              "      <th>proportion</th>\n",
              "    </tr>\n",
              "    <tr>\n",
              "      <th>rating</th>\n",
              "      <th></th>\n",
              "      <th></th>\n",
              "      <th></th>\n",
              "    </tr>\n",
              "  </thead>\n",
              "  <tbody>\n",
              "    <tr>\n",
              "      <th>T</th>\n",
              "      <td>49.79</td>\n",
              "      <td>1473.08</td>\n",
              "      <td>0.033800</td>\n",
              "    </tr>\n",
              "    <tr>\n",
              "      <th>E10+</th>\n",
              "      <td>54.24</td>\n",
              "      <td>640.98</td>\n",
              "      <td>0.084620</td>\n",
              "    </tr>\n",
              "    <tr>\n",
              "      <th>E</th>\n",
              "      <td>79.05</td>\n",
              "      <td>2407.61</td>\n",
              "      <td>0.032833</td>\n",
              "    </tr>\n",
              "    <tr>\n",
              "      <th>no_rating</th>\n",
              "      <td>89.42</td>\n",
              "      <td>2822.10</td>\n",
              "      <td>0.031686</td>\n",
              "    </tr>\n",
              "    <tr>\n",
              "      <th>M</th>\n",
              "      <td>165.21</td>\n",
              "      <td>1462.53</td>\n",
              "      <td>0.112962</td>\n",
              "    </tr>\n",
              "  </tbody>\n",
              "</table>\n",
              "</div>"
            ],
            "text/plain": [
              "           na_sales  total_sales  proportion\n",
              "rating                                      \n",
              "T             49.79      1473.08    0.033800\n",
              "E10+          54.24       640.98    0.084620\n",
              "E             79.05      2407.61    0.032833\n",
              "no_rating     89.42      2822.10    0.031686\n",
              "M            165.21      1462.53    0.112962"
            ]
          },
          "metadata": {}
        }
      ]
    },
    {
      "cell_type": "code",
      "source": "eu_user = actual_data.groupby('rating')['eu_sales'].sum().sort_values().to_frame()\neu_user = eu_user.merge(data.groupby('rating')['total_sales'].sum(), on='rating', how='left')\neu_user['proportion'] = eu_user['eu_sales'] / eu_user['total_sales']",
      "metadata": {},
      "execution_count": 48,
      "outputs": []
    },
    {
      "cell_type": "code",
      "source": "eu_user",
      "metadata": {},
      "execution_count": 49,
      "outputs": [
        {
          "execution_count": 49,
          "output_type": "execute_result",
          "data": {
            "text/html": [
              "<div>\n",
              "<style scoped>\n",
              "    .dataframe tbody tr th:only-of-type {\n",
              "        vertical-align: middle;\n",
              "    }\n",
              "\n",
              "    .dataframe tbody tr th {\n",
              "        vertical-align: top;\n",
              "    }\n",
              "\n",
              "    .dataframe thead th {\n",
              "        text-align: right;\n",
              "    }\n",
              "</style>\n",
              "<table border=\"1\" class=\"dataframe\">\n",
              "  <thead>\n",
              "    <tr style=\"text-align: right;\">\n",
              "      <th></th>\n",
              "      <th>eu_sales</th>\n",
              "      <th>total_sales</th>\n",
              "      <th>proportion</th>\n",
              "    </tr>\n",
              "    <tr>\n",
              "      <th>rating</th>\n",
              "      <th></th>\n",
              "      <th></th>\n",
              "      <th></th>\n",
              "    </tr>\n",
              "  </thead>\n",
              "  <tbody>\n",
              "    <tr>\n",
              "      <th>T</th>\n",
              "      <td>41.95</td>\n",
              "      <td>1473.08</td>\n",
              "      <td>0.028478</td>\n",
              "    </tr>\n",
              "    <tr>\n",
              "      <th>E10+</th>\n",
              "      <td>42.69</td>\n",
              "      <td>640.98</td>\n",
              "      <td>0.066601</td>\n",
              "    </tr>\n",
              "    <tr>\n",
              "      <th>no_rating</th>\n",
              "      <td>78.91</td>\n",
              "      <td>2822.10</td>\n",
              "      <td>0.027961</td>\n",
              "    </tr>\n",
              "    <tr>\n",
              "      <th>E</th>\n",
              "      <td>83.36</td>\n",
              "      <td>2407.61</td>\n",
              "      <td>0.034624</td>\n",
              "    </tr>\n",
              "    <tr>\n",
              "      <th>M</th>\n",
              "      <td>145.32</td>\n",
              "      <td>1462.53</td>\n",
              "      <td>0.099362</td>\n",
              "    </tr>\n",
              "  </tbody>\n",
              "</table>\n",
              "</div>"
            ],
            "text/plain": [
              "           eu_sales  total_sales  proportion\n",
              "rating                                      \n",
              "T             41.95      1473.08    0.028478\n",
              "E10+          42.69       640.98    0.066601\n",
              "no_rating     78.91      2822.10    0.027961\n",
              "E             83.36      2407.61    0.034624\n",
              "M            145.32      1462.53    0.099362"
            ]
          },
          "metadata": {}
        }
      ]
    },
    {
      "cell_type": "code",
      "source": "jp_user = actual_data.groupby('rating')['jp_sales'].sum().sort_values().to_frame()\njp_user = jp_user.merge(data.groupby('rating')['total_sales'].sum(), on='rating', how='left')\njp_user['proportion'] = jp_user['jp_sales'] / jp_user['total_sales']",
      "metadata": {},
      "execution_count": 50,
      "outputs": []
    },
    {
      "cell_type": "code",
      "source": "jp_user",
      "metadata": {},
      "execution_count": 51,
      "outputs": [
        {
          "execution_count": 51,
          "output_type": "execute_result",
          "data": {
            "text/html": [
              "<div>\n",
              "<style scoped>\n",
              "    .dataframe tbody tr th:only-of-type {\n",
              "        vertical-align: middle;\n",
              "    }\n",
              "\n",
              "    .dataframe tbody tr th {\n",
              "        vertical-align: top;\n",
              "    }\n",
              "\n",
              "    .dataframe thead th {\n",
              "        text-align: right;\n",
              "    }\n",
              "</style>\n",
              "<table border=\"1\" class=\"dataframe\">\n",
              "  <thead>\n",
              "    <tr style=\"text-align: right;\">\n",
              "      <th></th>\n",
              "      <th>jp_sales</th>\n",
              "      <th>total_sales</th>\n",
              "      <th>proportion</th>\n",
              "    </tr>\n",
              "    <tr>\n",
              "      <th>rating</th>\n",
              "      <th></th>\n",
              "      <th></th>\n",
              "      <th></th>\n",
              "    </tr>\n",
              "  </thead>\n",
              "  <tbody>\n",
              "    <tr>\n",
              "      <th>E10+</th>\n",
              "      <td>5.89</td>\n",
              "      <td>640.98</td>\n",
              "      <td>0.009189</td>\n",
              "    </tr>\n",
              "    <tr>\n",
              "      <th>M</th>\n",
              "      <td>14.11</td>\n",
              "      <td>1462.53</td>\n",
              "      <td>0.009648</td>\n",
              "    </tr>\n",
              "    <tr>\n",
              "      <th>E</th>\n",
              "      <td>15.14</td>\n",
              "      <td>2407.61</td>\n",
              "      <td>0.006288</td>\n",
              "    </tr>\n",
              "    <tr>\n",
              "      <th>T</th>\n",
              "      <td>20.59</td>\n",
              "      <td>1473.08</td>\n",
              "      <td>0.013978</td>\n",
              "    </tr>\n",
              "    <tr>\n",
              "      <th>no_rating</th>\n",
              "      <td>85.05</td>\n",
              "      <td>2822.10</td>\n",
              "      <td>0.030137</td>\n",
              "    </tr>\n",
              "  </tbody>\n",
              "</table>\n",
              "</div>"
            ],
            "text/plain": [
              "           jp_sales  total_sales  proportion\n",
              "rating                                      \n",
              "E10+           5.89       640.98    0.009189\n",
              "M             14.11      1462.53    0.009648\n",
              "E             15.14      2407.61    0.006288\n",
              "T             20.59      1473.08    0.013978\n",
              "no_rating     85.05      2822.10    0.030137"
            ]
          },
          "metadata": {}
        }
      ]
    },
    {
      "cell_type": "markdown",
      "source": "**Вывод:** в Северной Америке и Европе покупают больше игр с рейтингом E и M, а так же игры не получившие рейтинг. В Японии большую часть продаж занимают игры без рейтинга.",
      "metadata": {}
    },
    {
      "cell_type": "markdown",
      "source": "## Проверка гипотез",
      "metadata": {}
    },
    {
      "cell_type": "markdown",
      "source": "### Средние пользовательские рейтинги платформ Xbox One и PC одинаковые",
      "metadata": {}
    },
    {
      "cell_type": "markdown",
      "source": "Проверка гипотезы: средние пользовательские рейтинги платформ Xbox One и PC одинаковые;\n\n```\nH_0: Пользовательские рейтинги (user_score) платформы Xbox One = пользовательские рейтинги (user_score) платформы PC`\nH_a: Пользовательские рейтинги (user_score) платформы Xbox One ≠ пользовательские рейтинги (user_score) платформы PC`\nalpha = 0.05\n```",
      "metadata": {}
    },
    {
      "cell_type": "code",
      "source": "results = st.ttest_ind(\n    actual_data[(actual_data['platform'] =='XOne') & (actual_data['user_score'].notnull())]['user_score'], \n    actual_data[(actual_data['platform'] =='PC') & (actual_data['user_score'].notnull())]['user_score'],\n    equal_var = False)\n\nalpha = 0.05\nprint(results.pvalue)\n\nif results.pvalue < alpha:\n    print(\"Отвергаем нулевую гипотезу\")\nelse:\n    print(\"Не получилось отвергнуть нулевую гипотезу\") ",
      "metadata": {},
      "execution_count": 52,
      "outputs": [
        {
          "name": "stdout",
          "output_type": "stream",
          "text": "0.14759594013430463\n\nНе получилось отвергнуть нулевую гипотезу\n"
        }
      ]
    },
    {
      "cell_type": "markdown",
      "source": "Пользовательские оценки игр для платформы Xbox One равны оценкам игр для платформы PC.",
      "metadata": {}
    },
    {
      "cell_type": "markdown",
      "source": "### Средние пользовательские рейтинги жанров Action (англ. «действие», экшен-игры) и Sports (англ. «спортивные соревнования») разные.",
      "metadata": {}
    },
    {
      "cell_type": "markdown",
      "source": "Проверка гипотезы: средние пользовательские рейтинги жанров Action (англ. «действие», экшен-игры) и Sports (англ. «спортивные соревнования») разные;\n\n```\nH_0: Пользовательские рейтинги (user_score) игр жанра Action = пользовательские рейтинги (user_score) жанра Sports`\nH_a: Пользовательские рейтинги (user_score) игр жанра Action ≠ пользовательские рейтинги (user_score) жанра Sports`\nalpha = 0.05\n```",
      "metadata": {}
    },
    {
      "cell_type": "code",
      "source": "results = st.ttest_ind(\n    actual_data[(actual_data['genre'] =='Action') & (actual_data['user_score'].notnull())]['user_score'], \n    actual_data[(actual_data['genre'] =='Sports') & (actual_data['user_score'].notnull())]['user_score'],\n    equal_var = False)\n\nalpha = 0.05\nprint(results.pvalue)\n\nif results.pvalue < alpha:\n    print(\"Отвергаем нулевую гипотезу\")\nelse:\n    print(\"Не получилось отвергнуть нулевую гипотезу\") ",
      "metadata": {},
      "execution_count": 53,
      "outputs": [
        {
          "name": "stdout",
          "output_type": "stream",
          "text": "1.4460039700704315e-20\n\nОтвергаем нулевую гипотезу\n"
        }
      ]
    },
    {
      "cell_type": "markdown",
      "source": "Пользовательские оценки игр жанра Action и жанра Sports различаются.",
      "metadata": {}
    },
    {
      "cell_type": "markdown",
      "source": "## Вывод",
      "metadata": {}
    },
    {
      "cell_type": "markdown",
      "source": "**Общий вывод:**\n\nБыло проведено исследование данных с целью прогнозирования успешности продаж игры и выявления закономерностей определяющих успешность. Входные данные - информация о продажах игр до 2016 года.\n\nВыполнены следующие шаги:\n- Устранены пропуски;\n- Добавлены новые столбец для исслдеования;\n- Проведен исследовательский анализ данных;\n- Рассмотрено, сколько времени нужно для появления новой платформы и как долго удерживает популярность существующие;\n- Исследовано влияние оценок на продажи игр;\n- Изучено распределение игр по жанрам;\n- Составлен портрет пользователей для трех регионов;\n- Проверены две гипотезы.\n\n**Результаты**\n\n**Вопрос 1. За какой характерный срок появляются новые и исчезают старые платформы?** Примерно 10 лет выпускаются игры для одной платформы, каждые 5 лет повляется хотя бы одна новая. Около 3 лет платформа удерживает популярность.\n\n**Вопрос 2. Как влияют на продажи внутри одной популярной платформы отзывы пользователей и критиков?** Было выявлено, что оценки пользователей не влияют на продажи игр, а оценки критиков оказывают слабое влияние.\n\n**Вопрос 3.  Что можно сказать о самых прибыльных жанрах? Выделяются ли жанры с высокими и низкими продажами?** Если рассмаатривать актуальный период, то больше всего игр выпущено в жанре Action, он же обладает наибольшими суммарными продажами. Высокими средними показателями продаж для каждой игры обладают игры в жанрах Shooter и Sports. А наменьшими жанры Adventure, Puzzle и Strategy.\n\n**Портрет пользователей регионов** Во всех регионах популяными являются 3DS, PS3 и PS4. В Северной Америке и Европе так же популяны X360 и XOne. А в Японии PSV и WiiU. \nПопулярными жанрами во всех регионах являются Action, Shooter и Role-Playing. В Северное Америке так же популярен жанр Sports. В Европе Racing и Sports. В Японии - Fighting.\nВ Северной Америке и Европе покупают больше игр с рейтингом E и M, а так же игры не получившие рейтинг. В Японии большую часть продаж занимают игры без рейтинга.\n\n**Гипотезы**\n**Гипотеза 1. Средние пользовательские рейтинги платформ Xbox One и PC одинаковые.** Данная гипотеза была принята, пользовательские оценки игр на платформах Xbox One и PC одиннаковые.\n\n**Гипотеза 2. Средние пользовательские рейтинги жанров Action (англ. «действие», экшен-игры) и Sports (англ. «спортивные соревнования») разные.** Гипотеза была принята, пользовательские оценки игр в жанрах Action и Sports разные.\n\n**Рекомендации для рекламной компании на 2017 год** уделить большее внимае играм для платформ 3DS, XOne и PS4. В жанрах Action, Shooter и Role-Playing. С рейтингом E и M. Высокие оценки критиков так же являются поводом обратить внимание на игру.",
      "metadata": {}
    },
    {
      "cell_type": "code",
      "source": "",
      "metadata": {},
      "execution_count": null,
      "outputs": []
    }
  ]
}
