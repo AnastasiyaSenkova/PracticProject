{
  "metadata": {
    "ExecuteTimeLog": [
      {
        "duration": 1943,
        "start_time": "2023-02-13T05:10:44.043Z"
      },
      {
        "duration": 2972,
        "start_time": "2023-02-13T05:10:47.816Z"
      },
      {
        "duration": 877,
        "start_time": "2023-02-13T05:11:01.421Z"
      },
      {
        "duration": 911,
        "start_time": "2023-02-13T05:12:09.720Z"
      },
      {
        "duration": 35,
        "start_time": "2023-02-13T05:13:25.074Z"
      },
      {
        "duration": 214,
        "start_time": "2023-02-13T05:13:46.619Z"
      },
      {
        "duration": 30,
        "start_time": "2023-02-13T05:29:18.437Z"
      },
      {
        "duration": 4,
        "start_time": "2023-02-13T05:29:52.545Z"
      },
      {
        "duration": 558,
        "start_time": "2023-02-13T05:34:05.916Z"
      },
      {
        "duration": 15,
        "start_time": "2023-02-13T05:34:13.365Z"
      },
      {
        "duration": 1602,
        "start_time": "2023-02-15T04:53:32.935Z"
      },
      {
        "duration": 3065,
        "start_time": "2023-02-15T04:53:34.539Z"
      },
      {
        "duration": 32,
        "start_time": "2023-02-15T04:53:37.606Z"
      },
      {
        "duration": 179,
        "start_time": "2023-02-15T04:53:37.640Z"
      },
      {
        "duration": 32,
        "start_time": "2023-02-15T04:53:37.821Z"
      },
      {
        "duration": 1952,
        "start_time": "2023-02-15T04:53:37.856Z"
      },
      {
        "duration": 8,
        "start_time": "2023-02-15T04:53:39.810Z"
      },
      {
        "duration": 1478,
        "start_time": "2023-02-15T04:58:22.791Z"
      },
      {
        "duration": 959,
        "start_time": "2023-02-15T04:58:24.272Z"
      },
      {
        "duration": 40,
        "start_time": "2023-02-15T04:58:25.233Z"
      },
      {
        "duration": 177,
        "start_time": "2023-02-15T04:58:25.276Z"
      },
      {
        "duration": 32,
        "start_time": "2023-02-15T04:58:25.458Z"
      },
      {
        "duration": 8,
        "start_time": "2023-02-15T04:58:25.493Z"
      },
      {
        "duration": 533,
        "start_time": "2023-02-15T04:58:25.503Z"
      },
      {
        "duration": 0,
        "start_time": "2023-02-15T04:58:26.038Z"
      },
      {
        "duration": 1440,
        "start_time": "2023-02-15T05:01:27.568Z"
      },
      {
        "duration": 965,
        "start_time": "2023-02-15T05:01:29.010Z"
      },
      {
        "duration": 43,
        "start_time": "2023-02-15T05:01:29.977Z"
      },
      {
        "duration": 155,
        "start_time": "2023-02-15T05:01:30.023Z"
      },
      {
        "duration": 32,
        "start_time": "2023-02-15T05:01:30.180Z"
      },
      {
        "duration": 26,
        "start_time": "2023-02-15T05:01:30.214Z"
      },
      {
        "duration": 499,
        "start_time": "2023-02-15T05:01:30.242Z"
      },
      {
        "duration": 0,
        "start_time": "2023-02-15T05:01:30.743Z"
      },
      {
        "duration": 482,
        "start_time": "2023-02-15T05:02:12.880Z"
      },
      {
        "duration": 1491566,
        "start_time": "2023-02-15T05:02:19.161Z"
      },
      {
        "duration": 19,
        "start_time": "2023-02-15T05:27:10.729Z"
      },
      {
        "duration": 1334,
        "start_time": "2023-02-15T07:23:12.465Z"
      },
      {
        "duration": 1007,
        "start_time": "2023-02-15T07:23:13.801Z"
      },
      {
        "duration": 40,
        "start_time": "2023-02-15T07:23:14.809Z"
      },
      {
        "duration": 220,
        "start_time": "2023-02-15T07:23:14.858Z"
      },
      {
        "duration": 5,
        "start_time": "2023-02-15T07:23:15.080Z"
      },
      {
        "duration": 74,
        "start_time": "2023-02-15T07:23:15.087Z"
      },
      {
        "duration": 0,
        "start_time": "2023-02-15T07:23:15.163Z"
      },
      {
        "duration": 0,
        "start_time": "2023-02-15T07:23:15.164Z"
      },
      {
        "duration": 0,
        "start_time": "2023-02-15T07:23:15.166Z"
      },
      {
        "duration": 4,
        "start_time": "2023-02-15T07:23:25.009Z"
      },
      {
        "duration": 2,
        "start_time": "2023-02-15T07:23:25.784Z"
      },
      {
        "duration": 35804,
        "start_time": "2023-02-15T07:23:26.372Z"
      },
      {
        "duration": 0,
        "start_time": "2023-02-15T07:24:02.177Z"
      },
      {
        "duration": 48,
        "start_time": "2023-02-21T05:31:44.046Z"
      },
      {
        "duration": 5544,
        "start_time": "2023-02-22T06:38:58.748Z"
      },
      {
        "duration": 3711,
        "start_time": "2023-02-22T06:39:04.294Z"
      },
      {
        "duration": 33,
        "start_time": "2023-02-22T06:39:08.007Z"
      },
      {
        "duration": 356,
        "start_time": "2023-02-22T06:39:08.041Z"
      },
      {
        "duration": 0,
        "start_time": "2023-02-22T06:39:08.399Z"
      },
      {
        "duration": 610,
        "start_time": "2023-02-22T06:39:39.814Z"
      },
      {
        "duration": 3,
        "start_time": "2023-02-22T06:39:41.378Z"
      },
      {
        "duration": 4,
        "start_time": "2023-02-22T06:39:41.866Z"
      },
      {
        "duration": 784,
        "start_time": "2023-02-22T06:40:27.541Z"
      },
      {
        "duration": 820,
        "start_time": "2023-02-22T06:40:35.850Z"
      },
      {
        "duration": 6,
        "start_time": "2023-02-22T06:40:49.139Z"
      },
      {
        "duration": 7,
        "start_time": "2023-02-22T06:40:54.686Z"
      },
      {
        "duration": 17,
        "start_time": "2023-02-22T06:41:07.186Z"
      },
      {
        "duration": 4,
        "start_time": "2023-02-22T06:41:23.502Z"
      },
      {
        "duration": 13,
        "start_time": "2023-02-22T06:41:23.926Z"
      },
      {
        "duration": 3476,
        "start_time": "2023-02-22T06:56:00.329Z"
      },
      {
        "duration": 837,
        "start_time": "2023-02-22T06:56:03.808Z"
      },
      {
        "duration": 25,
        "start_time": "2023-02-22T06:56:04.647Z"
      },
      {
        "duration": 452,
        "start_time": "2023-02-22T06:56:04.674Z"
      },
      {
        "duration": 3,
        "start_time": "2023-02-22T06:56:05.128Z"
      },
      {
        "duration": 19,
        "start_time": "2023-02-22T06:56:05.132Z"
      },
      {
        "duration": 957898,
        "start_time": "2023-02-22T06:56:05.153Z"
      },
      {
        "duration": 11,
        "start_time": "2023-02-22T07:12:03.053Z"
      },
      {
        "duration": 386,
        "start_time": "2023-02-22T07:12:03.066Z"
      },
      {
        "duration": 1,
        "start_time": "2023-02-22T07:12:03.453Z"
      },
      {
        "duration": 0,
        "start_time": "2023-02-22T07:12:03.455Z"
      },
      {
        "duration": 0,
        "start_time": "2023-02-22T07:12:03.456Z"
      },
      {
        "duration": 0,
        "start_time": "2023-02-22T07:12:03.458Z"
      },
      {
        "duration": 0,
        "start_time": "2023-02-22T07:12:03.460Z"
      },
      {
        "duration": 69,
        "start_time": "2023-02-22T07:13:23.248Z"
      },
      {
        "duration": 73,
        "start_time": "2023-02-22T07:13:26.168Z"
      },
      {
        "duration": 11588,
        "start_time": "2023-02-22T07:13:28.318Z"
      },
      {
        "duration": 2757,
        "start_time": "2023-02-22T07:13:39.908Z"
      },
      {
        "duration": 3669,
        "start_time": "2023-02-22T07:13:42.667Z"
      },
      {
        "duration": 45258,
        "start_time": "2023-02-22T07:13:46.338Z"
      },
      {
        "duration": 99,
        "start_time": "2023-02-22T07:14:31.599Z"
      },
      {
        "duration": 19,
        "start_time": "2023-02-22T07:14:31.700Z"
      },
      {
        "duration": 77,
        "start_time": "2023-02-22T07:14:31.722Z"
      },
      {
        "duration": 0,
        "start_time": "2023-02-22T07:14:31.800Z"
      },
      {
        "duration": 25,
        "start_time": "2023-02-22T07:15:11.828Z"
      },
      {
        "duration": 25,
        "start_time": "2023-02-22T07:15:27.415Z"
      },
      {
        "duration": 65,
        "start_time": "2023-02-22T07:15:45.056Z"
      },
      {
        "duration": 17677,
        "start_time": "2023-02-22T07:16:00.700Z"
      },
      {
        "duration": 3421,
        "start_time": "2023-02-22T07:16:18.379Z"
      },
      {
        "duration": 33,
        "start_time": "2023-02-22T07:16:21.802Z"
      },
      {
        "duration": 745,
        "start_time": "2023-02-22T07:16:21.837Z"
      },
      {
        "duration": 3,
        "start_time": "2023-02-22T07:16:22.585Z"
      },
      {
        "duration": 14,
        "start_time": "2023-02-22T07:16:22.589Z"
      },
      {
        "duration": 10116,
        "start_time": "2023-02-22T07:44:32.396Z"
      },
      {
        "duration": 3362,
        "start_time": "2023-02-22T07:44:42.514Z"
      },
      {
        "duration": 30,
        "start_time": "2023-02-22T07:44:45.878Z"
      },
      {
        "duration": 663,
        "start_time": "2023-02-22T07:44:45.910Z"
      },
      {
        "duration": 3,
        "start_time": "2023-02-22T07:44:46.575Z"
      },
      {
        "duration": 9,
        "start_time": "2023-02-22T07:44:46.579Z"
      },
      {
        "duration": 944644,
        "start_time": "2023-02-22T07:44:46.589Z"
      },
      {
        "duration": 8,
        "start_time": "2023-02-22T08:00:31.235Z"
      },
      {
        "duration": 106,
        "start_time": "2023-02-22T08:00:31.245Z"
      },
      {
        "duration": 13127,
        "start_time": "2023-02-22T08:00:31.353Z"
      },
      {
        "duration": 20585,
        "start_time": "2023-02-22T08:02:23.991Z"
      },
      {
        "duration": 3358,
        "start_time": "2023-02-22T08:02:44.578Z"
      },
      {
        "duration": 31,
        "start_time": "2023-02-22T08:02:47.937Z"
      },
      {
        "duration": 658,
        "start_time": "2023-02-22T08:02:47.970Z"
      },
      {
        "duration": 2,
        "start_time": "2023-02-22T08:02:48.631Z"
      },
      {
        "duration": 9,
        "start_time": "2023-02-22T08:02:48.634Z"
      },
      {
        "duration": 943457,
        "start_time": "2023-02-22T08:02:48.644Z"
      },
      {
        "duration": 8,
        "start_time": "2023-02-22T08:18:32.103Z"
      },
      {
        "duration": 60,
        "start_time": "2023-02-22T08:18:32.112Z"
      },
      {
        "duration": 15042,
        "start_time": "2023-02-22T08:18:32.174Z"
      },
      {
        "duration": 2030,
        "start_time": "2023-02-22T08:18:47.218Z"
      },
      {
        "duration": 2302,
        "start_time": "2023-02-22T08:18:49.250Z"
      },
      {
        "duration": 47337,
        "start_time": "2023-02-22T08:18:51.554Z"
      },
      {
        "duration": 13,
        "start_time": "2023-02-22T08:19:38.893Z"
      },
      {
        "duration": 5,
        "start_time": "2023-02-22T08:19:38.907Z"
      },
      {
        "duration": 26433,
        "start_time": "2023-02-22T08:20:58.642Z"
      },
      {
        "duration": 3368,
        "start_time": "2023-02-22T08:21:25.077Z"
      },
      {
        "duration": 33,
        "start_time": "2023-02-22T08:21:28.447Z"
      },
      {
        "duration": 663,
        "start_time": "2023-02-22T08:21:28.482Z"
      },
      {
        "duration": 3,
        "start_time": "2023-02-22T08:21:29.147Z"
      },
      {
        "duration": 12,
        "start_time": "2023-02-22T08:21:29.151Z"
      },
      {
        "duration": 905929,
        "start_time": "2023-02-22T08:21:29.165Z"
      },
      {
        "duration": 7,
        "start_time": "2023-02-22T08:36:35.096Z"
      },
      {
        "duration": 49,
        "start_time": "2023-02-22T08:36:35.105Z"
      },
      {
        "duration": 11200,
        "start_time": "2023-02-22T08:36:35.157Z"
      },
      {
        "duration": 2081,
        "start_time": "2023-02-22T08:36:46.359Z"
      },
      {
        "duration": 2287,
        "start_time": "2023-02-22T08:36:48.442Z"
      },
      {
        "duration": 40360,
        "start_time": "2023-02-22T08:36:50.731Z"
      },
      {
        "duration": 94,
        "start_time": "2023-02-22T08:37:31.092Z"
      },
      {
        "duration": 3,
        "start_time": "2023-02-22T08:37:31.188Z"
      },
      {
        "duration": 5,
        "start_time": "2023-02-22T08:37:50.183Z"
      },
      {
        "duration": 21040,
        "start_time": "2023-02-22T08:40:48.867Z"
      },
      {
        "duration": 3304,
        "start_time": "2023-02-22T08:41:09.909Z"
      },
      {
        "duration": 31,
        "start_time": "2023-02-22T08:41:13.215Z"
      },
      {
        "duration": 616,
        "start_time": "2023-02-22T08:41:13.248Z"
      },
      {
        "duration": 3,
        "start_time": "2023-02-22T08:41:13.866Z"
      },
      {
        "duration": 10,
        "start_time": "2023-02-22T08:41:13.871Z"
      },
      {
        "duration": 4111,
        "start_time": "2023-02-22T08:43:51.701Z"
      },
      {
        "duration": 800,
        "start_time": "2023-02-22T08:43:55.815Z"
      },
      {
        "duration": 33,
        "start_time": "2023-02-22T08:43:56.617Z"
      },
      {
        "duration": 486,
        "start_time": "2023-02-22T08:43:56.653Z"
      },
      {
        "duration": 3,
        "start_time": "2023-02-22T08:43:57.141Z"
      },
      {
        "duration": 9,
        "start_time": "2023-02-22T08:43:57.145Z"
      },
      {
        "duration": 938263,
        "start_time": "2023-02-22T08:43:57.155Z"
      },
      {
        "duration": 8,
        "start_time": "2023-02-22T08:59:35.420Z"
      },
      {
        "duration": 69,
        "start_time": "2023-02-22T08:59:35.430Z"
      },
      {
        "duration": 11373,
        "start_time": "2023-02-22T08:59:35.503Z"
      },
      {
        "duration": 2015,
        "start_time": "2023-02-22T08:59:46.878Z"
      },
      {
        "duration": 2226,
        "start_time": "2023-02-22T08:59:48.895Z"
      },
      {
        "duration": 42576,
        "start_time": "2023-02-22T08:59:51.123Z"
      },
      {
        "duration": 91,
        "start_time": "2023-02-22T09:00:33.702Z"
      },
      {
        "duration": 3,
        "start_time": "2023-02-22T09:00:33.795Z"
      },
      {
        "duration": 19754,
        "start_time": "2023-02-22T09:09:55.750Z"
      },
      {
        "duration": 3325,
        "start_time": "2023-02-22T09:10:15.506Z"
      },
      {
        "duration": 27,
        "start_time": "2023-02-22T09:10:18.833Z"
      },
      {
        "duration": 624,
        "start_time": "2023-02-22T09:10:18.861Z"
      },
      {
        "duration": 3,
        "start_time": "2023-02-22T09:10:19.487Z"
      },
      {
        "duration": 24,
        "start_time": "2023-02-22T09:10:19.491Z"
      },
      {
        "duration": 268221,
        "start_time": "2023-02-22T09:10:19.516Z"
      },
      {
        "duration": 0,
        "start_time": "2023-02-22T09:14:47.738Z"
      },
      {
        "duration": 0,
        "start_time": "2023-02-22T09:14:47.740Z"
      },
      {
        "duration": 0,
        "start_time": "2023-02-22T09:14:47.741Z"
      },
      {
        "duration": 0,
        "start_time": "2023-02-22T09:14:47.743Z"
      },
      {
        "duration": 0,
        "start_time": "2023-02-22T09:14:47.744Z"
      },
      {
        "duration": 0,
        "start_time": "2023-02-22T09:14:47.746Z"
      },
      {
        "duration": 0,
        "start_time": "2023-02-22T09:14:47.747Z"
      },
      {
        "duration": 0,
        "start_time": "2023-02-22T09:14:47.749Z"
      },
      {
        "duration": 0,
        "start_time": "2023-02-22T09:14:47.750Z"
      },
      {
        "duration": 0,
        "start_time": "2023-02-22T09:14:47.751Z"
      },
      {
        "duration": 0,
        "start_time": "2023-02-22T09:14:47.753Z"
      },
      {
        "duration": 0,
        "start_time": "2023-02-22T09:14:47.754Z"
      },
      {
        "duration": 0,
        "start_time": "2023-02-22T09:14:47.755Z"
      },
      {
        "duration": 4,
        "start_time": "2023-02-22T09:14:51.950Z"
      },
      {
        "duration": 768,
        "start_time": "2023-02-22T09:14:51.956Z"
      },
      {
        "duration": 30,
        "start_time": "2023-02-22T09:14:52.725Z"
      },
      {
        "duration": 450,
        "start_time": "2023-02-22T09:14:52.757Z"
      },
      {
        "duration": 3,
        "start_time": "2023-02-22T09:14:53.212Z"
      },
      {
        "duration": 17,
        "start_time": "2023-02-22T09:14:53.217Z"
      },
      {
        "duration": 897437,
        "start_time": "2023-02-22T09:14:53.235Z"
      },
      {
        "duration": 8,
        "start_time": "2023-02-22T09:29:50.673Z"
      },
      {
        "duration": 39,
        "start_time": "2023-02-22T09:29:50.682Z"
      },
      {
        "duration": 11502,
        "start_time": "2023-02-22T09:29:50.723Z"
      },
      {
        "duration": 2030,
        "start_time": "2023-02-22T09:30:02.227Z"
      },
      {
        "duration": 19728,
        "start_time": "2023-02-22T09:30:31.177Z"
      },
      {
        "duration": 3231,
        "start_time": "2023-02-22T09:30:50.907Z"
      },
      {
        "duration": 31,
        "start_time": "2023-02-22T09:30:54.139Z"
      },
      {
        "duration": 641,
        "start_time": "2023-02-22T09:30:54.173Z"
      },
      {
        "duration": 3,
        "start_time": "2023-02-22T09:30:54.815Z"
      },
      {
        "duration": 7,
        "start_time": "2023-02-22T09:30:54.820Z"
      },
      {
        "duration": 746002,
        "start_time": "2023-02-22T09:30:54.828Z"
      },
      {
        "duration": 0,
        "start_time": "2023-02-22T09:43:20.832Z"
      },
      {
        "duration": 0,
        "start_time": "2023-02-22T09:43:20.833Z"
      },
      {
        "duration": 0,
        "start_time": "2023-02-22T09:43:20.834Z"
      },
      {
        "duration": 0,
        "start_time": "2023-02-22T09:43:20.835Z"
      },
      {
        "duration": 0,
        "start_time": "2023-02-22T09:43:20.836Z"
      },
      {
        "duration": 0,
        "start_time": "2023-02-22T09:43:20.837Z"
      },
      {
        "duration": 0,
        "start_time": "2023-02-22T09:43:20.838Z"
      },
      {
        "duration": 3,
        "start_time": "2023-02-22T09:44:17.394Z"
      },
      {
        "duration": 715,
        "start_time": "2023-02-22T09:44:17.399Z"
      },
      {
        "duration": 33,
        "start_time": "2023-02-22T09:44:18.117Z"
      },
      {
        "duration": 623,
        "start_time": "2023-02-22T09:44:18.153Z"
      },
      {
        "duration": 3,
        "start_time": "2023-02-22T09:44:18.778Z"
      },
      {
        "duration": 10,
        "start_time": "2023-02-22T09:44:18.786Z"
      },
      {
        "duration": 1923,
        "start_time": "2023-02-22T09:44:18.798Z"
      },
      {
        "duration": 902608,
        "start_time": "2023-02-22T09:44:20.723Z"
      },
      {
        "duration": 9,
        "start_time": "2023-02-22T09:59:23.332Z"
      },
      {
        "duration": 52,
        "start_time": "2023-02-22T09:59:23.342Z"
      },
      {
        "duration": 11123,
        "start_time": "2023-02-22T09:59:23.397Z"
      },
      {
        "duration": 2109,
        "start_time": "2023-02-22T09:59:34.522Z"
      },
      {
        "duration": 15415,
        "start_time": "2023-02-22T10:28:54.241Z"
      },
      {
        "duration": 3193,
        "start_time": "2023-02-22T10:29:09.658Z"
      },
      {
        "duration": 24,
        "start_time": "2023-02-22T10:29:12.852Z"
      },
      {
        "duration": 596,
        "start_time": "2023-02-22T10:29:12.878Z"
      },
      {
        "duration": 3,
        "start_time": "2023-02-22T10:29:13.476Z"
      },
      {
        "duration": 6,
        "start_time": "2023-02-22T10:29:13.480Z"
      },
      {
        "duration": 1814,
        "start_time": "2023-02-22T10:29:13.488Z"
      },
      {
        "duration": 921313,
        "start_time": "2023-02-22T10:29:15.304Z"
      },
      {
        "duration": 10,
        "start_time": "2023-02-22T10:44:36.623Z"
      },
      {
        "duration": 62,
        "start_time": "2023-02-22T10:44:36.636Z"
      },
      {
        "duration": 13100,
        "start_time": "2023-02-22T10:44:36.705Z"
      },
      {
        "duration": 2193,
        "start_time": "2023-02-22T10:44:49.808Z"
      },
      {
        "duration": 3864,
        "start_time": "2023-02-22T10:44:52.003Z"
      },
      {
        "duration": 72,
        "start_time": "2023-02-22T11:14:58.536Z"
      },
      {
        "duration": 8,
        "start_time": "2023-02-22T11:14:58.884Z"
      },
      {
        "duration": 18164,
        "start_time": "2023-02-22T11:15:11.087Z"
      },
      {
        "duration": 3311,
        "start_time": "2023-02-22T11:15:29.260Z"
      },
      {
        "duration": 39,
        "start_time": "2023-02-22T11:15:32.573Z"
      },
      {
        "duration": 686,
        "start_time": "2023-02-22T11:15:32.614Z"
      },
      {
        "duration": 3,
        "start_time": "2023-02-22T11:15:33.302Z"
      },
      {
        "duration": 21,
        "start_time": "2023-02-22T11:15:33.308Z"
      },
      {
        "duration": 2005,
        "start_time": "2023-02-22T11:15:33.332Z"
      },
      {
        "duration": 4823,
        "start_time": "2023-02-22T12:02:59.250Z"
      },
      {
        "duration": 2450,
        "start_time": "2023-02-22T12:03:04.075Z"
      },
      {
        "duration": 27,
        "start_time": "2023-02-22T12:03:06.527Z"
      },
      {
        "duration": 598,
        "start_time": "2023-02-22T12:03:06.557Z"
      },
      {
        "duration": 3,
        "start_time": "2023-02-22T12:03:07.158Z"
      },
      {
        "duration": 6,
        "start_time": "2023-02-22T12:03:07.163Z"
      },
      {
        "duration": 1443,
        "start_time": "2023-02-22T12:03:07.171Z"
      },
      {
        "duration": 622281,
        "start_time": "2023-02-22T12:03:08.616Z"
      },
      {
        "duration": 9,
        "start_time": "2023-02-22T12:13:30.899Z"
      },
      {
        "duration": 55,
        "start_time": "2023-02-22T12:13:30.910Z"
      },
      {
        "duration": 7720,
        "start_time": "2023-02-22T12:13:30.967Z"
      },
      {
        "duration": 1343,
        "start_time": "2023-02-22T12:13:38.689Z"
      },
      {
        "duration": 1418,
        "start_time": "2023-02-22T12:13:40.033Z"
      },
      {
        "duration": 436,
        "start_time": "2023-02-22T12:13:41.454Z"
      },
      {
        "duration": 10,
        "start_time": "2023-02-22T12:13:41.892Z"
      },
      {
        "duration": 65009,
        "start_time": "2023-02-22T12:30:48.152Z"
      },
      {
        "duration": 352,
        "start_time": "2023-02-22T12:31:53.164Z"
      },
      {
        "duration": 5,
        "start_time": "2023-02-22T12:34:16.528Z"
      },
      {
        "duration": 3,
        "start_time": "2023-02-22T12:35:12.962Z"
      },
      {
        "duration": 8334,
        "start_time": "2023-02-22T12:35:16.387Z"
      },
      {
        "duration": 11,
        "start_time": "2023-02-22T12:35:24.723Z"
      },
      {
        "duration": 4,
        "start_time": "2023-02-22T12:39:13.216Z"
      },
      {
        "duration": 20229,
        "start_time": "2023-02-22T12:39:14.526Z"
      },
      {
        "duration": 42,
        "start_time": "2023-02-22T12:39:42.709Z"
      },
      {
        "duration": 26,
        "start_time": "2023-02-22T12:39:43.070Z"
      },
      {
        "duration": 4,
        "start_time": "2023-02-22T12:40:27.092Z"
      },
      {
        "duration": 3,
        "start_time": "2023-02-22T12:43:52.073Z"
      },
      {
        "duration": 24164,
        "start_time": "2023-02-22T12:43:53.382Z"
      },
      {
        "duration": 103,
        "start_time": "2023-02-22T12:44:17.549Z"
      },
      {
        "duration": 27,
        "start_time": "2023-02-22T12:44:17.653Z"
      },
      {
        "duration": 17,
        "start_time": "2023-02-22T12:51:29.921Z"
      },
      {
        "duration": 4,
        "start_time": "2023-02-22T12:51:34.288Z"
      },
      {
        "duration": 4,
        "start_time": "2023-02-22T12:51:37.760Z"
      },
      {
        "duration": 50537,
        "start_time": "2023-02-22T12:51:39.412Z"
      },
      {
        "duration": 101,
        "start_time": "2023-02-22T12:52:29.951Z"
      },
      {
        "duration": 12,
        "start_time": "2023-02-22T12:52:30.055Z"
      },
      {
        "duration": 8478,
        "start_time": "2023-02-22T12:54:33.560Z"
      },
      {
        "duration": 435,
        "start_time": "2023-02-22T12:54:42.040Z"
      },
      {
        "duration": 12,
        "start_time": "2023-02-22T12:54:42.477Z"
      },
      {
        "duration": 143,
        "start_time": "2023-02-22T12:54:42.491Z"
      },
      {
        "duration": 57,
        "start_time": "2023-02-22T12:55:00.792Z"
      },
      {
        "duration": 42,
        "start_time": "2023-02-22T12:55:27.822Z"
      },
      {
        "duration": 4210,
        "start_time": "2023-02-22T12:58:24.526Z"
      },
      {
        "duration": 905,
        "start_time": "2023-02-22T12:58:28.744Z"
      },
      {
        "duration": 32,
        "start_time": "2023-02-22T12:58:29.651Z"
      },
      {
        "duration": 527,
        "start_time": "2023-02-22T12:58:29.685Z"
      },
      {
        "duration": 4,
        "start_time": "2023-02-22T12:58:30.213Z"
      },
      {
        "duration": 14,
        "start_time": "2023-02-22T12:58:30.218Z"
      },
      {
        "duration": 2216,
        "start_time": "2023-02-22T12:58:30.234Z"
      },
      {
        "duration": 992669,
        "start_time": "2023-02-22T12:58:32.451Z"
      },
      {
        "duration": 10,
        "start_time": "2023-02-22T13:15:05.121Z"
      },
      {
        "duration": 60,
        "start_time": "2023-02-22T13:15:05.133Z"
      },
      {
        "duration": 12005,
        "start_time": "2023-02-22T13:15:05.195Z"
      },
      {
        "duration": 2155,
        "start_time": "2023-02-22T13:15:17.202Z"
      },
      {
        "duration": 2187,
        "start_time": "2023-02-22T13:15:19.359Z"
      },
      {
        "duration": 700,
        "start_time": "2023-02-22T13:15:21.548Z"
      },
      {
        "duration": 13,
        "start_time": "2023-02-22T13:15:22.250Z"
      },
      {
        "duration": 3,
        "start_time": "2023-02-22T13:15:22.265Z"
      },
      {
        "duration": 9481,
        "start_time": "2023-02-22T13:15:22.271Z"
      },
      {
        "duration": 195,
        "start_time": "2023-02-22T13:15:31.754Z"
      },
      {
        "duration": 12,
        "start_time": "2023-02-22T13:15:31.950Z"
      },
      {
        "duration": 14318,
        "start_time": "2023-02-22T13:15:31.963Z"
      },
      {
        "duration": 11,
        "start_time": "2023-02-22T13:15:46.283Z"
      },
      {
        "duration": 31,
        "start_time": "2023-02-22T13:15:46.296Z"
      },
      {
        "duration": 132,
        "start_time": "2023-02-22T13:15:46.329Z"
      },
      {
        "duration": 1574,
        "start_time": "2023-02-22T13:19:26.743Z"
      },
      {
        "duration": 1213,
        "start_time": "2023-02-22T13:19:36.160Z"
      },
      {
        "duration": 1315,
        "start_time": "2023-02-22T13:19:43.922Z"
      },
      {
        "duration": 1429,
        "start_time": "2023-02-22T13:19:49.787Z"
      },
      {
        "duration": 13,
        "start_time": "2023-02-22T13:20:41.912Z"
      },
      {
        "duration": 1209,
        "start_time": "2023-02-22T13:20:51.290Z"
      },
      {
        "duration": 84,
        "start_time": "2023-02-22T13:20:59.312Z"
      },
      {
        "duration": 8,
        "start_time": "2023-02-22T13:21:13.574Z"
      },
      {
        "duration": 6,
        "start_time": "2023-02-22T13:21:29.908Z"
      },
      {
        "duration": 11,
        "start_time": "2023-02-22T13:21:41.813Z"
      },
      {
        "duration": 63,
        "start_time": "2023-02-22T13:22:15.411Z"
      },
      {
        "duration": 0,
        "start_time": "2023-02-22T13:22:15.475Z"
      },
      {
        "duration": 4416,
        "start_time": "2023-02-22T13:22:21.149Z"
      },
      {
        "duration": 2445,
        "start_time": "2023-02-22T13:22:25.567Z"
      },
      {
        "duration": 39,
        "start_time": "2023-02-22T13:22:28.014Z"
      },
      {
        "duration": 532,
        "start_time": "2023-02-22T13:22:28.056Z"
      },
      {
        "duration": 2,
        "start_time": "2023-02-22T13:22:28.591Z"
      },
      {
        "duration": 7,
        "start_time": "2023-02-22T13:22:28.595Z"
      },
      {
        "duration": 2218,
        "start_time": "2023-02-22T13:22:28.603Z"
      },
      {
        "duration": 990084,
        "start_time": "2023-02-22T13:22:30.823Z"
      },
      {
        "duration": 10,
        "start_time": "2023-02-22T13:39:00.908Z"
      },
      {
        "duration": 77,
        "start_time": "2023-02-22T13:39:00.920Z"
      },
      {
        "duration": 13165,
        "start_time": "2023-02-22T13:39:00.999Z"
      },
      {
        "duration": 2307,
        "start_time": "2023-02-22T13:39:14.166Z"
      },
      {
        "duration": 2343,
        "start_time": "2023-02-22T13:39:16.475Z"
      },
      {
        "duration": 48828,
        "start_time": "2023-02-22T13:39:18.821Z"
      },
      {
        "duration": 13,
        "start_time": "2023-02-22T13:40:07.651Z"
      },
      {
        "duration": 4,
        "start_time": "2023-02-22T13:40:07.665Z"
      },
      {
        "duration": 50,
        "start_time": "2023-02-22T13:43:17.545Z"
      },
      {
        "duration": 7,
        "start_time": "2023-02-22T13:43:20.205Z"
      },
      {
        "duration": 4411,
        "start_time": "2023-02-22T13:43:26.541Z"
      },
      {
        "duration": 2440,
        "start_time": "2023-02-22T13:43:30.955Z"
      },
      {
        "duration": 36,
        "start_time": "2023-02-22T13:43:33.397Z"
      },
      {
        "duration": 525,
        "start_time": "2023-02-22T13:43:33.435Z"
      },
      {
        "duration": 3,
        "start_time": "2023-02-22T13:43:33.962Z"
      },
      {
        "duration": 6,
        "start_time": "2023-02-22T13:43:33.967Z"
      },
      {
        "duration": 2113,
        "start_time": "2023-02-22T13:43:33.974Z"
      },
      {
        "duration": 1013278,
        "start_time": "2023-02-22T13:43:36.089Z"
      },
      {
        "duration": 20,
        "start_time": "2023-02-22T14:00:29.369Z"
      },
      {
        "duration": 96,
        "start_time": "2023-02-22T14:00:29.394Z"
      },
      {
        "duration": 13132,
        "start_time": "2023-02-22T14:00:29.492Z"
      },
      {
        "duration": 2319,
        "start_time": "2023-02-22T14:00:42.626Z"
      },
      {
        "duration": 2398,
        "start_time": "2023-02-22T14:00:44.947Z"
      },
      {
        "duration": 51898,
        "start_time": "2023-02-22T14:00:47.348Z"
      },
      {
        "duration": 100,
        "start_time": "2023-02-22T14:01:39.249Z"
      },
      {
        "duration": 4,
        "start_time": "2023-02-22T14:01:39.351Z"
      },
      {
        "duration": 4484,
        "start_time": "2023-02-22T14:06:22.224Z"
      },
      {
        "duration": 2449,
        "start_time": "2023-02-22T14:06:26.710Z"
      },
      {
        "duration": 35,
        "start_time": "2023-02-22T14:06:29.160Z"
      },
      {
        "duration": 552,
        "start_time": "2023-02-22T14:06:29.198Z"
      },
      {
        "duration": 4,
        "start_time": "2023-02-22T14:06:29.752Z"
      },
      {
        "duration": 6,
        "start_time": "2023-02-22T14:06:29.758Z"
      },
      {
        "duration": 2293,
        "start_time": "2023-02-22T14:06:29.766Z"
      },
      {
        "duration": 1061297,
        "start_time": "2023-02-22T14:06:32.060Z"
      },
      {
        "duration": 10,
        "start_time": "2023-02-22T14:24:13.359Z"
      },
      {
        "duration": 44,
        "start_time": "2023-02-22T14:24:13.371Z"
      },
      {
        "duration": 8214,
        "start_time": "2023-02-22T14:24:13.417Z"
      },
      {
        "duration": 0,
        "start_time": "2023-02-22T14:24:21.633Z"
      },
      {
        "duration": 0,
        "start_time": "2023-02-22T14:24:21.634Z"
      },
      {
        "duration": 0,
        "start_time": "2023-02-22T14:24:21.635Z"
      },
      {
        "duration": 0,
        "start_time": "2023-02-22T14:24:21.636Z"
      },
      {
        "duration": 0,
        "start_time": "2023-02-22T14:24:21.645Z"
      },
      {
        "duration": 0,
        "start_time": "2023-02-22T14:24:21.646Z"
      },
      {
        "duration": 0,
        "start_time": "2023-02-22T14:24:21.648Z"
      },
      {
        "duration": 0,
        "start_time": "2023-02-22T14:24:21.649Z"
      },
      {
        "duration": 0,
        "start_time": "2023-02-22T14:24:21.650Z"
      },
      {
        "duration": 0,
        "start_time": "2023-02-22T14:24:21.651Z"
      },
      {
        "duration": 0,
        "start_time": "2023-02-22T14:24:21.652Z"
      },
      {
        "duration": 0,
        "start_time": "2023-02-22T14:24:21.653Z"
      },
      {
        "duration": 14659,
        "start_time": "2023-02-22T14:27:07.647Z"
      },
      {
        "duration": 2481,
        "start_time": "2023-02-22T14:27:22.309Z"
      },
      {
        "duration": 2468,
        "start_time": "2023-02-22T14:27:24.792Z"
      },
      {
        "duration": 24596,
        "start_time": "2023-02-22T14:27:29.449Z"
      },
      {
        "duration": 14,
        "start_time": "2023-02-22T14:27:54.048Z"
      },
      {
        "duration": 2,
        "start_time": "2023-02-22T14:29:33.543Z"
      },
      {
        "duration": 112461,
        "start_time": "2023-02-22T14:29:33.919Z"
      },
      {
        "duration": 1368,
        "start_time": "2023-02-22T14:31:26.382Z"
      },
      {
        "duration": 12,
        "start_time": "2023-02-22T14:31:27.752Z"
      },
      {
        "duration": 2122,
        "start_time": "2023-02-22T14:31:27.766Z"
      },
      {
        "duration": 13,
        "start_time": "2023-02-22T14:31:29.889Z"
      },
      {
        "duration": 17,
        "start_time": "2023-02-22T14:31:29.903Z"
      },
      {
        "duration": 1377,
        "start_time": "2023-02-22T14:31:29.922Z"
      },
      {
        "duration": 4274,
        "start_time": "2023-02-23T08:45:44.373Z"
      },
      {
        "duration": 2576,
        "start_time": "2023-02-23T08:45:48.650Z"
      },
      {
        "duration": 31,
        "start_time": "2023-02-23T08:45:51.228Z"
      },
      {
        "duration": 632,
        "start_time": "2023-02-23T08:45:51.261Z"
      },
      {
        "duration": 3,
        "start_time": "2023-02-23T08:45:51.895Z"
      },
      {
        "duration": 19,
        "start_time": "2023-02-23T08:45:51.900Z"
      },
      {
        "duration": 2213,
        "start_time": "2023-02-23T08:45:51.921Z"
      },
      {
        "duration": 1072235,
        "start_time": "2023-02-23T08:45:54.137Z"
      },
      {
        "duration": 9,
        "start_time": "2023-02-23T09:03:46.374Z"
      },
      {
        "duration": 41,
        "start_time": "2023-02-23T09:03:46.385Z"
      },
      {
        "duration": 11823,
        "start_time": "2023-02-23T09:03:46.427Z"
      },
      {
        "duration": 705,
        "start_time": "2023-02-23T09:03:58.252Z"
      },
      {
        "duration": 746,
        "start_time": "2023-02-23T09:03:58.959Z"
      },
      {
        "duration": 358,
        "start_time": "2023-02-23T09:13:43.646Z"
      },
      {
        "duration": 27025,
        "start_time": "2023-02-23T09:14:01.318Z"
      },
      {
        "duration": 3,
        "start_time": "2023-02-23T09:14:53.218Z"
      },
      {
        "duration": 166305,
        "start_time": "2023-02-23T09:14:53.398Z"
      },
      {
        "duration": 745,
        "start_time": "2023-02-23T09:17:39.705Z"
      },
      {
        "duration": 9,
        "start_time": "2023-02-23T09:17:40.452Z"
      },
      {
        "duration": 26261,
        "start_time": "2023-02-23T09:17:48.078Z"
      },
      {
        "duration": 97,
        "start_time": "2023-02-23T09:18:14.342Z"
      },
      {
        "duration": 2536,
        "start_time": "2023-02-23T09:18:31.361Z"
      },
      {
        "duration": 8,
        "start_time": "2023-02-23T09:18:33.899Z"
      },
      {
        "duration": 3,
        "start_time": "2023-02-23T09:20:46.501Z"
      },
      {
        "duration": 142860,
        "start_time": "2023-02-23T09:20:46.809Z"
      },
      {
        "duration": 685,
        "start_time": "2023-02-23T09:23:09.673Z"
      },
      {
        "duration": 9,
        "start_time": "2023-02-23T09:23:10.359Z"
      },
      {
        "duration": 11,
        "start_time": "2023-02-23T09:27:09.871Z"
      }
    ],
    "toc": {
      "base_numbering": 1,
      "nav_menu": {},
      "number_sections": true,
      "sideBar": true,
      "skip_h1_title": true,
      "title_cell": "Содержание",
      "title_sidebar": "Contents",
      "toc_cell": true,
      "toc_position": {
        "height": "calc(100% - 180px)",
        "left": "10px",
        "top": "150px",
        "width": "302.391px"
      },
      "toc_section_display": true,
      "toc_window_display": true
    },
    "kernelspec": {
      "name": "python",
      "display_name": "Python (Pyodide)",
      "language": "python"
    },
    "language_info": {
      "codemirror_mode": {
        "name": "python",
        "version": 3
      },
      "file_extension": ".py",
      "mimetype": "text/x-python",
      "name": "python",
      "nbconvert_exporter": "python",
      "pygments_lexer": "ipython3",
      "version": "3.8"
    }
  },
  "nbformat_minor": 4,
  "nbformat": 4,
  "cells": [
    {
      "cell_type": "markdown",
      "source": "<h1>Содержание<span class=\"tocSkip\"></span></h1>\n<div class=\"toc\"><ul class=\"toc-item\"><li><span><a href=\"#Подготовка\" data-toc-modified-id=\"Подготовка-1\"><span class=\"toc-item-num\">1&nbsp;&nbsp;</span>Подготовка</a></span><ul class=\"toc-item\"><li><span><a href=\"#Загрузка-данных\" data-toc-modified-id=\"Загрузка-данных-1.1\"><span class=\"toc-item-num\">1.1&nbsp;&nbsp;</span>Загрузка данных</a></span></li><li><span><a href=\"#Лемматизация\" data-toc-modified-id=\"Лемматизация-1.2\"><span class=\"toc-item-num\">1.2&nbsp;&nbsp;</span>Лемматизация</a></span></li><li><span><a href=\"#Разделение-на-выборки\" data-toc-modified-id=\"Разделение-на-выборки-1.3\"><span class=\"toc-item-num\">1.3&nbsp;&nbsp;</span>Разделение на выборки</a></span></li><li><span><a href=\"#Кодирование-текстов-TF-IDF\" data-toc-modified-id=\"Кодирование-текстов-TF-IDF-1.4\"><span class=\"toc-item-num\">1.4&nbsp;&nbsp;</span>Кодирование текстов TF-IDF</a></span></li></ul></li><li><span><a href=\"#Обучение\" data-toc-modified-id=\"Обучение-2\"><span class=\"toc-item-num\">2&nbsp;&nbsp;</span>Обучение</a></span><ul class=\"toc-item\"><li><span><a href=\"#Логистическая-регрессия\" data-toc-modified-id=\"Логистическая-регрессия-2.1\"><span class=\"toc-item-num\">2.1&nbsp;&nbsp;</span>Логистическая регрессия</a></span></li><li><span><a href=\"#Модель-градиентного-бустинга\" data-toc-modified-id=\"Модель-градиентного-бустинга-2.2\"><span class=\"toc-item-num\">2.2&nbsp;&nbsp;</span>Модель градиентного бустинга</a></span></li><li><span><a href=\"#Случайный-лес\" data-toc-modified-id=\"Случайный-лес-2.3\"><span class=\"toc-item-num\">2.3&nbsp;&nbsp;</span>Случайный лес</a></span></li></ul></li><li><span><a href=\"#Выводы\" data-toc-modified-id=\"Выводы-3\"><span class=\"toc-item-num\">3&nbsp;&nbsp;</span>Выводы</a></span></li><li><span><a href=\"#Чек-лист-проверки\" data-toc-modified-id=\"Чек-лист-проверки-4\"><span class=\"toc-item-num\">4&nbsp;&nbsp;</span>Чек-лист проверки</a></span></li></ul></div>",
      "metadata": {
        "toc": true
      }
    },
    {
      "cell_type": "markdown",
      "source": "# Проект для «Викишоп»",
      "metadata": {}
    },
    {
      "cell_type": "markdown",
      "source": "Интернет-магазин «Викишоп» запускает новый сервис. Теперь пользователи могут редактировать и дополнять описания товаров, как в вики-сообществах. То есть клиенты предлагают свои правки и комментируют изменения других. Магазину нужен инструмент, который будет искать токсичные комментарии и отправлять их на модерацию. \n\nОбучите модель классифицировать комментарии на позитивные и негативные. В вашем распоряжении набор данных с разметкой о токсичности правок.\n\nПостройте модель со значением метрики качества *F1* не меньше 0.75. \n\n**Инструкция по выполнению проекта**\n\n1. Загрузите и подготовьте данные.\n2. Обучите разные модели. \n3. Сделайте выводы.\n\nДля выполнения проекта применять *BERT* необязательно, но вы можете попробовать.\n\n**Описание данных**\n\nДанные находятся в файле `toxic_comments.csv`. Столбец *text* в нём содержит текст комментария, а *toxic* — целевой признак.",
      "metadata": {}
    },
    {
      "cell_type": "code",
      "source": "import pandas as pd\nfrom lightgbm import LGBMClassifier\nimport re \nimport nltk\nimport spacy\n\nfrom nltk.stem import WordNetLemmatizer \nfrom tqdm.notebook import tqdm\nfrom nltk.corpus import wordnet\nfrom sklearn.feature_extraction.text import TfidfVectorizer \nfrom sklearn.linear_model import LogisticRegression\nfrom sklearn.ensemble import RandomForestClassifier\nfrom sklearn. metrics import f1_score\nfrom sklearn.model_selection import train_test_split",
      "metadata": {},
      "execution_count": 1,
      "outputs": []
    },
    {
      "cell_type": "markdown",
      "source": "## Подготовка",
      "metadata": {}
    },
    {
      "cell_type": "markdown",
      "source": "### Загрузка данных",
      "metadata": {}
    },
    {
      "cell_type": "code",
      "source": "data = pd.read_csv(\"/datasets/toxic_comments.csv\", index_col=0)\ndata.head(10)",
      "metadata": {},
      "execution_count": 2,
      "outputs": [
        {
          "execution_count": 2,
          "output_type": "execute_result",
          "data": {
            "text/html": [
              "<div>\n",
              "<style scoped>\n",
              "    .dataframe tbody tr th:only-of-type {\n",
              "        vertical-align: middle;\n",
              "    }\n",
              "\n",
              "    .dataframe tbody tr th {\n",
              "        vertical-align: top;\n",
              "    }\n",
              "\n",
              "    .dataframe thead th {\n",
              "        text-align: right;\n",
              "    }\n",
              "</style>\n",
              "<table border=\"1\" class=\"dataframe\">\n",
              "  <thead>\n",
              "    <tr style=\"text-align: right;\">\n",
              "      <th></th>\n",
              "      <th>text</th>\n",
              "      <th>toxic</th>\n",
              "    </tr>\n",
              "  </thead>\n",
              "  <tbody>\n",
              "    <tr>\n",
              "      <th>0</th>\n",
              "      <td>Explanation\\nWhy the edits made under my usern...</td>\n",
              "      <td>0</td>\n",
              "    </tr>\n",
              "    <tr>\n",
              "      <th>1</th>\n",
              "      <td>D'aww! He matches this background colour I'm s...</td>\n",
              "      <td>0</td>\n",
              "    </tr>\n",
              "    <tr>\n",
              "      <th>2</th>\n",
              "      <td>Hey man, I'm really not trying to edit war. It...</td>\n",
              "      <td>0</td>\n",
              "    </tr>\n",
              "    <tr>\n",
              "      <th>3</th>\n",
              "      <td>\"\\nMore\\nI can't make any real suggestions on ...</td>\n",
              "      <td>0</td>\n",
              "    </tr>\n",
              "    <tr>\n",
              "      <th>4</th>\n",
              "      <td>You, sir, are my hero. Any chance you remember...</td>\n",
              "      <td>0</td>\n",
              "    </tr>\n",
              "    <tr>\n",
              "      <th>5</th>\n",
              "      <td>\"\\n\\nCongratulations from me as well, use the ...</td>\n",
              "      <td>0</td>\n",
              "    </tr>\n",
              "    <tr>\n",
              "      <th>6</th>\n",
              "      <td>COCKSUCKER BEFORE YOU PISS AROUND ON MY WORK</td>\n",
              "      <td>1</td>\n",
              "    </tr>\n",
              "    <tr>\n",
              "      <th>7</th>\n",
              "      <td>Your vandalism to the Matt Shirvington article...</td>\n",
              "      <td>0</td>\n",
              "    </tr>\n",
              "    <tr>\n",
              "      <th>8</th>\n",
              "      <td>Sorry if the word 'nonsense' was offensive to ...</td>\n",
              "      <td>0</td>\n",
              "    </tr>\n",
              "    <tr>\n",
              "      <th>9</th>\n",
              "      <td>alignment on this subject and which are contra...</td>\n",
              "      <td>0</td>\n",
              "    </tr>\n",
              "  </tbody>\n",
              "</table>\n",
              "</div>"
            ],
            "text/plain": [
              "                                                text  toxic\n",
              "0  Explanation\\nWhy the edits made under my usern...      0\n",
              "1  D'aww! He matches this background colour I'm s...      0\n",
              "2  Hey man, I'm really not trying to edit war. It...      0\n",
              "3  \"\\nMore\\nI can't make any real suggestions on ...      0\n",
              "4  You, sir, are my hero. Any chance you remember...      0\n",
              "5  \"\\n\\nCongratulations from me as well, use the ...      0\n",
              "6       COCKSUCKER BEFORE YOU PISS AROUND ON MY WORK      1\n",
              "7  Your vandalism to the Matt Shirvington article...      0\n",
              "8  Sorry if the word 'nonsense' was offensive to ...      0\n",
              "9  alignment on this subject and which are contra...      0"
            ]
          },
          "metadata": {}
        }
      ]
    },
    {
      "cell_type": "code",
      "source": "data.info()",
      "metadata": {},
      "execution_count": 3,
      "outputs": [
        {
          "name": "stdout",
          "output_type": "stream",
          "text": "<class 'pandas.core.frame.DataFrame'>\n\nInt64Index: 159292 entries, 0 to 159450\n\nData columns (total 2 columns):\n\n #   Column  Non-Null Count   Dtype \n\n---  ------  --------------   ----- \n\n 0   text    159292 non-null  object\n\n 1   toxic   159292 non-null  int64 \n\ndtypes: int64(1), object(1)\n\nmemory usage: 3.6+ MB\n"
        }
      ]
    },
    {
      "cell_type": "markdown",
      "source": "### Лемматизация",
      "metadata": {}
    },
    {
      "cell_type": "code",
      "source": "nlp = spacy.load('en_core_web_sm', disable=['parser', 'ner'])",
      "metadata": {},
      "execution_count": 4,
      "outputs": []
    },
    {
      "cell_type": "code",
      "source": "def clear_text(text):\n    return (\" \".join(re.sub(r'[^a-zA-Z ]', ' ', text).split()))  ",
      "metadata": {},
      "execution_count": 5,
      "outputs": []
    },
    {
      "cell_type": "code",
      "source": "def lemmatize(text):\n    doc = nlp(text)\n    return (\" \".join([token.lemma_ for token in doc]))",
      "metadata": {},
      "execution_count": 6,
      "outputs": []
    },
    {
      "cell_type": "code",
      "source": "data['clear'] = data['text'].apply(\n  lambda x: (clear_text(x)))",
      "metadata": {},
      "execution_count": 7,
      "outputs": []
    },
    {
      "cell_type": "code",
      "source": "tqdm.pandas()\ndata['lemm'] = data['clear'].progress_apply(\n  lambda x: (lemmatize(x)))",
      "metadata": {},
      "execution_count": 8,
      "outputs": [
        {
          "output_type": "display_data",
          "data": {
            "application/vnd.jupyter.widget-view+json": {
              "model_id": "f72b9b968a50472abb37fe15041cbba7",
              "version_major": 2,
              "version_minor": 0
            },
            "text/plain": [
              "  0%|          | 0/159292 [00:00<?, ?it/s]"
            ]
          },
          "metadata": {}
        }
      ]
    },
    {
      "cell_type": "code",
      "source": "data.head(10)",
      "metadata": {},
      "execution_count": 9,
      "outputs": [
        {
          "execution_count": 9,
          "output_type": "execute_result",
          "data": {
            "text/html": [
              "<div>\n",
              "<style scoped>\n",
              "    .dataframe tbody tr th:only-of-type {\n",
              "        vertical-align: middle;\n",
              "    }\n",
              "\n",
              "    .dataframe tbody tr th {\n",
              "        vertical-align: top;\n",
              "    }\n",
              "\n",
              "    .dataframe thead th {\n",
              "        text-align: right;\n",
              "    }\n",
              "</style>\n",
              "<table border=\"1\" class=\"dataframe\">\n",
              "  <thead>\n",
              "    <tr style=\"text-align: right;\">\n",
              "      <th></th>\n",
              "      <th>text</th>\n",
              "      <th>toxic</th>\n",
              "      <th>clear</th>\n",
              "      <th>lemm</th>\n",
              "    </tr>\n",
              "  </thead>\n",
              "  <tbody>\n",
              "    <tr>\n",
              "      <th>0</th>\n",
              "      <td>Explanation\\nWhy the edits made under my usern...</td>\n",
              "      <td>0</td>\n",
              "      <td>Explanation Why the edits made under my userna...</td>\n",
              "      <td>explanation why the edit make under my usernam...</td>\n",
              "    </tr>\n",
              "    <tr>\n",
              "      <th>1</th>\n",
              "      <td>D'aww! He matches this background colour I'm s...</td>\n",
              "      <td>0</td>\n",
              "      <td>D aww He matches this background colour I m se...</td>\n",
              "      <td>d aww he match this background colour I m seem...</td>\n",
              "    </tr>\n",
              "    <tr>\n",
              "      <th>2</th>\n",
              "      <td>Hey man, I'm really not trying to edit war. It...</td>\n",
              "      <td>0</td>\n",
              "      <td>Hey man I m really not trying to edit war It s...</td>\n",
              "      <td>hey man I m really not try to edit war it s ju...</td>\n",
              "    </tr>\n",
              "    <tr>\n",
              "      <th>3</th>\n",
              "      <td>\"\\nMore\\nI can't make any real suggestions on ...</td>\n",
              "      <td>0</td>\n",
              "      <td>More I can t make any real suggestions on impr...</td>\n",
              "      <td>More I can t make any real suggestion on impro...</td>\n",
              "    </tr>\n",
              "    <tr>\n",
              "      <th>4</th>\n",
              "      <td>You, sir, are my hero. Any chance you remember...</td>\n",
              "      <td>0</td>\n",
              "      <td>You sir are my hero Any chance you remember wh...</td>\n",
              "      <td>you sir be my hero any chance you remember wha...</td>\n",
              "    </tr>\n",
              "    <tr>\n",
              "      <th>5</th>\n",
              "      <td>\"\\n\\nCongratulations from me as well, use the ...</td>\n",
              "      <td>0</td>\n",
              "      <td>Congratulations from me as well use the tools ...</td>\n",
              "      <td>congratulation from I as well use the tool wel...</td>\n",
              "    </tr>\n",
              "    <tr>\n",
              "      <th>6</th>\n",
              "      <td>COCKSUCKER BEFORE YOU PISS AROUND ON MY WORK</td>\n",
              "      <td>1</td>\n",
              "      <td>COCKSUCKER BEFORE YOU PISS AROUND ON MY WORK</td>\n",
              "      <td>COCKSUCKER before you pis around on my work</td>\n",
              "    </tr>\n",
              "    <tr>\n",
              "      <th>7</th>\n",
              "      <td>Your vandalism to the Matt Shirvington article...</td>\n",
              "      <td>0</td>\n",
              "      <td>Your vandalism to the Matt Shirvington article...</td>\n",
              "      <td>your vandalism to the Matt Shirvington article...</td>\n",
              "    </tr>\n",
              "    <tr>\n",
              "      <th>8</th>\n",
              "      <td>Sorry if the word 'nonsense' was offensive to ...</td>\n",
              "      <td>0</td>\n",
              "      <td>Sorry if the word nonsense was offensive to yo...</td>\n",
              "      <td>sorry if the word nonsense be offensive to you...</td>\n",
              "    </tr>\n",
              "    <tr>\n",
              "      <th>9</th>\n",
              "      <td>alignment on this subject and which are contra...</td>\n",
              "      <td>0</td>\n",
              "      <td>alignment on this subject and which are contra...</td>\n",
              "      <td>alignment on this subject and which be contrar...</td>\n",
              "    </tr>\n",
              "  </tbody>\n",
              "</table>\n",
              "</div>"
            ],
            "text/plain": [
              "                                                text  toxic  \\\n",
              "0  Explanation\\nWhy the edits made under my usern...      0   \n",
              "1  D'aww! He matches this background colour I'm s...      0   \n",
              "2  Hey man, I'm really not trying to edit war. It...      0   \n",
              "3  \"\\nMore\\nI can't make any real suggestions on ...      0   \n",
              "4  You, sir, are my hero. Any chance you remember...      0   \n",
              "5  \"\\n\\nCongratulations from me as well, use the ...      0   \n",
              "6       COCKSUCKER BEFORE YOU PISS AROUND ON MY WORK      1   \n",
              "7  Your vandalism to the Matt Shirvington article...      0   \n",
              "8  Sorry if the word 'nonsense' was offensive to ...      0   \n",
              "9  alignment on this subject and which are contra...      0   \n",
              "\n",
              "                                               clear  \\\n",
              "0  Explanation Why the edits made under my userna...   \n",
              "1  D aww He matches this background colour I m se...   \n",
              "2  Hey man I m really not trying to edit war It s...   \n",
              "3  More I can t make any real suggestions on impr...   \n",
              "4  You sir are my hero Any chance you remember wh...   \n",
              "5  Congratulations from me as well use the tools ...   \n",
              "6       COCKSUCKER BEFORE YOU PISS AROUND ON MY WORK   \n",
              "7  Your vandalism to the Matt Shirvington article...   \n",
              "8  Sorry if the word nonsense was offensive to yo...   \n",
              "9  alignment on this subject and which are contra...   \n",
              "\n",
              "                                                lemm  \n",
              "0  explanation why the edit make under my usernam...  \n",
              "1  d aww he match this background colour I m seem...  \n",
              "2  hey man I m really not try to edit war it s ju...  \n",
              "3  More I can t make any real suggestion on impro...  \n",
              "4  you sir be my hero any chance you remember wha...  \n",
              "5  congratulation from I as well use the tool wel...  \n",
              "6        COCKSUCKER before you pis around on my work  \n",
              "7  your vandalism to the Matt Shirvington article...  \n",
              "8  sorry if the word nonsense be offensive to you...  \n",
              "9  alignment on this subject and which be contrar...  "
            ]
          },
          "metadata": {}
        }
      ]
    },
    {
      "cell_type": "markdown",
      "source": "### Разделение на выборки",
      "metadata": {}
    },
    {
      "cell_type": "code",
      "source": "features = data['lemm']\ntarget = data['toxic']\n\nfeatures_train, features_valid, target_train, target_valid = train_test_split(\n    features, target, test_size=0.2, random_state=12345)\nfeatures_valid, features_test, target_valid, target_test = train_test_split(\n    features_valid, target_valid, test_size=0.5, random_state=12345)",
      "metadata": {},
      "execution_count": 10,
      "outputs": []
    },
    {
      "cell_type": "markdown",
      "source": "### Кодирование текстов TF-IDF",
      "metadata": {}
    },
    {
      "cell_type": "code",
      "source": "count_tf_idf = TfidfVectorizer().fit(features_train.values)\ntf_idf = count_tf_idf.transform(features_train.values)",
      "metadata": {},
      "execution_count": 11,
      "outputs": []
    },
    {
      "cell_type": "code",
      "source": "tf_idf1 = count_tf_idf.transform(features_valid.values)",
      "metadata": {},
      "execution_count": 12,
      "outputs": []
    },
    {
      "cell_type": "code",
      "source": "tf_idf2 = count_tf_idf.transform(features_test.values)",
      "metadata": {},
      "execution_count": 13,
      "outputs": []
    },
    {
      "cell_type": "markdown",
      "source": "## Обучение",
      "metadata": {}
    },
    {
      "cell_type": "markdown",
      "source": "### Логистическая регрессия",
      "metadata": {}
    },
    {
      "cell_type": "code",
      "source": "model = LogisticRegression(max_iter=50, class_weight='balanced', C=8).fit(tf_idf, target_train)\nprediction = model.predict(tf_idf1)",
      "metadata": {},
      "execution_count": 20,
      "outputs": [
        {
          "name": "stderr",
          "output_type": "stream",
          "text": "/opt/conda/lib/python3.9/site-packages/sklearn/linear_model/_logistic.py:763: ConvergenceWarning: lbfgs failed to converge (status=1):\n\nSTOP: TOTAL NO. of ITERATIONS REACHED LIMIT.\n\n\n\nIncrease the number of iterations (max_iter) or scale the data as shown in:\n\n    https://scikit-learn.org/stable/modules/preprocessing.html\n\nPlease also refer to the documentation for alternative solver options:\n\n    https://scikit-learn.org/stable/modules/linear_model.html#logistic-regression\n\n  n_iter_i = _check_optimize_result(\n"
        }
      ]
    },
    {
      "cell_type": "code",
      "source": "f1_score(target_valid, prediction)",
      "metadata": {},
      "execution_count": 21,
      "outputs": [
        {
          "execution_count": 21,
          "output_type": "execute_result",
          "data": {
            "text/plain": [
              "0.7729306487695748"
            ]
          },
          "metadata": {}
        }
      ]
    },
    {
      "cell_type": "markdown",
      "source": "### Модель градиентного бустинга",
      "metadata": {}
    },
    {
      "cell_type": "code",
      "source": "booster = LGBMClassifier(objective=\"binary\", learning_rate=0.2, seed=12345, n_estimators=50, class_weight='balanced')",
      "metadata": {},
      "execution_count": 24,
      "outputs": []
    },
    {
      "cell_type": "code",
      "source": "booster.fit(tf_idf, target_train, eval_set=[(tf_idf1, target_valid),], eval_metric=\"f1\")",
      "metadata": {
        "scrolled": true
      },
      "execution_count": 25,
      "outputs": [
        {
          "name": "stdout",
          "output_type": "stream",
          "text": "[1]\tvalid_0's binary_logloss: 0.626482\n\n[2]\tvalid_0's binary_logloss: 0.576613\n\n[3]\tvalid_0's binary_logloss: 0.539092\n\n[4]\tvalid_0's binary_logloss: 0.502195\n\n[5]\tvalid_0's binary_logloss: 0.480376\n\n[6]\tvalid_0's binary_logloss: 0.450985\n\n[7]\tvalid_0's binary_logloss: 0.431643\n\n[8]\tvalid_0's binary_logloss: 0.415956\n\n[9]\tvalid_0's binary_logloss: 0.398108\n\n[10]\tvalid_0's binary_logloss: 0.387916\n\n[11]\tvalid_0's binary_logloss: 0.379443\n\n[12]\tvalid_0's binary_logloss: 0.362013\n\n[13]\tvalid_0's binary_logloss: 0.3523\n\n[14]\tvalid_0's binary_logloss: 0.346669\n\n[15]\tvalid_0's binary_logloss: 0.337789\n\n[16]\tvalid_0's binary_logloss: 0.327823\n\n[17]\tvalid_0's binary_logloss: 0.32179\n\n[18]\tvalid_0's binary_logloss: 0.315627\n\n[19]\tvalid_0's binary_logloss: 0.308467\n\n[20]\tvalid_0's binary_logloss: 0.30336\n\n[21]\tvalid_0's binary_logloss: 0.298813\n\n[22]\tvalid_0's binary_logloss: 0.293053\n\n[23]\tvalid_0's binary_logloss: 0.288369\n\n[24]\tvalid_0's binary_logloss: 0.28401\n\n[25]\tvalid_0's binary_logloss: 0.279576\n\n[26]\tvalid_0's binary_logloss: 0.276823\n\n[27]\tvalid_0's binary_logloss: 0.273322\n\n[28]\tvalid_0's binary_logloss: 0.269721\n\n[29]\tvalid_0's binary_logloss: 0.26571\n\n[30]\tvalid_0's binary_logloss: 0.263034\n\n[31]\tvalid_0's binary_logloss: 0.260015\n\n[32]\tvalid_0's binary_logloss: 0.257206\n\n[33]\tvalid_0's binary_logloss: 0.254692\n\n[34]\tvalid_0's binary_logloss: 0.25236\n\n[35]\tvalid_0's binary_logloss: 0.249549\n\n[36]\tvalid_0's binary_logloss: 0.247802\n\n[37]\tvalid_0's binary_logloss: 0.246022\n\n[38]\tvalid_0's binary_logloss: 0.243367\n\n[39]\tvalid_0's binary_logloss: 0.241217\n\n[40]\tvalid_0's binary_logloss: 0.238936\n\n[41]\tvalid_0's binary_logloss: 0.237457\n\n[42]\tvalid_0's binary_logloss: 0.235448\n\n[43]\tvalid_0's binary_logloss: 0.233749\n\n[44]\tvalid_0's binary_logloss: 0.232241\n\n[45]\tvalid_0's binary_logloss: 0.230583\n\n[46]\tvalid_0's binary_logloss: 0.22904\n\n[47]\tvalid_0's binary_logloss: 0.227526\n\n[48]\tvalid_0's binary_logloss: 0.226196\n\n[49]\tvalid_0's binary_logloss: 0.22473\n\n[50]\tvalid_0's binary_logloss: 0.223473\n"
        },
        {
          "execution_count": 25,
          "output_type": "execute_result",
          "data": {
            "text/plain": [
              "LGBMClassifier(class_weight='balanced', learning_rate=0.2, n_estimators=50,\n",
              "               objective='binary', seed=12345)"
            ]
          },
          "metadata": {}
        }
      ]
    },
    {
      "cell_type": "code",
      "source": "valid_preds = booster.predict(tf_idf1)",
      "metadata": {},
      "execution_count": 26,
      "outputs": []
    },
    {
      "cell_type": "code",
      "source": "f1_score(target_valid, valid_preds)",
      "metadata": {},
      "execution_count": 27,
      "outputs": [
        {
          "execution_count": 27,
          "output_type": "execute_result",
          "data": {
            "text/plain": [
              "0.7149883510225213"
            ]
          },
          "metadata": {}
        }
      ]
    },
    {
      "cell_type": "markdown",
      "source": "### Случайный лес",
      "metadata": {}
    },
    {
      "cell_type": "code",
      "source": "model1 = RandomForestClassifier(n_estimators=50, max_depth=10, random_state=12345)\nmodel1.fit(tf_idf, target_train)\npreds = model1.predict(tf_idf1)",
      "metadata": {},
      "execution_count": 22,
      "outputs": []
    },
    {
      "cell_type": "code",
      "source": "f1_score(target_valid, preds)",
      "metadata": {},
      "execution_count": 23,
      "outputs": [
        {
          "execution_count": 23,
          "output_type": "execute_result",
          "data": {
            "text/plain": [
              "0.0"
            ]
          },
          "metadata": {}
        }
      ]
    },
    {
      "cell_type": "markdown",
      "source": "Модели логистической регрессии и классификации градиентным бустингом показали близкое значение матрики f1 на валидационной выборке при решении данной задачи. Остановимся на модели логистической регрессии.",
      "metadata": {}
    },
    {
      "cell_type": "markdown",
      "source": "## Выводы",
      "metadata": {}
    },
    {
      "cell_type": "code",
      "source": "f1_score(target_test, model.predict(tf_idf2))",
      "metadata": {},
      "execution_count": 28,
      "outputs": [
        {
          "execution_count": 28,
          "output_type": "execute_result",
          "data": {
            "text/plain": [
              "0.7703415717856151"
            ]
          },
          "metadata": {}
        }
      ]
    },
    {
      "cell_type": "markdown",
      "source": "**Вывод:** Были згруженны данные с комментариями и осуществлено кодирование при помощи  TF-IDF. Затем были обучены и пртестировваниы несколько моделей, лучшие из них проверены на тестовой выборке. Результат полученный при помщи модели логистической регрессии лучший.",
      "metadata": {}
    },
    {
      "cell_type": "code",
      "source": "",
      "metadata": {},
      "execution_count": null,
      "outputs": []
    }
  ]
}
