{
  "metadata": {
    "ExecuteTimeLog": [
      {
        "duration": 408,
        "start_time": "2022-12-06T05:24:19.830Z"
      },
      {
        "duration": 630,
        "start_time": "2022-12-06T05:24:20.240Z"
      },
      {
        "duration": 18,
        "start_time": "2022-12-06T05:24:37.636Z"
      },
      {
        "duration": 15,
        "start_time": "2022-12-06T05:29:49.422Z"
      },
      {
        "duration": 87,
        "start_time": "2022-12-06T05:30:19.668Z"
      },
      {
        "duration": 33,
        "start_time": "2022-12-06T05:30:26.578Z"
      },
      {
        "duration": 5,
        "start_time": "2022-12-06T05:35:31.759Z"
      },
      {
        "duration": 11,
        "start_time": "2022-12-06T05:35:32.155Z"
      },
      {
        "duration": 655,
        "start_time": "2022-12-06T05:38:08.028Z"
      },
      {
        "duration": 15,
        "start_time": "2022-12-06T05:38:13.884Z"
      },
      {
        "duration": 21,
        "start_time": "2022-12-06T05:40:51.113Z"
      },
      {
        "duration": 51,
        "start_time": "2022-12-06T05:41:28.726Z"
      },
      {
        "duration": 19,
        "start_time": "2022-12-06T05:41:55.656Z"
      },
      {
        "duration": 10,
        "start_time": "2022-12-06T05:41:59.201Z"
      },
      {
        "duration": 30,
        "start_time": "2022-12-06T05:41:59.702Z"
      },
      {
        "duration": 14,
        "start_time": "2022-12-06T05:42:00.328Z"
      },
      {
        "duration": 3,
        "start_time": "2022-12-06T05:43:10.889Z"
      },
      {
        "duration": 10,
        "start_time": "2022-12-06T05:43:17.202Z"
      },
      {
        "duration": 17,
        "start_time": "2022-12-06T05:43:28.142Z"
      },
      {
        "duration": 30,
        "start_time": "2022-12-06T05:44:03.786Z"
      },
      {
        "duration": 144,
        "start_time": "2022-12-06T05:44:33.074Z"
      },
      {
        "duration": 3,
        "start_time": "2022-12-06T06:23:13.974Z"
      },
      {
        "duration": 6,
        "start_time": "2022-12-06T06:25:44.405Z"
      },
      {
        "duration": 5,
        "start_time": "2022-12-06T06:26:25.317Z"
      },
      {
        "duration": 5,
        "start_time": "2022-12-06T06:26:25.776Z"
      },
      {
        "duration": 1061,
        "start_time": "2022-12-07T04:35:09.515Z"
      },
      {
        "duration": 584,
        "start_time": "2022-12-07T04:35:10.578Z"
      },
      {
        "duration": 32,
        "start_time": "2022-12-07T04:35:11.164Z"
      },
      {
        "duration": 9,
        "start_time": "2022-12-07T04:35:11.198Z"
      },
      {
        "duration": 36,
        "start_time": "2022-12-07T04:35:11.208Z"
      },
      {
        "duration": 98,
        "start_time": "2022-12-07T04:35:11.245Z"
      },
      {
        "duration": 0,
        "start_time": "2022-12-07T04:35:11.344Z"
      },
      {
        "duration": 0,
        "start_time": "2022-12-07T04:35:11.345Z"
      },
      {
        "duration": 0,
        "start_time": "2022-12-07T04:35:11.346Z"
      },
      {
        "duration": 0,
        "start_time": "2022-12-07T04:35:11.347Z"
      },
      {
        "duration": 0,
        "start_time": "2022-12-07T04:35:11.348Z"
      },
      {
        "duration": 163,
        "start_time": "2022-12-07T04:35:27.060Z"
      },
      {
        "duration": 5,
        "start_time": "2022-12-07T04:35:27.767Z"
      },
      {
        "duration": 5,
        "start_time": "2022-12-07T04:35:28.491Z"
      },
      {
        "duration": 4,
        "start_time": "2022-12-07T04:35:29.202Z"
      },
      {
        "duration": 3,
        "start_time": "2022-12-07T04:35:32.563Z"
      },
      {
        "duration": 3,
        "start_time": "2022-12-07T04:35:33.029Z"
      },
      {
        "duration": 2,
        "start_time": "2022-12-07T04:47:33.679Z"
      },
      {
        "duration": 16,
        "start_time": "2022-12-07T04:47:35.614Z"
      },
      {
        "duration": 8,
        "start_time": "2022-12-07T04:47:59.336Z"
      },
      {
        "duration": 8,
        "start_time": "2022-12-07T04:48:14.801Z"
      },
      {
        "duration": 6,
        "start_time": "2022-12-07T04:48:31.932Z"
      },
      {
        "duration": 2,
        "start_time": "2022-12-07T04:48:51.032Z"
      },
      {
        "duration": 14,
        "start_time": "2022-12-07T04:48:51.898Z"
      },
      {
        "duration": 2,
        "start_time": "2022-12-07T04:49:28.593Z"
      },
      {
        "duration": 16,
        "start_time": "2022-12-07T04:49:29.359Z"
      },
      {
        "duration": 3,
        "start_time": "2022-12-07T04:49:45.516Z"
      },
      {
        "duration": 12,
        "start_time": "2022-12-07T04:49:46.151Z"
      },
      {
        "duration": 7,
        "start_time": "2022-12-07T04:52:23.263Z"
      },
      {
        "duration": 3,
        "start_time": "2022-12-07T04:52:54.370Z"
      },
      {
        "duration": 15,
        "start_time": "2022-12-07T04:52:55.315Z"
      },
      {
        "duration": 694,
        "start_time": "2022-12-07T04:53:37.460Z"
      },
      {
        "duration": 6,
        "start_time": "2022-12-07T04:53:47.232Z"
      },
      {
        "duration": 2,
        "start_time": "2022-12-07T04:59:59.533Z"
      },
      {
        "duration": 10,
        "start_time": "2022-12-07T05:00:00.882Z"
      },
      {
        "duration": 4,
        "start_time": "2022-12-07T05:10:39.730Z"
      },
      {
        "duration": 1105,
        "start_time": "2022-12-08T06:00:42.727Z"
      },
      {
        "duration": 609,
        "start_time": "2022-12-08T06:00:43.834Z"
      },
      {
        "duration": 37,
        "start_time": "2022-12-08T06:00:44.444Z"
      },
      {
        "duration": 10,
        "start_time": "2022-12-08T06:00:44.484Z"
      },
      {
        "duration": 42,
        "start_time": "2022-12-08T06:00:44.495Z"
      },
      {
        "duration": 200,
        "start_time": "2022-12-08T06:00:44.539Z"
      },
      {
        "duration": 97,
        "start_time": "2022-12-08T06:00:44.741Z"
      },
      {
        "duration": 113,
        "start_time": "2022-12-08T06:00:44.840Z"
      },
      {
        "duration": 13,
        "start_time": "2022-12-08T06:00:44.955Z"
      },
      {
        "duration": 6,
        "start_time": "2022-12-08T06:00:44.970Z"
      },
      {
        "duration": 9,
        "start_time": "2022-12-08T06:00:44.978Z"
      },
      {
        "duration": 7,
        "start_time": "2022-12-08T06:00:44.989Z"
      },
      {
        "duration": 40,
        "start_time": "2022-12-08T06:00:44.997Z"
      },
      {
        "duration": 121,
        "start_time": "2022-12-08T06:00:45.038Z"
      },
      {
        "duration": 6,
        "start_time": "2022-12-08T06:02:08.739Z"
      },
      {
        "duration": 10,
        "start_time": "2022-12-08T06:02:09.126Z"
      },
      {
        "duration": 5,
        "start_time": "2022-12-08T06:02:22.425Z"
      },
      {
        "duration": 16,
        "start_time": "2022-12-08T06:02:22.589Z"
      },
      {
        "duration": 4,
        "start_time": "2022-12-08T06:02:37.307Z"
      },
      {
        "duration": 17,
        "start_time": "2022-12-08T06:02:37.621Z"
      },
      {
        "duration": 3,
        "start_time": "2022-12-08T06:03:22.829Z"
      },
      {
        "duration": 4,
        "start_time": "2022-12-08T06:03:23.461Z"
      },
      {
        "duration": 15,
        "start_time": "2022-12-08T06:03:23.881Z"
      },
      {
        "duration": 3,
        "start_time": "2022-12-08T06:03:32.363Z"
      },
      {
        "duration": 3,
        "start_time": "2022-12-08T06:03:33.015Z"
      },
      {
        "duration": 23,
        "start_time": "2022-12-08T06:03:33.410Z"
      },
      {
        "duration": 4,
        "start_time": "2022-12-08T06:04:18.867Z"
      },
      {
        "duration": 25,
        "start_time": "2022-12-08T06:04:19.122Z"
      },
      {
        "duration": 4,
        "start_time": "2022-12-08T06:04:40.514Z"
      },
      {
        "duration": 4,
        "start_time": "2022-12-08T06:04:41.159Z"
      },
      {
        "duration": 20,
        "start_time": "2022-12-08T06:04:41.582Z"
      },
      {
        "duration": 5,
        "start_time": "2022-12-08T06:05:00.263Z"
      },
      {
        "duration": 19,
        "start_time": "2022-12-08T06:05:00.548Z"
      },
      {
        "duration": 5,
        "start_time": "2022-12-08T06:06:36.489Z"
      },
      {
        "duration": 19,
        "start_time": "2022-12-08T06:06:36.959Z"
      },
      {
        "duration": 5,
        "start_time": "2022-12-08T06:07:02.368Z"
      },
      {
        "duration": 29,
        "start_time": "2022-12-08T06:07:02.534Z"
      },
      {
        "duration": 5,
        "start_time": "2022-12-08T06:08:01.798Z"
      },
      {
        "duration": 11,
        "start_time": "2022-12-08T06:08:02.199Z"
      },
      {
        "duration": 4,
        "start_time": "2022-12-08T06:09:04.116Z"
      },
      {
        "duration": 13,
        "start_time": "2022-12-08T06:09:04.481Z"
      },
      {
        "duration": 4,
        "start_time": "2022-12-08T06:09:23.326Z"
      },
      {
        "duration": 18,
        "start_time": "2022-12-08T06:09:23.821Z"
      },
      {
        "duration": 5,
        "start_time": "2022-12-08T06:10:26.508Z"
      },
      {
        "duration": 16,
        "start_time": "2022-12-08T06:10:27.004Z"
      },
      {
        "duration": 3,
        "start_time": "2022-12-08T06:10:44.534Z"
      },
      {
        "duration": 5,
        "start_time": "2022-12-08T06:10:45.265Z"
      },
      {
        "duration": 23,
        "start_time": "2022-12-08T06:10:45.670Z"
      },
      {
        "duration": 3,
        "start_time": "2022-12-08T06:12:03.535Z"
      },
      {
        "duration": 2367,
        "start_time": "2022-12-08T06:12:05.356Z"
      },
      {
        "duration": 4,
        "start_time": "2022-12-08T06:12:13.819Z"
      },
      {
        "duration": 1240,
        "start_time": "2022-12-08T06:12:14.182Z"
      },
      {
        "duration": 4,
        "start_time": "2022-12-08T06:13:41.246Z"
      },
      {
        "duration": 1276,
        "start_time": "2022-12-08T06:13:41.682Z"
      },
      {
        "duration": 5,
        "start_time": "2022-12-08T06:14:02.274Z"
      },
      {
        "duration": 1165,
        "start_time": "2022-12-08T06:14:02.579Z"
      },
      {
        "duration": 5,
        "start_time": "2022-12-08T06:14:39.896Z"
      },
      {
        "duration": 1185,
        "start_time": "2022-12-08T06:14:40.172Z"
      },
      {
        "duration": 4,
        "start_time": "2022-12-08T06:14:50.349Z"
      },
      {
        "duration": 1226,
        "start_time": "2022-12-08T06:14:50.657Z"
      },
      {
        "duration": 64,
        "start_time": "2022-12-08T06:16:09.761Z"
      },
      {
        "duration": 1116,
        "start_time": "2022-12-08T06:16:10.073Z"
      },
      {
        "duration": 4,
        "start_time": "2022-12-08T06:16:18.449Z"
      },
      {
        "duration": 1246,
        "start_time": "2022-12-08T06:16:19.220Z"
      },
      {
        "duration": 5,
        "start_time": "2022-12-08T06:17:48.051Z"
      },
      {
        "duration": 1283,
        "start_time": "2022-12-08T06:17:48.452Z"
      },
      {
        "duration": 5,
        "start_time": "2022-12-08T06:19:13.969Z"
      },
      {
        "duration": 1105,
        "start_time": "2022-12-08T06:19:14.227Z"
      },
      {
        "duration": 5,
        "start_time": "2022-12-08T06:19:30.306Z"
      },
      {
        "duration": 1895,
        "start_time": "2022-12-08T06:19:30.596Z"
      },
      {
        "duration": 6,
        "start_time": "2022-12-08T06:20:59.806Z"
      },
      {
        "duration": 1195,
        "start_time": "2022-12-08T06:21:00.082Z"
      },
      {
        "duration": 5,
        "start_time": "2022-12-08T06:21:44.444Z"
      },
      {
        "duration": 1233,
        "start_time": "2022-12-08T06:21:44.760Z"
      },
      {
        "duration": 5,
        "start_time": "2022-12-08T06:22:27.342Z"
      },
      {
        "duration": 1208,
        "start_time": "2022-12-08T06:22:27.594Z"
      },
      {
        "duration": 5,
        "start_time": "2022-12-08T06:23:03.351Z"
      },
      {
        "duration": 1136,
        "start_time": "2022-12-08T06:23:03.644Z"
      },
      {
        "duration": 5,
        "start_time": "2022-12-08T06:23:31.318Z"
      },
      {
        "duration": 1288,
        "start_time": "2022-12-08T06:23:31.573Z"
      },
      {
        "duration": 6,
        "start_time": "2022-12-08T06:24:31.904Z"
      },
      {
        "duration": 12,
        "start_time": "2022-12-08T06:24:32.457Z"
      },
      {
        "duration": 3,
        "start_time": "2022-12-08T06:25:10.348Z"
      },
      {
        "duration": 5,
        "start_time": "2022-12-08T06:25:25.978Z"
      },
      {
        "duration": 1236,
        "start_time": "2022-12-08T06:25:26.326Z"
      },
      {
        "duration": 5,
        "start_time": "2022-12-08T06:26:20.173Z"
      },
      {
        "duration": 2543,
        "start_time": "2022-12-08T06:26:20.504Z"
      },
      {
        "duration": 5,
        "start_time": "2022-12-08T06:28:24.156Z"
      },
      {
        "duration": 2210,
        "start_time": "2022-12-08T06:28:24.611Z"
      },
      {
        "duration": 5,
        "start_time": "2022-12-08T06:28:33.743Z"
      },
      {
        "duration": 1010,
        "start_time": "2022-12-08T06:28:33.984Z"
      },
      {
        "duration": 5,
        "start_time": "2022-12-08T06:30:03.089Z"
      },
      {
        "duration": 1002,
        "start_time": "2022-12-08T06:30:03.320Z"
      },
      {
        "duration": 5,
        "start_time": "2022-12-08T06:30:18.191Z"
      },
      {
        "duration": 1043,
        "start_time": "2022-12-08T06:30:18.350Z"
      },
      {
        "duration": 6,
        "start_time": "2022-12-08T06:31:12.348Z"
      },
      {
        "duration": 1038,
        "start_time": "2022-12-08T06:31:12.637Z"
      },
      {
        "duration": 994,
        "start_time": "2022-12-08T06:32:55.336Z"
      },
      {
        "duration": 1051,
        "start_time": "2022-12-08T06:33:45.269Z"
      },
      {
        "duration": 992,
        "start_time": "2022-12-08T06:34:20.596Z"
      },
      {
        "duration": 3,
        "start_time": "2022-12-08T06:34:59.679Z"
      },
      {
        "duration": 1456,
        "start_time": "2022-12-08T06:35:02.217Z"
      },
      {
        "duration": 1298,
        "start_time": "2022-12-08T06:35:52.961Z"
      },
      {
        "duration": 4,
        "start_time": "2022-12-08T06:36:19.957Z"
      },
      {
        "duration": 4,
        "start_time": "2022-12-08T06:36:25.821Z"
      },
      {
        "duration": 1026,
        "start_time": "2022-12-08T06:36:27.516Z"
      },
      {
        "duration": 3,
        "start_time": "2022-12-08T06:36:40.940Z"
      },
      {
        "duration": 2329,
        "start_time": "2022-12-08T06:36:44.225Z"
      },
      {
        "duration": 3,
        "start_time": "2022-12-08T06:37:13.276Z"
      },
      {
        "duration": 2402,
        "start_time": "2022-12-08T06:37:15.711Z"
      },
      {
        "duration": 3,
        "start_time": "2022-12-08T06:37:21.933Z"
      },
      {
        "duration": 1000,
        "start_time": "2022-12-08T06:37:24.259Z"
      },
      {
        "duration": 1026,
        "start_time": "2022-12-08T06:37:25.261Z"
      },
      {
        "duration": 42,
        "start_time": "2022-12-08T06:41:27.481Z"
      },
      {
        "duration": 3002,
        "start_time": "2022-12-08T06:41:42.189Z"
      },
      {
        "duration": 2964,
        "start_time": "2022-12-08T06:41:52.532Z"
      },
      {
        "duration": 3,
        "start_time": "2022-12-08T06:54:45.242Z"
      },
      {
        "duration": 383,
        "start_time": "2022-12-08T06:54:45.247Z"
      },
      {
        "duration": 35,
        "start_time": "2022-12-08T06:54:45.631Z"
      },
      {
        "duration": 10,
        "start_time": "2022-12-08T06:54:45.668Z"
      },
      {
        "duration": 33,
        "start_time": "2022-12-08T06:54:45.680Z"
      },
      {
        "duration": 221,
        "start_time": "2022-12-08T06:54:45.715Z"
      },
      {
        "duration": 96,
        "start_time": "2022-12-08T06:54:45.940Z"
      },
      {
        "duration": 14,
        "start_time": "2022-12-08T06:54:46.038Z"
      },
      {
        "duration": 86,
        "start_time": "2022-12-08T06:54:46.054Z"
      },
      {
        "duration": 4,
        "start_time": "2022-12-08T06:54:46.142Z"
      },
      {
        "duration": 8,
        "start_time": "2022-12-08T06:54:46.148Z"
      },
      {
        "duration": 8,
        "start_time": "2022-12-08T06:54:46.158Z"
      },
      {
        "duration": 12,
        "start_time": "2022-12-08T06:54:46.168Z"
      },
      {
        "duration": 3069,
        "start_time": "2022-12-08T06:54:46.182Z"
      },
      {
        "duration": 1473,
        "start_time": "2022-12-08T08:13:32.374Z"
      },
      {
        "duration": 370,
        "start_time": "2022-12-08T08:13:33.849Z"
      },
      {
        "duration": 35,
        "start_time": "2022-12-08T08:13:34.221Z"
      },
      {
        "duration": 9,
        "start_time": "2022-12-08T08:13:34.258Z"
      },
      {
        "duration": 48,
        "start_time": "2022-12-08T08:13:34.268Z"
      },
      {
        "duration": 222,
        "start_time": "2022-12-08T08:13:34.317Z"
      },
      {
        "duration": 98,
        "start_time": "2022-12-08T08:13:34.542Z"
      },
      {
        "duration": 115,
        "start_time": "2022-12-08T08:13:34.642Z"
      },
      {
        "duration": 34,
        "start_time": "2022-12-08T08:13:34.759Z"
      },
      {
        "duration": 14,
        "start_time": "2022-12-08T08:13:34.796Z"
      },
      {
        "duration": 13,
        "start_time": "2022-12-08T08:13:34.812Z"
      },
      {
        "duration": 14,
        "start_time": "2022-12-08T08:13:34.826Z"
      },
      {
        "duration": 10,
        "start_time": "2022-12-08T08:13:34.842Z"
      },
      {
        "duration": 3052,
        "start_time": "2022-12-08T08:13:34.854Z"
      },
      {
        "duration": 1507,
        "start_time": "2022-12-08T08:35:50.237Z"
      },
      {
        "duration": 380,
        "start_time": "2022-12-08T08:35:51.746Z"
      },
      {
        "duration": 43,
        "start_time": "2022-12-08T08:35:52.128Z"
      },
      {
        "duration": 10,
        "start_time": "2022-12-08T08:35:52.173Z"
      },
      {
        "duration": 50,
        "start_time": "2022-12-08T08:35:52.185Z"
      },
      {
        "duration": 302,
        "start_time": "2022-12-08T08:35:52.237Z"
      },
      {
        "duration": 7,
        "start_time": "2022-12-08T08:35:52.542Z"
      },
      {
        "duration": 101,
        "start_time": "2022-12-08T08:35:52.637Z"
      },
      {
        "duration": 9,
        "start_time": "2022-12-08T08:35:52.740Z"
      },
      {
        "duration": 9,
        "start_time": "2022-12-08T08:35:52.752Z"
      },
      {
        "duration": 12,
        "start_time": "2022-12-08T08:35:52.762Z"
      },
      {
        "duration": 12,
        "start_time": "2022-12-08T08:35:52.776Z"
      },
      {
        "duration": 15,
        "start_time": "2022-12-08T08:35:52.790Z"
      },
      {
        "duration": 116,
        "start_time": "2022-12-08T08:35:52.807Z"
      },
      {
        "duration": 1494,
        "start_time": "2022-12-08T08:36:24.780Z"
      },
      {
        "duration": 379,
        "start_time": "2022-12-08T08:36:26.276Z"
      },
      {
        "duration": 39,
        "start_time": "2022-12-08T08:36:26.658Z"
      },
      {
        "duration": 12,
        "start_time": "2022-12-08T08:36:26.699Z"
      },
      {
        "duration": 76,
        "start_time": "2022-12-08T08:36:26.713Z"
      },
      {
        "duration": 148,
        "start_time": "2022-12-08T08:36:26.791Z"
      },
      {
        "duration": 95,
        "start_time": "2022-12-08T08:36:26.942Z"
      },
      {
        "duration": 99,
        "start_time": "2022-12-08T08:36:27.039Z"
      },
      {
        "duration": 21,
        "start_time": "2022-12-08T08:36:27.140Z"
      },
      {
        "duration": 9,
        "start_time": "2022-12-08T08:36:27.164Z"
      },
      {
        "duration": 8,
        "start_time": "2022-12-08T08:36:27.175Z"
      },
      {
        "duration": 12,
        "start_time": "2022-12-08T08:36:27.184Z"
      },
      {
        "duration": 24,
        "start_time": "2022-12-08T08:36:27.197Z"
      },
      {
        "duration": 2963,
        "start_time": "2022-12-08T08:36:27.223Z"
      },
      {
        "duration": 12,
        "start_time": "2022-12-08T08:41:25.466Z"
      },
      {
        "duration": 6,
        "start_time": "2022-12-08T08:41:49.564Z"
      },
      {
        "duration": 6,
        "start_time": "2022-12-08T08:44:37.079Z"
      },
      {
        "duration": 7,
        "start_time": "2022-12-08T08:44:48.527Z"
      },
      {
        "duration": 6,
        "start_time": "2022-12-08T08:44:56.097Z"
      },
      {
        "duration": 6,
        "start_time": "2022-12-08T08:45:16.958Z"
      },
      {
        "duration": 5,
        "start_time": "2022-12-08T08:46:28.988Z"
      },
      {
        "duration": 4,
        "start_time": "2022-12-08T08:46:36.093Z"
      },
      {
        "duration": 4,
        "start_time": "2022-12-08T08:47:11.715Z"
      },
      {
        "duration": 4,
        "start_time": "2022-12-08T08:47:34.197Z"
      },
      {
        "duration": 97,
        "start_time": "2022-12-08T08:49:15.439Z"
      },
      {
        "duration": 6,
        "start_time": "2022-12-08T08:49:22.227Z"
      },
      {
        "duration": 5,
        "start_time": "2022-12-08T08:49:43.474Z"
      },
      {
        "duration": 4,
        "start_time": "2022-12-08T08:50:02.299Z"
      },
      {
        "duration": 4,
        "start_time": "2022-12-08T08:50:24.546Z"
      },
      {
        "duration": 5,
        "start_time": "2022-12-08T08:51:02.746Z"
      },
      {
        "duration": 8,
        "start_time": "2022-12-08T08:52:02.085Z"
      },
      {
        "duration": 5,
        "start_time": "2022-12-08T08:52:25.095Z"
      },
      {
        "duration": 4,
        "start_time": "2022-12-08T08:52:35.057Z"
      },
      {
        "duration": 6,
        "start_time": "2022-12-08T08:52:46.117Z"
      },
      {
        "duration": 58,
        "start_time": "2022-12-09T04:25:00.122Z"
      },
      {
        "duration": 1067,
        "start_time": "2022-12-09T04:25:06.236Z"
      },
      {
        "duration": 2022,
        "start_time": "2022-12-09T04:25:07.305Z"
      },
      {
        "duration": 34,
        "start_time": "2022-12-09T04:25:09.329Z"
      },
      {
        "duration": 10,
        "start_time": "2022-12-09T04:25:09.366Z"
      },
      {
        "duration": 35,
        "start_time": "2022-12-09T04:25:09.377Z"
      },
      {
        "duration": 201,
        "start_time": "2022-12-09T04:25:09.422Z"
      },
      {
        "duration": 5,
        "start_time": "2022-12-09T04:25:09.625Z"
      },
      {
        "duration": 101,
        "start_time": "2022-12-09T04:25:09.632Z"
      },
      {
        "duration": 12,
        "start_time": "2022-12-09T04:25:09.735Z"
      },
      {
        "duration": 6,
        "start_time": "2022-12-09T04:25:09.823Z"
      },
      {
        "duration": 8,
        "start_time": "2022-12-09T04:25:09.831Z"
      },
      {
        "duration": 8,
        "start_time": "2022-12-09T04:25:09.840Z"
      },
      {
        "duration": 8,
        "start_time": "2022-12-09T04:25:09.850Z"
      },
      {
        "duration": 9,
        "start_time": "2022-12-09T04:25:09.860Z"
      },
      {
        "duration": 3128,
        "start_time": "2022-12-09T04:25:09.871Z"
      },
      {
        "duration": 1011,
        "start_time": "2022-12-09T04:27:47.783Z"
      },
      {
        "duration": 380,
        "start_time": "2022-12-09T04:27:48.796Z"
      },
      {
        "duration": 44,
        "start_time": "2022-12-09T04:27:49.178Z"
      },
      {
        "duration": 11,
        "start_time": "2022-12-09T04:27:49.224Z"
      },
      {
        "duration": 40,
        "start_time": "2022-12-09T04:27:49.237Z"
      },
      {
        "duration": 150,
        "start_time": "2022-12-09T04:27:49.279Z"
      },
      {
        "duration": 94,
        "start_time": "2022-12-09T04:27:49.431Z"
      },
      {
        "duration": 98,
        "start_time": "2022-12-09T04:27:49.527Z"
      },
      {
        "duration": 6,
        "start_time": "2022-12-09T04:27:49.627Z"
      },
      {
        "duration": 6,
        "start_time": "2022-12-09T04:27:49.636Z"
      },
      {
        "duration": 7,
        "start_time": "2022-12-09T04:27:49.643Z"
      },
      {
        "duration": 9,
        "start_time": "2022-12-09T04:27:49.652Z"
      },
      {
        "duration": 4,
        "start_time": "2022-12-09T04:27:49.663Z"
      },
      {
        "duration": 6,
        "start_time": "2022-12-09T04:27:49.668Z"
      },
      {
        "duration": 3061,
        "start_time": "2022-12-09T04:27:49.675Z"
      }
    ],
    "toc": {
      "base_numbering": 1,
      "nav_menu": {},
      "number_sections": true,
      "sideBar": true,
      "skip_h1_title": true,
      "title_cell": "Table of Contents",
      "title_sidebar": "Contents",
      "toc_cell": false,
      "toc_position": {
        "height": "calc(100% - 180px)",
        "left": "10px",
        "top": "150px",
        "width": "259.188px"
      },
      "toc_section_display": true,
      "toc_window_display": true
    },
    "kernelspec": {
      "name": "python",
      "display_name": "Python (Pyodide)",
      "language": "python"
    },
    "language_info": {
      "codemirror_mode": {
        "name": "python",
        "version": 3
      },
      "file_extension": ".py",
      "mimetype": "text/x-python",
      "name": "python",
      "nbconvert_exporter": "python",
      "pygments_lexer": "ipython3",
      "version": "3.8"
    }
  },
  "nbformat_minor": 4,
  "nbformat": 4,
  "cells": [
    {
      "cell_type": "markdown",
      "source": "# Выбор локации для скважины",
      "metadata": {}
    },
    {
      "cell_type": "markdown",
      "source": "Нужно определить, в каком регионе выгоднее осуществлять добычу нефти.\n\nПредоставлены пробы нефти в трёх регионах: в каждом 10 000 месторождений, где измерили три показателя скважины и объём её запасов.\n\nШаги для выбора локации:\n\n- В избранном регионе ищут месторождения, для каждого определяют значения признаков;\n- Строят модель и оценивают объём запасов;\n- Выбирают месторождения с самым высокими оценками значений. Количество месторождений зависит от бюджета компании и стоимости разработки одной скважины;\n- Прибыль равна суммарной прибыли отобранных месторождений.\n\nПлан работы:\n- Загрузить и изучить данные;\n- Обучить модели для каждого региона;\n- Подготовить функцию и констатные в рамках задачи значения к расчету прибыли;\n- Расчитать прибыль и риски для каждого региона, с использованием техники *Bootstrap*;\n- Сделать выводы и определить рекомендуемый регион.",
      "metadata": {}
    },
    {
      "cell_type": "markdown",
      "source": "## Загрузка и подготовка данных",
      "metadata": {}
    },
    {
      "cell_type": "code",
      "source": "import pandas as pd\nimport numpy as np\nfrom sklearn.model_selection import train_test_split\nfrom sklearn.linear_model import LinearRegression\nfrom sklearn.metrics import mean_squared_error",
      "metadata": {},
      "execution_count": 1,
      "outputs": []
    },
    {
      "cell_type": "code",
      "source": "data0 = pd.read_csv('/datasets/geo_data_0.csv')\ndata1 = pd.read_csv('/datasets/geo_data_1.csv')\ndata2 = pd.read_csv('/datasets/geo_data_2.csv')",
      "metadata": {},
      "execution_count": 2,
      "outputs": []
    },
    {
      "cell_type": "code",
      "source": "data0.info()\ndata1.info()\ndata2.info()",
      "metadata": {},
      "execution_count": 3,
      "outputs": [
        {
          "name": "stdout",
          "output_type": "stream",
          "text": "<class 'pandas.core.frame.DataFrame'>\n\nRangeIndex: 100000 entries, 0 to 99999\n\nData columns (total 5 columns):\n\n #   Column   Non-Null Count   Dtype  \n\n---  ------   --------------   -----  \n\n 0   id       100000 non-null  object \n\n 1   f0       100000 non-null  float64\n\n 2   f1       100000 non-null  float64\n\n 3   f2       100000 non-null  float64\n\n 4   product  100000 non-null  float64\n\ndtypes: float64(4), object(1)\n\nmemory usage: 3.8+ MB\n\n<class 'pandas.core.frame.DataFrame'>\n\nRangeIndex: 100000 entries, 0 to 99999\n\nData columns (total 5 columns):\n\n #   Column   Non-Null Count   Dtype  \n\n---  ------   --------------   -----  \n\n 0   id       100000 non-null  object \n\n 1   f0       100000 non-null  float64\n\n 2   f1       100000 non-null  float64\n\n 3   f2       100000 non-null  float64\n\n 4   product  100000 non-null  float64\n\ndtypes: float64(4), object(1)\n\nmemory usage: 3.8+ MB\n\n<class 'pandas.core.frame.DataFrame'>\n\nRangeIndex: 100000 entries, 0 to 99999\n\nData columns (total 5 columns):\n\n #   Column   Non-Null Count   Dtype  \n\n---  ------   --------------   -----  \n\n 0   id       100000 non-null  object \n\n 1   f0       100000 non-null  float64\n\n 2   f1       100000 non-null  float64\n\n 3   f2       100000 non-null  float64\n\n 4   product  100000 non-null  float64\n\ndtypes: float64(4), object(1)\n\nmemory usage: 3.8+ MB\n"
        }
      ]
    },
    {
      "cell_type": "markdown",
      "source": "**Вывод:** Имеются данные по трем регионам по 100000 скважин в каждом. Пропуски в данных отсутсвуют. Признаками для обучения модели являются *f0, f1, f2*, а целью значение *product*.",
      "metadata": {}
    },
    {
      "cell_type": "markdown",
      "source": "## Обучение и проверка модели",
      "metadata": {}
    },
    {
      "cell_type": "code",
      "source": "#разделим данные на признаки и результаты\ntarget0 = data0['product']\nfeatures0 = data0.drop(['id', 'product'], axis=1)\n\ntarget1 = data1['product']\nfeatures1 = data1.drop(['id', 'product'], axis=1)\n\ntarget2 = data2['product']\nfeatures2 = data2.drop(['id', 'product'], axis=1)",
      "metadata": {},
      "execution_count": 4,
      "outputs": []
    },
    {
      "cell_type": "code",
      "source": "#Разобьём данные на обучающую и валидационную выборки в соотношении 75:25\nfeatures0_train, features0_valid, target0_train, target0_valid = train_test_split(\n    features0, target0, test_size=0.25, random_state=12345)\n\nfeatures1_train, features1_valid, target1_train, target1_valid = train_test_split(\n    features1, target1, test_size=0.25, random_state=12345)\n\nfeatures2_train, features2_valid, target2_train, target2_valid = train_test_split(\n    features2, target2, test_size=0.25, random_state=12345)",
      "metadata": {},
      "execution_count": 5,
      "outputs": []
    },
    {
      "cell_type": "code",
      "source": "#Обучим модель и сделаем предсказания на валидационной выборке\n#Используем модель линейной регрессии, так как другие модели недостаточно предсказуемые\nmodel0 = LinearRegression()\nmodel0.fit(features0_train, target0_train)\npredicted0_valid = model0.predict(features0_valid)\n\nmodel1 = LinearRegression()\nmodel1.fit(features1_train, target1_train)\npredicted1_valid = model1.predict(features1_valid)\n\nmodel2 = LinearRegression()\nmodel2.fit(features2_train, target2_train)\npredicted2_valid = model2.predict(features2_valid)",
      "metadata": {},
      "execution_count": 6,
      "outputs": []
    },
    {
      "cell_type": "code",
      "source": "print('Показатели первого региона')\nprint('Средний запас предсказанного сырья =', predicted0_valid.mean(), 'RMSE =', \n      mean_squared_error(target0_valid, predicted0_valid)**0.5)",
      "metadata": {},
      "execution_count": 7,
      "outputs": [
        {
          "name": "stdout",
          "output_type": "stream",
          "text": "Показатели первого региона\n\nСредний запас предсказанного сырья = 92.59256778438035 RMSE = 37.5794217150813\n"
        }
      ]
    },
    {
      "cell_type": "code",
      "source": "print('Показатели второго региона')\nprint('Средний запас предсказанного сырья =', predicted1_valid.mean(), 'RMSE =', \n      mean_squared_error(target1_valid, predicted1_valid)**0.5)",
      "metadata": {},
      "execution_count": 8,
      "outputs": [
        {
          "name": "stdout",
          "output_type": "stream",
          "text": "Показатели второго региона\n\nСредний запас предсказанного сырья = 68.728546895446 RMSE = 0.893099286775617\n"
        }
      ]
    },
    {
      "cell_type": "code",
      "source": "print('Показатели третьегго региона')\nprint('Средний запас предсказанного сырья =', predicted2_valid.mean(), 'RMSE =', \n      mean_squared_error(target2_valid, predicted2_valid)**0.5)",
      "metadata": {},
      "execution_count": 9,
      "outputs": [
        {
          "name": "stdout",
          "output_type": "stream",
          "text": "Показатели третьегго региона\n\nСредний запас предсказанного сырья = 94.96504596800489 RMSE = 40.02970873393434\n"
        }
      ]
    },
    {
      "cell_type": "markdown",
      "source": "**Вывод:** Предсказанное количество сырья в первом и третьем регионе близкое по значению, а так же большое значение ошибки до 40% от среднего запаса. Во втором регионе средний запас предсказанного сырья значительно ниже, чем в двух других, но так же в нем значительно меньшее значение показателя RMSE.",
      "metadata": {}
    },
    {
      "cell_type": "markdown",
      "source": "## Подготовка к расчёту прибыли",
      "metadata": {}
    },
    {
      "cell_type": "code",
      "source": "#Сохраним ключевые значения для расчета прибыли\n#Сумма, необходимая, чтобы начать разработку 200 скважин и разведку 500\nbudget = 10000000000\n#Доход получаемый с единицы продукта\nincome_per_unit = 450000\n#Количество разрабатываемых скважин\nquantity = 200",
      "metadata": {},
      "execution_count": 10,
      "outputs": []
    },
    {
      "cell_type": "code",
      "source": "#Рассчитаем достаточный объём сырья для безубыточной разработки новой скважины\nmin_volume = budget / income_per_unit / quantity\nprint(min_volume)",
      "metadata": {},
      "execution_count": 11,
      "outputs": [
        {
          "name": "stdout",
          "output_type": "stream",
          "text": "111.11111111111111\n"
        }
      ]
    },
    {
      "cell_type": "code",
      "source": "for p in [target0_valid, target1_valid, target2_valid]:\n    print(p.mean())",
      "metadata": {},
      "execution_count": 12,
      "outputs": [
        {
          "name": "stdout",
          "output_type": "stream",
          "text": "92.07859674082927\n\n68.72313602435997\n\n94.88423280885438\n"
        }
      ]
    },
    {
      "cell_type": "markdown",
      "source": "**Вывод** при затратах на разработку в 10млрд и доходе с каждой единицы продукта 450тыс, при разработке 200 скважин, в каждой из них должно быть не меньше 112 единиц продукта, чтобы покрыть расходы.\n\nСреднее значение объема скважин во всех регионах ниже этого значения.",
      "metadata": {}
    },
    {
      "cell_type": "code",
      "source": "def income (target, prediction, quantity):\n    max_predict = prediction.sort_values(ascending=False)\n    target = target.reset_index(drop=True)\n    max_wells = target[max_predict.index][:quantity]\n    sum_target = max_wells.sum()\n    return (sum_target * income_per_unit)",
      "metadata": {},
      "execution_count": 13,
      "outputs": []
    },
    {
      "cell_type": "markdown",
      "source": "## Расчёт прибыли и рисков ",
      "metadata": {}
    },
    {
      "cell_type": "code",
      "source": "def profit_risc (targets, predictions):\n    values = []\n    state = np.random.RandomState(12345)\n    for i in range(1000):        \n        target = targets.reset_index(drop=True)\n        target = target.sample(500, replace=True, random_state=state)        \n        prediction = pd.Series(predictions[target.index])\n        incomes = income(target, prediction, quantity)\n        values.append(incomes-budget)\n    \n    k = 0\n    for i in values:\n        if i<0:\n            k+=1\n            \n    values = pd.DataFrame(values)\n    quant_0025 = values.quantile(0.025)\n    quant_0975 = values.quantile(0.975)\n    risc = k / len(values)\n    mean = values.mean()   \n\n    print('Среднее значение прибыли =', mean[0])\n    print('Нижние 2.5% =', quant_0025[0], ', верхние 2.5% =', quant_0975[0])\n    print('Соотношние отрицательной прибыли к количеству проверок =', risc)\n    \n    return quant_0975, mean, risc",
      "metadata": {},
      "execution_count": 14,
      "outputs": []
    },
    {
      "cell_type": "code",
      "source": "for t, p, r in [\n    (target0_valid, predicted0_valid, 'первого'),\n    (target1_valid, predicted1_valid, 'второго'),\n    (target2_valid, predicted2_valid, 'третьего')\n]:\n    print(f'Для {r} региона показатели полученные при 1000 выборок по 500 скважин следующие')\n    profit_risc(t, p)\n    print()",
      "metadata": {},
      "execution_count": 15,
      "outputs": [
        {
          "name": "stdout",
          "output_type": "stream",
          "text": "Для первого региона показатели полученные при 1000 выборок по 500 скважин следующие\n\nСреднее значение прибыли = 396164984.8023711\n\nНижние 2.5% = -111215545.89049526 , верхние 2.5% = 909766941.5534226\n\nСоотношние отрицательной прибыли к количеству проверок = 0.069\n\n\n\nДля второго региона показатели полученные при 1000 выборок по 500 скважин следующие\n\nСреднее значение прибыли = 456045105.7866608\n\nНижние 2.5% = 33820509.39898363 , верхние 2.5% = 852289453.866036\n\nСоотношние отрицательной прибыли к количеству проверок = 0.015\n\n\n\nДля третьего региона показатели полученные при 1000 выборок по 500 скважин следующие\n\nСреднее значение прибыли = 404403866.5683568\n\nНижние 2.5% = -163350413.39560106 , верхние 2.5% = 950359574.9237995\n\nСоотношние отрицательной прибыли к количеству проверок = 0.076\n\n\n"
        }
      ]
    },
    {
      "cell_type": "markdown",
      "source": "**Вывод:** после получения распределения возможной прибыли при использовании техники Bootstrap, обнаружены следующие результаты:\n- Для первого и третьего региона вероятность разрабатывать убыточные скважины более 0,07\n- Для второго региона эта вероятно составляет 0,015\n\nТаким образом, наиболее подходящим регионо для разработки является второй, в нем наименьшая веротяность убытков и высокий поазатель средней прибыли.",
      "metadata": {}
    },
    {
      "cell_type": "code",
      "source": "",
      "metadata": {},
      "execution_count": null,
      "outputs": []
    }
  ]
}